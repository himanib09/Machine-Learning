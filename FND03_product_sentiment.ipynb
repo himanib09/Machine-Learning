{
  "nbformat": 4,
  "nbformat_minor": 0,
  "metadata": {
    "kernelspec": {
      "display_name": "Python 2",
      "language": "python",
      "name": "python2"
    },
    "language_info": {
      "codemirror_mode": {
        "name": "ipython",
        "version": 2
      },
      "file_extension": ".py",
      "mimetype": "text/x-python",
      "name": "python",
      "nbconvert_exporter": "python",
      "pygments_lexer": "ipython2",
      "version": "2.7.10"
    },
    "colab": {
      "name": "FND03-product-sentiment.ipynb",
      "provenance": [],
      "collapsed_sections": [],
      "include_colab_link": true
    }
  },
  "cells": [
    {
      "cell_type": "markdown",
      "metadata": {
        "id": "view-in-github",
        "colab_type": "text"
      },
      "source": [
        "<a href=\"https://colab.research.google.com/github/himanib09/Machine-Learning/blob/master/FND03_product_sentiment.ipynb\" target=\"_parent\"><img src=\"https://colab.research.google.com/assets/colab-badge.svg\" alt=\"Open In Colab\"/></a>"
      ]
    },
    {
      "cell_type": "markdown",
      "metadata": {
        "id": "uCTPiXrz-Y9D",
        "colab_type": "text"
      },
      "source": [
        "# Analyze Product Sentiment"
      ]
    },
    {
      "cell_type": "code",
      "metadata": {
        "id": "7Ku2tWs7-tE4",
        "colab_type": "code",
        "colab": {
          "base_uri": "https://localhost:8080/",
          "height": 1000
        },
        "outputId": "0245a23a-ef12-4d66-a4d8-8e50d0911cdf"
      },
      "source": [
        "!pip install turicreate"
      ],
      "execution_count": null,
      "outputs": [
        {
          "output_type": "stream",
          "text": [
            "Collecting turicreate\n",
            "\u001b[?25l  Downloading https://files.pythonhosted.org/packages/c5/e3/5ef42a9fa8b25940d65c0c8d6893a589f78862c1bb992564d4545176f321/turicreate-6.3-cp27-cp27mu-manylinux1_x86_64.whl (91.8MB)\n",
            "\u001b[K     |████████████████████████████████| 91.8MB 74kB/s \n",
            "\u001b[?25hCollecting pillow>=5.2.0\n",
            "\u001b[?25l  Downloading https://files.pythonhosted.org/packages/12/ad/61f8dfba88c4e56196bf6d056cdbba64dc9c5dfdfbc97d02e6472feed913/Pillow-6.2.2-cp27-cp27mu-manylinux1_x86_64.whl (2.1MB)\n",
            "\u001b[K     |████████████████████████████████| 2.1MB 38.1MB/s \n",
            "\u001b[?25hRequirement already satisfied: numpy in /usr/local/lib/python2.7/dist-packages (from turicreate) (1.16.4)\n",
            "Requirement already satisfied: requests>=2.9.1 in /usr/local/lib/python2.7/dist-packages (from turicreate) (2.23.0)\n",
            "Requirement already satisfied: prettytable==0.7.2 in /usr/local/lib/python2.7/dist-packages (from turicreate) (0.7.2)\n",
            "Collecting llvmlite==0.31.0\n",
            "\u001b[?25l  Downloading https://files.pythonhosted.org/packages/91/07/90cd9cdd43b287960b16dbf7929bff2267dc0b6647e8e0117a4937b19620/llvmlite-0.31.0-cp27-cp27mu-manylinux1_x86_64.whl (20.2MB)\n",
            "\u001b[K     |████████████████████████████████| 20.2MB 1.4MB/s \n",
            "\u001b[?25hRequirement already satisfied: pandas>=0.23.2 in /usr/local/lib/python2.7/dist-packages (from turicreate) (0.24.2)\n",
            "Requirement already satisfied: decorator>=4.0.9 in /usr/local/lib/python2.7/dist-packages (from turicreate) (4.4.0)\n",
            "Requirement already satisfied: scipy>=1.1.0 in /usr/local/lib/python2.7/dist-packages (from turicreate) (1.2.2)\n",
            "Requirement already satisfied: six>=1.10.0 in /usr/local/lib/python2.7/dist-packages (from turicreate) (1.12.0)\n",
            "Requirement already satisfied: resampy==0.2.1 in /usr/local/lib/python2.7/dist-packages (from turicreate) (0.2.1)\n",
            "Collecting coremltools==3.3\n",
            "\u001b[?25l  Downloading https://files.pythonhosted.org/packages/46/9b/f6feac5d9369c68ee718d3c3140435452773a36ff08ef3bcc4fe378e8676/coremltools-3.3-cp27-none-manylinux1_x86_64.whl (3.4MB)\n",
            "\u001b[K     |████████████████████████████████| 3.4MB 37.8MB/s \n",
            "\u001b[?25hCollecting tensorflow<=2.0.1,>=2.0.0\n",
            "\u001b[?25l  Downloading https://files.pythonhosted.org/packages/17/08/1ff15637a03b1565dd6cb0916b3ca6873db3a1fc69be0ed851be936e5633/tensorflow-2.0.0-cp27-cp27mu-manylinux2010_x86_64.whl (86.3MB)\n",
            "\u001b[K     |████████████████████████████████| 86.3MB 46kB/s \n",
            "\u001b[?25hRequirement already satisfied: urllib3!=1.25.0,!=1.25.1,<1.26,>=1.21.1 in /usr/local/lib/python2.7/dist-packages (from requests>=2.9.1->turicreate) (1.24.3)\n",
            "Requirement already satisfied: chardet<4,>=3.0.2 in /usr/local/lib/python2.7/dist-packages (from requests>=2.9.1->turicreate) (3.0.4)\n",
            "Requirement already satisfied: certifi>=2017.4.17 in /usr/local/lib/python2.7/dist-packages (from requests>=2.9.1->turicreate) (2019.6.16)\n",
            "Requirement already satisfied: idna<3,>=2.5 in /usr/local/lib/python2.7/dist-packages (from requests>=2.9.1->turicreate) (2.8)\n",
            "Requirement already satisfied: enum34; python_version < \"3.4\" in /usr/local/lib/python2.7/dist-packages (from llvmlite==0.31.0->turicreate) (1.1.6)\n",
            "Requirement already satisfied: pytz>=2011k in /usr/local/lib/python2.7/dist-packages (from pandas>=0.23.2->turicreate) (2018.9)\n",
            "Requirement already satisfied: python-dateutil>=2.5.0 in /usr/local/lib/python2.7/dist-packages (from pandas>=0.23.2->turicreate) (2.5.3)\n",
            "Requirement already satisfied: numba>=0.32 in /usr/local/lib/python2.7/dist-packages (from resampy==0.2.1->turicreate) (0.40.1)\n",
            "Requirement already satisfied: protobuf>=3.1.0 in /usr/local/lib/python2.7/dist-packages (from coremltools==3.3->turicreate) (3.8.0)\n",
            "Requirement already satisfied: gast==0.2.2 in /usr/local/lib/python2.7/dist-packages (from tensorflow<=2.0.1,>=2.0.0->turicreate) (0.2.2)\n",
            "Requirement already satisfied: grpcio>=1.8.6 in /usr/local/lib/python2.7/dist-packages (from tensorflow<=2.0.1,>=2.0.0->turicreate) (1.15.0)\n",
            "Collecting tensorboard<2.1.0,>=2.0.0\n",
            "\u001b[?25l  Downloading https://files.pythonhosted.org/packages/a7/3d/993131c622ae34f9401a81526853f2310a4834bd042420a7982fb5bc5fd0/tensorboard-2.0.2-py2-none-any.whl (3.8MB)\n",
            "\u001b[K     |████████████████████████████████| 3.8MB 36.9MB/s \n",
            "\u001b[?25hRequirement already satisfied: wrapt>=1.11.1 in /usr/local/lib/python2.7/dist-packages (from tensorflow<=2.0.1,>=2.0.0->turicreate) (1.11.2)\n",
            "Requirement already satisfied: keras-preprocessing>=1.0.5 in /usr/local/lib/python2.7/dist-packages (from tensorflow<=2.0.1,>=2.0.0->turicreate) (1.1.0)\n",
            "Requirement already satisfied: backports.weakref>=1.0rc1; python_version < \"3.4\" in /usr/local/lib/python2.7/dist-packages (from tensorflow<=2.0.1,>=2.0.0->turicreate) (1.0.post1)\n",
            "Requirement already satisfied: keras-applications>=1.0.8 in /usr/local/lib/python2.7/dist-packages (from tensorflow<=2.0.1,>=2.0.0->turicreate) (1.0.8)\n",
            "Requirement already satisfied: mock>=2.0.0 in /usr/local/lib/python2.7/dist-packages (from tensorflow<=2.0.1,>=2.0.0->turicreate) (2.0.0)\n",
            "Requirement already satisfied: wheel in /usr/local/lib/python2.7/dist-packages (from tensorflow<=2.0.1,>=2.0.0->turicreate) (0.34.2)\n",
            "Requirement already satisfied: functools32>=3.2.3 in /usr/local/lib/python2.7/dist-packages (from tensorflow<=2.0.1,>=2.0.0->turicreate) (3.2.3.post2)\n",
            "Requirement already satisfied: absl-py>=0.7.0 in /usr/local/lib/python2.7/dist-packages (from tensorflow<=2.0.1,>=2.0.0->turicreate) (0.7.1)\n",
            "Requirement already satisfied: opt-einsum>=2.3.2 in /usr/local/lib/python2.7/dist-packages (from tensorflow<=2.0.1,>=2.0.0->turicreate) (2.3.2)\n",
            "Requirement already satisfied: termcolor>=1.1.0 in /usr/local/lib/python2.7/dist-packages (from tensorflow<=2.0.1,>=2.0.0->turicreate) (1.1.0)\n",
            "Requirement already satisfied: google-pasta>=0.1.6 in /usr/local/lib/python2.7/dist-packages (from tensorflow<=2.0.1,>=2.0.0->turicreate) (0.1.7)\n",
            "Collecting tensorflow-estimator<2.1.0,>=2.0.0\n",
            "\u001b[?25l  Downloading https://files.pythonhosted.org/packages/fc/08/8b927337b7019c374719145d1dceba21a8bb909b93b1ad6f8fb7d22c1ca1/tensorflow_estimator-2.0.1-py2.py3-none-any.whl (449kB)\n",
            "\u001b[K     |████████████████████████████████| 450kB 49.3MB/s \n",
            "\u001b[?25hRequirement already satisfied: astor>=0.6.0 in /usr/local/lib/python2.7/dist-packages (from tensorflow<=2.0.1,>=2.0.0->turicreate) (0.8.0)\n",
            "Requirement already satisfied: funcsigs in /usr/local/lib/python2.7/dist-packages (from numba>=0.32->resampy==0.2.1->turicreate) (1.0.2)\n",
            "Requirement already satisfied: singledispatch in /usr/local/lib/python2.7/dist-packages (from numba>=0.32->resampy==0.2.1->turicreate) (3.4.0.3)\n",
            "Requirement already satisfied: setuptools in /usr/local/lib/python2.7/dist-packages (from protobuf>=3.1.0->coremltools==3.3->turicreate) (44.1.1)\n",
            "Requirement already satisfied: futures>=2.2.0 in /usr/local/lib/python2.7/dist-packages (from grpcio>=1.8.6->tensorflow<=2.0.1,>=2.0.0->turicreate) (3.2.0)\n",
            "Collecting google-auth-oauthlib<0.5,>=0.4.1\n",
            "  Downloading https://files.pythonhosted.org/packages/7b/b8/88def36e74bee9fce511c9519571f4e485e890093ab7442284f4ffaef60b/google_auth_oauthlib-0.4.1-py2.py3-none-any.whl\n",
            "Requirement already satisfied: werkzeug>=0.11.15 in /usr/local/lib/python2.7/dist-packages (from tensorboard<2.1.0,>=2.0.0->tensorflow<=2.0.1,>=2.0.0->turicreate) (0.15.5)\n",
            "Requirement already satisfied: google-auth<2,>=1.6.3 in /usr/local/lib/python2.7/dist-packages (from tensorboard<2.1.0,>=2.0.0->tensorflow<=2.0.1,>=2.0.0->turicreate) (1.7.2)\n",
            "Requirement already satisfied: markdown>=2.6.8 in /usr/local/lib/python2.7/dist-packages (from tensorboard<2.1.0,>=2.0.0->tensorflow<=2.0.1,>=2.0.0->turicreate) (3.1.1)\n",
            "Requirement already satisfied: h5py in /usr/local/lib/python2.7/dist-packages (from keras-applications>=1.0.8->tensorflow<=2.0.1,>=2.0.0->turicreate) (2.8.0)\n",
            "Requirement already satisfied: pbr>=0.11 in /usr/local/lib/python2.7/dist-packages (from mock>=2.0.0->tensorflow<=2.0.1,>=2.0.0->turicreate) (5.4.0)\n",
            "Requirement already satisfied: requests-oauthlib>=0.7.0 in /usr/local/lib/python2.7/dist-packages (from google-auth-oauthlib<0.5,>=0.4.1->tensorboard<2.1.0,>=2.0.0->tensorflow<=2.0.1,>=2.0.0->turicreate) (1.2.0)\n",
            "Requirement already satisfied: pyasn1-modules>=0.2.1 in /usr/local/lib/python2.7/dist-packages (from google-auth<2,>=1.6.3->tensorboard<2.1.0,>=2.0.0->tensorflow<=2.0.1,>=2.0.0->turicreate) (0.2.5)\n",
            "Requirement already satisfied: cachetools<3.2,>=2.0.0 in /usr/local/lib/python2.7/dist-packages (from google-auth<2,>=1.6.3->tensorboard<2.1.0,>=2.0.0->tensorflow<=2.0.1,>=2.0.0->turicreate) (3.1.1)\n",
            "Requirement already satisfied: rsa<4.1,>=3.1.4 in /usr/local/lib/python2.7/dist-packages (from google-auth<2,>=1.6.3->tensorboard<2.1.0,>=2.0.0->tensorflow<=2.0.1,>=2.0.0->turicreate) (4.0)\n",
            "Requirement already satisfied: oauthlib>=3.0.0 in /usr/local/lib/python2.7/dist-packages (from requests-oauthlib>=0.7.0->google-auth-oauthlib<0.5,>=0.4.1->tensorboard<2.1.0,>=2.0.0->tensorflow<=2.0.1,>=2.0.0->turicreate) (3.0.2)\n",
            "Requirement already satisfied: pyasn1<0.5.0,>=0.4.1 in /usr/local/lib/python2.7/dist-packages (from pyasn1-modules>=0.2.1->google-auth<2,>=1.6.3->tensorboard<2.1.0,>=2.0.0->tensorflow<=2.0.1,>=2.0.0->turicreate) (0.4.5)\n",
            "\u001b[31mERROR: fastai 0.7.0 has requirement torch<0.4, but you'll have torch 1.4.0 which is incompatible.\u001b[0m\n",
            "\u001b[31mERROR: tensorboard 2.0.2 has requirement grpcio>=1.24.3, but you'll have grpcio 1.15.0 which is incompatible.\u001b[0m\n",
            "Installing collected packages: pillow, llvmlite, coremltools, google-auth-oauthlib, tensorboard, tensorflow-estimator, tensorflow, turicreate\n",
            "  Found existing installation: Pillow 4.3.0\n",
            "    Uninstalling Pillow-4.3.0:\n",
            "      Successfully uninstalled Pillow-4.3.0\n",
            "  Found existing installation: llvmlite 0.29.0\n",
            "    Uninstalling llvmlite-0.29.0:\n",
            "      Successfully uninstalled llvmlite-0.29.0\n",
            "  Found existing installation: google-auth-oauthlib 0.4.0\n",
            "    Uninstalling google-auth-oauthlib-0.4.0:\n",
            "      Successfully uninstalled google-auth-oauthlib-0.4.0\n",
            "  Found existing installation: tensorboard 2.1.0\n",
            "    Uninstalling tensorboard-2.1.0:\n",
            "      Successfully uninstalled tensorboard-2.1.0\n",
            "  Found existing installation: tensorflow-estimator 1.15.0\n",
            "    Uninstalling tensorflow-estimator-1.15.0:\n",
            "      Successfully uninstalled tensorflow-estimator-1.15.0\n",
            "  Found existing installation: tensorflow 2.1.0\n",
            "    Uninstalling tensorflow-2.1.0:\n",
            "      Successfully uninstalled tensorflow-2.1.0\n",
            "Successfully installed coremltools-3.3 google-auth-oauthlib-0.4.1 llvmlite-0.31.0 pillow-6.2.2 tensorboard-2.0.2 tensorflow-2.0.0 tensorflow-estimator-2.0.1 turicreate-6.3\n"
          ],
          "name": "stdout"
        },
        {
          "output_type": "display_data",
          "data": {
            "application/vnd.colab-display-data+json": {
              "pip_warning": {
                "packages": [
                  "PIL"
                ]
              }
            }
          },
          "metadata": {
            "tags": []
          }
        }
      ]
    },
    {
      "cell_type": "code",
      "metadata": {
        "id": "GQhOrSGB_fZR",
        "colab_type": "code",
        "colab": {
          "base_uri": "https://localhost:8080/",
          "height": 34
        },
        "outputId": "840202b6-fa8e-4eb6-b962-ca77b3ddef14"
      },
      "source": [
        "from google.colab import drive\n",
        "drive.mount('/content/drive')"
      ],
      "execution_count": null,
      "outputs": [
        {
          "output_type": "stream",
          "text": [
            "Drive already mounted at /content/drive; to attempt to forcibly remount, call drive.mount(\"/content/drive\", force_remount=True).\n"
          ],
          "name": "stdout"
        }
      ]
    },
    {
      "cell_type": "code",
      "metadata": {
        "id": "nR5-MZQQABZu",
        "colab_type": "code",
        "colab": {
          "base_uri": "https://localhost:8080/",
          "height": 34
        },
        "outputId": "39bab4d8-e8d0-42b8-dfcb-ade03bc83996"
      },
      "source": [
        "# change the working directory of your code on google drive\n",
        "%cd/content/drive/My Drive/Colab Notebooks"
      ],
      "execution_count": null,
      "outputs": [
        {
          "output_type": "stream",
          "text": [
            "/content/drive/My Drive/Colab Notebooks\n"
          ],
          "name": "stdout"
        }
      ]
    },
    {
      "cell_type": "code",
      "metadata": {
        "id": "Di00mIl5-Y9G",
        "colab_type": "code",
        "colab": {}
      },
      "source": [
        "import turicreate"
      ],
      "execution_count": null,
      "outputs": []
    },
    {
      "cell_type": "markdown",
      "metadata": {
        "id": "WMMFVXXq-Y9N",
        "colab_type": "text"
      },
      "source": [
        "# Read product review data"
      ]
    },
    {
      "cell_type": "code",
      "metadata": {
        "id": "Fwja69Bu-Y9O",
        "colab_type": "code",
        "colab": {}
      },
      "source": [
        "products = turicreate.SFrame('data/amazon_baby.sframe')"
      ],
      "execution_count": null,
      "outputs": []
    },
    {
      "cell_type": "markdown",
      "metadata": {
        "id": "NOBxuaMu-Y9S",
        "colab_type": "text"
      },
      "source": [
        "# Explore data"
      ]
    },
    {
      "cell_type": "code",
      "metadata": {
        "id": "gW2suTAh-Y9T",
        "colab_type": "code",
        "colab": {
          "base_uri": "https://localhost:8080/",
          "height": 449
        },
        "outputId": "9defe63c-ee80-472b-ce6f-405477b4757f"
      },
      "source": [
        "products"
      ],
      "execution_count": null,
      "outputs": [
        {
          "output_type": "execute_result",
          "data": {
            "text/plain": [
              "Columns:\n",
              "\tname\tstr\n",
              "\treview\tstr\n",
              "\trating\tfloat\n",
              "\n",
              "Rows: 183531\n",
              "\n",
              "Data:\n",
              "+-------------------------------+-------------------------------+--------+\n",
              "|              name             |             review            | rating |\n",
              "+-------------------------------+-------------------------------+--------+\n",
              "|    Planetwise Flannel Wipes   | These flannel wipes are OK... |  3.0   |\n",
              "|     Planetwise Wipe Pouch     | it came early and was not ... |  5.0   |\n",
              "| Annas Dream Full Quilt wit... | Very soft and comfortable ... |  5.0   |\n",
              "| Stop Pacifier Sucking with... | This is a product well wor... |  5.0   |\n",
              "| Stop Pacifier Sucking with... | All of my kids have cried ... |  5.0   |\n",
              "| Stop Pacifier Sucking with... | When the Binky Fairy came ... |  5.0   |\n",
              "| A Tale of Baby's Days with... | Lovely book, it's bound ti... |  4.0   |\n",
              "| Baby Tracker&reg; - Daily ... | Perfect for new parents. W... |  5.0   |\n",
              "| Baby Tracker&reg; - Daily ... | A friend of mine pinned th... |  5.0   |\n",
              "| Baby Tracker&reg; - Daily ... | This has been an easy way ... |  4.0   |\n",
              "+-------------------------------+-------------------------------+--------+\n",
              "[183531 rows x 3 columns]\n",
              "Note: Only the head of the SFrame is printed.\n",
              "You can use print_rows(num_rows=m, num_columns=n) to print more rows and columns."
            ],
            "text/html": [
              "<div style=\"max-height:1000px;max-width:1500px;overflow:auto;\"><table frame=\"box\" rules=\"cols\">\n",
              "    <tr>\n",
              "        <th style=\"padding-left: 1em; padding-right: 1em; text-align: center\">name</th>\n",
              "        <th style=\"padding-left: 1em; padding-right: 1em; text-align: center\">review</th>\n",
              "        <th style=\"padding-left: 1em; padding-right: 1em; text-align: center\">rating</th>\n",
              "    </tr>\n",
              "    <tr>\n",
              "        <td style=\"padding-left: 1em; padding-right: 1em; text-align: center; vertical-align: top\">Planetwise Flannel Wipes</td>\n",
              "        <td style=\"padding-left: 1em; padding-right: 1em; text-align: center; vertical-align: top\">These flannel wipes are<br>OK, but in my opinion ...</td>\n",
              "        <td style=\"padding-left: 1em; padding-right: 1em; text-align: center; vertical-align: top\">3.0</td>\n",
              "    </tr>\n",
              "    <tr>\n",
              "        <td style=\"padding-left: 1em; padding-right: 1em; text-align: center; vertical-align: top\">Planetwise Wipe Pouch</td>\n",
              "        <td style=\"padding-left: 1em; padding-right: 1em; text-align: center; vertical-align: top\">it came early and was not<br>disappointed. i love ...</td>\n",
              "        <td style=\"padding-left: 1em; padding-right: 1em; text-align: center; vertical-align: top\">5.0</td>\n",
              "    </tr>\n",
              "    <tr>\n",
              "        <td style=\"padding-left: 1em; padding-right: 1em; text-align: center; vertical-align: top\">Annas Dream Full Quilt<br>with 2 Shams ...</td>\n",
              "        <td style=\"padding-left: 1em; padding-right: 1em; text-align: center; vertical-align: top\">Very soft and comfortable<br>and warmer than it ...</td>\n",
              "        <td style=\"padding-left: 1em; padding-right: 1em; text-align: center; vertical-align: top\">5.0</td>\n",
              "    </tr>\n",
              "    <tr>\n",
              "        <td style=\"padding-left: 1em; padding-right: 1em; text-align: center; vertical-align: top\">Stop Pacifier Sucking<br>without tears with ...</td>\n",
              "        <td style=\"padding-left: 1em; padding-right: 1em; text-align: center; vertical-align: top\">This is a product well<br>worth the purchase.  I ...</td>\n",
              "        <td style=\"padding-left: 1em; padding-right: 1em; text-align: center; vertical-align: top\">5.0</td>\n",
              "    </tr>\n",
              "    <tr>\n",
              "        <td style=\"padding-left: 1em; padding-right: 1em; text-align: center; vertical-align: top\">Stop Pacifier Sucking<br>without tears with ...</td>\n",
              "        <td style=\"padding-left: 1em; padding-right: 1em; text-align: center; vertical-align: top\">All of my kids have cried<br>non-stop when I tried to ...</td>\n",
              "        <td style=\"padding-left: 1em; padding-right: 1em; text-align: center; vertical-align: top\">5.0</td>\n",
              "    </tr>\n",
              "    <tr>\n",
              "        <td style=\"padding-left: 1em; padding-right: 1em; text-align: center; vertical-align: top\">Stop Pacifier Sucking<br>without tears with ...</td>\n",
              "        <td style=\"padding-left: 1em; padding-right: 1em; text-align: center; vertical-align: top\">When the Binky Fairy came<br>to our house, we didn't ...</td>\n",
              "        <td style=\"padding-left: 1em; padding-right: 1em; text-align: center; vertical-align: top\">5.0</td>\n",
              "    </tr>\n",
              "    <tr>\n",
              "        <td style=\"padding-left: 1em; padding-right: 1em; text-align: center; vertical-align: top\">A Tale of Baby's Days<br>with Peter Rabbit ...</td>\n",
              "        <td style=\"padding-left: 1em; padding-right: 1em; text-align: center; vertical-align: top\">Lovely book, it's bound<br>tightly so you may no ...</td>\n",
              "        <td style=\"padding-left: 1em; padding-right: 1em; text-align: center; vertical-align: top\">4.0</td>\n",
              "    </tr>\n",
              "    <tr>\n",
              "        <td style=\"padding-left: 1em; padding-right: 1em; text-align: center; vertical-align: top\">Baby Tracker&amp;reg; - Daily<br>Childcare Journal, ...</td>\n",
              "        <td style=\"padding-left: 1em; padding-right: 1em; text-align: center; vertical-align: top\">Perfect for new parents.<br>We were able to keep ...</td>\n",
              "        <td style=\"padding-left: 1em; padding-right: 1em; text-align: center; vertical-align: top\">5.0</td>\n",
              "    </tr>\n",
              "    <tr>\n",
              "        <td style=\"padding-left: 1em; padding-right: 1em; text-align: center; vertical-align: top\">Baby Tracker&amp;reg; - Daily<br>Childcare Journal, ...</td>\n",
              "        <td style=\"padding-left: 1em; padding-right: 1em; text-align: center; vertical-align: top\">A friend of mine pinned<br>this product on Pinte ...</td>\n",
              "        <td style=\"padding-left: 1em; padding-right: 1em; text-align: center; vertical-align: top\">5.0</td>\n",
              "    </tr>\n",
              "    <tr>\n",
              "        <td style=\"padding-left: 1em; padding-right: 1em; text-align: center; vertical-align: top\">Baby Tracker&amp;reg; - Daily<br>Childcare Journal, ...</td>\n",
              "        <td style=\"padding-left: 1em; padding-right: 1em; text-align: center; vertical-align: top\">This has been an easy way<br>for my nanny to record ...</td>\n",
              "        <td style=\"padding-left: 1em; padding-right: 1em; text-align: center; vertical-align: top\">4.0</td>\n",
              "    </tr>\n",
              "</table>\n",
              "[183531 rows x 3 columns]<br/>Note: Only the head of the SFrame is printed.<br/>You can use print_rows(num_rows=m, num_columns=n) to print more rows and columns.\n",
              "</div>"
            ]
          },
          "metadata": {
            "tags": []
          },
          "execution_count": 5
        }
      ]
    },
    {
      "cell_type": "code",
      "metadata": {
        "id": "qY5_NlgK-Y9Y",
        "colab_type": "code",
        "colab": {
          "base_uri": "https://localhost:8080/",
          "height": 449
        },
        "outputId": "9bb61ef7-f0d5-4a6b-b47a-a3204cc155d7"
      },
      "source": [
        "products.groupby('name',operations={'count':turicreate.aggregate.COUNT()}).sort('count',ascending=False)"
      ],
      "execution_count": null,
      "outputs": [
        {
          "output_type": "execute_result",
          "data": {
            "text/plain": [
              "Columns:\n",
              "\tname\tstr\n",
              "\tcount\tint\n",
              "\n",
              "Rows: 32419\n",
              "\n",
              "Data:\n",
              "+--------------------------------+-------+\n",
              "|              name              | count |\n",
              "+--------------------------------+-------+\n",
              "| Vulli Sophie the Giraffe T...  |  785  |\n",
              "| Simple Wishes Hands-Free B...  |  562  |\n",
              "| Infant Optics DXR-5 2.4 GH...  |  561  |\n",
              "| Baby Einstein Take Along Tunes |  547  |\n",
              "| Cloud b Twilight Constella...  |  520  |\n",
              "| Fisher-Price Booster Seat,...  |  489  |\n",
              "| Fisher-Price Rainforest Ju...  |  450  |\n",
              "| Graco Nautilus 3-in-1 Car ...  |  419  |\n",
              "| Leachco Snoogle Total Body...  |  388  |\n",
              "| Regalo Easy Step Walk Thru...  |  374  |\n",
              "+--------------------------------+-------+\n",
              "[32419 rows x 2 columns]\n",
              "Note: Only the head of the SFrame is printed.\n",
              "You can use print_rows(num_rows=m, num_columns=n) to print more rows and columns."
            ],
            "text/html": [
              "<div style=\"max-height:1000px;max-width:1500px;overflow:auto;\"><table frame=\"box\" rules=\"cols\">\n",
              "    <tr>\n",
              "        <th style=\"padding-left: 1em; padding-right: 1em; text-align: center\">name</th>\n",
              "        <th style=\"padding-left: 1em; padding-right: 1em; text-align: center\">count</th>\n",
              "    </tr>\n",
              "    <tr>\n",
              "        <td style=\"padding-left: 1em; padding-right: 1em; text-align: center; vertical-align: top\">Vulli Sophie the Giraffe<br>Teether ...</td>\n",
              "        <td style=\"padding-left: 1em; padding-right: 1em; text-align: center; vertical-align: top\">785</td>\n",
              "    </tr>\n",
              "    <tr>\n",
              "        <td style=\"padding-left: 1em; padding-right: 1em; text-align: center; vertical-align: top\">Simple Wishes Hands-Free<br>Breastpump Bra, Pink, ...</td>\n",
              "        <td style=\"padding-left: 1em; padding-right: 1em; text-align: center; vertical-align: top\">562</td>\n",
              "    </tr>\n",
              "    <tr>\n",
              "        <td style=\"padding-left: 1em; padding-right: 1em; text-align: center; vertical-align: top\">Infant Optics DXR-5 2.4<br>GHz Digital Video Baby ...</td>\n",
              "        <td style=\"padding-left: 1em; padding-right: 1em; text-align: center; vertical-align: top\">561</td>\n",
              "    </tr>\n",
              "    <tr>\n",
              "        <td style=\"padding-left: 1em; padding-right: 1em; text-align: center; vertical-align: top\">Baby Einstein Take Along<br>Tunes ...</td>\n",
              "        <td style=\"padding-left: 1em; padding-right: 1em; text-align: center; vertical-align: top\">547</td>\n",
              "    </tr>\n",
              "    <tr>\n",
              "        <td style=\"padding-left: 1em; padding-right: 1em; text-align: center; vertical-align: top\">Cloud b Twilight<br>Constellation Night ...</td>\n",
              "        <td style=\"padding-left: 1em; padding-right: 1em; text-align: center; vertical-align: top\">520</td>\n",
              "    </tr>\n",
              "    <tr>\n",
              "        <td style=\"padding-left: 1em; padding-right: 1em; text-align: center; vertical-align: top\">Fisher-Price Booster<br>Seat, Blue/Green/Gray ...</td>\n",
              "        <td style=\"padding-left: 1em; padding-right: 1em; text-align: center; vertical-align: top\">489</td>\n",
              "    </tr>\n",
              "    <tr>\n",
              "        <td style=\"padding-left: 1em; padding-right: 1em; text-align: center; vertical-align: top\">Fisher-Price Rainforest<br>Jumperoo ...</td>\n",
              "        <td style=\"padding-left: 1em; padding-right: 1em; text-align: center; vertical-align: top\">450</td>\n",
              "    </tr>\n",
              "    <tr>\n",
              "        <td style=\"padding-left: 1em; padding-right: 1em; text-align: center; vertical-align: top\">Graco Nautilus 3-in-1 Car<br>Seat, Matrix ...</td>\n",
              "        <td style=\"padding-left: 1em; padding-right: 1em; text-align: center; vertical-align: top\">419</td>\n",
              "    </tr>\n",
              "    <tr>\n",
              "        <td style=\"padding-left: 1em; padding-right: 1em; text-align: center; vertical-align: top\">Leachco Snoogle Total<br>Body Pillow ...</td>\n",
              "        <td style=\"padding-left: 1em; padding-right: 1em; text-align: center; vertical-align: top\">388</td>\n",
              "    </tr>\n",
              "    <tr>\n",
              "        <td style=\"padding-left: 1em; padding-right: 1em; text-align: center; vertical-align: top\">Regalo Easy Step Walk<br>Thru Gate, White ...</td>\n",
              "        <td style=\"padding-left: 1em; padding-right: 1em; text-align: center; vertical-align: top\">374</td>\n",
              "    </tr>\n",
              "</table>\n",
              "[32419 rows x 2 columns]<br/>Note: Only the head of the SFrame is printed.<br/>You can use print_rows(num_rows=m, num_columns=n) to print more rows and columns.\n",
              "</div>"
            ]
          },
          "metadata": {
            "tags": []
          },
          "execution_count": 6
        }
      ]
    },
    {
      "cell_type": "markdown",
      "metadata": {
        "id": "O_KNzw_7-Y9d",
        "colab_type": "text"
      },
      "source": [
        "# Examine the reivews for the most-reviewed product"
      ]
    },
    {
      "cell_type": "code",
      "metadata": {
        "id": "6ebQ_1Ab-Y9d",
        "colab_type": "code",
        "colab": {}
      },
      "source": [
        "giraffe_reviews = products[products['name']=='Vulli Sophie the Giraffe Teether']"
      ],
      "execution_count": null,
      "outputs": []
    },
    {
      "cell_type": "code",
      "metadata": {
        "id": "ZfajwUIy-Y9j",
        "colab_type": "code",
        "colab": {
          "base_uri": "https://localhost:8080/",
          "height": 449
        },
        "outputId": "5019df61-2910-416f-e03e-f8a72d79e9d8"
      },
      "source": [
        "giraffe_reviews"
      ],
      "execution_count": null,
      "outputs": [
        {
          "output_type": "execute_result",
          "data": {
            "text/plain": [
              "Columns:\n",
              "\tname\tstr\n",
              "\treview\tstr\n",
              "\trating\tfloat\n",
              "\n",
              "Rows: Unknown\n",
              "\n",
              "Data:\n",
              "+-------------------------------+-------------------------------+--------+\n",
              "|              name             |             review            | rating |\n",
              "+-------------------------------+-------------------------------+--------+\n",
              "| Vulli Sophie the Giraffe T... | He likes chewing on all th... |  5.0   |\n",
              "| Vulli Sophie the Giraffe T... | My son loves this toy and ... |  5.0   |\n",
              "| Vulli Sophie the Giraffe T... | There really should be a l... |  1.0   |\n",
              "| Vulli Sophie the Giraffe T... | All the moms in my moms' g... |  5.0   |\n",
              "| Vulli Sophie the Giraffe T... | I was a little skeptical o... |  5.0   |\n",
              "| Vulli Sophie the Giraffe T... | I have been reading about ... |  5.0   |\n",
              "| Vulli Sophie the Giraffe T... | My neice loves her sophie ... |  5.0   |\n",
              "| Vulli Sophie the Giraffe T... | What a friendly face!  And... |  5.0   |\n",
              "| Vulli Sophie the Giraffe T... | We got this just for my so... |  5.0   |\n",
              "| Vulli Sophie the Giraffe T... | My baby seems to like this... |  3.0   |\n",
              "+-------------------------------+-------------------------------+--------+\n",
              "[? rows x 3 columns]\n",
              "Note: Only the head of the SFrame is printed. This SFrame is lazily evaluated.\n",
              "You can use sf.materialize() to force materialization."
            ],
            "text/html": [
              "<div style=\"max-height:1000px;max-width:1500px;overflow:auto;\"><table frame=\"box\" rules=\"cols\">\n",
              "    <tr>\n",
              "        <th style=\"padding-left: 1em; padding-right: 1em; text-align: center\">name</th>\n",
              "        <th style=\"padding-left: 1em; padding-right: 1em; text-align: center\">review</th>\n",
              "        <th style=\"padding-left: 1em; padding-right: 1em; text-align: center\">rating</th>\n",
              "    </tr>\n",
              "    <tr>\n",
              "        <td style=\"padding-left: 1em; padding-right: 1em; text-align: center; vertical-align: top\">Vulli Sophie the Giraffe<br>Teether ...</td>\n",
              "        <td style=\"padding-left: 1em; padding-right: 1em; text-align: center; vertical-align: top\">He likes chewing on all<br>the parts especially the ...</td>\n",
              "        <td style=\"padding-left: 1em; padding-right: 1em; text-align: center; vertical-align: top\">5.0</td>\n",
              "    </tr>\n",
              "    <tr>\n",
              "        <td style=\"padding-left: 1em; padding-right: 1em; text-align: center; vertical-align: top\">Vulli Sophie the Giraffe<br>Teether ...</td>\n",
              "        <td style=\"padding-left: 1em; padding-right: 1em; text-align: center; vertical-align: top\">My son loves this toy and<br>fits great in the diaper ...</td>\n",
              "        <td style=\"padding-left: 1em; padding-right: 1em; text-align: center; vertical-align: top\">5.0</td>\n",
              "    </tr>\n",
              "    <tr>\n",
              "        <td style=\"padding-left: 1em; padding-right: 1em; text-align: center; vertical-align: top\">Vulli Sophie the Giraffe<br>Teether ...</td>\n",
              "        <td style=\"padding-left: 1em; padding-right: 1em; text-align: center; vertical-align: top\">There really should be a<br>large warning on the  ...</td>\n",
              "        <td style=\"padding-left: 1em; padding-right: 1em; text-align: center; vertical-align: top\">1.0</td>\n",
              "    </tr>\n",
              "    <tr>\n",
              "        <td style=\"padding-left: 1em; padding-right: 1em; text-align: center; vertical-align: top\">Vulli Sophie the Giraffe<br>Teether ...</td>\n",
              "        <td style=\"padding-left: 1em; padding-right: 1em; text-align: center; vertical-align: top\">All the moms in my moms'<br>group got Sophie for ...</td>\n",
              "        <td style=\"padding-left: 1em; padding-right: 1em; text-align: center; vertical-align: top\">5.0</td>\n",
              "    </tr>\n",
              "    <tr>\n",
              "        <td style=\"padding-left: 1em; padding-right: 1em; text-align: center; vertical-align: top\">Vulli Sophie the Giraffe<br>Teether ...</td>\n",
              "        <td style=\"padding-left: 1em; padding-right: 1em; text-align: center; vertical-align: top\">I was a little skeptical<br>on whether Sophie was ...</td>\n",
              "        <td style=\"padding-left: 1em; padding-right: 1em; text-align: center; vertical-align: top\">5.0</td>\n",
              "    </tr>\n",
              "    <tr>\n",
              "        <td style=\"padding-left: 1em; padding-right: 1em; text-align: center; vertical-align: top\">Vulli Sophie the Giraffe<br>Teether ...</td>\n",
              "        <td style=\"padding-left: 1em; padding-right: 1em; text-align: center; vertical-align: top\">I have been reading about<br>Sophie and was going  ...</td>\n",
              "        <td style=\"padding-left: 1em; padding-right: 1em; text-align: center; vertical-align: top\">5.0</td>\n",
              "    </tr>\n",
              "    <tr>\n",
              "        <td style=\"padding-left: 1em; padding-right: 1em; text-align: center; vertical-align: top\">Vulli Sophie the Giraffe<br>Teether ...</td>\n",
              "        <td style=\"padding-left: 1em; padding-right: 1em; text-align: center; vertical-align: top\">My neice loves her sophie<br>and has spent hours ...</td>\n",
              "        <td style=\"padding-left: 1em; padding-right: 1em; text-align: center; vertical-align: top\">5.0</td>\n",
              "    </tr>\n",
              "    <tr>\n",
              "        <td style=\"padding-left: 1em; padding-right: 1em; text-align: center; vertical-align: top\">Vulli Sophie the Giraffe<br>Teether ...</td>\n",
              "        <td style=\"padding-left: 1em; padding-right: 1em; text-align: center; vertical-align: top\">What a friendly face!<br>And those mesmerizing ...</td>\n",
              "        <td style=\"padding-left: 1em; padding-right: 1em; text-align: center; vertical-align: top\">5.0</td>\n",
              "    </tr>\n",
              "    <tr>\n",
              "        <td style=\"padding-left: 1em; padding-right: 1em; text-align: center; vertical-align: top\">Vulli Sophie the Giraffe<br>Teether ...</td>\n",
              "        <td style=\"padding-left: 1em; padding-right: 1em; text-align: center; vertical-align: top\">We got this just for my<br>son to chew on instea ...</td>\n",
              "        <td style=\"padding-left: 1em; padding-right: 1em; text-align: center; vertical-align: top\">5.0</td>\n",
              "    </tr>\n",
              "    <tr>\n",
              "        <td style=\"padding-left: 1em; padding-right: 1em; text-align: center; vertical-align: top\">Vulli Sophie the Giraffe<br>Teether ...</td>\n",
              "        <td style=\"padding-left: 1em; padding-right: 1em; text-align: center; vertical-align: top\">My baby seems to like<br>this toy, but I could ...</td>\n",
              "        <td style=\"padding-left: 1em; padding-right: 1em; text-align: center; vertical-align: top\">3.0</td>\n",
              "    </tr>\n",
              "</table>\n",
              "[? rows x 3 columns]<br/>Note: Only the head of the SFrame is printed. This SFrame is lazily evaluated.<br/>You can use sf.materialize() to force materialization.\n",
              "</div>"
            ]
          },
          "metadata": {
            "tags": []
          },
          "execution_count": 9
        }
      ]
    },
    {
      "cell_type": "code",
      "metadata": {
        "id": "puqFbpZ4-Y9p",
        "colab_type": "code",
        "colab": {
          "base_uri": "https://localhost:8080/",
          "height": 34
        },
        "outputId": "35378d21-17fe-4f0e-c319-e7a00175e7c8"
      },
      "source": [
        "len(giraffe_reviews)"
      ],
      "execution_count": null,
      "outputs": [
        {
          "output_type": "execute_result",
          "data": {
            "text/plain": [
              "785"
            ]
          },
          "metadata": {
            "tags": []
          },
          "execution_count": 10
        }
      ]
    },
    {
      "cell_type": "code",
      "metadata": {
        "id": "iY7DFtuR-Y9u",
        "colab_type": "code",
        "colab": {
          "base_uri": "https://localhost:8080/",
          "height": 808
        },
        "outputId": "6742ead1-8dea-4452-da06-648cb7adc0e0"
      },
      "source": [
        "giraffe_reviews['rating'].show()"
      ],
      "execution_count": null,
      "outputs": [
        {
          "output_type": "display_data",
          "data": {
            "text/plain": [
              "Materializing SArray"
            ],
            "text/html": [
              "<pre>Materializing SArray</pre>"
            ]
          },
          "metadata": {
            "tags": []
          }
        },
        {
          "output_type": "display_data",
          "data": {
            "text/plain": [
              "<IPython.core.display.HTML object>"
            ],
            "text/html": [
              "<html>                 <body>                     <iframe style=\"border:0;margin:0\" width=\"920\" height=\"770\" srcdoc='<html lang=\"en\">                         <head>                             <script src=\"https://cdnjs.cloudflare.com/ajax/libs/vega/5.4.0/vega.js\"></script>                             <script src=\"https://cdnjs.cloudflare.com/ajax/libs/vega-embed/4.0.0/vega-embed.js\"></script>                             <script src=\"https://cdnjs.cloudflare.com/ajax/libs/vega-tooltip/0.5.1/vega-tooltip.min.js\"></script>                             <link rel=\"stylesheet\" type=\"text/css\" href=\"https://cdnjs.cloudflare.com/ajax/libs/vega-tooltip/0.5.1/vega-tooltip.min.css\">                             <style>                             .vega-actions > a{                                 color:white;                                 text-decoration: none;                                 font-family: \"Arial\";                                 cursor:pointer;                                 padding:5px;                                 background:#AAAAAA;                                 border-radius:4px;                                 padding-left:10px;                                 padding-right:10px;                                 margin-right:5px;                             }                             .vega-actions{                                 margin-top:20px;                                 text-align:center                             }                            .vega-actions > a{                                 background:#999999;                            }                             </style>                         </head>                         <body>                             <div id=\"vis\">                             </div>                             <script>                                 var vega_json = \"{\\\"signals\\\": [{\\\"name\\\": \\\"bins\\\", \\\"update\\\": \\\"data(\\\\\\\"bins_data\\\\\\\")[0]\\\"}, {\\\"name\\\": \\\"binCount\\\", \\\"update\\\": \\\"(bins.stop - bins.start) / bins.step\\\"}, {\\\"name\\\": \\\"nullGap\\\", \\\"update\\\": \\\"data(\\\\\\\"nulls\\\\\\\").length ? 10 : 0\\\"}, {\\\"name\\\": \\\"barStep\\\", \\\"update\\\": \\\"(width - nullGap) / (1 + binCount)\\\"}], \\\"autosize\\\": {\\\"contains\\\": \\\"padding\\\", \\\"type\\\": \\\"fit\\\", \\\"resize\\\": false}, \\\"axes\\\": [{\\\"grid\\\": true, \\\"scale\\\": \\\"xscale\\\", \\\"tickMinStep\\\": 1, \\\"orient\\\": \\\"bottom\\\", \\\"title\\\": \\\"Values\\\"}, {\\\"scale\\\": \\\"xscale-null\\\", \\\"orient\\\": \\\"bottom\\\"}, {\\\"scale\\\": \\\"yscale\\\", \\\"title\\\": \\\"Count\\\", \\\"tickCount\\\": 5, \\\"grid\\\": true, \\\"offset\\\": {\\\"signal\\\": \\\"nullGap ? 5 : 0\\\"}, \\\"orient\\\": \\\"left\\\"}], \\\"description\\\": \\\"A simple bar chart with embedded data.\\\", \\\"title\\\": \\\"Distribution of Values [float]\\\", \\\"config\\\": {\\\"style\\\": {\\\"cell\\\": {\\\"stroke\\\": \\\"transparent\\\"}, \\\"rect\\\": {\\\"stroke\\\": \\\"rgba(200, 200, 200, 0.5)\\\"}, \\\"group-title\\\": {\\\"fontWeight\\\": \\\"normal\\\", \\\"font\\\": \\\"HelveticaNeue, Arial\\\", \\\"fontSize\\\": 29, \\\"fill\\\": \\\"rgba(0,0,0,0.65)\\\"}}, \\\"title\\\": {\\\"color\\\": \\\"rgba(0,0,0,0.847)\\\", \\\"fontWeight\\\": \\\"normal\\\", \\\"font\\\": \\\"\\\\\\\"San Francisco\\\\\\\", HelveticaNeue, Arial\\\", \\\"fontSize\\\": 18, \\\"offset\\\": 30}, \\\"axisY\\\": {\\\"minExtent\\\": 30}, \\\"range\\\": {\\\"heatmap\\\": {\\\"scheme\\\": \\\"greenblue\\\"}}, \\\"legend\\\": {\\\"labelFont\\\": \\\"\\\\\\\"San Francisco\\\\\\\", HelveticaNeue, Arial\\\", \\\"labelColor\\\": \\\"rgba(0,0,0,0.847)\\\", \\\"titleFont\\\": \\\"\\\\\\\"San Francisco\\\\\\\", HelveticaNeue, Arial\\\", \\\"cornerRadius\\\": 30, \\\"titleColor\\\": \\\"rgba(0,0,0,0.847)\\\", \\\"gradientLength\\\": 608}, \\\"axis\\\": {\\\"titlePadding\\\": 20, \\\"titleColor\\\": \\\"rgba(0,0,0,0.847)\\\", \\\"titleFont\\\": \\\"\\\\\\\"San Francisco\\\\\\\", HelveticaNeue, Arial\\\", \\\"labelPadding\\\": 10, \\\"labelFont\\\": \\\"\\\\\\\"San Francisco\\\\\\\", HelveticaNeue, Arial\\\", \\\"labelFontSize\\\": 12, \\\"labelColor\\\": \\\"rgba(0,0,0,0.847)\\\", \\\"gridColor\\\": \\\"rgba(204,204,204,1.0)\\\", \\\"titleFontSize\\\": 14, \\\"tickColor\\\": \\\"rgb(136,136,136)\\\", \\\"titleFontWeight\\\": \\\"normal\\\"}}, \\\"scales\\\": [{\\\"domain\\\": {\\\"fields\\\": [{\\\"field\\\": \\\"count\\\", \\\"data\\\": \\\"counts\\\"}, {\\\"field\\\": \\\"count\\\", \\\"data\\\": \\\"nulls\\\"}]}, \\\"name\\\": \\\"yscale\\\", \\\"range\\\": \\\"height\\\", \\\"type\\\": \\\"linear\\\", \\\"round\\\": true, \\\"nice\\\": true}, {\\\"domain\\\": {\\\"signal\\\": \\\"[bins.start, bins.stop]\\\"}, \\\"name\\\": \\\"xscale\\\", \\\"range\\\": [{\\\"signal\\\": \\\"nullGap ? barStep + nullGap : 0\\\"}, {\\\"signal\\\": \\\"width\\\"}], \\\"type\\\": \\\"linear\\\", \\\"round\\\": true, \\\"bins\\\": {\\\"signal\\\": \\\"bins\\\"}}, {\\\"range\\\": [{\\\"signal\\\": \\\"nullGap ? 0 : 1\\\"}, {\\\"signal\\\": \\\"nullGap ? barStep : 0\\\"}], \\\"type\\\": \\\"band\\\", \\\"name\\\": \\\"xscale-null\\\", \\\"domain\\\": [{\\\"signal\\\": \\\"nullGap ? null : &apos;&apos;\\\"}], \\\"round\\\": true}], \\\"style\\\": \\\"cell\\\", \\\"height\\\": 550, \\\"padding\\\": 8, \\\"width\\\": 720, \\\"marks\\\": [{\\\"encode\\\": {\\\"hover\\\": {\\\"fill\\\": {\\\"value\\\": \\\"#7EC2F3\\\"}}, \\\"update\\\": {\\\"x2\\\": {\\\"field\\\": \\\"right\\\", \\\"scale\\\": \\\"xscale\\\"}, \\\"x\\\": {\\\"field\\\": \\\"left\\\", \\\"scale\\\": \\\"xscale\\\", \\\"offset\\\": 1}, \\\"y2\\\": {\\\"scale\\\": \\\"yscale\\\", \\\"value\\\": 0}, \\\"y\\\": {\\\"field\\\": \\\"count\\\", \\\"scale\\\": \\\"yscale\\\"}, \\\"fill\\\": {\\\"value\\\": \\\"#108EE9\\\"}}}, \\\"from\\\": {\\\"data\\\": \\\"counts\\\"}, \\\"type\\\": \\\"rect\\\"}, {\\\"encode\\\": {\\\"hover\\\": {\\\"fill\\\": {\\\"value\\\": \\\"#7EC2F3\\\"}}, \\\"update\\\": {\\\"x2\\\": {\\\"band\\\": 1, \\\"scale\\\": \\\"xscale-null\\\"}, \\\"x\\\": {\\\"scale\\\": \\\"xscale-null\\\", \\\"value\\\": null, \\\"offset\\\": 1}, \\\"y2\\\": {\\\"scale\\\": \\\"yscale\\\", \\\"value\\\": 0}, \\\"y\\\": {\\\"field\\\": \\\"count\\\", \\\"scale\\\": \\\"yscale\\\"}, \\\"fill\\\": {\\\"value\\\": \\\"#108EE9\\\"}}}, \\\"from\\\": {\\\"data\\\": \\\"nulls\\\"}, \\\"type\\\": \\\"rect\\\"}], \\\"$schema\\\": \\\"https://vega.github.io/schema/vega/v4.json\\\", \\\"data\\\": [{\\\"values\\\": [{\\\"count\\\": 56, \\\"right\\\": 1.1594, \\\"left\\\": 0.9546}, {\\\"count\\\": 0, \\\"right\\\": 1.3642, \\\"left\\\": 1.1594}, {\\\"count\\\": 0, \\\"right\\\": 1.569, \\\"left\\\": 1.3642}, {\\\"count\\\": 0, \\\"right\\\": 1.7738, \\\"left\\\": 1.569}, {\\\"count\\\": 0, \\\"right\\\": 1.9786, \\\"left\\\": 1.7738}, {\\\"count\\\": 37, \\\"right\\\": 2.1834, \\\"left\\\": 1.9786}, {\\\"count\\\": 0, \\\"right\\\": 2.3882, \\\"left\\\": 2.1834}, {\\\"count\\\": 0, \\\"right\\\": 2.593, \\\"left\\\": 2.3882}, {\\\"count\\\": 0, \\\"right\\\": 2.7978, \\\"left\\\": 2.593}, {\\\"count\\\": 62, \\\"right\\\": 3.0026, \\\"left\\\": 2.7978}, {\\\"count\\\": 0, \\\"right\\\": 3.2074, \\\"left\\\": 3.0026}, {\\\"count\\\": 0, \\\"right\\\": 3.4122, \\\"left\\\": 3.2074}, {\\\"count\\\": 0, \\\"right\\\": 3.617, \\\"left\\\": 3.4122}, {\\\"count\\\": 0, \\\"right\\\": 3.8218, \\\"left\\\": 3.617}, {\\\"count\\\": 95, \\\"right\\\": 4.0266, \\\"left\\\": 3.8218}, {\\\"count\\\": 0, \\\"right\\\": 4.2314, \\\"left\\\": 4.0266}, {\\\"count\\\": 0, \\\"right\\\": 4.4362, \\\"left\\\": 4.2314}, {\\\"count\\\": 0, \\\"right\\\": 4.641, \\\"left\\\": 4.4362}, {\\\"count\\\": 0, \\\"right\\\": 4.8458, \\\"left\\\": 4.641}, {\\\"count\\\": 535, \\\"right\\\": 5.0506, \\\"left\\\": 4.8458}, {\\\"start\\\": 0.9546, \\\"step\\\": 0.2048, \\\"stop\\\": 5.0506}], \\\"name\\\": \\\"source_2\\\"}, {\\\"source\\\": \\\"source_2\\\", \\\"name\\\": \\\"counts\\\", \\\"transform\\\": [{\\\"expr\\\": \\\"datum[\\\\\\\"missing\\\\\\\"] !== true &amp;&amp; datum[\\\\\\\"count\\\\\\\"] != null\\\", \\\"type\\\": \\\"filter\\\"}]}, {\\\"source\\\": \\\"source_2\\\", \\\"name\\\": \\\"nulls\\\", \\\"transform\\\": [{\\\"expr\\\": \\\"datum[\\\\\\\"missing\\\\\\\"] === true &amp;&amp; datum[\\\\\\\"count\\\\\\\"] != null\\\", \\\"type\\\": \\\"filter\\\"}]}, {\\\"source\\\": \\\"source_2\\\", \\\"name\\\": \\\"bins_data\\\", \\\"transform\\\": [{\\\"expr\\\": \\\"datum[\\\\\\\"start\\\\\\\"] != null &amp;&amp; datum[\\\\\\\"stop\\\\\\\"] != null &amp;&amp; datum[\\\\\\\"step\\\\\\\"] != null\\\", \\\"type\\\": \\\"filter\\\"}]}]}\";                                 var vega_json_parsed = JSON.parse(vega_json);                                 var toolTipOpts = {                                     showAllFields: true                                 };                                 if(vega_json_parsed[\"metadata\"] != null){                                     if(vega_json_parsed[\"metadata\"][\"bubbleOpts\"] != null){                                         toolTipOpts = vega_json_parsed[\"metadata\"][\"bubbleOpts\"];                                     };                                 };                                 vegaEmbed(\"#vis\", vega_json_parsed).then(function (result) {                                     vegaTooltip.vega(result.view, toolTipOpts);                                  });                             </script>                         </body>                     </html>' src=\"demo_iframe_srcdoc.htm\">                         <p>Your browser does not support iframes.</p>                     </iframe>                 </body>             </html>"
            ]
          },
          "metadata": {
            "tags": []
          }
        }
      ]
    },
    {
      "cell_type": "markdown",
      "metadata": {
        "id": "YiDwrmuE-Y9y",
        "colab_type": "text"
      },
      "source": [
        "# Building a sentiment classifier"
      ]
    },
    {
      "cell_type": "markdown",
      "metadata": {
        "id": "Yn_Aubo3-Y9y",
        "colab_type": "text"
      },
      "source": [
        "## Build word count vectors"
      ]
    },
    {
      "cell_type": "code",
      "metadata": {
        "id": "l-lT53ZD-Y9z",
        "colab_type": "code",
        "colab": {}
      },
      "source": [
        "products['word_count'] = turicreate.text_analytics.count_words(products['review'])"
      ],
      "execution_count": null,
      "outputs": []
    },
    {
      "cell_type": "code",
      "metadata": {
        "id": "J_CCtQUL-Y93",
        "colab_type": "code",
        "colab": {
          "base_uri": "https://localhost:8080/",
          "height": 449
        },
        "outputId": "7a39bcee-109d-4be7-b10f-45e43f635b59"
      },
      "source": [
        "products"
      ],
      "execution_count": null,
      "outputs": [
        {
          "output_type": "execute_result",
          "data": {
            "text/plain": [
              "Columns:\n",
              "\tname\tstr\n",
              "\treview\tstr\n",
              "\trating\tfloat\n",
              "\tword_count\tdict\n",
              "\n",
              "Rows: 183531\n",
              "\n",
              "Data:\n",
              "+-------------------------------+-------------------------------+--------+\n",
              "|              name             |             review            | rating |\n",
              "+-------------------------------+-------------------------------+--------+\n",
              "|    Planetwise Flannel Wipes   | These flannel wipes are OK... |  3.0   |\n",
              "|     Planetwise Wipe Pouch     | it came early and was not ... |  5.0   |\n",
              "| Annas Dream Full Quilt wit... | Very soft and comfortable ... |  5.0   |\n",
              "| Stop Pacifier Sucking with... | This is a product well wor... |  5.0   |\n",
              "| Stop Pacifier Sucking with... | All of my kids have cried ... |  5.0   |\n",
              "| Stop Pacifier Sucking with... | When the Binky Fairy came ... |  5.0   |\n",
              "| A Tale of Baby's Days with... | Lovely book, it's bound ti... |  4.0   |\n",
              "| Baby Tracker&reg; - Daily ... | Perfect for new parents. W... |  5.0   |\n",
              "| Baby Tracker&reg; - Daily ... | A friend of mine pinned th... |  5.0   |\n",
              "| Baby Tracker&reg; - Daily ... | This has been an easy way ... |  4.0   |\n",
              "+-------------------------------+-------------------------------+--------+\n",
              "+-------------------------------+\n",
              "|           word_count          |\n",
              "+-------------------------------+\n",
              "| {'and': 5.0, 'stink': 1.0,... |\n",
              "| {'and': 3.0, 'love': 1.0, ... |\n",
              "| {'and': 2.0, 'quilt': 1.0,... |\n",
              "| {'and': 3.0, 'ingenious': ... |\n",
              "| {'and': 2.0, 'this': 2.0, ... |\n",
              "| {'and': 2.0, 'cute': 1.0, ... |\n",
              "| {'shop': 1.0, 'be': 1.0, '... |\n",
              "| {'and': 2.0, 'all': 1.0, '... |\n",
              "| {'and': 1.0, 'fantastic': ... |\n",
              "| {'pre': 1.0, 'all': 1.0, '... |\n",
              "+-------------------------------+\n",
              "[183531 rows x 4 columns]\n",
              "Note: Only the head of the SFrame is printed.\n",
              "You can use print_rows(num_rows=m, num_columns=n) to print more rows and columns."
            ],
            "text/html": [
              "<div style=\"max-height:1000px;max-width:1500px;overflow:auto;\"><table frame=\"box\" rules=\"cols\">\n",
              "    <tr>\n",
              "        <th style=\"padding-left: 1em; padding-right: 1em; text-align: center\">name</th>\n",
              "        <th style=\"padding-left: 1em; padding-right: 1em; text-align: center\">review</th>\n",
              "        <th style=\"padding-left: 1em; padding-right: 1em; text-align: center\">rating</th>\n",
              "        <th style=\"padding-left: 1em; padding-right: 1em; text-align: center\">word_count</th>\n",
              "    </tr>\n",
              "    <tr>\n",
              "        <td style=\"padding-left: 1em; padding-right: 1em; text-align: center; vertical-align: top\">Planetwise Flannel Wipes</td>\n",
              "        <td style=\"padding-left: 1em; padding-right: 1em; text-align: center; vertical-align: top\">These flannel wipes are<br>OK, but in my opinion ...</td>\n",
              "        <td style=\"padding-left: 1em; padding-right: 1em; text-align: center; vertical-align: top\">3.0</td>\n",
              "        <td style=\"padding-left: 1em; padding-right: 1em; text-align: center; vertical-align: top\">{'and': 5.0, 'stink':<br>1.0, 'months': 1.0, ...</td>\n",
              "    </tr>\n",
              "    <tr>\n",
              "        <td style=\"padding-left: 1em; padding-right: 1em; text-align: center; vertical-align: top\">Planetwise Wipe Pouch</td>\n",
              "        <td style=\"padding-left: 1em; padding-right: 1em; text-align: center; vertical-align: top\">it came early and was not<br>disappointed. i love ...</td>\n",
              "        <td style=\"padding-left: 1em; padding-right: 1em; text-align: center; vertical-align: top\">5.0</td>\n",
              "        <td style=\"padding-left: 1em; padding-right: 1em; text-align: center; vertical-align: top\">{'and': 3.0, 'love': 1.0,<br>'it': 3.0, 'highly':  ...</td>\n",
              "    </tr>\n",
              "    <tr>\n",
              "        <td style=\"padding-left: 1em; padding-right: 1em; text-align: center; vertical-align: top\">Annas Dream Full Quilt<br>with 2 Shams ...</td>\n",
              "        <td style=\"padding-left: 1em; padding-right: 1em; text-align: center; vertical-align: top\">Very soft and comfortable<br>and warmer than it ...</td>\n",
              "        <td style=\"padding-left: 1em; padding-right: 1em; text-align: center; vertical-align: top\">5.0</td>\n",
              "        <td style=\"padding-left: 1em; padding-right: 1em; text-align: center; vertical-align: top\">{'and': 2.0, 'quilt':<br>1.0, 'it': 1.0, ...</td>\n",
              "    </tr>\n",
              "    <tr>\n",
              "        <td style=\"padding-left: 1em; padding-right: 1em; text-align: center; vertical-align: top\">Stop Pacifier Sucking<br>without tears with ...</td>\n",
              "        <td style=\"padding-left: 1em; padding-right: 1em; text-align: center; vertical-align: top\">This is a product well<br>worth the purchase.  I ...</td>\n",
              "        <td style=\"padding-left: 1em; padding-right: 1em; text-align: center; vertical-align: top\">5.0</td>\n",
              "        <td style=\"padding-left: 1em; padding-right: 1em; text-align: center; vertical-align: top\">{'and': 3.0, 'ingenious':<br>1.0, 'love': 2.0, 'is': ...</td>\n",
              "    </tr>\n",
              "    <tr>\n",
              "        <td style=\"padding-left: 1em; padding-right: 1em; text-align: center; vertical-align: top\">Stop Pacifier Sucking<br>without tears with ...</td>\n",
              "        <td style=\"padding-left: 1em; padding-right: 1em; text-align: center; vertical-align: top\">All of my kids have cried<br>non-stop when I tried to ...</td>\n",
              "        <td style=\"padding-left: 1em; padding-right: 1em; text-align: center; vertical-align: top\">5.0</td>\n",
              "        <td style=\"padding-left: 1em; padding-right: 1em; text-align: center; vertical-align: top\">{'and': 2.0, 'this': 2.0,<br>'all': 2.0, 'love': 1.0, ...</td>\n",
              "    </tr>\n",
              "    <tr>\n",
              "        <td style=\"padding-left: 1em; padding-right: 1em; text-align: center; vertical-align: top\">Stop Pacifier Sucking<br>without tears with ...</td>\n",
              "        <td style=\"padding-left: 1em; padding-right: 1em; text-align: center; vertical-align: top\">When the Binky Fairy came<br>to our house, we didn't ...</td>\n",
              "        <td style=\"padding-left: 1em; padding-right: 1em; text-align: center; vertical-align: top\">5.0</td>\n",
              "        <td style=\"padding-left: 1em; padding-right: 1em; text-align: center; vertical-align: top\">{'and': 2.0, 'cute': 1.0,<br>'help': 2.0, 'habit': ...</td>\n",
              "    </tr>\n",
              "    <tr>\n",
              "        <td style=\"padding-left: 1em; padding-right: 1em; text-align: center; vertical-align: top\">A Tale of Baby's Days<br>with Peter Rabbit ...</td>\n",
              "        <td style=\"padding-left: 1em; padding-right: 1em; text-align: center; vertical-align: top\">Lovely book, it's bound<br>tightly so you may no ...</td>\n",
              "        <td style=\"padding-left: 1em; padding-right: 1em; text-align: center; vertical-align: top\">4.0</td>\n",
              "        <td style=\"padding-left: 1em; padding-right: 1em; text-align: center; vertical-align: top\">{'shop': 1.0, 'be': 1.0,<br>'is': 1.0, 'bound': 1.0, ...</td>\n",
              "    </tr>\n",
              "    <tr>\n",
              "        <td style=\"padding-left: 1em; padding-right: 1em; text-align: center; vertical-align: top\">Baby Tracker&amp;reg; - Daily<br>Childcare Journal, ...</td>\n",
              "        <td style=\"padding-left: 1em; padding-right: 1em; text-align: center; vertical-align: top\">Perfect for new parents.<br>We were able to keep ...</td>\n",
              "        <td style=\"padding-left: 1em; padding-right: 1em; text-align: center; vertical-align: top\">5.0</td>\n",
              "        <td style=\"padding-left: 1em; padding-right: 1em; text-align: center; vertical-align: top\">{'and': 2.0, 'all': 1.0,<br>'right': 1.0, 'able': ...</td>\n",
              "    </tr>\n",
              "    <tr>\n",
              "        <td style=\"padding-left: 1em; padding-right: 1em; text-align: center; vertical-align: top\">Baby Tracker&amp;reg; - Daily<br>Childcare Journal, ...</td>\n",
              "        <td style=\"padding-left: 1em; padding-right: 1em; text-align: center; vertical-align: top\">A friend of mine pinned<br>this product on Pinte ...</td>\n",
              "        <td style=\"padding-left: 1em; padding-right: 1em; text-align: center; vertical-align: top\">5.0</td>\n",
              "        <td style=\"padding-left: 1em; padding-right: 1em; text-align: center; vertical-align: top\">{'and': 1.0, 'fantastic':<br>1.0, 'help': 1.0, 'gi ...</td>\n",
              "    </tr>\n",
              "    <tr>\n",
              "        <td style=\"padding-left: 1em; padding-right: 1em; text-align: center; vertical-align: top\">Baby Tracker&amp;reg; - Daily<br>Childcare Journal, ...</td>\n",
              "        <td style=\"padding-left: 1em; padding-right: 1em; text-align: center; vertical-align: top\">This has been an easy way<br>for my nanny to record ...</td>\n",
              "        <td style=\"padding-left: 1em; padding-right: 1em; text-align: center; vertical-align: top\">4.0</td>\n",
              "        <td style=\"padding-left: 1em; padding-right: 1em; text-align: center; vertical-align: top\">{'pre': 1.0, 'all': 1.0,<br>'standarad': 1.0, ...</td>\n",
              "    </tr>\n",
              "</table>\n",
              "[183531 rows x 4 columns]<br/>Note: Only the head of the SFrame is printed.<br/>You can use print_rows(num_rows=m, num_columns=n) to print more rows and columns.\n",
              "</div>"
            ]
          },
          "metadata": {
            "tags": []
          },
          "execution_count": 13
        }
      ]
    },
    {
      "cell_type": "markdown",
      "metadata": {
        "id": "RwrJ3Iop-Y97",
        "colab_type": "text"
      },
      "source": [
        "# Define what is positive and negative sentiment"
      ]
    },
    {
      "cell_type": "code",
      "metadata": {
        "id": "gk3I5afD-Y98",
        "colab_type": "code",
        "colab": {
          "base_uri": "https://localhost:8080/",
          "height": 808
        },
        "outputId": "fbcbaecb-03f4-4c2a-f81c-5faadfc6ff79"
      },
      "source": [
        "products['rating'].show()"
      ],
      "execution_count": null,
      "outputs": [
        {
          "output_type": "display_data",
          "data": {
            "text/plain": [
              "Materializing SArray"
            ],
            "text/html": [
              "<pre>Materializing SArray</pre>"
            ]
          },
          "metadata": {
            "tags": []
          }
        },
        {
          "output_type": "display_data",
          "data": {
            "text/plain": [
              "<IPython.core.display.HTML object>"
            ],
            "text/html": [
              "<html>                 <body>                     <iframe style=\"border:0;margin:0\" width=\"920\" height=\"770\" srcdoc='<html lang=\"en\">                         <head>                             <script src=\"https://cdnjs.cloudflare.com/ajax/libs/vega/5.4.0/vega.js\"></script>                             <script src=\"https://cdnjs.cloudflare.com/ajax/libs/vega-embed/4.0.0/vega-embed.js\"></script>                             <script src=\"https://cdnjs.cloudflare.com/ajax/libs/vega-tooltip/0.5.1/vega-tooltip.min.js\"></script>                             <link rel=\"stylesheet\" type=\"text/css\" href=\"https://cdnjs.cloudflare.com/ajax/libs/vega-tooltip/0.5.1/vega-tooltip.min.css\">                             <style>                             .vega-actions > a{                                 color:white;                                 text-decoration: none;                                 font-family: \"Arial\";                                 cursor:pointer;                                 padding:5px;                                 background:#AAAAAA;                                 border-radius:4px;                                 padding-left:10px;                                 padding-right:10px;                                 margin-right:5px;                             }                             .vega-actions{                                 margin-top:20px;                                 text-align:center                             }                            .vega-actions > a{                                 background:#999999;                            }                             </style>                         </head>                         <body>                             <div id=\"vis\">                             </div>                             <script>                                 var vega_json = \"{\\\"signals\\\": [{\\\"name\\\": \\\"bins\\\", \\\"update\\\": \\\"data(\\\\\\\"bins_data\\\\\\\")[0]\\\"}, {\\\"name\\\": \\\"binCount\\\", \\\"update\\\": \\\"(bins.stop - bins.start) / bins.step\\\"}, {\\\"name\\\": \\\"nullGap\\\", \\\"update\\\": \\\"data(\\\\\\\"nulls\\\\\\\").length ? 10 : 0\\\"}, {\\\"name\\\": \\\"barStep\\\", \\\"update\\\": \\\"(width - nullGap) / (1 + binCount)\\\"}], \\\"autosize\\\": {\\\"contains\\\": \\\"padding\\\", \\\"type\\\": \\\"fit\\\", \\\"resize\\\": false}, \\\"axes\\\": [{\\\"grid\\\": true, \\\"scale\\\": \\\"xscale\\\", \\\"tickMinStep\\\": 1, \\\"orient\\\": \\\"bottom\\\", \\\"title\\\": \\\"Values\\\"}, {\\\"scale\\\": \\\"xscale-null\\\", \\\"orient\\\": \\\"bottom\\\"}, {\\\"scale\\\": \\\"yscale\\\", \\\"title\\\": \\\"Count\\\", \\\"tickCount\\\": 5, \\\"grid\\\": true, \\\"offset\\\": {\\\"signal\\\": \\\"nullGap ? 5 : 0\\\"}, \\\"orient\\\": \\\"left\\\"}], \\\"description\\\": \\\"A simple bar chart with embedded data.\\\", \\\"title\\\": \\\"Distribution of Values [float]\\\", \\\"config\\\": {\\\"style\\\": {\\\"cell\\\": {\\\"stroke\\\": \\\"transparent\\\"}, \\\"rect\\\": {\\\"stroke\\\": \\\"rgba(200, 200, 200, 0.5)\\\"}, \\\"group-title\\\": {\\\"fontWeight\\\": \\\"normal\\\", \\\"font\\\": \\\"HelveticaNeue, Arial\\\", \\\"fontSize\\\": 29, \\\"fill\\\": \\\"rgba(0,0,0,0.65)\\\"}}, \\\"title\\\": {\\\"color\\\": \\\"rgba(0,0,0,0.847)\\\", \\\"fontWeight\\\": \\\"normal\\\", \\\"font\\\": \\\"\\\\\\\"San Francisco\\\\\\\", HelveticaNeue, Arial\\\", \\\"fontSize\\\": 18, \\\"offset\\\": 30}, \\\"axisY\\\": {\\\"minExtent\\\": 30}, \\\"range\\\": {\\\"heatmap\\\": {\\\"scheme\\\": \\\"greenblue\\\"}}, \\\"legend\\\": {\\\"labelFont\\\": \\\"\\\\\\\"San Francisco\\\\\\\", HelveticaNeue, Arial\\\", \\\"labelColor\\\": \\\"rgba(0,0,0,0.847)\\\", \\\"titleFont\\\": \\\"\\\\\\\"San Francisco\\\\\\\", HelveticaNeue, Arial\\\", \\\"cornerRadius\\\": 30, \\\"titleColor\\\": \\\"rgba(0,0,0,0.847)\\\", \\\"gradientLength\\\": 608}, \\\"axis\\\": {\\\"titlePadding\\\": 20, \\\"titleColor\\\": \\\"rgba(0,0,0,0.847)\\\", \\\"titleFont\\\": \\\"\\\\\\\"San Francisco\\\\\\\", HelveticaNeue, Arial\\\", \\\"labelPadding\\\": 10, \\\"labelFont\\\": \\\"\\\\\\\"San Francisco\\\\\\\", HelveticaNeue, Arial\\\", \\\"labelFontSize\\\": 12, \\\"labelColor\\\": \\\"rgba(0,0,0,0.847)\\\", \\\"gridColor\\\": \\\"rgba(204,204,204,1.0)\\\", \\\"titleFontSize\\\": 14, \\\"tickColor\\\": \\\"rgb(136,136,136)\\\", \\\"titleFontWeight\\\": \\\"normal\\\"}}, \\\"scales\\\": [{\\\"domain\\\": {\\\"fields\\\": [{\\\"field\\\": \\\"count\\\", \\\"data\\\": \\\"counts\\\"}, {\\\"field\\\": \\\"count\\\", \\\"data\\\": \\\"nulls\\\"}]}, \\\"name\\\": \\\"yscale\\\", \\\"range\\\": \\\"height\\\", \\\"type\\\": \\\"linear\\\", \\\"round\\\": true, \\\"nice\\\": true}, {\\\"domain\\\": {\\\"signal\\\": \\\"[bins.start, bins.stop]\\\"}, \\\"name\\\": \\\"xscale\\\", \\\"range\\\": [{\\\"signal\\\": \\\"nullGap ? barStep + nullGap : 0\\\"}, {\\\"signal\\\": \\\"width\\\"}], \\\"type\\\": \\\"linear\\\", \\\"round\\\": true, \\\"bins\\\": {\\\"signal\\\": \\\"bins\\\"}}, {\\\"range\\\": [{\\\"signal\\\": \\\"nullGap ? 0 : 1\\\"}, {\\\"signal\\\": \\\"nullGap ? barStep : 0\\\"}], \\\"type\\\": \\\"band\\\", \\\"name\\\": \\\"xscale-null\\\", \\\"domain\\\": [{\\\"signal\\\": \\\"nullGap ? null : &apos;&apos;\\\"}], \\\"round\\\": true}], \\\"style\\\": \\\"cell\\\", \\\"height\\\": 550, \\\"padding\\\": 8, \\\"width\\\": 720, \\\"marks\\\": [{\\\"encode\\\": {\\\"hover\\\": {\\\"fill\\\": {\\\"value\\\": \\\"#7EC2F3\\\"}}, \\\"update\\\": {\\\"x2\\\": {\\\"field\\\": \\\"right\\\", \\\"scale\\\": \\\"xscale\\\"}, \\\"x\\\": {\\\"field\\\": \\\"left\\\", \\\"scale\\\": \\\"xscale\\\", \\\"offset\\\": 1}, \\\"y2\\\": {\\\"scale\\\": \\\"yscale\\\", \\\"value\\\": 0}, \\\"y\\\": {\\\"field\\\": \\\"count\\\", \\\"scale\\\": \\\"yscale\\\"}, \\\"fill\\\": {\\\"value\\\": \\\"#108EE9\\\"}}}, \\\"from\\\": {\\\"data\\\": \\\"counts\\\"}, \\\"type\\\": \\\"rect\\\"}, {\\\"encode\\\": {\\\"hover\\\": {\\\"fill\\\": {\\\"value\\\": \\\"#7EC2F3\\\"}}, \\\"update\\\": {\\\"x2\\\": {\\\"band\\\": 1, \\\"scale\\\": \\\"xscale-null\\\"}, \\\"x\\\": {\\\"scale\\\": \\\"xscale-null\\\", \\\"value\\\": null, \\\"offset\\\": 1}, \\\"y2\\\": {\\\"scale\\\": \\\"yscale\\\", \\\"value\\\": 0}, \\\"y\\\": {\\\"field\\\": \\\"count\\\", \\\"scale\\\": \\\"yscale\\\"}, \\\"fill\\\": {\\\"value\\\": \\\"#108EE9\\\"}}}, \\\"from\\\": {\\\"data\\\": \\\"nulls\\\"}, \\\"type\\\": \\\"rect\\\"}], \\\"$schema\\\": \\\"https://vega.github.io/schema/vega/v4.json\\\", \\\"data\\\": [{\\\"values\\\": [{\\\"count\\\": 15183, \\\"right\\\": 1.136, \\\"left\\\": 0.928}, {\\\"count\\\": 0, \\\"right\\\": 1.344, \\\"left\\\": 1.136}, {\\\"count\\\": 0, \\\"right\\\": 1.552, \\\"left\\\": 1.344}, {\\\"count\\\": 0, \\\"right\\\": 1.76, \\\"left\\\": 1.552}, {\\\"count\\\": 0, \\\"right\\\": 1.968, \\\"left\\\": 1.76}, {\\\"count\\\": 11310, \\\"right\\\": 2.176, \\\"left\\\": 1.968}, {\\\"count\\\": 0, \\\"right\\\": 2.384, \\\"left\\\": 2.176}, {\\\"count\\\": 0, \\\"right\\\": 2.592, \\\"left\\\": 2.384}, {\\\"count\\\": 0, \\\"right\\\": 2.8, \\\"left\\\": 2.592}, {\\\"count\\\": 16779, \\\"right\\\": 3.008, \\\"left\\\": 2.8}, {\\\"count\\\": 0, \\\"right\\\": 3.216, \\\"left\\\": 3.008}, {\\\"count\\\": 0, \\\"right\\\": 3.424, \\\"left\\\": 3.216}, {\\\"count\\\": 0, \\\"right\\\": 3.632, \\\"left\\\": 3.424}, {\\\"count\\\": 0, \\\"right\\\": 3.84, \\\"left\\\": 3.632}, {\\\"count\\\": 33205, \\\"right\\\": 4.048, \\\"left\\\": 3.84}, {\\\"count\\\": 0, \\\"right\\\": 4.256, \\\"left\\\": 4.048}, {\\\"count\\\": 0, \\\"right\\\": 4.464, \\\"left\\\": 4.256}, {\\\"count\\\": 0, \\\"right\\\": 4.672, \\\"left\\\": 4.464}, {\\\"count\\\": 0, \\\"right\\\": 4.88, \\\"left\\\": 4.672}, {\\\"count\\\": 107054, \\\"right\\\": 5.088, \\\"left\\\": 4.88}, {\\\"start\\\": 0.928, \\\"step\\\": 0.208, \\\"stop\\\": 5.088}], \\\"name\\\": \\\"source_2\\\"}, {\\\"source\\\": \\\"source_2\\\", \\\"name\\\": \\\"counts\\\", \\\"transform\\\": [{\\\"expr\\\": \\\"datum[\\\\\\\"missing\\\\\\\"] !== true &amp;&amp; datum[\\\\\\\"count\\\\\\\"] != null\\\", \\\"type\\\": \\\"filter\\\"}]}, {\\\"source\\\": \\\"source_2\\\", \\\"name\\\": \\\"nulls\\\", \\\"transform\\\": [{\\\"expr\\\": \\\"datum[\\\\\\\"missing\\\\\\\"] === true &amp;&amp; datum[\\\\\\\"count\\\\\\\"] != null\\\", \\\"type\\\": \\\"filter\\\"}]}, {\\\"source\\\": \\\"source_2\\\", \\\"name\\\": \\\"bins_data\\\", \\\"transform\\\": [{\\\"expr\\\": \\\"datum[\\\\\\\"start\\\\\\\"] != null &amp;&amp; datum[\\\\\\\"stop\\\\\\\"] != null &amp;&amp; datum[\\\\\\\"step\\\\\\\"] != null\\\", \\\"type\\\": \\\"filter\\\"}]}]}\";                                 var vega_json_parsed = JSON.parse(vega_json);                                 var toolTipOpts = {                                     showAllFields: true                                 };                                 if(vega_json_parsed[\"metadata\"] != null){                                     if(vega_json_parsed[\"metadata\"][\"bubbleOpts\"] != null){                                         toolTipOpts = vega_json_parsed[\"metadata\"][\"bubbleOpts\"];                                     };                                 };                                 vegaEmbed(\"#vis\", vega_json_parsed).then(function (result) {                                     vegaTooltip.vega(result.view, toolTipOpts);                                  });                             </script>                         </body>                     </html>' src=\"demo_iframe_srcdoc.htm\">                         <p>Your browser does not support iframes.</p>                     </iframe>                 </body>             </html>"
            ]
          },
          "metadata": {
            "tags": []
          }
        }
      ]
    },
    {
      "cell_type": "code",
      "metadata": {
        "id": "SJvgxVH4-Y-B",
        "colab_type": "code",
        "colab": {}
      },
      "source": [
        "#ignore all 3*  reviews\n",
        "products = products[products['rating']!= 3]"
      ],
      "execution_count": null,
      "outputs": []
    },
    {
      "cell_type": "code",
      "metadata": {
        "id": "mSbp3tjh-Y-F",
        "colab_type": "code",
        "colab": {}
      },
      "source": [
        "#positive sentiment = 4-star or 5-star reviews\n",
        "products['sentiment'] = products['rating'] >= 4"
      ],
      "execution_count": null,
      "outputs": []
    },
    {
      "cell_type": "code",
      "metadata": {
        "id": "X321vPVB-Y-L",
        "colab_type": "code",
        "colab": {
          "base_uri": "https://localhost:8080/",
          "height": 449
        },
        "outputId": "e6a2360f-2c6b-4df7-c6dd-a4bbf25efefd"
      },
      "source": [
        "products"
      ],
      "execution_count": null,
      "outputs": [
        {
          "output_type": "execute_result",
          "data": {
            "text/plain": [
              "Columns:\n",
              "\tname\tstr\n",
              "\treview\tstr\n",
              "\trating\tfloat\n",
              "\tword_count\tdict\n",
              "\tsentiment\tint\n",
              "\n",
              "Rows: 166752\n",
              "\n",
              "Data:\n",
              "+-------------------------------+-------------------------------+--------+\n",
              "|              name             |             review            | rating |\n",
              "+-------------------------------+-------------------------------+--------+\n",
              "|     Planetwise Wipe Pouch     | it came early and was not ... |  5.0   |\n",
              "| Annas Dream Full Quilt wit... | Very soft and comfortable ... |  5.0   |\n",
              "| Stop Pacifier Sucking with... | This is a product well wor... |  5.0   |\n",
              "| Stop Pacifier Sucking with... | All of my kids have cried ... |  5.0   |\n",
              "| Stop Pacifier Sucking with... | When the Binky Fairy came ... |  5.0   |\n",
              "| A Tale of Baby's Days with... | Lovely book, it's bound ti... |  4.0   |\n",
              "| Baby Tracker&reg; - Daily ... | Perfect for new parents. W... |  5.0   |\n",
              "| Baby Tracker&reg; - Daily ... | A friend of mine pinned th... |  5.0   |\n",
              "| Baby Tracker&reg; - Daily ... | This has been an easy way ... |  4.0   |\n",
              "| Baby Tracker&reg; - Daily ... | I love this journal and ou... |  4.0   |\n",
              "+-------------------------------+-------------------------------+--------+\n",
              "+-------------------------------+-----------+\n",
              "|           word_count          | sentiment |\n",
              "+-------------------------------+-----------+\n",
              "| {'and': 3.0, 'love': 1.0, ... |     1     |\n",
              "| {'and': 2.0, 'quilt': 1.0,... |     1     |\n",
              "| {'and': 3.0, 'ingenious': ... |     1     |\n",
              "| {'and': 2.0, 'this': 2.0, ... |     1     |\n",
              "| {'and': 2.0, 'cute': 1.0, ... |     1     |\n",
              "| {'shop': 1.0, 'be': 1.0, '... |     1     |\n",
              "| {'and': 2.0, 'all': 1.0, '... |     1     |\n",
              "| {'and': 1.0, 'fantastic': ... |     1     |\n",
              "| {'pre': 1.0, 'all': 1.0, '... |     1     |\n",
              "| {'all': 2.0, 'forget': 1.0... |     1     |\n",
              "+-------------------------------+-----------+\n",
              "[166752 rows x 5 columns]\n",
              "Note: Only the head of the SFrame is printed.\n",
              "You can use print_rows(num_rows=m, num_columns=n) to print more rows and columns."
            ],
            "text/html": [
              "<div style=\"max-height:1000px;max-width:1500px;overflow:auto;\"><table frame=\"box\" rules=\"cols\">\n",
              "    <tr>\n",
              "        <th style=\"padding-left: 1em; padding-right: 1em; text-align: center\">name</th>\n",
              "        <th style=\"padding-left: 1em; padding-right: 1em; text-align: center\">review</th>\n",
              "        <th style=\"padding-left: 1em; padding-right: 1em; text-align: center\">rating</th>\n",
              "        <th style=\"padding-left: 1em; padding-right: 1em; text-align: center\">word_count</th>\n",
              "        <th style=\"padding-left: 1em; padding-right: 1em; text-align: center\">sentiment</th>\n",
              "    </tr>\n",
              "    <tr>\n",
              "        <td style=\"padding-left: 1em; padding-right: 1em; text-align: center; vertical-align: top\">Planetwise Wipe Pouch</td>\n",
              "        <td style=\"padding-left: 1em; padding-right: 1em; text-align: center; vertical-align: top\">it came early and was not<br>disappointed. i love ...</td>\n",
              "        <td style=\"padding-left: 1em; padding-right: 1em; text-align: center; vertical-align: top\">5.0</td>\n",
              "        <td style=\"padding-left: 1em; padding-right: 1em; text-align: center; vertical-align: top\">{'and': 3.0, 'love': 1.0,<br>'it': 3.0, 'highly':  ...</td>\n",
              "        <td style=\"padding-left: 1em; padding-right: 1em; text-align: center; vertical-align: top\">1</td>\n",
              "    </tr>\n",
              "    <tr>\n",
              "        <td style=\"padding-left: 1em; padding-right: 1em; text-align: center; vertical-align: top\">Annas Dream Full Quilt<br>with 2 Shams ...</td>\n",
              "        <td style=\"padding-left: 1em; padding-right: 1em; text-align: center; vertical-align: top\">Very soft and comfortable<br>and warmer than it ...</td>\n",
              "        <td style=\"padding-left: 1em; padding-right: 1em; text-align: center; vertical-align: top\">5.0</td>\n",
              "        <td style=\"padding-left: 1em; padding-right: 1em; text-align: center; vertical-align: top\">{'and': 2.0, 'quilt':<br>1.0, 'it': 1.0, ...</td>\n",
              "        <td style=\"padding-left: 1em; padding-right: 1em; text-align: center; vertical-align: top\">1</td>\n",
              "    </tr>\n",
              "    <tr>\n",
              "        <td style=\"padding-left: 1em; padding-right: 1em; text-align: center; vertical-align: top\">Stop Pacifier Sucking<br>without tears with ...</td>\n",
              "        <td style=\"padding-left: 1em; padding-right: 1em; text-align: center; vertical-align: top\">This is a product well<br>worth the purchase.  I ...</td>\n",
              "        <td style=\"padding-left: 1em; padding-right: 1em; text-align: center; vertical-align: top\">5.0</td>\n",
              "        <td style=\"padding-left: 1em; padding-right: 1em; text-align: center; vertical-align: top\">{'and': 3.0, 'ingenious':<br>1.0, 'love': 2.0, 'is': ...</td>\n",
              "        <td style=\"padding-left: 1em; padding-right: 1em; text-align: center; vertical-align: top\">1</td>\n",
              "    </tr>\n",
              "    <tr>\n",
              "        <td style=\"padding-left: 1em; padding-right: 1em; text-align: center; vertical-align: top\">Stop Pacifier Sucking<br>without tears with ...</td>\n",
              "        <td style=\"padding-left: 1em; padding-right: 1em; text-align: center; vertical-align: top\">All of my kids have cried<br>non-stop when I tried to ...</td>\n",
              "        <td style=\"padding-left: 1em; padding-right: 1em; text-align: center; vertical-align: top\">5.0</td>\n",
              "        <td style=\"padding-left: 1em; padding-right: 1em; text-align: center; vertical-align: top\">{'and': 2.0, 'this': 2.0,<br>'all': 2.0, 'love': 1.0, ...</td>\n",
              "        <td style=\"padding-left: 1em; padding-right: 1em; text-align: center; vertical-align: top\">1</td>\n",
              "    </tr>\n",
              "    <tr>\n",
              "        <td style=\"padding-left: 1em; padding-right: 1em; text-align: center; vertical-align: top\">Stop Pacifier Sucking<br>without tears with ...</td>\n",
              "        <td style=\"padding-left: 1em; padding-right: 1em; text-align: center; vertical-align: top\">When the Binky Fairy came<br>to our house, we didn't ...</td>\n",
              "        <td style=\"padding-left: 1em; padding-right: 1em; text-align: center; vertical-align: top\">5.0</td>\n",
              "        <td style=\"padding-left: 1em; padding-right: 1em; text-align: center; vertical-align: top\">{'and': 2.0, 'cute': 1.0,<br>'help': 2.0, 'habit': ...</td>\n",
              "        <td style=\"padding-left: 1em; padding-right: 1em; text-align: center; vertical-align: top\">1</td>\n",
              "    </tr>\n",
              "    <tr>\n",
              "        <td style=\"padding-left: 1em; padding-right: 1em; text-align: center; vertical-align: top\">A Tale of Baby's Days<br>with Peter Rabbit ...</td>\n",
              "        <td style=\"padding-left: 1em; padding-right: 1em; text-align: center; vertical-align: top\">Lovely book, it's bound<br>tightly so you may no ...</td>\n",
              "        <td style=\"padding-left: 1em; padding-right: 1em; text-align: center; vertical-align: top\">4.0</td>\n",
              "        <td style=\"padding-left: 1em; padding-right: 1em; text-align: center; vertical-align: top\">{'shop': 1.0, 'be': 1.0,<br>'is': 1.0, 'bound': 1.0, ...</td>\n",
              "        <td style=\"padding-left: 1em; padding-right: 1em; text-align: center; vertical-align: top\">1</td>\n",
              "    </tr>\n",
              "    <tr>\n",
              "        <td style=\"padding-left: 1em; padding-right: 1em; text-align: center; vertical-align: top\">Baby Tracker&amp;reg; - Daily<br>Childcare Journal, ...</td>\n",
              "        <td style=\"padding-left: 1em; padding-right: 1em; text-align: center; vertical-align: top\">Perfect for new parents.<br>We were able to keep ...</td>\n",
              "        <td style=\"padding-left: 1em; padding-right: 1em; text-align: center; vertical-align: top\">5.0</td>\n",
              "        <td style=\"padding-left: 1em; padding-right: 1em; text-align: center; vertical-align: top\">{'and': 2.0, 'all': 1.0,<br>'right': 1.0, 'able': ...</td>\n",
              "        <td style=\"padding-left: 1em; padding-right: 1em; text-align: center; vertical-align: top\">1</td>\n",
              "    </tr>\n",
              "    <tr>\n",
              "        <td style=\"padding-left: 1em; padding-right: 1em; text-align: center; vertical-align: top\">Baby Tracker&amp;reg; - Daily<br>Childcare Journal, ...</td>\n",
              "        <td style=\"padding-left: 1em; padding-right: 1em; text-align: center; vertical-align: top\">A friend of mine pinned<br>this product on Pinte ...</td>\n",
              "        <td style=\"padding-left: 1em; padding-right: 1em; text-align: center; vertical-align: top\">5.0</td>\n",
              "        <td style=\"padding-left: 1em; padding-right: 1em; text-align: center; vertical-align: top\">{'and': 1.0, 'fantastic':<br>1.0, 'help': 1.0, 'gi ...</td>\n",
              "        <td style=\"padding-left: 1em; padding-right: 1em; text-align: center; vertical-align: top\">1</td>\n",
              "    </tr>\n",
              "    <tr>\n",
              "        <td style=\"padding-left: 1em; padding-right: 1em; text-align: center; vertical-align: top\">Baby Tracker&amp;reg; - Daily<br>Childcare Journal, ...</td>\n",
              "        <td style=\"padding-left: 1em; padding-right: 1em; text-align: center; vertical-align: top\">This has been an easy way<br>for my nanny to record ...</td>\n",
              "        <td style=\"padding-left: 1em; padding-right: 1em; text-align: center; vertical-align: top\">4.0</td>\n",
              "        <td style=\"padding-left: 1em; padding-right: 1em; text-align: center; vertical-align: top\">{'pre': 1.0, 'all': 1.0,<br>'standarad': 1.0, ...</td>\n",
              "        <td style=\"padding-left: 1em; padding-right: 1em; text-align: center; vertical-align: top\">1</td>\n",
              "    </tr>\n",
              "    <tr>\n",
              "        <td style=\"padding-left: 1em; padding-right: 1em; text-align: center; vertical-align: top\">Baby Tracker&amp;reg; - Daily<br>Childcare Journal, ...</td>\n",
              "        <td style=\"padding-left: 1em; padding-right: 1em; text-align: center; vertical-align: top\">I love this journal and<br>our nanny uses it ...</td>\n",
              "        <td style=\"padding-left: 1em; padding-right: 1em; text-align: center; vertical-align: top\">4.0</td>\n",
              "        <td style=\"padding-left: 1em; padding-right: 1em; text-align: center; vertical-align: top\">{'all': 2.0, 'forget':<br>1.0, 'just': 1.0, 'fo ...</td>\n",
              "        <td style=\"padding-left: 1em; padding-right: 1em; text-align: center; vertical-align: top\">1</td>\n",
              "    </tr>\n",
              "</table>\n",
              "[166752 rows x 5 columns]<br/>Note: Only the head of the SFrame is printed.<br/>You can use print_rows(num_rows=m, num_columns=n) to print more rows and columns.\n",
              "</div>"
            ]
          },
          "metadata": {
            "tags": []
          },
          "execution_count": 17
        }
      ]
    },
    {
      "cell_type": "code",
      "metadata": {
        "id": "hHVlcrz4-Y-P",
        "colab_type": "code",
        "colab": {
          "base_uri": "https://localhost:8080/",
          "height": 808
        },
        "outputId": "4906013c-8b39-4b0c-ed5b-4a42d0e5787a"
      },
      "source": [
        "products['sentiment'].show()"
      ],
      "execution_count": null,
      "outputs": [
        {
          "output_type": "display_data",
          "data": {
            "text/plain": [
              "Materializing SArray"
            ],
            "text/html": [
              "<pre>Materializing SArray</pre>"
            ]
          },
          "metadata": {
            "tags": []
          }
        },
        {
          "output_type": "display_data",
          "data": {
            "text/plain": [
              "<IPython.core.display.HTML object>"
            ],
            "text/html": [
              "<html>                 <body>                     <iframe style=\"border:0;margin:0\" width=\"920\" height=\"770\" srcdoc='<html lang=\"en\">                         <head>                             <script src=\"https://cdnjs.cloudflare.com/ajax/libs/vega/5.4.0/vega.js\"></script>                             <script src=\"https://cdnjs.cloudflare.com/ajax/libs/vega-embed/4.0.0/vega-embed.js\"></script>                             <script src=\"https://cdnjs.cloudflare.com/ajax/libs/vega-tooltip/0.5.1/vega-tooltip.min.js\"></script>                             <link rel=\"stylesheet\" type=\"text/css\" href=\"https://cdnjs.cloudflare.com/ajax/libs/vega-tooltip/0.5.1/vega-tooltip.min.css\">                             <style>                             .vega-actions > a{                                 color:white;                                 text-decoration: none;                                 font-family: \"Arial\";                                 cursor:pointer;                                 padding:5px;                                 background:#AAAAAA;                                 border-radius:4px;                                 padding-left:10px;                                 padding-right:10px;                                 margin-right:5px;                             }                             .vega-actions{                                 margin-top:20px;                                 text-align:center                             }                            .vega-actions > a{                                 background:#999999;                            }                             </style>                         </head>                         <body>                             <div id=\"vis\">                             </div>                             <script>                                 var vega_json = \"{\\\"signals\\\": [{\\\"name\\\": \\\"bins\\\", \\\"update\\\": \\\"data(\\\\\\\"bins_data\\\\\\\")[0]\\\"}, {\\\"name\\\": \\\"binCount\\\", \\\"update\\\": \\\"(bins.stop - bins.start) / bins.step\\\"}, {\\\"name\\\": \\\"nullGap\\\", \\\"update\\\": \\\"data(\\\\\\\"nulls\\\\\\\").length ? 10 : 0\\\"}, {\\\"name\\\": \\\"barStep\\\", \\\"update\\\": \\\"(width - nullGap) / (1 + binCount)\\\"}], \\\"autosize\\\": {\\\"contains\\\": \\\"padding\\\", \\\"type\\\": \\\"fit\\\", \\\"resize\\\": false}, \\\"axes\\\": [{\\\"grid\\\": true, \\\"scale\\\": \\\"xscale\\\", \\\"tickMinStep\\\": 1, \\\"orient\\\": \\\"bottom\\\", \\\"title\\\": \\\"Values\\\"}, {\\\"scale\\\": \\\"xscale-null\\\", \\\"orient\\\": \\\"bottom\\\"}, {\\\"scale\\\": \\\"yscale\\\", \\\"title\\\": \\\"Count\\\", \\\"tickCount\\\": 5, \\\"grid\\\": true, \\\"offset\\\": {\\\"signal\\\": \\\"nullGap ? 5 : 0\\\"}, \\\"orient\\\": \\\"left\\\"}], \\\"description\\\": \\\"A simple bar chart with embedded data.\\\", \\\"title\\\": \\\"Distribution of Values [integer]\\\", \\\"config\\\": {\\\"style\\\": {\\\"cell\\\": {\\\"stroke\\\": \\\"transparent\\\"}, \\\"rect\\\": {\\\"stroke\\\": \\\"rgba(200, 200, 200, 0.5)\\\"}, \\\"group-title\\\": {\\\"fontWeight\\\": \\\"normal\\\", \\\"font\\\": \\\"HelveticaNeue, Arial\\\", \\\"fontSize\\\": 29, \\\"fill\\\": \\\"rgba(0,0,0,0.65)\\\"}}, \\\"title\\\": {\\\"color\\\": \\\"rgba(0,0,0,0.847)\\\", \\\"fontWeight\\\": \\\"normal\\\", \\\"font\\\": \\\"\\\\\\\"San Francisco\\\\\\\", HelveticaNeue, Arial\\\", \\\"fontSize\\\": 18, \\\"offset\\\": 30}, \\\"axisY\\\": {\\\"minExtent\\\": 30}, \\\"range\\\": {\\\"heatmap\\\": {\\\"scheme\\\": \\\"greenblue\\\"}}, \\\"legend\\\": {\\\"labelFont\\\": \\\"\\\\\\\"San Francisco\\\\\\\", HelveticaNeue, Arial\\\", \\\"labelColor\\\": \\\"rgba(0,0,0,0.847)\\\", \\\"titleFont\\\": \\\"\\\\\\\"San Francisco\\\\\\\", HelveticaNeue, Arial\\\", \\\"cornerRadius\\\": 30, \\\"titleColor\\\": \\\"rgba(0,0,0,0.847)\\\", \\\"gradientLength\\\": 608}, \\\"axis\\\": {\\\"titlePadding\\\": 20, \\\"titleColor\\\": \\\"rgba(0,0,0,0.847)\\\", \\\"titleFont\\\": \\\"\\\\\\\"San Francisco\\\\\\\", HelveticaNeue, Arial\\\", \\\"labelPadding\\\": 10, \\\"labelFont\\\": \\\"\\\\\\\"San Francisco\\\\\\\", HelveticaNeue, Arial\\\", \\\"labelFontSize\\\": 12, \\\"labelColor\\\": \\\"rgba(0,0,0,0.847)\\\", \\\"gridColor\\\": \\\"rgba(204,204,204,1.0)\\\", \\\"titleFontSize\\\": 14, \\\"tickColor\\\": \\\"rgb(136,136,136)\\\", \\\"titleFontWeight\\\": \\\"normal\\\"}}, \\\"scales\\\": [{\\\"domain\\\": {\\\"fields\\\": [{\\\"field\\\": \\\"count\\\", \\\"data\\\": \\\"counts\\\"}, {\\\"field\\\": \\\"count\\\", \\\"data\\\": \\\"nulls\\\"}]}, \\\"name\\\": \\\"yscale\\\", \\\"range\\\": \\\"height\\\", \\\"type\\\": \\\"linear\\\", \\\"round\\\": true, \\\"nice\\\": true}, {\\\"domain\\\": {\\\"signal\\\": \\\"[bins.start, bins.stop]\\\"}, \\\"name\\\": \\\"xscale\\\", \\\"range\\\": [{\\\"signal\\\": \\\"nullGap ? barStep + nullGap : 0\\\"}, {\\\"signal\\\": \\\"width\\\"}], \\\"type\\\": \\\"linear\\\", \\\"round\\\": true, \\\"bins\\\": {\\\"signal\\\": \\\"bins\\\"}}, {\\\"range\\\": [{\\\"signal\\\": \\\"nullGap ? 0 : 1\\\"}, {\\\"signal\\\": \\\"nullGap ? barStep : 0\\\"}], \\\"type\\\": \\\"band\\\", \\\"name\\\": \\\"xscale-null\\\", \\\"domain\\\": [{\\\"signal\\\": \\\"nullGap ? null : &apos;&apos;\\\"}], \\\"round\\\": true}], \\\"style\\\": \\\"cell\\\", \\\"height\\\": 550, \\\"padding\\\": 8, \\\"width\\\": 720, \\\"marks\\\": [{\\\"encode\\\": {\\\"hover\\\": {\\\"fill\\\": {\\\"value\\\": \\\"#7EC2F3\\\"}}, \\\"update\\\": {\\\"x2\\\": {\\\"field\\\": \\\"right\\\", \\\"scale\\\": \\\"xscale\\\"}, \\\"x\\\": {\\\"field\\\": \\\"left\\\", \\\"scale\\\": \\\"xscale\\\", \\\"offset\\\": 1}, \\\"y2\\\": {\\\"scale\\\": \\\"yscale\\\", \\\"value\\\": 0}, \\\"y\\\": {\\\"field\\\": \\\"count\\\", \\\"scale\\\": \\\"yscale\\\"}, \\\"fill\\\": {\\\"value\\\": \\\"#108EE9\\\"}}}, \\\"from\\\": {\\\"data\\\": \\\"counts\\\"}, \\\"type\\\": \\\"rect\\\"}, {\\\"encode\\\": {\\\"hover\\\": {\\\"fill\\\": {\\\"value\\\": \\\"#7EC2F3\\\"}}, \\\"update\\\": {\\\"x2\\\": {\\\"band\\\": 1, \\\"scale\\\": \\\"xscale-null\\\"}, \\\"x\\\": {\\\"scale\\\": \\\"xscale-null\\\", \\\"value\\\": null, \\\"offset\\\": 1}, \\\"y2\\\": {\\\"scale\\\": \\\"yscale\\\", \\\"value\\\": 0}, \\\"y\\\": {\\\"field\\\": \\\"count\\\", \\\"scale\\\": \\\"yscale\\\"}, \\\"fill\\\": {\\\"value\\\": \\\"#108EE9\\\"}}}, \\\"from\\\": {\\\"data\\\": \\\"nulls\\\"}, \\\"type\\\": \\\"rect\\\"}], \\\"$schema\\\": \\\"https://vega.github.io/schema/vega/v4.json\\\", \\\"data\\\": [{\\\"values\\\": [{\\\"count\\\": 0, \\\"right\\\": -8, \\\"left\\\": -9}, {\\\"count\\\": 0, \\\"right\\\": -7, \\\"left\\\": -8}, {\\\"count\\\": 0, \\\"right\\\": -6, \\\"left\\\": -7}, {\\\"count\\\": 0, \\\"right\\\": -5, \\\"left\\\": -6}, {\\\"count\\\": 0, \\\"right\\\": -4, \\\"left\\\": -5}, {\\\"count\\\": 0, \\\"right\\\": -3, \\\"left\\\": -4}, {\\\"count\\\": 0, \\\"right\\\": -2, \\\"left\\\": -3}, {\\\"count\\\": 0, \\\"right\\\": -1, \\\"left\\\": -2}, {\\\"count\\\": 0, \\\"right\\\": 0, \\\"left\\\": -1}, {\\\"count\\\": 26493, \\\"right\\\": 1, \\\"left\\\": 0}, {\\\"count\\\": 140259, \\\"right\\\": 2, \\\"left\\\": 1}, {\\\"count\\\": 0, \\\"right\\\": 3, \\\"left\\\": 2}, {\\\"count\\\": 0, \\\"right\\\": 4, \\\"left\\\": 3}, {\\\"count\\\": 0, \\\"right\\\": 5, \\\"left\\\": 4}, {\\\"count\\\": 0, \\\"right\\\": 6, \\\"left\\\": 5}, {\\\"count\\\": 0, \\\"right\\\": 7, \\\"left\\\": 6}, {\\\"count\\\": 0, \\\"right\\\": 8, \\\"left\\\": 7}, {\\\"count\\\": 0, \\\"right\\\": 9, \\\"left\\\": 8}, {\\\"count\\\": 0, \\\"right\\\": 10, \\\"left\\\": 9}, {\\\"count\\\": 0, \\\"right\\\": 11, \\\"left\\\": 10}, {\\\"start\\\": -9, \\\"step\\\": 1, \\\"stop\\\": 11}], \\\"name\\\": \\\"source_2\\\"}, {\\\"source\\\": \\\"source_2\\\", \\\"name\\\": \\\"counts\\\", \\\"transform\\\": [{\\\"expr\\\": \\\"datum[\\\\\\\"missing\\\\\\\"] !== true &amp;&amp; datum[\\\\\\\"count\\\\\\\"] != null\\\", \\\"type\\\": \\\"filter\\\"}]}, {\\\"source\\\": \\\"source_2\\\", \\\"name\\\": \\\"nulls\\\", \\\"transform\\\": [{\\\"expr\\\": \\\"datum[\\\\\\\"missing\\\\\\\"] === true &amp;&amp; datum[\\\\\\\"count\\\\\\\"] != null\\\", \\\"type\\\": \\\"filter\\\"}]}, {\\\"source\\\": \\\"source_2\\\", \\\"name\\\": \\\"bins_data\\\", \\\"transform\\\": [{\\\"expr\\\": \\\"datum[\\\\\\\"start\\\\\\\"] != null &amp;&amp; datum[\\\\\\\"stop\\\\\\\"] != null &amp;&amp; datum[\\\\\\\"step\\\\\\\"] != null\\\", \\\"type\\\": \\\"filter\\\"}]}]}\";                                 var vega_json_parsed = JSON.parse(vega_json);                                 var toolTipOpts = {                                     showAllFields: true                                 };                                 if(vega_json_parsed[\"metadata\"] != null){                                     if(vega_json_parsed[\"metadata\"][\"bubbleOpts\"] != null){                                         toolTipOpts = vega_json_parsed[\"metadata\"][\"bubbleOpts\"];                                     };                                 };                                 vegaEmbed(\"#vis\", vega_json_parsed).then(function (result) {                                     vegaTooltip.vega(result.view, toolTipOpts);                                  });                             </script>                         </body>                     </html>' src=\"demo_iframe_srcdoc.htm\">                         <p>Your browser does not support iframes.</p>                     </iframe>                 </body>             </html>"
            ]
          },
          "metadata": {
            "tags": []
          }
        }
      ]
    },
    {
      "cell_type": "markdown",
      "metadata": {
        "id": "Lr7d4GEm-Y-T",
        "colab_type": "text"
      },
      "source": [
        "# Train our sentiment classifier"
      ]
    },
    {
      "cell_type": "code",
      "metadata": {
        "id": "dlhm4qce-Y-U",
        "colab_type": "code",
        "colab": {}
      },
      "source": [
        "train_data,test_data = products.random_split(.8,seed=0)"
      ],
      "execution_count": null,
      "outputs": []
    },
    {
      "cell_type": "code",
      "metadata": {
        "id": "iE4h13_5-Y-X",
        "colab_type": "code",
        "colab": {
          "base_uri": "https://localhost:8080/",
          "height": 340
        },
        "outputId": "782cd4e3-0908-47f5-f7ea-3b23f3dffe3c"
      },
      "source": [
        "sentiment_model = turicreate.logistic_classifier.create(train_data,target='sentiment', features=['word_count'], validation_set=test_data)"
      ],
      "execution_count": null,
      "outputs": [
        {
          "output_type": "display_data",
          "data": {
            "text/plain": [
              "Logistic regression:"
            ],
            "text/html": [
              "<pre>Logistic regression:</pre>"
            ]
          },
          "metadata": {
            "tags": []
          }
        },
        {
          "output_type": "display_data",
          "data": {
            "text/plain": [
              "--------------------------------------------------------"
            ],
            "text/html": [
              "<pre>--------------------------------------------------------</pre>"
            ]
          },
          "metadata": {
            "tags": []
          }
        },
        {
          "output_type": "display_data",
          "data": {
            "text/plain": [
              "Number of examples          : 133448"
            ],
            "text/html": [
              "<pre>Number of examples          : 133448</pre>"
            ]
          },
          "metadata": {
            "tags": []
          }
        },
        {
          "output_type": "display_data",
          "data": {
            "text/plain": [
              "Number of classes           : 2"
            ],
            "text/html": [
              "<pre>Number of classes           : 2</pre>"
            ]
          },
          "metadata": {
            "tags": []
          }
        },
        {
          "output_type": "display_data",
          "data": {
            "text/plain": [
              "Number of feature columns   : 1"
            ],
            "text/html": [
              "<pre>Number of feature columns   : 1</pre>"
            ]
          },
          "metadata": {
            "tags": []
          }
        },
        {
          "output_type": "display_data",
          "data": {
            "text/plain": [
              "Number of unpacked features : 57356"
            ],
            "text/html": [
              "<pre>Number of unpacked features : 57356</pre>"
            ]
          },
          "metadata": {
            "tags": []
          }
        },
        {
          "output_type": "display_data",
          "data": {
            "text/plain": [
              "Number of coefficients      : 57357"
            ],
            "text/html": [
              "<pre>Number of coefficients      : 57357</pre>"
            ]
          },
          "metadata": {
            "tags": []
          }
        },
        {
          "output_type": "display_data",
          "data": {
            "text/plain": [
              "Starting L-BFGS"
            ],
            "text/html": [
              "<pre>Starting L-BFGS</pre>"
            ]
          },
          "metadata": {
            "tags": []
          }
        },
        {
          "output_type": "display_data",
          "data": {
            "text/plain": [
              "--------------------------------------------------------"
            ],
            "text/html": [
              "<pre>--------------------------------------------------------</pre>"
            ]
          },
          "metadata": {
            "tags": []
          }
        },
        {
          "output_type": "display_data",
          "data": {
            "text/plain": [
              "+-----------+----------+-----------+--------------+-------------------+---------------------+"
            ],
            "text/html": [
              "<pre>+-----------+----------+-----------+--------------+-------------------+---------------------+</pre>"
            ]
          },
          "metadata": {
            "tags": []
          }
        },
        {
          "output_type": "display_data",
          "data": {
            "text/plain": [
              "| Iteration | Passes   | Step size | Elapsed Time | Training Accuracy | Validation Accuracy |"
            ],
            "text/html": [
              "<pre>| Iteration | Passes   | Step size | Elapsed Time | Training Accuracy | Validation Accuracy |</pre>"
            ]
          },
          "metadata": {
            "tags": []
          }
        },
        {
          "output_type": "display_data",
          "data": {
            "text/plain": [
              "+-----------+----------+-----------+--------------+-------------------+---------------------+"
            ],
            "text/html": [
              "<pre>+-----------+----------+-----------+--------------+-------------------+---------------------+</pre>"
            ]
          },
          "metadata": {
            "tags": []
          }
        },
        {
          "output_type": "display_data",
          "data": {
            "text/plain": [
              "| 0         | 4        | 0.250000  | 2.313796     | 0.841421          | 0.840019            |"
            ],
            "text/html": [
              "<pre>| 0         | 4        | 0.250000  | 2.313796     | 0.841421          | 0.840019            |</pre>"
            ]
          },
          "metadata": {
            "tags": []
          }
        },
        {
          "output_type": "display_data",
          "data": {
            "text/plain": [
              "| 1         | 9        | 3.250000  | 4.243829     | 0.931359          | 0.911362            |"
            ],
            "text/html": [
              "<pre>| 1         | 9        | 3.250000  | 4.243829     | 0.931359          | 0.911362            |</pre>"
            ]
          },
          "metadata": {
            "tags": []
          }
        },
        {
          "output_type": "display_data",
          "data": {
            "text/plain": [
              "| 2         | 11       | 2.669978  | 5.169349     | 0.938650          | 0.916466            |"
            ],
            "text/html": [
              "<pre>| 2         | 11       | 2.669978  | 5.169349     | 0.938650          | 0.916466            |</pre>"
            ]
          },
          "metadata": {
            "tags": []
          }
        },
        {
          "output_type": "display_data",
          "data": {
            "text/plain": [
              "| 3         | 12       | 2.669978  | 5.777048     | 0.927417          | 0.901814            |"
            ],
            "text/html": [
              "<pre>| 3         | 12       | 2.669978  | 5.777048     | 0.927417          | 0.901814            |</pre>"
            ]
          },
          "metadata": {
            "tags": []
          }
        },
        {
          "output_type": "display_data",
          "data": {
            "text/plain": [
              "| 4         | 14       | 1.326072  | 6.702576     | 0.945200          | 0.918088            |"
            ],
            "text/html": [
              "<pre>| 4         | 14       | 1.326072  | 6.702576     | 0.945200          | 0.918088            |</pre>"
            ]
          },
          "metadata": {
            "tags": []
          }
        },
        {
          "output_type": "display_data",
          "data": {
            "text/plain": [
              "| 9         | 20       | 1.326072  | 10.024030    | 0.977654          | 0.917698            |"
            ],
            "text/html": [
              "<pre>| 9         | 20       | 1.326072  | 10.024030    | 0.977654          | 0.917698            |</pre>"
            ]
          },
          "metadata": {
            "tags": []
          }
        },
        {
          "output_type": "display_data",
          "data": {
            "text/plain": [
              "+-----------+----------+-----------+--------------+-------------------+---------------------+"
            ],
            "text/html": [
              "<pre>+-----------+----------+-----------+--------------+-------------------+---------------------+</pre>"
            ]
          },
          "metadata": {
            "tags": []
          }
        }
      ]
    },
    {
      "cell_type": "markdown",
      "metadata": {
        "id": "_r1OGI1X-Y-c",
        "colab_type": "text"
      },
      "source": [
        "# Apply the sentiment classifier to better understand the Giraffe reviews"
      ]
    },
    {
      "cell_type": "code",
      "metadata": {
        "id": "VMY-z0kT-Y-c",
        "colab_type": "code",
        "colab": {}
      },
      "source": [
        "products['predicted_sentiment'] = sentiment_model.predict(products, output_type = 'probability')"
      ],
      "execution_count": null,
      "outputs": []
    },
    {
      "cell_type": "code",
      "metadata": {
        "id": "QR9acoNZ-Y-h",
        "colab_type": "code",
        "colab": {
          "base_uri": "https://localhost:8080/",
          "height": 660
        },
        "outputId": "5cd5c543-cba2-4cca-b7c5-6408afe3d866"
      },
      "source": [
        "products"
      ],
      "execution_count": null,
      "outputs": [
        {
          "output_type": "execute_result",
          "data": {
            "text/plain": [
              "Columns:\n",
              "\tname\tstr\n",
              "\treview\tstr\n",
              "\trating\tfloat\n",
              "\tword_count\tdict\n",
              "\tsentiment\tint\n",
              "\tpredicted_sentiment\tfloat\n",
              "\n",
              "Rows: 166752\n",
              "\n",
              "Data:\n",
              "+-------------------------------+-------------------------------+--------+\n",
              "|              name             |             review            | rating |\n",
              "+-------------------------------+-------------------------------+--------+\n",
              "|     Planetwise Wipe Pouch     | it came early and was not ... |  5.0   |\n",
              "| Annas Dream Full Quilt wit... | Very soft and comfortable ... |  5.0   |\n",
              "| Stop Pacifier Sucking with... | This is a product well wor... |  5.0   |\n",
              "| Stop Pacifier Sucking with... | All of my kids have cried ... |  5.0   |\n",
              "| Stop Pacifier Sucking with... | When the Binky Fairy came ... |  5.0   |\n",
              "| A Tale of Baby's Days with... | Lovely book, it's bound ti... |  4.0   |\n",
              "| Baby Tracker&reg; - Daily ... | Perfect for new parents. W... |  5.0   |\n",
              "| Baby Tracker&reg; - Daily ... | A friend of mine pinned th... |  5.0   |\n",
              "| Baby Tracker&reg; - Daily ... | This has been an easy way ... |  4.0   |\n",
              "| Baby Tracker&reg; - Daily ... | I love this journal and ou... |  4.0   |\n",
              "+-------------------------------+-------------------------------+--------+\n",
              "+-------------------------------+-----------+---------------------+\n",
              "|           word_count          | sentiment | predicted_sentiment |\n",
              "+-------------------------------+-----------+---------------------+\n",
              "| {'and': 3.0, 'love': 1.0, ... |     1     |    0.999730739005   |\n",
              "| {'and': 2.0, 'quilt': 1.0,... |     1     |    0.998508336832   |\n",
              "| {'and': 3.0, 'ingenious': ... |     1     |    0.99974890425    |\n",
              "| {'and': 2.0, 'this': 2.0, ... |     1     |    0.99999166254    |\n",
              "| {'and': 2.0, 'cute': 1.0, ... |     1     |    0.999999951446   |\n",
              "| {'shop': 1.0, 'be': 1.0, '... |     1     |    0.999914673557   |\n",
              "| {'and': 2.0, 'all': 1.0, '... |     1     |    0.99999166159    |\n",
              "| {'and': 1.0, 'fantastic': ... |     1     |    0.999993884359   |\n",
              "| {'pre': 1.0, 'all': 1.0, '... |     1     |    0.996124761701   |\n",
              "| {'all': 2.0, 'forget': 1.0... |     1     |    0.999999992046   |\n",
              "+-------------------------------+-----------+---------------------+\n",
              "[166752 rows x 6 columns]\n",
              "Note: Only the head of the SFrame is printed.\n",
              "You can use print_rows(num_rows=m, num_columns=n) to print more rows and columns."
            ],
            "text/html": [
              "<div style=\"max-height:1000px;max-width:1500px;overflow:auto;\"><table frame=\"box\" rules=\"cols\">\n",
              "    <tr>\n",
              "        <th style=\"padding-left: 1em; padding-right: 1em; text-align: center\">name</th>\n",
              "        <th style=\"padding-left: 1em; padding-right: 1em; text-align: center\">review</th>\n",
              "        <th style=\"padding-left: 1em; padding-right: 1em; text-align: center\">rating</th>\n",
              "        <th style=\"padding-left: 1em; padding-right: 1em; text-align: center\">word_count</th>\n",
              "        <th style=\"padding-left: 1em; padding-right: 1em; text-align: center\">sentiment</th>\n",
              "    </tr>\n",
              "    <tr>\n",
              "        <td style=\"padding-left: 1em; padding-right: 1em; text-align: center; vertical-align: top\">Planetwise Wipe Pouch</td>\n",
              "        <td style=\"padding-left: 1em; padding-right: 1em; text-align: center; vertical-align: top\">it came early and was not<br>disappointed. i love ...</td>\n",
              "        <td style=\"padding-left: 1em; padding-right: 1em; text-align: center; vertical-align: top\">5.0</td>\n",
              "        <td style=\"padding-left: 1em; padding-right: 1em; text-align: center; vertical-align: top\">{'and': 3.0, 'love': 1.0,<br>'it': 3.0, 'highly':  ...</td>\n",
              "        <td style=\"padding-left: 1em; padding-right: 1em; text-align: center; vertical-align: top\">1</td>\n",
              "    </tr>\n",
              "    <tr>\n",
              "        <td style=\"padding-left: 1em; padding-right: 1em; text-align: center; vertical-align: top\">Annas Dream Full Quilt<br>with 2 Shams ...</td>\n",
              "        <td style=\"padding-left: 1em; padding-right: 1em; text-align: center; vertical-align: top\">Very soft and comfortable<br>and warmer than it ...</td>\n",
              "        <td style=\"padding-left: 1em; padding-right: 1em; text-align: center; vertical-align: top\">5.0</td>\n",
              "        <td style=\"padding-left: 1em; padding-right: 1em; text-align: center; vertical-align: top\">{'and': 2.0, 'quilt':<br>1.0, 'it': 1.0, ...</td>\n",
              "        <td style=\"padding-left: 1em; padding-right: 1em; text-align: center; vertical-align: top\">1</td>\n",
              "    </tr>\n",
              "    <tr>\n",
              "        <td style=\"padding-left: 1em; padding-right: 1em; text-align: center; vertical-align: top\">Stop Pacifier Sucking<br>without tears with ...</td>\n",
              "        <td style=\"padding-left: 1em; padding-right: 1em; text-align: center; vertical-align: top\">This is a product well<br>worth the purchase.  I ...</td>\n",
              "        <td style=\"padding-left: 1em; padding-right: 1em; text-align: center; vertical-align: top\">5.0</td>\n",
              "        <td style=\"padding-left: 1em; padding-right: 1em; text-align: center; vertical-align: top\">{'and': 3.0, 'ingenious':<br>1.0, 'love': 2.0, 'is': ...</td>\n",
              "        <td style=\"padding-left: 1em; padding-right: 1em; text-align: center; vertical-align: top\">1</td>\n",
              "    </tr>\n",
              "    <tr>\n",
              "        <td style=\"padding-left: 1em; padding-right: 1em; text-align: center; vertical-align: top\">Stop Pacifier Sucking<br>without tears with ...</td>\n",
              "        <td style=\"padding-left: 1em; padding-right: 1em; text-align: center; vertical-align: top\">All of my kids have cried<br>non-stop when I tried to ...</td>\n",
              "        <td style=\"padding-left: 1em; padding-right: 1em; text-align: center; vertical-align: top\">5.0</td>\n",
              "        <td style=\"padding-left: 1em; padding-right: 1em; text-align: center; vertical-align: top\">{'and': 2.0, 'this': 2.0,<br>'all': 2.0, 'love': 1.0, ...</td>\n",
              "        <td style=\"padding-left: 1em; padding-right: 1em; text-align: center; vertical-align: top\">1</td>\n",
              "    </tr>\n",
              "    <tr>\n",
              "        <td style=\"padding-left: 1em; padding-right: 1em; text-align: center; vertical-align: top\">Stop Pacifier Sucking<br>without tears with ...</td>\n",
              "        <td style=\"padding-left: 1em; padding-right: 1em; text-align: center; vertical-align: top\">When the Binky Fairy came<br>to our house, we didn't ...</td>\n",
              "        <td style=\"padding-left: 1em; padding-right: 1em; text-align: center; vertical-align: top\">5.0</td>\n",
              "        <td style=\"padding-left: 1em; padding-right: 1em; text-align: center; vertical-align: top\">{'and': 2.0, 'cute': 1.0,<br>'help': 2.0, 'habit': ...</td>\n",
              "        <td style=\"padding-left: 1em; padding-right: 1em; text-align: center; vertical-align: top\">1</td>\n",
              "    </tr>\n",
              "    <tr>\n",
              "        <td style=\"padding-left: 1em; padding-right: 1em; text-align: center; vertical-align: top\">A Tale of Baby's Days<br>with Peter Rabbit ...</td>\n",
              "        <td style=\"padding-left: 1em; padding-right: 1em; text-align: center; vertical-align: top\">Lovely book, it's bound<br>tightly so you may no ...</td>\n",
              "        <td style=\"padding-left: 1em; padding-right: 1em; text-align: center; vertical-align: top\">4.0</td>\n",
              "        <td style=\"padding-left: 1em; padding-right: 1em; text-align: center; vertical-align: top\">{'shop': 1.0, 'be': 1.0,<br>'is': 1.0, 'bound': 1.0, ...</td>\n",
              "        <td style=\"padding-left: 1em; padding-right: 1em; text-align: center; vertical-align: top\">1</td>\n",
              "    </tr>\n",
              "    <tr>\n",
              "        <td style=\"padding-left: 1em; padding-right: 1em; text-align: center; vertical-align: top\">Baby Tracker&amp;reg; - Daily<br>Childcare Journal, ...</td>\n",
              "        <td style=\"padding-left: 1em; padding-right: 1em; text-align: center; vertical-align: top\">Perfect for new parents.<br>We were able to keep ...</td>\n",
              "        <td style=\"padding-left: 1em; padding-right: 1em; text-align: center; vertical-align: top\">5.0</td>\n",
              "        <td style=\"padding-left: 1em; padding-right: 1em; text-align: center; vertical-align: top\">{'and': 2.0, 'all': 1.0,<br>'right': 1.0, 'able': ...</td>\n",
              "        <td style=\"padding-left: 1em; padding-right: 1em; text-align: center; vertical-align: top\">1</td>\n",
              "    </tr>\n",
              "    <tr>\n",
              "        <td style=\"padding-left: 1em; padding-right: 1em; text-align: center; vertical-align: top\">Baby Tracker&amp;reg; - Daily<br>Childcare Journal, ...</td>\n",
              "        <td style=\"padding-left: 1em; padding-right: 1em; text-align: center; vertical-align: top\">A friend of mine pinned<br>this product on Pinte ...</td>\n",
              "        <td style=\"padding-left: 1em; padding-right: 1em; text-align: center; vertical-align: top\">5.0</td>\n",
              "        <td style=\"padding-left: 1em; padding-right: 1em; text-align: center; vertical-align: top\">{'and': 1.0, 'fantastic':<br>1.0, 'help': 1.0, 'gi ...</td>\n",
              "        <td style=\"padding-left: 1em; padding-right: 1em; text-align: center; vertical-align: top\">1</td>\n",
              "    </tr>\n",
              "    <tr>\n",
              "        <td style=\"padding-left: 1em; padding-right: 1em; text-align: center; vertical-align: top\">Baby Tracker&amp;reg; - Daily<br>Childcare Journal, ...</td>\n",
              "        <td style=\"padding-left: 1em; padding-right: 1em; text-align: center; vertical-align: top\">This has been an easy way<br>for my nanny to record ...</td>\n",
              "        <td style=\"padding-left: 1em; padding-right: 1em; text-align: center; vertical-align: top\">4.0</td>\n",
              "        <td style=\"padding-left: 1em; padding-right: 1em; text-align: center; vertical-align: top\">{'pre': 1.0, 'all': 1.0,<br>'standarad': 1.0, ...</td>\n",
              "        <td style=\"padding-left: 1em; padding-right: 1em; text-align: center; vertical-align: top\">1</td>\n",
              "    </tr>\n",
              "    <tr>\n",
              "        <td style=\"padding-left: 1em; padding-right: 1em; text-align: center; vertical-align: top\">Baby Tracker&amp;reg; - Daily<br>Childcare Journal, ...</td>\n",
              "        <td style=\"padding-left: 1em; padding-right: 1em; text-align: center; vertical-align: top\">I love this journal and<br>our nanny uses it ...</td>\n",
              "        <td style=\"padding-left: 1em; padding-right: 1em; text-align: center; vertical-align: top\">4.0</td>\n",
              "        <td style=\"padding-left: 1em; padding-right: 1em; text-align: center; vertical-align: top\">{'all': 2.0, 'forget':<br>1.0, 'just': 1.0, 'fo ...</td>\n",
              "        <td style=\"padding-left: 1em; padding-right: 1em; text-align: center; vertical-align: top\">1</td>\n",
              "    </tr>\n",
              "</table>\n",
              "<table frame=\"box\" rules=\"cols\">\n",
              "    <tr>\n",
              "        <th style=\"padding-left: 1em; padding-right: 1em; text-align: center\">predicted_sentiment</th>\n",
              "    </tr>\n",
              "    <tr>\n",
              "        <td style=\"padding-left: 1em; padding-right: 1em; text-align: center; vertical-align: top\">0.999730739005</td>\n",
              "    </tr>\n",
              "    <tr>\n",
              "        <td style=\"padding-left: 1em; padding-right: 1em; text-align: center; vertical-align: top\">0.998508336832</td>\n",
              "    </tr>\n",
              "    <tr>\n",
              "        <td style=\"padding-left: 1em; padding-right: 1em; text-align: center; vertical-align: top\">0.99974890425</td>\n",
              "    </tr>\n",
              "    <tr>\n",
              "        <td style=\"padding-left: 1em; padding-right: 1em; text-align: center; vertical-align: top\">0.99999166254</td>\n",
              "    </tr>\n",
              "    <tr>\n",
              "        <td style=\"padding-left: 1em; padding-right: 1em; text-align: center; vertical-align: top\">0.999999951446</td>\n",
              "    </tr>\n",
              "    <tr>\n",
              "        <td style=\"padding-left: 1em; padding-right: 1em; text-align: center; vertical-align: top\">0.999914673557</td>\n",
              "    </tr>\n",
              "    <tr>\n",
              "        <td style=\"padding-left: 1em; padding-right: 1em; text-align: center; vertical-align: top\">0.99999166159</td>\n",
              "    </tr>\n",
              "    <tr>\n",
              "        <td style=\"padding-left: 1em; padding-right: 1em; text-align: center; vertical-align: top\">0.999993884359</td>\n",
              "    </tr>\n",
              "    <tr>\n",
              "        <td style=\"padding-left: 1em; padding-right: 1em; text-align: center; vertical-align: top\">0.996124761701</td>\n",
              "    </tr>\n",
              "    <tr>\n",
              "        <td style=\"padding-left: 1em; padding-right: 1em; text-align: center; vertical-align: top\">0.999999992046</td>\n",
              "    </tr>\n",
              "</table>\n",
              "[166752 rows x 6 columns]<br/>Note: Only the head of the SFrame is printed.<br/>You can use print_rows(num_rows=m, num_columns=n) to print more rows and columns.\n",
              "</div>"
            ]
          },
          "metadata": {
            "tags": []
          },
          "execution_count": 21
        }
      ]
    },
    {
      "cell_type": "code",
      "metadata": {
        "id": "C0_A8apC-Y-l",
        "colab_type": "code",
        "colab": {}
      },
      "source": [
        "giraffe_reviews = products[products['name']== 'Vulli Sophie the Giraffe Teether']"
      ],
      "execution_count": null,
      "outputs": []
    },
    {
      "cell_type": "code",
      "metadata": {
        "id": "k-TN_1_S-Y-o",
        "colab_type": "code",
        "colab": {
          "base_uri": "https://localhost:8080/",
          "height": 660
        },
        "outputId": "ed5c599a-92c6-482f-f9a7-faaf8c5cab09"
      },
      "source": [
        "giraffe_reviews"
      ],
      "execution_count": null,
      "outputs": [
        {
          "output_type": "execute_result",
          "data": {
            "text/plain": [
              "Columns:\n",
              "\tname\tstr\n",
              "\treview\tstr\n",
              "\trating\tfloat\n",
              "\tword_count\tdict\n",
              "\tsentiment\tint\n",
              "\tpredicted_sentiment\tfloat\n",
              "\n",
              "Rows: Unknown\n",
              "\n",
              "Data:\n",
              "+-------------------------------+-------------------------------+--------+\n",
              "|              name             |             review            | rating |\n",
              "+-------------------------------+-------------------------------+--------+\n",
              "| Vulli Sophie the Giraffe T... | He likes chewing on all th... |  5.0   |\n",
              "| Vulli Sophie the Giraffe T... | My son loves this toy and ... |  5.0   |\n",
              "| Vulli Sophie the Giraffe T... | There really should be a l... |  1.0   |\n",
              "| Vulli Sophie the Giraffe T... | All the moms in my moms' g... |  5.0   |\n",
              "| Vulli Sophie the Giraffe T... | I was a little skeptical o... |  5.0   |\n",
              "| Vulli Sophie the Giraffe T... | I have been reading about ... |  5.0   |\n",
              "| Vulli Sophie the Giraffe T... | My neice loves her sophie ... |  5.0   |\n",
              "| Vulli Sophie the Giraffe T... | What a friendly face!  And... |  5.0   |\n",
              "| Vulli Sophie the Giraffe T... | We got this just for my so... |  5.0   |\n",
              "| Vulli Sophie the Giraffe T... | This product is without a ... |  5.0   |\n",
              "+-------------------------------+-------------------------------+--------+\n",
              "+-------------------------------+-----------+---------------------+\n",
              "|           word_count          | sentiment | predicted_sentiment |\n",
              "+-------------------------------+-----------+---------------------+\n",
              "| {'and': 1.0, 'all': 1.0, '... |     1     |    0.999365536568   |\n",
              "| {'and': 1.0, 'right': 1.0,... |     1     |    0.999863379169   |\n",
              "| {'and': 2.0, 'all': 1.0, '... |     0     |    0.254526819821   |\n",
              "| {'and': 2.0, 'all': 1.0, '... |     1     |    0.916568808394   |\n",
              "| {'and': 3.0, 'all': 1.0, '... |     1     |    0.685576820602   |\n",
              "| {'and': 6.0, 'seven': 1.0,... |     1     |    0.999999944521   |\n",
              "| {'and': 4.0, 'drooling': 1... |     1     |    0.997935118109   |\n",
              "| {'and': 3.0, 'chew': 1.0, ... |     1     |    0.999974500483   |\n",
              "| {'chew': 2.0, 'because': 1... |     1     |    0.946014442839   |\n",
              "| {'and': 4.0, 'everyone': 1... |     1     |    0.999999972167   |\n",
              "+-------------------------------+-----------+---------------------+\n",
              "[? rows x 6 columns]\n",
              "Note: Only the head of the SFrame is printed. This SFrame is lazily evaluated.\n",
              "You can use sf.materialize() to force materialization."
            ],
            "text/html": [
              "<div style=\"max-height:1000px;max-width:1500px;overflow:auto;\"><table frame=\"box\" rules=\"cols\">\n",
              "    <tr>\n",
              "        <th style=\"padding-left: 1em; padding-right: 1em; text-align: center\">name</th>\n",
              "        <th style=\"padding-left: 1em; padding-right: 1em; text-align: center\">review</th>\n",
              "        <th style=\"padding-left: 1em; padding-right: 1em; text-align: center\">rating</th>\n",
              "        <th style=\"padding-left: 1em; padding-right: 1em; text-align: center\">word_count</th>\n",
              "        <th style=\"padding-left: 1em; padding-right: 1em; text-align: center\">sentiment</th>\n",
              "    </tr>\n",
              "    <tr>\n",
              "        <td style=\"padding-left: 1em; padding-right: 1em; text-align: center; vertical-align: top\">Vulli Sophie the Giraffe<br>Teether ...</td>\n",
              "        <td style=\"padding-left: 1em; padding-right: 1em; text-align: center; vertical-align: top\">He likes chewing on all<br>the parts especially the ...</td>\n",
              "        <td style=\"padding-left: 1em; padding-right: 1em; text-align: center; vertical-align: top\">5.0</td>\n",
              "        <td style=\"padding-left: 1em; padding-right: 1em; text-align: center; vertical-align: top\">{'and': 1.0, 'all': 1.0,<br>'because': 1.0, 'it': ...</td>\n",
              "        <td style=\"padding-left: 1em; padding-right: 1em; text-align: center; vertical-align: top\">1</td>\n",
              "    </tr>\n",
              "    <tr>\n",
              "        <td style=\"padding-left: 1em; padding-right: 1em; text-align: center; vertical-align: top\">Vulli Sophie the Giraffe<br>Teether ...</td>\n",
              "        <td style=\"padding-left: 1em; padding-right: 1em; text-align: center; vertical-align: top\">My son loves this toy and<br>fits great in the diaper ...</td>\n",
              "        <td style=\"padding-left: 1em; padding-right: 1em; text-align: center; vertical-align: top\">5.0</td>\n",
              "        <td style=\"padding-left: 1em; padding-right: 1em; text-align: center; vertical-align: top\">{'and': 1.0, 'right':<br>1.0, 'help': 1.0, 'ju ...</td>\n",
              "        <td style=\"padding-left: 1em; padding-right: 1em; text-align: center; vertical-align: top\">1</td>\n",
              "    </tr>\n",
              "    <tr>\n",
              "        <td style=\"padding-left: 1em; padding-right: 1em; text-align: center; vertical-align: top\">Vulli Sophie the Giraffe<br>Teether ...</td>\n",
              "        <td style=\"padding-left: 1em; padding-right: 1em; text-align: center; vertical-align: top\">There really should be a<br>large warning on the  ...</td>\n",
              "        <td style=\"padding-left: 1em; padding-right: 1em; text-align: center; vertical-align: top\">1.0</td>\n",
              "        <td style=\"padding-left: 1em; padding-right: 1em; text-align: center; vertical-align: top\">{'and': 2.0, 'all': 1.0,<br>'being': 1.0, 'caused': ...</td>\n",
              "        <td style=\"padding-left: 1em; padding-right: 1em; text-align: center; vertical-align: top\">0</td>\n",
              "    </tr>\n",
              "    <tr>\n",
              "        <td style=\"padding-left: 1em; padding-right: 1em; text-align: center; vertical-align: top\">Vulli Sophie the Giraffe<br>Teether ...</td>\n",
              "        <td style=\"padding-left: 1em; padding-right: 1em; text-align: center; vertical-align: top\">All the moms in my moms'<br>group got Sophie for ...</td>\n",
              "        <td style=\"padding-left: 1em; padding-right: 1em; text-align: center; vertical-align: top\">5.0</td>\n",
              "        <td style=\"padding-left: 1em; padding-right: 1em; text-align: center; vertical-align: top\">{'and': 2.0, 'all': 1.0,<br>'love': 1.0, 'have':  ...</td>\n",
              "        <td style=\"padding-left: 1em; padding-right: 1em; text-align: center; vertical-align: top\">1</td>\n",
              "    </tr>\n",
              "    <tr>\n",
              "        <td style=\"padding-left: 1em; padding-right: 1em; text-align: center; vertical-align: top\">Vulli Sophie the Giraffe<br>Teether ...</td>\n",
              "        <td style=\"padding-left: 1em; padding-right: 1em; text-align: center; vertical-align: top\">I was a little skeptical<br>on whether Sophie was ...</td>\n",
              "        <td style=\"padding-left: 1em; padding-right: 1em; text-align: center; vertical-align: top\">5.0</td>\n",
              "        <td style=\"padding-left: 1em; padding-right: 1em; text-align: center; vertical-align: top\">{'and': 3.0, 'all': 1.0,<br>'old': 1.0, 'almost': ...</td>\n",
              "        <td style=\"padding-left: 1em; padding-right: 1em; text-align: center; vertical-align: top\">1</td>\n",
              "    </tr>\n",
              "    <tr>\n",
              "        <td style=\"padding-left: 1em; padding-right: 1em; text-align: center; vertical-align: top\">Vulli Sophie the Giraffe<br>Teether ...</td>\n",
              "        <td style=\"padding-left: 1em; padding-right: 1em; text-align: center; vertical-align: top\">I have been reading about<br>Sophie and was going  ...</td>\n",
              "        <td style=\"padding-left: 1em; padding-right: 1em; text-align: center; vertical-align: top\">5.0</td>\n",
              "        <td style=\"padding-left: 1em; padding-right: 1em; text-align: center; vertical-align: top\">{'and': 6.0, 'seven':<br>1.0, 'already': 1.0, ...</td>\n",
              "        <td style=\"padding-left: 1em; padding-right: 1em; text-align: center; vertical-align: top\">1</td>\n",
              "    </tr>\n",
              "    <tr>\n",
              "        <td style=\"padding-left: 1em; padding-right: 1em; text-align: center; vertical-align: top\">Vulli Sophie the Giraffe<br>Teether ...</td>\n",
              "        <td style=\"padding-left: 1em; padding-right: 1em; text-align: center; vertical-align: top\">My neice loves her sophie<br>and has spent hours ...</td>\n",
              "        <td style=\"padding-left: 1em; padding-right: 1em; text-align: center; vertical-align: top\">5.0</td>\n",
              "        <td style=\"padding-left: 1em; padding-right: 1em; text-align: center; vertical-align: top\">{'and': 4.0, 'drooling':<br>1.0, 'additionally':  ...</td>\n",
              "        <td style=\"padding-left: 1em; padding-right: 1em; text-align: center; vertical-align: top\">1</td>\n",
              "    </tr>\n",
              "    <tr>\n",
              "        <td style=\"padding-left: 1em; padding-right: 1em; text-align: center; vertical-align: top\">Vulli Sophie the Giraffe<br>Teether ...</td>\n",
              "        <td style=\"padding-left: 1em; padding-right: 1em; text-align: center; vertical-align: top\">What a friendly face!<br>And those mesmerizing ...</td>\n",
              "        <td style=\"padding-left: 1em; padding-right: 1em; text-align: center; vertical-align: top\">5.0</td>\n",
              "        <td style=\"padding-left: 1em; padding-right: 1em; text-align: center; vertical-align: top\">{'and': 3.0, 'chew': 1.0,<br>'sweet': 1.0, 'is': 1.0, ...</td>\n",
              "        <td style=\"padding-left: 1em; padding-right: 1em; text-align: center; vertical-align: top\">1</td>\n",
              "    </tr>\n",
              "    <tr>\n",
              "        <td style=\"padding-left: 1em; padding-right: 1em; text-align: center; vertical-align: top\">Vulli Sophie the Giraffe<br>Teether ...</td>\n",
              "        <td style=\"padding-left: 1em; padding-right: 1em; text-align: center; vertical-align: top\">We got this just for my<br>son to chew on instea ...</td>\n",
              "        <td style=\"padding-left: 1em; padding-right: 1em; text-align: center; vertical-align: top\">5.0</td>\n",
              "        <td style=\"padding-left: 1em; padding-right: 1em; text-align: center; vertical-align: top\">{'chew': 2.0, 'because':<br>1.0, 'just': 2.0, 'fe ...</td>\n",
              "        <td style=\"padding-left: 1em; padding-right: 1em; text-align: center; vertical-align: top\">1</td>\n",
              "    </tr>\n",
              "    <tr>\n",
              "        <td style=\"padding-left: 1em; padding-right: 1em; text-align: center; vertical-align: top\">Vulli Sophie the Giraffe<br>Teether ...</td>\n",
              "        <td style=\"padding-left: 1em; padding-right: 1em; text-align: center; vertical-align: top\">This product is without a<br>doubt the best on the ...</td>\n",
              "        <td style=\"padding-left: 1em; padding-right: 1em; text-align: center; vertical-align: top\">5.0</td>\n",
              "        <td style=\"padding-left: 1em; padding-right: 1em; text-align: center; vertical-align: top\">{'and': 4.0, 'everyone':<br>1.0, 'teething': 1.0, ...</td>\n",
              "        <td style=\"padding-left: 1em; padding-right: 1em; text-align: center; vertical-align: top\">1</td>\n",
              "    </tr>\n",
              "</table>\n",
              "<table frame=\"box\" rules=\"cols\">\n",
              "    <tr>\n",
              "        <th style=\"padding-left: 1em; padding-right: 1em; text-align: center\">predicted_sentiment</th>\n",
              "    </tr>\n",
              "    <tr>\n",
              "        <td style=\"padding-left: 1em; padding-right: 1em; text-align: center; vertical-align: top\">0.999365536568</td>\n",
              "    </tr>\n",
              "    <tr>\n",
              "        <td style=\"padding-left: 1em; padding-right: 1em; text-align: center; vertical-align: top\">0.999863379169</td>\n",
              "    </tr>\n",
              "    <tr>\n",
              "        <td style=\"padding-left: 1em; padding-right: 1em; text-align: center; vertical-align: top\">0.254526819821</td>\n",
              "    </tr>\n",
              "    <tr>\n",
              "        <td style=\"padding-left: 1em; padding-right: 1em; text-align: center; vertical-align: top\">0.916568808394</td>\n",
              "    </tr>\n",
              "    <tr>\n",
              "        <td style=\"padding-left: 1em; padding-right: 1em; text-align: center; vertical-align: top\">0.685576820602</td>\n",
              "    </tr>\n",
              "    <tr>\n",
              "        <td style=\"padding-left: 1em; padding-right: 1em; text-align: center; vertical-align: top\">0.999999944521</td>\n",
              "    </tr>\n",
              "    <tr>\n",
              "        <td style=\"padding-left: 1em; padding-right: 1em; text-align: center; vertical-align: top\">0.997935118109</td>\n",
              "    </tr>\n",
              "    <tr>\n",
              "        <td style=\"padding-left: 1em; padding-right: 1em; text-align: center; vertical-align: top\">0.999974500483</td>\n",
              "    </tr>\n",
              "    <tr>\n",
              "        <td style=\"padding-left: 1em; padding-right: 1em; text-align: center; vertical-align: top\">0.946014442839</td>\n",
              "    </tr>\n",
              "    <tr>\n",
              "        <td style=\"padding-left: 1em; padding-right: 1em; text-align: center; vertical-align: top\">0.999999972167</td>\n",
              "    </tr>\n",
              "</table>\n",
              "[? rows x 6 columns]<br/>Note: Only the head of the SFrame is printed. This SFrame is lazily evaluated.<br/>You can use sf.materialize() to force materialization.\n",
              "</div>"
            ]
          },
          "metadata": {
            "tags": []
          },
          "execution_count": 23
        }
      ]
    },
    {
      "cell_type": "code",
      "metadata": {
        "id": "4zggv-0_WiMH",
        "colab_type": "code",
        "colab": {
          "base_uri": "https://localhost:8080/",
          "height": 1000
        },
        "outputId": "48efe24a-7df7-4905-b5b8-298841fe3429"
      },
      "source": [
        "giraffe_reviews.show()"
      ],
      "execution_count": null,
      "outputs": [
        {
          "output_type": "display_data",
          "data": {
            "text/plain": [
              "Materializing SFrame"
            ],
            "text/html": [
              "<pre>Materializing SFrame</pre>"
            ]
          },
          "metadata": {
            "tags": []
          }
        },
        {
          "output_type": "display_data",
          "data": {
            "text/plain": [
              "Warning: Skipping column 'word_count'. Unable to show columns of type 'dictionary'; only [int, float, str] can be shown."
            ],
            "text/html": [
              "<pre>Warning: Skipping column 'word_count'. Unable to show columns of type 'dictionary'; only [int, float, str] can be shown.</pre>"
            ]
          },
          "metadata": {
            "tags": []
          }
        },
        {
          "output_type": "display_data",
          "data": {
            "text/plain": [
              "Further warnings of unsupported type will be suppressed."
            ],
            "text/html": [
              "<pre>Further warnings of unsupported type will be suppressed.</pre>"
            ]
          },
          "metadata": {
            "tags": []
          }
        },
        {
          "output_type": "display_data",
          "data": {
            "text/plain": [
              "<IPython.core.display.HTML object>"
            ],
            "text/html": [
              "<html>                 <body>                     <iframe style=\"border:0;margin:0\" width=\"1000\" height=\"1800\" srcdoc='<html lang=\"en\">                         <head>                             <script src=\"https://cdnjs.cloudflare.com/ajax/libs/vega/5.4.0/vega.js\"></script>                             <script src=\"https://cdnjs.cloudflare.com/ajax/libs/vega-embed/4.0.0/vega-embed.js\"></script>                             <script src=\"https://cdnjs.cloudflare.com/ajax/libs/vega-tooltip/0.5.1/vega-tooltip.min.js\"></script>                             <link rel=\"stylesheet\" type=\"text/css\" href=\"https://cdnjs.cloudflare.com/ajax/libs/vega-tooltip/0.5.1/vega-tooltip.min.css\">                             <style>                             .vega-actions > a{                                 color:white;                                 text-decoration: none;                                 font-family: \"Arial\";                                 cursor:pointer;                                 padding:5px;                                 background:#AAAAAA;                                 border-radius:4px;                                 padding-left:10px;                                 padding-right:10px;                                 margin-right:5px;                             }                             .vega-actions{                                 margin-top:20px;                                 text-align:center                             }                            .vega-actions > a{                                 background:#999999;                            }                             </style>                         </head>                         <body>                             <div id=\"vis\">                             </div>                             <script>                                 var vega_json = \"{\\\"config\\\": {\\\"style\\\": {\\\"rect\\\": {\\\"stroke\\\": \\\"rgba(200, 200, 200, 0.5)\\\"}, \\\"group-title\\\": {\\\"fontWeight\\\": \\\"normal\\\", \\\"font\\\": \\\"HelveticaNeue-Light, Arial\\\", \\\"fontSize\\\": 20, \\\"fill\\\": \\\"#595959\\\"}}, \\\"axisY\\\": {\\\"minExtent\\\": 30}, \\\"axis\\\": {\\\"titlePadding\\\": 9, \\\"labelPadding\\\": 10, \\\"labelFont\\\": \\\"HelveticaNeue-Light, Arial\\\", \\\"labelFontSize\\\": 7, \\\"labelColor\\\": \\\"#595959\\\", \\\"titleFont\\\": \\\"HelveticaNeue-Light, Arial\\\", \\\"titleFontSize\\\": 12, \\\"titleColor\\\": \\\"#595959\\\", \\\"titleFontWeight\\\": \\\"normal\\\"}}, \\\"height\\\": 1580, \\\"padding\\\": 8, \\\"width\\\": 800, \\\"marks\\\": [{\\\"encode\\\": {\\\"enter\\\": {\\\"strokeWidth\\\": {\\\"value\\\": 0}, \\\"clip\\\": {\\\"value\\\": 0}, \\\"height\\\": {\\\"value\\\": 366}, \\\"width\\\": {\\\"value\\\": 734}, \\\"stroke\\\": {\\\"value\\\": \\\"#000000\\\"}, \\\"fillOpacity\\\": {\\\"value\\\": 0}, \\\"y\\\": {\\\"value\\\": 0}, \\\"x\\\": {\\\"value\\\": 0}, \\\"fill\\\": {\\\"value\\\": \\\"#ffffff\\\"}}}, \\\"type\\\": \\\"group\\\", \\\"marks\\\": [{\\\"encode\\\": {\\\"enter\\\": {\\\"strokeWidth\\\": {\\\"value\\\": 0}, \\\"clip\\\": {\\\"value\\\": 0}, \\\"height\\\": {\\\"value\\\": 366}, \\\"width\\\": {\\\"value\\\": 734}, \\\"stroke\\\": {\\\"value\\\": \\\"#000000\\\"}, \\\"fillOpacity\\\": {\\\"value\\\": 0}, \\\"y\\\": {\\\"value\\\": 0}, \\\"x\\\": {\\\"value\\\": 0}, \\\"fill\\\": {\\\"value\\\": \\\"#ffffff\\\"}}}, \\\"marks\\\": [{\\\"encode\\\": {\\\"update\\\": {\\\"y\\\": {\\\"field\\\": \\\"c_main_background\\\"}, \\\"x\\\": {\\\"signal\\\": \\\"datum[\\\\\\\"c_x_axis_back\\\\\\\"]\\\"}}, \\\"enter\\\": {\\\"strokeWidth\\\": {\\\"value\\\": 0.5}, \\\"height\\\": {\\\"value\\\": 250}, \\\"width\\\": {\\\"value\\\": 700}, \\\"stroke\\\": {\\\"value\\\": \\\"#DEDEDE\\\"}, \\\"fillOpacity\\\": {\\\"value\\\": 1}, \\\"y\\\": {\\\"value\\\": 66}, \\\"x\\\": {\\\"value\\\": 33}, \\\"fill\\\": {\\\"value\\\": \\\"#FEFEFE\\\"}}}, \\\"type\\\": \\\"rect\\\", \\\"from\\\": {\\\"data\\\": \\\"data_2\\\"}}, {\\\"encode\\\": {\\\"update\\\": {\\\"y\\\": {\\\"field\\\": \\\"c_top_bar\\\"}, \\\"x\\\": {\\\"signal\\\": \\\"datum[\\\\\\\"c_x_axis_back\\\\\\\"]\\\"}}, \\\"enter\\\": {\\\"strokeWidth\\\": {\\\"value\\\": 0.5}, \\\"height\\\": {\\\"value\\\": 30}, \\\"width\\\": {\\\"value\\\": 700}, \\\"stroke\\\": {\\\"value\\\": \\\"#DEDEDE\\\"}, \\\"fillOpacity\\\": {\\\"value\\\": 1}, \\\"y\\\": {\\\"value\\\": 43}, \\\"x\\\": {\\\"value\\\": 33}, \\\"fill\\\": {\\\"value\\\": \\\"#F5F5F5\\\"}}}, \\\"type\\\": \\\"rect\\\", \\\"from\\\": {\\\"data\\\": \\\"data_2\\\"}}, {\\\"encode\\\": {\\\"update\\\": {\\\"y\\\": {\\\"field\\\": \\\"c_top_type\\\"}, \\\"x\\\": {\\\"signal\\\": \\\"datum[\\\\\\\"c_x_axis_back\\\\\\\"]+687\\\"}}, \\\"enter\\\": {\\\"fontStyle\\\": {\\\"value\\\": \\\"normal\\\"}, \\\"angle\\\": {\\\"value\\\": 0}, \\\"baseline\\\": {\\\"value\\\": \\\"middle\\\"}, \\\"text\\\": {\\\"signal\\\": \\\"&apos;&apos;+datum[\\\\\\\"type\\\\\\\"]\\\"}, \\\"align\\\": {\\\"value\\\": \\\"right\\\"}, \\\"fontWeight\\\": {\\\"value\\\": \\\"normal\\\"}, \\\"fontSize\\\": {\\\"value\\\": 12}, \\\"dx\\\": {\\\"value\\\": 0, \\\"offset\\\": 0}, \\\"dy\\\": {\\\"value\\\": 0, \\\"offset\\\": 0}, \\\"y\\\": {\\\"value\\\": 58}, \\\"x\\\": {\\\"value\\\": 720}, \\\"font\\\": {\\\"value\\\": \\\"AvenirNext-Medium\\\"}, \\\"fill\\\": {\\\"value\\\": \\\"#595859\\\"}}}, \\\"type\\\": \\\"text\\\", \\\"from\\\": {\\\"data\\\": \\\"data_2\\\"}}, {\\\"encode\\\": {\\\"update\\\": {\\\"y\\\": {\\\"field\\\": \\\"c_top_title\\\"}, \\\"x\\\": {\\\"signal\\\": \\\"datum[\\\\\\\"c_x_axis_back\\\\\\\"]+11\\\"}}, \\\"enter\\\": {\\\"fontStyle\\\": {\\\"value\\\": \\\"normal\\\"}, \\\"angle\\\": {\\\"value\\\": 0}, \\\"baseline\\\": {\\\"value\\\": \\\"middle\\\"}, \\\"text\\\": {\\\"signal\\\": \\\"&apos;&apos;+datum[\\\\\\\"title\\\\\\\"]\\\"}, \\\"align\\\": {\\\"value\\\": \\\"left\\\"}, \\\"fontWeight\\\": {\\\"value\\\": \\\"normal\\\"}, \\\"fontSize\\\": {\\\"value\\\": 15}, \\\"dx\\\": {\\\"value\\\": 0, \\\"offset\\\": 0}, \\\"dy\\\": {\\\"value\\\": 0, \\\"offset\\\": 0}, \\\"y\\\": {\\\"value\\\": 59}, \\\"x\\\": {\\\"value\\\": 44}, \\\"font\\\": {\\\"value\\\": \\\"AvenirNext-Medium\\\"}, \\\"fill\\\": {\\\"value\\\": \\\"#9B9B9B\\\"}}}, \\\"type\\\": \\\"text\\\", \\\"from\\\": {\\\"data\\\": \\\"data_2\\\"}}, {\\\"encode\\\": {\\\"update\\\": {\\\"x2\\\": {\\\"signal\\\": \\\"datum[\\\\\\\"c_x_axis_back\\\\\\\"]+687\\\"}, \\\"x\\\": {\\\"signal\\\": \\\"datum[\\\\\\\"c_x_axis_back\\\\\\\"]+467\\\"}, \\\"y2\\\": {\\\"field\\\": \\\"c_rule\\\"}, \\\"y\\\": {\\\"field\\\": \\\"c_rule\\\"}}, \\\"enter\\\": {\\\"strokeWidth\\\": {\\\"value\\\": 1}, \\\"strokeCap\\\": {\\\"value\\\": \\\"butt\\\"}, \\\"x2\\\": {\\\"value\\\": 720}, \\\"stroke\\\": {\\\"value\\\": \\\"#EDEDEB\\\"}, \\\"y\\\": {\\\"value\\\": 178}, \\\"x\\\": {\\\"value\\\": 500}, \\\"y2\\\": {\\\"value\\\": 178}}}, \\\"type\\\": \\\"rule\\\", \\\"from\\\": {\\\"data\\\": \\\"data_2\\\"}}, {\\\"encode\\\": {\\\"update\\\": {\\\"y\\\": {\\\"field\\\": \\\"c_num_rows\\\"}, \\\"x\\\": {\\\"signal\\\": \\\"datum[\\\\\\\"c_x_axis_back\\\\\\\"]+467\\\"}}, \\\"enter\\\": {\\\"fontStyle\\\": {\\\"value\\\": \\\"normal\\\"}, \\\"angle\\\": {\\\"value\\\": 0}, \\\"baseline\\\": {\\\"value\\\": \\\"middle\\\"}, \\\"text\\\": {\\\"value\\\": \\\"Num. Rows:\\\"}, \\\"align\\\": {\\\"value\\\": \\\"left\\\"}, \\\"fontWeight\\\": {\\\"value\\\": \\\"normal\\\"}, \\\"fontSize\\\": {\\\"value\\\": 12}, \\\"dx\\\": {\\\"value\\\": 0, \\\"offset\\\": 0}, \\\"dy\\\": {\\\"value\\\": 0, \\\"offset\\\": 0}, \\\"y\\\": {\\\"value\\\": 106}, \\\"x\\\": {\\\"value\\\": 500}, \\\"font\\\": {\\\"value\\\": \\\"AvenirNext-Medium\\\"}, \\\"fill\\\": {\\\"value\\\": \\\"#4A4A4A\\\"}}}, \\\"type\\\": \\\"text\\\", \\\"from\\\": {\\\"data\\\": \\\"data_2\\\"}}, {\\\"encode\\\": {\\\"update\\\": {\\\"y\\\": {\\\"field\\\": \\\"c_num_unique\\\"}, \\\"x\\\": {\\\"signal\\\": \\\"datum[\\\\\\\"c_x_axis_back\\\\\\\"]+467\\\"}}, \\\"enter\\\": {\\\"fontStyle\\\": {\\\"value\\\": \\\"normal\\\"}, \\\"angle\\\": {\\\"value\\\": 0}, \\\"baseline\\\": {\\\"value\\\": \\\"middle\\\"}, \\\"text\\\": {\\\"value\\\": \\\"Num. Unique:\\\"}, \\\"align\\\": {\\\"value\\\": \\\"left\\\"}, \\\"fontWeight\\\": {\\\"value\\\": \\\"normal\\\"}, \\\"fontSize\\\": {\\\"value\\\": 12}, \\\"dx\\\": {\\\"value\\\": 0, \\\"offset\\\": 0}, \\\"dy\\\": {\\\"value\\\": 0, \\\"offset\\\": 0}, \\\"y\\\": {\\\"value\\\": 130}, \\\"x\\\": {\\\"value\\\": 500}, \\\"font\\\": {\\\"value\\\": \\\"AvenirNext-Medium\\\"}, \\\"fill\\\": {\\\"value\\\": \\\"#4A4A4A\\\"}}}, \\\"type\\\": \\\"text\\\", \\\"from\\\": {\\\"data\\\": \\\"data_2\\\"}}, {\\\"encode\\\": {\\\"update\\\": {\\\"y\\\": {\\\"field\\\": \\\"c_missing\\\"}, \\\"x\\\": {\\\"signal\\\": \\\"datum[\\\\\\\"c_x_axis_back\\\\\\\"]+467\\\"}}, \\\"enter\\\": {\\\"fontStyle\\\": {\\\"value\\\": \\\"normal\\\"}, \\\"angle\\\": {\\\"value\\\": 0}, \\\"baseline\\\": {\\\"value\\\": \\\"middle\\\"}, \\\"text\\\": {\\\"value\\\": \\\"Missing:\\\"}, \\\"align\\\": {\\\"value\\\": \\\"left\\\"}, \\\"fontWeight\\\": {\\\"value\\\": \\\"normal\\\"}, \\\"fontSize\\\": {\\\"value\\\": 12}, \\\"dx\\\": {\\\"value\\\": 0, \\\"offset\\\": 0}, \\\"dy\\\": {\\\"value\\\": 0, \\\"offset\\\": 0}, \\\"y\\\": {\\\"value\\\": 154}, \\\"x\\\": {\\\"value\\\": 500}, \\\"font\\\": {\\\"value\\\": \\\"AvenirNext-Medium\\\"}, \\\"fill\\\": {\\\"value\\\": \\\"#4A4A4A\\\"}}}, \\\"type\\\": \\\"text\\\", \\\"from\\\": {\\\"data\\\": \\\"data_2\\\"}}, {\\\"encode\\\": {\\\"update\\\": {\\\"y\\\": {\\\"field\\\": \\\"c_num_rows_val\\\"}, \\\"x\\\": {\\\"signal\\\": \\\"datum[\\\\\\\"c_x_axis_back\\\\\\\"]+667\\\"}}, \\\"enter\\\": {\\\"fontStyle\\\": {\\\"value\\\": \\\"normal\\\"}, \\\"angle\\\": {\\\"value\\\": 0}, \\\"baseline\\\": {\\\"value\\\": \\\"middle\\\"}, \\\"text\\\": {\\\"signal\\\": \\\"toString(format(datum[\\\\\\\"num_row\\\\\\\"], \\\\\\\",\\\\\\\"))\\\"}, \\\"align\\\": {\\\"value\\\": \\\"right\\\"}, \\\"fontWeight\\\": {\\\"value\\\": \\\"normal\\\"}, \\\"fontSize\\\": {\\\"value\\\": 12}, \\\"dx\\\": {\\\"value\\\": 0, \\\"offset\\\": 0}, \\\"dy\\\": {\\\"value\\\": 0, \\\"offset\\\": 0}, \\\"y\\\": {\\\"value\\\": 105}, \\\"x\\\": {\\\"value\\\": 700}, \\\"font\\\": {\\\"value\\\": \\\"AvenirNext-Medium\\\"}, \\\"fill\\\": {\\\"value\\\": \\\"#5A5A5A\\\"}}}, \\\"type\\\": \\\"text\\\", \\\"from\\\": {\\\"data\\\": \\\"data_2\\\"}}, {\\\"encode\\\": {\\\"update\\\": {\\\"y\\\": {\\\"field\\\": \\\"c_num_unique_val\\\"}, \\\"x\\\": {\\\"signal\\\": \\\"datum[\\\\\\\"c_x_axis_back\\\\\\\"]+667\\\"}}, \\\"enter\\\": {\\\"fontStyle\\\": {\\\"value\\\": \\\"normal\\\"}, \\\"angle\\\": {\\\"value\\\": 0}, \\\"baseline\\\": {\\\"value\\\": \\\"middle\\\"}, \\\"text\\\": {\\\"signal\\\": \\\"toString(format(datum[\\\\\\\"num_unique\\\\\\\"], \\\\\\\",\\\\\\\"))\\\"}, \\\"align\\\": {\\\"value\\\": \\\"right\\\"}, \\\"fontWeight\\\": {\\\"value\\\": \\\"normal\\\"}, \\\"fontSize\\\": {\\\"value\\\": 12}, \\\"dx\\\": {\\\"value\\\": 0, \\\"offset\\\": 0}, \\\"dy\\\": {\\\"value\\\": 0, \\\"offset\\\": 0}, \\\"y\\\": {\\\"value\\\": 130}, \\\"x\\\": {\\\"value\\\": 700}, \\\"font\\\": {\\\"value\\\": \\\"AvenirNext-Medium\\\"}, \\\"fill\\\": {\\\"value\\\": \\\"#5A5A5A\\\"}}}, \\\"type\\\": \\\"text\\\", \\\"from\\\": {\\\"data\\\": \\\"data_2\\\"}}, {\\\"encode\\\": {\\\"update\\\": {\\\"y\\\": {\\\"field\\\": \\\"c_missing_val\\\"}, \\\"x\\\": {\\\"signal\\\": \\\"datum[\\\\\\\"c_x_axis_back\\\\\\\"]+667\\\"}}, \\\"enter\\\": {\\\"fontStyle\\\": {\\\"value\\\": \\\"normal\\\"}, \\\"angle\\\": {\\\"value\\\": 0}, \\\"baseline\\\": {\\\"value\\\": \\\"middle\\\"}, \\\"text\\\": {\\\"signal\\\": \\\"toString(format(datum[\\\\\\\"num_missing\\\\\\\"], \\\\\\\",\\\\\\\"))\\\"}, \\\"align\\\": {\\\"value\\\": \\\"right\\\"}, \\\"fontWeight\\\": {\\\"value\\\": \\\"normal\\\"}, \\\"fontSize\\\": {\\\"value\\\": 12}, \\\"dx\\\": {\\\"value\\\": 0, \\\"offset\\\": 0}, \\\"dy\\\": {\\\"value\\\": 0, \\\"offset\\\": 0}, \\\"y\\\": {\\\"value\\\": 154}, \\\"x\\\": {\\\"value\\\": 700}, \\\"font\\\": {\\\"value\\\": \\\"AvenirNext-Medium\\\"}, \\\"fill\\\": {\\\"value\\\": \\\"#5A5A5A\\\"}}}, \\\"type\\\": \\\"text\\\", \\\"from\\\": {\\\"data\\\": \\\"data_2\\\"}}, {\\\"encode\\\": {\\\"update\\\": {\\\"y\\\": {\\\"field\\\": \\\"c_frequent_items\\\"}, \\\"x\\\": {\\\"signal\\\": \\\"datum[\\\\\\\"c_x_axis_back\\\\\\\"]+467\\\"}}, \\\"enter\\\": {\\\"fontStyle\\\": {\\\"value\\\": \\\"normal\\\"}, \\\"angle\\\": {\\\"value\\\": 0}, \\\"baseline\\\": {\\\"value\\\": \\\"middle\\\"}, \\\"clip\\\": {\\\"value\\\": true}, \\\"text\\\": {\\\"signal\\\": \\\"(toString(datum[\\\\\\\"type\\\\\\\"]) == \\\\\\\"str\\\\\\\")? \\\\\\\"Frequent Items\\\\\\\":\\\\\\\"\\\\\\\"\\\"}, \\\"align\\\": {\\\"value\\\": \\\"left\\\"}, \\\"fontWeight\\\": {\\\"value\\\": \\\"bold\\\"}, \\\"fontSize\\\": {\\\"value\\\": 11}, \\\"dx\\\": {\\\"value\\\": 0, \\\"offset\\\": 0}, \\\"dy\\\": {\\\"value\\\": 0, \\\"offset\\\": 0}, \\\"y\\\": {\\\"value\\\": 200}, \\\"x\\\": {\\\"value\\\": 500}, \\\"font\\\": {\\\"value\\\": \\\"AvenirNext-Medium\\\"}, \\\"fill\\\": {\\\"value\\\": \\\"#4A4A4A\\\"}}}, \\\"type\\\": \\\"text\\\", \\\"from\\\": {\\\"data\\\": \\\"data_2\\\"}}, {\\\"encode\\\": {\\\"update\\\": {\\\"y\\\": {\\\"field\\\": \\\"c_first_item\\\"}, \\\"x\\\": {\\\"signal\\\": \\\"datum[\\\\\\\"c_x_axis_back\\\\\\\"]+487\\\"}}, \\\"enter\\\": {\\\"fontStyle\\\": {\\\"value\\\": \\\"normal\\\"}, \\\"angle\\\": {\\\"value\\\": 0}, \\\"baseline\\\": {\\\"value\\\": \\\"middle\\\"}, \\\"clip\\\": {\\\"value\\\": true}, \\\"text\\\": {\\\"signal\\\": \\\"((datum[\\\\\\\"categorical\\\\\\\"].length >= 1) &amp;&amp; (toString(datum[\\\\\\\"type\\\\\\\"]) == \\\\\\\"str\\\\\\\"))? toString(datum[\\\\\\\"categorical\\\\\\\"][0][\\\\\\\"label\\\\\\\"]):\\\\\\\"\\\\\\\"\\\"}, \\\"align\\\": {\\\"value\\\": \\\"left\\\"}, \\\"fontWeight\\\": {\\\"value\\\": \\\"normal\\\"}, \\\"fontSize\\\": {\\\"value\\\": 11}, \\\"dx\\\": {\\\"value\\\": 0, \\\"offset\\\": 0}, \\\"dy\\\": {\\\"value\\\": 0, \\\"offset\\\": 0}, \\\"y\\\": {\\\"value\\\": 200}, \\\"x\\\": {\\\"value\\\": 520}, \\\"font\\\": {\\\"value\\\": \\\"AvenirNext-Medium\\\"}, \\\"fill\\\": {\\\"value\\\": \\\"#4A4A4A\\\"}}}, \\\"type\\\": \\\"text\\\", \\\"from\\\": {\\\"data\\\": \\\"data_2\\\"}}, {\\\"encode\\\": {\\\"update\\\": {\\\"y\\\": {\\\"field\\\": \\\"c_second_item\\\"}, \\\"x\\\": {\\\"signal\\\": \\\"datum[\\\\\\\"c_x_axis_back\\\\\\\"]+487\\\"}}, \\\"enter\\\": {\\\"fontStyle\\\": {\\\"value\\\": \\\"normal\\\"}, \\\"angle\\\": {\\\"value\\\": 0}, \\\"baseline\\\": {\\\"value\\\": \\\"middle\\\"}, \\\"clip\\\": {\\\"value\\\": true}, \\\"text\\\": {\\\"signal\\\": \\\"((datum[\\\\\\\"categorical\\\\\\\"].length >= 2) &amp;&amp; (toString(datum[\\\\\\\"type\\\\\\\"]) == \\\\\\\"str\\\\\\\"))? toString(datum[\\\\\\\"categorical\\\\\\\"][1][\\\\\\\"label\\\\\\\"]):\\\\\\\"\\\\\\\"\\\"}, \\\"align\\\": {\\\"value\\\": \\\"left\\\"}, \\\"fontWeight\\\": {\\\"value\\\": \\\"normal\\\"}, \\\"fontSize\\\": {\\\"value\\\": 11}, \\\"dx\\\": {\\\"value\\\": 0, \\\"offset\\\": 0}, \\\"dy\\\": {\\\"value\\\": 0, \\\"offset\\\": 0}, \\\"y\\\": {\\\"value\\\": 200}, \\\"x\\\": {\\\"value\\\": 520}, \\\"font\\\": {\\\"value\\\": \\\"AvenirNext-Medium\\\"}, \\\"fill\\\": {\\\"value\\\": \\\"#4A4A4A\\\"}}}, \\\"type\\\": \\\"text\\\", \\\"from\\\": {\\\"data\\\": \\\"data_2\\\"}}, {\\\"encode\\\": {\\\"update\\\": {\\\"y\\\": {\\\"field\\\": \\\"c_third_item\\\"}, \\\"x\\\": {\\\"signal\\\": \\\"datum[\\\\\\\"c_x_axis_back\\\\\\\"]+487\\\"}}, \\\"enter\\\": {\\\"fontStyle\\\": {\\\"value\\\": \\\"normal\\\"}, \\\"angle\\\": {\\\"value\\\": 0}, \\\"baseline\\\": {\\\"value\\\": \\\"middle\\\"}, \\\"clip\\\": {\\\"value\\\": true}, \\\"text\\\": {\\\"signal\\\": \\\"((datum[\\\\\\\"categorical\\\\\\\"].length >= 3) &amp;&amp; (toString(datum[\\\\\\\"type\\\\\\\"]) == \\\\\\\"str\\\\\\\"))? toString(datum[\\\\\\\"categorical\\\\\\\"][2][\\\\\\\"label\\\\\\\"]):\\\\\\\"\\\\\\\"\\\"}, \\\"align\\\": {\\\"value\\\": \\\"left\\\"}, \\\"fontWeight\\\": {\\\"value\\\": \\\"normal\\\"}, \\\"fontSize\\\": {\\\"value\\\": 11}, \\\"dx\\\": {\\\"value\\\": 0, \\\"offset\\\": 0}, \\\"dy\\\": {\\\"value\\\": 0, \\\"offset\\\": 0}, \\\"y\\\": {\\\"value\\\": 200}, \\\"x\\\": {\\\"value\\\": 520}, \\\"font\\\": {\\\"value\\\": \\\"AvenirNext-Medium\\\"}, \\\"fill\\\": {\\\"value\\\": \\\"#4A4A4A\\\"}}}, \\\"type\\\": \\\"text\\\", \\\"from\\\": {\\\"data\\\": \\\"data_2\\\"}}, {\\\"encode\\\": {\\\"update\\\": {\\\"y\\\": {\\\"field\\\": \\\"c_fourth_item\\\"}, \\\"x\\\": {\\\"signal\\\": \\\"datum[\\\\\\\"c_x_axis_back\\\\\\\"]+487\\\"}}, \\\"enter\\\": {\\\"fontStyle\\\": {\\\"value\\\": \\\"normal\\\"}, \\\"angle\\\": {\\\"value\\\": 0}, \\\"baseline\\\": {\\\"value\\\": \\\"middle\\\"}, \\\"clip\\\": {\\\"value\\\": true}, \\\"text\\\": {\\\"signal\\\": \\\"((datum[\\\\\\\"categorical\\\\\\\"].length >= 4) &amp;&amp; (toString(datum[\\\\\\\"type\\\\\\\"]) == \\\\\\\"str\\\\\\\"))? toString(datum[\\\\\\\"categorical\\\\\\\"][3][\\\\\\\"label\\\\\\\"]):\\\\\\\"\\\\\\\"\\\"}, \\\"align\\\": {\\\"value\\\": \\\"left\\\"}, \\\"fontWeight\\\": {\\\"value\\\": \\\"normal\\\"}, \\\"fontSize\\\": {\\\"value\\\": 11}, \\\"dx\\\": {\\\"value\\\": 0, \\\"offset\\\": 0}, \\\"dy\\\": {\\\"value\\\": 0, \\\"offset\\\": 0}, \\\"y\\\": {\\\"value\\\": 200}, \\\"x\\\": {\\\"value\\\": 520}, \\\"font\\\": {\\\"value\\\": \\\"AvenirNext-Medium\\\"}, \\\"fill\\\": {\\\"value\\\": \\\"#4A4A4A\\\"}}}, \\\"type\\\": \\\"text\\\", \\\"from\\\": {\\\"data\\\": \\\"data_2\\\"}}, {\\\"encode\\\": {\\\"update\\\": {\\\"y\\\": {\\\"field\\\": \\\"c_fifth_item\\\"}, \\\"x\\\": {\\\"signal\\\": \\\"datum[\\\\\\\"c_x_axis_back\\\\\\\"]+487\\\"}}, \\\"enter\\\": {\\\"fontStyle\\\": {\\\"value\\\": \\\"normal\\\"}, \\\"angle\\\": {\\\"value\\\": 0}, \\\"baseline\\\": {\\\"value\\\": \\\"middle\\\"}, \\\"clip\\\": {\\\"value\\\": true}, \\\"text\\\": {\\\"signal\\\": \\\"((datum[\\\\\\\"categorical\\\\\\\"].length >= 5) &amp;&amp; (toString(datum[\\\\\\\"type\\\\\\\"]) == \\\\\\\"str\\\\\\\"))? toString(datum[\\\\\\\"categorical\\\\\\\"][4][\\\\\\\"label\\\\\\\"]):\\\\\\\"\\\\\\\"\\\"}, \\\"align\\\": {\\\"value\\\": \\\"left\\\"}, \\\"fontWeight\\\": {\\\"value\\\": \\\"normal\\\"}, \\\"fontSize\\\": {\\\"value\\\": 11}, \\\"dx\\\": {\\\"value\\\": 0, \\\"offset\\\": 0}, \\\"dy\\\": {\\\"value\\\": 0, \\\"offset\\\": 0}, \\\"y\\\": {\\\"value\\\": 200}, \\\"x\\\": {\\\"value\\\": 520}, \\\"font\\\": {\\\"value\\\": \\\"AvenirNext-Medium\\\"}, \\\"fill\\\": {\\\"value\\\": \\\"#4A4A4A\\\"}}}, \\\"type\\\": \\\"text\\\", \\\"from\\\": {\\\"data\\\": \\\"data_2\\\"}}, {\\\"encode\\\": {\\\"update\\\": {\\\"y\\\": {\\\"field\\\": \\\"c_first_item\\\"}, \\\"x\\\": {\\\"signal\\\": \\\"datum[\\\\\\\"c_x_axis_back\\\\\\\"]+667\\\"}}, \\\"enter\\\": {\\\"fontStyle\\\": {\\\"value\\\": \\\"normal\\\"}, \\\"angle\\\": {\\\"value\\\": 0}, \\\"baseline\\\": {\\\"value\\\": \\\"middle\\\"}, \\\"clip\\\": {\\\"value\\\": true}, \\\"text\\\": {\\\"signal\\\": \\\"((datum[\\\\\\\"categorical\\\\\\\"].length >= 1) &amp;&amp; (toString(datum[\\\\\\\"type\\\\\\\"]) == \\\\\\\"str\\\\\\\"))? toString(datum[\\\\\\\"categorical\\\\\\\"][0][\\\\\\\"count\\\\\\\"]):\\\\\\\"\\\\\\\"\\\"}, \\\"align\\\": {\\\"value\\\": \\\"right\\\"}, \\\"fontWeight\\\": {\\\"value\\\": \\\"normal\\\"}, \\\"fontSize\\\": {\\\"value\\\": 11}, \\\"dx\\\": {\\\"value\\\": 0, \\\"offset\\\": 0}, \\\"dy\\\": {\\\"value\\\": 0, \\\"offset\\\": 0}, \\\"y\\\": {\\\"value\\\": 200}, \\\"x\\\": {\\\"value\\\": 700}, \\\"font\\\": {\\\"value\\\": \\\"AvenirNext-Medium\\\"}, \\\"fill\\\": {\\\"value\\\": \\\"#7A7A7A\\\"}}}, \\\"type\\\": \\\"text\\\", \\\"from\\\": {\\\"data\\\": \\\"data_2\\\"}}, {\\\"encode\\\": {\\\"update\\\": {\\\"y\\\": {\\\"field\\\": \\\"c_second_item\\\"}, \\\"x\\\": {\\\"signal\\\": \\\"datum[\\\\\\\"c_x_axis_back\\\\\\\"]+667\\\"}}, \\\"enter\\\": {\\\"fontStyle\\\": {\\\"value\\\": \\\"normal\\\"}, \\\"angle\\\": {\\\"value\\\": 0}, \\\"baseline\\\": {\\\"value\\\": \\\"middle\\\"}, \\\"clip\\\": {\\\"value\\\": true}, \\\"text\\\": {\\\"signal\\\": \\\"((datum[\\\\\\\"categorical\\\\\\\"].length >= 2) &amp;&amp; (toString(datum[\\\\\\\"type\\\\\\\"]) == \\\\\\\"str\\\\\\\"))? toString(datum[\\\\\\\"categorical\\\\\\\"][1][\\\\\\\"count\\\\\\\"]):\\\\\\\"\\\\\\\"\\\"}, \\\"align\\\": {\\\"value\\\": \\\"right\\\"}, \\\"fontWeight\\\": {\\\"value\\\": \\\"normal\\\"}, \\\"fontSize\\\": {\\\"value\\\": 10}, \\\"dx\\\": {\\\"value\\\": 0, \\\"offset\\\": 0}, \\\"dy\\\": {\\\"value\\\": 0, \\\"offset\\\": 0}, \\\"y\\\": {\\\"value\\\": 200}, \\\"x\\\": {\\\"value\\\": 700}, \\\"font\\\": {\\\"value\\\": \\\"AvenirNext-Medium\\\"}, \\\"fill\\\": {\\\"value\\\": \\\"#7A7A7A\\\"}}}, \\\"type\\\": \\\"text\\\", \\\"from\\\": {\\\"data\\\": \\\"data_2\\\"}}, {\\\"encode\\\": {\\\"update\\\": {\\\"y\\\": {\\\"field\\\": \\\"c_third_item\\\"}, \\\"x\\\": {\\\"signal\\\": \\\"datum[\\\\\\\"c_x_axis_back\\\\\\\"]+667\\\"}}, \\\"enter\\\": {\\\"fontStyle\\\": {\\\"value\\\": \\\"normal\\\"}, \\\"angle\\\": {\\\"value\\\": 0}, \\\"baseline\\\": {\\\"value\\\": \\\"middle\\\"}, \\\"clip\\\": {\\\"value\\\": true}, \\\"text\\\": {\\\"signal\\\": \\\"((datum[\\\\\\\"categorical\\\\\\\"].length >= 3) &amp;&amp; (toString(datum[\\\\\\\"type\\\\\\\"]) == \\\\\\\"str\\\\\\\"))? toString(datum[\\\\\\\"categorical\\\\\\\"][2][\\\\\\\"count\\\\\\\"]):\\\\\\\"\\\\\\\"\\\"}, \\\"align\\\": {\\\"value\\\": \\\"right\\\"}, \\\"fontWeight\\\": {\\\"value\\\": \\\"normal\\\"}, \\\"fontSize\\\": {\\\"value\\\": 10}, \\\"dx\\\": {\\\"value\\\": 0, \\\"offset\\\": 0}, \\\"dy\\\": {\\\"value\\\": 0, \\\"offset\\\": 0}, \\\"y\\\": {\\\"value\\\": 200}, \\\"x\\\": {\\\"value\\\": 700}, \\\"font\\\": {\\\"value\\\": \\\"AvenirNext-Medium\\\"}, \\\"fill\\\": {\\\"value\\\": \\\"#7A7A7A\\\"}}}, \\\"type\\\": \\\"text\\\", \\\"from\\\": {\\\"data\\\": \\\"data_2\\\"}}, {\\\"encode\\\": {\\\"update\\\": {\\\"y\\\": {\\\"field\\\": \\\"c_fourth_item\\\"}, \\\"x\\\": {\\\"signal\\\": \\\"datum[\\\\\\\"c_x_axis_back\\\\\\\"]+667\\\"}}, \\\"enter\\\": {\\\"fontStyle\\\": {\\\"value\\\": \\\"normal\\\"}, \\\"angle\\\": {\\\"value\\\": 0}, \\\"baseline\\\": {\\\"value\\\": \\\"middle\\\"}, \\\"clip\\\": {\\\"value\\\": true}, \\\"text\\\": {\\\"signal\\\": \\\"((datum[\\\\\\\"categorical\\\\\\\"].length >= 4) &amp;&amp; (toString(datum[\\\\\\\"type\\\\\\\"]) == \\\\\\\"str\\\\\\\"))? toString(datum[\\\\\\\"categorical\\\\\\\"][3][\\\\\\\"count\\\\\\\"]):\\\\\\\"\\\\\\\"\\\"}, \\\"align\\\": {\\\"value\\\": \\\"right\\\"}, \\\"fontWeight\\\": {\\\"value\\\": \\\"normal\\\"}, \\\"fontSize\\\": {\\\"value\\\": 10}, \\\"dx\\\": {\\\"value\\\": 0, \\\"offset\\\": 0}, \\\"dy\\\": {\\\"value\\\": 0, \\\"offset\\\": 0}, \\\"y\\\": {\\\"value\\\": 200}, \\\"x\\\": {\\\"value\\\": 700}, \\\"font\\\": {\\\"value\\\": \\\"AvenirNext-Medium\\\"}, \\\"fill\\\": {\\\"value\\\": \\\"#7A7A7A\\\"}}}, \\\"type\\\": \\\"text\\\", \\\"from\\\": {\\\"data\\\": \\\"data_2\\\"}}, {\\\"encode\\\": {\\\"update\\\": {\\\"y\\\": {\\\"field\\\": \\\"c_fifth_item\\\"}, \\\"x\\\": {\\\"signal\\\": \\\"datum[\\\\\\\"c_x_axis_back\\\\\\\"]+667\\\"}}, \\\"enter\\\": {\\\"fontStyle\\\": {\\\"value\\\": \\\"normal\\\"}, \\\"angle\\\": {\\\"value\\\": 0}, \\\"baseline\\\": {\\\"value\\\": \\\"middle\\\"}, \\\"clip\\\": {\\\"value\\\": true}, \\\"text\\\": {\\\"signal\\\": \\\"((datum[\\\\\\\"categorical\\\\\\\"].length >= 5) &amp;&amp; (toString(datum[\\\\\\\"type\\\\\\\"]) == \\\\\\\"str\\\\\\\"))? toString(datum[\\\\\\\"categorical\\\\\\\"][4][\\\\\\\"count\\\\\\\"]):\\\\\\\"\\\\\\\"\\\"}, \\\"align\\\": {\\\"value\\\": \\\"right\\\"}, \\\"fontWeight\\\": {\\\"value\\\": \\\"normal\\\"}, \\\"fontSize\\\": {\\\"value\\\": 10}, \\\"dx\\\": {\\\"value\\\": 0, \\\"offset\\\": 0}, \\\"dy\\\": {\\\"value\\\": 0, \\\"offset\\\": 0}, \\\"y\\\": {\\\"value\\\": 200}, \\\"x\\\": {\\\"value\\\": 700}, \\\"font\\\": {\\\"value\\\": \\\"AvenirNext-Medium\\\"}, \\\"fill\\\": {\\\"value\\\": \\\"#7A7A7A\\\"}}}, \\\"type\\\": \\\"text\\\", \\\"from\\\": {\\\"data\\\": \\\"data_2\\\"}}, {\\\"encode\\\": {\\\"update\\\": {\\\"y\\\": {\\\"field\\\": \\\"c_mean\\\"}, \\\"x\\\": {\\\"signal\\\": \\\"datum[\\\\\\\"c_x_axis_back\\\\\\\"]+467\\\"}}, \\\"enter\\\": {\\\"fontStyle\\\": {\\\"value\\\": \\\"normal\\\"}, \\\"angle\\\": {\\\"value\\\": 0}, \\\"baseline\\\": {\\\"value\\\": \\\"middle\\\"}, \\\"clip\\\": {\\\"value\\\": true}, \\\"text\\\": {\\\"signal\\\": \\\"(toString(datum[\\\\\\\"type\\\\\\\"]) == \\\\\\\"integer\\\\\\\" || toString(datum[\\\\\\\"type\\\\\\\"]) == \\\\\\\"float\\\\\\\")? \\\\\\\"Mean:\\\\\\\":\\\\\\\"\\\\\\\"\\\"}, \\\"align\\\": {\\\"value\\\": \\\"left\\\"}, \\\"fontWeight\\\": {\\\"value\\\": \\\"bold\\\"}, \\\"fontSize\\\": {\\\"value\\\": 11}, \\\"dx\\\": {\\\"value\\\": 0, \\\"offset\\\": 0}, \\\"dy\\\": {\\\"value\\\": 0, \\\"offset\\\": 0}, \\\"y\\\": {\\\"value\\\": 200}, \\\"x\\\": {\\\"value\\\": 500}, \\\"font\\\": {\\\"value\\\": \\\"AvenirNext-Medium\\\"}, \\\"fill\\\": {\\\"value\\\": \\\"#4A4A4A\\\"}}}, \\\"type\\\": \\\"text\\\", \\\"from\\\": {\\\"data\\\": \\\"data_2\\\"}}, {\\\"encode\\\": {\\\"update\\\": {\\\"y\\\": {\\\"field\\\": \\\"c_min\\\"}, \\\"x\\\": {\\\"signal\\\": \\\"datum[\\\\\\\"c_x_axis_back\\\\\\\"]+467\\\"}}, \\\"enter\\\": {\\\"fontStyle\\\": {\\\"value\\\": \\\"normal\\\"}, \\\"angle\\\": {\\\"value\\\": 0}, \\\"baseline\\\": {\\\"value\\\": \\\"middle\\\"}, \\\"text\\\": {\\\"signal\\\": \\\"(toString(datum[\\\\\\\"type\\\\\\\"]) == \\\\\\\"integer\\\\\\\" || toString(datum[\\\\\\\"type\\\\\\\"]) == \\\\\\\"float\\\\\\\")? \\\\\\\"Min:\\\\\\\":\\\\\\\"\\\\\\\"\\\"}, \\\"align\\\": {\\\"value\\\": \\\"left\\\"}, \\\"fontWeight\\\": {\\\"value\\\": \\\"bold\\\"}, \\\"fontSize\\\": {\\\"value\\\": 11}, \\\"dx\\\": {\\\"value\\\": 0, \\\"offset\\\": 0}, \\\"dy\\\": {\\\"value\\\": 0, \\\"offset\\\": 0}, \\\"y\\\": {\\\"value\\\": 220}, \\\"x\\\": {\\\"value\\\": 500}, \\\"font\\\": {\\\"value\\\": \\\"AvenirNext-Medium\\\"}, \\\"fill\\\": {\\\"value\\\": \\\"#4A4A4A\\\"}}}, \\\"type\\\": \\\"text\\\", \\\"from\\\": {\\\"data\\\": \\\"data_2\\\"}}, {\\\"encode\\\": {\\\"update\\\": {\\\"y\\\": {\\\"field\\\": \\\"c_max\\\"}, \\\"x\\\": {\\\"signal\\\": \\\"datum[\\\\\\\"c_x_axis_back\\\\\\\"]+467\\\"}}, \\\"enter\\\": {\\\"fontStyle\\\": {\\\"value\\\": \\\"normal\\\"}, \\\"angle\\\": {\\\"value\\\": 0}, \\\"baseline\\\": {\\\"value\\\": \\\"middle\\\"}, \\\"text\\\": {\\\"signal\\\": \\\"(toString(datum[\\\\\\\"type\\\\\\\"]) == \\\\\\\"integer\\\\\\\" || toString(datum[\\\\\\\"type\\\\\\\"]) == \\\\\\\"float\\\\\\\")? \\\\\\\"Max:\\\\\\\":\\\\\\\"\\\\\\\"\\\"}, \\\"align\\\": {\\\"value\\\": \\\"left\\\"}, \\\"fontWeight\\\": {\\\"value\\\": \\\"bold\\\"}, \\\"fontSize\\\": {\\\"value\\\": 11}, \\\"dx\\\": {\\\"value\\\": 0, \\\"offset\\\": 0}, \\\"dy\\\": {\\\"value\\\": 0, \\\"offset\\\": 0}, \\\"y\\\": {\\\"value\\\": 240}, \\\"x\\\": {\\\"value\\\": 500}, \\\"font\\\": {\\\"value\\\": \\\"AvenirNext-Medium\\\"}, \\\"fill\\\": {\\\"value\\\": \\\"#4A4A4A\\\"}}}, \\\"type\\\": \\\"text\\\", \\\"from\\\": {\\\"data\\\": \\\"data_2\\\"}}, {\\\"encode\\\": {\\\"update\\\": {\\\"y\\\": {\\\"field\\\": \\\"c_median\\\"}, \\\"x\\\": {\\\"signal\\\": \\\"datum[\\\\\\\"c_x_axis_back\\\\\\\"]+467\\\"}}, \\\"enter\\\": {\\\"fontStyle\\\": {\\\"value\\\": \\\"normal\\\"}, \\\"angle\\\": {\\\"value\\\": 0}, \\\"baseline\\\": {\\\"value\\\": \\\"middle\\\"}, \\\"text\\\": {\\\"signal\\\": \\\"(toString(datum[\\\\\\\"type\\\\\\\"]) == \\\\\\\"integer\\\\\\\" || toString(datum[\\\\\\\"type\\\\\\\"]) == \\\\\\\"float\\\\\\\")? \\\\\\\"Median:\\\\\\\":\\\\\\\"\\\\\\\"\\\"}, \\\"align\\\": {\\\"value\\\": \\\"left\\\"}, \\\"fontWeight\\\": {\\\"value\\\": \\\"bold\\\"}, \\\"fontSize\\\": {\\\"value\\\": 11}, \\\"dx\\\": {\\\"value\\\": 0, \\\"offset\\\": 0}, \\\"dy\\\": {\\\"value\\\": 0, \\\"offset\\\": 0}, \\\"y\\\": {\\\"value\\\": 260}, \\\"x\\\": {\\\"value\\\": 500}, \\\"font\\\": {\\\"value\\\": \\\"AvenirNext-Medium\\\"}, \\\"fill\\\": {\\\"value\\\": \\\"#4A4A4A\\\"}}}, \\\"type\\\": \\\"text\\\", \\\"from\\\": {\\\"data\\\": \\\"data_2\\\"}}, {\\\"encode\\\": {\\\"update\\\": {\\\"y\\\": {\\\"field\\\": \\\"c_stdev\\\"}, \\\"x\\\": {\\\"signal\\\": \\\"datum[\\\\\\\"c_x_axis_back\\\\\\\"]+467\\\"}}, \\\"enter\\\": {\\\"fontStyle\\\": {\\\"value\\\": \\\"normal\\\"}, \\\"angle\\\": {\\\"value\\\": 0}, \\\"baseline\\\": {\\\"value\\\": \\\"middle\\\"}, \\\"text\\\": {\\\"signal\\\": \\\"(toString(datum[\\\\\\\"type\\\\\\\"]) == \\\\\\\"integer\\\\\\\" || toString(datum[\\\\\\\"type\\\\\\\"]) == \\\\\\\"float\\\\\\\")? \\\\\\\"St. Dev:\\\\\\\":\\\\\\\"\\\\\\\"\\\"}, \\\"align\\\": {\\\"value\\\": \\\"left\\\"}, \\\"fontWeight\\\": {\\\"value\\\": \\\"bold\\\"}, \\\"fontSize\\\": {\\\"value\\\": 11}, \\\"dx\\\": {\\\"value\\\": 0, \\\"offset\\\": 0}, \\\"dy\\\": {\\\"value\\\": 0, \\\"offset\\\": 0}, \\\"y\\\": {\\\"value\\\": 280}, \\\"x\\\": {\\\"value\\\": 500}, \\\"font\\\": {\\\"value\\\": \\\"AvenirNext-Medium\\\"}, \\\"fill\\\": {\\\"value\\\": \\\"#4A4A4A\\\"}}}, \\\"type\\\": \\\"text\\\", \\\"from\\\": {\\\"data\\\": \\\"data_2\\\"}}, {\\\"encode\\\": {\\\"update\\\": {\\\"y\\\": {\\\"field\\\": \\\"c_mean_val\\\"}, \\\"x\\\": {\\\"signal\\\": \\\"datum[\\\\\\\"c_x_axis_back\\\\\\\"]+667\\\"}}, \\\"enter\\\": {\\\"fontStyle\\\": {\\\"value\\\": \\\"normal\\\"}, \\\"angle\\\": {\\\"value\\\": 0}, \\\"baseline\\\": {\\\"value\\\": \\\"middle\\\"}, \\\"text\\\": {\\\"signal\\\": \\\"(toString(datum[\\\\\\\"type\\\\\\\"]) == \\\\\\\"integer\\\\\\\" || toString(datum[\\\\\\\"type\\\\\\\"]) == \\\\\\\"float\\\\\\\")?toString(format(datum[\\\\\\\"mean\\\\\\\"], \\\\\\\",\\\\\\\")):\\\\\\\"\\\\\\\"\\\"}, \\\"align\\\": {\\\"value\\\": \\\"right\\\"}, \\\"fontWeight\\\": {\\\"value\\\": \\\"normal\\\"}, \\\"fontSize\\\": {\\\"value\\\": 10}, \\\"dx\\\": {\\\"value\\\": 0, \\\"offset\\\": 0}, \\\"dy\\\": {\\\"value\\\": 0, \\\"offset\\\": 0}, \\\"y\\\": {\\\"value\\\": 198}, \\\"x\\\": {\\\"value\\\": 700}, \\\"font\\\": {\\\"value\\\": \\\"AvenirNext-Medium\\\"}, \\\"fill\\\": {\\\"value\\\": \\\"#6A6A6A\\\"}}}, \\\"type\\\": \\\"text\\\", \\\"from\\\": {\\\"data\\\": \\\"data_2\\\"}}, {\\\"encode\\\": {\\\"update\\\": {\\\"y\\\": {\\\"field\\\": \\\"c_min_val\\\"}, \\\"x\\\": {\\\"signal\\\": \\\"datum[\\\\\\\"c_x_axis_back\\\\\\\"]+667\\\"}}, \\\"enter\\\": {\\\"fontStyle\\\": {\\\"value\\\": \\\"normal\\\"}, \\\"angle\\\": {\\\"value\\\": 0}, \\\"baseline\\\": {\\\"value\\\": \\\"middle\\\"}, \\\"text\\\": {\\\"signal\\\": \\\"(toString(datum[\\\\\\\"type\\\\\\\"]) == \\\\\\\"integer\\\\\\\" || toString(datum[\\\\\\\"type\\\\\\\"]) == \\\\\\\"float\\\\\\\")?toString(format(datum[\\\\\\\"min\\\\\\\"], \\\\\\\",\\\\\\\")):\\\\\\\"\\\\\\\"\\\"}, \\\"align\\\": {\\\"value\\\": \\\"right\\\"}, \\\"fontWeight\\\": {\\\"value\\\": \\\"normal\\\"}, \\\"fontSize\\\": {\\\"value\\\": 10}, \\\"dx\\\": {\\\"value\\\": 0, \\\"offset\\\": 0}, \\\"dy\\\": {\\\"value\\\": 0, \\\"offset\\\": 0}, \\\"y\\\": {\\\"value\\\": 218}, \\\"x\\\": {\\\"value\\\": 700}, \\\"font\\\": {\\\"value\\\": \\\"AvenirNext-Medium\\\"}, \\\"fill\\\": {\\\"value\\\": \\\"#6A6A6A\\\"}}}, \\\"type\\\": \\\"text\\\", \\\"from\\\": {\\\"data\\\": \\\"data_2\\\"}}, {\\\"encode\\\": {\\\"update\\\": {\\\"y\\\": {\\\"field\\\": \\\"c_max_val\\\"}, \\\"x\\\": {\\\"signal\\\": \\\"datum[\\\\\\\"c_x_axis_back\\\\\\\"]+667\\\"}}, \\\"enter\\\": {\\\"fontStyle\\\": {\\\"value\\\": \\\"normal\\\"}, \\\"angle\\\": {\\\"value\\\": 0}, \\\"baseline\\\": {\\\"value\\\": \\\"middle\\\"}, \\\"text\\\": {\\\"signal\\\": \\\"(toString(datum[\\\\\\\"type\\\\\\\"]) == \\\\\\\"integer\\\\\\\" || toString(datum[\\\\\\\"type\\\\\\\"]) == \\\\\\\"float\\\\\\\")?toString(format(datum[\\\\\\\"max\\\\\\\"], \\\\\\\",\\\\\\\")):\\\\\\\"\\\\\\\"\\\"}, \\\"align\\\": {\\\"value\\\": \\\"right\\\"}, \\\"fontWeight\\\": {\\\"value\\\": \\\"normal\\\"}, \\\"fontSize\\\": {\\\"value\\\": 10}, \\\"dx\\\": {\\\"value\\\": 0, \\\"offset\\\": 0}, \\\"dy\\\": {\\\"value\\\": 0, \\\"offset\\\": 0}, \\\"y\\\": {\\\"value\\\": 238}, \\\"x\\\": {\\\"value\\\": 700}, \\\"font\\\": {\\\"value\\\": \\\"AvenirNext-Medium\\\"}, \\\"fill\\\": {\\\"value\\\": \\\"#6A6A6A\\\"}}}, \\\"type\\\": \\\"text\\\", \\\"from\\\": {\\\"data\\\": \\\"data_2\\\"}}, {\\\"encode\\\": {\\\"update\\\": {\\\"y\\\": {\\\"field\\\": \\\"c_median_val\\\"}, \\\"x\\\": {\\\"signal\\\": \\\"datum[\\\\\\\"c_x_axis_back\\\\\\\"]+667\\\"}}, \\\"enter\\\": {\\\"fontStyle\\\": {\\\"value\\\": \\\"normal\\\"}, \\\"angle\\\": {\\\"value\\\": 0}, \\\"baseline\\\": {\\\"value\\\": \\\"middle\\\"}, \\\"text\\\": {\\\"signal\\\": \\\"(toString(datum[\\\\\\\"type\\\\\\\"]) == \\\\\\\"integer\\\\\\\" || toString(datum[\\\\\\\"type\\\\\\\"]) == \\\\\\\"float\\\\\\\")?toString(format(datum[\\\\\\\"median\\\\\\\"], \\\\\\\",\\\\\\\")):\\\\\\\"\\\\\\\"\\\"}, \\\"align\\\": {\\\"value\\\": \\\"right\\\"}, \\\"fontWeight\\\": {\\\"value\\\": \\\"normal\\\"}, \\\"fontSize\\\": {\\\"value\\\": 10}, \\\"dx\\\": {\\\"value\\\": 0, \\\"offset\\\": 0}, \\\"dy\\\": {\\\"value\\\": 0, \\\"offset\\\": 0}, \\\"y\\\": {\\\"value\\\": 258}, \\\"x\\\": {\\\"value\\\": 700}, \\\"font\\\": {\\\"value\\\": \\\"AvenirNext-Medium\\\"}, \\\"fill\\\": {\\\"value\\\": \\\"#6A6A6A\\\"}}}, \\\"type\\\": \\\"text\\\", \\\"from\\\": {\\\"data\\\": \\\"data_2\\\"}}, {\\\"encode\\\": {\\\"update\\\": {\\\"y\\\": {\\\"field\\\": \\\"c_stdev_val\\\"}, \\\"x\\\": {\\\"signal\\\": \\\"datum[\\\\\\\"c_x_axis_back\\\\\\\"]+667\\\"}}, \\\"enter\\\": {\\\"fontStyle\\\": {\\\"value\\\": \\\"normal\\\"}, \\\"angle\\\": {\\\"value\\\": 0}, \\\"baseline\\\": {\\\"value\\\": \\\"middle\\\"}, \\\"text\\\": {\\\"signal\\\": \\\"(toString(datum[\\\\\\\"type\\\\\\\"]) == \\\\\\\"integer\\\\\\\" || toString(datum[\\\\\\\"type\\\\\\\"]) == \\\\\\\"float\\\\\\\")?toString(format(datum[\\\\\\\"stdev\\\\\\\"], \\\\\\\",\\\\\\\")):\\\\\\\"\\\\\\\"\\\"}, \\\"align\\\": {\\\"value\\\": \\\"right\\\"}, \\\"fontWeight\\\": {\\\"value\\\": \\\"normal\\\"}, \\\"fontSize\\\": {\\\"value\\\": 10}, \\\"dx\\\": {\\\"value\\\": 0, \\\"offset\\\": 0}, \\\"dy\\\": {\\\"value\\\": 0, \\\"offset\\\": 0}, \\\"y\\\": {\\\"value\\\": 278}, \\\"x\\\": {\\\"value\\\": 700}, \\\"font\\\": {\\\"value\\\": \\\"AvenirNext-Medium\\\"}, \\\"fill\\\": {\\\"value\\\": \\\"#6A6A6A\\\"}}}, \\\"type\\\": \\\"text\\\", \\\"from\\\": {\\\"data\\\": \\\"data_2\\\"}}, {\\\"style\\\": \\\"cell\\\", \\\"from\\\": {\\\"facet\\\": {\\\"field\\\": \\\"numeric\\\", \\\"data\\\": \\\"data_2\\\", \\\"name\\\": \\\"new_data\\\"}}, \\\"scales\\\": [{\\\"domain\\\": {\\\"sort\\\": true, \\\"fields\\\": [\\\"left\\\", \\\"right\\\"], \\\"data\\\": \\\"new_data\\\"}, \\\"name\\\": \\\"x\\\", \\\"zero\\\": true, \\\"range\\\": [0, {\\\"signal\\\": \\\"width\\\"}], \\\"type\\\": \\\"linear\\\", \\\"nice\\\": true}, {\\\"domain\\\": {\\\"field\\\": \\\"count\\\", \\\"data\\\": \\\"new_data\\\"}, \\\"name\\\": \\\"y\\\", \\\"zero\\\": true, \\\"range\\\": [{\\\"signal\\\": \\\"height\\\"}, 0], \\\"type\\\": \\\"linear\\\", \\\"nice\\\": true}], \\\"axes\\\": [{\\\"scale\\\": \\\"x\\\", \\\"title\\\": \\\"Values\\\", \\\"tickCount\\\": {\\\"signal\\\": \\\"ceil(width/40)\\\"}, \\\"zindex\\\": 1, \\\"labelOverlap\\\": true, \\\"orient\\\": \\\"bottom\\\"}, {\\\"domain\\\": false, \\\"scale\\\": \\\"x\\\", \\\"ticks\\\": false, \\\"labels\\\": false, \\\"tickCount\\\": {\\\"signal\\\": \\\"ceil(width/40)\\\"}, \\\"zindex\\\": 0, \\\"grid\\\": true, \\\"minExtent\\\": 0, \\\"gridScale\\\": \\\"y\\\", \\\"orient\\\": \\\"bottom\\\", \\\"maxExtent\\\": 0}, {\\\"scale\\\": \\\"y\\\", \\\"title\\\": \\\"Count\\\", \\\"tickCount\\\": {\\\"signal\\\": \\\"ceil(height/40)\\\"}, \\\"zindex\\\": 1, \\\"labelOverlap\\\": true, \\\"orient\\\": \\\"left\\\"}, {\\\"domain\\\": false, \\\"scale\\\": \\\"y\\\", \\\"ticks\\\": false, \\\"labels\\\": false, \\\"tickCount\\\": {\\\"signal\\\": \\\"ceil(height/40)\\\"}, \\\"zindex\\\": 0, \\\"grid\\\": true, \\\"minExtent\\\": 0, \\\"gridScale\\\": \\\"x\\\", \\\"orient\\\": \\\"left\\\", \\\"maxExtent\\\": 0}], \\\"signals\\\": [{\\\"name\\\": \\\"width\\\", \\\"update\\\": \\\"250\\\"}, {\\\"name\\\": \\\"height\\\", \\\"update\\\": \\\"150\\\"}], \\\"marks\\\": [{\\\"encode\\\": {\\\"hover\\\": {\\\"fill\\\": {\\\"value\\\": \\\"#7EC2F3\\\"}}, \\\"update\\\": {\\\"x2\\\": {\\\"field\\\": \\\"right\\\", \\\"scale\\\": \\\"x\\\"}, \\\"x\\\": {\\\"field\\\": \\\"left\\\", \\\"scale\\\": \\\"x\\\"}, \\\"y2\\\": {\\\"scale\\\": \\\"y\\\", \\\"value\\\": 0}, \\\"y\\\": {\\\"field\\\": \\\"count\\\", \\\"scale\\\": \\\"y\\\"}, \\\"fill\\\": {\\\"value\\\": \\\"#108EE9\\\"}}}, \\\"from\\\": {\\\"data\\\": \\\"new_data\\\"}, \\\"style\\\": [\\\"rect\\\"], \\\"type\\\": \\\"rect\\\", \\\"name\\\": \\\"marks\\\"}], \\\"encode\\\": {\\\"update\\\": {\\\"x\\\": {\\\"signal\\\": \\\"datum[\\\\\\\"c_x_axis_back\\\\\\\"]+87\\\"}, \\\"clip\\\": {\\\"field\\\": \\\"c_clip_val\\\"}, \\\"width\\\": {\\\"field\\\": \\\"c_width_numeric_val\\\"}}, \\\"enter\\\": {\\\"strokeWidth\\\": {\\\"value\\\": 0}, \\\"height\\\": {\\\"value\\\": 150}, \\\"width\\\": {\\\"value\\\": 250}, \\\"stroke\\\": {\\\"value\\\": \\\"#000000\\\"}, \\\"fillOpacity\\\": {\\\"value\\\": 0}, \\\"y\\\": {\\\"field\\\": \\\"graph_offset\\\"}, \\\"x\\\": {\\\"value\\\": 120}, \\\"fill\\\": {\\\"value\\\": \\\"#ffffff\\\"}}}, \\\"type\\\": \\\"group\\\"}, {\\\"style\\\": \\\"cell\\\", \\\"from\\\": {\\\"facet\\\": {\\\"field\\\": \\\"categorical\\\", \\\"data\\\": \\\"data_2\\\", \\\"name\\\": \\\"data_5\\\"}}, \\\"scales\\\": [{\\\"domain\\\": {\\\"field\\\": \\\"count\\\", \\\"data\\\": \\\"data_5\\\"}, \\\"name\\\": \\\"x\\\", \\\"zero\\\": true, \\\"range\\\": [0, 250], \\\"type\\\": \\\"linear\\\", \\\"nice\\\": true}, {\\\"paddingInner\\\": 0.1, \\\"domain\\\": {\\\"sort\\\": {\\\"field\\\": \\\"label_idx\\\", \\\"order\\\": \\\"descending\\\", \\\"op\\\": \\\"mean\\\"}, \\\"field\\\": \\\"label\\\", \\\"data\\\": \\\"data_5\\\"}, \\\"name\\\": \\\"y\\\", \\\"paddingOuter\\\": 0.05, \\\"range\\\": [150, 0], \\\"type\\\": \\\"band\\\"}], \\\"axes\\\": [{\\\"scale\\\": \\\"x\\\", \\\"title\\\": \\\"Count\\\", \\\"tickCount\\\": {\\\"signal\\\": \\\"ceil(width/40)\\\"}, \\\"zindex\\\": 1, \\\"labelOverlap\\\": true, \\\"orient\\\": \\\"top\\\"}, {\\\"domain\\\": false, \\\"scale\\\": \\\"x\\\", \\\"ticks\\\": false, \\\"labels\\\": false, \\\"tickCount\\\": {\\\"signal\\\": \\\"ceil(width/40)\\\"}, \\\"zindex\\\": 0, \\\"grid\\\": true, \\\"minExtent\\\": 0, \\\"gridScale\\\": \\\"y\\\", \\\"orient\\\": \\\"top\\\", \\\"maxExtent\\\": 0}, {\\\"zindex\\\": 1, \\\"title\\\": \\\"Label\\\", \\\"scale\\\": \\\"y\\\", \\\"orient\\\": \\\"left\\\", \\\"labelOverlap\\\": true}], \\\"signals\\\": [{\\\"on\\\": [{\\\"events\\\": \\\"mousemove\\\", \\\"update\\\": \\\"isTuple(group()) ? group() : unit\\\"}], \\\"name\\\": \\\"unit\\\", \\\"value\\\": {}}, {\\\"name\\\": \\\"pts\\\", \\\"update\\\": \\\"data(\\\\\\\"pts_store\\\\\\\").length &amp;&amp; {count: data(\\\\\\\"pts_store\\\\\\\")[0].values[0]}\\\"}, {\\\"on\\\": [{\\\"force\\\": true, \\\"events\\\": [{\\\"source\\\": \\\"scope\\\", \\\"type\\\": \\\"click\\\"}], \\\"update\\\": \\\"datum &amp;&amp; item().mark.marktype !== &apos;group&apos; ? {unit: \\\\\\\"\\\\\\\", encodings: [\\\\\\\"x\\\\\\\"], fields: [\\\\\\\"count\\\\\\\"], values: [datum[\\\\\\\"count\\\\\\\"]]} : null\\\"}], \\\"name\\\": \\\"pts_tuple\\\", \\\"value\\\": {}}, {\\\"on\\\": [{\\\"events\\\": {\\\"signal\\\": \\\"pts_tuple\\\"}, \\\"update\\\": \\\"modify(\\\\\\\"pts_store\\\\\\\", pts_tuple, true)\\\"}], \\\"name\\\": \\\"pts_modify\\\"}], \\\"marks\\\": [{\\\"encode\\\": {\\\"hover\\\": {\\\"fill\\\": {\\\"value\\\": \\\"#7EC2F3\\\"}}, \\\"update\\\": {\\\"x2\\\": {\\\"scale\\\": \\\"x\\\", \\\"value\\\": 0}, \\\"x\\\": {\\\"field\\\": \\\"count\\\", \\\"scale\\\": \\\"x\\\"}, \\\"fill\\\": {\\\"value\\\": \\\"#108EE9\\\"}, \\\"y\\\": {\\\"field\\\": \\\"label\\\", \\\"scale\\\": \\\"y\\\"}, \\\"height\\\": {\\\"band\\\": true, \\\"scale\\\": \\\"y\\\"}}}, \\\"from\\\": {\\\"data\\\": \\\"data_5\\\"}, \\\"style\\\": [\\\"bar\\\"], \\\"type\\\": \\\"rect\\\", \\\"name\\\": \\\"marks\\\"}], \\\"encode\\\": {\\\"update\\\": {\\\"x\\\": {\\\"signal\\\": \\\"datum[\\\\\\\"c_x_axis_back\\\\\\\"]+137\\\"}, \\\"clip\\\": {\\\"field\\\": \\\"c_clip_val_cat\\\"}, \\\"width\\\": {\\\"field\\\": \\\"c_width_numeric_val_cat\\\"}}, \\\"enter\\\": {\\\"strokeWidth\\\": {\\\"value\\\": 0}, \\\"height\\\": {\\\"value\\\": 150}, \\\"width\\\": {\\\"value\\\": 250}, \\\"stroke\\\": {\\\"value\\\": \\\"#000000\\\"}, \\\"fillOpacity\\\": {\\\"value\\\": 0}, \\\"y\\\": {\\\"field\\\": \\\"graph_offset_categorical\\\"}, \\\"x\\\": {\\\"value\\\": 170}, \\\"fill\\\": {\\\"value\\\": \\\"#ffffff\\\"}}}, \\\"type\\\": \\\"group\\\"}], \\\"axes\\\": [], \\\"type\\\": \\\"group\\\", \\\"scales\\\": []}]}], \\\"$schema\\\": \\\"https://vega.github.io/schema/vega/v4.json\\\", \\\"data\\\": [{\\\"name\\\": \\\"pts_store\\\"}, {\\\"values\\\": [{\\\"a\\\": 0, \\\"num_row\\\": 723, \\\"title\\\": \\\"name\\\", \\\"categorical\\\": [{\\\"count\\\": 723, \\\"percentage\\\": \\\"100%\\\", \\\"label_idx\\\": 0, \\\"label\\\": \\\"Vulli Sophie the Giraffe Teether\\\"}], \\\"num_missing\\\": 0, \\\"num_unique\\\": 1, \\\"numeric\\\": [], \\\"type\\\": \\\"str\\\"}, {\\\"a\\\": 1, \\\"num_row\\\": 723, \\\"title\\\": \\\"review\\\", \\\"categorical\\\": [{\\\"count\\\": 6, \\\"percentage\\\": \\\"0.829876%\\\", \\\"label_idx\\\": 0, \\\"label\\\": \\\"\\\"}, {\\\"count\\\": 1, \\\"percentage\\\": \\\"0.138313%\\\", \\\"label_idx\\\": 1, \\\"label\\\": \\\"\\\\\\\"Sophie the Giraffe\\\\\\\" has tested positive for potentially cancer causing nitrosamines. Nitrosamines are known carcinogens that are illegal in baby bottles and pacifiers in Europe.  In France this has 1\\\"}, {\\\"count\\\": 1, \\\"percentage\\\": \\\"0.138313%\\\", \\\"label_idx\\\": 2, \\\"label\\\": \\\"...I just saw other baby&apos;s happily mawing it everywhere we went.I&apos;d come across Sophie during my pre-baby hunt for usable items and this rated well, but I wasn&apos;t 100% convinced.Then I noticed babies 2\\\"}, {\\\"count\\\": 1, \\\"percentage\\\": \\\"0.138313%\\\", \\\"label_idx\\\": 3, \\\"label\\\": \\\"6 month old grand daughter loves to chew on it.Helps for teething.It is cute and right size for baby. Soft and easy for baby to handle.\\\"}, {\\\"count\\\": 1, \\\"percentage\\\": \\\"0.138313%\\\", \\\"label_idx\\\": 4, \\\"label\\\": \\\"A favorite among parents for a reason- my baby is enjoying it at 5 months old and will like it even better when she is coordinated enough to chew the areas she&apos;d like to!\\\"}, {\\\"count\\\": 1, \\\"percentage\\\": \\\"0.138313%\\\", \\\"label_idx\\\": 5, \\\"label\\\": \\\"A favorite. It is easy for the baby to hold and it has a lovely squeak. Be sure not to submerse it in water or the squeak will disappear.\\\"}, {\\\"count\\\": 1, \\\"percentage\\\": \\\"0.138313%\\\", \\\"label_idx\\\": 6, \\\"label\\\": \\\"A friend bought me Sophie as soon as she found out I was pregnant.  She said I had to have her, but I was skeptical.  I first gave it to my daughter around 3 months, but she wasn&apos;t interested.  Then 6\\\"}, {\\\"count\\\": 1, \\\"percentage\\\": \\\"0.138313%\\\", \\\"label_idx\\\": 7, \\\"label\\\": \\\"A great stylish teather toy. Easy to clean and all teaching babies will love its easy for even quite small babies to hold.\\\"}, {\\\"count\\\": 1, \\\"percentage\\\": \\\"0.138313%\\\", \\\"label_idx\\\": 8, \\\"label\\\": \\\"A great teething product. The sweetest face and the feel good to the gums feeling it gives babies is exceptional.\\\"}, {\\\"count\\\": 1, \\\"percentage\\\": \\\"0.138313%\\\", \\\"label_idx\\\": 9, \\\"label\\\": \\\"A little pricey, but durable and so good to know no harmful substances used in manufacture of this delightful teether.\\\"}, {\\\"count\\\": 708, \\\"percentage\\\": \\\"97.9253%\\\", \\\"label_idx\\\": 10, \\\"label\\\": \\\"Other (708 labels)\\\"}], \\\"num_missing\\\": 0, \\\"num_unique\\\": 718, \\\"numeric\\\": [], \\\"type\\\": \\\"str\\\"}, {\\\"a\\\": 2, \\\"num_row\\\": 723, \\\"title\\\": \\\"rating\\\", \\\"max\\\": 5.0, \\\"min\\\": 1.0, \\\"median\\\": 5.0, \\\"num_missing\\\": 0, \\\"num_unique\\\": 4, \\\"categorical\\\": [], \\\"numeric\\\": [{\\\"count\\\": 56, \\\"right\\\": 1.1594, \\\"left\\\": 0.9546}, {\\\"count\\\": 0, \\\"right\\\": 1.3642, \\\"left\\\": 1.1594}, {\\\"count\\\": 0, \\\"right\\\": 1.569, \\\"left\\\": 1.3642}, {\\\"count\\\": 0, \\\"right\\\": 1.7738, \\\"left\\\": 1.569}, {\\\"count\\\": 0, \\\"right\\\": 1.9786, \\\"left\\\": 1.7738}, {\\\"count\\\": 37, \\\"right\\\": 2.1834, \\\"left\\\": 1.9786}, {\\\"count\\\": 0, \\\"right\\\": 2.3882, \\\"left\\\": 2.1834}, {\\\"count\\\": 0, \\\"right\\\": 2.593, \\\"left\\\": 2.3882}, {\\\"count\\\": 0, \\\"right\\\": 2.7978, \\\"left\\\": 2.593}, {\\\"count\\\": 0, \\\"right\\\": 3.0026, \\\"left\\\": 2.7978}, {\\\"count\\\": 0, \\\"right\\\": 3.2074, \\\"left\\\": 3.0026}, {\\\"count\\\": 0, \\\"right\\\": 3.4122, \\\"left\\\": 3.2074}, {\\\"count\\\": 0, \\\"right\\\": 3.617, \\\"left\\\": 3.4122}, {\\\"count\\\": 0, \\\"right\\\": 3.8218, \\\"left\\\": 3.617}, {\\\"count\\\": 95, \\\"right\\\": 4.0266, \\\"left\\\": 3.8218}, {\\\"count\\\": 0, \\\"right\\\": 4.2314, \\\"left\\\": 4.0266}, {\\\"count\\\": 0, \\\"right\\\": 4.4362, \\\"left\\\": 4.2314}, {\\\"count\\\": 0, \\\"right\\\": 4.641, \\\"left\\\": 4.4362}, {\\\"count\\\": 0, \\\"right\\\": 4.8458, \\\"left\\\": 4.641}, {\\\"count\\\": 535, \\\"right\\\": 5.0506, \\\"left\\\": 4.8458}, {\\\"start\\\": 0.9546, \\\"step\\\": 0.2048, \\\"stop\\\": 5.0506}], \\\"stdev\\\": 1.21554, \\\"type\\\": \\\"float\\\", \\\"mean\\\": 4.405256}, {\\\"a\\\": 3, \\\"num_row\\\": 723, \\\"title\\\": \\\"sentiment\\\", \\\"max\\\": 1.0, \\\"min\\\": 0.0, \\\"median\\\": 1.0, \\\"num_missing\\\": 0, \\\"num_unique\\\": 2, \\\"categorical\\\": [], \\\"numeric\\\": [{\\\"count\\\": 0, \\\"right\\\": -8, \\\"left\\\": -9}, {\\\"count\\\": 0, \\\"right\\\": -7, \\\"left\\\": -8}, {\\\"count\\\": 0, \\\"right\\\": -6, \\\"left\\\": -7}, {\\\"count\\\": 0, \\\"right\\\": -5, \\\"left\\\": -6}, {\\\"count\\\": 0, \\\"right\\\": -4, \\\"left\\\": -5}, {\\\"count\\\": 0, \\\"right\\\": -3, \\\"left\\\": -4}, {\\\"count\\\": 0, \\\"right\\\": -2, \\\"left\\\": -3}, {\\\"count\\\": 0, \\\"right\\\": -1, \\\"left\\\": -2}, {\\\"count\\\": 0, \\\"right\\\": 0, \\\"left\\\": -1}, {\\\"count\\\": 93, \\\"right\\\": 1, \\\"left\\\": 0}, {\\\"count\\\": 630, \\\"right\\\": 2, \\\"left\\\": 1}, {\\\"count\\\": 0, \\\"right\\\": 3, \\\"left\\\": 2}, {\\\"count\\\": 0, \\\"right\\\": 4, \\\"left\\\": 3}, {\\\"count\\\": 0, \\\"right\\\": 5, \\\"left\\\": 4}, {\\\"count\\\": 0, \\\"right\\\": 6, \\\"left\\\": 5}, {\\\"count\\\": 0, \\\"right\\\": 7, \\\"left\\\": 6}, {\\\"count\\\": 0, \\\"right\\\": 8, \\\"left\\\": 7}, {\\\"count\\\": 0, \\\"right\\\": 9, \\\"left\\\": 8}, {\\\"count\\\": 0, \\\"right\\\": 10, \\\"left\\\": 9}, {\\\"count\\\": 0, \\\"right\\\": 11, \\\"left\\\": 10}, {\\\"start\\\": -9, \\\"step\\\": 1, \\\"stop\\\": 11}], \\\"stdev\\\": 0.334791, \\\"type\\\": \\\"integer\\\", \\\"mean\\\": 0.871369}, {\\\"a\\\": 4, \\\"num_row\\\": 723, \\\"title\\\": \\\"predicted_sentiment\\\", \\\"max\\\": 1.0, \\\"min\\\": 0.0, \\\"median\\\": 0.999361, \\\"num_missing\\\": 0, \\\"num_unique\\\": 716, \\\"categorical\\\": [], \\\"numeric\\\": [{\\\"count\\\": 59, \\\"right\\\": 0.0412077, \\\"left\\\": -0.00977137}, {\\\"count\\\": 10, \\\"right\\\": 0.0921868, \\\"left\\\": 0.0412077}, {\\\"count\\\": 5, \\\"right\\\": 0.143166, \\\"left\\\": 0.0921868}, {\\\"count\\\": 2, \\\"right\\\": 0.194145, \\\"left\\\": 0.143166}, {\\\"count\\\": 1, \\\"right\\\": 0.245124, \\\"left\\\": 0.194145}, {\\\"count\\\": 2, \\\"right\\\": 0.296103, \\\"left\\\": 0.245124}, {\\\"count\\\": 2, \\\"right\\\": 0.347082, \\\"left\\\": 0.296103}, {\\\"count\\\": 3, \\\"right\\\": 0.398061, \\\"left\\\": 0.347082}, {\\\"count\\\": 0, \\\"right\\\": 0.44904, \\\"left\\\": 0.398061}, {\\\"count\\\": 1, \\\"right\\\": 0.500019, \\\"left\\\": 0.44904}, {\\\"count\\\": 3, \\\"right\\\": 0.550999, \\\"left\\\": 0.500019}, {\\\"count\\\": 0, \\\"right\\\": 0.601978, \\\"left\\\": 0.550999}, {\\\"count\\\": 3, \\\"right\\\": 0.652957, \\\"left\\\": 0.601978}, {\\\"count\\\": 4, \\\"right\\\": 0.703936, \\\"left\\\": 0.652957}, {\\\"count\\\": 3, \\\"right\\\": 0.754915, \\\"left\\\": 0.703936}, {\\\"count\\\": 14, \\\"right\\\": 0.805894, \\\"left\\\": 0.754915}, {\\\"count\\\": 7, \\\"right\\\": 0.856873, \\\"left\\\": 0.805894}, {\\\"count\\\": 8, \\\"right\\\": 0.907852, \\\"left\\\": 0.856873}, {\\\"count\\\": 26, \\\"right\\\": 0.958831, \\\"left\\\": 0.907852}, {\\\"count\\\": 570, \\\"right\\\": 1.00981, \\\"left\\\": 0.958831}, {\\\"start\\\": -0.00977137, \\\"step\\\": 0.0509791, \\\"stop\\\": 1.00981}], \\\"stdev\\\": 0.305758, \\\"type\\\": \\\"float\\\", \\\"mean\\\": 0.870892}], \\\"name\\\": \\\"source_2\\\"}, {\\\"source\\\": \\\"source_2\\\", \\\"name\\\": \\\"data_2\\\", \\\"transform\\\": [{\\\"expr\\\": \\\"20\\\", \\\"as\\\": \\\"c_x_axis_back\\\", \\\"type\\\": \\\"formula\\\"}, {\\\"expr\\\": \\\"toNumber(datum[\\\\\\\"a\\\\\\\"])*300+66\\\", \\\"as\\\": \\\"c_main_background\\\", \\\"type\\\": \\\"formula\\\"}, {\\\"expr\\\": \\\"toNumber(datum[\\\\\\\"a\\\\\\\"])*300+43\\\", \\\"as\\\": \\\"c_top_bar\\\", \\\"type\\\": \\\"formula\\\"}, {\\\"expr\\\": \\\"toNumber(datum[\\\\\\\"a\\\\\\\"])*300+59\\\", \\\"as\\\": \\\"c_top_title\\\", \\\"type\\\": \\\"formula\\\"}, {\\\"expr\\\": \\\"toNumber(datum[\\\\\\\"a\\\\\\\"])*300+58\\\", \\\"as\\\": \\\"c_top_type\\\", \\\"type\\\": \\\"formula\\\"}, {\\\"expr\\\": \\\"toNumber(datum[\\\\\\\"a\\\\\\\"])*300+178\\\", \\\"as\\\": \\\"c_rule\\\", \\\"type\\\": \\\"formula\\\"}, {\\\"expr\\\": \\\"toNumber(datum[\\\\\\\"a\\\\\\\"])*300+106\\\", \\\"as\\\": \\\"c_num_rows\\\", \\\"type\\\": \\\"formula\\\"}, {\\\"expr\\\": \\\"toNumber(datum[\\\\\\\"a\\\\\\\"])*300+130\\\", \\\"as\\\": \\\"c_num_unique\\\", \\\"type\\\": \\\"formula\\\"}, {\\\"expr\\\": \\\"toNumber(datum[\\\\\\\"a\\\\\\\"])*300+154\\\", \\\"as\\\": \\\"c_missing\\\", \\\"type\\\": \\\"formula\\\"}, {\\\"expr\\\": \\\"toNumber(datum[\\\\\\\"a\\\\\\\"])*300+105\\\", \\\"as\\\": \\\"c_num_rows_val\\\", \\\"type\\\": \\\"formula\\\"}, {\\\"expr\\\": \\\"toNumber(datum[\\\\\\\"a\\\\\\\"])*300+130\\\", \\\"as\\\": \\\"c_num_unique_val\\\", \\\"type\\\": \\\"formula\\\"}, {\\\"expr\\\": \\\"toNumber(datum[\\\\\\\"a\\\\\\\"])*300+154\\\", \\\"as\\\": \\\"c_missing_val\\\", \\\"type\\\": \\\"formula\\\"}, {\\\"expr\\\": \\\"toNumber(datum[\\\\\\\"a\\\\\\\"])*300+195\\\", \\\"as\\\": \\\"c_frequent_items\\\", \\\"type\\\": \\\"formula\\\"}, {\\\"expr\\\": \\\"toNumber(datum[\\\\\\\"a\\\\\\\"])*300+218\\\", \\\"as\\\": \\\"c_first_item\\\", \\\"type\\\": \\\"formula\\\"}, {\\\"expr\\\": \\\"toNumber(datum[\\\\\\\"a\\\\\\\"])*300+235\\\", \\\"as\\\": \\\"c_second_item\\\", \\\"type\\\": \\\"formula\\\"}, {\\\"expr\\\": \\\"toNumber(datum[\\\\\\\"a\\\\\\\"])*300+252\\\", \\\"as\\\": \\\"c_third_item\\\", \\\"type\\\": \\\"formula\\\"}, {\\\"expr\\\": \\\"toNumber(datum[\\\\\\\"a\\\\\\\"])*300+269\\\", \\\"as\\\": \\\"c_fourth_item\\\", \\\"type\\\": \\\"formula\\\"}, {\\\"expr\\\": \\\"toNumber(datum[\\\\\\\"a\\\\\\\"])*300+286\\\", \\\"as\\\": \\\"c_fifth_item\\\", \\\"type\\\": \\\"formula\\\"}, {\\\"expr\\\": \\\"toNumber(datum[\\\\\\\"a\\\\\\\"])*300+200\\\", \\\"as\\\": \\\"c_mean\\\", \\\"type\\\": \\\"formula\\\"}, {\\\"expr\\\": \\\"toNumber(datum[\\\\\\\"a\\\\\\\"])*300+220\\\", \\\"as\\\": \\\"c_min\\\", \\\"type\\\": \\\"formula\\\"}, {\\\"expr\\\": \\\"toNumber(datum[\\\\\\\"a\\\\\\\"])*300+240\\\", \\\"as\\\": \\\"c_max\\\", \\\"type\\\": \\\"formula\\\"}, {\\\"expr\\\": \\\"toNumber(datum[\\\\\\\"a\\\\\\\"])*300+260\\\", \\\"as\\\": \\\"c_median\\\", \\\"type\\\": \\\"formula\\\"}, {\\\"expr\\\": \\\"toNumber(datum[\\\\\\\"a\\\\\\\"])*300+280\\\", \\\"as\\\": \\\"c_stdev\\\", \\\"type\\\": \\\"formula\\\"}, {\\\"expr\\\": \\\"toNumber(datum[\\\\\\\"a\\\\\\\"])*300+198\\\", \\\"as\\\": \\\"c_mean_val\\\", \\\"type\\\": \\\"formula\\\"}, {\\\"expr\\\": \\\"toNumber(datum[\\\\\\\"a\\\\\\\"])*300+218\\\", \\\"as\\\": \\\"c_min_val\\\", \\\"type\\\": \\\"formula\\\"}, {\\\"expr\\\": \\\"toNumber(datum[\\\\\\\"a\\\\\\\"])*300+238\\\", \\\"as\\\": \\\"c_max_val\\\", \\\"type\\\": \\\"formula\\\"}, {\\\"expr\\\": \\\"toNumber(datum[\\\\\\\"a\\\\\\\"])*300+258\\\", \\\"as\\\": \\\"c_median_val\\\", \\\"type\\\": \\\"formula\\\"}, {\\\"expr\\\": \\\"toNumber(datum[\\\\\\\"a\\\\\\\"])*300+278\\\", \\\"as\\\": \\\"c_stdev_val\\\", \\\"type\\\": \\\"formula\\\"}, {\\\"expr\\\": \\\"toNumber(datum[\\\\\\\"a\\\\\\\"])*300+106\\\", \\\"as\\\": \\\"graph_offset\\\", \\\"type\\\": \\\"formula\\\"}, {\\\"expr\\\": \\\"toNumber(datum[\\\\\\\"a\\\\\\\"])*300+132\\\", \\\"as\\\": \\\"graph_offset_categorical\\\", \\\"type\\\": \\\"formula\\\"}, {\\\"expr\\\": \\\"(toString(datum[\\\\\\\"type\\\\\\\"]) == \\\\\\\"integer\\\\\\\" || toString(datum[\\\\\\\"type\\\\\\\"]) == \\\\\\\"float\\\\\\\")?false:true\\\", \\\"as\\\": \\\"c_clip_val\\\", \\\"type\\\": \\\"formula\\\"}, {\\\"expr\\\": \\\"(toString(datum[\\\\\\\"type\\\\\\\"]) == \\\\\\\"integer\\\\\\\" || toString(datum[\\\\\\\"type\\\\\\\"]) == \\\\\\\"float\\\\\\\")?250:0\\\", \\\"as\\\": \\\"c_width_numeric_val\\\", \\\"type\\\": \\\"formula\\\"}, {\\\"expr\\\": \\\"(toString(datum[\\\\\\\"type\\\\\\\"]) == \\\\\\\"str\\\\\\\")?false:true\\\", \\\"as\\\": \\\"c_clip_val_cat\\\", \\\"type\\\": \\\"formula\\\"}, {\\\"expr\\\": \\\"(toString(datum[\\\\\\\"type\\\\\\\"]) == \\\\\\\"str\\\\\\\")?250:0\\\", \\\"as\\\": \\\"c_width_numeric_val_cat\\\", \\\"type\\\": \\\"formula\\\"}]}], \\\"metadata\\\": {\\\"bubbleOpts\\\": {\\\"fields\\\": [{\\\"field\\\": \\\"left\\\"}, {\\\"field\\\": \\\"right\\\"}, {\\\"field\\\": \\\"count\\\"}, {\\\"field\\\": \\\"label\\\"}], \\\"showAllFields\\\": false}}}\";                                 var vega_json_parsed = JSON.parse(vega_json);                                 var toolTipOpts = {                                     showAllFields: true                                 };                                 if(vega_json_parsed[\"metadata\"] != null){                                     if(vega_json_parsed[\"metadata\"][\"bubbleOpts\"] != null){                                         toolTipOpts = vega_json_parsed[\"metadata\"][\"bubbleOpts\"];                                     };                                 };                                 vegaEmbed(\"#vis\", vega_json_parsed).then(function (result) {                                     vegaTooltip.vega(result.view, toolTipOpts);                                  });                             </script>                         </body>                     </html>' src=\"demo_iframe_srcdoc.htm\">                         <p>Your browser does not support iframes.</p>                     </iframe>                 </body>             </html>"
            ]
          },
          "metadata": {
            "tags": []
          }
        }
      ]
    },
    {
      "cell_type": "markdown",
      "metadata": {
        "id": "dSFJB2tmCGb7",
        "colab_type": "text"
      },
      "source": [
        "# Quiz Solution\n"
      ]
    },
    {
      "cell_type": "code",
      "metadata": {
        "id": "TeALk2AkCQXm",
        "colab_type": "code",
        "colab": {}
      },
      "source": [
        "selected_words = ['awesome', 'great', 'fantastic', 'amazing', 'love', 'horrible', 'bad', 'terrible', 'awful', 'wow', 'hate']"
      ],
      "execution_count": null,
      "outputs": []
    },
    {
      "cell_type": "code",
      "metadata": {
        "id": "d0bycjUHZ-3r",
        "colab_type": "code",
        "colab": {}
      },
      "source": [
        "products2 = turicreate.SFrame('data/amazon_baby.sframe')\n",
        "products2['word_count'] = turicreate.text_analytics.count_words(products2['review'])"
      ],
      "execution_count": null,
      "outputs": []
    },
    {
      "cell_type": "code",
      "metadata": {
        "id": "gAgVy6UiivxL",
        "colab_type": "code",
        "colab": {}
      },
      "source": [
        "#ignore all 3*  reviews\n",
        "products2 = products2[products2['rating']!= 3]\n",
        "#positive sentiment = 4-star or 5-star reviews\n",
        "products2['sentiment'] = products2['rating'] >= 4"
      ],
      "execution_count": null,
      "outputs": []
    },
    {
      "cell_type": "code",
      "metadata": {
        "id": "2Z_729Q9dvvQ",
        "colab_type": "code",
        "colab": {}
      },
      "source": [
        "def word_counter(word_count):\n",
        "    if word in word_count:   \n",
        "        return word_count[word]\n",
        "    else:\n",
        "        return 0\n",
        "        \n",
        "for word in selected_words:\n",
        "    products2[word] = products2['word_count'].apply(word_counter)"
      ],
      "execution_count": null,
      "outputs": []
    },
    {
      "cell_type": "code",
      "metadata": {
        "id": "IYptLRpZUFke",
        "colab_type": "code",
        "colab": {
          "base_uri": "https://localhost:8080/",
          "height": 660
        },
        "outputId": "026d2420-edc7-4bbc-a0a4-51476c07b1a0"
      },
      "source": [
        "products2"
      ],
      "execution_count": null,
      "outputs": [
        {
          "output_type": "execute_result",
          "data": {
            "text/plain": [
              "Columns:\n",
              "\tname\tstr\n",
              "\treview\tstr\n",
              "\trating\tfloat\n",
              "\tword_count\tdict\n",
              "\tsentiment\tint\n",
              "\tawesome\tfloat\n",
              "\tgreat\tfloat\n",
              "\tfantastic\tfloat\n",
              "\tamazing\tfloat\n",
              "\tlove\tfloat\n",
              "\thorrible\tint\n",
              "\tbad\tint\n",
              "\tterrible\tfloat\n",
              "\tawful\tint\n",
              "\twow\tint\n",
              "\thate\tint\n",
              "\n",
              "Rows: 166752\n",
              "\n",
              "Data:\n",
              "+-------------------------------+-------------------------------+--------+\n",
              "|              name             |             review            | rating |\n",
              "+-------------------------------+-------------------------------+--------+\n",
              "|     Planetwise Wipe Pouch     | it came early and was not ... |  5.0   |\n",
              "| Annas Dream Full Quilt wit... | Very soft and comfortable ... |  5.0   |\n",
              "| Stop Pacifier Sucking with... | This is a product well wor... |  5.0   |\n",
              "| Stop Pacifier Sucking with... | All of my kids have cried ... |  5.0   |\n",
              "| Stop Pacifier Sucking with... | When the Binky Fairy came ... |  5.0   |\n",
              "| A Tale of Baby's Days with... | Lovely book, it's bound ti... |  4.0   |\n",
              "| Baby Tracker&reg; - Daily ... | Perfect for new parents. W... |  5.0   |\n",
              "| Baby Tracker&reg; - Daily ... | A friend of mine pinned th... |  5.0   |\n",
              "| Baby Tracker&reg; - Daily ... | This has been an easy way ... |  4.0   |\n",
              "| Baby Tracker&reg; - Daily ... | I love this journal and ou... |  4.0   |\n",
              "+-------------------------------+-------------------------------+--------+\n",
              "+-------------------------------+-----------+---------+-------+-----------+---------+\n",
              "|           word_count          | sentiment | awesome | great | fantastic | amazing |\n",
              "+-------------------------------+-----------+---------+-------+-----------+---------+\n",
              "| {'and': 3.0, 'love': 1.0, ... |     1     |   0.0   |  0.0  |    0.0    |   0.0   |\n",
              "| {'and': 2.0, 'quilt': 1.0,... |     1     |   0.0   |  0.0  |    0.0    |   0.0   |\n",
              "| {'and': 3.0, 'ingenious': ... |     1     |   0.0   |  0.0  |    0.0    |   0.0   |\n",
              "| {'and': 2.0, 'this': 2.0, ... |     1     |   0.0   |  1.0  |    0.0    |   0.0   |\n",
              "| {'and': 2.0, 'cute': 1.0, ... |     1     |   0.0   |  1.0  |    0.0    |   0.0   |\n",
              "| {'shop': 1.0, 'be': 1.0, '... |     1     |   0.0   |  0.0  |    0.0    |   0.0   |\n",
              "| {'and': 2.0, 'all': 1.0, '... |     1     |   0.0   |  0.0  |    0.0    |   0.0   |\n",
              "| {'and': 1.0, 'fantastic': ... |     1     |   0.0   |  0.0  |    1.0    |   0.0   |\n",
              "| {'pre': 1.0, 'all': 1.0, '... |     1     |   0.0   |  0.0  |    0.0    |   0.0   |\n",
              "| {'all': 2.0, 'forget': 1.0... |     1     |   0.0   |  0.0  |    0.0    |   0.0   |\n",
              "+-------------------------------+-----------+---------+-------+-----------+---------+\n",
              "+------+----------+-----+----------+-------+-----+------+\n",
              "| love | horrible | bad | terrible | awful | wow | hate |\n",
              "+------+----------+-----+----------+-------+-----+------+\n",
              "| 1.0  |    0     |  0  |   0.0    |   0   |  0  |  0   |\n",
              "| 0.0  |    0     |  0  |   0.0    |   0   |  0  |  0   |\n",
              "| 2.0  |    0     |  0  |   0.0    |   0   |  0  |  0   |\n",
              "| 1.0  |    0     |  0  |   0.0    |   0   |  0  |  0   |\n",
              "| 0.0  |    0     |  0  |   0.0    |   0   |  0  |  0   |\n",
              "| 0.0  |    0     |  0  |   0.0    |   0   |  0  |  0   |\n",
              "| 0.0  |    0     |  0  |   0.0    |   0   |  0  |  0   |\n",
              "| 0.0  |    0     |  0  |   0.0    |   0   |  0  |  0   |\n",
              "| 0.0  |    0     |  0  |   0.0    |   0   |  0  |  0   |\n",
              "| 2.0  |    0     |  0  |   0.0    |   0   |  0  |  0   |\n",
              "+------+----------+-----+----------+-------+-----+------+\n",
              "[166752 rows x 16 columns]\n",
              "Note: Only the head of the SFrame is printed.\n",
              "You can use print_rows(num_rows=m, num_columns=n) to print more rows and columns."
            ],
            "text/html": [
              "<div style=\"max-height:1000px;max-width:1500px;overflow:auto;\"><table frame=\"box\" rules=\"cols\">\n",
              "    <tr>\n",
              "        <th style=\"padding-left: 1em; padding-right: 1em; text-align: center\">name</th>\n",
              "        <th style=\"padding-left: 1em; padding-right: 1em; text-align: center\">review</th>\n",
              "        <th style=\"padding-left: 1em; padding-right: 1em; text-align: center\">rating</th>\n",
              "        <th style=\"padding-left: 1em; padding-right: 1em; text-align: center\">word_count</th>\n",
              "        <th style=\"padding-left: 1em; padding-right: 1em; text-align: center\">sentiment</th>\n",
              "        <th style=\"padding-left: 1em; padding-right: 1em; text-align: center\">awesome</th>\n",
              "    </tr>\n",
              "    <tr>\n",
              "        <td style=\"padding-left: 1em; padding-right: 1em; text-align: center; vertical-align: top\">Planetwise Wipe Pouch</td>\n",
              "        <td style=\"padding-left: 1em; padding-right: 1em; text-align: center; vertical-align: top\">it came early and was not<br>disappointed. i love ...</td>\n",
              "        <td style=\"padding-left: 1em; padding-right: 1em; text-align: center; vertical-align: top\">5.0</td>\n",
              "        <td style=\"padding-left: 1em; padding-right: 1em; text-align: center; vertical-align: top\">{'and': 3.0, 'love': 1.0,<br>'it': 3.0, 'highly':  ...</td>\n",
              "        <td style=\"padding-left: 1em; padding-right: 1em; text-align: center; vertical-align: top\">1</td>\n",
              "        <td style=\"padding-left: 1em; padding-right: 1em; text-align: center; vertical-align: top\">0.0</td>\n",
              "    </tr>\n",
              "    <tr>\n",
              "        <td style=\"padding-left: 1em; padding-right: 1em; text-align: center; vertical-align: top\">Annas Dream Full Quilt<br>with 2 Shams ...</td>\n",
              "        <td style=\"padding-left: 1em; padding-right: 1em; text-align: center; vertical-align: top\">Very soft and comfortable<br>and warmer than it ...</td>\n",
              "        <td style=\"padding-left: 1em; padding-right: 1em; text-align: center; vertical-align: top\">5.0</td>\n",
              "        <td style=\"padding-left: 1em; padding-right: 1em; text-align: center; vertical-align: top\">{'and': 2.0, 'quilt':<br>1.0, 'it': 1.0, ...</td>\n",
              "        <td style=\"padding-left: 1em; padding-right: 1em; text-align: center; vertical-align: top\">1</td>\n",
              "        <td style=\"padding-left: 1em; padding-right: 1em; text-align: center; vertical-align: top\">0.0</td>\n",
              "    </tr>\n",
              "    <tr>\n",
              "        <td style=\"padding-left: 1em; padding-right: 1em; text-align: center; vertical-align: top\">Stop Pacifier Sucking<br>without tears with ...</td>\n",
              "        <td style=\"padding-left: 1em; padding-right: 1em; text-align: center; vertical-align: top\">This is a product well<br>worth the purchase.  I ...</td>\n",
              "        <td style=\"padding-left: 1em; padding-right: 1em; text-align: center; vertical-align: top\">5.0</td>\n",
              "        <td style=\"padding-left: 1em; padding-right: 1em; text-align: center; vertical-align: top\">{'and': 3.0, 'ingenious':<br>1.0, 'love': 2.0, 'is': ...</td>\n",
              "        <td style=\"padding-left: 1em; padding-right: 1em; text-align: center; vertical-align: top\">1</td>\n",
              "        <td style=\"padding-left: 1em; padding-right: 1em; text-align: center; vertical-align: top\">0.0</td>\n",
              "    </tr>\n",
              "    <tr>\n",
              "        <td style=\"padding-left: 1em; padding-right: 1em; text-align: center; vertical-align: top\">Stop Pacifier Sucking<br>without tears with ...</td>\n",
              "        <td style=\"padding-left: 1em; padding-right: 1em; text-align: center; vertical-align: top\">All of my kids have cried<br>non-stop when I tried to ...</td>\n",
              "        <td style=\"padding-left: 1em; padding-right: 1em; text-align: center; vertical-align: top\">5.0</td>\n",
              "        <td style=\"padding-left: 1em; padding-right: 1em; text-align: center; vertical-align: top\">{'and': 2.0, 'this': 2.0,<br>'all': 2.0, 'love': 1.0, ...</td>\n",
              "        <td style=\"padding-left: 1em; padding-right: 1em; text-align: center; vertical-align: top\">1</td>\n",
              "        <td style=\"padding-left: 1em; padding-right: 1em; text-align: center; vertical-align: top\">0.0</td>\n",
              "    </tr>\n",
              "    <tr>\n",
              "        <td style=\"padding-left: 1em; padding-right: 1em; text-align: center; vertical-align: top\">Stop Pacifier Sucking<br>without tears with ...</td>\n",
              "        <td style=\"padding-left: 1em; padding-right: 1em; text-align: center; vertical-align: top\">When the Binky Fairy came<br>to our house, we didn't ...</td>\n",
              "        <td style=\"padding-left: 1em; padding-right: 1em; text-align: center; vertical-align: top\">5.0</td>\n",
              "        <td style=\"padding-left: 1em; padding-right: 1em; text-align: center; vertical-align: top\">{'and': 2.0, 'cute': 1.0,<br>'help': 2.0, 'habit': ...</td>\n",
              "        <td style=\"padding-left: 1em; padding-right: 1em; text-align: center; vertical-align: top\">1</td>\n",
              "        <td style=\"padding-left: 1em; padding-right: 1em; text-align: center; vertical-align: top\">0.0</td>\n",
              "    </tr>\n",
              "    <tr>\n",
              "        <td style=\"padding-left: 1em; padding-right: 1em; text-align: center; vertical-align: top\">A Tale of Baby's Days<br>with Peter Rabbit ...</td>\n",
              "        <td style=\"padding-left: 1em; padding-right: 1em; text-align: center; vertical-align: top\">Lovely book, it's bound<br>tightly so you may no ...</td>\n",
              "        <td style=\"padding-left: 1em; padding-right: 1em; text-align: center; vertical-align: top\">4.0</td>\n",
              "        <td style=\"padding-left: 1em; padding-right: 1em; text-align: center; vertical-align: top\">{'shop': 1.0, 'be': 1.0,<br>'is': 1.0, 'bound': 1.0, ...</td>\n",
              "        <td style=\"padding-left: 1em; padding-right: 1em; text-align: center; vertical-align: top\">1</td>\n",
              "        <td style=\"padding-left: 1em; padding-right: 1em; text-align: center; vertical-align: top\">0.0</td>\n",
              "    </tr>\n",
              "    <tr>\n",
              "        <td style=\"padding-left: 1em; padding-right: 1em; text-align: center; vertical-align: top\">Baby Tracker&amp;reg; - Daily<br>Childcare Journal, ...</td>\n",
              "        <td style=\"padding-left: 1em; padding-right: 1em; text-align: center; vertical-align: top\">Perfect for new parents.<br>We were able to keep ...</td>\n",
              "        <td style=\"padding-left: 1em; padding-right: 1em; text-align: center; vertical-align: top\">5.0</td>\n",
              "        <td style=\"padding-left: 1em; padding-right: 1em; text-align: center; vertical-align: top\">{'and': 2.0, 'all': 1.0,<br>'right': 1.0, 'able': ...</td>\n",
              "        <td style=\"padding-left: 1em; padding-right: 1em; text-align: center; vertical-align: top\">1</td>\n",
              "        <td style=\"padding-left: 1em; padding-right: 1em; text-align: center; vertical-align: top\">0.0</td>\n",
              "    </tr>\n",
              "    <tr>\n",
              "        <td style=\"padding-left: 1em; padding-right: 1em; text-align: center; vertical-align: top\">Baby Tracker&amp;reg; - Daily<br>Childcare Journal, ...</td>\n",
              "        <td style=\"padding-left: 1em; padding-right: 1em; text-align: center; vertical-align: top\">A friend of mine pinned<br>this product on Pinte ...</td>\n",
              "        <td style=\"padding-left: 1em; padding-right: 1em; text-align: center; vertical-align: top\">5.0</td>\n",
              "        <td style=\"padding-left: 1em; padding-right: 1em; text-align: center; vertical-align: top\">{'and': 1.0, 'fantastic':<br>1.0, 'help': 1.0, 'gi ...</td>\n",
              "        <td style=\"padding-left: 1em; padding-right: 1em; text-align: center; vertical-align: top\">1</td>\n",
              "        <td style=\"padding-left: 1em; padding-right: 1em; text-align: center; vertical-align: top\">0.0</td>\n",
              "    </tr>\n",
              "    <tr>\n",
              "        <td style=\"padding-left: 1em; padding-right: 1em; text-align: center; vertical-align: top\">Baby Tracker&amp;reg; - Daily<br>Childcare Journal, ...</td>\n",
              "        <td style=\"padding-left: 1em; padding-right: 1em; text-align: center; vertical-align: top\">This has been an easy way<br>for my nanny to record ...</td>\n",
              "        <td style=\"padding-left: 1em; padding-right: 1em; text-align: center; vertical-align: top\">4.0</td>\n",
              "        <td style=\"padding-left: 1em; padding-right: 1em; text-align: center; vertical-align: top\">{'pre': 1.0, 'all': 1.0,<br>'standarad': 1.0, ...</td>\n",
              "        <td style=\"padding-left: 1em; padding-right: 1em; text-align: center; vertical-align: top\">1</td>\n",
              "        <td style=\"padding-left: 1em; padding-right: 1em; text-align: center; vertical-align: top\">0.0</td>\n",
              "    </tr>\n",
              "    <tr>\n",
              "        <td style=\"padding-left: 1em; padding-right: 1em; text-align: center; vertical-align: top\">Baby Tracker&amp;reg; - Daily<br>Childcare Journal, ...</td>\n",
              "        <td style=\"padding-left: 1em; padding-right: 1em; text-align: center; vertical-align: top\">I love this journal and<br>our nanny uses it ...</td>\n",
              "        <td style=\"padding-left: 1em; padding-right: 1em; text-align: center; vertical-align: top\">4.0</td>\n",
              "        <td style=\"padding-left: 1em; padding-right: 1em; text-align: center; vertical-align: top\">{'all': 2.0, 'forget':<br>1.0, 'just': 1.0, 'fo ...</td>\n",
              "        <td style=\"padding-left: 1em; padding-right: 1em; text-align: center; vertical-align: top\">1</td>\n",
              "        <td style=\"padding-left: 1em; padding-right: 1em; text-align: center; vertical-align: top\">0.0</td>\n",
              "    </tr>\n",
              "</table>\n",
              "<table frame=\"box\" rules=\"cols\">\n",
              "    <tr>\n",
              "        <th style=\"padding-left: 1em; padding-right: 1em; text-align: center\">great</th>\n",
              "        <th style=\"padding-left: 1em; padding-right: 1em; text-align: center\">fantastic</th>\n",
              "        <th style=\"padding-left: 1em; padding-right: 1em; text-align: center\">amazing</th>\n",
              "        <th style=\"padding-left: 1em; padding-right: 1em; text-align: center\">love</th>\n",
              "        <th style=\"padding-left: 1em; padding-right: 1em; text-align: center\">horrible</th>\n",
              "        <th style=\"padding-left: 1em; padding-right: 1em; text-align: center\">bad</th>\n",
              "        <th style=\"padding-left: 1em; padding-right: 1em; text-align: center\">terrible</th>\n",
              "        <th style=\"padding-left: 1em; padding-right: 1em; text-align: center\">awful</th>\n",
              "        <th style=\"padding-left: 1em; padding-right: 1em; text-align: center\">wow</th>\n",
              "        <th style=\"padding-left: 1em; padding-right: 1em; text-align: center\">hate</th>\n",
              "    </tr>\n",
              "    <tr>\n",
              "        <td style=\"padding-left: 1em; padding-right: 1em; text-align: center; vertical-align: top\">0.0</td>\n",
              "        <td style=\"padding-left: 1em; padding-right: 1em; text-align: center; vertical-align: top\">0.0</td>\n",
              "        <td style=\"padding-left: 1em; padding-right: 1em; text-align: center; vertical-align: top\">0.0</td>\n",
              "        <td style=\"padding-left: 1em; padding-right: 1em; text-align: center; vertical-align: top\">1.0</td>\n",
              "        <td style=\"padding-left: 1em; padding-right: 1em; text-align: center; vertical-align: top\">0</td>\n",
              "        <td style=\"padding-left: 1em; padding-right: 1em; text-align: center; vertical-align: top\">0</td>\n",
              "        <td style=\"padding-left: 1em; padding-right: 1em; text-align: center; vertical-align: top\">0.0</td>\n",
              "        <td style=\"padding-left: 1em; padding-right: 1em; text-align: center; vertical-align: top\">0</td>\n",
              "        <td style=\"padding-left: 1em; padding-right: 1em; text-align: center; vertical-align: top\">0</td>\n",
              "        <td style=\"padding-left: 1em; padding-right: 1em; text-align: center; vertical-align: top\">0</td>\n",
              "    </tr>\n",
              "    <tr>\n",
              "        <td style=\"padding-left: 1em; padding-right: 1em; text-align: center; vertical-align: top\">0.0</td>\n",
              "        <td style=\"padding-left: 1em; padding-right: 1em; text-align: center; vertical-align: top\">0.0</td>\n",
              "        <td style=\"padding-left: 1em; padding-right: 1em; text-align: center; vertical-align: top\">0.0</td>\n",
              "        <td style=\"padding-left: 1em; padding-right: 1em; text-align: center; vertical-align: top\">0.0</td>\n",
              "        <td style=\"padding-left: 1em; padding-right: 1em; text-align: center; vertical-align: top\">0</td>\n",
              "        <td style=\"padding-left: 1em; padding-right: 1em; text-align: center; vertical-align: top\">0</td>\n",
              "        <td style=\"padding-left: 1em; padding-right: 1em; text-align: center; vertical-align: top\">0.0</td>\n",
              "        <td style=\"padding-left: 1em; padding-right: 1em; text-align: center; vertical-align: top\">0</td>\n",
              "        <td style=\"padding-left: 1em; padding-right: 1em; text-align: center; vertical-align: top\">0</td>\n",
              "        <td style=\"padding-left: 1em; padding-right: 1em; text-align: center; vertical-align: top\">0</td>\n",
              "    </tr>\n",
              "    <tr>\n",
              "        <td style=\"padding-left: 1em; padding-right: 1em; text-align: center; vertical-align: top\">0.0</td>\n",
              "        <td style=\"padding-left: 1em; padding-right: 1em; text-align: center; vertical-align: top\">0.0</td>\n",
              "        <td style=\"padding-left: 1em; padding-right: 1em; text-align: center; vertical-align: top\">0.0</td>\n",
              "        <td style=\"padding-left: 1em; padding-right: 1em; text-align: center; vertical-align: top\">2.0</td>\n",
              "        <td style=\"padding-left: 1em; padding-right: 1em; text-align: center; vertical-align: top\">0</td>\n",
              "        <td style=\"padding-left: 1em; padding-right: 1em; text-align: center; vertical-align: top\">0</td>\n",
              "        <td style=\"padding-left: 1em; padding-right: 1em; text-align: center; vertical-align: top\">0.0</td>\n",
              "        <td style=\"padding-left: 1em; padding-right: 1em; text-align: center; vertical-align: top\">0</td>\n",
              "        <td style=\"padding-left: 1em; padding-right: 1em; text-align: center; vertical-align: top\">0</td>\n",
              "        <td style=\"padding-left: 1em; padding-right: 1em; text-align: center; vertical-align: top\">0</td>\n",
              "    </tr>\n",
              "    <tr>\n",
              "        <td style=\"padding-left: 1em; padding-right: 1em; text-align: center; vertical-align: top\">1.0</td>\n",
              "        <td style=\"padding-left: 1em; padding-right: 1em; text-align: center; vertical-align: top\">0.0</td>\n",
              "        <td style=\"padding-left: 1em; padding-right: 1em; text-align: center; vertical-align: top\">0.0</td>\n",
              "        <td style=\"padding-left: 1em; padding-right: 1em; text-align: center; vertical-align: top\">1.0</td>\n",
              "        <td style=\"padding-left: 1em; padding-right: 1em; text-align: center; vertical-align: top\">0</td>\n",
              "        <td style=\"padding-left: 1em; padding-right: 1em; text-align: center; vertical-align: top\">0</td>\n",
              "        <td style=\"padding-left: 1em; padding-right: 1em; text-align: center; vertical-align: top\">0.0</td>\n",
              "        <td style=\"padding-left: 1em; padding-right: 1em; text-align: center; vertical-align: top\">0</td>\n",
              "        <td style=\"padding-left: 1em; padding-right: 1em; text-align: center; vertical-align: top\">0</td>\n",
              "        <td style=\"padding-left: 1em; padding-right: 1em; text-align: center; vertical-align: top\">0</td>\n",
              "    </tr>\n",
              "    <tr>\n",
              "        <td style=\"padding-left: 1em; padding-right: 1em; text-align: center; vertical-align: top\">1.0</td>\n",
              "        <td style=\"padding-left: 1em; padding-right: 1em; text-align: center; vertical-align: top\">0.0</td>\n",
              "        <td style=\"padding-left: 1em; padding-right: 1em; text-align: center; vertical-align: top\">0.0</td>\n",
              "        <td style=\"padding-left: 1em; padding-right: 1em; text-align: center; vertical-align: top\">0.0</td>\n",
              "        <td style=\"padding-left: 1em; padding-right: 1em; text-align: center; vertical-align: top\">0</td>\n",
              "        <td style=\"padding-left: 1em; padding-right: 1em; text-align: center; vertical-align: top\">0</td>\n",
              "        <td style=\"padding-left: 1em; padding-right: 1em; text-align: center; vertical-align: top\">0.0</td>\n",
              "        <td style=\"padding-left: 1em; padding-right: 1em; text-align: center; vertical-align: top\">0</td>\n",
              "        <td style=\"padding-left: 1em; padding-right: 1em; text-align: center; vertical-align: top\">0</td>\n",
              "        <td style=\"padding-left: 1em; padding-right: 1em; text-align: center; vertical-align: top\">0</td>\n",
              "    </tr>\n",
              "    <tr>\n",
              "        <td style=\"padding-left: 1em; padding-right: 1em; text-align: center; vertical-align: top\">0.0</td>\n",
              "        <td style=\"padding-left: 1em; padding-right: 1em; text-align: center; vertical-align: top\">0.0</td>\n",
              "        <td style=\"padding-left: 1em; padding-right: 1em; text-align: center; vertical-align: top\">0.0</td>\n",
              "        <td style=\"padding-left: 1em; padding-right: 1em; text-align: center; vertical-align: top\">0.0</td>\n",
              "        <td style=\"padding-left: 1em; padding-right: 1em; text-align: center; vertical-align: top\">0</td>\n",
              "        <td style=\"padding-left: 1em; padding-right: 1em; text-align: center; vertical-align: top\">0</td>\n",
              "        <td style=\"padding-left: 1em; padding-right: 1em; text-align: center; vertical-align: top\">0.0</td>\n",
              "        <td style=\"padding-left: 1em; padding-right: 1em; text-align: center; vertical-align: top\">0</td>\n",
              "        <td style=\"padding-left: 1em; padding-right: 1em; text-align: center; vertical-align: top\">0</td>\n",
              "        <td style=\"padding-left: 1em; padding-right: 1em; text-align: center; vertical-align: top\">0</td>\n",
              "    </tr>\n",
              "    <tr>\n",
              "        <td style=\"padding-left: 1em; padding-right: 1em; text-align: center; vertical-align: top\">0.0</td>\n",
              "        <td style=\"padding-left: 1em; padding-right: 1em; text-align: center; vertical-align: top\">0.0</td>\n",
              "        <td style=\"padding-left: 1em; padding-right: 1em; text-align: center; vertical-align: top\">0.0</td>\n",
              "        <td style=\"padding-left: 1em; padding-right: 1em; text-align: center; vertical-align: top\">0.0</td>\n",
              "        <td style=\"padding-left: 1em; padding-right: 1em; text-align: center; vertical-align: top\">0</td>\n",
              "        <td style=\"padding-left: 1em; padding-right: 1em; text-align: center; vertical-align: top\">0</td>\n",
              "        <td style=\"padding-left: 1em; padding-right: 1em; text-align: center; vertical-align: top\">0.0</td>\n",
              "        <td style=\"padding-left: 1em; padding-right: 1em; text-align: center; vertical-align: top\">0</td>\n",
              "        <td style=\"padding-left: 1em; padding-right: 1em; text-align: center; vertical-align: top\">0</td>\n",
              "        <td style=\"padding-left: 1em; padding-right: 1em; text-align: center; vertical-align: top\">0</td>\n",
              "    </tr>\n",
              "    <tr>\n",
              "        <td style=\"padding-left: 1em; padding-right: 1em; text-align: center; vertical-align: top\">0.0</td>\n",
              "        <td style=\"padding-left: 1em; padding-right: 1em; text-align: center; vertical-align: top\">1.0</td>\n",
              "        <td style=\"padding-left: 1em; padding-right: 1em; text-align: center; vertical-align: top\">0.0</td>\n",
              "        <td style=\"padding-left: 1em; padding-right: 1em; text-align: center; vertical-align: top\">0.0</td>\n",
              "        <td style=\"padding-left: 1em; padding-right: 1em; text-align: center; vertical-align: top\">0</td>\n",
              "        <td style=\"padding-left: 1em; padding-right: 1em; text-align: center; vertical-align: top\">0</td>\n",
              "        <td style=\"padding-left: 1em; padding-right: 1em; text-align: center; vertical-align: top\">0.0</td>\n",
              "        <td style=\"padding-left: 1em; padding-right: 1em; text-align: center; vertical-align: top\">0</td>\n",
              "        <td style=\"padding-left: 1em; padding-right: 1em; text-align: center; vertical-align: top\">0</td>\n",
              "        <td style=\"padding-left: 1em; padding-right: 1em; text-align: center; vertical-align: top\">0</td>\n",
              "    </tr>\n",
              "    <tr>\n",
              "        <td style=\"padding-left: 1em; padding-right: 1em; text-align: center; vertical-align: top\">0.0</td>\n",
              "        <td style=\"padding-left: 1em; padding-right: 1em; text-align: center; vertical-align: top\">0.0</td>\n",
              "        <td style=\"padding-left: 1em; padding-right: 1em; text-align: center; vertical-align: top\">0.0</td>\n",
              "        <td style=\"padding-left: 1em; padding-right: 1em; text-align: center; vertical-align: top\">0.0</td>\n",
              "        <td style=\"padding-left: 1em; padding-right: 1em; text-align: center; vertical-align: top\">0</td>\n",
              "        <td style=\"padding-left: 1em; padding-right: 1em; text-align: center; vertical-align: top\">0</td>\n",
              "        <td style=\"padding-left: 1em; padding-right: 1em; text-align: center; vertical-align: top\">0.0</td>\n",
              "        <td style=\"padding-left: 1em; padding-right: 1em; text-align: center; vertical-align: top\">0</td>\n",
              "        <td style=\"padding-left: 1em; padding-right: 1em; text-align: center; vertical-align: top\">0</td>\n",
              "        <td style=\"padding-left: 1em; padding-right: 1em; text-align: center; vertical-align: top\">0</td>\n",
              "    </tr>\n",
              "    <tr>\n",
              "        <td style=\"padding-left: 1em; padding-right: 1em; text-align: center; vertical-align: top\">0.0</td>\n",
              "        <td style=\"padding-left: 1em; padding-right: 1em; text-align: center; vertical-align: top\">0.0</td>\n",
              "        <td style=\"padding-left: 1em; padding-right: 1em; text-align: center; vertical-align: top\">0.0</td>\n",
              "        <td style=\"padding-left: 1em; padding-right: 1em; text-align: center; vertical-align: top\">2.0</td>\n",
              "        <td style=\"padding-left: 1em; padding-right: 1em; text-align: center; vertical-align: top\">0</td>\n",
              "        <td style=\"padding-left: 1em; padding-right: 1em; text-align: center; vertical-align: top\">0</td>\n",
              "        <td style=\"padding-left: 1em; padding-right: 1em; text-align: center; vertical-align: top\">0.0</td>\n",
              "        <td style=\"padding-left: 1em; padding-right: 1em; text-align: center; vertical-align: top\">0</td>\n",
              "        <td style=\"padding-left: 1em; padding-right: 1em; text-align: center; vertical-align: top\">0</td>\n",
              "        <td style=\"padding-left: 1em; padding-right: 1em; text-align: center; vertical-align: top\">0</td>\n",
              "    </tr>\n",
              "</table>\n",
              "[166752 rows x 16 columns]<br/>Note: Only the head of the SFrame is printed.<br/>You can use print_rows(num_rows=m, num_columns=n) to print more rows and columns.\n",
              "</div>"
            ]
          },
          "metadata": {
            "tags": []
          },
          "execution_count": 38
        }
      ]
    },
    {
      "cell_type": "code",
      "metadata": {
        "id": "IZGVnSO1V41T",
        "colab_type": "code",
        "colab": {
          "base_uri": "https://localhost:8080/",
          "height": 34
        },
        "outputId": "d4cf336e-6bb1-46b0-e8c8-690a3f1454ca"
      },
      "source": [
        "products2['awesome'].sum()"
      ],
      "execution_count": null,
      "outputs": [
        {
          "output_type": "execute_result",
          "data": {
            "text/plain": [
              "3892.0"
            ]
          },
          "metadata": {
            "tags": []
          },
          "execution_count": 40
        }
      ]
    },
    {
      "cell_type": "code",
      "metadata": {
        "id": "2_W9VzbWfIJf",
        "colab_type": "code",
        "colab": {
          "base_uri": "https://localhost:8080/",
          "height": 34
        },
        "outputId": "01e995c0-1086-41ae-8f6c-fef64b980f71"
      },
      "source": [
        "products2['great'].sum()"
      ],
      "execution_count": null,
      "outputs": [
        {
          "output_type": "execute_result",
          "data": {
            "text/plain": [
              "55791.0"
            ]
          },
          "metadata": {
            "tags": []
          },
          "execution_count": 41
        }
      ]
    },
    {
      "cell_type": "code",
      "metadata": {
        "id": "1EuFbyM6fKgl",
        "colab_type": "code",
        "colab": {
          "base_uri": "https://localhost:8080/",
          "height": 34
        },
        "outputId": "7dd2c715-ea31-42c8-f570-2e91afbc67f8"
      },
      "source": [
        "products2['fantastic'].sum()"
      ],
      "execution_count": null,
      "outputs": [
        {
          "output_type": "execute_result",
          "data": {
            "text/plain": [
              "1664.0"
            ]
          },
          "metadata": {
            "tags": []
          },
          "execution_count": 42
        }
      ]
    },
    {
      "cell_type": "code",
      "metadata": {
        "id": "TIK0rRb1fw44",
        "colab_type": "code",
        "colab": {
          "base_uri": "https://localhost:8080/",
          "height": 34
        },
        "outputId": "8036783e-aa84-4267-d45b-dee9ced35a7e"
      },
      "source": [
        "products2['amazing'].sum()"
      ],
      "execution_count": null,
      "outputs": [
        {
          "output_type": "execute_result",
          "data": {
            "text/plain": [
              "2628.0"
            ]
          },
          "metadata": {
            "tags": []
          },
          "execution_count": 43
        }
      ]
    },
    {
      "cell_type": "code",
      "metadata": {
        "id": "n5Lnj_kdf4uu",
        "colab_type": "code",
        "colab": {
          "base_uri": "https://localhost:8080/",
          "height": 34
        },
        "outputId": "9adefa33-488f-4cf3-c8a3-7029efd79667"
      },
      "source": [
        "products2['love'].sum()\n"
      ],
      "execution_count": null,
      "outputs": [
        {
          "output_type": "execute_result",
          "data": {
            "text/plain": [
              "41994.0"
            ]
          },
          "metadata": {
            "tags": []
          },
          "execution_count": 44
        }
      ]
    },
    {
      "cell_type": "code",
      "metadata": {
        "id": "x8jDUBCigDvf",
        "colab_type": "code",
        "colab": {
          "base_uri": "https://localhost:8080/",
          "height": 34
        },
        "outputId": "97a78248-7e32-4047-fa1d-0c40a94c6308"
      },
      "source": [
        "products2['horrible'].sum()"
      ],
      "execution_count": null,
      "outputs": [
        {
          "output_type": "execute_result",
          "data": {
            "text/plain": [
              "1110"
            ]
          },
          "metadata": {
            "tags": []
          },
          "execution_count": 45
        }
      ]
    },
    {
      "cell_type": "code",
      "metadata": {
        "id": "rhgZHe8hgHpS",
        "colab_type": "code",
        "colab": {
          "base_uri": "https://localhost:8080/",
          "height": 34
        },
        "outputId": "5f5c888c-5a9c-4d3a-f59e-f5ad68b20f5d"
      },
      "source": [
        "products2['bad'].sum()"
      ],
      "execution_count": null,
      "outputs": [
        {
          "output_type": "execute_result",
          "data": {
            "text/plain": [
              "4183"
            ]
          },
          "metadata": {
            "tags": []
          },
          "execution_count": 46
        }
      ]
    },
    {
      "cell_type": "code",
      "metadata": {
        "id": "tWnWt8wWgMKe",
        "colab_type": "code",
        "colab": {
          "base_uri": "https://localhost:8080/",
          "height": 34
        },
        "outputId": "68f2f0f1-de78-45f3-9bad-dd4866769226"
      },
      "source": [
        "products2['terrible'].sum()"
      ],
      "execution_count": null,
      "outputs": [
        {
          "output_type": "execute_result",
          "data": {
            "text/plain": [
              "1146.0"
            ]
          },
          "metadata": {
            "tags": []
          },
          "execution_count": 47
        }
      ]
    },
    {
      "cell_type": "code",
      "metadata": {
        "id": "3HfW3fQkgS8n",
        "colab_type": "code",
        "colab": {
          "base_uri": "https://localhost:8080/",
          "height": 34
        },
        "outputId": "2c7bb51b-5c65-47d4-dea7-4a5c6ade2b34"
      },
      "source": [
        "products2['awful'].sum()"
      ],
      "execution_count": null,
      "outputs": [
        {
          "output_type": "execute_result",
          "data": {
            "text/plain": [
              "687"
            ]
          },
          "metadata": {
            "tags": []
          },
          "execution_count": 48
        }
      ]
    },
    {
      "cell_type": "code",
      "metadata": {
        "id": "iW7_pzAfgZHw",
        "colab_type": "code",
        "colab": {
          "base_uri": "https://localhost:8080/",
          "height": 34
        },
        "outputId": "42d1af4d-8d1d-4fe8-82a9-479c57aaab0e"
      },
      "source": [
        "products2['wow'].sum()"
      ],
      "execution_count": null,
      "outputs": [
        {
          "output_type": "execute_result",
          "data": {
            "text/plain": [
              "425"
            ]
          },
          "metadata": {
            "tags": []
          },
          "execution_count": 49
        }
      ]
    },
    {
      "cell_type": "code",
      "metadata": {
        "id": "3goQkmjkggTG",
        "colab_type": "code",
        "colab": {
          "base_uri": "https://localhost:8080/",
          "height": 34
        },
        "outputId": "546cf9d6-3595-4eb6-83c3-d388a726631f"
      },
      "source": [
        "products2['hate'].sum()"
      ],
      "execution_count": null,
      "outputs": [
        {
          "output_type": "execute_result",
          "data": {
            "text/plain": [
              "1107"
            ]
          },
          "metadata": {
            "tags": []
          },
          "execution_count": 50
        }
      ]
    },
    {
      "cell_type": "code",
      "metadata": {
        "id": "OztR6XJhg3Ua",
        "colab_type": "code",
        "colab": {}
      },
      "source": [
        "train_data2,test_data2 = products2.random_split(.8, seed=0)"
      ],
      "execution_count": null,
      "outputs": []
    },
    {
      "cell_type": "code",
      "metadata": {
        "id": "-Jpj89xghFeW",
        "colab_type": "code",
        "colab": {
          "base_uri": "https://localhost:8080/",
          "height": 357
        },
        "outputId": "82ccc031-2484-4efa-de8c-24f12af90614"
      },
      "source": [
        "selected_words_model = turicreate.logistic_classifier.create(train_data2,target='sentiment', features=selected_words, validation_set=test_data2)"
      ],
      "execution_count": null,
      "outputs": [
        {
          "output_type": "display_data",
          "data": {
            "text/plain": [
              "Logistic regression:"
            ],
            "text/html": [
              "<pre>Logistic regression:</pre>"
            ]
          },
          "metadata": {
            "tags": []
          }
        },
        {
          "output_type": "display_data",
          "data": {
            "text/plain": [
              "--------------------------------------------------------"
            ],
            "text/html": [
              "<pre>--------------------------------------------------------</pre>"
            ]
          },
          "metadata": {
            "tags": []
          }
        },
        {
          "output_type": "display_data",
          "data": {
            "text/plain": [
              "Number of examples          : 133448"
            ],
            "text/html": [
              "<pre>Number of examples          : 133448</pre>"
            ]
          },
          "metadata": {
            "tags": []
          }
        },
        {
          "output_type": "display_data",
          "data": {
            "text/plain": [
              "Number of classes           : 2"
            ],
            "text/html": [
              "<pre>Number of classes           : 2</pre>"
            ]
          },
          "metadata": {
            "tags": []
          }
        },
        {
          "output_type": "display_data",
          "data": {
            "text/plain": [
              "Number of feature columns   : 11"
            ],
            "text/html": [
              "<pre>Number of feature columns   : 11</pre>"
            ]
          },
          "metadata": {
            "tags": []
          }
        },
        {
          "output_type": "display_data",
          "data": {
            "text/plain": [
              "Number of unpacked features : 11"
            ],
            "text/html": [
              "<pre>Number of unpacked features : 11</pre>"
            ]
          },
          "metadata": {
            "tags": []
          }
        },
        {
          "output_type": "display_data",
          "data": {
            "text/plain": [
              "Number of coefficients      : 12"
            ],
            "text/html": [
              "<pre>Number of coefficients      : 12</pre>"
            ]
          },
          "metadata": {
            "tags": []
          }
        },
        {
          "output_type": "display_data",
          "data": {
            "text/plain": [
              "Starting Newton Method"
            ],
            "text/html": [
              "<pre>Starting Newton Method</pre>"
            ]
          },
          "metadata": {
            "tags": []
          }
        },
        {
          "output_type": "display_data",
          "data": {
            "text/plain": [
              "--------------------------------------------------------"
            ],
            "text/html": [
              "<pre>--------------------------------------------------------</pre>"
            ]
          },
          "metadata": {
            "tags": []
          }
        },
        {
          "output_type": "display_data",
          "data": {
            "text/plain": [
              "+-----------+----------+--------------+-------------------+---------------------+"
            ],
            "text/html": [
              "<pre>+-----------+----------+--------------+-------------------+---------------------+</pre>"
            ]
          },
          "metadata": {
            "tags": []
          }
        },
        {
          "output_type": "display_data",
          "data": {
            "text/plain": [
              "| Iteration | Passes   | Elapsed Time | Training Accuracy | Validation Accuracy |"
            ],
            "text/html": [
              "<pre>| Iteration | Passes   | Elapsed Time | Training Accuracy | Validation Accuracy |</pre>"
            ]
          },
          "metadata": {
            "tags": []
          }
        },
        {
          "output_type": "display_data",
          "data": {
            "text/plain": [
              "+-----------+----------+--------------+-------------------+---------------------+"
            ],
            "text/html": [
              "<pre>+-----------+----------+--------------+-------------------+---------------------+</pre>"
            ]
          },
          "metadata": {
            "tags": []
          }
        },
        {
          "output_type": "display_data",
          "data": {
            "text/plain": [
              "| 1         | 2        | 0.242710     | 0.847401          | 0.845874            |"
            ],
            "text/html": [
              "<pre>| 1         | 2        | 0.242710     | 0.847401          | 0.845874            |</pre>"
            ]
          },
          "metadata": {
            "tags": []
          }
        },
        {
          "output_type": "display_data",
          "data": {
            "text/plain": [
              "| 2         | 3        | 0.398942     | 0.847514          | 0.846085            |"
            ],
            "text/html": [
              "<pre>| 2         | 3        | 0.398942     | 0.847514          | 0.846085            |</pre>"
            ]
          },
          "metadata": {
            "tags": []
          }
        },
        {
          "output_type": "display_data",
          "data": {
            "text/plain": [
              "| 3         | 4        | 0.556045     | 0.847626          | 0.846115            |"
            ],
            "text/html": [
              "<pre>| 3         | 4        | 0.556045     | 0.847626          | 0.846115            |</pre>"
            ]
          },
          "metadata": {
            "tags": []
          }
        },
        {
          "output_type": "display_data",
          "data": {
            "text/plain": [
              "| 4         | 5        | 0.709435     | 0.847708          | 0.846385            |"
            ],
            "text/html": [
              "<pre>| 4         | 5        | 0.709435     | 0.847708          | 0.846385            |</pre>"
            ]
          },
          "metadata": {
            "tags": []
          }
        },
        {
          "output_type": "display_data",
          "data": {
            "text/plain": [
              "| 5         | 6        | 0.863885     | 0.847708          | 0.846385            |"
            ],
            "text/html": [
              "<pre>| 5         | 6        | 0.863885     | 0.847708          | 0.846385            |</pre>"
            ]
          },
          "metadata": {
            "tags": []
          }
        },
        {
          "output_type": "display_data",
          "data": {
            "text/plain": [
              "| 6         | 7        | 1.030805     | 0.847708          | 0.846385            |"
            ],
            "text/html": [
              "<pre>| 6         | 7        | 1.030805     | 0.847708          | 0.846385            |</pre>"
            ]
          },
          "metadata": {
            "tags": []
          }
        },
        {
          "output_type": "display_data",
          "data": {
            "text/plain": [
              "+-----------+----------+--------------+-------------------+---------------------+"
            ],
            "text/html": [
              "<pre>+-----------+----------+--------------+-------------------+---------------------+</pre>"
            ]
          },
          "metadata": {
            "tags": []
          }
        },
        {
          "output_type": "display_data",
          "data": {
            "text/plain": [
              "SUCCESS: Optimal solution found."
            ],
            "text/html": [
              "<pre>SUCCESS: Optimal solution found.</pre>"
            ]
          },
          "metadata": {
            "tags": []
          }
        },
        {
          "output_type": "display_data",
          "data": {
            "text/plain": [
              ""
            ],
            "text/html": [
              "<pre></pre>"
            ]
          },
          "metadata": {
            "tags": []
          }
        }
      ]
    },
    {
      "cell_type": "code",
      "metadata": {
        "id": "bCSq_hAHlyNc",
        "colab_type": "code",
        "colab": {
          "base_uri": "https://localhost:8080/",
          "height": 279
        },
        "outputId": "0146e10b-837f-4f63-f6c6-d1589cfe5afe"
      },
      "source": [
        "selected_words_model.coefficients"
      ],
      "execution_count": null,
      "outputs": [
        {
          "output_type": "execute_result",
          "data": {
            "text/plain": [
              "Columns:\n",
              "\tname\tstr\n",
              "\tindex\tstr\n",
              "\tclass\tint\n",
              "\tvalue\tfloat\n",
              "\tstderr\tfloat\n",
              "\n",
              "Rows: 12\n",
              "\n",
              "Data:\n",
              "+-------------+-------+-------+-----------------+------------------+\n",
              "|     name    | index | class |      value      |      stderr      |\n",
              "+-------------+-------+-------+-----------------+------------------+\n",
              "| (intercept) |  None |   1   |  1.33659138489  | 0.00892996978766 |\n",
              "|   awesome   |  None |   1   |  1.13353466603  | 0.0839964398319  |\n",
              "|    great    |  None |   1   |  0.86306550012  | 0.0189550524444  |\n",
              "|  fantastic  |  None |   1   |  0.885804756881 |  0.111675912934  |\n",
              "|   amazing   |  None |   1   |  1.10009331137  | 0.0995477626047  |\n",
              "|     love    |  None |   1   |  1.35926886692  | 0.0280683001521  |\n",
              "|   horrible  |  None |   1   |  -2.25133523676 | 0.0802024938879  |\n",
              "|     bad     |  None |   1   | -0.991477880065 |  0.038484286647  |\n",
              "|   terrible  |  None |   1   |  -2.22366143609 | 0.0773173620379  |\n",
              "|    awful    |  None |   1   |  -2.05290820403 |  0.100997354353  |\n",
              "+-------------+-------+-------+-----------------+------------------+\n",
              "[12 rows x 5 columns]\n",
              "Note: Only the head of the SFrame is printed.\n",
              "You can use print_rows(num_rows=m, num_columns=n) to print more rows and columns."
            ],
            "text/html": [
              "<div style=\"max-height:1000px;max-width:1500px;overflow:auto;\"><table frame=\"box\" rules=\"cols\">\n",
              "    <tr>\n",
              "        <th style=\"padding-left: 1em; padding-right: 1em; text-align: center\">name</th>\n",
              "        <th style=\"padding-left: 1em; padding-right: 1em; text-align: center\">index</th>\n",
              "        <th style=\"padding-left: 1em; padding-right: 1em; text-align: center\">class</th>\n",
              "        <th style=\"padding-left: 1em; padding-right: 1em; text-align: center\">value</th>\n",
              "        <th style=\"padding-left: 1em; padding-right: 1em; text-align: center\">stderr</th>\n",
              "    </tr>\n",
              "    <tr>\n",
              "        <td style=\"padding-left: 1em; padding-right: 1em; text-align: center; vertical-align: top\">(intercept)</td>\n",
              "        <td style=\"padding-left: 1em; padding-right: 1em; text-align: center; vertical-align: top\">None</td>\n",
              "        <td style=\"padding-left: 1em; padding-right: 1em; text-align: center; vertical-align: top\">1</td>\n",
              "        <td style=\"padding-left: 1em; padding-right: 1em; text-align: center; vertical-align: top\">1.33659138489</td>\n",
              "        <td style=\"padding-left: 1em; padding-right: 1em; text-align: center; vertical-align: top\">0.00892996978766</td>\n",
              "    </tr>\n",
              "    <tr>\n",
              "        <td style=\"padding-left: 1em; padding-right: 1em; text-align: center; vertical-align: top\">awesome</td>\n",
              "        <td style=\"padding-left: 1em; padding-right: 1em; text-align: center; vertical-align: top\">None</td>\n",
              "        <td style=\"padding-left: 1em; padding-right: 1em; text-align: center; vertical-align: top\">1</td>\n",
              "        <td style=\"padding-left: 1em; padding-right: 1em; text-align: center; vertical-align: top\">1.13353466603</td>\n",
              "        <td style=\"padding-left: 1em; padding-right: 1em; text-align: center; vertical-align: top\">0.0839964398319</td>\n",
              "    </tr>\n",
              "    <tr>\n",
              "        <td style=\"padding-left: 1em; padding-right: 1em; text-align: center; vertical-align: top\">great</td>\n",
              "        <td style=\"padding-left: 1em; padding-right: 1em; text-align: center; vertical-align: top\">None</td>\n",
              "        <td style=\"padding-left: 1em; padding-right: 1em; text-align: center; vertical-align: top\">1</td>\n",
              "        <td style=\"padding-left: 1em; padding-right: 1em; text-align: center; vertical-align: top\">0.86306550012</td>\n",
              "        <td style=\"padding-left: 1em; padding-right: 1em; text-align: center; vertical-align: top\">0.0189550524444</td>\n",
              "    </tr>\n",
              "    <tr>\n",
              "        <td style=\"padding-left: 1em; padding-right: 1em; text-align: center; vertical-align: top\">fantastic</td>\n",
              "        <td style=\"padding-left: 1em; padding-right: 1em; text-align: center; vertical-align: top\">None</td>\n",
              "        <td style=\"padding-left: 1em; padding-right: 1em; text-align: center; vertical-align: top\">1</td>\n",
              "        <td style=\"padding-left: 1em; padding-right: 1em; text-align: center; vertical-align: top\">0.885804756881</td>\n",
              "        <td style=\"padding-left: 1em; padding-right: 1em; text-align: center; vertical-align: top\">0.111675912934</td>\n",
              "    </tr>\n",
              "    <tr>\n",
              "        <td style=\"padding-left: 1em; padding-right: 1em; text-align: center; vertical-align: top\">amazing</td>\n",
              "        <td style=\"padding-left: 1em; padding-right: 1em; text-align: center; vertical-align: top\">None</td>\n",
              "        <td style=\"padding-left: 1em; padding-right: 1em; text-align: center; vertical-align: top\">1</td>\n",
              "        <td style=\"padding-left: 1em; padding-right: 1em; text-align: center; vertical-align: top\">1.10009331137</td>\n",
              "        <td style=\"padding-left: 1em; padding-right: 1em; text-align: center; vertical-align: top\">0.0995477626047</td>\n",
              "    </tr>\n",
              "    <tr>\n",
              "        <td style=\"padding-left: 1em; padding-right: 1em; text-align: center; vertical-align: top\">love</td>\n",
              "        <td style=\"padding-left: 1em; padding-right: 1em; text-align: center; vertical-align: top\">None</td>\n",
              "        <td style=\"padding-left: 1em; padding-right: 1em; text-align: center; vertical-align: top\">1</td>\n",
              "        <td style=\"padding-left: 1em; padding-right: 1em; text-align: center; vertical-align: top\">1.35926886692</td>\n",
              "        <td style=\"padding-left: 1em; padding-right: 1em; text-align: center; vertical-align: top\">0.0280683001521</td>\n",
              "    </tr>\n",
              "    <tr>\n",
              "        <td style=\"padding-left: 1em; padding-right: 1em; text-align: center; vertical-align: top\">horrible</td>\n",
              "        <td style=\"padding-left: 1em; padding-right: 1em; text-align: center; vertical-align: top\">None</td>\n",
              "        <td style=\"padding-left: 1em; padding-right: 1em; text-align: center; vertical-align: top\">1</td>\n",
              "        <td style=\"padding-left: 1em; padding-right: 1em; text-align: center; vertical-align: top\">-2.25133523676</td>\n",
              "        <td style=\"padding-left: 1em; padding-right: 1em; text-align: center; vertical-align: top\">0.0802024938879</td>\n",
              "    </tr>\n",
              "    <tr>\n",
              "        <td style=\"padding-left: 1em; padding-right: 1em; text-align: center; vertical-align: top\">bad</td>\n",
              "        <td style=\"padding-left: 1em; padding-right: 1em; text-align: center; vertical-align: top\">None</td>\n",
              "        <td style=\"padding-left: 1em; padding-right: 1em; text-align: center; vertical-align: top\">1</td>\n",
              "        <td style=\"padding-left: 1em; padding-right: 1em; text-align: center; vertical-align: top\">-0.991477880065</td>\n",
              "        <td style=\"padding-left: 1em; padding-right: 1em; text-align: center; vertical-align: top\">0.038484286647</td>\n",
              "    </tr>\n",
              "    <tr>\n",
              "        <td style=\"padding-left: 1em; padding-right: 1em; text-align: center; vertical-align: top\">terrible</td>\n",
              "        <td style=\"padding-left: 1em; padding-right: 1em; text-align: center; vertical-align: top\">None</td>\n",
              "        <td style=\"padding-left: 1em; padding-right: 1em; text-align: center; vertical-align: top\">1</td>\n",
              "        <td style=\"padding-left: 1em; padding-right: 1em; text-align: center; vertical-align: top\">-2.22366143609</td>\n",
              "        <td style=\"padding-left: 1em; padding-right: 1em; text-align: center; vertical-align: top\">0.0773173620379</td>\n",
              "    </tr>\n",
              "    <tr>\n",
              "        <td style=\"padding-left: 1em; padding-right: 1em; text-align: center; vertical-align: top\">awful</td>\n",
              "        <td style=\"padding-left: 1em; padding-right: 1em; text-align: center; vertical-align: top\">None</td>\n",
              "        <td style=\"padding-left: 1em; padding-right: 1em; text-align: center; vertical-align: top\">1</td>\n",
              "        <td style=\"padding-left: 1em; padding-right: 1em; text-align: center; vertical-align: top\">-2.05290820403</td>\n",
              "        <td style=\"padding-left: 1em; padding-right: 1em; text-align: center; vertical-align: top\">0.100997354353</td>\n",
              "    </tr>\n",
              "</table>\n",
              "[12 rows x 5 columns]<br/>Note: Only the head of the SFrame is printed.<br/>You can use print_rows(num_rows=m, num_columns=n) to print more rows and columns.\n",
              "</div>"
            ]
          },
          "metadata": {
            "tags": []
          },
          "execution_count": 53
        }
      ]
    },
    {
      "cell_type": "code",
      "metadata": {
        "id": "i33gXQJFlY3w",
        "colab_type": "code",
        "colab": {
          "base_uri": "https://localhost:8080/",
          "height": 245
        },
        "outputId": "d01c17b0-5a6c-4324-9800-62a83f5ba8e5"
      },
      "source": [
        "selected_words_model.coefficients.tail()"
      ],
      "execution_count": null,
      "outputs": [
        {
          "output_type": "execute_result",
          "data": {
            "text/plain": [
              "Columns:\n",
              "\tname\tstr\n",
              "\tindex\tstr\n",
              "\tclass\tint\n",
              "\tvalue\tfloat\n",
              "\tstderr\tfloat\n",
              "\n",
              "Rows: 10\n",
              "\n",
              "Data:\n",
              "+-----------+-------+-------+-------------------+-----------------+\n",
              "|    name   | index | class |       value       |      stderr     |\n",
              "+-----------+-------+-------+-------------------+-----------------+\n",
              "|   great   |  None |   1   |   0.86306550012   | 0.0189550524444 |\n",
              "| fantastic |  None |   1   |   0.885804756881  |  0.111675912934 |\n",
              "|  amazing  |  None |   1   |   1.10009331137   | 0.0995477626047 |\n",
              "|    love   |  None |   1   |   1.35926886692   | 0.0280683001521 |\n",
              "|  horrible |  None |   1   |   -2.25133523676  | 0.0802024938879 |\n",
              "|    bad    |  None |   1   |  -0.991477880065  |  0.038484286647 |\n",
              "|  terrible |  None |   1   |   -2.22366143609  | 0.0773173620379 |\n",
              "|   awful   |  None |   1   |   -2.05290820403  |  0.100997354353 |\n",
              "|    wow    |  None |   1   | -0.00953823606771 |  0.160464112247 |\n",
              "|    hate   |  None |   1   |   -1.34844072225  |  0.077156986043 |\n",
              "+-----------+-------+-------+-------------------+-----------------+\n",
              "[10 rows x 5 columns]"
            ],
            "text/html": [
              "<div style=\"max-height:1000px;max-width:1500px;overflow:auto;\"><table frame=\"box\" rules=\"cols\">\n",
              "    <tr>\n",
              "        <th style=\"padding-left: 1em; padding-right: 1em; text-align: center\">name</th>\n",
              "        <th style=\"padding-left: 1em; padding-right: 1em; text-align: center\">index</th>\n",
              "        <th style=\"padding-left: 1em; padding-right: 1em; text-align: center\">class</th>\n",
              "        <th style=\"padding-left: 1em; padding-right: 1em; text-align: center\">value</th>\n",
              "        <th style=\"padding-left: 1em; padding-right: 1em; text-align: center\">stderr</th>\n",
              "    </tr>\n",
              "    <tr>\n",
              "        <td style=\"padding-left: 1em; padding-right: 1em; text-align: center; vertical-align: top\">great</td>\n",
              "        <td style=\"padding-left: 1em; padding-right: 1em; text-align: center; vertical-align: top\">None</td>\n",
              "        <td style=\"padding-left: 1em; padding-right: 1em; text-align: center; vertical-align: top\">1</td>\n",
              "        <td style=\"padding-left: 1em; padding-right: 1em; text-align: center; vertical-align: top\">0.86306550012</td>\n",
              "        <td style=\"padding-left: 1em; padding-right: 1em; text-align: center; vertical-align: top\">0.0189550524444</td>\n",
              "    </tr>\n",
              "    <tr>\n",
              "        <td style=\"padding-left: 1em; padding-right: 1em; text-align: center; vertical-align: top\">fantastic</td>\n",
              "        <td style=\"padding-left: 1em; padding-right: 1em; text-align: center; vertical-align: top\">None</td>\n",
              "        <td style=\"padding-left: 1em; padding-right: 1em; text-align: center; vertical-align: top\">1</td>\n",
              "        <td style=\"padding-left: 1em; padding-right: 1em; text-align: center; vertical-align: top\">0.885804756881</td>\n",
              "        <td style=\"padding-left: 1em; padding-right: 1em; text-align: center; vertical-align: top\">0.111675912934</td>\n",
              "    </tr>\n",
              "    <tr>\n",
              "        <td style=\"padding-left: 1em; padding-right: 1em; text-align: center; vertical-align: top\">amazing</td>\n",
              "        <td style=\"padding-left: 1em; padding-right: 1em; text-align: center; vertical-align: top\">None</td>\n",
              "        <td style=\"padding-left: 1em; padding-right: 1em; text-align: center; vertical-align: top\">1</td>\n",
              "        <td style=\"padding-left: 1em; padding-right: 1em; text-align: center; vertical-align: top\">1.10009331137</td>\n",
              "        <td style=\"padding-left: 1em; padding-right: 1em; text-align: center; vertical-align: top\">0.0995477626047</td>\n",
              "    </tr>\n",
              "    <tr>\n",
              "        <td style=\"padding-left: 1em; padding-right: 1em; text-align: center; vertical-align: top\">love</td>\n",
              "        <td style=\"padding-left: 1em; padding-right: 1em; text-align: center; vertical-align: top\">None</td>\n",
              "        <td style=\"padding-left: 1em; padding-right: 1em; text-align: center; vertical-align: top\">1</td>\n",
              "        <td style=\"padding-left: 1em; padding-right: 1em; text-align: center; vertical-align: top\">1.35926886692</td>\n",
              "        <td style=\"padding-left: 1em; padding-right: 1em; text-align: center; vertical-align: top\">0.0280683001521</td>\n",
              "    </tr>\n",
              "    <tr>\n",
              "        <td style=\"padding-left: 1em; padding-right: 1em; text-align: center; vertical-align: top\">horrible</td>\n",
              "        <td style=\"padding-left: 1em; padding-right: 1em; text-align: center; vertical-align: top\">None</td>\n",
              "        <td style=\"padding-left: 1em; padding-right: 1em; text-align: center; vertical-align: top\">1</td>\n",
              "        <td style=\"padding-left: 1em; padding-right: 1em; text-align: center; vertical-align: top\">-2.25133523676</td>\n",
              "        <td style=\"padding-left: 1em; padding-right: 1em; text-align: center; vertical-align: top\">0.0802024938879</td>\n",
              "    </tr>\n",
              "    <tr>\n",
              "        <td style=\"padding-left: 1em; padding-right: 1em; text-align: center; vertical-align: top\">bad</td>\n",
              "        <td style=\"padding-left: 1em; padding-right: 1em; text-align: center; vertical-align: top\">None</td>\n",
              "        <td style=\"padding-left: 1em; padding-right: 1em; text-align: center; vertical-align: top\">1</td>\n",
              "        <td style=\"padding-left: 1em; padding-right: 1em; text-align: center; vertical-align: top\">-0.991477880065</td>\n",
              "        <td style=\"padding-left: 1em; padding-right: 1em; text-align: center; vertical-align: top\">0.038484286647</td>\n",
              "    </tr>\n",
              "    <tr>\n",
              "        <td style=\"padding-left: 1em; padding-right: 1em; text-align: center; vertical-align: top\">terrible</td>\n",
              "        <td style=\"padding-left: 1em; padding-right: 1em; text-align: center; vertical-align: top\">None</td>\n",
              "        <td style=\"padding-left: 1em; padding-right: 1em; text-align: center; vertical-align: top\">1</td>\n",
              "        <td style=\"padding-left: 1em; padding-right: 1em; text-align: center; vertical-align: top\">-2.22366143609</td>\n",
              "        <td style=\"padding-left: 1em; padding-right: 1em; text-align: center; vertical-align: top\">0.0773173620379</td>\n",
              "    </tr>\n",
              "    <tr>\n",
              "        <td style=\"padding-left: 1em; padding-right: 1em; text-align: center; vertical-align: top\">awful</td>\n",
              "        <td style=\"padding-left: 1em; padding-right: 1em; text-align: center; vertical-align: top\">None</td>\n",
              "        <td style=\"padding-left: 1em; padding-right: 1em; text-align: center; vertical-align: top\">1</td>\n",
              "        <td style=\"padding-left: 1em; padding-right: 1em; text-align: center; vertical-align: top\">-2.05290820403</td>\n",
              "        <td style=\"padding-left: 1em; padding-right: 1em; text-align: center; vertical-align: top\">0.100997354353</td>\n",
              "    </tr>\n",
              "    <tr>\n",
              "        <td style=\"padding-left: 1em; padding-right: 1em; text-align: center; vertical-align: top\">wow</td>\n",
              "        <td style=\"padding-left: 1em; padding-right: 1em; text-align: center; vertical-align: top\">None</td>\n",
              "        <td style=\"padding-left: 1em; padding-right: 1em; text-align: center; vertical-align: top\">1</td>\n",
              "        <td style=\"padding-left: 1em; padding-right: 1em; text-align: center; vertical-align: top\">-0.00953823606771</td>\n",
              "        <td style=\"padding-left: 1em; padding-right: 1em; text-align: center; vertical-align: top\">0.160464112247</td>\n",
              "    </tr>\n",
              "    <tr>\n",
              "        <td style=\"padding-left: 1em; padding-right: 1em; text-align: center; vertical-align: top\">hate</td>\n",
              "        <td style=\"padding-left: 1em; padding-right: 1em; text-align: center; vertical-align: top\">None</td>\n",
              "        <td style=\"padding-left: 1em; padding-right: 1em; text-align: center; vertical-align: top\">1</td>\n",
              "        <td style=\"padding-left: 1em; padding-right: 1em; text-align: center; vertical-align: top\">-1.34844072225</td>\n",
              "        <td style=\"padding-left: 1em; padding-right: 1em; text-align: center; vertical-align: top\">0.077156986043</td>\n",
              "    </tr>\n",
              "</table>\n",
              "[10 rows x 5 columns]<br/>\n",
              "</div>"
            ]
          },
          "metadata": {
            "tags": []
          },
          "execution_count": 54
        }
      ]
    },
    {
      "cell_type": "code",
      "metadata": {
        "id": "BnMKImN1jhga",
        "colab_type": "code",
        "colab": {
          "base_uri": "https://localhost:8080/",
          "height": 88
        },
        "outputId": "e48b836d-6b20-4c8c-d9d4-0bf4d545c48e"
      },
      "source": [
        "selected_words_model.coefficients['value'].sort()"
      ],
      "execution_count": null,
      "outputs": [
        {
          "output_type": "execute_result",
          "data": {
            "text/plain": [
              "dtype: float\n",
              "Rows: 12\n",
              "[-2.251335236759124, -2.2236614360851554, -2.05290820403138, -1.3484407222463402, -0.9914778800650894, -0.00953823606771224, 0.8630655001195999, 0.8858047568813963, 1.1000933113659914, 1.1335346660341103, 1.3365913848878148, 1.3592688669224757]"
            ]
          },
          "metadata": {
            "tags": []
          },
          "execution_count": 55
        }
      ]
    },
    {
      "cell_type": "code",
      "metadata": {
        "id": "buIVclP2l9mi",
        "colab_type": "code",
        "colab": {
          "base_uri": "https://localhost:8080/",
          "height": 867
        },
        "outputId": "4b306899-684d-4963-fea3-51b3cdc865d0"
      },
      "source": [
        "selected_words_model.evaluate(test_data2)"
      ],
      "execution_count": null,
      "outputs": [
        {
          "output_type": "execute_result",
          "data": {
            "text/plain": [
              "{'accuracy': 0.8463848186404036,\n",
              " 'auc': 0.6936022046674926,\n",
              " 'confusion_matrix': Columns:\n",
              " \ttarget_label\tint\n",
              " \tpredicted_label\tint\n",
              " \tcount\tint\n",
              " \n",
              " Rows: 4\n",
              " \n",
              " Data:\n",
              " +--------------+-----------------+-------+\n",
              " | target_label | predicted_label | count |\n",
              " +--------------+-----------------+-------+\n",
              " |      1       |        0        |  159  |\n",
              " |      0       |        0        |  371  |\n",
              " |      0       |        1        |  4957 |\n",
              " |      1       |        1        | 27817 |\n",
              " +--------------+-----------------+-------+\n",
              " [4 rows x 3 columns],\n",
              " 'f1_score': 0.9157860082304526,\n",
              " 'log_loss': 0.3962265467087835,\n",
              " 'precision': 0.8487520595594068,\n",
              " 'recall': 0.9943165570488991,\n",
              " 'roc_curve': Columns:\n",
              " \tthreshold\tfloat\n",
              " \tfpr\tfloat\n",
              " \ttpr\tfloat\n",
              " \tp\tint\n",
              " \tn\tint\n",
              " \n",
              " Rows: 100001\n",
              " \n",
              " Data:\n",
              " +-----------+----------------+-----+-------+------+\n",
              " | threshold |      fpr       | tpr |   p   |  n   |\n",
              " +-----------+----------------+-----+-------+------+\n",
              " |    0.0    |      1.0       | 1.0 | 27976 | 5328 |\n",
              " |   1e-05   |      1.0       | 1.0 | 27976 | 5328 |\n",
              " |   2e-05   |      1.0       | 1.0 | 27976 | 5328 |\n",
              " |   3e-05   | 0.999812312312 | 1.0 | 27976 | 5328 |\n",
              " |   4e-05   | 0.999812312312 | 1.0 | 27976 | 5328 |\n",
              " |   5e-05   | 0.999812312312 | 1.0 | 27976 | 5328 |\n",
              " |   6e-05   | 0.999812312312 | 1.0 | 27976 | 5328 |\n",
              " |   7e-05   | 0.999812312312 | 1.0 | 27976 | 5328 |\n",
              " |   8e-05   | 0.999812312312 | 1.0 | 27976 | 5328 |\n",
              " |   9e-05   | 0.999812312312 | 1.0 | 27976 | 5328 |\n",
              " +-----------+----------------+-----+-------+------+\n",
              " [100001 rows x 5 columns]\n",
              " Note: Only the head of the SFrame is printed.\n",
              " You can use print_rows(num_rows=m, num_columns=n) to print more rows and columns.}"
            ]
          },
          "metadata": {
            "tags": []
          },
          "execution_count": 56
        }
      ]
    },
    {
      "cell_type": "code",
      "metadata": {
        "id": "Naen53jmnzwX",
        "colab_type": "code",
        "colab": {
          "base_uri": "https://localhost:8080/",
          "height": 867
        },
        "outputId": "da3286df-33d3-4ec4-8e11-b19b3588d3d3"
      },
      "source": [
        "sentiment_model.evaluate(test_data)"
      ],
      "execution_count": null,
      "outputs": [
        {
          "output_type": "execute_result",
          "data": {
            "text/plain": [
              "{'accuracy': 0.9176975738650012,\n",
              " 'auc': 0.9342357833151299,\n",
              " 'confusion_matrix': Columns:\n",
              " \ttarget_label\tint\n",
              " \tpredicted_label\tint\n",
              " \tcount\tint\n",
              " \n",
              " Rows: 4\n",
              " \n",
              " Data:\n",
              " +--------------+-----------------+-------+\n",
              " | target_label | predicted_label | count |\n",
              " +--------------+-----------------+-------+\n",
              " |      0       |        1        |  1397 |\n",
              " |      1       |        0        |  1344 |\n",
              " |      0       |        0        |  3931 |\n",
              " |      1       |        1        | 26632 |\n",
              " +--------------+-----------------+-------+\n",
              " [4 rows x 3 columns],\n",
              " 'f1_score': 0.951057941255245,\n",
              " 'log_loss': 0.3304787187220966,\n",
              " 'precision': 0.9501587641371436,\n",
              " 'recall': 0.9519588218472976,\n",
              " 'roc_curve': Columns:\n",
              " \tthreshold\tfloat\n",
              " \tfpr\tfloat\n",
              " \ttpr\tfloat\n",
              " \tp\tint\n",
              " \tn\tint\n",
              " \n",
              " Rows: 100001\n",
              " \n",
              " Data:\n",
              " +-----------+----------------+----------------+-------+------+\n",
              " | threshold |      fpr       |      tpr       |   p   |  n   |\n",
              " +-----------+----------------+----------------+-------+------+\n",
              " |    0.0    |      1.0       |      1.0       | 27976 | 5328 |\n",
              " |   1e-05   | 0.847972972973 | 0.997569345153 | 27976 | 5328 |\n",
              " |   2e-05   | 0.829954954955 | 0.997176150987 | 27976 | 5328 |\n",
              " |   3e-05   | 0.818506006006 | 0.996961681441 | 27976 | 5328 |\n",
              " |   4e-05   | 0.810998498498 | 0.996747211896 | 27976 | 5328 |\n",
              " |   5e-05   | 0.805743243243 | 0.996604232199 | 27976 | 5328 |\n",
              " |   6e-05   | 0.799174174174 | 0.996282527881 | 27976 | 5328 |\n",
              " |   7e-05   | 0.795232732733 | 0.996175293108 | 27976 | 5328 |\n",
              " |   8e-05   | 0.792042042042 | 0.99610380326  | 27976 | 5328 |\n",
              " |   9e-05   | 0.788288288288 | 0.995889333715 | 27976 | 5328 |\n",
              " +-----------+----------------+----------------+-------+------+\n",
              " [100001 rows x 5 columns]\n",
              " Note: Only the head of the SFrame is printed.\n",
              " You can use print_rows(num_rows=m, num_columns=n) to print more rows and columns.}"
            ]
          },
          "metadata": {
            "tags": []
          },
          "execution_count": 57
        }
      ]
    },
    {
      "cell_type": "code",
      "metadata": {
        "id": "z2P9jnNlheuv",
        "colab_type": "code",
        "colab": {
          "base_uri": "https://localhost:8080/",
          "height": 34
        },
        "outputId": "38037f36-51a3-4716-ea77-98dce0352e12"
      },
      "source": [
        "positive = test_data2['sentiment'].sum()\n",
        "positive"
      ],
      "execution_count": null,
      "outputs": [
        {
          "output_type": "execute_result",
          "data": {
            "text/plain": [
              "27976"
            ]
          },
          "metadata": {
            "tags": []
          },
          "execution_count": 67
        }
      ]
    },
    {
      "cell_type": "code",
      "metadata": {
        "id": "mQqB71yOiZsM",
        "colab_type": "code",
        "colab": {
          "base_uri": "https://localhost:8080/",
          "height": 34
        },
        "outputId": "dd4985d5-c8ef-48c3-bff7-913df1a51f39"
      },
      "source": [
        "len(test_data2)"
      ],
      "execution_count": null,
      "outputs": [
        {
          "output_type": "execute_result",
          "data": {
            "text/plain": [
              "33304"
            ]
          },
          "metadata": {
            "tags": []
          },
          "execution_count": 63
        }
      ]
    },
    {
      "cell_type": "code",
      "metadata": {
        "id": "REMa_bESj89N",
        "colab_type": "code",
        "colab": {}
      },
      "source": [
        "diaper_champ_reviews = products[products['name']=='Baby Trend Diaper Champ']"
      ],
      "execution_count": null,
      "outputs": []
    },
    {
      "cell_type": "code",
      "metadata": {
        "id": "IMonrg8XkTSI",
        "colab_type": "code",
        "colab": {
          "base_uri": "https://localhost:8080/",
          "height": 660
        },
        "outputId": "ca5502c6-81ef-4bc8-a387-42b155052b35"
      },
      "source": [
        "diaper_champ_reviews"
      ],
      "execution_count": null,
      "outputs": [
        {
          "output_type": "execute_result",
          "data": {
            "text/plain": [
              "Columns:\n",
              "\tname\tstr\n",
              "\treview\tstr\n",
              "\trating\tfloat\n",
              "\tword_count\tdict\n",
              "\tsentiment\tint\n",
              "\tpredicted_sentiment\tfloat\n",
              "\n",
              "Rows: Unknown\n",
              "\n",
              "Data:\n",
              "+-------------------------+-------------------------------+--------+\n",
              "|           name          |             review            | rating |\n",
              "+-------------------------+-------------------------------+--------+\n",
              "| Baby Trend Diaper Champ | Ok - newsflash.  Diapers a... |  4.0   |\n",
              "| Baby Trend Diaper Champ | My husband and I selected ... |  1.0   |\n",
              "| Baby Trend Diaper Champ | Excellent diaper disposal ... |  5.0   |\n",
              "| Baby Trend Diaper Champ | We love our diaper champ. ... |  5.0   |\n",
              "| Baby Trend Diaper Champ | Two girlfriends and two fa... |  5.0   |\n",
              "| Baby Trend Diaper Champ | I waited to review this un... |  4.0   |\n",
              "| Baby Trend Diaper Champ | I have had a diaper genie ... |  1.0   |\n",
              "| Baby Trend Diaper Champ | I originally put this item... |  5.0   |\n",
              "| Baby Trend Diaper Champ | I am so glad I got the Dia... |  5.0   |\n",
              "| Baby Trend Diaper Champ | We had 2 diaper Genie's bo... |  4.0   |\n",
              "+-------------------------+-------------------------------+--------+\n",
              "+-------------------------------+-----------+---------------------+\n",
              "|           word_count          | sentiment | predicted_sentiment |\n",
              "+-------------------------------+-----------+---------------------+\n",
              "| {'just': 2.0, 'less': 1.0,... |     1     |    0.995012293557   |\n",
              "| {'selected': 1.0, 'just': ... |     0     |  5.90141453662e-13  |\n",
              "| {'control': 1.0, 'am': 1.0... |     1     |    0.999999619396   |\n",
              "| {'and': 3.0, 'all': 1.0, '... |     1     |    0.999956719154   |\n",
              "| {'help': 1.0, 'just': 1.0,... |     1     |    0.99999970132    |\n",
              "| {'lysol': 1.0, 'all': 1.0,... |     1     |    0.999992075818   |\n",
              "| {'all': 1.0, 'just': 2.0, ... |     0     |   0.00179083982424  |\n",
              "| {'lysol': 1.0, 'all': 4.0,... |     1     |    0.999999999947   |\n",
              "| {'and': 2.0, 'all': 1.0, '... |     1     |    0.980117441356   |\n",
              "| {'rating': 1.0, 'messy': 1... |     1     |    0.999945448392   |\n",
              "+-------------------------------+-----------+---------------------+\n",
              "[? rows x 6 columns]\n",
              "Note: Only the head of the SFrame is printed. This SFrame is lazily evaluated.\n",
              "You can use sf.materialize() to force materialization."
            ],
            "text/html": [
              "<div style=\"max-height:1000px;max-width:1500px;overflow:auto;\"><table frame=\"box\" rules=\"cols\">\n",
              "    <tr>\n",
              "        <th style=\"padding-left: 1em; padding-right: 1em; text-align: center\">name</th>\n",
              "        <th style=\"padding-left: 1em; padding-right: 1em; text-align: center\">review</th>\n",
              "        <th style=\"padding-left: 1em; padding-right: 1em; text-align: center\">rating</th>\n",
              "        <th style=\"padding-left: 1em; padding-right: 1em; text-align: center\">word_count</th>\n",
              "        <th style=\"padding-left: 1em; padding-right: 1em; text-align: center\">sentiment</th>\n",
              "    </tr>\n",
              "    <tr>\n",
              "        <td style=\"padding-left: 1em; padding-right: 1em; text-align: center; vertical-align: top\">Baby Trend Diaper Champ</td>\n",
              "        <td style=\"padding-left: 1em; padding-right: 1em; text-align: center; vertical-align: top\">Ok - newsflash.  Diapers<br>are just smelly.  We've ...</td>\n",
              "        <td style=\"padding-left: 1em; padding-right: 1em; text-align: center; vertical-align: top\">4.0</td>\n",
              "        <td style=\"padding-left: 1em; padding-right: 1em; text-align: center; vertical-align: top\">{'just': 2.0, 'less':<br>1.0, 'mainly': 1.0, ...</td>\n",
              "        <td style=\"padding-left: 1em; padding-right: 1em; text-align: center; vertical-align: top\">1</td>\n",
              "    </tr>\n",
              "    <tr>\n",
              "        <td style=\"padding-left: 1em; padding-right: 1em; text-align: center; vertical-align: top\">Baby Trend Diaper Champ</td>\n",
              "        <td style=\"padding-left: 1em; padding-right: 1em; text-align: center; vertical-align: top\">My husband and I selected<br>the Diaper \"Champ\" ma ...</td>\n",
              "        <td style=\"padding-left: 1em; padding-right: 1em; text-align: center; vertical-align: top\">1.0</td>\n",
              "        <td style=\"padding-left: 1em; padding-right: 1em; text-align: center; vertical-align: top\">{'selected': 1.0, 'just':<br>1.0, 'less': 1.0, 'wh ...</td>\n",
              "        <td style=\"padding-left: 1em; padding-right: 1em; text-align: center; vertical-align: top\">0</td>\n",
              "    </tr>\n",
              "    <tr>\n",
              "        <td style=\"padding-left: 1em; padding-right: 1em; text-align: center; vertical-align: top\">Baby Trend Diaper Champ</td>\n",
              "        <td style=\"padding-left: 1em; padding-right: 1em; text-align: center; vertical-align: top\">Excellent diaper disposal<br>unit.  I used it in ...</td>\n",
              "        <td style=\"padding-left: 1em; padding-right: 1em; text-align: center; vertical-align: top\">5.0</td>\n",
              "        <td style=\"padding-left: 1em; padding-right: 1em; text-align: center; vertical-align: top\">{'control': 1.0, 'am':<br>1.0, 'it': 1.0, 'in': ...</td>\n",
              "        <td style=\"padding-left: 1em; padding-right: 1em; text-align: center; vertical-align: top\">1</td>\n",
              "    </tr>\n",
              "    <tr>\n",
              "        <td style=\"padding-left: 1em; padding-right: 1em; text-align: center; vertical-align: top\">Baby Trend Diaper Champ</td>\n",
              "        <td style=\"padding-left: 1em; padding-right: 1em; text-align: center; vertical-align: top\">We love our diaper champ.<br>It is very easy to use ...</td>\n",
              "        <td style=\"padding-left: 1em; padding-right: 1em; text-align: center; vertical-align: top\">5.0</td>\n",
              "        <td style=\"padding-left: 1em; padding-right: 1em; text-align: center; vertical-align: top\">{'and': 3.0, 'all': 1.0,<br>'love': 1.0, 'just':  ...</td>\n",
              "        <td style=\"padding-left: 1em; padding-right: 1em; text-align: center; vertical-align: top\">1</td>\n",
              "    </tr>\n",
              "    <tr>\n",
              "        <td style=\"padding-left: 1em; padding-right: 1em; text-align: center; vertical-align: top\">Baby Trend Diaper Champ</td>\n",
              "        <td style=\"padding-left: 1em; padding-right: 1em; text-align: center; vertical-align: top\">Two girlfriends and two<br>family members put me ...</td>\n",
              "        <td style=\"padding-left: 1em; padding-right: 1em; text-align: center; vertical-align: top\">5.0</td>\n",
              "        <td style=\"padding-left: 1em; padding-right: 1em; text-align: center; vertical-align: top\">{'help': 1.0, 'just':<br>1.0, 'keep': 1.0, 'bo ...</td>\n",
              "        <td style=\"padding-left: 1em; padding-right: 1em; text-align: center; vertical-align: top\">1</td>\n",
              "    </tr>\n",
              "    <tr>\n",
              "        <td style=\"padding-left: 1em; padding-right: 1em; text-align: center; vertical-align: top\">Baby Trend Diaper Champ</td>\n",
              "        <td style=\"padding-left: 1em; padding-right: 1em; text-align: center; vertical-align: top\">I waited to review this<br>until I saw how it ...</td>\n",
              "        <td style=\"padding-left: 1em; padding-right: 1em; text-align: center; vertical-align: top\">4.0</td>\n",
              "        <td style=\"padding-left: 1em; padding-right: 1em; text-align: center; vertical-align: top\">{'lysol': 1.0, 'all':<br>1.0, 'perfect': 1.0, ...</td>\n",
              "        <td style=\"padding-left: 1em; padding-right: 1em; text-align: center; vertical-align: top\">1</td>\n",
              "    </tr>\n",
              "    <tr>\n",
              "        <td style=\"padding-left: 1em; padding-right: 1em; text-align: center; vertical-align: top\">Baby Trend Diaper Champ</td>\n",
              "        <td style=\"padding-left: 1em; padding-right: 1em; text-align: center; vertical-align: top\">I have had a diaper genie<br>for almost 4 years since ...</td>\n",
              "        <td style=\"padding-left: 1em; padding-right: 1em; text-align: center; vertical-align: top\">1.0</td>\n",
              "        <td style=\"padding-left: 1em; padding-right: 1em; text-align: center; vertical-align: top\">{'all': 1.0, 'just': 2.0,<br>'saver': 1.0, 'years': ...</td>\n",
              "        <td style=\"padding-left: 1em; padding-right: 1em; text-align: center; vertical-align: top\">0</td>\n",
              "    </tr>\n",
              "    <tr>\n",
              "        <td style=\"padding-left: 1em; padding-right: 1em; text-align: center; vertical-align: top\">Baby Trend Diaper Champ</td>\n",
              "        <td style=\"padding-left: 1em; padding-right: 1em; text-align: center; vertical-align: top\">I originally put this<br>item on my baby registry ...</td>\n",
              "        <td style=\"padding-left: 1em; padding-right: 1em; text-align: center; vertical-align: top\">5.0</td>\n",
              "        <td style=\"padding-left: 1em; padding-right: 1em; text-align: center; vertical-align: top\">{'lysol': 1.0, 'all':<br>4.0, 'feedback': 1.0, ...</td>\n",
              "        <td style=\"padding-left: 1em; padding-right: 1em; text-align: center; vertical-align: top\">1</td>\n",
              "    </tr>\n",
              "    <tr>\n",
              "        <td style=\"padding-left: 1em; padding-right: 1em; text-align: center; vertical-align: top\">Baby Trend Diaper Champ</td>\n",
              "        <td style=\"padding-left: 1em; padding-right: 1em; text-align: center; vertical-align: top\">I am so glad I got the<br>Diaper Champ instead of ...</td>\n",
              "        <td style=\"padding-left: 1em; padding-right: 1em; text-align: center; vertical-align: top\">5.0</td>\n",
              "        <td style=\"padding-left: 1em; padding-right: 1em; text-align: center; vertical-align: top\">{'and': 2.0, 'all': 1.0,<br>'just': 1.0, 'is': 2.0, ...</td>\n",
              "        <td style=\"padding-left: 1em; padding-right: 1em; text-align: center; vertical-align: top\">1</td>\n",
              "    </tr>\n",
              "    <tr>\n",
              "        <td style=\"padding-left: 1em; padding-right: 1em; text-align: center; vertical-align: top\">Baby Trend Diaper Champ</td>\n",
              "        <td style=\"padding-left: 1em; padding-right: 1em; text-align: center; vertical-align: top\">We had 2 diaper Genie's<br>both given to us as a ...</td>\n",
              "        <td style=\"padding-left: 1em; padding-right: 1em; text-align: center; vertical-align: top\">4.0</td>\n",
              "        <td style=\"padding-left: 1em; padding-right: 1em; text-align: center; vertical-align: top\">{'rating': 1.0, 'messy':<br>1.0, 'before': 1.0, ...</td>\n",
              "        <td style=\"padding-left: 1em; padding-right: 1em; text-align: center; vertical-align: top\">1</td>\n",
              "    </tr>\n",
              "</table>\n",
              "<table frame=\"box\" rules=\"cols\">\n",
              "    <tr>\n",
              "        <th style=\"padding-left: 1em; padding-right: 1em; text-align: center\">predicted_sentiment</th>\n",
              "    </tr>\n",
              "    <tr>\n",
              "        <td style=\"padding-left: 1em; padding-right: 1em; text-align: center; vertical-align: top\">0.995012293557</td>\n",
              "    </tr>\n",
              "    <tr>\n",
              "        <td style=\"padding-left: 1em; padding-right: 1em; text-align: center; vertical-align: top\">5.90141453662e-13</td>\n",
              "    </tr>\n",
              "    <tr>\n",
              "        <td style=\"padding-left: 1em; padding-right: 1em; text-align: center; vertical-align: top\">0.999999619396</td>\n",
              "    </tr>\n",
              "    <tr>\n",
              "        <td style=\"padding-left: 1em; padding-right: 1em; text-align: center; vertical-align: top\">0.999956719154</td>\n",
              "    </tr>\n",
              "    <tr>\n",
              "        <td style=\"padding-left: 1em; padding-right: 1em; text-align: center; vertical-align: top\">0.99999970132</td>\n",
              "    </tr>\n",
              "    <tr>\n",
              "        <td style=\"padding-left: 1em; padding-right: 1em; text-align: center; vertical-align: top\">0.999992075818</td>\n",
              "    </tr>\n",
              "    <tr>\n",
              "        <td style=\"padding-left: 1em; padding-right: 1em; text-align: center; vertical-align: top\">0.00179083982424</td>\n",
              "    </tr>\n",
              "    <tr>\n",
              "        <td style=\"padding-left: 1em; padding-right: 1em; text-align: center; vertical-align: top\">0.999999999947</td>\n",
              "    </tr>\n",
              "    <tr>\n",
              "        <td style=\"padding-left: 1em; padding-right: 1em; text-align: center; vertical-align: top\">0.980117441356</td>\n",
              "    </tr>\n",
              "    <tr>\n",
              "        <td style=\"padding-left: 1em; padding-right: 1em; text-align: center; vertical-align: top\">0.999945448392</td>\n",
              "    </tr>\n",
              "</table>\n",
              "[? rows x 6 columns]<br/>Note: Only the head of the SFrame is printed. This SFrame is lazily evaluated.<br/>You can use sf.materialize() to force materialization.\n",
              "</div>"
            ]
          },
          "metadata": {
            "tags": []
          },
          "execution_count": 72
        }
      ]
    },
    {
      "cell_type": "code",
      "metadata": {
        "id": "yaGHgq6EkuaG",
        "colab_type": "code",
        "colab": {}
      },
      "source": [
        "diaper_champ_reviews = diaper_champ_reviews.sort('predicted_sentiment', ascending=False)"
      ],
      "execution_count": null,
      "outputs": []
    },
    {
      "cell_type": "code",
      "metadata": {
        "id": "neP2hEQzlR5t",
        "colab_type": "code",
        "colab": {
          "base_uri": "https://localhost:8080/",
          "height": 660
        },
        "outputId": "c9980f66-eb09-4a6a-f1fe-a845a84d1831"
      },
      "source": [
        "diaper_champ_reviews"
      ],
      "execution_count": null,
      "outputs": [
        {
          "output_type": "execute_result",
          "data": {
            "text/plain": [
              "Columns:\n",
              "\tname\tstr\n",
              "\treview\tstr\n",
              "\trating\tfloat\n",
              "\tword_count\tdict\n",
              "\tsentiment\tint\n",
              "\tpredicted_sentiment\tfloat\n",
              "\n",
              "Rows: 298\n",
              "\n",
              "Data:\n",
              "+-------------------------+-------------------------------+--------+\n",
              "|           name          |             review            | rating |\n",
              "+-------------------------+-------------------------------+--------+\n",
              "| Baby Trend Diaper Champ | I read a review below that... |  4.0   |\n",
              "| Baby Trend Diaper Champ | I have never written a rev... |  5.0   |\n",
              "| Baby Trend Diaper Champ | I originally put this item... |  5.0   |\n",
              "| Baby Trend Diaper Champ | Baby Luke can turn a clean... |  5.0   |\n",
              "| Baby Trend Diaper Champ | Diaper Champ or Diaper Gen... |  5.0   |\n",
              "| Baby Trend Diaper Champ | I am one of those super-cr... |  5.0   |\n",
              "| Baby Trend Diaper Champ | I LOOOVE this diaper pail!... |  5.0   |\n",
              "| Baby Trend Diaper Champ | As a first time mother, I ... |  5.0   |\n",
              "| Baby Trend Diaper Champ | I see that there are compl... |  5.0   |\n",
              "| Baby Trend Diaper Champ | I have a 10 year old daugh... |  5.0   |\n",
              "+-------------------------+-------------------------------+--------+\n",
              "+-------------------------------+-----------+---------------------+\n",
              "|           word_count          | sentiment | predicted_sentiment |\n",
              "+-------------------------------+-----------+---------------------+\n",
              "| {'and': 3.0, 'exactly': 1.... |     1     |    0.99999999999    |\n",
              "| {'shop': 2.0, 'holds': 1.0... |     1     |    0.999999999987   |\n",
              "| {'lysol': 1.0, 'all': 4.0,... |     1     |    0.999999999947   |\n",
              "| {'all': 1.0, 'less': 1.0, ... |     1     |    0.99999999993    |\n",
              "| {'all': 1.0, 'before': 1.0... |     1     |    0.999999999917   |\n",
              "| {'taller': 1.0, 'humid': 1... |     1     |    0.999999999843   |\n",
              "| {'just': 1.0, 'over': 1.0,... |     1     |    0.999999999736   |\n",
              "| {'and': 2.0, 'love': 1.0, ... |     1     |    0.999999999566   |\n",
              "| {'all': 1.0, 'over': 1.0, ... |     1     |    0.999999998502   |\n",
              "| {'lysol': 1.0, 'all': 1.0,... |     1     |    0.999999998057   |\n",
              "+-------------------------------+-----------+---------------------+\n",
              "[298 rows x 6 columns]\n",
              "Note: Only the head of the SFrame is printed.\n",
              "You can use print_rows(num_rows=m, num_columns=n) to print more rows and columns."
            ],
            "text/html": [
              "<div style=\"max-height:1000px;max-width:1500px;overflow:auto;\"><table frame=\"box\" rules=\"cols\">\n",
              "    <tr>\n",
              "        <th style=\"padding-left: 1em; padding-right: 1em; text-align: center\">name</th>\n",
              "        <th style=\"padding-left: 1em; padding-right: 1em; text-align: center\">review</th>\n",
              "        <th style=\"padding-left: 1em; padding-right: 1em; text-align: center\">rating</th>\n",
              "        <th style=\"padding-left: 1em; padding-right: 1em; text-align: center\">word_count</th>\n",
              "        <th style=\"padding-left: 1em; padding-right: 1em; text-align: center\">sentiment</th>\n",
              "    </tr>\n",
              "    <tr>\n",
              "        <td style=\"padding-left: 1em; padding-right: 1em; text-align: center; vertical-align: top\">Baby Trend Diaper Champ</td>\n",
              "        <td style=\"padding-left: 1em; padding-right: 1em; text-align: center; vertical-align: top\">I read a review below<br>that can explain exactly ...</td>\n",
              "        <td style=\"padding-left: 1em; padding-right: 1em; text-align: center; vertical-align: top\">4.0</td>\n",
              "        <td style=\"padding-left: 1em; padding-right: 1em; text-align: center; vertical-align: top\">{'and': 3.0, 'exactly':<br>1.0, 'stink': 1.0, 've': ...</td>\n",
              "        <td style=\"padding-left: 1em; padding-right: 1em; text-align: center; vertical-align: top\">1</td>\n",
              "    </tr>\n",
              "    <tr>\n",
              "        <td style=\"padding-left: 1em; padding-right: 1em; text-align: center; vertical-align: top\">Baby Trend Diaper Champ</td>\n",
              "        <td style=\"padding-left: 1em; padding-right: 1em; text-align: center; vertical-align: top\">I have never written a<br>review for Amazon but I ...</td>\n",
              "        <td style=\"padding-left: 1em; padding-right: 1em; text-align: center; vertical-align: top\">5.0</td>\n",
              "        <td style=\"padding-left: 1em; padding-right: 1em; text-align: center; vertical-align: top\">{'shop': 2.0, 'holds':<br>1.0, 'they': 3.0, 'tip': ...</td>\n",
              "        <td style=\"padding-left: 1em; padding-right: 1em; text-align: center; vertical-align: top\">1</td>\n",
              "    </tr>\n",
              "    <tr>\n",
              "        <td style=\"padding-left: 1em; padding-right: 1em; text-align: center; vertical-align: top\">Baby Trend Diaper Champ</td>\n",
              "        <td style=\"padding-left: 1em; padding-right: 1em; text-align: center; vertical-align: top\">I originally put this<br>item on my baby registry ...</td>\n",
              "        <td style=\"padding-left: 1em; padding-right: 1em; text-align: center; vertical-align: top\">5.0</td>\n",
              "        <td style=\"padding-left: 1em; padding-right: 1em; text-align: center; vertical-align: top\">{'lysol': 1.0, 'all':<br>4.0, 'feedback': 1.0, ...</td>\n",
              "        <td style=\"padding-left: 1em; padding-right: 1em; text-align: center; vertical-align: top\">1</td>\n",
              "    </tr>\n",
              "    <tr>\n",
              "        <td style=\"padding-left: 1em; padding-right: 1em; text-align: center; vertical-align: top\">Baby Trend Diaper Champ</td>\n",
              "        <td style=\"padding-left: 1em; padding-right: 1em; text-align: center; vertical-align: top\">Baby Luke can turn a<br>clean diaper to a dirty ...</td>\n",
              "        <td style=\"padding-left: 1em; padding-right: 1em; text-align: center; vertical-align: top\">5.0</td>\n",
              "        <td style=\"padding-left: 1em; padding-right: 1em; text-align: center; vertical-align: top\">{'all': 1.0, 'less': 1.0,<br>'nursery': 1.0, 'smel ...</td>\n",
              "        <td style=\"padding-left: 1em; padding-right: 1em; text-align: center; vertical-align: top\">1</td>\n",
              "    </tr>\n",
              "    <tr>\n",
              "        <td style=\"padding-left: 1em; padding-right: 1em; text-align: center; vertical-align: top\">Baby Trend Diaper Champ</td>\n",
              "        <td style=\"padding-left: 1em; padding-right: 1em; text-align: center; vertical-align: top\">Diaper Champ or Diaper<br>Genie? That was my ...</td>\n",
              "        <td style=\"padding-left: 1em; padding-right: 1em; text-align: center; vertical-align: top\">5.0</td>\n",
              "        <td style=\"padding-left: 1em; padding-right: 1em; text-align: center; vertical-align: top\">{'all': 1.0, 'before':<br>1.0, 'difference': 1.0, ...</td>\n",
              "        <td style=\"padding-left: 1em; padding-right: 1em; text-align: center; vertical-align: top\">1</td>\n",
              "    </tr>\n",
              "    <tr>\n",
              "        <td style=\"padding-left: 1em; padding-right: 1em; text-align: center; vertical-align: top\">Baby Trend Diaper Champ</td>\n",
              "        <td style=\"padding-left: 1em; padding-right: 1em; text-align: center; vertical-align: top\">I am one of those super-<br>critical shoppers who ...</td>\n",
              "        <td style=\"padding-left: 1em; padding-right: 1em; text-align: center; vertical-align: top\">5.0</td>\n",
              "        <td style=\"padding-left: 1em; padding-right: 1em; text-align: center; vertical-align: top\">{'taller': 1.0, 'humid':<br>1.0, 'just': 1.0, 'le ...</td>\n",
              "        <td style=\"padding-left: 1em; padding-right: 1em; text-align: center; vertical-align: top\">1</td>\n",
              "    </tr>\n",
              "    <tr>\n",
              "        <td style=\"padding-left: 1em; padding-right: 1em; text-align: center; vertical-align: top\">Baby Trend Diaper Champ</td>\n",
              "        <td style=\"padding-left: 1em; padding-right: 1em; text-align: center; vertical-align: top\">I LOOOVE this diaper<br>pail!  Its the easies ...</td>\n",
              "        <td style=\"padding-left: 1em; padding-right: 1em; text-align: center; vertical-align: top\">5.0</td>\n",
              "        <td style=\"padding-left: 1em; padding-right: 1em; text-align: center; vertical-align: top\">{'just': 1.0, 'over':<br>1.0, 'rweek': 1.0, ...</td>\n",
              "        <td style=\"padding-left: 1em; padding-right: 1em; text-align: center; vertical-align: top\">1</td>\n",
              "    </tr>\n",
              "    <tr>\n",
              "        <td style=\"padding-left: 1em; padding-right: 1em; text-align: center; vertical-align: top\">Baby Trend Diaper Champ</td>\n",
              "        <td style=\"padding-left: 1em; padding-right: 1em; text-align: center; vertical-align: top\">As a first time mother, I<br>wanted to get the best ...</td>\n",
              "        <td style=\"padding-left: 1em; padding-right: 1em; text-align: center; vertical-align: top\">5.0</td>\n",
              "        <td style=\"padding-left: 1em; padding-right: 1em; text-align: center; vertical-align: top\">{'and': 2.0, 'love': 1.0,<br>'ve': 1.0, 'figure':  ...</td>\n",
              "        <td style=\"padding-left: 1em; padding-right: 1em; text-align: center; vertical-align: top\">1</td>\n",
              "    </tr>\n",
              "    <tr>\n",
              "        <td style=\"padding-left: 1em; padding-right: 1em; text-align: center; vertical-align: top\">Baby Trend Diaper Champ</td>\n",
              "        <td style=\"padding-left: 1em; padding-right: 1em; text-align: center; vertical-align: top\">I see that there are<br>complaints of stinkiness ...</td>\n",
              "        <td style=\"padding-left: 1em; padding-right: 1em; text-align: center; vertical-align: top\">5.0</td>\n",
              "        <td style=\"padding-left: 1em; padding-right: 1em; text-align: center; vertical-align: top\">{'all': 1.0, 'over': 1.0,<br>'rotated': 1.0, ...</td>\n",
              "        <td style=\"padding-left: 1em; padding-right: 1em; text-align: center; vertical-align: top\">1</td>\n",
              "    </tr>\n",
              "    <tr>\n",
              "        <td style=\"padding-left: 1em; padding-right: 1em; text-align: center; vertical-align: top\">Baby Trend Diaper Champ</td>\n",
              "        <td style=\"padding-left: 1em; padding-right: 1em; text-align: center; vertical-align: top\">I have a 10 year old<br>daughter and an 8 month ...</td>\n",
              "        <td style=\"padding-left: 1em; padding-right: 1em; text-align: center; vertical-align: top\">5.0</td>\n",
              "        <td style=\"padding-left: 1em; padding-right: 1em; text-align: center; vertical-align: top\">{'lysol': 1.0, 'all':<br>1.0, 'just': 2.0, 'ov ...</td>\n",
              "        <td style=\"padding-left: 1em; padding-right: 1em; text-align: center; vertical-align: top\">1</td>\n",
              "    </tr>\n",
              "</table>\n",
              "<table frame=\"box\" rules=\"cols\">\n",
              "    <tr>\n",
              "        <th style=\"padding-left: 1em; padding-right: 1em; text-align: center\">predicted_sentiment</th>\n",
              "    </tr>\n",
              "    <tr>\n",
              "        <td style=\"padding-left: 1em; padding-right: 1em; text-align: center; vertical-align: top\">0.99999999999</td>\n",
              "    </tr>\n",
              "    <tr>\n",
              "        <td style=\"padding-left: 1em; padding-right: 1em; text-align: center; vertical-align: top\">0.999999999987</td>\n",
              "    </tr>\n",
              "    <tr>\n",
              "        <td style=\"padding-left: 1em; padding-right: 1em; text-align: center; vertical-align: top\">0.999999999947</td>\n",
              "    </tr>\n",
              "    <tr>\n",
              "        <td style=\"padding-left: 1em; padding-right: 1em; text-align: center; vertical-align: top\">0.99999999993</td>\n",
              "    </tr>\n",
              "    <tr>\n",
              "        <td style=\"padding-left: 1em; padding-right: 1em; text-align: center; vertical-align: top\">0.999999999917</td>\n",
              "    </tr>\n",
              "    <tr>\n",
              "        <td style=\"padding-left: 1em; padding-right: 1em; text-align: center; vertical-align: top\">0.999999999843</td>\n",
              "    </tr>\n",
              "    <tr>\n",
              "        <td style=\"padding-left: 1em; padding-right: 1em; text-align: center; vertical-align: top\">0.999999999736</td>\n",
              "    </tr>\n",
              "    <tr>\n",
              "        <td style=\"padding-left: 1em; padding-right: 1em; text-align: center; vertical-align: top\">0.999999999566</td>\n",
              "    </tr>\n",
              "    <tr>\n",
              "        <td style=\"padding-left: 1em; padding-right: 1em; text-align: center; vertical-align: top\">0.999999998502</td>\n",
              "    </tr>\n",
              "    <tr>\n",
              "        <td style=\"padding-left: 1em; padding-right: 1em; text-align: center; vertical-align: top\">0.999999998057</td>\n",
              "    </tr>\n",
              "</table>\n",
              "[298 rows x 6 columns]<br/>Note: Only the head of the SFrame is printed.<br/>You can use print_rows(num_rows=m, num_columns=n) to print more rows and columns.\n",
              "</div>"
            ]
          },
          "metadata": {
            "tags": []
          },
          "execution_count": 74
        }
      ]
    },
    {
      "cell_type": "code",
      "metadata": {
        "id": "zeO_Z1LPlzZZ",
        "colab_type": "code",
        "colab": {
          "base_uri": "https://localhost:8080/",
          "height": 54
        },
        "outputId": "3eb1086d-2328-4634-c870-28feef6b0145"
      },
      "source": [
        "diaper_champ_reviews[0]['review']"
      ],
      "execution_count": null,
      "outputs": [
        {
          "output_type": "execute_result",
          "data": {
            "text/plain": [
              "\"I read a review below that can explain exactly what we experienced. We've had it for 16 months and it has worked wonderful for us. No smells, change it out once a week, easy to clean. Then a diaper snagged this foam material in the head part, so I pulled the rest of the foam out. Big mistake!!! Now it can no loner retain the stinkiness and we're looking for a replacement. Be careful of overloading and never take out that foam piece that is cushioned between pieces. I have figured out that it is key to keeping the stink out.\""
            ]
          },
          "metadata": {
            "tags": []
          },
          "execution_count": 75
        }
      ]
    },
    {
      "cell_type": "code",
      "metadata": {
        "id": "tLfT-Rk0mKCl",
        "colab_type": "code",
        "colab": {
          "base_uri": "https://localhost:8080/",
          "height": 68
        },
        "outputId": "5fe26508-9d3d-42bc-f497-a3dea2a67dd7"
      },
      "source": [
        "selected_words_model.predict(diaper_champ_reviews[0:1], output_type='probability')"
      ],
      "execution_count": null,
      "outputs": [
        {
          "output_type": "execute_result",
          "data": {
            "text/plain": [
              "dtype: float\n",
              "Rows: 1\n",
              "[0.8752178333734397]"
            ]
          },
          "metadata": {
            "tags": []
          },
          "execution_count": 76
        }
      ]
    },
    {
      "cell_type": "code",
      "metadata": {
        "id": "SIxJxtxfmXum",
        "colab_type": "code",
        "colab": {
          "base_uri": "https://localhost:8080/",
          "height": 68
        },
        "outputId": "bc2ab536-ee47-4827-c80b-1e7099d33edd"
      },
      "source": [
        "sentiment_model.predict(diaper_champ_reviews[0:1], output_type='probability')"
      ],
      "execution_count": null,
      "outputs": [
        {
          "output_type": "execute_result",
          "data": {
            "text/plain": [
              "dtype: float\n",
              "Rows: 1\n",
              "[0.9999999999895941]"
            ]
          },
          "metadata": {
            "tags": []
          },
          "execution_count": 77
        }
      ]
    },
    {
      "cell_type": "markdown",
      "metadata": {
        "id": "aUKrdfTP-Y-s",
        "colab_type": "text"
      },
      "source": [
        "# Sort the Giraffe reviews according to predicted sentiment"
      ]
    },
    {
      "cell_type": "code",
      "metadata": {
        "id": "4MBm6sLL-Y-t",
        "colab_type": "code",
        "colab": {}
      },
      "source": [
        "giraffe_reviews = giraffe_reviews.sort('predicted_sentiment', ascending=False)"
      ],
      "execution_count": null,
      "outputs": []
    },
    {
      "cell_type": "code",
      "metadata": {
        "id": "glvZ6s_U-Y-x",
        "colab_type": "code",
        "colab": {
          "base_uri": "https://localhost:8080/",
          "height": 660
        },
        "outputId": "2ed8592d-1ab9-4b0b-84a8-483fe760bb65"
      },
      "source": [
        "giraffe_reviews"
      ],
      "execution_count": null,
      "outputs": [
        {
          "output_type": "execute_result",
          "data": {
            "text/plain": [
              "Columns:\n",
              "\tname\tstr\n",
              "\treview\tstr\n",
              "\trating\tfloat\n",
              "\tword_count\tdict\n",
              "\tsentiment\tint\n",
              "\tpredicted_sentiment\tfloat\n",
              "\n",
              "Rows: 723\n",
              "\n",
              "Data:\n",
              "+-------------------------------+-------------------------------+--------+\n",
              "|              name             |             review            | rating |\n",
              "+-------------------------------+-------------------------------+--------+\n",
              "| Vulli Sophie the Giraffe T... | Sophie, oh Sophie, your ti... |  5.0   |\n",
              "| Vulli Sophie the Giraffe T... | I'll be honest...I bought ... |  4.0   |\n",
              "| Vulli Sophie the Giraffe T... | As a mother of 16month old... |  5.0   |\n",
              "| Vulli Sophie the Giraffe T... | We got this little giraffe... |  5.0   |\n",
              "| Vulli Sophie the Giraffe T... | As every mom knows, you al... |  5.0   |\n",
              "| Vulli Sophie the Giraffe T... | My Mom-in-Law bought Sophi... |  5.0   |\n",
              "| Vulli Sophie the Giraffe T... | My 4 month old son is teet... |  4.0   |\n",
              "| Vulli Sophie the Giraffe T... | Let me just start off by a... |  5.0   |\n",
              "| Vulli Sophie the Giraffe T... | I'm not sure why Sophie is... |  4.0   |\n",
              "| Vulli Sophie the Giraffe T... | I admit, I didn't get Soph... |  4.0   |\n",
              "+-------------------------------+-------------------------------+--------+\n",
              "+-------------------------------+-----------+---------------------+\n",
              "|           word_count          | sentiment | predicted_sentiment |\n",
              "+-------------------------------+-----------+---------------------+\n",
              "| {'giggles': 1.0, 'all': 1.... |     1     |         1.0         |\n",
              "| {'all': 2.0, 'pops': 1.0, ... |     1     |         1.0         |\n",
              "| {'cute': 1.0, 'all': 2.0, ... |     1     |         1.0         |\n",
              "| {'all': 2.0, 'baby': 1.0, ... |     1     |         1.0         |\n",
              "| {'cute': 1.0, 'all': 1.0, ... |     1     |         1.0         |\n",
              "| {'think': 1.0, 'they': 1.0... |     1     |         1.0         |\n",
              "| {'cute': 1.0, 'all': 2.0, ... |     1     |    0.999999999999   |\n",
              "| {'just': 3.0, 'when': 3.0,... |     1     |    0.999999999994   |\n",
              "| {'peace': 1.0, 'month': 1.... |     1     |    0.999999999987   |\n",
              "| {'cute': 1.0, 'just': 1.0,... |     1     |    0.999999999983   |\n",
              "+-------------------------------+-----------+---------------------+\n",
              "[723 rows x 6 columns]\n",
              "Note: Only the head of the SFrame is printed.\n",
              "You can use print_rows(num_rows=m, num_columns=n) to print more rows and columns."
            ],
            "text/html": [
              "<div style=\"max-height:1000px;max-width:1500px;overflow:auto;\"><table frame=\"box\" rules=\"cols\">\n",
              "    <tr>\n",
              "        <th style=\"padding-left: 1em; padding-right: 1em; text-align: center\">name</th>\n",
              "        <th style=\"padding-left: 1em; padding-right: 1em; text-align: center\">review</th>\n",
              "        <th style=\"padding-left: 1em; padding-right: 1em; text-align: center\">rating</th>\n",
              "        <th style=\"padding-left: 1em; padding-right: 1em; text-align: center\">word_count</th>\n",
              "        <th style=\"padding-left: 1em; padding-right: 1em; text-align: center\">sentiment</th>\n",
              "    </tr>\n",
              "    <tr>\n",
              "        <td style=\"padding-left: 1em; padding-right: 1em; text-align: center; vertical-align: top\">Vulli Sophie the Giraffe<br>Teether ...</td>\n",
              "        <td style=\"padding-left: 1em; padding-right: 1em; text-align: center; vertical-align: top\">Sophie, oh Sophie, your<br>time has come. My ...</td>\n",
              "        <td style=\"padding-left: 1em; padding-right: 1em; text-align: center; vertical-align: top\">5.0</td>\n",
              "        <td style=\"padding-left: 1em; padding-right: 1em; text-align: center; vertical-align: top\">{'giggles': 1.0, 'all':<br>1.0, '09': 1.0, 'food': ...</td>\n",
              "        <td style=\"padding-left: 1em; padding-right: 1em; text-align: center; vertical-align: top\">1</td>\n",
              "    </tr>\n",
              "    <tr>\n",
              "        <td style=\"padding-left: 1em; padding-right: 1em; text-align: center; vertical-align: top\">Vulli Sophie the Giraffe<br>Teether ...</td>\n",
              "        <td style=\"padding-left: 1em; padding-right: 1em; text-align: center; vertical-align: top\">I'll be honest...I bought<br>this toy because all the ...</td>\n",
              "        <td style=\"padding-left: 1em; padding-right: 1em; text-align: center; vertical-align: top\">4.0</td>\n",
              "        <td style=\"padding-left: 1em; padding-right: 1em; text-align: center; vertical-align: top\">{'all': 2.0, 'pops': 1.0,<br>'during': 1.0, ...</td>\n",
              "        <td style=\"padding-left: 1em; padding-right: 1em; text-align: center; vertical-align: top\">1</td>\n",
              "    </tr>\n",
              "    <tr>\n",
              "        <td style=\"padding-left: 1em; padding-right: 1em; text-align: center; vertical-align: top\">Vulli Sophie the Giraffe<br>Teether ...</td>\n",
              "        <td style=\"padding-left: 1em; padding-right: 1em; text-align: center; vertical-align: top\">As a mother of 16month<br>old twins; I bought ...</td>\n",
              "        <td style=\"padding-left: 1em; padding-right: 1em; text-align: center; vertical-align: top\">5.0</td>\n",
              "        <td style=\"padding-left: 1em; padding-right: 1em; text-align: center; vertical-align: top\">{'cute': 1.0, 'all': 2.0,<br>'just': 1.0, 'able':  ...</td>\n",
              "        <td style=\"padding-left: 1em; padding-right: 1em; text-align: center; vertical-align: top\">1</td>\n",
              "    </tr>\n",
              "    <tr>\n",
              "        <td style=\"padding-left: 1em; padding-right: 1em; text-align: center; vertical-align: top\">Vulli Sophie the Giraffe<br>Teether ...</td>\n",
              "        <td style=\"padding-left: 1em; padding-right: 1em; text-align: center; vertical-align: top\">We got this little<br>giraffe as a gift from a ...</td>\n",
              "        <td style=\"padding-left: 1em; padding-right: 1em; text-align: center; vertical-align: top\">5.0</td>\n",
              "        <td style=\"padding-left: 1em; padding-right: 1em; text-align: center; vertical-align: top\">{'all': 2.0, 'baby': 1.0,<br>'before': 1.0, 'seems': ...</td>\n",
              "        <td style=\"padding-left: 1em; padding-right: 1em; text-align: center; vertical-align: top\">1</td>\n",
              "    </tr>\n",
              "    <tr>\n",
              "        <td style=\"padding-left: 1em; padding-right: 1em; text-align: center; vertical-align: top\">Vulli Sophie the Giraffe<br>Teether ...</td>\n",
              "        <td style=\"padding-left: 1em; padding-right: 1em; text-align: center; vertical-align: top\">As every mom knows, you<br>always want to give your ...</td>\n",
              "        <td style=\"padding-left: 1em; padding-right: 1em; text-align: center; vertical-align: top\">5.0</td>\n",
              "        <td style=\"padding-left: 1em; padding-right: 1em; text-align: center; vertical-align: top\">{'cute': 1.0, 'all': 1.0,<br>'just': 2.0, 'food':  ...</td>\n",
              "        <td style=\"padding-left: 1em; padding-right: 1em; text-align: center; vertical-align: top\">1</td>\n",
              "    </tr>\n",
              "    <tr>\n",
              "        <td style=\"padding-left: 1em; padding-right: 1em; text-align: center; vertical-align: top\">Vulli Sophie the Giraffe<br>Teether ...</td>\n",
              "        <td style=\"padding-left: 1em; padding-right: 1em; text-align: center; vertical-align: top\">My Mom-in-Law bought<br>Sophie for my son whe ...</td>\n",
              "        <td style=\"padding-left: 1em; padding-right: 1em; text-align: center; vertical-align: top\">5.0</td>\n",
              "        <td style=\"padding-left: 1em; padding-right: 1em; text-align: center; vertical-align: top\">{'think': 1.0, 'they':<br>1.0, 'just': 1.0, ...</td>\n",
              "        <td style=\"padding-left: 1em; padding-right: 1em; text-align: center; vertical-align: top\">1</td>\n",
              "    </tr>\n",
              "    <tr>\n",
              "        <td style=\"padding-left: 1em; padding-right: 1em; text-align: center; vertical-align: top\">Vulli Sophie the Giraffe<br>Teether ...</td>\n",
              "        <td style=\"padding-left: 1em; padding-right: 1em; text-align: center; vertical-align: top\">My 4 month old son is<br>teething, and I've tried ...</td>\n",
              "        <td style=\"padding-left: 1em; padding-right: 1em; text-align: center; vertical-align: top\">4.0</td>\n",
              "        <td style=\"padding-left: 1em; padding-right: 1em; text-align: center; vertical-align: top\">{'cute': 1.0, 'all': 2.0,<br>'food': 1.0, 'when':  ...</td>\n",
              "        <td style=\"padding-left: 1em; padding-right: 1em; text-align: center; vertical-align: top\">1</td>\n",
              "    </tr>\n",
              "    <tr>\n",
              "        <td style=\"padding-left: 1em; padding-right: 1em; text-align: center; vertical-align: top\">Vulli Sophie the Giraffe<br>Teether ...</td>\n",
              "        <td style=\"padding-left: 1em; padding-right: 1em; text-align: center; vertical-align: top\">Let me just start off by<br>addressing the choking ...</td>\n",
              "        <td style=\"padding-left: 1em; padding-right: 1em; text-align: center; vertical-align: top\">5.0</td>\n",
              "        <td style=\"padding-left: 1em; padding-right: 1em; text-align: center; vertical-align: top\">{'just': 3.0, 'when':<br>3.0, 'still': 1.0, 'h ...</td>\n",
              "        <td style=\"padding-left: 1em; padding-right: 1em; text-align: center; vertical-align: top\">1</td>\n",
              "    </tr>\n",
              "    <tr>\n",
              "        <td style=\"padding-left: 1em; padding-right: 1em; text-align: center; vertical-align: top\">Vulli Sophie the Giraffe<br>Teether ...</td>\n",
              "        <td style=\"padding-left: 1em; padding-right: 1em; text-align: center; vertical-align: top\">I'm not sure why Sophie<br>is such a hit with the ...</td>\n",
              "        <td style=\"padding-left: 1em; padding-right: 1em; text-align: center; vertical-align: top\">4.0</td>\n",
              "        <td style=\"padding-left: 1em; padding-right: 1em; text-align: center; vertical-align: top\">{'peace': 1.0, 'month':<br>1.0, 'bright': 1.0, ...</td>\n",
              "        <td style=\"padding-left: 1em; padding-right: 1em; text-align: center; vertical-align: top\">1</td>\n",
              "    </tr>\n",
              "    <tr>\n",
              "        <td style=\"padding-left: 1em; padding-right: 1em; text-align: center; vertical-align: top\">Vulli Sophie the Giraffe<br>Teether ...</td>\n",
              "        <td style=\"padding-left: 1em; padding-right: 1em; text-align: center; vertical-align: top\">I admit, I didn't get<br>Sophie the Giraffe at ...</td>\n",
              "        <td style=\"padding-left: 1em; padding-right: 1em; text-align: center; vertical-align: top\">4.0</td>\n",
              "        <td style=\"padding-left: 1em; padding-right: 1em; text-align: center; vertical-align: top\">{'cute': 1.0, 'just':<br>1.0, 'being': 2.0, ...</td>\n",
              "        <td style=\"padding-left: 1em; padding-right: 1em; text-align: center; vertical-align: top\">1</td>\n",
              "    </tr>\n",
              "</table>\n",
              "<table frame=\"box\" rules=\"cols\">\n",
              "    <tr>\n",
              "        <th style=\"padding-left: 1em; padding-right: 1em; text-align: center\">predicted_sentiment</th>\n",
              "    </tr>\n",
              "    <tr>\n",
              "        <td style=\"padding-left: 1em; padding-right: 1em; text-align: center; vertical-align: top\">1.0</td>\n",
              "    </tr>\n",
              "    <tr>\n",
              "        <td style=\"padding-left: 1em; padding-right: 1em; text-align: center; vertical-align: top\">1.0</td>\n",
              "    </tr>\n",
              "    <tr>\n",
              "        <td style=\"padding-left: 1em; padding-right: 1em; text-align: center; vertical-align: top\">1.0</td>\n",
              "    </tr>\n",
              "    <tr>\n",
              "        <td style=\"padding-left: 1em; padding-right: 1em; text-align: center; vertical-align: top\">1.0</td>\n",
              "    </tr>\n",
              "    <tr>\n",
              "        <td style=\"padding-left: 1em; padding-right: 1em; text-align: center; vertical-align: top\">1.0</td>\n",
              "    </tr>\n",
              "    <tr>\n",
              "        <td style=\"padding-left: 1em; padding-right: 1em; text-align: center; vertical-align: top\">1.0</td>\n",
              "    </tr>\n",
              "    <tr>\n",
              "        <td style=\"padding-left: 1em; padding-right: 1em; text-align: center; vertical-align: top\">0.999999999999</td>\n",
              "    </tr>\n",
              "    <tr>\n",
              "        <td style=\"padding-left: 1em; padding-right: 1em; text-align: center; vertical-align: top\">0.999999999994</td>\n",
              "    </tr>\n",
              "    <tr>\n",
              "        <td style=\"padding-left: 1em; padding-right: 1em; text-align: center; vertical-align: top\">0.999999999987</td>\n",
              "    </tr>\n",
              "    <tr>\n",
              "        <td style=\"padding-left: 1em; padding-right: 1em; text-align: center; vertical-align: top\">0.999999999983</td>\n",
              "    </tr>\n",
              "</table>\n",
              "[723 rows x 6 columns]<br/>Note: Only the head of the SFrame is printed.<br/>You can use print_rows(num_rows=m, num_columns=n) to print more rows and columns.\n",
              "</div>"
            ]
          },
          "metadata": {
            "tags": []
          },
          "execution_count": 29
        }
      ]
    },
    {
      "cell_type": "code",
      "metadata": {
        "id": "8gtTu18L-Y-3",
        "colab_type": "code",
        "colab": {
          "base_uri": "https://localhost:8080/",
          "height": 626
        },
        "outputId": "601b8c69-2d26-491c-96fe-6f4627121c70"
      },
      "source": [
        "giraffe_reviews.tail()"
      ],
      "execution_count": null,
      "outputs": [
        {
          "output_type": "execute_result",
          "data": {
            "text/plain": [
              "Columns:\n",
              "\tname\tstr\n",
              "\treview\tstr\n",
              "\trating\tfloat\n",
              "\tword_count\tdict\n",
              "\tsentiment\tint\n",
              "\tpredicted_sentiment\tfloat\n",
              "\n",
              "Rows: 10\n",
              "\n",
              "Data:\n",
              "+-------------------------------+-------------------------------+--------+\n",
              "|              name             |             review            | rating |\n",
              "+-------------------------------+-------------------------------+--------+\n",
              "| Vulli Sophie the Giraffe T... | My 7 1/2 month old grandba... |  1.0   |\n",
              "| Vulli Sophie the Giraffe T... | I was so looking forward t... |  1.0   |\n",
              "| Vulli Sophie the Giraffe T... | Received the product and s... |  1.0   |\n",
              "| Vulli Sophie the Giraffe T... | I got one of these as a sh... |  1.0   |\n",
              "| Vulli Sophie the Giraffe T... | When we first got it I tho... |  2.0   |\n",
              "| Vulli Sophie the Giraffe T... | When I received this the p... |  1.0   |\n",
              "| Vulli Sophie the Giraffe T... | \"Sophie the Giraffe\" has t... |  1.0   |\n",
              "| Vulli Sophie the Giraffe T... | My son (now 2.5) LOVED his... |  1.0   |\n",
              "| Vulli Sophie the Giraffe T... | I wanted to love this prod... |  1.0   |\n",
              "| Vulli Sophie the Giraffe T... | This children's toy is nos... |  1.0   |\n",
              "+-------------------------------+-------------------------------+--------+\n",
              "+-------------------------------+-----------+---------------------+\n",
              "|           word_count          | sentiment | predicted_sentiment |\n",
              "+-------------------------------+-----------+---------------------+\n",
              "| {'and': 6.0, 'this': 1.0, ... |     0     |  1.91107401986e-06  |\n",
              "| {'things': 1.0, 'just': 2.... |     0     |  6.54780168827e-07  |\n",
              "| {'and': 1.0, 'money': 2.0,... |     0     |  3.86423639802e-07  |\n",
              "| {'all': 2.0, 'press': 1.0,... |     0     |  2.23782251681e-07  |\n",
              "| {'and': 2.0, 'cute': 1.0, ... |     0     |  1.93539552841e-07  |\n",
              "| {'and': 2.0, 'everyone': 1... |     0     |   1.6900753983e-07  |\n",
              "| {'saying': 1.0, 'chances':... |     0     |  1.17488267956e-07  |\n",
              "| {'all': 1.0, 'just': 1.0, ... |     0     |  5.36493342791e-11  |\n",
              "| {'just': 1.0, 'children': ... |     0     |  3.10903527135e-13  |\n",
              "| {'refund': 1.0, 'enjoy': 1... |     0     |  4.11926964029e-15  |\n",
              "+-------------------------------+-----------+---------------------+\n",
              "[10 rows x 6 columns]"
            ],
            "text/html": [
              "<div style=\"max-height:1000px;max-width:1500px;overflow:auto;\"><table frame=\"box\" rules=\"cols\">\n",
              "    <tr>\n",
              "        <th style=\"padding-left: 1em; padding-right: 1em; text-align: center\">name</th>\n",
              "        <th style=\"padding-left: 1em; padding-right: 1em; text-align: center\">review</th>\n",
              "        <th style=\"padding-left: 1em; padding-right: 1em; text-align: center\">rating</th>\n",
              "        <th style=\"padding-left: 1em; padding-right: 1em; text-align: center\">word_count</th>\n",
              "        <th style=\"padding-left: 1em; padding-right: 1em; text-align: center\">sentiment</th>\n",
              "    </tr>\n",
              "    <tr>\n",
              "        <td style=\"padding-left: 1em; padding-right: 1em; text-align: center; vertical-align: top\">Vulli Sophie the Giraffe<br>Teether ...</td>\n",
              "        <td style=\"padding-left: 1em; padding-right: 1em; text-align: center; vertical-align: top\">My 7 1/2 month old<br>grandbaby was sittng up ...</td>\n",
              "        <td style=\"padding-left: 1em; padding-right: 1em; text-align: center; vertical-align: top\">1.0</td>\n",
              "        <td style=\"padding-left: 1em; padding-right: 1em; text-align: center; vertical-align: top\">{'and': 6.0, 'this': 1.0,<br>'now': 1.0, 'right':  ...</td>\n",
              "        <td style=\"padding-left: 1em; padding-right: 1em; text-align: center; vertical-align: top\">0</td>\n",
              "    </tr>\n",
              "    <tr>\n",
              "        <td style=\"padding-left: 1em; padding-right: 1em; text-align: center; vertical-align: top\">Vulli Sophie the Giraffe<br>Teether ...</td>\n",
              "        <td style=\"padding-left: 1em; padding-right: 1em; text-align: center; vertical-align: top\">I was so looking forward<br>to getting this for my ...</td>\n",
              "        <td style=\"padding-left: 1em; padding-right: 1em; text-align: center; vertical-align: top\">1.0</td>\n",
              "        <td style=\"padding-left: 1em; padding-right: 1em; text-align: center; vertical-align: top\">{'things': 1.0, 'just':<br>2.0, 'over': 1.0, ...</td>\n",
              "        <td style=\"padding-left: 1em; padding-right: 1em; text-align: center; vertical-align: top\">0</td>\n",
              "    </tr>\n",
              "    <tr>\n",
              "        <td style=\"padding-left: 1em; padding-right: 1em; text-align: center; vertical-align: top\">Vulli Sophie the Giraffe<br>Teether ...</td>\n",
              "        <td style=\"padding-left: 1em; padding-right: 1em; text-align: center; vertical-align: top\">Received the product and<br>smells like cheap rub ...</td>\n",
              "        <td style=\"padding-left: 1em; padding-right: 1em; text-align: center; vertical-align: top\">1.0</td>\n",
              "        <td style=\"padding-left: 1em; padding-right: 1em; text-align: center; vertical-align: top\">{'and': 1.0, 'money':<br>2.0, 'over': 1.0, ...</td>\n",
              "        <td style=\"padding-left: 1em; padding-right: 1em; text-align: center; vertical-align: top\">0</td>\n",
              "    </tr>\n",
              "    <tr>\n",
              "        <td style=\"padding-left: 1em; padding-right: 1em; text-align: center; vertical-align: top\">Vulli Sophie the Giraffe<br>Teether ...</td>\n",
              "        <td style=\"padding-left: 1em; padding-right: 1em; text-align: center; vertical-align: top\">I got one of these as a<br>showe gift that my baby ...</td>\n",
              "        <td style=\"padding-left: 1em; padding-right: 1em; text-align: center; vertical-align: top\">1.0</td>\n",
              "        <td style=\"padding-left: 1em; padding-right: 1em; text-align: center; vertical-align: top\">{'all': 2.0, 'press':<br>1.0, 'shape': 3.0, ...</td>\n",
              "        <td style=\"padding-left: 1em; padding-right: 1em; text-align: center; vertical-align: top\">0</td>\n",
              "    </tr>\n",
              "    <tr>\n",
              "        <td style=\"padding-left: 1em; padding-right: 1em; text-align: center; vertical-align: top\">Vulli Sophie the Giraffe<br>Teether ...</td>\n",
              "        <td style=\"padding-left: 1em; padding-right: 1em; text-align: center; vertical-align: top\">When we first got it I<br>thought did my ...</td>\n",
              "        <td style=\"padding-left: 1em; padding-right: 1em; text-align: center; vertical-align: top\">2.0</td>\n",
              "        <td style=\"padding-left: 1em; padding-right: 1em; text-align: center; vertical-align: top\">{'and': 2.0, 'cute': 1.0,<br>'btw': 1.0, 'because': ...</td>\n",
              "        <td style=\"padding-left: 1em; padding-right: 1em; text-align: center; vertical-align: top\">0</td>\n",
              "    </tr>\n",
              "    <tr>\n",
              "        <td style=\"padding-left: 1em; padding-right: 1em; text-align: center; vertical-align: top\">Vulli Sophie the Giraffe<br>Teether ...</td>\n",
              "        <td style=\"padding-left: 1em; padding-right: 1em; text-align: center; vertical-align: top\">When I received this the<br>paint was peeling off in ...</td>\n",
              "        <td style=\"padding-left: 1em; padding-right: 1em; text-align: center; vertical-align: top\">1.0</td>\n",
              "        <td style=\"padding-left: 1em; padding-right: 1em; text-align: center; vertical-align: top\">{'and': 2.0, 'everyone':<br>1.0, 'help': 1.0, 'gi ...</td>\n",
              "        <td style=\"padding-left: 1em; padding-right: 1em; text-align: center; vertical-align: top\">0</td>\n",
              "    </tr>\n",
              "    <tr>\n",
              "        <td style=\"padding-left: 1em; padding-right: 1em; text-align: center; vertical-align: top\">Vulli Sophie the Giraffe<br>Teether ...</td>\n",
              "        <td style=\"padding-left: 1em; padding-right: 1em; text-align: center; vertical-align: top\">\"Sophie the Giraffe\" has<br>tested positive for ...</td>\n",
              "        <td style=\"padding-left: 1em; padding-right: 1em; text-align: center; vertical-align: top\">1.0</td>\n",
              "        <td style=\"padding-left: 1em; padding-right: 1em; text-align: center; vertical-align: top\">{'saying': 1.0,<br>'chances': 1.0, 'caus ...</td>\n",
              "        <td style=\"padding-left: 1em; padding-right: 1em; text-align: center; vertical-align: top\">0</td>\n",
              "    </tr>\n",
              "    <tr>\n",
              "        <td style=\"padding-left: 1em; padding-right: 1em; text-align: center; vertical-align: top\">Vulli Sophie the Giraffe<br>Teether ...</td>\n",
              "        <td style=\"padding-left: 1em; padding-right: 1em; text-align: center; vertical-align: top\">My son (now 2.5) LOVED<br>his Sophie, and I bought ...</td>\n",
              "        <td style=\"padding-left: 1em; padding-right: 1em; text-align: center; vertical-align: top\">1.0</td>\n",
              "        <td style=\"padding-left: 1em; padding-right: 1em; text-align: center; vertical-align: top\">{'all': 1.0, 'just': 1.0,<br>'over': 2.0, 'not': 3.0, ...</td>\n",
              "        <td style=\"padding-left: 1em; padding-right: 1em; text-align: center; vertical-align: top\">0</td>\n",
              "    </tr>\n",
              "    <tr>\n",
              "        <td style=\"padding-left: 1em; padding-right: 1em; text-align: center; vertical-align: top\">Vulli Sophie the Giraffe<br>Teether ...</td>\n",
              "        <td style=\"padding-left: 1em; padding-right: 1em; text-align: center; vertical-align: top\">I wanted to love this<br>product and was excited ...</td>\n",
              "        <td style=\"padding-left: 1em; padding-right: 1em; text-align: center; vertical-align: top\">1.0</td>\n",
              "        <td style=\"padding-left: 1em; padding-right: 1em; text-align: center; vertical-align: top\">{'just': 1.0, 'children':<br>1.0, 'hmmm': 1.0, ...</td>\n",
              "        <td style=\"padding-left: 1em; padding-right: 1em; text-align: center; vertical-align: top\">0</td>\n",
              "    </tr>\n",
              "    <tr>\n",
              "        <td style=\"padding-left: 1em; padding-right: 1em; text-align: center; vertical-align: top\">Vulli Sophie the Giraffe<br>Teether ...</td>\n",
              "        <td style=\"padding-left: 1em; padding-right: 1em; text-align: center; vertical-align: top\">This children's toy is<br>nostalgic and very cute. ...</td>\n",
              "        <td style=\"padding-left: 1em; padding-right: 1em; text-align: center; vertical-align: top\">1.0</td>\n",
              "        <td style=\"padding-left: 1em; padding-right: 1em; text-align: center; vertical-align: top\">{'refund': 1.0, 'enjoy':<br>1.0, 'do': 1.0, 'taste': ...</td>\n",
              "        <td style=\"padding-left: 1em; padding-right: 1em; text-align: center; vertical-align: top\">0</td>\n",
              "    </tr>\n",
              "</table>\n",
              "<table frame=\"box\" rules=\"cols\">\n",
              "    <tr>\n",
              "        <th style=\"padding-left: 1em; padding-right: 1em; text-align: center\">predicted_sentiment</th>\n",
              "    </tr>\n",
              "    <tr>\n",
              "        <td style=\"padding-left: 1em; padding-right: 1em; text-align: center; vertical-align: top\">1.91107401986e-06</td>\n",
              "    </tr>\n",
              "    <tr>\n",
              "        <td style=\"padding-left: 1em; padding-right: 1em; text-align: center; vertical-align: top\">6.54780168827e-07</td>\n",
              "    </tr>\n",
              "    <tr>\n",
              "        <td style=\"padding-left: 1em; padding-right: 1em; text-align: center; vertical-align: top\">3.86423639802e-07</td>\n",
              "    </tr>\n",
              "    <tr>\n",
              "        <td style=\"padding-left: 1em; padding-right: 1em; text-align: center; vertical-align: top\">2.23782251681e-07</td>\n",
              "    </tr>\n",
              "    <tr>\n",
              "        <td style=\"padding-left: 1em; padding-right: 1em; text-align: center; vertical-align: top\">1.93539552841e-07</td>\n",
              "    </tr>\n",
              "    <tr>\n",
              "        <td style=\"padding-left: 1em; padding-right: 1em; text-align: center; vertical-align: top\">1.6900753983e-07</td>\n",
              "    </tr>\n",
              "    <tr>\n",
              "        <td style=\"padding-left: 1em; padding-right: 1em; text-align: center; vertical-align: top\">1.17488267956e-07</td>\n",
              "    </tr>\n",
              "    <tr>\n",
              "        <td style=\"padding-left: 1em; padding-right: 1em; text-align: center; vertical-align: top\">5.36493342791e-11</td>\n",
              "    </tr>\n",
              "    <tr>\n",
              "        <td style=\"padding-left: 1em; padding-right: 1em; text-align: center; vertical-align: top\">3.10903527135e-13</td>\n",
              "    </tr>\n",
              "    <tr>\n",
              "        <td style=\"padding-left: 1em; padding-right: 1em; text-align: center; vertical-align: top\">4.11926964029e-15</td>\n",
              "    </tr>\n",
              "</table>\n",
              "[10 rows x 6 columns]<br/>\n",
              "</div>"
            ]
          },
          "metadata": {
            "tags": []
          },
          "execution_count": 30
        }
      ]
    },
    {
      "cell_type": "markdown",
      "metadata": {
        "id": "tRFYfSuE-Y-7",
        "colab_type": "text"
      },
      "source": [
        "## Show the most positive reviews"
      ]
    },
    {
      "cell_type": "code",
      "metadata": {
        "id": "l1VCufOu-Y-8",
        "colab_type": "code",
        "colab": {
          "base_uri": "https://localhost:8080/",
          "height": 54
        },
        "outputId": "99244bcf-56ba-4e14-e180-3a9228d88cac"
      },
      "source": [
        "giraffe_reviews[0]['review']"
      ],
      "execution_count": null,
      "outputs": [
        {
          "output_type": "execute_result",
          "data": {
            "text/plain": [
              "\"Sophie, oh Sophie, your time has come. My granddaughter, Violet is 5 months old and starting to teeth. What joy little Sophie brings to Violet. Sophie is made of a very pliable rubber that is sturdy but not tough. It is quite easy for Violet to twist Sophie into unheard of positions to get Sophie into her mouth. The little nose and hooves fit perfectly into small mouths, and the drooling has purpose. The paint on Sophie is food quality.Sophie was born in 1961 in France. The maker had wondered why there was nothing available for babies and made Sophie from the finest rubber, phthalate-free on St Sophie's Day, thus the name was born. Since that time millions of Sophie's populate the world. She is soft and for babies little hands easy to grasp. Violet especially loves the bumpy head and horns of Sophie. Sophie has a long neck that easy to grasp and twist. She has lovely, sizable spots that attract Violet's attention. Sophie has happy little squeaks that bring squeals of delight from Violet. She is able to make Sophie squeak and that brings much joy. Sophie's smooth skin is soothing to Violet's little gums. Sophie is 7 inches tall and is the exact correct size for babies to hold and love.As you well know the first thing babies grasp, goes into their mouths- how wonderful to have a toy that stimulates all of the senses and helps with the issue of teething. Sophie is small enough to fit into any size pocket or bag. Sophie is the perfect find for babies from a few months to a year old. How wonderful to hear the giggles and laughs that emanate from babies who find Sophie irresistible. Viva La Sophie!Highly Recommended.  prisrob 12-11-09\""
            ]
          },
          "metadata": {
            "tags": []
          },
          "execution_count": 31
        }
      ]
    },
    {
      "cell_type": "code",
      "metadata": {
        "id": "Cj_duIvj-Y_A",
        "colab_type": "code",
        "colab": {
          "base_uri": "https://localhost:8080/",
          "height": 54
        },
        "outputId": "9638ba40-6cfc-41f3-b6cd-cca09aee939e"
      },
      "source": [
        "giraffe_reviews[1]['review']"
      ],
      "execution_count": null,
      "outputs": [
        {
          "output_type": "execute_result",
          "data": {
            "text/plain": [
              "'I\\'ll be honest...I bought this toy because all the hip parents seem to have one too and I wanted to be a part of the \"hip parent\" crowd. The price-tag was somewhat of a deterent but I prevailed and purchased this teether for my daughter.At first, Lily didn\\'t know what to make of of Sophie and showed little interest in the polka-dotted creature. I continued to introduce Lily to Sophie and kept the toy in the carrier so that it was on-hand during transitions. Eventually, Lily discovered what a wonderful experience it was to gnaw on the hooves and ears and these two have never been far apart since.Lily really enjoys gumming all the different parts of Sophie like no other teether we have. The size of the toy is great as it is somewhat substantial and so easy for a little one to grasp and hold onto. Lily really enjoys hearing Sophie squeak and will smile whenever Sophie makes a noise or pops her head up from Mommy\\'s lap to say hello.People have stopped and commented on Sophie and to them I have stated, \"It\\'s worth every penny.\" I can\\'t imagine not having this toy, it has become part and parcel with Lily\\'s daily existence. She is soothed by it, loves to chew on it and seems endlessly entertained by it.Someday, Sophie will have earned her retirement. She will relocate to Lily\\'s keepsake box. But until then, this little French Giraffe will embark on many adventures alongside my daughter as they explore this big world around them.'"
            ]
          },
          "metadata": {
            "tags": []
          },
          "execution_count": 32
        }
      ]
    },
    {
      "cell_type": "markdown",
      "metadata": {
        "id": "-QgUE4YQ-Y_D",
        "colab_type": "text"
      },
      "source": [
        "# Most negative reivews"
      ]
    },
    {
      "cell_type": "code",
      "metadata": {
        "id": "n_54zPfS-Y_E",
        "colab_type": "code",
        "colab": {
          "base_uri": "https://localhost:8080/",
          "height": 54
        },
        "outputId": "2e0e1a06-6e45-4345-eb52-276416552026"
      },
      "source": [
        "giraffe_reviews[-1]['review']"
      ],
      "execution_count": null,
      "outputs": [
        {
          "output_type": "execute_result",
          "data": {
            "text/plain": [
              "\"This children's toy is nostalgic and very cute. However, there is a distinct rubber smell and a very odd taste, yes I tried it, that my baby did not enjoy. Also, if it is soiled it is extremely difficult to clean as the rubber is a kind of porus material and does not clean well. The final thing is the squeaking device inside which stopped working after the first couple of days. I returned this item feeling I had overpaid for a toy that was defective and did not meet my expectations. Please do not be swayed by the cute packaging and hype surounding it as I was. One more thing, I was given a full refund from Amazon without any problem.\""
            ]
          },
          "metadata": {
            "tags": []
          },
          "execution_count": 33
        }
      ]
    },
    {
      "cell_type": "code",
      "metadata": {
        "id": "8j0O-KU2-Y_I",
        "colab_type": "code",
        "colab": {
          "base_uri": "https://localhost:8080/",
          "height": 54
        },
        "outputId": "9c0e4e72-bcab-4193-de80-8aa8347e807f"
      },
      "source": [
        "giraffe_reviews[-2]['review']"
      ],
      "execution_count": null,
      "outputs": [
        {
          "output_type": "execute_result",
          "data": {
            "text/plain": [
              "'I wanted to love this product and was excited to buy it when I became pregnant but am now hesitant to let my baby use it after reading about the recall in Europe. Apparently, as I understand it, their toxin standards of measurement are lower than ours so they have not been recalled here (apparently we are OK with low levels of nitrates in the toys our children put in their mouths, but Europeans are not...hmmm)...Be that as it may, toxins registering even CLOSE to a dangerous level made me nervous about using. After digging around online I did discover that the company claims to have changed the product after a certain date and lists manufacturing codes so you can check yours (those listed were made after a certain date and are said to be safer). Sadly mine was not made after the &#34;improved&#34; date but I could not return it because there was no formal recall in our country. I considered returning it and hunting for one with an approved manufacturing date but man that was just too much work. Bummed but not ready to take a risk with my baby.'"
            ]
          },
          "metadata": {
            "tags": []
          },
          "execution_count": 34
        }
      ]
    }
  ]
}