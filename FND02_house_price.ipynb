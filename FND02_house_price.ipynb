{
  "nbformat": 4,
  "nbformat_minor": 0,
  "metadata": {
    "kernelspec": {
      "display_name": "Python 2",
      "language": "python",
      "name": "python2"
    },
    "language_info": {
      "codemirror_mode": {
        "name": "ipython",
        "version": 3
      },
      "file_extension": ".py",
      "mimetype": "text/x-python",
      "name": "python",
      "nbconvert_exporter": "python",
      "pygments_lexer": "ipython3",
      "version": "3.6.3"
    },
    "colab": {
      "name": "FND02-house-price.ipynb",
      "provenance": [],
      "collapsed_sections": [],
      "include_colab_link": true
    }
  },
  "cells": [
    {
      "cell_type": "markdown",
      "metadata": {
        "id": "view-in-github",
        "colab_type": "text"
      },
      "source": [
        "<a href=\"https://colab.research.google.com/github/himanib09/Machine-Learning/blob/master/FND02_house_price.ipynb\" target=\"_parent\"><img src=\"https://colab.research.google.com/assets/colab-badge.svg\" alt=\"Open In Colab\"/></a>"
      ]
    },
    {
      "cell_type": "markdown",
      "metadata": {
        "id": "lfKh2G3RNM1R",
        "colab_type": "text"
      },
      "source": [
        "# Launch Turi Create"
      ]
    },
    {
      "cell_type": "code",
      "metadata": {
        "id": "Qyzbl7AdOrKq",
        "colab_type": "code",
        "colab": {
          "base_uri": "https://localhost:8080/",
          "height": 34
        },
        "outputId": "a96abdd0-a41c-44ad-9ea3-7ef62c9429b8"
      },
      "source": [
        "#link google drive to google colab \n",
        "from google.colab import drive\n",
        "drive.mount('/content/drive')"
      ],
      "execution_count": null,
      "outputs": [
        {
          "output_type": "stream",
          "text": [
            "Drive already mounted at /content/drive; to attempt to forcibly remount, call drive.mount(\"/content/drive\", force_remount=True).\n"
          ],
          "name": "stdout"
        }
      ]
    },
    {
      "cell_type": "code",
      "metadata": {
        "id": "L2kPrcPfPCaO",
        "colab_type": "code",
        "colab": {
          "base_uri": "https://localhost:8080/",
          "height": 34
        },
        "outputId": "5ebb63af-3631-4fbd-af60-1e8c6afdc32a"
      },
      "source": [
        "# change the working directory of your code on google drive\n",
        "%cd/content/drive/My Drive/Colab Notebooks"
      ],
      "execution_count": null,
      "outputs": [
        {
          "output_type": "stream",
          "text": [
            "/content/drive/My Drive/Colab Notebooks\n"
          ],
          "name": "stdout"
        }
      ]
    },
    {
      "cell_type": "code",
      "metadata": {
        "id": "8xIpy6qJPaaj",
        "colab_type": "code",
        "colab": {
          "base_uri": "https://localhost:8080/",
          "height": 1000
        },
        "outputId": "fbe2cee9-fd28-4ce2-9f2e-afd751201302"
      },
      "source": [
        "!pip install turicreate"
      ],
      "execution_count": null,
      "outputs": [
        {
          "output_type": "stream",
          "text": [
            "Collecting turicreate\n",
            "\u001b[?25l  Downloading https://files.pythonhosted.org/packages/c5/e3/5ef42a9fa8b25940d65c0c8d6893a589f78862c1bb992564d4545176f321/turicreate-6.3-cp27-cp27mu-manylinux1_x86_64.whl (91.8MB)\n",
            "\u001b[K     |████████████████████████████████| 91.8MB 55kB/s \n",
            "\u001b[?25hCollecting pillow>=5.2.0\n",
            "\u001b[?25l  Downloading https://files.pythonhosted.org/packages/12/ad/61f8dfba88c4e56196bf6d056cdbba64dc9c5dfdfbc97d02e6472feed913/Pillow-6.2.2-cp27-cp27mu-manylinux1_x86_64.whl (2.1MB)\n",
            "\u001b[K     |████████████████████████████████| 2.1MB 47.1MB/s \n",
            "\u001b[?25hRequirement already satisfied: numpy in /usr/local/lib/python2.7/dist-packages (from turicreate) (1.16.4)\n",
            "Requirement already satisfied: requests>=2.9.1 in /usr/local/lib/python2.7/dist-packages (from turicreate) (2.23.0)\n",
            "Requirement already satisfied: prettytable==0.7.2 in /usr/local/lib/python2.7/dist-packages (from turicreate) (0.7.2)\n",
            "Collecting llvmlite==0.31.0\n",
            "\u001b[?25l  Downloading https://files.pythonhosted.org/packages/91/07/90cd9cdd43b287960b16dbf7929bff2267dc0b6647e8e0117a4937b19620/llvmlite-0.31.0-cp27-cp27mu-manylinux1_x86_64.whl (20.2MB)\n",
            "\u001b[K     |████████████████████████████████| 20.2MB 1.3MB/s \n",
            "\u001b[?25hRequirement already satisfied: pandas>=0.23.2 in /usr/local/lib/python2.7/dist-packages (from turicreate) (0.24.2)\n",
            "Requirement already satisfied: decorator>=4.0.9 in /usr/local/lib/python2.7/dist-packages (from turicreate) (4.4.0)\n",
            "Requirement already satisfied: scipy>=1.1.0 in /usr/local/lib/python2.7/dist-packages (from turicreate) (1.2.2)\n",
            "Requirement already satisfied: six>=1.10.0 in /usr/local/lib/python2.7/dist-packages (from turicreate) (1.12.0)\n",
            "Requirement already satisfied: resampy==0.2.1 in /usr/local/lib/python2.7/dist-packages (from turicreate) (0.2.1)\n",
            "Collecting coremltools==3.3\n",
            "\u001b[?25l  Downloading https://files.pythonhosted.org/packages/46/9b/f6feac5d9369c68ee718d3c3140435452773a36ff08ef3bcc4fe378e8676/coremltools-3.3-cp27-none-manylinux1_x86_64.whl (3.4MB)\n",
            "\u001b[K     |████████████████████████████████| 3.4MB 41.7MB/s \n",
            "\u001b[?25hCollecting tensorflow<=2.0.1,>=2.0.0\n",
            "\u001b[?25l  Downloading https://files.pythonhosted.org/packages/17/08/1ff15637a03b1565dd6cb0916b3ca6873db3a1fc69be0ed851be936e5633/tensorflow-2.0.0-cp27-cp27mu-manylinux2010_x86_64.whl (86.3MB)\n",
            "\u001b[K     |████████████████████████████████| 86.3MB 48kB/s \n",
            "\u001b[?25hRequirement already satisfied: urllib3!=1.25.0,!=1.25.1,<1.26,>=1.21.1 in /usr/local/lib/python2.7/dist-packages (from requests>=2.9.1->turicreate) (1.24.3)\n",
            "Requirement already satisfied: chardet<4,>=3.0.2 in /usr/local/lib/python2.7/dist-packages (from requests>=2.9.1->turicreate) (3.0.4)\n",
            "Requirement already satisfied: certifi>=2017.4.17 in /usr/local/lib/python2.7/dist-packages (from requests>=2.9.1->turicreate) (2019.6.16)\n",
            "Requirement already satisfied: idna<3,>=2.5 in /usr/local/lib/python2.7/dist-packages (from requests>=2.9.1->turicreate) (2.8)\n",
            "Requirement already satisfied: enum34; python_version < \"3.4\" in /usr/local/lib/python2.7/dist-packages (from llvmlite==0.31.0->turicreate) (1.1.6)\n",
            "Requirement already satisfied: pytz>=2011k in /usr/local/lib/python2.7/dist-packages (from pandas>=0.23.2->turicreate) (2018.9)\n",
            "Requirement already satisfied: python-dateutil>=2.5.0 in /usr/local/lib/python2.7/dist-packages (from pandas>=0.23.2->turicreate) (2.5.3)\n",
            "Requirement already satisfied: numba>=0.32 in /usr/local/lib/python2.7/dist-packages (from resampy==0.2.1->turicreate) (0.40.1)\n",
            "Requirement already satisfied: protobuf>=3.1.0 in /usr/local/lib/python2.7/dist-packages (from coremltools==3.3->turicreate) (3.8.0)\n",
            "Requirement already satisfied: gast==0.2.2 in /usr/local/lib/python2.7/dist-packages (from tensorflow<=2.0.1,>=2.0.0->turicreate) (0.2.2)\n",
            "Requirement already satisfied: grpcio>=1.8.6 in /usr/local/lib/python2.7/dist-packages (from tensorflow<=2.0.1,>=2.0.0->turicreate) (1.15.0)\n",
            "Collecting tensorboard<2.1.0,>=2.0.0\n",
            "\u001b[?25l  Downloading https://files.pythonhosted.org/packages/a7/3d/993131c622ae34f9401a81526853f2310a4834bd042420a7982fb5bc5fd0/tensorboard-2.0.2-py2-none-any.whl (3.8MB)\n",
            "\u001b[K     |████████████████████████████████| 3.8MB 21.4MB/s \n",
            "\u001b[?25hRequirement already satisfied: wrapt>=1.11.1 in /usr/local/lib/python2.7/dist-packages (from tensorflow<=2.0.1,>=2.0.0->turicreate) (1.11.2)\n",
            "Requirement already satisfied: keras-preprocessing>=1.0.5 in /usr/local/lib/python2.7/dist-packages (from tensorflow<=2.0.1,>=2.0.0->turicreate) (1.1.0)\n",
            "Requirement already satisfied: backports.weakref>=1.0rc1; python_version < \"3.4\" in /usr/local/lib/python2.7/dist-packages (from tensorflow<=2.0.1,>=2.0.0->turicreate) (1.0.post1)\n",
            "Requirement already satisfied: keras-applications>=1.0.8 in /usr/local/lib/python2.7/dist-packages (from tensorflow<=2.0.1,>=2.0.0->turicreate) (1.0.8)\n",
            "Requirement already satisfied: mock>=2.0.0 in /usr/local/lib/python2.7/dist-packages (from tensorflow<=2.0.1,>=2.0.0->turicreate) (2.0.0)\n",
            "Requirement already satisfied: wheel in /usr/local/lib/python2.7/dist-packages (from tensorflow<=2.0.1,>=2.0.0->turicreate) (0.34.2)\n",
            "Requirement already satisfied: functools32>=3.2.3 in /usr/local/lib/python2.7/dist-packages (from tensorflow<=2.0.1,>=2.0.0->turicreate) (3.2.3.post2)\n",
            "Requirement already satisfied: absl-py>=0.7.0 in /usr/local/lib/python2.7/dist-packages (from tensorflow<=2.0.1,>=2.0.0->turicreate) (0.7.1)\n",
            "Requirement already satisfied: opt-einsum>=2.3.2 in /usr/local/lib/python2.7/dist-packages (from tensorflow<=2.0.1,>=2.0.0->turicreate) (2.3.2)\n",
            "Requirement already satisfied: termcolor>=1.1.0 in /usr/local/lib/python2.7/dist-packages (from tensorflow<=2.0.1,>=2.0.0->turicreate) (1.1.0)\n",
            "Requirement already satisfied: google-pasta>=0.1.6 in /usr/local/lib/python2.7/dist-packages (from tensorflow<=2.0.1,>=2.0.0->turicreate) (0.1.7)\n",
            "Collecting tensorflow-estimator<2.1.0,>=2.0.0\n",
            "\u001b[?25l  Downloading https://files.pythonhosted.org/packages/fc/08/8b927337b7019c374719145d1dceba21a8bb909b93b1ad6f8fb7d22c1ca1/tensorflow_estimator-2.0.1-py2.py3-none-any.whl (449kB)\n",
            "\u001b[K     |████████████████████████████████| 450kB 44.7MB/s \n",
            "\u001b[?25hRequirement already satisfied: astor>=0.6.0 in /usr/local/lib/python2.7/dist-packages (from tensorflow<=2.0.1,>=2.0.0->turicreate) (0.8.0)\n",
            "Requirement already satisfied: funcsigs in /usr/local/lib/python2.7/dist-packages (from numba>=0.32->resampy==0.2.1->turicreate) (1.0.2)\n",
            "Requirement already satisfied: singledispatch in /usr/local/lib/python2.7/dist-packages (from numba>=0.32->resampy==0.2.1->turicreate) (3.4.0.3)\n",
            "Requirement already satisfied: setuptools in /usr/local/lib/python2.7/dist-packages (from protobuf>=3.1.0->coremltools==3.3->turicreate) (44.1.1)\n",
            "Requirement already satisfied: futures>=2.2.0 in /usr/local/lib/python2.7/dist-packages (from grpcio>=1.8.6->tensorflow<=2.0.1,>=2.0.0->turicreate) (3.2.0)\n",
            "Collecting google-auth-oauthlib<0.5,>=0.4.1\n",
            "  Downloading https://files.pythonhosted.org/packages/7b/b8/88def36e74bee9fce511c9519571f4e485e890093ab7442284f4ffaef60b/google_auth_oauthlib-0.4.1-py2.py3-none-any.whl\n",
            "Requirement already satisfied: werkzeug>=0.11.15 in /usr/local/lib/python2.7/dist-packages (from tensorboard<2.1.0,>=2.0.0->tensorflow<=2.0.1,>=2.0.0->turicreate) (0.15.5)\n",
            "Requirement already satisfied: google-auth<2,>=1.6.3 in /usr/local/lib/python2.7/dist-packages (from tensorboard<2.1.0,>=2.0.0->tensorflow<=2.0.1,>=2.0.0->turicreate) (1.7.2)\n",
            "Requirement already satisfied: markdown>=2.6.8 in /usr/local/lib/python2.7/dist-packages (from tensorboard<2.1.0,>=2.0.0->tensorflow<=2.0.1,>=2.0.0->turicreate) (3.1.1)\n",
            "Requirement already satisfied: h5py in /usr/local/lib/python2.7/dist-packages (from keras-applications>=1.0.8->tensorflow<=2.0.1,>=2.0.0->turicreate) (2.8.0)\n",
            "Requirement already satisfied: pbr>=0.11 in /usr/local/lib/python2.7/dist-packages (from mock>=2.0.0->tensorflow<=2.0.1,>=2.0.0->turicreate) (5.4.0)\n",
            "Requirement already satisfied: requests-oauthlib>=0.7.0 in /usr/local/lib/python2.7/dist-packages (from google-auth-oauthlib<0.5,>=0.4.1->tensorboard<2.1.0,>=2.0.0->tensorflow<=2.0.1,>=2.0.0->turicreate) (1.2.0)\n",
            "Requirement already satisfied: pyasn1-modules>=0.2.1 in /usr/local/lib/python2.7/dist-packages (from google-auth<2,>=1.6.3->tensorboard<2.1.0,>=2.0.0->tensorflow<=2.0.1,>=2.0.0->turicreate) (0.2.5)\n",
            "Requirement already satisfied: cachetools<3.2,>=2.0.0 in /usr/local/lib/python2.7/dist-packages (from google-auth<2,>=1.6.3->tensorboard<2.1.0,>=2.0.0->tensorflow<=2.0.1,>=2.0.0->turicreate) (3.1.1)\n",
            "Requirement already satisfied: rsa<4.1,>=3.1.4 in /usr/local/lib/python2.7/dist-packages (from google-auth<2,>=1.6.3->tensorboard<2.1.0,>=2.0.0->tensorflow<=2.0.1,>=2.0.0->turicreate) (4.0)\n",
            "Requirement already satisfied: oauthlib>=3.0.0 in /usr/local/lib/python2.7/dist-packages (from requests-oauthlib>=0.7.0->google-auth-oauthlib<0.5,>=0.4.1->tensorboard<2.1.0,>=2.0.0->tensorflow<=2.0.1,>=2.0.0->turicreate) (3.0.2)\n",
            "Requirement already satisfied: pyasn1<0.5.0,>=0.4.1 in /usr/local/lib/python2.7/dist-packages (from pyasn1-modules>=0.2.1->google-auth<2,>=1.6.3->tensorboard<2.1.0,>=2.0.0->tensorflow<=2.0.1,>=2.0.0->turicreate) (0.4.5)\n",
            "\u001b[31mERROR: fastai 0.7.0 has requirement torch<0.4, but you'll have torch 1.4.0 which is incompatible.\u001b[0m\n",
            "\u001b[31mERROR: tensorboard 2.0.2 has requirement grpcio>=1.24.3, but you'll have grpcio 1.15.0 which is incompatible.\u001b[0m\n",
            "Installing collected packages: pillow, llvmlite, coremltools, google-auth-oauthlib, tensorboard, tensorflow-estimator, tensorflow, turicreate\n",
            "  Found existing installation: Pillow 4.3.0\n",
            "    Uninstalling Pillow-4.3.0:\n",
            "      Successfully uninstalled Pillow-4.3.0\n",
            "  Found existing installation: llvmlite 0.29.0\n",
            "    Uninstalling llvmlite-0.29.0:\n",
            "      Successfully uninstalled llvmlite-0.29.0\n",
            "  Found existing installation: google-auth-oauthlib 0.4.0\n",
            "    Uninstalling google-auth-oauthlib-0.4.0:\n",
            "      Successfully uninstalled google-auth-oauthlib-0.4.0\n",
            "  Found existing installation: tensorboard 2.1.0\n",
            "    Uninstalling tensorboard-2.1.0:\n",
            "      Successfully uninstalled tensorboard-2.1.0\n",
            "  Found existing installation: tensorflow-estimator 1.15.0\n",
            "    Uninstalling tensorflow-estimator-1.15.0:\n",
            "      Successfully uninstalled tensorflow-estimator-1.15.0\n",
            "  Found existing installation: tensorflow 2.1.0\n",
            "    Uninstalling tensorflow-2.1.0:\n",
            "      Successfully uninstalled tensorflow-2.1.0\n",
            "Successfully installed coremltools-3.3 google-auth-oauthlib-0.4.1 llvmlite-0.31.0 pillow-6.2.2 tensorboard-2.0.2 tensorflow-2.0.0 tensorflow-estimator-2.0.1 turicreate-6.3\n"
          ],
          "name": "stdout"
        },
        {
          "output_type": "display_data",
          "data": {
            "application/vnd.colab-display-data+json": {
              "pip_warning": {
                "packages": [
                  "PIL"
                ]
              }
            }
          },
          "metadata": {
            "tags": []
          }
        }
      ]
    },
    {
      "cell_type": "code",
      "metadata": {
        "id": "DpVwUwY4NM1T",
        "colab_type": "code",
        "colab": {}
      },
      "source": [
        "import turicreate"
      ],
      "execution_count": null,
      "outputs": []
    },
    {
      "cell_type": "markdown",
      "metadata": {
        "id": "sTI0185fNM1c",
        "colab_type": "text"
      },
      "source": [
        "# Load house sales data"
      ]
    },
    {
      "cell_type": "code",
      "metadata": {
        "id": "k0Qf5l_pNM1c",
        "colab_type": "code",
        "colab": {}
      },
      "source": [
        "sales = turicreate.SFrame('data/home_data.sframe/')"
      ],
      "execution_count": null,
      "outputs": []
    },
    {
      "cell_type": "code",
      "metadata": {
        "id": "ntpM8BXKNM1i",
        "colab_type": "code",
        "colab": {
          "base_uri": "https://localhost:8080/",
          "height": 701
        },
        "outputId": "30ccb185-f61d-45db-be82-09f66d7f71cf"
      },
      "source": [
        "sales"
      ],
      "execution_count": null,
      "outputs": [
        {
          "output_type": "execute_result",
          "data": {
            "text/plain": [
              "Columns:\n",
              "\tid\tstr\n",
              "\tdate\tdatetime\n",
              "\tprice\tfloat\n",
              "\tbedrooms\tfloat\n",
              "\tbathrooms\tfloat\n",
              "\tsqft_living\tfloat\n",
              "\tsqft_lot\tfloat\n",
              "\tfloors\tfloat\n",
              "\twaterfront\tint\n",
              "\tview\tint\n",
              "\tcondition\tint\n",
              "\tgrade\tfloat\n",
              "\tsqft_above\tfloat\n",
              "\tsqft_basement\tfloat\n",
              "\tyr_built\tfloat\n",
              "\tyr_renovated\tfloat\n",
              "\tzipcode\tstr\n",
              "\tlat\tfloat\n",
              "\tlong\tfloat\n",
              "\tsqft_living15\tfloat\n",
              "\tsqft_lot15\tfloat\n",
              "\n",
              "Rows: 21613\n",
              "\n",
              "Data:\n",
              "+------------+---------------------------+-----------+----------+-----------+\n",
              "|     id     |            date           |   price   | bedrooms | bathrooms |\n",
              "+------------+---------------------------+-----------+----------+-----------+\n",
              "| 7129300520 | 2014-10-13 00:00:00+00:00 |  221900.0 |   3.0    |    1.0    |\n",
              "| 6414100192 | 2014-12-09 00:00:00+00:00 |  538000.0 |   3.0    |    2.25   |\n",
              "| 5631500400 | 2015-02-25 00:00:00+00:00 |  180000.0 |   2.0    |    1.0    |\n",
              "| 2487200875 | 2014-12-09 00:00:00+00:00 |  604000.0 |   4.0    |    3.0    |\n",
              "| 1954400510 | 2015-02-18 00:00:00+00:00 |  510000.0 |   3.0    |    2.0    |\n",
              "| 7237550310 | 2014-05-12 00:00:00+00:00 | 1225000.0 |   4.0    |    4.5    |\n",
              "| 1321400060 | 2014-06-27 00:00:00+00:00 |  257500.0 |   3.0    |    2.25   |\n",
              "| 2008000270 | 2015-01-15 00:00:00+00:00 |  291850.0 |   3.0    |    1.5    |\n",
              "| 2414600126 | 2015-04-15 00:00:00+00:00 |  229500.0 |   3.0    |    1.0    |\n",
              "| 3793500160 | 2015-03-12 00:00:00+00:00 |  323000.0 |   3.0    |    2.5    |\n",
              "+------------+---------------------------+-----------+----------+-----------+\n",
              "+-------------+----------+--------+------------+------+-----------+-------+\n",
              "| sqft_living | sqft_lot | floors | waterfront | view | condition | grade |\n",
              "+-------------+----------+--------+------------+------+-----------+-------+\n",
              "|    1180.0   |  5650.0  |  1.0   |     0      |  0   |     3     |  7.0  |\n",
              "|    2570.0   |  7242.0  |  2.0   |     0      |  0   |     3     |  7.0  |\n",
              "|    770.0    | 10000.0  |  1.0   |     0      |  0   |     3     |  6.0  |\n",
              "|    1960.0   |  5000.0  |  1.0   |     0      |  0   |     5     |  7.0  |\n",
              "|    1680.0   |  8080.0  |  1.0   |     0      |  0   |     3     |  8.0  |\n",
              "|    5420.0   | 101930.0 |  1.0   |     0      |  0   |     3     |  11.0 |\n",
              "|    1715.0   |  6819.0  |  2.0   |     0      |  0   |     3     |  7.0  |\n",
              "|    1060.0   |  9711.0  |  1.0   |     0      |  0   |     3     |  7.0  |\n",
              "|    1780.0   |  7470.0  |  1.0   |     0      |  0   |     3     |  7.0  |\n",
              "|    1890.0   |  6560.0  |  2.0   |     0      |  0   |     3     |  7.0  |\n",
              "+-------------+----------+--------+------------+------+-----------+-------+\n",
              "+------------+---------------+----------+--------------+---------+-------------+\n",
              "| sqft_above | sqft_basement | yr_built | yr_renovated | zipcode |     lat     |\n",
              "+------------+---------------+----------+--------------+---------+-------------+\n",
              "|   1180.0   |      0.0      |  1955.0  |     0.0      |  98178  | 47.51123398 |\n",
              "|   2170.0   |     400.0     |  1951.0  |    1991.0    |  98125  | 47.72102274 |\n",
              "|   770.0    |      0.0      |  1933.0  |     0.0      |  98028  | 47.73792661 |\n",
              "|   1050.0   |     910.0     |  1965.0  |     0.0      |  98136  |   47.52082  |\n",
              "|   1680.0   |      0.0      |  1987.0  |     0.0      |  98074  | 47.61681228 |\n",
              "|   3890.0   |     1530.0    |  2001.0  |     0.0      |  98053  | 47.65611835 |\n",
              "|   1715.0   |      0.0      |  1995.0  |     0.0      |  98003  | 47.30972002 |\n",
              "|   1060.0   |      0.0      |  1963.0  |     0.0      |  98198  | 47.40949984 |\n",
              "|   1050.0   |     730.0     |  1960.0  |     0.0      |  98146  | 47.51229381 |\n",
              "|   1890.0   |      0.0      |  2003.0  |     0.0      |  98038  | 47.36840673 |\n",
              "+------------+---------------+----------+--------------+---------+-------------+\n",
              "+---------------+---------------+-----+\n",
              "|      long     | sqft_living15 | ... |\n",
              "+---------------+---------------+-----+\n",
              "| -122.25677536 |     1340.0    | ... |\n",
              "|  -122.3188624 |     1690.0    | ... |\n",
              "| -122.23319601 |     2720.0    | ... |\n",
              "| -122.39318505 |     1360.0    | ... |\n",
              "| -122.04490059 |     1800.0    | ... |\n",
              "| -122.00528655 |     4760.0    | ... |\n",
              "| -122.32704857 |     2238.0    | ... |\n",
              "| -122.31457273 |     1650.0    | ... |\n",
              "| -122.33659507 |     1780.0    | ... |\n",
              "|  -122.0308176 |     2390.0    | ... |\n",
              "+---------------+---------------+-----+\n",
              "[21613 rows x 21 columns]\n",
              "Note: Only the head of the SFrame is printed.\n",
              "You can use print_rows(num_rows=m, num_columns=n) to print more rows and columns."
            ],
            "text/html": [
              "<div style=\"max-height:1000px;max-width:1500px;overflow:auto;\"><table frame=\"box\" rules=\"cols\">\n",
              "    <tr>\n",
              "        <th style=\"padding-left: 1em; padding-right: 1em; text-align: center\">id</th>\n",
              "        <th style=\"padding-left: 1em; padding-right: 1em; text-align: center\">date</th>\n",
              "        <th style=\"padding-left: 1em; padding-right: 1em; text-align: center\">price</th>\n",
              "        <th style=\"padding-left: 1em; padding-right: 1em; text-align: center\">bedrooms</th>\n",
              "        <th style=\"padding-left: 1em; padding-right: 1em; text-align: center\">bathrooms</th>\n",
              "        <th style=\"padding-left: 1em; padding-right: 1em; text-align: center\">sqft_living</th>\n",
              "        <th style=\"padding-left: 1em; padding-right: 1em; text-align: center\">sqft_lot</th>\n",
              "        <th style=\"padding-left: 1em; padding-right: 1em; text-align: center\">floors</th>\n",
              "        <th style=\"padding-left: 1em; padding-right: 1em; text-align: center\">waterfront</th>\n",
              "    </tr>\n",
              "    <tr>\n",
              "        <td style=\"padding-left: 1em; padding-right: 1em; text-align: center; vertical-align: top\">7129300520</td>\n",
              "        <td style=\"padding-left: 1em; padding-right: 1em; text-align: center; vertical-align: top\">2014-10-13 00:00:00+00:00</td>\n",
              "        <td style=\"padding-left: 1em; padding-right: 1em; text-align: center; vertical-align: top\">221900.0</td>\n",
              "        <td style=\"padding-left: 1em; padding-right: 1em; text-align: center; vertical-align: top\">3.0</td>\n",
              "        <td style=\"padding-left: 1em; padding-right: 1em; text-align: center; vertical-align: top\">1.0</td>\n",
              "        <td style=\"padding-left: 1em; padding-right: 1em; text-align: center; vertical-align: top\">1180.0</td>\n",
              "        <td style=\"padding-left: 1em; padding-right: 1em; text-align: center; vertical-align: top\">5650.0</td>\n",
              "        <td style=\"padding-left: 1em; padding-right: 1em; text-align: center; vertical-align: top\">1.0</td>\n",
              "        <td style=\"padding-left: 1em; padding-right: 1em; text-align: center; vertical-align: top\">0</td>\n",
              "    </tr>\n",
              "    <tr>\n",
              "        <td style=\"padding-left: 1em; padding-right: 1em; text-align: center; vertical-align: top\">6414100192</td>\n",
              "        <td style=\"padding-left: 1em; padding-right: 1em; text-align: center; vertical-align: top\">2014-12-09 00:00:00+00:00</td>\n",
              "        <td style=\"padding-left: 1em; padding-right: 1em; text-align: center; vertical-align: top\">538000.0</td>\n",
              "        <td style=\"padding-left: 1em; padding-right: 1em; text-align: center; vertical-align: top\">3.0</td>\n",
              "        <td style=\"padding-left: 1em; padding-right: 1em; text-align: center; vertical-align: top\">2.25</td>\n",
              "        <td style=\"padding-left: 1em; padding-right: 1em; text-align: center; vertical-align: top\">2570.0</td>\n",
              "        <td style=\"padding-left: 1em; padding-right: 1em; text-align: center; vertical-align: top\">7242.0</td>\n",
              "        <td style=\"padding-left: 1em; padding-right: 1em; text-align: center; vertical-align: top\">2.0</td>\n",
              "        <td style=\"padding-left: 1em; padding-right: 1em; text-align: center; vertical-align: top\">0</td>\n",
              "    </tr>\n",
              "    <tr>\n",
              "        <td style=\"padding-left: 1em; padding-right: 1em; text-align: center; vertical-align: top\">5631500400</td>\n",
              "        <td style=\"padding-left: 1em; padding-right: 1em; text-align: center; vertical-align: top\">2015-02-25 00:00:00+00:00</td>\n",
              "        <td style=\"padding-left: 1em; padding-right: 1em; text-align: center; vertical-align: top\">180000.0</td>\n",
              "        <td style=\"padding-left: 1em; padding-right: 1em; text-align: center; vertical-align: top\">2.0</td>\n",
              "        <td style=\"padding-left: 1em; padding-right: 1em; text-align: center; vertical-align: top\">1.0</td>\n",
              "        <td style=\"padding-left: 1em; padding-right: 1em; text-align: center; vertical-align: top\">770.0</td>\n",
              "        <td style=\"padding-left: 1em; padding-right: 1em; text-align: center; vertical-align: top\">10000.0</td>\n",
              "        <td style=\"padding-left: 1em; padding-right: 1em; text-align: center; vertical-align: top\">1.0</td>\n",
              "        <td style=\"padding-left: 1em; padding-right: 1em; text-align: center; vertical-align: top\">0</td>\n",
              "    </tr>\n",
              "    <tr>\n",
              "        <td style=\"padding-left: 1em; padding-right: 1em; text-align: center; vertical-align: top\">2487200875</td>\n",
              "        <td style=\"padding-left: 1em; padding-right: 1em; text-align: center; vertical-align: top\">2014-12-09 00:00:00+00:00</td>\n",
              "        <td style=\"padding-left: 1em; padding-right: 1em; text-align: center; vertical-align: top\">604000.0</td>\n",
              "        <td style=\"padding-left: 1em; padding-right: 1em; text-align: center; vertical-align: top\">4.0</td>\n",
              "        <td style=\"padding-left: 1em; padding-right: 1em; text-align: center; vertical-align: top\">3.0</td>\n",
              "        <td style=\"padding-left: 1em; padding-right: 1em; text-align: center; vertical-align: top\">1960.0</td>\n",
              "        <td style=\"padding-left: 1em; padding-right: 1em; text-align: center; vertical-align: top\">5000.0</td>\n",
              "        <td style=\"padding-left: 1em; padding-right: 1em; text-align: center; vertical-align: top\">1.0</td>\n",
              "        <td style=\"padding-left: 1em; padding-right: 1em; text-align: center; vertical-align: top\">0</td>\n",
              "    </tr>\n",
              "    <tr>\n",
              "        <td style=\"padding-left: 1em; padding-right: 1em; text-align: center; vertical-align: top\">1954400510</td>\n",
              "        <td style=\"padding-left: 1em; padding-right: 1em; text-align: center; vertical-align: top\">2015-02-18 00:00:00+00:00</td>\n",
              "        <td style=\"padding-left: 1em; padding-right: 1em; text-align: center; vertical-align: top\">510000.0</td>\n",
              "        <td style=\"padding-left: 1em; padding-right: 1em; text-align: center; vertical-align: top\">3.0</td>\n",
              "        <td style=\"padding-left: 1em; padding-right: 1em; text-align: center; vertical-align: top\">2.0</td>\n",
              "        <td style=\"padding-left: 1em; padding-right: 1em; text-align: center; vertical-align: top\">1680.0</td>\n",
              "        <td style=\"padding-left: 1em; padding-right: 1em; text-align: center; vertical-align: top\">8080.0</td>\n",
              "        <td style=\"padding-left: 1em; padding-right: 1em; text-align: center; vertical-align: top\">1.0</td>\n",
              "        <td style=\"padding-left: 1em; padding-right: 1em; text-align: center; vertical-align: top\">0</td>\n",
              "    </tr>\n",
              "    <tr>\n",
              "        <td style=\"padding-left: 1em; padding-right: 1em; text-align: center; vertical-align: top\">7237550310</td>\n",
              "        <td style=\"padding-left: 1em; padding-right: 1em; text-align: center; vertical-align: top\">2014-05-12 00:00:00+00:00</td>\n",
              "        <td style=\"padding-left: 1em; padding-right: 1em; text-align: center; vertical-align: top\">1225000.0</td>\n",
              "        <td style=\"padding-left: 1em; padding-right: 1em; text-align: center; vertical-align: top\">4.0</td>\n",
              "        <td style=\"padding-left: 1em; padding-right: 1em; text-align: center; vertical-align: top\">4.5</td>\n",
              "        <td style=\"padding-left: 1em; padding-right: 1em; text-align: center; vertical-align: top\">5420.0</td>\n",
              "        <td style=\"padding-left: 1em; padding-right: 1em; text-align: center; vertical-align: top\">101930.0</td>\n",
              "        <td style=\"padding-left: 1em; padding-right: 1em; text-align: center; vertical-align: top\">1.0</td>\n",
              "        <td style=\"padding-left: 1em; padding-right: 1em; text-align: center; vertical-align: top\">0</td>\n",
              "    </tr>\n",
              "    <tr>\n",
              "        <td style=\"padding-left: 1em; padding-right: 1em; text-align: center; vertical-align: top\">1321400060</td>\n",
              "        <td style=\"padding-left: 1em; padding-right: 1em; text-align: center; vertical-align: top\">2014-06-27 00:00:00+00:00</td>\n",
              "        <td style=\"padding-left: 1em; padding-right: 1em; text-align: center; vertical-align: top\">257500.0</td>\n",
              "        <td style=\"padding-left: 1em; padding-right: 1em; text-align: center; vertical-align: top\">3.0</td>\n",
              "        <td style=\"padding-left: 1em; padding-right: 1em; text-align: center; vertical-align: top\">2.25</td>\n",
              "        <td style=\"padding-left: 1em; padding-right: 1em; text-align: center; vertical-align: top\">1715.0</td>\n",
              "        <td style=\"padding-left: 1em; padding-right: 1em; text-align: center; vertical-align: top\">6819.0</td>\n",
              "        <td style=\"padding-left: 1em; padding-right: 1em; text-align: center; vertical-align: top\">2.0</td>\n",
              "        <td style=\"padding-left: 1em; padding-right: 1em; text-align: center; vertical-align: top\">0</td>\n",
              "    </tr>\n",
              "    <tr>\n",
              "        <td style=\"padding-left: 1em; padding-right: 1em; text-align: center; vertical-align: top\">2008000270</td>\n",
              "        <td style=\"padding-left: 1em; padding-right: 1em; text-align: center; vertical-align: top\">2015-01-15 00:00:00+00:00</td>\n",
              "        <td style=\"padding-left: 1em; padding-right: 1em; text-align: center; vertical-align: top\">291850.0</td>\n",
              "        <td style=\"padding-left: 1em; padding-right: 1em; text-align: center; vertical-align: top\">3.0</td>\n",
              "        <td style=\"padding-left: 1em; padding-right: 1em; text-align: center; vertical-align: top\">1.5</td>\n",
              "        <td style=\"padding-left: 1em; padding-right: 1em; text-align: center; vertical-align: top\">1060.0</td>\n",
              "        <td style=\"padding-left: 1em; padding-right: 1em; text-align: center; vertical-align: top\">9711.0</td>\n",
              "        <td style=\"padding-left: 1em; padding-right: 1em; text-align: center; vertical-align: top\">1.0</td>\n",
              "        <td style=\"padding-left: 1em; padding-right: 1em; text-align: center; vertical-align: top\">0</td>\n",
              "    </tr>\n",
              "    <tr>\n",
              "        <td style=\"padding-left: 1em; padding-right: 1em; text-align: center; vertical-align: top\">2414600126</td>\n",
              "        <td style=\"padding-left: 1em; padding-right: 1em; text-align: center; vertical-align: top\">2015-04-15 00:00:00+00:00</td>\n",
              "        <td style=\"padding-left: 1em; padding-right: 1em; text-align: center; vertical-align: top\">229500.0</td>\n",
              "        <td style=\"padding-left: 1em; padding-right: 1em; text-align: center; vertical-align: top\">3.0</td>\n",
              "        <td style=\"padding-left: 1em; padding-right: 1em; text-align: center; vertical-align: top\">1.0</td>\n",
              "        <td style=\"padding-left: 1em; padding-right: 1em; text-align: center; vertical-align: top\">1780.0</td>\n",
              "        <td style=\"padding-left: 1em; padding-right: 1em; text-align: center; vertical-align: top\">7470.0</td>\n",
              "        <td style=\"padding-left: 1em; padding-right: 1em; text-align: center; vertical-align: top\">1.0</td>\n",
              "        <td style=\"padding-left: 1em; padding-right: 1em; text-align: center; vertical-align: top\">0</td>\n",
              "    </tr>\n",
              "    <tr>\n",
              "        <td style=\"padding-left: 1em; padding-right: 1em; text-align: center; vertical-align: top\">3793500160</td>\n",
              "        <td style=\"padding-left: 1em; padding-right: 1em; text-align: center; vertical-align: top\">2015-03-12 00:00:00+00:00</td>\n",
              "        <td style=\"padding-left: 1em; padding-right: 1em; text-align: center; vertical-align: top\">323000.0</td>\n",
              "        <td style=\"padding-left: 1em; padding-right: 1em; text-align: center; vertical-align: top\">3.0</td>\n",
              "        <td style=\"padding-left: 1em; padding-right: 1em; text-align: center; vertical-align: top\">2.5</td>\n",
              "        <td style=\"padding-left: 1em; padding-right: 1em; text-align: center; vertical-align: top\">1890.0</td>\n",
              "        <td style=\"padding-left: 1em; padding-right: 1em; text-align: center; vertical-align: top\">6560.0</td>\n",
              "        <td style=\"padding-left: 1em; padding-right: 1em; text-align: center; vertical-align: top\">2.0</td>\n",
              "        <td style=\"padding-left: 1em; padding-right: 1em; text-align: center; vertical-align: top\">0</td>\n",
              "    </tr>\n",
              "</table>\n",
              "<table frame=\"box\" rules=\"cols\">\n",
              "    <tr>\n",
              "        <th style=\"padding-left: 1em; padding-right: 1em; text-align: center\">view</th>\n",
              "        <th style=\"padding-left: 1em; padding-right: 1em; text-align: center\">condition</th>\n",
              "        <th style=\"padding-left: 1em; padding-right: 1em; text-align: center\">grade</th>\n",
              "        <th style=\"padding-left: 1em; padding-right: 1em; text-align: center\">sqft_above</th>\n",
              "        <th style=\"padding-left: 1em; padding-right: 1em; text-align: center\">sqft_basement</th>\n",
              "        <th style=\"padding-left: 1em; padding-right: 1em; text-align: center\">yr_built</th>\n",
              "        <th style=\"padding-left: 1em; padding-right: 1em; text-align: center\">yr_renovated</th>\n",
              "        <th style=\"padding-left: 1em; padding-right: 1em; text-align: center\">zipcode</th>\n",
              "        <th style=\"padding-left: 1em; padding-right: 1em; text-align: center\">lat</th>\n",
              "    </tr>\n",
              "    <tr>\n",
              "        <td style=\"padding-left: 1em; padding-right: 1em; text-align: center; vertical-align: top\">0</td>\n",
              "        <td style=\"padding-left: 1em; padding-right: 1em; text-align: center; vertical-align: top\">3</td>\n",
              "        <td style=\"padding-left: 1em; padding-right: 1em; text-align: center; vertical-align: top\">7.0</td>\n",
              "        <td style=\"padding-left: 1em; padding-right: 1em; text-align: center; vertical-align: top\">1180.0</td>\n",
              "        <td style=\"padding-left: 1em; padding-right: 1em; text-align: center; vertical-align: top\">0.0</td>\n",
              "        <td style=\"padding-left: 1em; padding-right: 1em; text-align: center; vertical-align: top\">1955.0</td>\n",
              "        <td style=\"padding-left: 1em; padding-right: 1em; text-align: center; vertical-align: top\">0.0</td>\n",
              "        <td style=\"padding-left: 1em; padding-right: 1em; text-align: center; vertical-align: top\">98178</td>\n",
              "        <td style=\"padding-left: 1em; padding-right: 1em; text-align: center; vertical-align: top\">47.51123398</td>\n",
              "    </tr>\n",
              "    <tr>\n",
              "        <td style=\"padding-left: 1em; padding-right: 1em; text-align: center; vertical-align: top\">0</td>\n",
              "        <td style=\"padding-left: 1em; padding-right: 1em; text-align: center; vertical-align: top\">3</td>\n",
              "        <td style=\"padding-left: 1em; padding-right: 1em; text-align: center; vertical-align: top\">7.0</td>\n",
              "        <td style=\"padding-left: 1em; padding-right: 1em; text-align: center; vertical-align: top\">2170.0</td>\n",
              "        <td style=\"padding-left: 1em; padding-right: 1em; text-align: center; vertical-align: top\">400.0</td>\n",
              "        <td style=\"padding-left: 1em; padding-right: 1em; text-align: center; vertical-align: top\">1951.0</td>\n",
              "        <td style=\"padding-left: 1em; padding-right: 1em; text-align: center; vertical-align: top\">1991.0</td>\n",
              "        <td style=\"padding-left: 1em; padding-right: 1em; text-align: center; vertical-align: top\">98125</td>\n",
              "        <td style=\"padding-left: 1em; padding-right: 1em; text-align: center; vertical-align: top\">47.72102274</td>\n",
              "    </tr>\n",
              "    <tr>\n",
              "        <td style=\"padding-left: 1em; padding-right: 1em; text-align: center; vertical-align: top\">0</td>\n",
              "        <td style=\"padding-left: 1em; padding-right: 1em; text-align: center; vertical-align: top\">3</td>\n",
              "        <td style=\"padding-left: 1em; padding-right: 1em; text-align: center; vertical-align: top\">6.0</td>\n",
              "        <td style=\"padding-left: 1em; padding-right: 1em; text-align: center; vertical-align: top\">770.0</td>\n",
              "        <td style=\"padding-left: 1em; padding-right: 1em; text-align: center; vertical-align: top\">0.0</td>\n",
              "        <td style=\"padding-left: 1em; padding-right: 1em; text-align: center; vertical-align: top\">1933.0</td>\n",
              "        <td style=\"padding-left: 1em; padding-right: 1em; text-align: center; vertical-align: top\">0.0</td>\n",
              "        <td style=\"padding-left: 1em; padding-right: 1em; text-align: center; vertical-align: top\">98028</td>\n",
              "        <td style=\"padding-left: 1em; padding-right: 1em; text-align: center; vertical-align: top\">47.73792661</td>\n",
              "    </tr>\n",
              "    <tr>\n",
              "        <td style=\"padding-left: 1em; padding-right: 1em; text-align: center; vertical-align: top\">0</td>\n",
              "        <td style=\"padding-left: 1em; padding-right: 1em; text-align: center; vertical-align: top\">5</td>\n",
              "        <td style=\"padding-left: 1em; padding-right: 1em; text-align: center; vertical-align: top\">7.0</td>\n",
              "        <td style=\"padding-left: 1em; padding-right: 1em; text-align: center; vertical-align: top\">1050.0</td>\n",
              "        <td style=\"padding-left: 1em; padding-right: 1em; text-align: center; vertical-align: top\">910.0</td>\n",
              "        <td style=\"padding-left: 1em; padding-right: 1em; text-align: center; vertical-align: top\">1965.0</td>\n",
              "        <td style=\"padding-left: 1em; padding-right: 1em; text-align: center; vertical-align: top\">0.0</td>\n",
              "        <td style=\"padding-left: 1em; padding-right: 1em; text-align: center; vertical-align: top\">98136</td>\n",
              "        <td style=\"padding-left: 1em; padding-right: 1em; text-align: center; vertical-align: top\">47.52082</td>\n",
              "    </tr>\n",
              "    <tr>\n",
              "        <td style=\"padding-left: 1em; padding-right: 1em; text-align: center; vertical-align: top\">0</td>\n",
              "        <td style=\"padding-left: 1em; padding-right: 1em; text-align: center; vertical-align: top\">3</td>\n",
              "        <td style=\"padding-left: 1em; padding-right: 1em; text-align: center; vertical-align: top\">8.0</td>\n",
              "        <td style=\"padding-left: 1em; padding-right: 1em; text-align: center; vertical-align: top\">1680.0</td>\n",
              "        <td style=\"padding-left: 1em; padding-right: 1em; text-align: center; vertical-align: top\">0.0</td>\n",
              "        <td style=\"padding-left: 1em; padding-right: 1em; text-align: center; vertical-align: top\">1987.0</td>\n",
              "        <td style=\"padding-left: 1em; padding-right: 1em; text-align: center; vertical-align: top\">0.0</td>\n",
              "        <td style=\"padding-left: 1em; padding-right: 1em; text-align: center; vertical-align: top\">98074</td>\n",
              "        <td style=\"padding-left: 1em; padding-right: 1em; text-align: center; vertical-align: top\">47.61681228</td>\n",
              "    </tr>\n",
              "    <tr>\n",
              "        <td style=\"padding-left: 1em; padding-right: 1em; text-align: center; vertical-align: top\">0</td>\n",
              "        <td style=\"padding-left: 1em; padding-right: 1em; text-align: center; vertical-align: top\">3</td>\n",
              "        <td style=\"padding-left: 1em; padding-right: 1em; text-align: center; vertical-align: top\">11.0</td>\n",
              "        <td style=\"padding-left: 1em; padding-right: 1em; text-align: center; vertical-align: top\">3890.0</td>\n",
              "        <td style=\"padding-left: 1em; padding-right: 1em; text-align: center; vertical-align: top\">1530.0</td>\n",
              "        <td style=\"padding-left: 1em; padding-right: 1em; text-align: center; vertical-align: top\">2001.0</td>\n",
              "        <td style=\"padding-left: 1em; padding-right: 1em; text-align: center; vertical-align: top\">0.0</td>\n",
              "        <td style=\"padding-left: 1em; padding-right: 1em; text-align: center; vertical-align: top\">98053</td>\n",
              "        <td style=\"padding-left: 1em; padding-right: 1em; text-align: center; vertical-align: top\">47.65611835</td>\n",
              "    </tr>\n",
              "    <tr>\n",
              "        <td style=\"padding-left: 1em; padding-right: 1em; text-align: center; vertical-align: top\">0</td>\n",
              "        <td style=\"padding-left: 1em; padding-right: 1em; text-align: center; vertical-align: top\">3</td>\n",
              "        <td style=\"padding-left: 1em; padding-right: 1em; text-align: center; vertical-align: top\">7.0</td>\n",
              "        <td style=\"padding-left: 1em; padding-right: 1em; text-align: center; vertical-align: top\">1715.0</td>\n",
              "        <td style=\"padding-left: 1em; padding-right: 1em; text-align: center; vertical-align: top\">0.0</td>\n",
              "        <td style=\"padding-left: 1em; padding-right: 1em; text-align: center; vertical-align: top\">1995.0</td>\n",
              "        <td style=\"padding-left: 1em; padding-right: 1em; text-align: center; vertical-align: top\">0.0</td>\n",
              "        <td style=\"padding-left: 1em; padding-right: 1em; text-align: center; vertical-align: top\">98003</td>\n",
              "        <td style=\"padding-left: 1em; padding-right: 1em; text-align: center; vertical-align: top\">47.30972002</td>\n",
              "    </tr>\n",
              "    <tr>\n",
              "        <td style=\"padding-left: 1em; padding-right: 1em; text-align: center; vertical-align: top\">0</td>\n",
              "        <td style=\"padding-left: 1em; padding-right: 1em; text-align: center; vertical-align: top\">3</td>\n",
              "        <td style=\"padding-left: 1em; padding-right: 1em; text-align: center; vertical-align: top\">7.0</td>\n",
              "        <td style=\"padding-left: 1em; padding-right: 1em; text-align: center; vertical-align: top\">1060.0</td>\n",
              "        <td style=\"padding-left: 1em; padding-right: 1em; text-align: center; vertical-align: top\">0.0</td>\n",
              "        <td style=\"padding-left: 1em; padding-right: 1em; text-align: center; vertical-align: top\">1963.0</td>\n",
              "        <td style=\"padding-left: 1em; padding-right: 1em; text-align: center; vertical-align: top\">0.0</td>\n",
              "        <td style=\"padding-left: 1em; padding-right: 1em; text-align: center; vertical-align: top\">98198</td>\n",
              "        <td style=\"padding-left: 1em; padding-right: 1em; text-align: center; vertical-align: top\">47.40949984</td>\n",
              "    </tr>\n",
              "    <tr>\n",
              "        <td style=\"padding-left: 1em; padding-right: 1em; text-align: center; vertical-align: top\">0</td>\n",
              "        <td style=\"padding-left: 1em; padding-right: 1em; text-align: center; vertical-align: top\">3</td>\n",
              "        <td style=\"padding-left: 1em; padding-right: 1em; text-align: center; vertical-align: top\">7.0</td>\n",
              "        <td style=\"padding-left: 1em; padding-right: 1em; text-align: center; vertical-align: top\">1050.0</td>\n",
              "        <td style=\"padding-left: 1em; padding-right: 1em; text-align: center; vertical-align: top\">730.0</td>\n",
              "        <td style=\"padding-left: 1em; padding-right: 1em; text-align: center; vertical-align: top\">1960.0</td>\n",
              "        <td style=\"padding-left: 1em; padding-right: 1em; text-align: center; vertical-align: top\">0.0</td>\n",
              "        <td style=\"padding-left: 1em; padding-right: 1em; text-align: center; vertical-align: top\">98146</td>\n",
              "        <td style=\"padding-left: 1em; padding-right: 1em; text-align: center; vertical-align: top\">47.51229381</td>\n",
              "    </tr>\n",
              "    <tr>\n",
              "        <td style=\"padding-left: 1em; padding-right: 1em; text-align: center; vertical-align: top\">0</td>\n",
              "        <td style=\"padding-left: 1em; padding-right: 1em; text-align: center; vertical-align: top\">3</td>\n",
              "        <td style=\"padding-left: 1em; padding-right: 1em; text-align: center; vertical-align: top\">7.0</td>\n",
              "        <td style=\"padding-left: 1em; padding-right: 1em; text-align: center; vertical-align: top\">1890.0</td>\n",
              "        <td style=\"padding-left: 1em; padding-right: 1em; text-align: center; vertical-align: top\">0.0</td>\n",
              "        <td style=\"padding-left: 1em; padding-right: 1em; text-align: center; vertical-align: top\">2003.0</td>\n",
              "        <td style=\"padding-left: 1em; padding-right: 1em; text-align: center; vertical-align: top\">0.0</td>\n",
              "        <td style=\"padding-left: 1em; padding-right: 1em; text-align: center; vertical-align: top\">98038</td>\n",
              "        <td style=\"padding-left: 1em; padding-right: 1em; text-align: center; vertical-align: top\">47.36840673</td>\n",
              "    </tr>\n",
              "</table>\n",
              "<table frame=\"box\" rules=\"cols\">\n",
              "    <tr>\n",
              "        <th style=\"padding-left: 1em; padding-right: 1em; text-align: center\">long</th>\n",
              "        <th style=\"padding-left: 1em; padding-right: 1em; text-align: center\">sqft_living15</th>\n",
              "        <th style=\"padding-left: 1em; padding-right: 1em; text-align: center\">sqft_lot15</th>\n",
              "    </tr>\n",
              "    <tr>\n",
              "        <td style=\"padding-left: 1em; padding-right: 1em; text-align: center; vertical-align: top\">-122.25677536</td>\n",
              "        <td style=\"padding-left: 1em; padding-right: 1em; text-align: center; vertical-align: top\">1340.0</td>\n",
              "        <td style=\"padding-left: 1em; padding-right: 1em; text-align: center; vertical-align: top\">5650.0</td>\n",
              "    </tr>\n",
              "    <tr>\n",
              "        <td style=\"padding-left: 1em; padding-right: 1em; text-align: center; vertical-align: top\">-122.3188624</td>\n",
              "        <td style=\"padding-left: 1em; padding-right: 1em; text-align: center; vertical-align: top\">1690.0</td>\n",
              "        <td style=\"padding-left: 1em; padding-right: 1em; text-align: center; vertical-align: top\">7639.0</td>\n",
              "    </tr>\n",
              "    <tr>\n",
              "        <td style=\"padding-left: 1em; padding-right: 1em; text-align: center; vertical-align: top\">-122.23319601</td>\n",
              "        <td style=\"padding-left: 1em; padding-right: 1em; text-align: center; vertical-align: top\">2720.0</td>\n",
              "        <td style=\"padding-left: 1em; padding-right: 1em; text-align: center; vertical-align: top\">8062.0</td>\n",
              "    </tr>\n",
              "    <tr>\n",
              "        <td style=\"padding-left: 1em; padding-right: 1em; text-align: center; vertical-align: top\">-122.39318505</td>\n",
              "        <td style=\"padding-left: 1em; padding-right: 1em; text-align: center; vertical-align: top\">1360.0</td>\n",
              "        <td style=\"padding-left: 1em; padding-right: 1em; text-align: center; vertical-align: top\">5000.0</td>\n",
              "    </tr>\n",
              "    <tr>\n",
              "        <td style=\"padding-left: 1em; padding-right: 1em; text-align: center; vertical-align: top\">-122.04490059</td>\n",
              "        <td style=\"padding-left: 1em; padding-right: 1em; text-align: center; vertical-align: top\">1800.0</td>\n",
              "        <td style=\"padding-left: 1em; padding-right: 1em; text-align: center; vertical-align: top\">7503.0</td>\n",
              "    </tr>\n",
              "    <tr>\n",
              "        <td style=\"padding-left: 1em; padding-right: 1em; text-align: center; vertical-align: top\">-122.00528655</td>\n",
              "        <td style=\"padding-left: 1em; padding-right: 1em; text-align: center; vertical-align: top\">4760.0</td>\n",
              "        <td style=\"padding-left: 1em; padding-right: 1em; text-align: center; vertical-align: top\">101930.0</td>\n",
              "    </tr>\n",
              "    <tr>\n",
              "        <td style=\"padding-left: 1em; padding-right: 1em; text-align: center; vertical-align: top\">-122.32704857</td>\n",
              "        <td style=\"padding-left: 1em; padding-right: 1em; text-align: center; vertical-align: top\">2238.0</td>\n",
              "        <td style=\"padding-left: 1em; padding-right: 1em; text-align: center; vertical-align: top\">6819.0</td>\n",
              "    </tr>\n",
              "    <tr>\n",
              "        <td style=\"padding-left: 1em; padding-right: 1em; text-align: center; vertical-align: top\">-122.31457273</td>\n",
              "        <td style=\"padding-left: 1em; padding-right: 1em; text-align: center; vertical-align: top\">1650.0</td>\n",
              "        <td style=\"padding-left: 1em; padding-right: 1em; text-align: center; vertical-align: top\">9711.0</td>\n",
              "    </tr>\n",
              "    <tr>\n",
              "        <td style=\"padding-left: 1em; padding-right: 1em; text-align: center; vertical-align: top\">-122.33659507</td>\n",
              "        <td style=\"padding-left: 1em; padding-right: 1em; text-align: center; vertical-align: top\">1780.0</td>\n",
              "        <td style=\"padding-left: 1em; padding-right: 1em; text-align: center; vertical-align: top\">8113.0</td>\n",
              "    </tr>\n",
              "    <tr>\n",
              "        <td style=\"padding-left: 1em; padding-right: 1em; text-align: center; vertical-align: top\">-122.0308176</td>\n",
              "        <td style=\"padding-left: 1em; padding-right: 1em; text-align: center; vertical-align: top\">2390.0</td>\n",
              "        <td style=\"padding-left: 1em; padding-right: 1em; text-align: center; vertical-align: top\">7570.0</td>\n",
              "    </tr>\n",
              "</table>\n",
              "[21613 rows x 21 columns]<br/>Note: Only the head of the SFrame is printed.<br/>You can use print_rows(num_rows=m, num_columns=n) to print more rows and columns.\n",
              "</div>"
            ]
          },
          "metadata": {
            "tags": []
          },
          "execution_count": 6
        }
      ]
    },
    {
      "cell_type": "markdown",
      "metadata": {
        "id": "rErJkZp1NM1n",
        "colab_type": "text"
      },
      "source": [
        "# Explore"
      ]
    },
    {
      "cell_type": "code",
      "metadata": {
        "id": "MJErsgmYNM1o",
        "colab_type": "code",
        "colab": {
          "base_uri": "https://localhost:8080/",
          "height": 1000
        },
        "outputId": "62779fd8-2d01-4c85-849a-9a57b56bf33f"
      },
      "source": [
        "sales.show()"
      ],
      "execution_count": null,
      "outputs": [
        {
          "output_type": "display_data",
          "data": {
            "text/plain": [
              "Materializing SFrame"
            ],
            "text/html": [
              "<pre>Materializing SFrame</pre>"
            ]
          },
          "metadata": {
            "tags": []
          }
        },
        {
          "output_type": "display_data",
          "data": {
            "text/plain": [
              "Warning: Skipping column 'date'. Unable to show columns of type 'datetime'; only [int, float, str] can be shown."
            ],
            "text/html": [
              "<pre>Warning: Skipping column 'date'. Unable to show columns of type 'datetime'; only [int, float, str] can be shown.</pre>"
            ]
          },
          "metadata": {
            "tags": []
          }
        },
        {
          "output_type": "display_data",
          "data": {
            "text/plain": [
              "Further warnings of unsupported type will be suppressed."
            ],
            "text/html": [
              "<pre>Further warnings of unsupported type will be suppressed.</pre>"
            ]
          },
          "metadata": {
            "tags": []
          }
        },
        {
          "output_type": "display_data",
          "data": {
            "text/plain": [
              "<IPython.core.display.HTML object>"
            ],
            "text/html": [
              "<html>                 <body>                     <iframe style=\"border:0;margin:0\" width=\"1000\" height=\"6300\" srcdoc='<html lang=\"en\">                         <head>                             <script src=\"https://cdnjs.cloudflare.com/ajax/libs/vega/5.4.0/vega.js\"></script>                             <script src=\"https://cdnjs.cloudflare.com/ajax/libs/vega-embed/4.0.0/vega-embed.js\"></script>                             <script src=\"https://cdnjs.cloudflare.com/ajax/libs/vega-tooltip/0.5.1/vega-tooltip.min.js\"></script>                             <link rel=\"stylesheet\" type=\"text/css\" href=\"https://cdnjs.cloudflare.com/ajax/libs/vega-tooltip/0.5.1/vega-tooltip.min.css\">                             <style>                             .vega-actions > a{                                 color:white;                                 text-decoration: none;                                 font-family: \"Arial\";                                 cursor:pointer;                                 padding:5px;                                 background:#AAAAAA;                                 border-radius:4px;                                 padding-left:10px;                                 padding-right:10px;                                 margin-right:5px;                             }                             .vega-actions{                                 margin-top:20px;                                 text-align:center                             }                            .vega-actions > a{                                 background:#999999;                            }                             </style>                         </head>                         <body>                             <div id=\"vis\">                             </div>                             <script>                                 var vega_json = \"{\\\"config\\\": {\\\"style\\\": {\\\"rect\\\": {\\\"stroke\\\": \\\"rgba(200, 200, 200, 0.5)\\\"}, \\\"group-title\\\": {\\\"fontWeight\\\": \\\"normal\\\", \\\"font\\\": \\\"HelveticaNeue-Light, Arial\\\", \\\"fontSize\\\": 20, \\\"fill\\\": \\\"#595959\\\"}}, \\\"axisY\\\": {\\\"minExtent\\\": 30}, \\\"axis\\\": {\\\"titlePadding\\\": 9, \\\"labelPadding\\\": 10, \\\"labelFont\\\": \\\"HelveticaNeue-Light, Arial\\\", \\\"labelFontSize\\\": 7, \\\"labelColor\\\": \\\"#595959\\\", \\\"titleFont\\\": \\\"HelveticaNeue-Light, Arial\\\", \\\"titleFontSize\\\": 12, \\\"titleColor\\\": \\\"#595959\\\", \\\"titleFontWeight\\\": \\\"normal\\\"}}, \\\"height\\\": 6080, \\\"padding\\\": 8, \\\"width\\\": 800, \\\"marks\\\": [{\\\"encode\\\": {\\\"enter\\\": {\\\"strokeWidth\\\": {\\\"value\\\": 0}, \\\"clip\\\": {\\\"value\\\": 0}, \\\"height\\\": {\\\"value\\\": 366}, \\\"width\\\": {\\\"value\\\": 734}, \\\"stroke\\\": {\\\"value\\\": \\\"#000000\\\"}, \\\"fillOpacity\\\": {\\\"value\\\": 0}, \\\"y\\\": {\\\"value\\\": 0}, \\\"x\\\": {\\\"value\\\": 0}, \\\"fill\\\": {\\\"value\\\": \\\"#ffffff\\\"}}}, \\\"type\\\": \\\"group\\\", \\\"marks\\\": [{\\\"encode\\\": {\\\"enter\\\": {\\\"strokeWidth\\\": {\\\"value\\\": 0}, \\\"clip\\\": {\\\"value\\\": 0}, \\\"height\\\": {\\\"value\\\": 366}, \\\"width\\\": {\\\"value\\\": 734}, \\\"stroke\\\": {\\\"value\\\": \\\"#000000\\\"}, \\\"fillOpacity\\\": {\\\"value\\\": 0}, \\\"y\\\": {\\\"value\\\": 0}, \\\"x\\\": {\\\"value\\\": 0}, \\\"fill\\\": {\\\"value\\\": \\\"#ffffff\\\"}}}, \\\"marks\\\": [{\\\"encode\\\": {\\\"update\\\": {\\\"y\\\": {\\\"field\\\": \\\"c_main_background\\\"}, \\\"x\\\": {\\\"signal\\\": \\\"datum[\\\\\\\"c_x_axis_back\\\\\\\"]\\\"}}, \\\"enter\\\": {\\\"strokeWidth\\\": {\\\"value\\\": 0.5}, \\\"height\\\": {\\\"value\\\": 250}, \\\"width\\\": {\\\"value\\\": 700}, \\\"stroke\\\": {\\\"value\\\": \\\"#DEDEDE\\\"}, \\\"fillOpacity\\\": {\\\"value\\\": 1}, \\\"y\\\": {\\\"value\\\": 66}, \\\"x\\\": {\\\"value\\\": 33}, \\\"fill\\\": {\\\"value\\\": \\\"#FEFEFE\\\"}}}, \\\"type\\\": \\\"rect\\\", \\\"from\\\": {\\\"data\\\": \\\"data_2\\\"}}, {\\\"encode\\\": {\\\"update\\\": {\\\"y\\\": {\\\"field\\\": \\\"c_top_bar\\\"}, \\\"x\\\": {\\\"signal\\\": \\\"datum[\\\\\\\"c_x_axis_back\\\\\\\"]\\\"}}, \\\"enter\\\": {\\\"strokeWidth\\\": {\\\"value\\\": 0.5}, \\\"height\\\": {\\\"value\\\": 30}, \\\"width\\\": {\\\"value\\\": 700}, \\\"stroke\\\": {\\\"value\\\": \\\"#DEDEDE\\\"}, \\\"fillOpacity\\\": {\\\"value\\\": 1}, \\\"y\\\": {\\\"value\\\": 43}, \\\"x\\\": {\\\"value\\\": 33}, \\\"fill\\\": {\\\"value\\\": \\\"#F5F5F5\\\"}}}, \\\"type\\\": \\\"rect\\\", \\\"from\\\": {\\\"data\\\": \\\"data_2\\\"}}, {\\\"encode\\\": {\\\"update\\\": {\\\"y\\\": {\\\"field\\\": \\\"c_top_type\\\"}, \\\"x\\\": {\\\"signal\\\": \\\"datum[\\\\\\\"c_x_axis_back\\\\\\\"]+687\\\"}}, \\\"enter\\\": {\\\"fontStyle\\\": {\\\"value\\\": \\\"normal\\\"}, \\\"angle\\\": {\\\"value\\\": 0}, \\\"baseline\\\": {\\\"value\\\": \\\"middle\\\"}, \\\"text\\\": {\\\"signal\\\": \\\"&apos;&apos;+datum[\\\\\\\"type\\\\\\\"]\\\"}, \\\"align\\\": {\\\"value\\\": \\\"right\\\"}, \\\"fontWeight\\\": {\\\"value\\\": \\\"normal\\\"}, \\\"fontSize\\\": {\\\"value\\\": 12}, \\\"dx\\\": {\\\"value\\\": 0, \\\"offset\\\": 0}, \\\"dy\\\": {\\\"value\\\": 0, \\\"offset\\\": 0}, \\\"y\\\": {\\\"value\\\": 58}, \\\"x\\\": {\\\"value\\\": 720}, \\\"font\\\": {\\\"value\\\": \\\"AvenirNext-Medium\\\"}, \\\"fill\\\": {\\\"value\\\": \\\"#595859\\\"}}}, \\\"type\\\": \\\"text\\\", \\\"from\\\": {\\\"data\\\": \\\"data_2\\\"}}, {\\\"encode\\\": {\\\"update\\\": {\\\"y\\\": {\\\"field\\\": \\\"c_top_title\\\"}, \\\"x\\\": {\\\"signal\\\": \\\"datum[\\\\\\\"c_x_axis_back\\\\\\\"]+11\\\"}}, \\\"enter\\\": {\\\"fontStyle\\\": {\\\"value\\\": \\\"normal\\\"}, \\\"angle\\\": {\\\"value\\\": 0}, \\\"baseline\\\": {\\\"value\\\": \\\"middle\\\"}, \\\"text\\\": {\\\"signal\\\": \\\"&apos;&apos;+datum[\\\\\\\"title\\\\\\\"]\\\"}, \\\"align\\\": {\\\"value\\\": \\\"left\\\"}, \\\"fontWeight\\\": {\\\"value\\\": \\\"normal\\\"}, \\\"fontSize\\\": {\\\"value\\\": 15}, \\\"dx\\\": {\\\"value\\\": 0, \\\"offset\\\": 0}, \\\"dy\\\": {\\\"value\\\": 0, \\\"offset\\\": 0}, \\\"y\\\": {\\\"value\\\": 59}, \\\"x\\\": {\\\"value\\\": 44}, \\\"font\\\": {\\\"value\\\": \\\"AvenirNext-Medium\\\"}, \\\"fill\\\": {\\\"value\\\": \\\"#9B9B9B\\\"}}}, \\\"type\\\": \\\"text\\\", \\\"from\\\": {\\\"data\\\": \\\"data_2\\\"}}, {\\\"encode\\\": {\\\"update\\\": {\\\"x2\\\": {\\\"signal\\\": \\\"datum[\\\\\\\"c_x_axis_back\\\\\\\"]+687\\\"}, \\\"x\\\": {\\\"signal\\\": \\\"datum[\\\\\\\"c_x_axis_back\\\\\\\"]+467\\\"}, \\\"y2\\\": {\\\"field\\\": \\\"c_rule\\\"}, \\\"y\\\": {\\\"field\\\": \\\"c_rule\\\"}}, \\\"enter\\\": {\\\"strokeWidth\\\": {\\\"value\\\": 1}, \\\"strokeCap\\\": {\\\"value\\\": \\\"butt\\\"}, \\\"x2\\\": {\\\"value\\\": 720}, \\\"stroke\\\": {\\\"value\\\": \\\"#EDEDEB\\\"}, \\\"y\\\": {\\\"value\\\": 178}, \\\"x\\\": {\\\"value\\\": 500}, \\\"y2\\\": {\\\"value\\\": 178}}}, \\\"type\\\": \\\"rule\\\", \\\"from\\\": {\\\"data\\\": \\\"data_2\\\"}}, {\\\"encode\\\": {\\\"update\\\": {\\\"y\\\": {\\\"field\\\": \\\"c_num_rows\\\"}, \\\"x\\\": {\\\"signal\\\": \\\"datum[\\\\\\\"c_x_axis_back\\\\\\\"]+467\\\"}}, \\\"enter\\\": {\\\"fontStyle\\\": {\\\"value\\\": \\\"normal\\\"}, \\\"angle\\\": {\\\"value\\\": 0}, \\\"baseline\\\": {\\\"value\\\": \\\"middle\\\"}, \\\"text\\\": {\\\"value\\\": \\\"Num. Rows:\\\"}, \\\"align\\\": {\\\"value\\\": \\\"left\\\"}, \\\"fontWeight\\\": {\\\"value\\\": \\\"normal\\\"}, \\\"fontSize\\\": {\\\"value\\\": 12}, \\\"dx\\\": {\\\"value\\\": 0, \\\"offset\\\": 0}, \\\"dy\\\": {\\\"value\\\": 0, \\\"offset\\\": 0}, \\\"y\\\": {\\\"value\\\": 106}, \\\"x\\\": {\\\"value\\\": 500}, \\\"font\\\": {\\\"value\\\": \\\"AvenirNext-Medium\\\"}, \\\"fill\\\": {\\\"value\\\": \\\"#4A4A4A\\\"}}}, \\\"type\\\": \\\"text\\\", \\\"from\\\": {\\\"data\\\": \\\"data_2\\\"}}, {\\\"encode\\\": {\\\"update\\\": {\\\"y\\\": {\\\"field\\\": \\\"c_num_unique\\\"}, \\\"x\\\": {\\\"signal\\\": \\\"datum[\\\\\\\"c_x_axis_back\\\\\\\"]+467\\\"}}, \\\"enter\\\": {\\\"fontStyle\\\": {\\\"value\\\": \\\"normal\\\"}, \\\"angle\\\": {\\\"value\\\": 0}, \\\"baseline\\\": {\\\"value\\\": \\\"middle\\\"}, \\\"text\\\": {\\\"value\\\": \\\"Num. Unique:\\\"}, \\\"align\\\": {\\\"value\\\": \\\"left\\\"}, \\\"fontWeight\\\": {\\\"value\\\": \\\"normal\\\"}, \\\"fontSize\\\": {\\\"value\\\": 12}, \\\"dx\\\": {\\\"value\\\": 0, \\\"offset\\\": 0}, \\\"dy\\\": {\\\"value\\\": 0, \\\"offset\\\": 0}, \\\"y\\\": {\\\"value\\\": 130}, \\\"x\\\": {\\\"value\\\": 500}, \\\"font\\\": {\\\"value\\\": \\\"AvenirNext-Medium\\\"}, \\\"fill\\\": {\\\"value\\\": \\\"#4A4A4A\\\"}}}, \\\"type\\\": \\\"text\\\", \\\"from\\\": {\\\"data\\\": \\\"data_2\\\"}}, {\\\"encode\\\": {\\\"update\\\": {\\\"y\\\": {\\\"field\\\": \\\"c_missing\\\"}, \\\"x\\\": {\\\"signal\\\": \\\"datum[\\\\\\\"c_x_axis_back\\\\\\\"]+467\\\"}}, \\\"enter\\\": {\\\"fontStyle\\\": {\\\"value\\\": \\\"normal\\\"}, \\\"angle\\\": {\\\"value\\\": 0}, \\\"baseline\\\": {\\\"value\\\": \\\"middle\\\"}, \\\"text\\\": {\\\"value\\\": \\\"Missing:\\\"}, \\\"align\\\": {\\\"value\\\": \\\"left\\\"}, \\\"fontWeight\\\": {\\\"value\\\": \\\"normal\\\"}, \\\"fontSize\\\": {\\\"value\\\": 12}, \\\"dx\\\": {\\\"value\\\": 0, \\\"offset\\\": 0}, \\\"dy\\\": {\\\"value\\\": 0, \\\"offset\\\": 0}, \\\"y\\\": {\\\"value\\\": 154}, \\\"x\\\": {\\\"value\\\": 500}, \\\"font\\\": {\\\"value\\\": \\\"AvenirNext-Medium\\\"}, \\\"fill\\\": {\\\"value\\\": \\\"#4A4A4A\\\"}}}, \\\"type\\\": \\\"text\\\", \\\"from\\\": {\\\"data\\\": \\\"data_2\\\"}}, {\\\"encode\\\": {\\\"update\\\": {\\\"y\\\": {\\\"field\\\": \\\"c_num_rows_val\\\"}, \\\"x\\\": {\\\"signal\\\": \\\"datum[\\\\\\\"c_x_axis_back\\\\\\\"]+667\\\"}}, \\\"enter\\\": {\\\"fontStyle\\\": {\\\"value\\\": \\\"normal\\\"}, \\\"angle\\\": {\\\"value\\\": 0}, \\\"baseline\\\": {\\\"value\\\": \\\"middle\\\"}, \\\"text\\\": {\\\"signal\\\": \\\"toString(format(datum[\\\\\\\"num_row\\\\\\\"], \\\\\\\",\\\\\\\"))\\\"}, \\\"align\\\": {\\\"value\\\": \\\"right\\\"}, \\\"fontWeight\\\": {\\\"value\\\": \\\"normal\\\"}, \\\"fontSize\\\": {\\\"value\\\": 12}, \\\"dx\\\": {\\\"value\\\": 0, \\\"offset\\\": 0}, \\\"dy\\\": {\\\"value\\\": 0, \\\"offset\\\": 0}, \\\"y\\\": {\\\"value\\\": 105}, \\\"x\\\": {\\\"value\\\": 700}, \\\"font\\\": {\\\"value\\\": \\\"AvenirNext-Medium\\\"}, \\\"fill\\\": {\\\"value\\\": \\\"#5A5A5A\\\"}}}, \\\"type\\\": \\\"text\\\", \\\"from\\\": {\\\"data\\\": \\\"data_2\\\"}}, {\\\"encode\\\": {\\\"update\\\": {\\\"y\\\": {\\\"field\\\": \\\"c_num_unique_val\\\"}, \\\"x\\\": {\\\"signal\\\": \\\"datum[\\\\\\\"c_x_axis_back\\\\\\\"]+667\\\"}}, \\\"enter\\\": {\\\"fontStyle\\\": {\\\"value\\\": \\\"normal\\\"}, \\\"angle\\\": {\\\"value\\\": 0}, \\\"baseline\\\": {\\\"value\\\": \\\"middle\\\"}, \\\"text\\\": {\\\"signal\\\": \\\"toString(format(datum[\\\\\\\"num_unique\\\\\\\"], \\\\\\\",\\\\\\\"))\\\"}, \\\"align\\\": {\\\"value\\\": \\\"right\\\"}, \\\"fontWeight\\\": {\\\"value\\\": \\\"normal\\\"}, \\\"fontSize\\\": {\\\"value\\\": 12}, \\\"dx\\\": {\\\"value\\\": 0, \\\"offset\\\": 0}, \\\"dy\\\": {\\\"value\\\": 0, \\\"offset\\\": 0}, \\\"y\\\": {\\\"value\\\": 130}, \\\"x\\\": {\\\"value\\\": 700}, \\\"font\\\": {\\\"value\\\": \\\"AvenirNext-Medium\\\"}, \\\"fill\\\": {\\\"value\\\": \\\"#5A5A5A\\\"}}}, \\\"type\\\": \\\"text\\\", \\\"from\\\": {\\\"data\\\": \\\"data_2\\\"}}, {\\\"encode\\\": {\\\"update\\\": {\\\"y\\\": {\\\"field\\\": \\\"c_missing_val\\\"}, \\\"x\\\": {\\\"signal\\\": \\\"datum[\\\\\\\"c_x_axis_back\\\\\\\"]+667\\\"}}, \\\"enter\\\": {\\\"fontStyle\\\": {\\\"value\\\": \\\"normal\\\"}, \\\"angle\\\": {\\\"value\\\": 0}, \\\"baseline\\\": {\\\"value\\\": \\\"middle\\\"}, \\\"text\\\": {\\\"signal\\\": \\\"toString(format(datum[\\\\\\\"num_missing\\\\\\\"], \\\\\\\",\\\\\\\"))\\\"}, \\\"align\\\": {\\\"value\\\": \\\"right\\\"}, \\\"fontWeight\\\": {\\\"value\\\": \\\"normal\\\"}, \\\"fontSize\\\": {\\\"value\\\": 12}, \\\"dx\\\": {\\\"value\\\": 0, \\\"offset\\\": 0}, \\\"dy\\\": {\\\"value\\\": 0, \\\"offset\\\": 0}, \\\"y\\\": {\\\"value\\\": 154}, \\\"x\\\": {\\\"value\\\": 700}, \\\"font\\\": {\\\"value\\\": \\\"AvenirNext-Medium\\\"}, \\\"fill\\\": {\\\"value\\\": \\\"#5A5A5A\\\"}}}, \\\"type\\\": \\\"text\\\", \\\"from\\\": {\\\"data\\\": \\\"data_2\\\"}}, {\\\"encode\\\": {\\\"update\\\": {\\\"y\\\": {\\\"field\\\": \\\"c_frequent_items\\\"}, \\\"x\\\": {\\\"signal\\\": \\\"datum[\\\\\\\"c_x_axis_back\\\\\\\"]+467\\\"}}, \\\"enter\\\": {\\\"fontStyle\\\": {\\\"value\\\": \\\"normal\\\"}, \\\"angle\\\": {\\\"value\\\": 0}, \\\"baseline\\\": {\\\"value\\\": \\\"middle\\\"}, \\\"clip\\\": {\\\"value\\\": true}, \\\"text\\\": {\\\"signal\\\": \\\"(toString(datum[\\\\\\\"type\\\\\\\"]) == \\\\\\\"str\\\\\\\")? \\\\\\\"Frequent Items\\\\\\\":\\\\\\\"\\\\\\\"\\\"}, \\\"align\\\": {\\\"value\\\": \\\"left\\\"}, \\\"fontWeight\\\": {\\\"value\\\": \\\"bold\\\"}, \\\"fontSize\\\": {\\\"value\\\": 11}, \\\"dx\\\": {\\\"value\\\": 0, \\\"offset\\\": 0}, \\\"dy\\\": {\\\"value\\\": 0, \\\"offset\\\": 0}, \\\"y\\\": {\\\"value\\\": 200}, \\\"x\\\": {\\\"value\\\": 500}, \\\"font\\\": {\\\"value\\\": \\\"AvenirNext-Medium\\\"}, \\\"fill\\\": {\\\"value\\\": \\\"#4A4A4A\\\"}}}, \\\"type\\\": \\\"text\\\", \\\"from\\\": {\\\"data\\\": \\\"data_2\\\"}}, {\\\"encode\\\": {\\\"update\\\": {\\\"y\\\": {\\\"field\\\": \\\"c_first_item\\\"}, \\\"x\\\": {\\\"signal\\\": \\\"datum[\\\\\\\"c_x_axis_back\\\\\\\"]+487\\\"}}, \\\"enter\\\": {\\\"fontStyle\\\": {\\\"value\\\": \\\"normal\\\"}, \\\"angle\\\": {\\\"value\\\": 0}, \\\"baseline\\\": {\\\"value\\\": \\\"middle\\\"}, \\\"clip\\\": {\\\"value\\\": true}, \\\"text\\\": {\\\"signal\\\": \\\"((datum[\\\\\\\"categorical\\\\\\\"].length >= 1) &amp;&amp; (toString(datum[\\\\\\\"type\\\\\\\"]) == \\\\\\\"str\\\\\\\"))? toString(datum[\\\\\\\"categorical\\\\\\\"][0][\\\\\\\"label\\\\\\\"]):\\\\\\\"\\\\\\\"\\\"}, \\\"align\\\": {\\\"value\\\": \\\"left\\\"}, \\\"fontWeight\\\": {\\\"value\\\": \\\"normal\\\"}, \\\"fontSize\\\": {\\\"value\\\": 11}, \\\"dx\\\": {\\\"value\\\": 0, \\\"offset\\\": 0}, \\\"dy\\\": {\\\"value\\\": 0, \\\"offset\\\": 0}, \\\"y\\\": {\\\"value\\\": 200}, \\\"x\\\": {\\\"value\\\": 520}, \\\"font\\\": {\\\"value\\\": \\\"AvenirNext-Medium\\\"}, \\\"fill\\\": {\\\"value\\\": \\\"#4A4A4A\\\"}}}, \\\"type\\\": \\\"text\\\", \\\"from\\\": {\\\"data\\\": \\\"data_2\\\"}}, {\\\"encode\\\": {\\\"update\\\": {\\\"y\\\": {\\\"field\\\": \\\"c_second_item\\\"}, \\\"x\\\": {\\\"signal\\\": \\\"datum[\\\\\\\"c_x_axis_back\\\\\\\"]+487\\\"}}, \\\"enter\\\": {\\\"fontStyle\\\": {\\\"value\\\": \\\"normal\\\"}, \\\"angle\\\": {\\\"value\\\": 0}, \\\"baseline\\\": {\\\"value\\\": \\\"middle\\\"}, \\\"clip\\\": {\\\"value\\\": true}, \\\"text\\\": {\\\"signal\\\": \\\"((datum[\\\\\\\"categorical\\\\\\\"].length >= 2) &amp;&amp; (toString(datum[\\\\\\\"type\\\\\\\"]) == \\\\\\\"str\\\\\\\"))? toString(datum[\\\\\\\"categorical\\\\\\\"][1][\\\\\\\"label\\\\\\\"]):\\\\\\\"\\\\\\\"\\\"}, \\\"align\\\": {\\\"value\\\": \\\"left\\\"}, \\\"fontWeight\\\": {\\\"value\\\": \\\"normal\\\"}, \\\"fontSize\\\": {\\\"value\\\": 11}, \\\"dx\\\": {\\\"value\\\": 0, \\\"offset\\\": 0}, \\\"dy\\\": {\\\"value\\\": 0, \\\"offset\\\": 0}, \\\"y\\\": {\\\"value\\\": 200}, \\\"x\\\": {\\\"value\\\": 520}, \\\"font\\\": {\\\"value\\\": \\\"AvenirNext-Medium\\\"}, \\\"fill\\\": {\\\"value\\\": \\\"#4A4A4A\\\"}}}, \\\"type\\\": \\\"text\\\", \\\"from\\\": {\\\"data\\\": \\\"data_2\\\"}}, {\\\"encode\\\": {\\\"update\\\": {\\\"y\\\": {\\\"field\\\": \\\"c_third_item\\\"}, \\\"x\\\": {\\\"signal\\\": \\\"datum[\\\\\\\"c_x_axis_back\\\\\\\"]+487\\\"}}, \\\"enter\\\": {\\\"fontStyle\\\": {\\\"value\\\": \\\"normal\\\"}, \\\"angle\\\": {\\\"value\\\": 0}, \\\"baseline\\\": {\\\"value\\\": \\\"middle\\\"}, \\\"clip\\\": {\\\"value\\\": true}, \\\"text\\\": {\\\"signal\\\": \\\"((datum[\\\\\\\"categorical\\\\\\\"].length >= 3) &amp;&amp; (toString(datum[\\\\\\\"type\\\\\\\"]) == \\\\\\\"str\\\\\\\"))? toString(datum[\\\\\\\"categorical\\\\\\\"][2][\\\\\\\"label\\\\\\\"]):\\\\\\\"\\\\\\\"\\\"}, \\\"align\\\": {\\\"value\\\": \\\"left\\\"}, \\\"fontWeight\\\": {\\\"value\\\": \\\"normal\\\"}, \\\"fontSize\\\": {\\\"value\\\": 11}, \\\"dx\\\": {\\\"value\\\": 0, \\\"offset\\\": 0}, \\\"dy\\\": {\\\"value\\\": 0, \\\"offset\\\": 0}, \\\"y\\\": {\\\"value\\\": 200}, \\\"x\\\": {\\\"value\\\": 520}, \\\"font\\\": {\\\"value\\\": \\\"AvenirNext-Medium\\\"}, \\\"fill\\\": {\\\"value\\\": \\\"#4A4A4A\\\"}}}, \\\"type\\\": \\\"text\\\", \\\"from\\\": {\\\"data\\\": \\\"data_2\\\"}}, {\\\"encode\\\": {\\\"update\\\": {\\\"y\\\": {\\\"field\\\": \\\"c_fourth_item\\\"}, \\\"x\\\": {\\\"signal\\\": \\\"datum[\\\\\\\"c_x_axis_back\\\\\\\"]+487\\\"}}, \\\"enter\\\": {\\\"fontStyle\\\": {\\\"value\\\": \\\"normal\\\"}, \\\"angle\\\": {\\\"value\\\": 0}, \\\"baseline\\\": {\\\"value\\\": \\\"middle\\\"}, \\\"clip\\\": {\\\"value\\\": true}, \\\"text\\\": {\\\"signal\\\": \\\"((datum[\\\\\\\"categorical\\\\\\\"].length >= 4) &amp;&amp; (toString(datum[\\\\\\\"type\\\\\\\"]) == \\\\\\\"str\\\\\\\"))? toString(datum[\\\\\\\"categorical\\\\\\\"][3][\\\\\\\"label\\\\\\\"]):\\\\\\\"\\\\\\\"\\\"}, \\\"align\\\": {\\\"value\\\": \\\"left\\\"}, \\\"fontWeight\\\": {\\\"value\\\": \\\"normal\\\"}, \\\"fontSize\\\": {\\\"value\\\": 11}, \\\"dx\\\": {\\\"value\\\": 0, \\\"offset\\\": 0}, \\\"dy\\\": {\\\"value\\\": 0, \\\"offset\\\": 0}, \\\"y\\\": {\\\"value\\\": 200}, \\\"x\\\": {\\\"value\\\": 520}, \\\"font\\\": {\\\"value\\\": \\\"AvenirNext-Medium\\\"}, \\\"fill\\\": {\\\"value\\\": \\\"#4A4A4A\\\"}}}, \\\"type\\\": \\\"text\\\", \\\"from\\\": {\\\"data\\\": \\\"data_2\\\"}}, {\\\"encode\\\": {\\\"update\\\": {\\\"y\\\": {\\\"field\\\": \\\"c_fifth_item\\\"}, \\\"x\\\": {\\\"signal\\\": \\\"datum[\\\\\\\"c_x_axis_back\\\\\\\"]+487\\\"}}, \\\"enter\\\": {\\\"fontStyle\\\": {\\\"value\\\": \\\"normal\\\"}, \\\"angle\\\": {\\\"value\\\": 0}, \\\"baseline\\\": {\\\"value\\\": \\\"middle\\\"}, \\\"clip\\\": {\\\"value\\\": true}, \\\"text\\\": {\\\"signal\\\": \\\"((datum[\\\\\\\"categorical\\\\\\\"].length >= 5) &amp;&amp; (toString(datum[\\\\\\\"type\\\\\\\"]) == \\\\\\\"str\\\\\\\"))? toString(datum[\\\\\\\"categorical\\\\\\\"][4][\\\\\\\"label\\\\\\\"]):\\\\\\\"\\\\\\\"\\\"}, \\\"align\\\": {\\\"value\\\": \\\"left\\\"}, \\\"fontWeight\\\": {\\\"value\\\": \\\"normal\\\"}, \\\"fontSize\\\": {\\\"value\\\": 11}, \\\"dx\\\": {\\\"value\\\": 0, \\\"offset\\\": 0}, \\\"dy\\\": {\\\"value\\\": 0, \\\"offset\\\": 0}, \\\"y\\\": {\\\"value\\\": 200}, \\\"x\\\": {\\\"value\\\": 520}, \\\"font\\\": {\\\"value\\\": \\\"AvenirNext-Medium\\\"}, \\\"fill\\\": {\\\"value\\\": \\\"#4A4A4A\\\"}}}, \\\"type\\\": \\\"text\\\", \\\"from\\\": {\\\"data\\\": \\\"data_2\\\"}}, {\\\"encode\\\": {\\\"update\\\": {\\\"y\\\": {\\\"field\\\": \\\"c_first_item\\\"}, \\\"x\\\": {\\\"signal\\\": \\\"datum[\\\\\\\"c_x_axis_back\\\\\\\"]+667\\\"}}, \\\"enter\\\": {\\\"fontStyle\\\": {\\\"value\\\": \\\"normal\\\"}, \\\"angle\\\": {\\\"value\\\": 0}, \\\"baseline\\\": {\\\"value\\\": \\\"middle\\\"}, \\\"clip\\\": {\\\"value\\\": true}, \\\"text\\\": {\\\"signal\\\": \\\"((datum[\\\\\\\"categorical\\\\\\\"].length >= 1) &amp;&amp; (toString(datum[\\\\\\\"type\\\\\\\"]) == \\\\\\\"str\\\\\\\"))? toString(datum[\\\\\\\"categorical\\\\\\\"][0][\\\\\\\"count\\\\\\\"]):\\\\\\\"\\\\\\\"\\\"}, \\\"align\\\": {\\\"value\\\": \\\"right\\\"}, \\\"fontWeight\\\": {\\\"value\\\": \\\"normal\\\"}, \\\"fontSize\\\": {\\\"value\\\": 11}, \\\"dx\\\": {\\\"value\\\": 0, \\\"offset\\\": 0}, \\\"dy\\\": {\\\"value\\\": 0, \\\"offset\\\": 0}, \\\"y\\\": {\\\"value\\\": 200}, \\\"x\\\": {\\\"value\\\": 700}, \\\"font\\\": {\\\"value\\\": \\\"AvenirNext-Medium\\\"}, \\\"fill\\\": {\\\"value\\\": \\\"#7A7A7A\\\"}}}, \\\"type\\\": \\\"text\\\", \\\"from\\\": {\\\"data\\\": \\\"data_2\\\"}}, {\\\"encode\\\": {\\\"update\\\": {\\\"y\\\": {\\\"field\\\": \\\"c_second_item\\\"}, \\\"x\\\": {\\\"signal\\\": \\\"datum[\\\\\\\"c_x_axis_back\\\\\\\"]+667\\\"}}, \\\"enter\\\": {\\\"fontStyle\\\": {\\\"value\\\": \\\"normal\\\"}, \\\"angle\\\": {\\\"value\\\": 0}, \\\"baseline\\\": {\\\"value\\\": \\\"middle\\\"}, \\\"clip\\\": {\\\"value\\\": true}, \\\"text\\\": {\\\"signal\\\": \\\"((datum[\\\\\\\"categorical\\\\\\\"].length >= 2) &amp;&amp; (toString(datum[\\\\\\\"type\\\\\\\"]) == \\\\\\\"str\\\\\\\"))? toString(datum[\\\\\\\"categorical\\\\\\\"][1][\\\\\\\"count\\\\\\\"]):\\\\\\\"\\\\\\\"\\\"}, \\\"align\\\": {\\\"value\\\": \\\"right\\\"}, \\\"fontWeight\\\": {\\\"value\\\": \\\"normal\\\"}, \\\"fontSize\\\": {\\\"value\\\": 10}, \\\"dx\\\": {\\\"value\\\": 0, \\\"offset\\\": 0}, \\\"dy\\\": {\\\"value\\\": 0, \\\"offset\\\": 0}, \\\"y\\\": {\\\"value\\\": 200}, \\\"x\\\": {\\\"value\\\": 700}, \\\"font\\\": {\\\"value\\\": \\\"AvenirNext-Medium\\\"}, \\\"fill\\\": {\\\"value\\\": \\\"#7A7A7A\\\"}}}, \\\"type\\\": \\\"text\\\", \\\"from\\\": {\\\"data\\\": \\\"data_2\\\"}}, {\\\"encode\\\": {\\\"update\\\": {\\\"y\\\": {\\\"field\\\": \\\"c_third_item\\\"}, \\\"x\\\": {\\\"signal\\\": \\\"datum[\\\\\\\"c_x_axis_back\\\\\\\"]+667\\\"}}, \\\"enter\\\": {\\\"fontStyle\\\": {\\\"value\\\": \\\"normal\\\"}, \\\"angle\\\": {\\\"value\\\": 0}, \\\"baseline\\\": {\\\"value\\\": \\\"middle\\\"}, \\\"clip\\\": {\\\"value\\\": true}, \\\"text\\\": {\\\"signal\\\": \\\"((datum[\\\\\\\"categorical\\\\\\\"].length >= 3) &amp;&amp; (toString(datum[\\\\\\\"type\\\\\\\"]) == \\\\\\\"str\\\\\\\"))? toString(datum[\\\\\\\"categorical\\\\\\\"][2][\\\\\\\"count\\\\\\\"]):\\\\\\\"\\\\\\\"\\\"}, \\\"align\\\": {\\\"value\\\": \\\"right\\\"}, \\\"fontWeight\\\": {\\\"value\\\": \\\"normal\\\"}, \\\"fontSize\\\": {\\\"value\\\": 10}, \\\"dx\\\": {\\\"value\\\": 0, \\\"offset\\\": 0}, \\\"dy\\\": {\\\"value\\\": 0, \\\"offset\\\": 0}, \\\"y\\\": {\\\"value\\\": 200}, \\\"x\\\": {\\\"value\\\": 700}, \\\"font\\\": {\\\"value\\\": \\\"AvenirNext-Medium\\\"}, \\\"fill\\\": {\\\"value\\\": \\\"#7A7A7A\\\"}}}, \\\"type\\\": \\\"text\\\", \\\"from\\\": {\\\"data\\\": \\\"data_2\\\"}}, {\\\"encode\\\": {\\\"update\\\": {\\\"y\\\": {\\\"field\\\": \\\"c_fourth_item\\\"}, \\\"x\\\": {\\\"signal\\\": \\\"datum[\\\\\\\"c_x_axis_back\\\\\\\"]+667\\\"}}, \\\"enter\\\": {\\\"fontStyle\\\": {\\\"value\\\": \\\"normal\\\"}, \\\"angle\\\": {\\\"value\\\": 0}, \\\"baseline\\\": {\\\"value\\\": \\\"middle\\\"}, \\\"clip\\\": {\\\"value\\\": true}, \\\"text\\\": {\\\"signal\\\": \\\"((datum[\\\\\\\"categorical\\\\\\\"].length >= 4) &amp;&amp; (toString(datum[\\\\\\\"type\\\\\\\"]) == \\\\\\\"str\\\\\\\"))? toString(datum[\\\\\\\"categorical\\\\\\\"][3][\\\\\\\"count\\\\\\\"]):\\\\\\\"\\\\\\\"\\\"}, \\\"align\\\": {\\\"value\\\": \\\"right\\\"}, \\\"fontWeight\\\": {\\\"value\\\": \\\"normal\\\"}, \\\"fontSize\\\": {\\\"value\\\": 10}, \\\"dx\\\": {\\\"value\\\": 0, \\\"offset\\\": 0}, \\\"dy\\\": {\\\"value\\\": 0, \\\"offset\\\": 0}, \\\"y\\\": {\\\"value\\\": 200}, \\\"x\\\": {\\\"value\\\": 700}, \\\"font\\\": {\\\"value\\\": \\\"AvenirNext-Medium\\\"}, \\\"fill\\\": {\\\"value\\\": \\\"#7A7A7A\\\"}}}, \\\"type\\\": \\\"text\\\", \\\"from\\\": {\\\"data\\\": \\\"data_2\\\"}}, {\\\"encode\\\": {\\\"update\\\": {\\\"y\\\": {\\\"field\\\": \\\"c_fifth_item\\\"}, \\\"x\\\": {\\\"signal\\\": \\\"datum[\\\\\\\"c_x_axis_back\\\\\\\"]+667\\\"}}, \\\"enter\\\": {\\\"fontStyle\\\": {\\\"value\\\": \\\"normal\\\"}, \\\"angle\\\": {\\\"value\\\": 0}, \\\"baseline\\\": {\\\"value\\\": \\\"middle\\\"}, \\\"clip\\\": {\\\"value\\\": true}, \\\"text\\\": {\\\"signal\\\": \\\"((datum[\\\\\\\"categorical\\\\\\\"].length >= 5) &amp;&amp; (toString(datum[\\\\\\\"type\\\\\\\"]) == \\\\\\\"str\\\\\\\"))? toString(datum[\\\\\\\"categorical\\\\\\\"][4][\\\\\\\"count\\\\\\\"]):\\\\\\\"\\\\\\\"\\\"}, \\\"align\\\": {\\\"value\\\": \\\"right\\\"}, \\\"fontWeight\\\": {\\\"value\\\": \\\"normal\\\"}, \\\"fontSize\\\": {\\\"value\\\": 10}, \\\"dx\\\": {\\\"value\\\": 0, \\\"offset\\\": 0}, \\\"dy\\\": {\\\"value\\\": 0, \\\"offset\\\": 0}, \\\"y\\\": {\\\"value\\\": 200}, \\\"x\\\": {\\\"value\\\": 700}, \\\"font\\\": {\\\"value\\\": \\\"AvenirNext-Medium\\\"}, \\\"fill\\\": {\\\"value\\\": \\\"#7A7A7A\\\"}}}, \\\"type\\\": \\\"text\\\", \\\"from\\\": {\\\"data\\\": \\\"data_2\\\"}}, {\\\"encode\\\": {\\\"update\\\": {\\\"y\\\": {\\\"field\\\": \\\"c_mean\\\"}, \\\"x\\\": {\\\"signal\\\": \\\"datum[\\\\\\\"c_x_axis_back\\\\\\\"]+467\\\"}}, \\\"enter\\\": {\\\"fontStyle\\\": {\\\"value\\\": \\\"normal\\\"}, \\\"angle\\\": {\\\"value\\\": 0}, \\\"baseline\\\": {\\\"value\\\": \\\"middle\\\"}, \\\"clip\\\": {\\\"value\\\": true}, \\\"text\\\": {\\\"signal\\\": \\\"(toString(datum[\\\\\\\"type\\\\\\\"]) == \\\\\\\"integer\\\\\\\" || toString(datum[\\\\\\\"type\\\\\\\"]) == \\\\\\\"float\\\\\\\")? \\\\\\\"Mean:\\\\\\\":\\\\\\\"\\\\\\\"\\\"}, \\\"align\\\": {\\\"value\\\": \\\"left\\\"}, \\\"fontWeight\\\": {\\\"value\\\": \\\"bold\\\"}, \\\"fontSize\\\": {\\\"value\\\": 11}, \\\"dx\\\": {\\\"value\\\": 0, \\\"offset\\\": 0}, \\\"dy\\\": {\\\"value\\\": 0, \\\"offset\\\": 0}, \\\"y\\\": {\\\"value\\\": 200}, \\\"x\\\": {\\\"value\\\": 500}, \\\"font\\\": {\\\"value\\\": \\\"AvenirNext-Medium\\\"}, \\\"fill\\\": {\\\"value\\\": \\\"#4A4A4A\\\"}}}, \\\"type\\\": \\\"text\\\", \\\"from\\\": {\\\"data\\\": \\\"data_2\\\"}}, {\\\"encode\\\": {\\\"update\\\": {\\\"y\\\": {\\\"field\\\": \\\"c_min\\\"}, \\\"x\\\": {\\\"signal\\\": \\\"datum[\\\\\\\"c_x_axis_back\\\\\\\"]+467\\\"}}, \\\"enter\\\": {\\\"fontStyle\\\": {\\\"value\\\": \\\"normal\\\"}, \\\"angle\\\": {\\\"value\\\": 0}, \\\"baseline\\\": {\\\"value\\\": \\\"middle\\\"}, \\\"text\\\": {\\\"signal\\\": \\\"(toString(datum[\\\\\\\"type\\\\\\\"]) == \\\\\\\"integer\\\\\\\" || toString(datum[\\\\\\\"type\\\\\\\"]) == \\\\\\\"float\\\\\\\")? \\\\\\\"Min:\\\\\\\":\\\\\\\"\\\\\\\"\\\"}, \\\"align\\\": {\\\"value\\\": \\\"left\\\"}, \\\"fontWeight\\\": {\\\"value\\\": \\\"bold\\\"}, \\\"fontSize\\\": {\\\"value\\\": 11}, \\\"dx\\\": {\\\"value\\\": 0, \\\"offset\\\": 0}, \\\"dy\\\": {\\\"value\\\": 0, \\\"offset\\\": 0}, \\\"y\\\": {\\\"value\\\": 220}, \\\"x\\\": {\\\"value\\\": 500}, \\\"font\\\": {\\\"value\\\": \\\"AvenirNext-Medium\\\"}, \\\"fill\\\": {\\\"value\\\": \\\"#4A4A4A\\\"}}}, \\\"type\\\": \\\"text\\\", \\\"from\\\": {\\\"data\\\": \\\"data_2\\\"}}, {\\\"encode\\\": {\\\"update\\\": {\\\"y\\\": {\\\"field\\\": \\\"c_max\\\"}, \\\"x\\\": {\\\"signal\\\": \\\"datum[\\\\\\\"c_x_axis_back\\\\\\\"]+467\\\"}}, \\\"enter\\\": {\\\"fontStyle\\\": {\\\"value\\\": \\\"normal\\\"}, \\\"angle\\\": {\\\"value\\\": 0}, \\\"baseline\\\": {\\\"value\\\": \\\"middle\\\"}, \\\"text\\\": {\\\"signal\\\": \\\"(toString(datum[\\\\\\\"type\\\\\\\"]) == \\\\\\\"integer\\\\\\\" || toString(datum[\\\\\\\"type\\\\\\\"]) == \\\\\\\"float\\\\\\\")? \\\\\\\"Max:\\\\\\\":\\\\\\\"\\\\\\\"\\\"}, \\\"align\\\": {\\\"value\\\": \\\"left\\\"}, \\\"fontWeight\\\": {\\\"value\\\": \\\"bold\\\"}, \\\"fontSize\\\": {\\\"value\\\": 11}, \\\"dx\\\": {\\\"value\\\": 0, \\\"offset\\\": 0}, \\\"dy\\\": {\\\"value\\\": 0, \\\"offset\\\": 0}, \\\"y\\\": {\\\"value\\\": 240}, \\\"x\\\": {\\\"value\\\": 500}, \\\"font\\\": {\\\"value\\\": \\\"AvenirNext-Medium\\\"}, \\\"fill\\\": {\\\"value\\\": \\\"#4A4A4A\\\"}}}, \\\"type\\\": \\\"text\\\", \\\"from\\\": {\\\"data\\\": \\\"data_2\\\"}}, {\\\"encode\\\": {\\\"update\\\": {\\\"y\\\": {\\\"field\\\": \\\"c_median\\\"}, \\\"x\\\": {\\\"signal\\\": \\\"datum[\\\\\\\"c_x_axis_back\\\\\\\"]+467\\\"}}, \\\"enter\\\": {\\\"fontStyle\\\": {\\\"value\\\": \\\"normal\\\"}, \\\"angle\\\": {\\\"value\\\": 0}, \\\"baseline\\\": {\\\"value\\\": \\\"middle\\\"}, \\\"text\\\": {\\\"signal\\\": \\\"(toString(datum[\\\\\\\"type\\\\\\\"]) == \\\\\\\"integer\\\\\\\" || toString(datum[\\\\\\\"type\\\\\\\"]) == \\\\\\\"float\\\\\\\")? \\\\\\\"Median:\\\\\\\":\\\\\\\"\\\\\\\"\\\"}, \\\"align\\\": {\\\"value\\\": \\\"left\\\"}, \\\"fontWeight\\\": {\\\"value\\\": \\\"bold\\\"}, \\\"fontSize\\\": {\\\"value\\\": 11}, \\\"dx\\\": {\\\"value\\\": 0, \\\"offset\\\": 0}, \\\"dy\\\": {\\\"value\\\": 0, \\\"offset\\\": 0}, \\\"y\\\": {\\\"value\\\": 260}, \\\"x\\\": {\\\"value\\\": 500}, \\\"font\\\": {\\\"value\\\": \\\"AvenirNext-Medium\\\"}, \\\"fill\\\": {\\\"value\\\": \\\"#4A4A4A\\\"}}}, \\\"type\\\": \\\"text\\\", \\\"from\\\": {\\\"data\\\": \\\"data_2\\\"}}, {\\\"encode\\\": {\\\"update\\\": {\\\"y\\\": {\\\"field\\\": \\\"c_stdev\\\"}, \\\"x\\\": {\\\"signal\\\": \\\"datum[\\\\\\\"c_x_axis_back\\\\\\\"]+467\\\"}}, \\\"enter\\\": {\\\"fontStyle\\\": {\\\"value\\\": \\\"normal\\\"}, \\\"angle\\\": {\\\"value\\\": 0}, \\\"baseline\\\": {\\\"value\\\": \\\"middle\\\"}, \\\"text\\\": {\\\"signal\\\": \\\"(toString(datum[\\\\\\\"type\\\\\\\"]) == \\\\\\\"integer\\\\\\\" || toString(datum[\\\\\\\"type\\\\\\\"]) == \\\\\\\"float\\\\\\\")? \\\\\\\"St. Dev:\\\\\\\":\\\\\\\"\\\\\\\"\\\"}, \\\"align\\\": {\\\"value\\\": \\\"left\\\"}, \\\"fontWeight\\\": {\\\"value\\\": \\\"bold\\\"}, \\\"fontSize\\\": {\\\"value\\\": 11}, \\\"dx\\\": {\\\"value\\\": 0, \\\"offset\\\": 0}, \\\"dy\\\": {\\\"value\\\": 0, \\\"offset\\\": 0}, \\\"y\\\": {\\\"value\\\": 280}, \\\"x\\\": {\\\"value\\\": 500}, \\\"font\\\": {\\\"value\\\": \\\"AvenirNext-Medium\\\"}, \\\"fill\\\": {\\\"value\\\": \\\"#4A4A4A\\\"}}}, \\\"type\\\": \\\"text\\\", \\\"from\\\": {\\\"data\\\": \\\"data_2\\\"}}, {\\\"encode\\\": {\\\"update\\\": {\\\"y\\\": {\\\"field\\\": \\\"c_mean_val\\\"}, \\\"x\\\": {\\\"signal\\\": \\\"datum[\\\\\\\"c_x_axis_back\\\\\\\"]+667\\\"}}, \\\"enter\\\": {\\\"fontStyle\\\": {\\\"value\\\": \\\"normal\\\"}, \\\"angle\\\": {\\\"value\\\": 0}, \\\"baseline\\\": {\\\"value\\\": \\\"middle\\\"}, \\\"text\\\": {\\\"signal\\\": \\\"(toString(datum[\\\\\\\"type\\\\\\\"]) == \\\\\\\"integer\\\\\\\" || toString(datum[\\\\\\\"type\\\\\\\"]) == \\\\\\\"float\\\\\\\")?toString(format(datum[\\\\\\\"mean\\\\\\\"], \\\\\\\",\\\\\\\")):\\\\\\\"\\\\\\\"\\\"}, \\\"align\\\": {\\\"value\\\": \\\"right\\\"}, \\\"fontWeight\\\": {\\\"value\\\": \\\"normal\\\"}, \\\"fontSize\\\": {\\\"value\\\": 10}, \\\"dx\\\": {\\\"value\\\": 0, \\\"offset\\\": 0}, \\\"dy\\\": {\\\"value\\\": 0, \\\"offset\\\": 0}, \\\"y\\\": {\\\"value\\\": 198}, \\\"x\\\": {\\\"value\\\": 700}, \\\"font\\\": {\\\"value\\\": \\\"AvenirNext-Medium\\\"}, \\\"fill\\\": {\\\"value\\\": \\\"#6A6A6A\\\"}}}, \\\"type\\\": \\\"text\\\", \\\"from\\\": {\\\"data\\\": \\\"data_2\\\"}}, {\\\"encode\\\": {\\\"update\\\": {\\\"y\\\": {\\\"field\\\": \\\"c_min_val\\\"}, \\\"x\\\": {\\\"signal\\\": \\\"datum[\\\\\\\"c_x_axis_back\\\\\\\"]+667\\\"}}, \\\"enter\\\": {\\\"fontStyle\\\": {\\\"value\\\": \\\"normal\\\"}, \\\"angle\\\": {\\\"value\\\": 0}, \\\"baseline\\\": {\\\"value\\\": \\\"middle\\\"}, \\\"text\\\": {\\\"signal\\\": \\\"(toString(datum[\\\\\\\"type\\\\\\\"]) == \\\\\\\"integer\\\\\\\" || toString(datum[\\\\\\\"type\\\\\\\"]) == \\\\\\\"float\\\\\\\")?toString(format(datum[\\\\\\\"min\\\\\\\"], \\\\\\\",\\\\\\\")):\\\\\\\"\\\\\\\"\\\"}, \\\"align\\\": {\\\"value\\\": \\\"right\\\"}, \\\"fontWeight\\\": {\\\"value\\\": \\\"normal\\\"}, \\\"fontSize\\\": {\\\"value\\\": 10}, \\\"dx\\\": {\\\"value\\\": 0, \\\"offset\\\": 0}, \\\"dy\\\": {\\\"value\\\": 0, \\\"offset\\\": 0}, \\\"y\\\": {\\\"value\\\": 218}, \\\"x\\\": {\\\"value\\\": 700}, \\\"font\\\": {\\\"value\\\": \\\"AvenirNext-Medium\\\"}, \\\"fill\\\": {\\\"value\\\": \\\"#6A6A6A\\\"}}}, \\\"type\\\": \\\"text\\\", \\\"from\\\": {\\\"data\\\": \\\"data_2\\\"}}, {\\\"encode\\\": {\\\"update\\\": {\\\"y\\\": {\\\"field\\\": \\\"c_max_val\\\"}, \\\"x\\\": {\\\"signal\\\": \\\"datum[\\\\\\\"c_x_axis_back\\\\\\\"]+667\\\"}}, \\\"enter\\\": {\\\"fontStyle\\\": {\\\"value\\\": \\\"normal\\\"}, \\\"angle\\\": {\\\"value\\\": 0}, \\\"baseline\\\": {\\\"value\\\": \\\"middle\\\"}, \\\"text\\\": {\\\"signal\\\": \\\"(toString(datum[\\\\\\\"type\\\\\\\"]) == \\\\\\\"integer\\\\\\\" || toString(datum[\\\\\\\"type\\\\\\\"]) == \\\\\\\"float\\\\\\\")?toString(format(datum[\\\\\\\"max\\\\\\\"], \\\\\\\",\\\\\\\")):\\\\\\\"\\\\\\\"\\\"}, \\\"align\\\": {\\\"value\\\": \\\"right\\\"}, \\\"fontWeight\\\": {\\\"value\\\": \\\"normal\\\"}, \\\"fontSize\\\": {\\\"value\\\": 10}, \\\"dx\\\": {\\\"value\\\": 0, \\\"offset\\\": 0}, \\\"dy\\\": {\\\"value\\\": 0, \\\"offset\\\": 0}, \\\"y\\\": {\\\"value\\\": 238}, \\\"x\\\": {\\\"value\\\": 700}, \\\"font\\\": {\\\"value\\\": \\\"AvenirNext-Medium\\\"}, \\\"fill\\\": {\\\"value\\\": \\\"#6A6A6A\\\"}}}, \\\"type\\\": \\\"text\\\", \\\"from\\\": {\\\"data\\\": \\\"data_2\\\"}}, {\\\"encode\\\": {\\\"update\\\": {\\\"y\\\": {\\\"field\\\": \\\"c_median_val\\\"}, \\\"x\\\": {\\\"signal\\\": \\\"datum[\\\\\\\"c_x_axis_back\\\\\\\"]+667\\\"}}, \\\"enter\\\": {\\\"fontStyle\\\": {\\\"value\\\": \\\"normal\\\"}, \\\"angle\\\": {\\\"value\\\": 0}, \\\"baseline\\\": {\\\"value\\\": \\\"middle\\\"}, \\\"text\\\": {\\\"signal\\\": \\\"(toString(datum[\\\\\\\"type\\\\\\\"]) == \\\\\\\"integer\\\\\\\" || toString(datum[\\\\\\\"type\\\\\\\"]) == \\\\\\\"float\\\\\\\")?toString(format(datum[\\\\\\\"median\\\\\\\"], \\\\\\\",\\\\\\\")):\\\\\\\"\\\\\\\"\\\"}, \\\"align\\\": {\\\"value\\\": \\\"right\\\"}, \\\"fontWeight\\\": {\\\"value\\\": \\\"normal\\\"}, \\\"fontSize\\\": {\\\"value\\\": 10}, \\\"dx\\\": {\\\"value\\\": 0, \\\"offset\\\": 0}, \\\"dy\\\": {\\\"value\\\": 0, \\\"offset\\\": 0}, \\\"y\\\": {\\\"value\\\": 258}, \\\"x\\\": {\\\"value\\\": 700}, \\\"font\\\": {\\\"value\\\": \\\"AvenirNext-Medium\\\"}, \\\"fill\\\": {\\\"value\\\": \\\"#6A6A6A\\\"}}}, \\\"type\\\": \\\"text\\\", \\\"from\\\": {\\\"data\\\": \\\"data_2\\\"}}, {\\\"encode\\\": {\\\"update\\\": {\\\"y\\\": {\\\"field\\\": \\\"c_stdev_val\\\"}, \\\"x\\\": {\\\"signal\\\": \\\"datum[\\\\\\\"c_x_axis_back\\\\\\\"]+667\\\"}}, \\\"enter\\\": {\\\"fontStyle\\\": {\\\"value\\\": \\\"normal\\\"}, \\\"angle\\\": {\\\"value\\\": 0}, \\\"baseline\\\": {\\\"value\\\": \\\"middle\\\"}, \\\"text\\\": {\\\"signal\\\": \\\"(toString(datum[\\\\\\\"type\\\\\\\"]) == \\\\\\\"integer\\\\\\\" || toString(datum[\\\\\\\"type\\\\\\\"]) == \\\\\\\"float\\\\\\\")?toString(format(datum[\\\\\\\"stdev\\\\\\\"], \\\\\\\",\\\\\\\")):\\\\\\\"\\\\\\\"\\\"}, \\\"align\\\": {\\\"value\\\": \\\"right\\\"}, \\\"fontWeight\\\": {\\\"value\\\": \\\"normal\\\"}, \\\"fontSize\\\": {\\\"value\\\": 10}, \\\"dx\\\": {\\\"value\\\": 0, \\\"offset\\\": 0}, \\\"dy\\\": {\\\"value\\\": 0, \\\"offset\\\": 0}, \\\"y\\\": {\\\"value\\\": 278}, \\\"x\\\": {\\\"value\\\": 700}, \\\"font\\\": {\\\"value\\\": \\\"AvenirNext-Medium\\\"}, \\\"fill\\\": {\\\"value\\\": \\\"#6A6A6A\\\"}}}, \\\"type\\\": \\\"text\\\", \\\"from\\\": {\\\"data\\\": \\\"data_2\\\"}}, {\\\"style\\\": \\\"cell\\\", \\\"from\\\": {\\\"facet\\\": {\\\"field\\\": \\\"numeric\\\", \\\"data\\\": \\\"data_2\\\", \\\"name\\\": \\\"new_data\\\"}}, \\\"scales\\\": [{\\\"domain\\\": {\\\"sort\\\": true, \\\"fields\\\": [\\\"left\\\", \\\"right\\\"], \\\"data\\\": \\\"new_data\\\"}, \\\"name\\\": \\\"x\\\", \\\"zero\\\": true, \\\"range\\\": [0, {\\\"signal\\\": \\\"width\\\"}], \\\"type\\\": \\\"linear\\\", \\\"nice\\\": true}, {\\\"domain\\\": {\\\"field\\\": \\\"count\\\", \\\"data\\\": \\\"new_data\\\"}, \\\"name\\\": \\\"y\\\", \\\"zero\\\": true, \\\"range\\\": [{\\\"signal\\\": \\\"height\\\"}, 0], \\\"type\\\": \\\"linear\\\", \\\"nice\\\": true}], \\\"axes\\\": [{\\\"scale\\\": \\\"x\\\", \\\"title\\\": \\\"Values\\\", \\\"tickCount\\\": {\\\"signal\\\": \\\"ceil(width/40)\\\"}, \\\"zindex\\\": 1, \\\"labelOverlap\\\": true, \\\"orient\\\": \\\"bottom\\\"}, {\\\"domain\\\": false, \\\"scale\\\": \\\"x\\\", \\\"ticks\\\": false, \\\"labels\\\": false, \\\"tickCount\\\": {\\\"signal\\\": \\\"ceil(width/40)\\\"}, \\\"zindex\\\": 0, \\\"grid\\\": true, \\\"minExtent\\\": 0, \\\"gridScale\\\": \\\"y\\\", \\\"orient\\\": \\\"bottom\\\", \\\"maxExtent\\\": 0}, {\\\"scale\\\": \\\"y\\\", \\\"title\\\": \\\"Count\\\", \\\"tickCount\\\": {\\\"signal\\\": \\\"ceil(height/40)\\\"}, \\\"zindex\\\": 1, \\\"labelOverlap\\\": true, \\\"orient\\\": \\\"left\\\"}, {\\\"domain\\\": false, \\\"scale\\\": \\\"y\\\", \\\"ticks\\\": false, \\\"labels\\\": false, \\\"tickCount\\\": {\\\"signal\\\": \\\"ceil(height/40)\\\"}, \\\"zindex\\\": 0, \\\"grid\\\": true, \\\"minExtent\\\": 0, \\\"gridScale\\\": \\\"x\\\", \\\"orient\\\": \\\"left\\\", \\\"maxExtent\\\": 0}], \\\"signals\\\": [{\\\"name\\\": \\\"width\\\", \\\"update\\\": \\\"250\\\"}, {\\\"name\\\": \\\"height\\\", \\\"update\\\": \\\"150\\\"}], \\\"marks\\\": [{\\\"encode\\\": {\\\"hover\\\": {\\\"fill\\\": {\\\"value\\\": \\\"#7EC2F3\\\"}}, \\\"update\\\": {\\\"x2\\\": {\\\"field\\\": \\\"right\\\", \\\"scale\\\": \\\"x\\\"}, \\\"x\\\": {\\\"field\\\": \\\"left\\\", \\\"scale\\\": \\\"x\\\"}, \\\"y2\\\": {\\\"scale\\\": \\\"y\\\", \\\"value\\\": 0}, \\\"y\\\": {\\\"field\\\": \\\"count\\\", \\\"scale\\\": \\\"y\\\"}, \\\"fill\\\": {\\\"value\\\": \\\"#108EE9\\\"}}}, \\\"from\\\": {\\\"data\\\": \\\"new_data\\\"}, \\\"style\\\": [\\\"rect\\\"], \\\"type\\\": \\\"rect\\\", \\\"name\\\": \\\"marks\\\"}], \\\"encode\\\": {\\\"update\\\": {\\\"x\\\": {\\\"signal\\\": \\\"datum[\\\\\\\"c_x_axis_back\\\\\\\"]+87\\\"}, \\\"clip\\\": {\\\"field\\\": \\\"c_clip_val\\\"}, \\\"width\\\": {\\\"field\\\": \\\"c_width_numeric_val\\\"}}, \\\"enter\\\": {\\\"strokeWidth\\\": {\\\"value\\\": 0}, \\\"height\\\": {\\\"value\\\": 150}, \\\"width\\\": {\\\"value\\\": 250}, \\\"stroke\\\": {\\\"value\\\": \\\"#000000\\\"}, \\\"fillOpacity\\\": {\\\"value\\\": 0}, \\\"y\\\": {\\\"field\\\": \\\"graph_offset\\\"}, \\\"x\\\": {\\\"value\\\": 120}, \\\"fill\\\": {\\\"value\\\": \\\"#ffffff\\\"}}}, \\\"type\\\": \\\"group\\\"}, {\\\"style\\\": \\\"cell\\\", \\\"from\\\": {\\\"facet\\\": {\\\"field\\\": \\\"categorical\\\", \\\"data\\\": \\\"data_2\\\", \\\"name\\\": \\\"data_5\\\"}}, \\\"scales\\\": [{\\\"domain\\\": {\\\"field\\\": \\\"count\\\", \\\"data\\\": \\\"data_5\\\"}, \\\"name\\\": \\\"x\\\", \\\"zero\\\": true, \\\"range\\\": [0, 250], \\\"type\\\": \\\"linear\\\", \\\"nice\\\": true}, {\\\"paddingInner\\\": 0.1, \\\"domain\\\": {\\\"sort\\\": {\\\"field\\\": \\\"label_idx\\\", \\\"order\\\": \\\"descending\\\", \\\"op\\\": \\\"mean\\\"}, \\\"field\\\": \\\"label\\\", \\\"data\\\": \\\"data_5\\\"}, \\\"name\\\": \\\"y\\\", \\\"paddingOuter\\\": 0.05, \\\"range\\\": [150, 0], \\\"type\\\": \\\"band\\\"}], \\\"axes\\\": [{\\\"scale\\\": \\\"x\\\", \\\"title\\\": \\\"Count\\\", \\\"tickCount\\\": {\\\"signal\\\": \\\"ceil(width/40)\\\"}, \\\"zindex\\\": 1, \\\"labelOverlap\\\": true, \\\"orient\\\": \\\"top\\\"}, {\\\"domain\\\": false, \\\"scale\\\": \\\"x\\\", \\\"ticks\\\": false, \\\"labels\\\": false, \\\"tickCount\\\": {\\\"signal\\\": \\\"ceil(width/40)\\\"}, \\\"zindex\\\": 0, \\\"grid\\\": true, \\\"minExtent\\\": 0, \\\"gridScale\\\": \\\"y\\\", \\\"orient\\\": \\\"top\\\", \\\"maxExtent\\\": 0}, {\\\"zindex\\\": 1, \\\"title\\\": \\\"Label\\\", \\\"scale\\\": \\\"y\\\", \\\"orient\\\": \\\"left\\\", \\\"labelOverlap\\\": true}], \\\"signals\\\": [{\\\"on\\\": [{\\\"events\\\": \\\"mousemove\\\", \\\"update\\\": \\\"isTuple(group()) ? group() : unit\\\"}], \\\"name\\\": \\\"unit\\\", \\\"value\\\": {}}, {\\\"name\\\": \\\"pts\\\", \\\"update\\\": \\\"data(\\\\\\\"pts_store\\\\\\\").length &amp;&amp; {count: data(\\\\\\\"pts_store\\\\\\\")[0].values[0]}\\\"}, {\\\"on\\\": [{\\\"force\\\": true, \\\"events\\\": [{\\\"source\\\": \\\"scope\\\", \\\"type\\\": \\\"click\\\"}], \\\"update\\\": \\\"datum &amp;&amp; item().mark.marktype !== &apos;group&apos; ? {unit: \\\\\\\"\\\\\\\", encodings: [\\\\\\\"x\\\\\\\"], fields: [\\\\\\\"count\\\\\\\"], values: [datum[\\\\\\\"count\\\\\\\"]]} : null\\\"}], \\\"name\\\": \\\"pts_tuple\\\", \\\"value\\\": {}}, {\\\"on\\\": [{\\\"events\\\": {\\\"signal\\\": \\\"pts_tuple\\\"}, \\\"update\\\": \\\"modify(\\\\\\\"pts_store\\\\\\\", pts_tuple, true)\\\"}], \\\"name\\\": \\\"pts_modify\\\"}], \\\"marks\\\": [{\\\"encode\\\": {\\\"hover\\\": {\\\"fill\\\": {\\\"value\\\": \\\"#7EC2F3\\\"}}, \\\"update\\\": {\\\"x2\\\": {\\\"scale\\\": \\\"x\\\", \\\"value\\\": 0}, \\\"x\\\": {\\\"field\\\": \\\"count\\\", \\\"scale\\\": \\\"x\\\"}, \\\"fill\\\": {\\\"value\\\": \\\"#108EE9\\\"}, \\\"y\\\": {\\\"field\\\": \\\"label\\\", \\\"scale\\\": \\\"y\\\"}, \\\"height\\\": {\\\"band\\\": true, \\\"scale\\\": \\\"y\\\"}}}, \\\"from\\\": {\\\"data\\\": \\\"data_5\\\"}, \\\"style\\\": [\\\"bar\\\"], \\\"type\\\": \\\"rect\\\", \\\"name\\\": \\\"marks\\\"}], \\\"encode\\\": {\\\"update\\\": {\\\"x\\\": {\\\"signal\\\": \\\"datum[\\\\\\\"c_x_axis_back\\\\\\\"]+137\\\"}, \\\"clip\\\": {\\\"field\\\": \\\"c_clip_val_cat\\\"}, \\\"width\\\": {\\\"field\\\": \\\"c_width_numeric_val_cat\\\"}}, \\\"enter\\\": {\\\"strokeWidth\\\": {\\\"value\\\": 0}, \\\"height\\\": {\\\"value\\\": 150}, \\\"width\\\": {\\\"value\\\": 250}, \\\"stroke\\\": {\\\"value\\\": \\\"#000000\\\"}, \\\"fillOpacity\\\": {\\\"value\\\": 0}, \\\"y\\\": {\\\"field\\\": \\\"graph_offset_categorical\\\"}, \\\"x\\\": {\\\"value\\\": 170}, \\\"fill\\\": {\\\"value\\\": \\\"#ffffff\\\"}}}, \\\"type\\\": \\\"group\\\"}], \\\"axes\\\": [], \\\"type\\\": \\\"group\\\", \\\"scales\\\": []}]}], \\\"$schema\\\": \\\"https://vega.github.io/schema/vega/v4.json\\\", \\\"data\\\": [{\\\"name\\\": \\\"pts_store\\\"}, {\\\"values\\\": [{\\\"a\\\": 0, \\\"num_row\\\": 21613, \\\"title\\\": \\\"id\\\", \\\"categorical\\\": [{\\\"count\\\": 3, \\\"percentage\\\": \\\"0.0138805%\\\", \\\"label_idx\\\": 0, \\\"label\\\": \\\"0795000620\\\"}, {\\\"count\\\": 2, \\\"percentage\\\": \\\"0.00925369%\\\", \\\"label_idx\\\": 1, \\\"label\\\": \\\"0001000102\\\"}, {\\\"count\\\": 2, \\\"percentage\\\": \\\"0.00925369%\\\", \\\"label_idx\\\": 2, \\\"label\\\": \\\"0007200179\\\"}, {\\\"count\\\": 2, \\\"percentage\\\": \\\"0.00925369%\\\", \\\"label_idx\\\": 3, \\\"label\\\": \\\"0109200390\\\"}, {\\\"count\\\": 2, \\\"percentage\\\": \\\"0.00925369%\\\", \\\"label_idx\\\": 4, \\\"label\\\": \\\"0123039336\\\"}, {\\\"count\\\": 2, \\\"percentage\\\": \\\"0.00925369%\\\", \\\"label_idx\\\": 5, \\\"label\\\": \\\"0251300110\\\"}, {\\\"count\\\": 2, \\\"percentage\\\": \\\"0.00925369%\\\", \\\"label_idx\\\": 6, \\\"label\\\": \\\"0302000375\\\"}, {\\\"count\\\": 2, \\\"percentage\\\": \\\"0.00925369%\\\", \\\"label_idx\\\": 7, \\\"label\\\": \\\"0324000530\\\"}, {\\\"count\\\": 2, \\\"percentage\\\": \\\"0.00925369%\\\", \\\"label_idx\\\": 8, \\\"label\\\": \\\"0526059224\\\"}, {\\\"count\\\": 2, \\\"percentage\\\": \\\"0.00925369%\\\", \\\"label_idx\\\": 9, \\\"label\\\": \\\"0641900050\\\"}, {\\\"count\\\": 21592, \\\"percentage\\\": \\\"99.9028%\\\", \\\"label_idx\\\": 10, \\\"label\\\": \\\"Other (21426 labels)\\\"}], \\\"num_missing\\\": 0, \\\"num_unique\\\": 21436, \\\"numeric\\\": [], \\\"type\\\": \\\"str\\\"}, {\\\"a\\\": 1, \\\"num_row\\\": 21613, \\\"title\\\": \\\"price\\\", \\\"max\\\": 7700000.0, \\\"min\\\": 75000.0, \\\"median\\\": 450000.0, \\\"num_missing\\\": 0, \\\"num_unique\\\": 4032, \\\"categorical\\\": [], \\\"numeric\\\": [{\\\"count\\\": 9578, \\\"right\\\": 420411, \\\"left\\\": 36033.2}, {\\\"count\\\": 9110, \\\"right\\\": 804788, \\\"left\\\": 420411}, {\\\"count\\\": 1897, \\\"right\\\": 1189170.0, \\\"left\\\": 804788}, {\\\"count\\\": 561, \\\"right\\\": 1573540.0, \\\"left\\\": 1189170.0}, {\\\"count\\\": 248, \\\"right\\\": 1957920.0, \\\"left\\\": 1573540.0}, {\\\"count\\\": 88, \\\"right\\\": 2342300.0, \\\"left\\\": 1957920.0}, {\\\"count\\\": 60, \\\"right\\\": 2726680.0, \\\"left\\\": 2342300.0}, {\\\"count\\\": 32, \\\"right\\\": 3111050.0, \\\"left\\\": 2726680.0}, {\\\"count\\\": 17, \\\"right\\\": 3495430.0, \\\"left\\\": 3111050.0}, {\\\"count\\\": 10, \\\"right\\\": 3879810.0, \\\"left\\\": 3495430.0}, {\\\"count\\\": 2, \\\"right\\\": 4264190.0, \\\"left\\\": 3879810.0}, {\\\"count\\\": 2, \\\"right\\\": 4648560.0, \\\"left\\\": 4264190.0}, {\\\"count\\\": 1, \\\"right\\\": 5032940.0, \\\"left\\\": 4648560.0}, {\\\"count\\\": 3, \\\"right\\\": 5417320.0, \\\"left\\\": 5032940.0}, {\\\"count\\\": 1, \\\"right\\\": 5801700.0, \\\"left\\\": 5417320.0}, {\\\"count\\\": 0, \\\"right\\\": 6186070.0, \\\"left\\\": 5801700.0}, {\\\"count\\\": 0, \\\"right\\\": 6570450.0, \\\"left\\\": 6186070.0}, {\\\"count\\\": 1, \\\"right\\\": 6954830.0, \\\"left\\\": 6570450.0}, {\\\"count\\\": 1, \\\"right\\\": 7339210.0, \\\"left\\\": 6954830.0}, {\\\"count\\\": 1, \\\"right\\\": 7723590.0, \\\"left\\\": 7339210.0}, {\\\"start\\\": 36033.2, \\\"step\\\": 384378, \\\"stop\\\": 7723590.0}], \\\"stdev\\\": 367118.702667, \\\"type\\\": \\\"float\\\", \\\"mean\\\": 540088.141905}, {\\\"a\\\": 2, \\\"num_row\\\": 21613, \\\"title\\\": \\\"bedrooms\\\", \\\"max\\\": 33.0, \\\"min\\\": 0.0, \\\"median\\\": 3.0, \\\"num_missing\\\": 0, \\\"num_unique\\\": 13, \\\"categorical\\\": [], \\\"numeric\\\": [{\\\"count\\\": 212, \\\"right\\\": 1.60188, \\\"left\\\": -0.057}, {\\\"count\\\": 12584, \\\"right\\\": 3.26076, \\\"left\\\": 1.60188}, {\\\"count\\\": 6882, \\\"right\\\": 4.91964, \\\"left\\\": 3.26076}, {\\\"count\\\": 1873, \\\"right\\\": 6.57852, \\\"left\\\": 4.91964}, {\\\"count\\\": 51, \\\"right\\\": 8.2374, \\\"left\\\": 6.57852}, {\\\"count\\\": 6, \\\"right\\\": 9.89628, \\\"left\\\": 8.2374}, {\\\"count\\\": 4, \\\"right\\\": 11.5552, \\\"left\\\": 9.89628}, {\\\"count\\\": 0, \\\"right\\\": 13.214, \\\"left\\\": 11.5552}, {\\\"count\\\": 0, \\\"right\\\": 14.8729, \\\"left\\\": 13.214}, {\\\"count\\\": 0, \\\"right\\\": 16.5318, \\\"left\\\": 14.8729}, {\\\"count\\\": 0, \\\"right\\\": 18.1907, \\\"left\\\": 16.5318}, {\\\"count\\\": 0, \\\"right\\\": 19.8496, \\\"left\\\": 18.1907}, {\\\"count\\\": 0, \\\"right\\\": 21.5084, \\\"left\\\": 19.8496}, {\\\"count\\\": 0, \\\"right\\\": 23.1673, \\\"left\\\": 21.5084}, {\\\"count\\\": 0, \\\"right\\\": 24.8262, \\\"left\\\": 23.1673}, {\\\"count\\\": 0, \\\"right\\\": 26.4851, \\\"left\\\": 24.8262}, {\\\"count\\\": 0, \\\"right\\\": 28.144, \\\"left\\\": 26.4851}, {\\\"count\\\": 0, \\\"right\\\": 29.8028, \\\"left\\\": 28.144}, {\\\"count\\\": 0, \\\"right\\\": 31.4617, \\\"left\\\": 29.8028}, {\\\"count\\\": 1, \\\"right\\\": 33.1206, \\\"left\\\": 31.4617}, {\\\"start\\\": -0.057, \\\"step\\\": 1.65888, \\\"stop\\\": 33.1206}], \\\"stdev\\\": 0.93004, \\\"type\\\": \\\"float\\\", \\\"mean\\\": 3.370842}, {\\\"a\\\": 3, \\\"num_row\\\": 21613, \\\"title\\\": \\\"bathrooms\\\", \\\"max\\\": 8.0, \\\"min\\\": 0.0, \\\"median\\\": 2.25, \\\"num_missing\\\": 0, \\\"num_unique\\\": 30, \\\"categorical\\\": [], \\\"numeric\\\": [{\\\"count\\\": 10, \\\"right\\\": 0.225, \\\"left\\\": -0.195}, {\\\"count\\\": 4, \\\"right\\\": 0.645, \\\"left\\\": 0.225}, {\\\"count\\\": 3924, \\\"right\\\": 1.065, \\\"left\\\": 0.645}, {\\\"count\\\": 9, \\\"right\\\": 1.485, \\\"left\\\": 1.065}, {\\\"count\\\": 4494, \\\"right\\\": 1.905, \\\"left\\\": 1.485}, {\\\"count\\\": 3977, \\\"right\\\": 2.325, \\\"left\\\": 1.905}, {\\\"count\\\": 5380, \\\"right\\\": 2.745, \\\"left\\\": 2.325}, {\\\"count\\\": 1938, \\\"right\\\": 3.165, \\\"left\\\": 2.745}, {\\\"count\\\": 1320, \\\"right\\\": 3.585, \\\"left\\\": 3.165}, {\\\"count\\\": 291, \\\"right\\\": 4.005, \\\"left\\\": 3.585}, {\\\"count\\\": 79, \\\"right\\\": 4.425, \\\"left\\\": 4.005}, {\\\"count\\\": 123, \\\"right\\\": 4.845, \\\"left\\\": 4.425}, {\\\"count\\\": 34, \\\"right\\\": 5.265, \\\"left\\\": 4.845}, {\\\"count\\\": 10, \\\"right\\\": 5.685, \\\"left\\\": 5.265}, {\\\"count\\\": 10, \\\"right\\\": 6.105, \\\"left\\\": 5.685}, {\\\"count\\\": 4, \\\"right\\\": 6.525, \\\"left\\\": 6.105}, {\\\"count\\\": 2, \\\"right\\\": 6.945, \\\"left\\\": 6.525}, {\\\"count\\\": 0, \\\"right\\\": 7.365, \\\"left\\\": 6.945}, {\\\"count\\\": 2, \\\"right\\\": 7.785, \\\"left\\\": 7.365}, {\\\"count\\\": 2, \\\"right\\\": 8.205, \\\"left\\\": 7.785}, {\\\"start\\\": -0.195, \\\"step\\\": 0.42, \\\"stop\\\": 8.205}], \\\"stdev\\\": 0.770145, \\\"type\\\": \\\"float\\\", \\\"mean\\\": 2.114757}, {\\\"a\\\": 4, \\\"num_row\\\": 21613, \\\"title\\\": \\\"sqft_living\\\", \\\"max\\\": 13540.0, \\\"min\\\": 290.0, \\\"median\\\": 1910.0, \\\"num_missing\\\": 0, \\\"num_unique\\\": 1038, \\\"categorical\\\": [], \\\"numeric\\\": [{\\\"count\\\": 1133, \\\"right\\\": 940.92, \\\"left\\\": 273.72}, {\\\"count\\\": 6322, \\\"right\\\": 1608.12, \\\"left\\\": 940.92}, {\\\"count\\\": 6718, \\\"right\\\": 2275.32, \\\"left\\\": 1608.12}, {\\\"count\\\": 4111, \\\"right\\\": 2942.52, \\\"left\\\": 2275.32}, {\\\"count\\\": 1991, \\\"right\\\": 3609.72, \\\"left\\\": 2942.52}, {\\\"count\\\": 800, \\\"right\\\": 4276.92, \\\"left\\\": 3609.72}, {\\\"count\\\": 318, \\\"right\\\": 4944.12, \\\"left\\\": 4276.92}, {\\\"count\\\": 115, \\\"right\\\": 5611.32, \\\"left\\\": 4944.12}, {\\\"count\\\": 52, \\\"right\\\": 6278.52, \\\"left\\\": 5611.32}, {\\\"count\\\": 23, \\\"right\\\": 6945.72, \\\"left\\\": 6278.52}, {\\\"count\\\": 15, \\\"right\\\": 7612.92, \\\"left\\\": 6945.72}, {\\\"count\\\": 8, \\\"right\\\": 8280.12, \\\"left\\\": 7612.92}, {\\\"count\\\": 1, \\\"right\\\": 8947.32, \\\"left\\\": 8280.12}, {\\\"count\\\": 1, \\\"right\\\": 9614.52, \\\"left\\\": 8947.32}, {\\\"count\\\": 3, \\\"right\\\": 10281.7, \\\"left\\\": 9614.52}, {\\\"count\\\": 0, \\\"right\\\": 10948.9, \\\"left\\\": 10281.7}, {\\\"count\\\": 0, \\\"right\\\": 11616.1, \\\"left\\\": 10948.9}, {\\\"count\\\": 1, \\\"right\\\": 12283.3, \\\"left\\\": 11616.1}, {\\\"count\\\": 0, \\\"right\\\": 12950.5, \\\"left\\\": 12283.3}, {\\\"count\\\": 1, \\\"right\\\": 13617.7, \\\"left\\\": 12950.5}, {\\\"start\\\": 273.72, \\\"step\\\": 667.2, \\\"stop\\\": 13617.7}], \\\"stdev\\\": 918.419649, \\\"type\\\": \\\"float\\\", \\\"mean\\\": 2079.899736}, {\\\"a\\\": 5, \\\"num_row\\\": 21613, \\\"title\\\": \\\"sqft_lot\\\", \\\"max\\\": 1651359.0, \\\"min\\\": 520.0, \\\"median\\\": 7620.0, \\\"num_missing\\\": 0, \\\"num_unique\\\": 9782, \\\"categorical\\\": [], \\\"numeric\\\": [{\\\"count\\\": 20944, \\\"right\\\": 65133.5, \\\"left\\\": -19637.3}, {\\\"count\\\": 337, \\\"right\\\": 149904, \\\"left\\\": 65133.5}, {\\\"count\\\": 210, \\\"right\\\": 234675, \\\"left\\\": 149904}, {\\\"count\\\": 56, \\\"right\\\": 319446, \\\"left\\\": 234675}, {\\\"count\\\": 25, \\\"right\\\": 404217, \\\"left\\\": 319446}, {\\\"count\\\": 18, \\\"right\\\": 488988, \\\"left\\\": 404217}, {\\\"count\\\": 8, \\\"right\\\": 573758, \\\"left\\\": 488988}, {\\\"count\\\": 3, \\\"right\\\": 658529, \\\"left\\\": 573758}, {\\\"count\\\": 1, \\\"right\\\": 743300, \\\"left\\\": 658529}, {\\\"count\\\": 0, \\\"right\\\": 828071, \\\"left\\\": 743300}, {\\\"count\\\": 4, \\\"right\\\": 912842, \\\"left\\\": 828071}, {\\\"count\\\": 3, \\\"right\\\": 997612, \\\"left\\\": 912842}, {\\\"count\\\": 2, \\\"right\\\": 1082380.0, \\\"left\\\": 997612}, {\\\"count\\\": 1, \\\"right\\\": 1167150.0, \\\"left\\\": 1082380.0}, {\\\"count\\\": 0, \\\"right\\\": 1251920.0, \\\"left\\\": 1167150.0}, {\\\"count\\\": 0, \\\"right\\\": 1336700.0, \\\"left\\\": 1251920.0}, {\\\"count\\\": 0, \\\"right\\\": 1421470.0, \\\"left\\\": 1336700.0}, {\\\"count\\\": 0, \\\"right\\\": 1506240.0, \\\"left\\\": 1421470.0}, {\\\"count\\\": 0, \\\"right\\\": 1591010.0, \\\"left\\\": 1506240.0}, {\\\"count\\\": 1, \\\"right\\\": 1675780.0, \\\"left\\\": 1591010.0}, {\\\"start\\\": -19637.3, \\\"step\\\": 84770.8, \\\"stop\\\": 1675780.0}], \\\"stdev\\\": 41419.553273, \\\"type\\\": \\\"float\\\", \\\"mean\\\": 15106.967566}, {\\\"a\\\": 6, \\\"num_row\\\": 21613, \\\"title\\\": \\\"floors\\\", \\\"max\\\": 3.5, \\\"min\\\": 1.0, \\\"median\\\": 1.5, \\\"num_missing\\\": 0, \\\"num_unique\\\": 6, \\\"categorical\\\": [], \\\"numeric\\\": [{\\\"count\\\": 10680, \\\"right\\\": 1.0984, \\\"left\\\": 0.972}, {\\\"count\\\": 0, \\\"right\\\": 1.2248, \\\"left\\\": 1.0984}, {\\\"count\\\": 0, \\\"right\\\": 1.3512, \\\"left\\\": 1.2248}, {\\\"count\\\": 0, \\\"right\\\": 1.4776, \\\"left\\\": 1.3512}, {\\\"count\\\": 1910, \\\"right\\\": 1.604, \\\"left\\\": 1.4776}, {\\\"count\\\": 0, \\\"right\\\": 1.7304, \\\"left\\\": 1.604}, {\\\"count\\\": 0, \\\"right\\\": 1.8568, \\\"left\\\": 1.7304}, {\\\"count\\\": 0, \\\"right\\\": 1.9832, \\\"left\\\": 1.8568}, {\\\"count\\\": 8241, \\\"right\\\": 2.1096, \\\"left\\\": 1.9832}, {\\\"count\\\": 0, \\\"right\\\": 2.236, \\\"left\\\": 2.1096}, {\\\"count\\\": 0, \\\"right\\\": 2.3624, \\\"left\\\": 2.236}, {\\\"count\\\": 161, \\\"right\\\": 2.4888, \\\"left\\\": 2.3624}, {\\\"count\\\": 0, \\\"right\\\": 2.6152, \\\"left\\\": 2.4888}, {\\\"count\\\": 0, \\\"right\\\": 2.7416, \\\"left\\\": 2.6152}, {\\\"count\\\": 0, \\\"right\\\": 2.868, \\\"left\\\": 2.7416}, {\\\"count\\\": 613, \\\"right\\\": 2.9944, \\\"left\\\": 2.868}, {\\\"count\\\": 0, \\\"right\\\": 3.1208, \\\"left\\\": 2.9944}, {\\\"count\\\": 0, \\\"right\\\": 3.2472, \\\"left\\\": 3.1208}, {\\\"count\\\": 0, \\\"right\\\": 3.3736, \\\"left\\\": 3.2472}, {\\\"count\\\": 8, \\\"right\\\": 3.5, \\\"left\\\": 3.3736}, {\\\"start\\\": 0.972, \\\"step\\\": 0.1264, \\\"stop\\\": 3.5}], \\\"stdev\\\": 0.539976, \\\"type\\\": \\\"float\\\", \\\"mean\\\": 1.494309}, {\\\"a\\\": 7, \\\"num_row\\\": 21613, \\\"title\\\": \\\"waterfront\\\", \\\"max\\\": 1.0, \\\"min\\\": 0.0, \\\"median\\\": 0.0, \\\"num_missing\\\": 0, \\\"num_unique\\\": 2, \\\"categorical\\\": [], \\\"numeric\\\": [{\\\"count\\\": 0, \\\"right\\\": -8, \\\"left\\\": -9}, {\\\"count\\\": 0, \\\"right\\\": -7, \\\"left\\\": -8}, {\\\"count\\\": 0, \\\"right\\\": -6, \\\"left\\\": -7}, {\\\"count\\\": 0, \\\"right\\\": -5, \\\"left\\\": -6}, {\\\"count\\\": 0, \\\"right\\\": -4, \\\"left\\\": -5}, {\\\"count\\\": 0, \\\"right\\\": -3, \\\"left\\\": -4}, {\\\"count\\\": 0, \\\"right\\\": -2, \\\"left\\\": -3}, {\\\"count\\\": 0, \\\"right\\\": -1, \\\"left\\\": -2}, {\\\"count\\\": 0, \\\"right\\\": 0, \\\"left\\\": -1}, {\\\"count\\\": 21450, \\\"right\\\": 1, \\\"left\\\": 0}, {\\\"count\\\": 163, \\\"right\\\": 2, \\\"left\\\": 1}, {\\\"count\\\": 0, \\\"right\\\": 3, \\\"left\\\": 2}, {\\\"count\\\": 0, \\\"right\\\": 4, \\\"left\\\": 3}, {\\\"count\\\": 0, \\\"right\\\": 5, \\\"left\\\": 4}, {\\\"count\\\": 0, \\\"right\\\": 6, \\\"left\\\": 5}, {\\\"count\\\": 0, \\\"right\\\": 7, \\\"left\\\": 6}, {\\\"count\\\": 0, \\\"right\\\": 8, \\\"left\\\": 7}, {\\\"count\\\": 0, \\\"right\\\": 9, \\\"left\\\": 8}, {\\\"count\\\": 0, \\\"right\\\": 10, \\\"left\\\": 9}, {\\\"count\\\": 0, \\\"right\\\": 11, \\\"left\\\": 10}, {\\\"start\\\": -9, \\\"step\\\": 1, \\\"stop\\\": 11}], \\\"stdev\\\": 0.086515, \\\"type\\\": \\\"integer\\\", \\\"mean\\\": 0.007542}, {\\\"a\\\": 8, \\\"num_row\\\": 21613, \\\"title\\\": \\\"view\\\", \\\"max\\\": 4.0, \\\"min\\\": 0.0, \\\"median\\\": 0.0, \\\"num_missing\\\": 0, \\\"num_unique\\\": 5, \\\"categorical\\\": [], \\\"numeric\\\": [{\\\"count\\\": 0, \\\"right\\\": -6, \\\"left\\\": -7}, {\\\"count\\\": 0, \\\"right\\\": -5, \\\"left\\\": -6}, {\\\"count\\\": 0, \\\"right\\\": -4, \\\"left\\\": -5}, {\\\"count\\\": 0, \\\"right\\\": -3, \\\"left\\\": -4}, {\\\"count\\\": 0, \\\"right\\\": -2, \\\"left\\\": -3}, {\\\"count\\\": 0, \\\"right\\\": -1, \\\"left\\\": -2}, {\\\"count\\\": 0, \\\"right\\\": 0, \\\"left\\\": -1}, {\\\"count\\\": 19489, \\\"right\\\": 1, \\\"left\\\": 0}, {\\\"count\\\": 332, \\\"right\\\": 2, \\\"left\\\": 1}, {\\\"count\\\": 963, \\\"right\\\": 3, \\\"left\\\": 2}, {\\\"count\\\": 510, \\\"right\\\": 4, \\\"left\\\": 3}, {\\\"count\\\": 319, \\\"right\\\": 5, \\\"left\\\": 4}, {\\\"count\\\": 0, \\\"right\\\": 6, \\\"left\\\": 5}, {\\\"count\\\": 0, \\\"right\\\": 7, \\\"left\\\": 6}, {\\\"count\\\": 0, \\\"right\\\": 8, \\\"left\\\": 7}, {\\\"count\\\": 0, \\\"right\\\": 9, \\\"left\\\": 8}, {\\\"count\\\": 0, \\\"right\\\": 10, \\\"left\\\": 9}, {\\\"count\\\": 0, \\\"right\\\": 11, \\\"left\\\": 10}, {\\\"count\\\": 0, \\\"right\\\": 12, \\\"left\\\": 11}, {\\\"count\\\": 0, \\\"right\\\": 13, \\\"left\\\": 12}, {\\\"start\\\": -7, \\\"step\\\": 1, \\\"stop\\\": 13}], \\\"stdev\\\": 0.7663, \\\"type\\\": \\\"integer\\\", \\\"mean\\\": 0.234303}, {\\\"a\\\": 9, \\\"num_row\\\": 21613, \\\"title\\\": \\\"condition\\\", \\\"max\\\": 5.0, \\\"min\\\": 1.0, \\\"median\\\": 3.0, \\\"num_missing\\\": 0, \\\"num_unique\\\": 5, \\\"categorical\\\": [], \\\"numeric\\\": [{\\\"count\\\": 0, \\\"right\\\": -5, \\\"left\\\": -6}, {\\\"count\\\": 0, \\\"right\\\": -4, \\\"left\\\": -5}, {\\\"count\\\": 0, \\\"right\\\": -3, \\\"left\\\": -4}, {\\\"count\\\": 0, \\\"right\\\": -2, \\\"left\\\": -3}, {\\\"count\\\": 0, \\\"right\\\": -1, \\\"left\\\": -2}, {\\\"count\\\": 0, \\\"right\\\": 0, \\\"left\\\": -1}, {\\\"count\\\": 0, \\\"right\\\": 1, \\\"left\\\": 0}, {\\\"count\\\": 30, \\\"right\\\": 2, \\\"left\\\": 1}, {\\\"count\\\": 172, \\\"right\\\": 3, \\\"left\\\": 2}, {\\\"count\\\": 14031, \\\"right\\\": 4, \\\"left\\\": 3}, {\\\"count\\\": 5679, \\\"right\\\": 5, \\\"left\\\": 4}, {\\\"count\\\": 1701, \\\"right\\\": 6, \\\"left\\\": 5}, {\\\"count\\\": 0, \\\"right\\\": 7, \\\"left\\\": 6}, {\\\"count\\\": 0, \\\"right\\\": 8, \\\"left\\\": 7}, {\\\"count\\\": 0, \\\"right\\\": 9, \\\"left\\\": 8}, {\\\"count\\\": 0, \\\"right\\\": 10, \\\"left\\\": 9}, {\\\"count\\\": 0, \\\"right\\\": 11, \\\"left\\\": 10}, {\\\"count\\\": 0, \\\"right\\\": 12, \\\"left\\\": 11}, {\\\"count\\\": 0, \\\"right\\\": 13, \\\"left\\\": 12}, {\\\"count\\\": 0, \\\"right\\\": 14, \\\"left\\\": 13}, {\\\"start\\\": -6, \\\"step\\\": 1, \\\"stop\\\": 14}], \\\"stdev\\\": 0.650728, \\\"type\\\": \\\"integer\\\", \\\"mean\\\": 3.40943}, {\\\"a\\\": 10, \\\"num_row\\\": 21613, \\\"title\\\": \\\"grade\\\", \\\"max\\\": 13.0, \\\"min\\\": 1.0, \\\"median\\\": 7.0, \\\"num_missing\\\": 0, \\\"num_unique\\\": 12, \\\"categorical\\\": [], \\\"numeric\\\": [{\\\"count\\\": 1, \\\"right\\\": 1.51564, \\\"left\\\": 0.90636}, {\\\"count\\\": 0, \\\"right\\\": 2.12492, \\\"left\\\": 1.51564}, {\\\"count\\\": 0, \\\"right\\\": 2.7342, \\\"left\\\": 2.12492}, {\\\"count\\\": 3, \\\"right\\\": 3.34348, \\\"left\\\": 2.7342}, {\\\"count\\\": 0, \\\"right\\\": 3.95276, \\\"left\\\": 3.34348}, {\\\"count\\\": 29, \\\"right\\\": 4.56204, \\\"left\\\": 3.95276}, {\\\"count\\\": 242, \\\"right\\\": 5.17132, \\\"left\\\": 4.56204}, {\\\"count\\\": 0, \\\"right\\\": 5.7806, \\\"left\\\": 5.17132}, {\\\"count\\\": 2038, \\\"right\\\": 6.38988, \\\"left\\\": 5.7806}, {\\\"count\\\": 0, \\\"right\\\": 6.99916, \\\"left\\\": 6.38988}, {\\\"count\\\": 8981, \\\"right\\\": 7.60844, \\\"left\\\": 6.99916}, {\\\"count\\\": 6068, \\\"right\\\": 8.21772, \\\"left\\\": 7.60844}, {\\\"count\\\": 0, \\\"right\\\": 8.827, \\\"left\\\": 8.21772}, {\\\"count\\\": 2615, \\\"right\\\": 9.43628, \\\"left\\\": 8.827}, {\\\"count\\\": 1134, \\\"right\\\": 10.0456, \\\"left\\\": 9.43628}, {\\\"count\\\": 0, \\\"right\\\": 10.6548, \\\"left\\\": 10.0456}, {\\\"count\\\": 399, \\\"right\\\": 11.2641, \\\"left\\\": 10.6548}, {\\\"count\\\": 0, \\\"right\\\": 11.8734, \\\"left\\\": 11.2641}, {\\\"count\\\": 90, \\\"right\\\": 12.4827, \\\"left\\\": 11.8734}, {\\\"count\\\": 13, \\\"right\\\": 13.092, \\\"left\\\": 12.4827}, {\\\"start\\\": 0.90636, \\\"step\\\": 0.60928, \\\"stop\\\": 13.092}], \\\"stdev\\\": 1.175432, \\\"type\\\": \\\"float\\\", \\\"mean\\\": 7.656873}, {\\\"a\\\": 11, \\\"num_row\\\": 21613, \\\"title\\\": \\\"sqft_above\\\", \\\"max\\\": 9410.0, \\\"min\\\": 290.0, \\\"median\\\": 1560.0, \\\"num_missing\\\": 0, \\\"num_unique\\\": 946, \\\"categorical\\\": [], \\\"numeric\\\": [{\\\"count\\\": 358, \\\"right\\\": 724.6, \\\"left\\\": 265.24}, {\\\"count\\\": 4946, \\\"right\\\": 1183.96, \\\"left\\\": 724.6}, {\\\"count\\\": 6444, \\\"right\\\": 1643.32, \\\"left\\\": 1183.96}, {\\\"count\\\": 3801, \\\"right\\\": 2102.68, \\\"left\\\": 1643.32}, {\\\"count\\\": 2480, \\\"right\\\": 2562.04, \\\"left\\\": 2102.68}, {\\\"count\\\": 1645, \\\"right\\\": 3021.4, \\\"left\\\": 2562.04}, {\\\"count\\\": 1011, \\\"right\\\": 3480.76, \\\"left\\\": 3021.4}, {\\\"count\\\": 477, \\\"right\\\": 3940.12, \\\"left\\\": 3480.76}, {\\\"count\\\": 241, \\\"right\\\": 4399.48, \\\"left\\\": 3940.12}, {\\\"count\\\": 106, \\\"right\\\": 4858.84, \\\"left\\\": 4399.48}, {\\\"count\\\": 46, \\\"right\\\": 5318.2, \\\"left\\\": 4858.84}, {\\\"count\\\": 24, \\\"right\\\": 5777.56, \\\"left\\\": 5318.2}, {\\\"count\\\": 15, \\\"right\\\": 6236.92, \\\"left\\\": 5777.56}, {\\\"count\\\": 9, \\\"right\\\": 6696.28, \\\"left\\\": 6236.92}, {\\\"count\\\": 1, \\\"right\\\": 7155.64, \\\"left\\\": 6696.28}, {\\\"count\\\": 2, \\\"right\\\": 7615, \\\"left\\\": 7155.64}, {\\\"count\\\": 4, \\\"right\\\": 8074.36, \\\"left\\\": 7615}, {\\\"count\\\": 0, \\\"right\\\": 8533.72, \\\"left\\\": 8074.36}, {\\\"count\\\": 2, \\\"right\\\": 8993.08, \\\"left\\\": 8533.72}, {\\\"count\\\": 1, \\\"right\\\": 9452.44, \\\"left\\\": 8993.08}, {\\\"start\\\": 265.24, \\\"step\\\": 459.36, \\\"stop\\\": 9452.44}], \\\"stdev\\\": 828.07182, \\\"type\\\": \\\"float\\\", \\\"mean\\\": 1788.390691}, {\\\"a\\\": 12, \\\"num_row\\\": 21613, \\\"title\\\": \\\"sqft_basement\\\", \\\"max\\\": 4820.0, \\\"min\\\": 0.0, \\\"median\\\": 0.0, \\\"num_missing\\\": 0, \\\"num_unique\\\": 306, \\\"categorical\\\": [], \\\"numeric\\\": [{\\\"count\\\": 13765, \\\"right\\\": 225.6, \\\"left\\\": -17.6}, {\\\"count\\\": 1629, \\\"right\\\": 468.8, \\\"left\\\": 225.6}, {\\\"count\\\": 2100, \\\"right\\\": 712, \\\"left\\\": 468.8}, {\\\"count\\\": 1881, \\\"right\\\": 955.2, \\\"left\\\": 712}, {\\\"count\\\": 1169, \\\"right\\\": 1198.4, \\\"left\\\": 955.2}, {\\\"count\\\": 628, \\\"right\\\": 1441.6, \\\"left\\\": 1198.4}, {\\\"count\\\": 238, \\\"right\\\": 1684.8, \\\"left\\\": 1441.6}, {\\\"count\\\": 112, \\\"right\\\": 1928, \\\"left\\\": 1684.8}, {\\\"count\\\": 53, \\\"right\\\": 2171.2, \\\"left\\\": 1928}, {\\\"count\\\": 18, \\\"right\\\": 2414.4, \\\"left\\\": 2171.2}, {\\\"count\\\": 10, \\\"right\\\": 2657.6, \\\"left\\\": 2414.4}, {\\\"count\\\": 4, \\\"right\\\": 2900.8, \\\"left\\\": 2657.6}, {\\\"count\\\": 1, \\\"right\\\": 3144, \\\"left\\\": 2900.8}, {\\\"count\\\": 1, \\\"right\\\": 3387.2, \\\"left\\\": 3144}, {\\\"count\\\": 2, \\\"right\\\": 3630.4, \\\"left\\\": 3387.2}, {\\\"count\\\": 0, \\\"right\\\": 3873.6, \\\"left\\\": 3630.4}, {\\\"count\\\": 0, \\\"right\\\": 4116.8, \\\"left\\\": 3873.6}, {\\\"count\\\": 1, \\\"right\\\": 4360, \\\"left\\\": 4116.8}, {\\\"count\\\": 0, \\\"right\\\": 4603.2, \\\"left\\\": 4360}, {\\\"count\\\": 1, \\\"right\\\": 4846.4, \\\"left\\\": 4603.2}, {\\\"start\\\": -17.6, \\\"step\\\": 243.2, \\\"stop\\\": 4846.4}], \\\"stdev\\\": 442.564804, \\\"type\\\": \\\"float\\\", \\\"mean\\\": 291.509045}, {\\\"a\\\": 13, \\\"num_row\\\": 21613, \\\"title\\\": \\\"yr_built\\\", \\\"max\\\": 2015.0, \\\"min\\\": 1900.0, \\\"median\\\": 1975.0, \\\"num_missing\\\": 0, \\\"num_unique\\\": 116, \\\"categorical\\\": [], \\\"numeric\\\": [{\\\"count\\\": 308, \\\"right\\\": 1905.64, \\\"left\\\": 1899.88}, {\\\"count\\\": 544, \\\"right\\\": 1911.4, \\\"left\\\": 1905.64}, {\\\"count\\\": 391, \\\"right\\\": 1917.16, \\\"left\\\": 1911.4}, {\\\"count\\\": 477, \\\"right\\\": 1922.92, \\\"left\\\": 1917.16}, {\\\"count\\\": 809, \\\"right\\\": 1928.68, \\\"left\\\": 1922.92}, {\\\"count\\\": 354, \\\"right\\\": 1934.44, \\\"left\\\": 1928.68}, {\\\"count\\\": 446, \\\"right\\\": 1940.2, \\\"left\\\": 1934.44}, {\\\"count\\\": 789, \\\"right\\\": 1945.96, \\\"left\\\": 1940.2}, {\\\"count\\\": 1298, \\\"right\\\": 1951.72, \\\"left\\\": 1945.96}, {\\\"count\\\": 1415, \\\"right\\\": 1957.48, \\\"left\\\": 1951.72}, {\\\"count\\\": 1598, \\\"right\\\": 1963.24, \\\"left\\\": 1957.48}, {\\\"count\\\": 1340, \\\"right\\\": 1969, \\\"left\\\": 1963.24}, {\\\"count\\\": 976, \\\"right\\\": 1974.76, \\\"left\\\": 1969}, {\\\"count\\\": 1829, \\\"right\\\": 1980.52, \\\"left\\\": 1974.76}, {\\\"count\\\": 1188, \\\"right\\\": 1986.28, \\\"left\\\": 1980.52}, {\\\"count\\\": 1596, \\\"right\\\": 1992.04, \\\"left\\\": 1986.28}, {\\\"count\\\": 992, \\\"right\\\": 1997.8, \\\"left\\\": 1992.04}, {\\\"count\\\": 1671, \\\"right\\\": 2003.56, \\\"left\\\": 1997.8}, {\\\"count\\\": 2351, \\\"right\\\": 2009.32, \\\"left\\\": 2003.56}, {\\\"count\\\": 1241, \\\"right\\\": 2015.08, \\\"left\\\": 2009.32}, {\\\"start\\\": 1899.88, \\\"step\\\": 5.76, \\\"stop\\\": 2015.08}], \\\"stdev\\\": 29.372731, \\\"type\\\": \\\"float\\\", \\\"mean\\\": 1971.005136}, {\\\"a\\\": 14, \\\"num_row\\\": 21613, \\\"title\\\": \\\"yr_renovated\\\", \\\"max\\\": 2015.0, \\\"min\\\": 0.0, \\\"median\\\": 0.0, \\\"num_missing\\\": 0, \\\"num_unique\\\": 70, \\\"categorical\\\": [], \\\"numeric\\\": [{\\\"count\\\": 20699, \\\"right\\\": 79.64, \\\"left\\\": -23.892}, {\\\"count\\\": 0, \\\"right\\\": 183.172, \\\"left\\\": 79.64}, {\\\"count\\\": 0, \\\"right\\\": 286.704, \\\"left\\\": 183.172}, {\\\"count\\\": 0, \\\"right\\\": 390.236, \\\"left\\\": 286.704}, {\\\"count\\\": 0, \\\"right\\\": 493.768, \\\"left\\\": 390.236}, {\\\"count\\\": 0, \\\"right\\\": 597.3, \\\"left\\\": 493.768}, {\\\"count\\\": 0, \\\"right\\\": 700.832, \\\"left\\\": 597.3}, {\\\"count\\\": 0, \\\"right\\\": 804.364, \\\"left\\\": 700.832}, {\\\"count\\\": 0, \\\"right\\\": 907.896, \\\"left\\\": 804.364}, {\\\"count\\\": 0, \\\"right\\\": 1011.43, \\\"left\\\": 907.896}, {\\\"count\\\": 0, \\\"right\\\": 1114.96, \\\"left\\\": 1011.43}, {\\\"count\\\": 0, \\\"right\\\": 1218.49, \\\"left\\\": 1114.96}, {\\\"count\\\": 0, \\\"right\\\": 1322.02, \\\"left\\\": 1218.49}, {\\\"count\\\": 0, \\\"right\\\": 1425.56, \\\"left\\\": 1322.02}, {\\\"count\\\": 0, \\\"right\\\": 1529.09, \\\"left\\\": 1425.56}, {\\\"count\\\": 0, \\\"right\\\": 1632.62, \\\"left\\\": 1529.09}, {\\\"count\\\": 0, \\\"right\\\": 1736.15, \\\"left\\\": 1632.62}, {\\\"count\\\": 0, \\\"right\\\": 1839.68, \\\"left\\\": 1736.15}, {\\\"count\\\": 3, \\\"right\\\": 1943.22, \\\"left\\\": 1839.68}, {\\\"count\\\": 911, \\\"right\\\": 2046.75, \\\"left\\\": 1943.22}, {\\\"start\\\": -23.892, \\\"step\\\": 103.532, \\\"stop\\\": 2046.75}], \\\"stdev\\\": 401.669947, \\\"type\\\": \\\"float\\\", \\\"mean\\\": 84.402258}, {\\\"a\\\": 15, \\\"num_row\\\": 21613, \\\"title\\\": \\\"zipcode\\\", \\\"categorical\\\": [{\\\"count\\\": 602, \\\"percentage\\\": \\\"2.78536%\\\", \\\"label_idx\\\": 0, \\\"label\\\": \\\"98103\\\"}, {\\\"count\\\": 590, \\\"percentage\\\": \\\"2.72984%\\\", \\\"label_idx\\\": 1, \\\"label\\\": \\\"98038\\\"}, {\\\"count\\\": 583, \\\"percentage\\\": \\\"2.69745%\\\", \\\"label_idx\\\": 2, \\\"label\\\": \\\"98115\\\"}, {\\\"count\\\": 574, \\\"percentage\\\": \\\"2.65581%\\\", \\\"label_idx\\\": 3, \\\"label\\\": \\\"98052\\\"}, {\\\"count\\\": 553, \\\"percentage\\\": \\\"2.55865%\\\", \\\"label_idx\\\": 4, \\\"label\\\": \\\"98117\\\"}, {\\\"count\\\": 548, \\\"percentage\\\": \\\"2.53551%\\\", \\\"label_idx\\\": 5, \\\"label\\\": \\\"98042\\\"}, {\\\"count\\\": 545, \\\"percentage\\\": \\\"2.52163%\\\", \\\"label_idx\\\": 6, \\\"label\\\": \\\"98034\\\"}, {\\\"count\\\": 508, \\\"percentage\\\": \\\"2.35044%\\\", \\\"label_idx\\\": 7, \\\"label\\\": \\\"98118\\\"}, {\\\"count\\\": 499, \\\"percentage\\\": \\\"2.3088%\\\", \\\"label_idx\\\": 8, \\\"label\\\": \\\"98023\\\"}, {\\\"count\\\": 498, \\\"percentage\\\": \\\"2.30417%\\\", \\\"label_idx\\\": 9, \\\"label\\\": \\\"98006\\\"}, {\\\"count\\\": 16113, \\\"percentage\\\": \\\"74.5524%\\\", \\\"label_idx\\\": 10, \\\"label\\\": \\\"Other (60 labels)\\\"}], \\\"num_missing\\\": 0, \\\"num_unique\\\": 70, \\\"numeric\\\": [], \\\"type\\\": \\\"str\\\"}, {\\\"a\\\": 16, \\\"num_row\\\": 21613, \\\"title\\\": \\\"lat\\\", \\\"max\\\": 47.777624, \\\"min\\\": 47.155933, \\\"median\\\": 47.571723, \\\"num_missing\\\": 0, \\\"num_unique\\\": 21431, \\\"categorical\\\": [], \\\"numeric\\\": [{\\\"count\\\": 9, \\\"right\\\": 47.1798, \\\"left\\\": 47.1479}, {\\\"count\\\": 153, \\\"right\\\": 47.2117, \\\"left\\\": 47.1798}, {\\\"count\\\": 41, \\\"right\\\": 47.2435, \\\"left\\\": 47.2117}, {\\\"count\\\": 261, \\\"right\\\": 47.2754, \\\"left\\\": 47.2435}, {\\\"count\\\": 517, \\\"right\\\": 47.3073, \\\"left\\\": 47.2754}, {\\\"count\\\": 878, \\\"right\\\": 47.3392, \\\"left\\\": 47.3073}, {\\\"count\\\": 1153, \\\"right\\\": 47.3711, \\\"left\\\": 47.3392}, {\\\"count\\\": 815, \\\"right\\\": 47.403, \\\"left\\\": 47.3711}, {\\\"count\\\": 561, \\\"right\\\": 47.4349, \\\"left\\\": 47.403}, {\\\"count\\\": 912, \\\"right\\\": 47.4668, \\\"left\\\": 47.4349}, {\\\"count\\\": 1255, \\\"right\\\": 47.4986, \\\"left\\\": 47.4668}, {\\\"count\\\": 1437, \\\"right\\\": 47.5305, \\\"left\\\": 47.4986}, {\\\"count\\\": 2177, \\\"right\\\": 47.5624, \\\"left\\\": 47.5305}, {\\\"count\\\": 1756, \\\"right\\\": 47.5943, \\\"left\\\": 47.5624}, {\\\"count\\\": 1296, \\\"right\\\": 47.6262, \\\"left\\\": 47.5943}, {\\\"count\\\": 1744, \\\"right\\\": 47.6581, \\\"left\\\": 47.6262}, {\\\"count\\\": 2258, \\\"right\\\": 47.69, \\\"left\\\": 47.6581}, {\\\"count\\\": 1895, \\\"right\\\": 47.7219, \\\"left\\\": 47.69}, {\\\"count\\\": 1553, \\\"right\\\": 47.7537, \\\"left\\\": 47.7219}, {\\\"count\\\": 942, \\\"right\\\": 47.7856, \\\"left\\\": 47.7537}, {\\\"start\\\": 47.1479, \\\"step\\\": 0.0318879, \\\"stop\\\": 47.7856}], \\\"stdev\\\": 0.13856, \\\"type\\\": \\\"float\\\", \\\"mean\\\": 47.560053}, {\\\"a\\\": 17, \\\"num_row\\\": 21613, \\\"title\\\": \\\"long\\\", \\\"max\\\": -121.315091, \\\"min\\\": -122.518648, \\\"median\\\": -122.230595, \\\"num_missing\\\": 0, \\\"num_unique\\\": 21432, \\\"categorical\\\": [], \\\"numeric\\\": [{\\\"count\\\": 37, \\\"right\\\": -122.471, \\\"left\\\": -122.532}, {\\\"count\\\": 150, \\\"right\\\": -122.409, \\\"left\\\": -122.471}, {\\\"count\\\": 4000, \\\"right\\\": -122.347, \\\"left\\\": -122.409}, {\\\"count\\\": 4513, \\\"right\\\": -122.286, \\\"left\\\": -122.347}, {\\\"count\\\": 2363, \\\"right\\\": -122.224, \\\"left\\\": -122.286}, {\\\"count\\\": 3579, \\\"right\\\": -122.163, \\\"left\\\": -122.224}, {\\\"count\\\": 2482, \\\"right\\\": -122.101, \\\"left\\\": -122.163}, {\\\"count\\\": 1612, \\\"right\\\": -122.039, \\\"left\\\": -122.101}, {\\\"count\\\": 1807, \\\"right\\\": -121.978, \\\"left\\\": -122.039}, {\\\"count\\\": 352, \\\"right\\\": -121.916, \\\"left\\\": -121.978}, {\\\"count\\\": 401, \\\"right\\\": -121.855, \\\"left\\\": -121.916}, {\\\"count\\\": 83, \\\"right\\\": -121.793, \\\"left\\\": -121.855}, {\\\"count\\\": 180, \\\"right\\\": -121.732, \\\"left\\\": -121.793}, {\\\"count\\\": 36, \\\"right\\\": -121.67, \\\"left\\\": -121.732}, {\\\"count\\\": 1, \\\"right\\\": -121.608, \\\"left\\\": -121.67}, {\\\"count\\\": 0, \\\"right\\\": -121.547, \\\"left\\\": -121.608}, {\\\"count\\\": 0, \\\"right\\\": -121.485, \\\"left\\\": -121.547}, {\\\"count\\\": 2, \\\"right\\\": -121.424, \\\"left\\\": -121.485}, {\\\"count\\\": 6, \\\"right\\\": -121.362, \\\"left\\\": -121.424}, {\\\"count\\\": 9, \\\"right\\\": -121.3, \\\"left\\\": -121.362}, {\\\"start\\\": -122.532, \\\"step\\\": 0.0615903, \\\"stop\\\": -121.3}], \\\"stdev\\\": 0.140822, \\\"type\\\": \\\"float\\\", \\\"mean\\\": -122.213896}, {\\\"a\\\": 18, \\\"num_row\\\": 21613, \\\"title\\\": \\\"sqft_living15\\\", \\\"max\\\": 6210.0, \\\"min\\\": 399.0, \\\"median\\\": 1840.0, \\\"num_missing\\\": 0, \\\"num_unique\\\": 777, \\\"categorical\\\": [], \\\"numeric\\\": [{\\\"count\\\": 6, \\\"right\\\": 686.2, \\\"left\\\": 395}, {\\\"count\\\": 262, \\\"right\\\": 977.4, \\\"left\\\": 686.2}, {\\\"count\\\": 2005, \\\"right\\\": 1268.6, \\\"left\\\": 977.4}, {\\\"count\\\": 4287, \\\"right\\\": 1559.8, \\\"left\\\": 1268.6}, {\\\"count\\\": 4453, \\\"right\\\": 1851, \\\"left\\\": 1559.8}, {\\\"count\\\": 3326, \\\"right\\\": 2142.2, \\\"left\\\": 1851}, {\\\"count\\\": 2407, \\\"right\\\": 2433.4, \\\"left\\\": 2142.2}, {\\\"count\\\": 1795, \\\"right\\\": 2724.6, \\\"left\\\": 2433.4}, {\\\"count\\\": 1254, \\\"right\\\": 3015.8, \\\"left\\\": 2724.6}, {\\\"count\\\": 748, \\\"right\\\": 3307, \\\"left\\\": 3015.8}, {\\\"count\\\": 451, \\\"right\\\": 3598.2, \\\"left\\\": 3307}, {\\\"count\\\": 280, \\\"right\\\": 3889.4, \\\"left\\\": 3598.2}, {\\\"count\\\": 160, \\\"right\\\": 4180.6, \\\"left\\\": 3889.4}, {\\\"count\\\": 80, \\\"right\\\": 4471.8, \\\"left\\\": 4180.6}, {\\\"count\\\": 55, \\\"right\\\": 4763, \\\"left\\\": 4471.8}, {\\\"count\\\": 24, \\\"right\\\": 5054.2, \\\"left\\\": 4763}, {\\\"count\\\": 8, \\\"right\\\": 5345.4, \\\"left\\\": 5054.2}, {\\\"count\\\": 4, \\\"right\\\": 5636.6, \\\"left\\\": 5345.4}, {\\\"count\\\": 6, \\\"right\\\": 5927.8, \\\"left\\\": 5636.6}, {\\\"count\\\": 2, \\\"right\\\": 6219, \\\"left\\\": 5927.8}, {\\\"start\\\": 395, \\\"step\\\": 291.2, \\\"stop\\\": 6219}], \\\"stdev\\\": 685.375448, \\\"type\\\": \\\"float\\\", \\\"mean\\\": 1986.552492}, {\\\"a\\\": 19, \\\"num_row\\\": 21613, \\\"title\\\": \\\"sqft_lot15\\\", \\\"max\\\": 871200.0, \\\"min\\\": 651.0, \\\"median\\\": 7620.0, \\\"num_missing\\\": 0, \\\"num_unique\\\": 8689, \\\"categorical\\\": [], \\\"numeric\\\": [{\\\"count\\\": 20233, \\\"right\\\": 33122.1, \\\"left\\\": -11686.1}, {\\\"count\\\": 939, \\\"right\\\": 77930.3, \\\"left\\\": 33122.1}, {\\\"count\\\": 181, \\\"right\\\": 122738, \\\"left\\\": 77930.3}, {\\\"count\\\": 51, \\\"right\\\": 167547, \\\"left\\\": 122738}, {\\\"count\\\": 75, \\\"right\\\": 212355, \\\"left\\\": 167547}, {\\\"count\\\": 98, \\\"right\\\": 257163, \\\"left\\\": 212355}, {\\\"count\\\": 14, \\\"right\\\": 301971, \\\"left\\\": 257163}, {\\\"count\\\": 8, \\\"right\\\": 346779, \\\"left\\\": 301971}, {\\\"count\\\": 4, \\\"right\\\": 391588, \\\"left\\\": 346779}, {\\\"count\\\": 6, \\\"right\\\": 436396, \\\"left\\\": 391588}, {\\\"count\\\": 1, \\\"right\\\": 481204, \\\"left\\\": 436396}, {\\\"count\\\": 0, \\\"right\\\": 526012, \\\"left\\\": 481204}, {\\\"count\\\": 1, \\\"right\\\": 570820, \\\"left\\\": 526012}, {\\\"count\\\": 0, \\\"right\\\": 615629, \\\"left\\\": 570820}, {\\\"count\\\": 0, \\\"right\\\": 660437, \\\"left\\\": 615629}, {\\\"count\\\": 0, \\\"right\\\": 705245, \\\"left\\\": 660437}, {\\\"count\\\": 0, \\\"right\\\": 750053, \\\"left\\\": 705245}, {\\\"count\\\": 0, \\\"right\\\": 794861, \\\"left\\\": 750053}, {\\\"count\\\": 0, \\\"right\\\": 839670, \\\"left\\\": 794861}, {\\\"count\\\": 2, \\\"right\\\": 884478, \\\"left\\\": 839670}, {\\\"start\\\": -11686.1, \\\"step\\\": 44808.2, \\\"stop\\\": 884478}], \\\"stdev\\\": 27303.547963, \\\"type\\\": \\\"float\\\", \\\"mean\\\": 12768.455652}], \\\"name\\\": \\\"source_2\\\"}, {\\\"source\\\": \\\"source_2\\\", \\\"name\\\": \\\"data_2\\\", \\\"transform\\\": [{\\\"expr\\\": \\\"20\\\", \\\"as\\\": \\\"c_x_axis_back\\\", \\\"type\\\": \\\"formula\\\"}, {\\\"expr\\\": \\\"toNumber(datum[\\\\\\\"a\\\\\\\"])*300+66\\\", \\\"as\\\": \\\"c_main_background\\\", \\\"type\\\": \\\"formula\\\"}, {\\\"expr\\\": \\\"toNumber(datum[\\\\\\\"a\\\\\\\"])*300+43\\\", \\\"as\\\": \\\"c_top_bar\\\", \\\"type\\\": \\\"formula\\\"}, {\\\"expr\\\": \\\"toNumber(datum[\\\\\\\"a\\\\\\\"])*300+59\\\", \\\"as\\\": \\\"c_top_title\\\", \\\"type\\\": \\\"formula\\\"}, {\\\"expr\\\": \\\"toNumber(datum[\\\\\\\"a\\\\\\\"])*300+58\\\", \\\"as\\\": \\\"c_top_type\\\", \\\"type\\\": \\\"formula\\\"}, {\\\"expr\\\": \\\"toNumber(datum[\\\\\\\"a\\\\\\\"])*300+178\\\", \\\"as\\\": \\\"c_rule\\\", \\\"type\\\": \\\"formula\\\"}, {\\\"expr\\\": \\\"toNumber(datum[\\\\\\\"a\\\\\\\"])*300+106\\\", \\\"as\\\": \\\"c_num_rows\\\", \\\"type\\\": \\\"formula\\\"}, {\\\"expr\\\": \\\"toNumber(datum[\\\\\\\"a\\\\\\\"])*300+130\\\", \\\"as\\\": \\\"c_num_unique\\\", \\\"type\\\": \\\"formula\\\"}, {\\\"expr\\\": \\\"toNumber(datum[\\\\\\\"a\\\\\\\"])*300+154\\\", \\\"as\\\": \\\"c_missing\\\", \\\"type\\\": \\\"formula\\\"}, {\\\"expr\\\": \\\"toNumber(datum[\\\\\\\"a\\\\\\\"])*300+105\\\", \\\"as\\\": \\\"c_num_rows_val\\\", \\\"type\\\": \\\"formula\\\"}, {\\\"expr\\\": \\\"toNumber(datum[\\\\\\\"a\\\\\\\"])*300+130\\\", \\\"as\\\": \\\"c_num_unique_val\\\", \\\"type\\\": \\\"formula\\\"}, {\\\"expr\\\": \\\"toNumber(datum[\\\\\\\"a\\\\\\\"])*300+154\\\", \\\"as\\\": \\\"c_missing_val\\\", \\\"type\\\": \\\"formula\\\"}, {\\\"expr\\\": \\\"toNumber(datum[\\\\\\\"a\\\\\\\"])*300+195\\\", \\\"as\\\": \\\"c_frequent_items\\\", \\\"type\\\": \\\"formula\\\"}, {\\\"expr\\\": \\\"toNumber(datum[\\\\\\\"a\\\\\\\"])*300+218\\\", \\\"as\\\": \\\"c_first_item\\\", \\\"type\\\": \\\"formula\\\"}, {\\\"expr\\\": \\\"toNumber(datum[\\\\\\\"a\\\\\\\"])*300+235\\\", \\\"as\\\": \\\"c_second_item\\\", \\\"type\\\": \\\"formula\\\"}, {\\\"expr\\\": \\\"toNumber(datum[\\\\\\\"a\\\\\\\"])*300+252\\\", \\\"as\\\": \\\"c_third_item\\\", \\\"type\\\": \\\"formula\\\"}, {\\\"expr\\\": \\\"toNumber(datum[\\\\\\\"a\\\\\\\"])*300+269\\\", \\\"as\\\": \\\"c_fourth_item\\\", \\\"type\\\": \\\"formula\\\"}, {\\\"expr\\\": \\\"toNumber(datum[\\\\\\\"a\\\\\\\"])*300+286\\\", \\\"as\\\": \\\"c_fifth_item\\\", \\\"type\\\": \\\"formula\\\"}, {\\\"expr\\\": \\\"toNumber(datum[\\\\\\\"a\\\\\\\"])*300+200\\\", \\\"as\\\": \\\"c_mean\\\", \\\"type\\\": \\\"formula\\\"}, {\\\"expr\\\": \\\"toNumber(datum[\\\\\\\"a\\\\\\\"])*300+220\\\", \\\"as\\\": \\\"c_min\\\", \\\"type\\\": \\\"formula\\\"}, {\\\"expr\\\": \\\"toNumber(datum[\\\\\\\"a\\\\\\\"])*300+240\\\", \\\"as\\\": \\\"c_max\\\", \\\"type\\\": \\\"formula\\\"}, {\\\"expr\\\": \\\"toNumber(datum[\\\\\\\"a\\\\\\\"])*300+260\\\", \\\"as\\\": \\\"c_median\\\", \\\"type\\\": \\\"formula\\\"}, {\\\"expr\\\": \\\"toNumber(datum[\\\\\\\"a\\\\\\\"])*300+280\\\", \\\"as\\\": \\\"c_stdev\\\", \\\"type\\\": \\\"formula\\\"}, {\\\"expr\\\": \\\"toNumber(datum[\\\\\\\"a\\\\\\\"])*300+198\\\", \\\"as\\\": \\\"c_mean_val\\\", \\\"type\\\": \\\"formula\\\"}, {\\\"expr\\\": \\\"toNumber(datum[\\\\\\\"a\\\\\\\"])*300+218\\\", \\\"as\\\": \\\"c_min_val\\\", \\\"type\\\": \\\"formula\\\"}, {\\\"expr\\\": \\\"toNumber(datum[\\\\\\\"a\\\\\\\"])*300+238\\\", \\\"as\\\": \\\"c_max_val\\\", \\\"type\\\": \\\"formula\\\"}, {\\\"expr\\\": \\\"toNumber(datum[\\\\\\\"a\\\\\\\"])*300+258\\\", \\\"as\\\": \\\"c_median_val\\\", \\\"type\\\": \\\"formula\\\"}, {\\\"expr\\\": \\\"toNumber(datum[\\\\\\\"a\\\\\\\"])*300+278\\\", \\\"as\\\": \\\"c_stdev_val\\\", \\\"type\\\": \\\"formula\\\"}, {\\\"expr\\\": \\\"toNumber(datum[\\\\\\\"a\\\\\\\"])*300+106\\\", \\\"as\\\": \\\"graph_offset\\\", \\\"type\\\": \\\"formula\\\"}, {\\\"expr\\\": \\\"toNumber(datum[\\\\\\\"a\\\\\\\"])*300+132\\\", \\\"as\\\": \\\"graph_offset_categorical\\\", \\\"type\\\": \\\"formula\\\"}, {\\\"expr\\\": \\\"(toString(datum[\\\\\\\"type\\\\\\\"]) == \\\\\\\"integer\\\\\\\" || toString(datum[\\\\\\\"type\\\\\\\"]) == \\\\\\\"float\\\\\\\")?false:true\\\", \\\"as\\\": \\\"c_clip_val\\\", \\\"type\\\": \\\"formula\\\"}, {\\\"expr\\\": \\\"(toString(datum[\\\\\\\"type\\\\\\\"]) == \\\\\\\"integer\\\\\\\" || toString(datum[\\\\\\\"type\\\\\\\"]) == \\\\\\\"float\\\\\\\")?250:0\\\", \\\"as\\\": \\\"c_width_numeric_val\\\", \\\"type\\\": \\\"formula\\\"}, {\\\"expr\\\": \\\"(toString(datum[\\\\\\\"type\\\\\\\"]) == \\\\\\\"str\\\\\\\")?false:true\\\", \\\"as\\\": \\\"c_clip_val_cat\\\", \\\"type\\\": \\\"formula\\\"}, {\\\"expr\\\": \\\"(toString(datum[\\\\\\\"type\\\\\\\"]) == \\\\\\\"str\\\\\\\")?250:0\\\", \\\"as\\\": \\\"c_width_numeric_val_cat\\\", \\\"type\\\": \\\"formula\\\"}]}], \\\"metadata\\\": {\\\"bubbleOpts\\\": {\\\"fields\\\": [{\\\"field\\\": \\\"left\\\"}, {\\\"field\\\": \\\"right\\\"}, {\\\"field\\\": \\\"count\\\"}, {\\\"field\\\": \\\"label\\\"}], \\\"showAllFields\\\": false}}}\";                                 var vega_json_parsed = JSON.parse(vega_json);                                 var toolTipOpts = {                                     showAllFields: true                                 };                                 if(vega_json_parsed[\"metadata\"] != null){                                     if(vega_json_parsed[\"metadata\"][\"bubbleOpts\"] != null){                                         toolTipOpts = vega_json_parsed[\"metadata\"][\"bubbleOpts\"];                                     };                                 };                                 vegaEmbed(\"#vis\", vega_json_parsed).then(function (result) {                                     vegaTooltip.vega(result.view, toolTipOpts);                                  });                             </script>                         </body>                     </html>' src=\"demo_iframe_srcdoc.htm\">                         <p>Your browser does not support iframes.</p>                     </iframe>                 </body>             </html>"
            ]
          },
          "metadata": {
            "tags": []
          }
        }
      ]
    },
    {
      "cell_type": "code",
      "metadata": {
        "id": "fAZC7t_yNM1t",
        "colab_type": "code",
        "colab": {
          "base_uri": "https://localhost:8080/",
          "height": 825
        },
        "outputId": "a49ef443-ce69-4684-8b78-23487d94248e"
      },
      "source": [
        "turicreate.show(sales[1:5000]['sqft_living'],sales[1:5000]['price'])"
      ],
      "execution_count": null,
      "outputs": [
        {
          "output_type": "display_data",
          "data": {
            "text/plain": [
              "Materializing X axis SArray"
            ],
            "text/html": [
              "<pre>Materializing X axis SArray</pre>"
            ]
          },
          "metadata": {
            "tags": []
          }
        },
        {
          "output_type": "display_data",
          "data": {
            "text/plain": [
              "Materializing Y axis SArray"
            ],
            "text/html": [
              "<pre>Materializing Y axis SArray</pre>"
            ]
          },
          "metadata": {
            "tags": []
          }
        },
        {
          "output_type": "display_data",
          "data": {
            "text/plain": [
              "<IPython.core.display.HTML object>"
            ],
            "text/html": [
              "<html>                 <body>                     <iframe style=\"border:0;margin:0\" width=\"920\" height=\"770\" srcdoc='<html lang=\"en\">                         <head>                             <script src=\"https://cdnjs.cloudflare.com/ajax/libs/vega/5.4.0/vega.js\"></script>                             <script src=\"https://cdnjs.cloudflare.com/ajax/libs/vega-embed/4.0.0/vega-embed.js\"></script>                             <script src=\"https://cdnjs.cloudflare.com/ajax/libs/vega-tooltip/0.5.1/vega-tooltip.min.js\"></script>                             <link rel=\"stylesheet\" type=\"text/css\" href=\"https://cdnjs.cloudflare.com/ajax/libs/vega-tooltip/0.5.1/vega-tooltip.min.css\">                             <style>                             .vega-actions > a{                                 color:white;                                 text-decoration: none;                                 font-family: \"Arial\";                                 cursor:pointer;                                 padding:5px;                                 background:#AAAAAA;                                 border-radius:4px;                                 padding-left:10px;                                 padding-right:10px;                                 margin-right:5px;                             }                             .vega-actions{                                 margin-top:20px;                                 text-align:center                             }                            .vega-actions > a{                                 background:#999999;                            }                             </style>                         </head>                         <body>                             <div id=\"vis\">                             </div>                             <script>                                 var vega_json = \"{\\\"style\\\": \\\"cell\\\", \\\"axes\\\": [{\\\"scale\\\": \\\"x\\\", \\\"title\\\": \\\"X\\\", \\\"tickCount\\\": {\\\"signal\\\": \\\"ceil(width/40)\\\"}, \\\"zindex\\\": 1, \\\"labelOverlap\\\": true, \\\"orient\\\": \\\"bottom\\\"}, {\\\"domain\\\": false, \\\"scale\\\": \\\"x\\\", \\\"ticks\\\": false, \\\"labels\\\": false, \\\"tickCount\\\": {\\\"signal\\\": \\\"ceil(width/40)\\\"}, \\\"zindex\\\": 0, \\\"grid\\\": true, \\\"minExtent\\\": 0, \\\"gridScale\\\": \\\"y\\\", \\\"orient\\\": \\\"bottom\\\", \\\"maxExtent\\\": 0}, {\\\"scale\\\": \\\"y\\\", \\\"title\\\": \\\"Y\\\", \\\"tickCount\\\": {\\\"signal\\\": \\\"ceil(height/40)\\\"}, \\\"zindex\\\": 1, \\\"labelOverlap\\\": true, \\\"orient\\\": \\\"left\\\"}, {\\\"domain\\\": false, \\\"scale\\\": \\\"y\\\", \\\"ticks\\\": false, \\\"labels\\\": false, \\\"tickCount\\\": {\\\"signal\\\": \\\"ceil(height/40)\\\"}, \\\"zindex\\\": 0, \\\"grid\\\": true, \\\"minExtent\\\": 0, \\\"gridScale\\\": \\\"x\\\", \\\"orient\\\": \\\"left\\\", \\\"maxExtent\\\": 0}], \\\"title\\\": \\\"X vs. Y\\\", \\\"config\\\": {\\\"style\\\": {\\\"cell\\\": {\\\"stroke\\\": \\\"transparent\\\"}, \\\"rect\\\": {\\\"stroke\\\": \\\"rgba(200, 200, 200, 0.5)\\\"}, \\\"group-title\\\": {\\\"fontWeight\\\": \\\"normal\\\", \\\"font\\\": \\\"HelveticaNeue, Arial\\\", \\\"fontSize\\\": 29, \\\"fill\\\": \\\"rgba(0,0,0,0.65)\\\"}}, \\\"title\\\": {\\\"color\\\": \\\"rgba(0,0,0,0.847)\\\", \\\"fontWeight\\\": \\\"normal\\\", \\\"font\\\": \\\"\\\\\\\"San Francisco\\\\\\\", HelveticaNeue, Arial\\\", \\\"fontSize\\\": 18, \\\"offset\\\": 30}, \\\"axisY\\\": {\\\"minExtent\\\": 30}, \\\"range\\\": {\\\"heatmap\\\": {\\\"scheme\\\": \\\"greenblue\\\"}}, \\\"legend\\\": {\\\"labelFont\\\": \\\"\\\\\\\"San Francisco\\\\\\\", HelveticaNeue, Arial\\\", \\\"labelColor\\\": \\\"rgba(0,0,0,0.847)\\\", \\\"titleFont\\\": \\\"\\\\\\\"San Francisco\\\\\\\", HelveticaNeue, Arial\\\", \\\"cornerRadius\\\": 30, \\\"titleColor\\\": \\\"rgba(0,0,0,0.847)\\\", \\\"gradientLength\\\": 608}, \\\"axis\\\": {\\\"titlePadding\\\": 20, \\\"titleColor\\\": \\\"rgba(0,0,0,0.847)\\\", \\\"titleFont\\\": \\\"\\\\\\\"San Francisco\\\\\\\", HelveticaNeue, Arial\\\", \\\"labelPadding\\\": 10, \\\"labelFont\\\": \\\"\\\\\\\"San Francisco\\\\\\\", HelveticaNeue, Arial\\\", \\\"labelFontSize\\\": 12, \\\"labelColor\\\": \\\"rgba(0,0,0,0.847)\\\", \\\"gridColor\\\": \\\"rgba(204,204,204,1.0)\\\", \\\"titleFontSize\\\": 14, \\\"tickColor\\\": \\\"rgb(136,136,136)\\\", \\\"titleFontWeight\\\": \\\"normal\\\"}}, \\\"scales\\\": [{\\\"domain\\\": {\\\"field\\\": \\\"x\\\", \\\"data\\\": \\\"source_2\\\"}, \\\"name\\\": \\\"x\\\", \\\"zero\\\": false, \\\"padding\\\": 5, \\\"range\\\": [0, {\\\"signal\\\": \\\"width\\\"}], \\\"type\\\": \\\"linear\\\", \\\"nice\\\": true}, {\\\"domain\\\": {\\\"field\\\": \\\"y\\\", \\\"data\\\": \\\"source_2\\\"}, \\\"name\\\": \\\"y\\\", \\\"zero\\\": false, \\\"padding\\\": 5, \\\"range\\\": [{\\\"signal\\\": \\\"height\\\"}, 0], \\\"type\\\": \\\"linear\\\", \\\"nice\\\": true}], \\\"autosize\\\": {\\\"contains\\\": \\\"padding\\\", \\\"type\\\": \\\"fit\\\", \\\"resize\\\": false}, \\\"height\\\": 550, \\\"padding\\\": 8, \\\"width\\\": 720, \\\"marks\\\": [{\\\"encode\\\": {\\\"hover\\\": {\\\"fill\\\": {\\\"value\\\": \\\"#7EC2F3\\\"}}, \\\"update\\\": {\\\"y\\\": {\\\"field\\\": \\\"y\\\", \\\"scale\\\": \\\"y\\\", \\\"title\\\": \\\"Miles per Gallon\\\"}, \\\"x\\\": {\\\"field\\\": \\\"x\\\", \\\"scale\\\": \\\"x\\\"}, \\\"shape\\\": {\\\"value\\\": \\\"circle\\\"}, \\\"opacity\\\": {\\\"value\\\": 0.7}, \\\"fill\\\": {\\\"value\\\": \\\"#108EE9\\\"}}}, \\\"from\\\": {\\\"data\\\": \\\"source_2\\\"}, \\\"style\\\": [\\\"circle\\\"], \\\"type\\\": \\\"symbol\\\", \\\"name\\\": \\\"marks\\\"}], \\\"$schema\\\": \\\"https://vega.github.io/schema/vega/v4.json\\\", \\\"data\\\": [{\\\"values\\\": [{\\\"y\\\": 538000.0, \\\"x\\\": 2570.0}, {\\\"y\\\": 180000.0, \\\"x\\\": 770.0}, {\\\"y\\\": 604000.0, \\\"x\\\": 1960.0}, {\\\"y\\\": 510000.0, \\\"x\\\": 1680.0}, {\\\"y\\\": 1225000.0, \\\"x\\\": 5420.0}, {\\\"y\\\": 257500.0, \\\"x\\\": 1715.0}, {\\\"y\\\": 291850.0, \\\"x\\\": 1060.0}, {\\\"y\\\": 229500.0, \\\"x\\\": 1780.0}, {\\\"y\\\": 323000.0, \\\"x\\\": 1890.0}, {\\\"y\\\": 662500.0, \\\"x\\\": 3560.0}, {\\\"y\\\": 468000.0, \\\"x\\\": 1160.0}, {\\\"y\\\": 310000.0, \\\"x\\\": 1430.0}, {\\\"y\\\": 400000.0, \\\"x\\\": 1370.0}, {\\\"y\\\": 530000.0, \\\"x\\\": 1810.0}, {\\\"y\\\": 650000.0, \\\"x\\\": 2950.0}, {\\\"y\\\": 395000.0, \\\"x\\\": 1890.0}, {\\\"y\\\": 485000.0, \\\"x\\\": 1600.0}, {\\\"y\\\": 189000.0, \\\"x\\\": 1200.0}, {\\\"y\\\": 230000.0, \\\"x\\\": 1250.0}, {\\\"y\\\": 385000.0, \\\"x\\\": 1620.0}, {\\\"y\\\": 2000000.0, \\\"x\\\": 3050.0}, {\\\"y\\\": 285000.0, \\\"x\\\": 2270.0}, {\\\"y\\\": 252700.0, \\\"x\\\": 1070.0}, {\\\"y\\\": 329000.0, \\\"x\\\": 2450.0}, {\\\"y\\\": 233000.0, \\\"x\\\": 1710.0}, {\\\"y\\\": 937000.0, \\\"x\\\": 2450.0}, {\\\"y\\\": 667000.0, \\\"x\\\": 1400.0}, {\\\"y\\\": 438000.0, \\\"x\\\": 1520.0}, {\\\"y\\\": 719000.0, \\\"x\\\": 2570.0}, {\\\"y\\\": 580500.0, \\\"x\\\": 2320.0}, {\\\"y\\\": 280000.0, \\\"x\\\": 1190.0}, {\\\"y\\\": 687500.0, \\\"x\\\": 2330.0}, {\\\"y\\\": 535000.0, \\\"x\\\": 1090.0}, {\\\"y\\\": 322500.0, \\\"x\\\": 2060.0}, {\\\"y\\\": 696000.0, \\\"x\\\": 2300.0}, {\\\"y\\\": 550000.0, \\\"x\\\": 1660.0}, {\\\"y\\\": 640000.0, \\\"x\\\": 2360.0}, {\\\"y\\\": 240000.0, \\\"x\\\": 1220.0}, {\\\"y\\\": 605000.0, \\\"x\\\": 2620.0}, {\\\"y\\\": 625000.0, \\\"x\\\": 2570.0}, {\\\"y\\\": 775000.0, \\\"x\\\": 4220.0}, {\\\"y\\\": 861990.0, \\\"x\\\": 3595.0}, {\\\"y\\\": 685000.0, \\\"x\\\": 1570.0}, {\\\"y\\\": 309000.0, \\\"x\\\": 1280.0}, {\\\"y\\\": 488000.0, \\\"x\\\": 3160.0}, {\\\"y\\\": 210490.0, \\\"x\\\": 990.0}, {\\\"y\\\": 785000.0, \\\"x\\\": 2290.0}, {\\\"y\\\": 450000.0, \\\"x\\\": 1250.0}, {\\\"y\\\": 1350000.0, \\\"x\\\": 2753.0}, {\\\"y\\\": 228000.0, \\\"x\\\": 1190.0}, {\\\"y\\\": 345000.0, \\\"x\\\": 3150.0}, {\\\"y\\\": 600000.0, \\\"x\\\": 1410.0}, {\\\"y\\\": 585000.0, \\\"x\\\": 1980.0}, {\\\"y\\\": 920000.0, \\\"x\\\": 2730.0}, {\\\"y\\\": 885000.0, \\\"x\\\": 2830.0}, {\\\"y\\\": 292500.0, \\\"x\\\": 2250.0}, {\\\"y\\\": 301000.0, \\\"x\\\": 2420.0}, {\\\"y\\\": 951000.0, \\\"x\\\": 3250.0}, {\\\"y\\\": 430000.0, \\\"x\\\": 1850.0}, {\\\"y\\\": 650000.0, \\\"x\\\": 2150.0}, {\\\"y\\\": 289000.0, \\\"x\\\": 1260.0}, {\\\"y\\\": 505000.0, \\\"x\\\": 2519.0}, {\\\"y\\\": 549000.0, \\\"x\\\": 1540.0}, {\\\"y\\\": 425000.0, \\\"x\\\": 1660.0}, {\\\"y\\\": 317625.0, \\\"x\\\": 2770.0}, {\\\"y\\\": 975000.0, \\\"x\\\": 2720.0}, {\\\"y\\\": 287000.0, \\\"x\\\": 2240.0}, {\\\"y\\\": 204000.0, \\\"x\\\": 1000.0}, {\\\"y\\\": 1325000.0, \\\"x\\\": 3200.0}, {\\\"y\\\": 1040000.0, \\\"x\\\": 4770.0}, {\\\"y\\\": 325000.0, \\\"x\\\": 1260.0}, {\\\"y\\\": 571000.0, \\\"x\\\": 2750.0}, {\\\"y\\\": 360000.0, \\\"x\\\": 2380.0}, {\\\"y\\\": 349000.0, \\\"x\\\": 1790.0}, {\\\"y\\\": 832500.0, \\\"x\\\": 3430.0}, {\\\"y\\\": 380000.0, \\\"x\\\": 1760.0}, {\\\"y\\\": 480000.0, \\\"x\\\": 1040.0}, {\\\"y\\\": 410000.0, \\\"x\\\": 1410.0}, {\\\"y\\\": 720000.0, \\\"x\\\": 3450.0}, {\\\"y\\\": 390000.0, \\\"x\\\": 2350.0}, {\\\"y\\\": 360000.0, \\\"x\\\": 1900.0}, {\\\"y\\\": 355000.0, \\\"x\\\": 2020.0}, {\\\"y\\\": 356000.0, \\\"x\\\": 1680.0}, {\\\"y\\\": 315000.0, \\\"x\\\": 960.0}, {\\\"y\\\": 940000.0, \\\"x\\\": 2140.0}, {\\\"y\\\": 305000.0, \\\"x\\\": 2660.0}, {\\\"y\\\": 461000.0, \\\"x\\\": 2770.0}, {\\\"y\\\": 215000.0, \\\"x\\\": 1610.0}, {\\\"y\\\": 335000.0, \\\"x\\\": 1030.0}, {\\\"y\\\": 243500.0, \\\"x\\\": 1980.0}, {\\\"y\\\": 1099880.0, \\\"x\\\": 3520.0}, {\\\"y\\\": 153000.0, \\\"x\\\": 1200.0}, {\\\"y\\\": 430000.0, \\\"x\\\": 1580.0}, {\\\"y\\\": 700000.0, \\\"x\\\": 1580.0}, {\\\"y\\\": 905000.0, \\\"x\\\": 3300.0}, {\\\"y\\\": 247500.0, \\\"x\\\": 1960.0}, {\\\"y\\\": 199000.0, \\\"x\\\": 1160.0}, {\\\"y\\\": 314000.0, \\\"x\\\": 1810.0}, {\\\"y\\\": 437500.0, \\\"x\\\": 2320.0}, {\\\"y\\\": 850830.0, \\\"x\\\": 2070.0}, {\\\"y\\\": 555000.0, \\\"x\\\": 1980.0}, {\\\"y\\\": 699950.0, \\\"x\\\": 2190.0}, {\\\"y\\\": 1088000.0, \\\"x\\\": 2920.0}, {\\\"y\\\": 290000.0, \\\"x\\\": 1210.0}, {\\\"y\\\": 375000.0, \\\"x\\\": 2340.0}, {\\\"y\\\": 460000.0, \\\"x\\\": 1670.0}, {\\\"y\\\": 188500.0, \\\"x\\\": 1240.0}, {\\\"y\\\": 680000.0, \\\"x\\\": 3140.0}, {\\\"y\\\": 470000.0, \\\"x\\\": 2030.0}, {\\\"y\\\": 597750.0, \\\"x\\\": 2310.0}, {\\\"y\\\": 570000.0, \\\"x\\\": 1260.0}, {\\\"y\\\": 272500.0, \\\"x\\\": 1540.0}, {\\\"y\\\": 329950.0, \\\"x\\\": 2080.0}, {\\\"y\\\": 480000.0, \\\"x\\\": 3230.0}, {\\\"y\\\": 740500.0, \\\"x\\\": 4380.0}, {\\\"y\\\": 518500.0, \\\"x\\\": 1590.0}, {\\\"y\\\": 205425.0, \\\"x\\\": 880.0}, {\\\"y\\\": 171800.0, \\\"x\\\": 1570.0}, {\\\"y\\\": 535000.0, \\\"x\\\": 1610.0}, {\\\"y\\\": 660000.0, \\\"x\\\": 2400.0}, {\\\"y\\\": 391500.0, \\\"x\\\": 1450.0}, {\\\"y\\\": 395000.0, \\\"x\\\": 770.0}, {\\\"y\\\": 445000.0, \\\"x\\\": 2100.0}, {\\\"y\\\": 770000.0, \\\"x\\\": 2910.0}, {\\\"y\\\": 1450000.0, \\\"x\\\": 2750.0}, {\\\"y\\\": 445000.0, \\\"x\\\": 2100.0}, {\\\"y\\\": 260000.0, \\\"x\\\": 2160.0}, {\\\"y\\\": 822500.0, \\\"x\\\": 2320.0}, {\\\"y\\\": 430000.0, \\\"x\\\": 2070.0}, {\\\"y\\\": 212000.0, \\\"x\\\": 1060.0}, {\\\"y\\\": 660500.0, \\\"x\\\": 2010.0}, {\\\"y\\\": 784000.0, \\\"x\\\": 3950.0}, {\\\"y\\\": 453246.0, \\\"x\\\": 2010.0}, {\\\"y\\\": 675000.0, \\\"x\\\": 2140.0}, {\\\"y\\\": 199000.0, \\\"x\\\": 1320.0}, {\\\"y\\\": 220000.0, \\\"x\\\": 2020.0}, {\\\"y\\\": 452000.0, \\\"x\\\": 2590.0}, {\\\"y\\\": 382500.0, \\\"x\\\": 1190.0}, {\\\"y\\\": 519950.0, \\\"x\\\": 1170.0}, {\\\"y\\\": 665000.0, \\\"x\\\": 1110.0}, {\\\"y\\\": 527700.0, \\\"x\\\": 2820.0}, {\\\"y\\\": 205000.0, \\\"x\\\": 1610.0}, {\\\"y\\\": 420000.0, \\\"x\\\": 1060.0}, {\\\"y\\\": 500000.0, \\\"x\\\": 2030.0}, {\\\"y\\\": 921500.0, \\\"x\\\": 3670.0}, {\\\"y\\\": 890000.0, \\\"x\\\": 2550.0}, {\\\"y\\\": 430000.0, \\\"x\\\": 2420.0}, {\\\"y\\\": 258000.0, \\\"x\\\": 2260.0}, {\\\"y\\\": 511000.0, \\\"x\\\": 1430.0}, {\\\"y\\\": 532170.0, \\\"x\\\": 1360.0}, {\\\"y\\\": 560000.0, \\\"x\\\": 1110.0}, {\\\"y\\\": 282950.0, \\\"x\\\": 1250.0}, {\\\"y\\\": 2250000.0, \\\"x\\\": 5180.0}, {\\\"y\\\": 350000.0, \\\"x\\\": 700.0}, {\\\"y\\\": 215000.0, \\\"x\\\": 1180.0}, {\\\"y\\\": 650000.0, \\\"x\\\": 3960.0}, {\\\"y\\\": 320000.0, \\\"x\\\": 2640.0}, {\\\"y\\\": 247000.0, \\\"x\\\": 1270.0}, {\\\"y\\\": 320000.0, \\\"x\\\": 1760.0}, {\\\"y\\\": 255000.0, \\\"x\\\": 2060.0}, {\\\"y\\\": 438000.0, \\\"x\\\": 1780.0}, {\\\"y\\\": 900000.0, \\\"x\\\": 3400.0}, {\\\"y\\\": 441000.0, \\\"x\\\": 1910.0}, {\\\"y\\\": 420000.0, \\\"x\\\": 2020.0}, {\\\"y\\\": 370000.0, \\\"x\\\": 1580.0}, {\\\"y\\\": 269950.0, \\\"x\\\": 1340.0}, {\\\"y\\\": 807100.0, \\\"x\\\": 2680.0}, {\\\"y\\\": 653000.0, \\\"x\\\": 2680.0}, {\\\"y\\\": 371500.0, \\\"x\\\": 1370.0}, {\\\"y\\\": 284000.0, \\\"x\\\": 1560.0}, {\\\"y\\\": 272000.0, \\\"x\\\": 2160.0}, {\\\"y\\\": 313000.0, \\\"x\\\": 1340.0}, {\\\"y\\\": 917500.0, \\\"x\\\": 3880.0}, {\\\"y\\\": 673000.0, \\\"x\\\": 2590.0}, {\\\"y\\\": 425000.0, \\\"x\\\": 1120.0}, {\\\"y\\\": 399950.0, \\\"x\\\": 1970.0}, {\\\"y\\\": 385000.0, \\\"x\\\": 1220.0}, {\\\"y\\\": 269950.0, \\\"x\\\": 1950.0}, {\\\"y\\\": 330000.0, \\\"x\\\": 1350.0}, {\\\"y\\\": 260000.0, \\\"x\\\": 1670.0}, {\\\"y\\\": 470000.0, \\\"x\\\": 2380.0}, {\\\"y\\\": 589000.0, \\\"x\\\": 2440.0}, {\\\"y\\\": 163500.0, \\\"x\\\": 1050.0}, {\\\"y\\\": 835000.0, \\\"x\\\": 3130.0}, {\\\"y\\\": 1095000.0, \\\"x\\\": 4090.0}, {\\\"y\\\": 269000.0, \\\"x\\\": 1490.0}, {\\\"y\\\": 560000.0, \\\"x\\\": 1900.0}, {\\\"y\\\": 615000.0, \\\"x\\\": 1330.0}, {\\\"y\\\": 585188.0, \\\"x\\\": 2230.0}, {\\\"y\\\": 305000.0, \\\"x\\\": 1650.0}, {\\\"y\\\": 166950.0, \\\"x\\\": 1190.0}, {\\\"y\\\": 799000.0, \\\"x\\\": 2140.0}, {\\\"y\\\": 400000.0, \\\"x\\\": 2180.0}, {\\\"y\\\": 230000.0, \\\"x\\\": 1060.0}, {\\\"y\\\": 256883.0, \\\"x\\\": 1690.0}, {\\\"y\\\": 423000.0, \\\"x\\\": 1970.0}, {\\\"y\\\": 465000.0, \\\"x\\\": 2150.0}, {\\\"y\\\": 440000.0, \\\"x\\\": 1910.0}, {\\\"y\\\": 385000.0, \\\"x\\\": 1350.0}, {\\\"y\\\": 210000.0, \\\"x\\\": 860.0}, {\\\"y\\\": 297000.0, \\\"x\\\": 1940.0}, {\\\"y\\\": 470000.0, \\\"x\\\": 1010.0}, {\\\"y\\\": 226500.0, \\\"x\\\": 1300.0}, {\\\"y\\\": 274250.0, \\\"x\\\": 910.0}, {\\\"y\\\": 840000.0, \\\"x\\\": 2480.0}, {\\\"y\\\": 677900.0, \\\"x\\\": 2440.0}, {\\\"y\\\": 425000.0, \\\"x\\\": 1010.0}, {\\\"y\\\": 180250.0, \\\"x\\\": 900.0}, {\\\"y\\\": 464000.0, \\\"x\\\": 2300.0}, {\\\"y\\\": 320000.0, \\\"x\\\": 1550.0}, {\\\"y\\\": 625504.0, \\\"x\\\": 1270.0}, {\\\"y\\\": 592500.0, \\\"x\\\": 2240.0}, {\\\"y\\\": 465000.0, \\\"x\\\": 2714.0}, {\\\"y\\\": 477000.0, \\\"x\\\": 1720.0}, {\\\"y\\\": 280000.0, \\\"x\\\": 850.0}, {\\\"y\\\": 1505000.0, \\\"x\\\": 3300.0}, {\\\"y\\\": 445838.0, \\\"x\\\": 2250.0}, {\\\"y\\\": 1072000.0, \\\"x\\\": 3900.0}, {\\\"y\\\": 467000.0, \\\"x\\\": 1320.0}, {\\\"y\\\": 686000.0, \\\"x\\\": 2760.0}, {\\\"y\\\": 279950.0, \\\"x\\\": 1750.0}, {\\\"y\\\": 527000.0, \\\"x\\\": 2330.0}, {\\\"y\\\": 325000.0, \\\"x\\\": 2220.0}, {\\\"y\\\": 328000.0, \\\"x\\\": 2020.0}, {\\\"y\\\": 390000.0, \\\"x\\\": 1250.0}, {\\\"y\\\": 479950.0, \\\"x\\\": 1510.0}, {\\\"y\\\": 264950.0, \\\"x\\\": 1720.0}, {\\\"y\\\": 235000.0, \\\"x\\\": 1430.0}, {\\\"y\\\": 516500.0, \\\"x\\\": 1480.0}, {\\\"y\\\": 655000.0, \\\"x\\\": 1450.0}, {\\\"y\\\": 500000.0, \\\"x\\\": 2280.0}, {\\\"y\\\": 315000.0, \\\"x\\\": 2940.0}, {\\\"y\\\": 213000.0, \\\"x\\\": 1000.0}, {\\\"y\\\": 475000.0, \\\"x\\\": 2480.0}, {\\\"y\\\": 1025000.0, \\\"x\\\": 3760.0}, {\\\"y\\\": 416000.0, \\\"x\\\": 2220.0}, {\\\"y\\\": 410000.0, \\\"x\\\": 1970.0}, {\\\"y\\\": 800000.0, \\\"x\\\": 3830.0}, {\\\"y\\\": 472000.0, \\\"x\\\": 4410.0}, {\\\"y\\\": 225000.0, \\\"x\\\": 1430.0}, {\\\"y\\\": 210000.0, \\\"x\\\": 830.0}, {\\\"y\\\": 455000.0, \\\"x\\\": 1430.0}, {\\\"y\\\": 225000.0, \\\"x\\\": 1300.0}, {\\\"y\\\": 480000.0, \\\"x\\\": 1030.0}, {\\\"y\\\": 363000.0, \\\"x\\\": 2740.0}, {\\\"y\\\": 2400000.0, \\\"x\\\": 3650.0}, {\\\"y\\\": 181000.0, \\\"x\\\": 720.0}, {\\\"y\\\": 250000.0, \\\"x\\\": 2010.0}, {\\\"y\\\": 481000.0, \\\"x\\\": 1560.0}, {\\\"y\\\": 260000.0, \\\"x\\\": 1810.0}, {\\\"y\\\": 455000.0, \\\"x\\\": 3360.0}, {\\\"y\\\": 415000.0, \\\"x\\\": 1510.0}, {\\\"y\\\": 349500.0, \\\"x\\\": 1400.0}, {\\\"y\\\": 245000.0, \\\"x\\\": 1730.0}, {\\\"y\\\": 592500.0, \\\"x\\\": 1420.0}, {\\\"y\\\": 385000.0, \\\"x\\\": 2360.0}, {\\\"y\\\": 315000.0, \\\"x\\\": 1580.0}, {\\\"y\\\": 255000.0, \\\"x\\\": 1230.0}, {\\\"y\\\": 693000.0, \\\"x\\\": 2460.0}, {\\\"y\\\": 780000.0, \\\"x\\\": 1660.0}, {\\\"y\\\": 237000.0, \\\"x\\\": 1270.0}, {\\\"y\\\": 525000.0, \\\"x\\\": 2100.0}, {\\\"y\\\": 425000.0, \\\"x\\\": 770.0}, {\\\"y\\\": 369900.0, \\\"x\\\": 760.0}, {\\\"y\\\": 290000.0, \\\"x\\\": 1700.0}, {\\\"y\\\": 285000.0, \\\"x\\\": 1120.0}, {\\\"y\\\": 415000.0, \\\"x\\\": 1070.0}, {\\\"y\\\": 272500.0, \\\"x\\\": 2070.0}, {\\\"y\\\": 2900000.0, \\\"x\\\": 5050.0}, {\\\"y\\\": 1365000.0, \\\"x\\\": 5310.0}, {\\\"y\\\": 436000.0, \\\"x\\\": 1040.0}, {\\\"y\\\": 210000.0, \\\"x\\\": 1700.0}, {\\\"y\\\": 236000.0, \\\"x\\\": 1300.0}, {\\\"y\\\": 331000.0, \\\"x\\\": 1080.0}, {\\\"y\\\": 365000.0, \\\"x\\\": 2653.0}, {\\\"y\\\": 450000.0, \\\"x\\\": 2290.0}, {\\\"y\\\": 770000.0, \\\"x\\\": 3820.0}, {\\\"y\\\": 455000.0, \\\"x\\\": 2210.0}, {\\\"y\\\": 405000.0, \\\"x\\\": 2390.0}, {\\\"y\\\": 304900.0, \\\"x\\\": 2600.0}, {\\\"y\\\": 170000.0, \\\"x\\\": 860.0}, {\\\"y\\\": 2050000.0, \\\"x\\\": 3830.0}, {\\\"y\\\": 780000.0, \\\"x\\\": 3500.0}, {\\\"y\\\": 330000.0, \\\"x\\\": 2420.0}, {\\\"y\\\": 370000.0, \\\"x\\\": 2720.0}, {\\\"y\\\": 467000.0, \\\"x\\\": 2500.0}, {\\\"y\\\": 405000.0, \\\"x\\\": 1670.0}, {\\\"y\\\": 675000.0, \\\"x\\\": 2900.0}, {\\\"y\\\": 500000.0, \\\"x\\\": 1640.0}, {\\\"y\\\": 389999.0, \\\"x\\\": 1890.0}, {\\\"y\\\": 630000.0, \\\"x\\\": 2950.0}, {\\\"y\\\": 360000.0, \\\"x\\\": 2160.0}, {\\\"y\\\": 580000.0, \\\"x\\\": 3280.0}, {\\\"y\\\": 550000.0, \\\"x\\\": 1970.0}, {\\\"y\\\": 879000.0, \\\"x\\\": 3360.0}, {\\\"y\\\": 265000.0, \\\"x\\\": 1320.0}, {\\\"y\\\": 446500.0, \\\"x\\\": 2650.0}, {\\\"y\\\": 404000.0, \\\"x\\\": 2030.0}, {\\\"y\\\": 267500.0, \\\"x\\\": 1590.0}, {\\\"y\\\": 3075000.0, \\\"x\\\": 4550.0}, {\\\"y\\\": 335000.0, \\\"x\\\": 2440.0}, {\\\"y\\\": 576000.0, \\\"x\\\": 1940.0}, {\\\"y\\\": 208633.0, \\\"x\\\": 2040.0}, {\\\"y\\\": 315000.0, \\\"x\\\": 2200.0}, {\\\"y\\\": 725000.0, \\\"x\\\": 1920.0}, {\\\"y\\\": 550000.0, \\\"x\\\": 1800.0}, {\\\"y\\\": 610750.0, \\\"x\\\": 2180.0}, {\\\"y\\\": 550700.0, \\\"x\\\": 1010.0}, {\\\"y\\\": 665000.0, \\\"x\\\": 3320.0}, {\\\"y\\\": 834000.0, \\\"x\\\": 2370.0}, {\\\"y\\\": 201000.0, \\\"x\\\": 1660.0}, {\\\"y\\\": 2384000.0, \\\"x\\\": 3650.0}, {\\\"y\\\": 1384000.0, \\\"x\\\": 4290.0}, {\\\"y\\\": 1400000.0, \\\"x\\\": 4290.0}, {\\\"y\\\": 305000.0, \\\"x\\\": 1950.0}, {\\\"y\\\": 487000.0, \\\"x\\\": 2590.0}, {\\\"y\\\": 390000.0, \\\"x\\\": 1930.0}, {\\\"y\\\": 548000.0, \\\"x\\\": 1470.0}, {\\\"y\\\": 268750.0, \\\"x\\\": 800.0}, {\\\"y\\\": 819900.0, \\\"x\\\": 3150.0}, {\\\"y\\\": 520000.0, \\\"x\\\": 2030.0}, {\\\"y\\\": 230000.0, \\\"x\\\": 1450.0}, {\\\"y\\\": 240000.0, \\\"x\\\": 1510.0}, {\\\"y\\\": 232000.0, \\\"x\\\": 1240.0}, {\\\"y\\\": 240500.0, \\\"x\\\": 1240.0}, {\\\"y\\\": 274975.0, \\\"x\\\": 3030.0}, {\\\"y\\\": 740000.0, \\\"x\\\": 2050.0}, {\\\"y\\\": 186375.0, \\\"x\\\": 1000.0}, {\\\"y\\\": 790000.0, \\\"x\\\": 2370.0}, {\\\"y\\\": 880000.0, \\\"x\\\": 2800.0}, {\\\"y\\\": 279000.0, \\\"x\\\": 2240.0}, {\\\"y\\\": 295000.0, \\\"x\\\": 1810.0}, {\\\"y\\\": 640000.0, \\\"x\\\": 1070.0}, {\\\"y\\\": 940000.0, \\\"x\\\": 2490.0}, {\\\"y\\\": 260000.0, \\\"x\\\": 1960.0}, {\\\"y\\\": 559900.0, \\\"x\\\": 2930.0}, {\\\"y\\\": 791500.0, \\\"x\\\": 1510.0}, {\\\"y\\\": 265000.0, \\\"x\\\": 1420.0}, {\\\"y\\\": 245000.0, \\\"x\\\": 1740.0}, {\\\"y\\\": 485000.0, \\\"x\\\": 2560.0}, {\\\"y\\\": 684000.0, \\\"x\\\": 3040.0}, {\\\"y\\\": 425000.0, \\\"x\\\": 2500.0}, {\\\"y\\\": 309600.0, \\\"x\\\": 1275.0}, {\\\"y\\\": 552250.0, \\\"x\\\": 2580.0}, {\\\"y\\\": 165000.0, \\\"x\\\": 1000.0}, {\\\"y\\\": 239900.0, \\\"x\\\": 1000.0}, {\\\"y\\\": 320000.0, \\\"x\\\": 1070.0}, {\\\"y\\\": 206600.0, \\\"x\\\": 1390.0}, {\\\"y\\\": 387000.0, \\\"x\\\": 2500.0}, {\\\"y\\\": 299000.0, \\\"x\\\": 560.0}, {\\\"y\\\": 855000.0, \\\"x\\\": 2270.0}, {\\\"y\\\": 315000.0, \\\"x\\\": 1900.0}, {\\\"y\\\": 437500.0, \\\"x\\\": 990.0}, {\\\"y\\\": 252000.0, \\\"x\\\": 1550.0}, {\\\"y\\\": 375000.0, \\\"x\\\": 2200.0}, {\\\"y\\\": 300000.0, \\\"x\\\": 1910.0}, {\\\"y\\\": 420000.0, \\\"x\\\": 1750.0}, {\\\"y\\\": 900000.0, \\\"x\\\": 1330.0}, {\\\"y\\\": 679900.0, \\\"x\\\": 2440.0}, {\\\"y\\\": 463000.0, \\\"x\\\": 1640.0}, {\\\"y\\\": 380000.0, \\\"x\\\": 2760.0}, {\\\"y\\\": 329500.0, \\\"x\\\": 1820.0}, {\\\"y\\\": 604950.0, \\\"x\\\": 2110.0}, {\\\"y\\\": 795000.0, \\\"x\\\": 3040.0}, {\\\"y\\\": 465000.0, \\\"x\\\": 1840.0}, {\\\"y\\\": 673000.0, \\\"x\\\": 2990.0}, {\\\"y\\\": 810000.0, \\\"x\\\": 3520.0}, {\\\"y\\\": 785000.0, \\\"x\\\": 2440.0}, {\\\"y\\\": 338000.0, \\\"x\\\": 2090.0}, {\\\"y\\\": 280000.0, \\\"x\\\": 1430.0}, {\\\"y\\\": 315000.0, \\\"x\\\": 2180.0}, {\\\"y\\\": 530000.0, \\\"x\\\": 2180.0}, {\\\"y\\\": 380000.0, \\\"x\\\": 3450.0}, {\\\"y\\\": 297000.0, \\\"x\\\": 1450.0}, {\\\"y\\\": 730000.0, \\\"x\\\": 3230.0}, {\\\"y\\\": 450000.0, \\\"x\\\": 1640.0}, {\\\"y\\\": 275000.0, \\\"x\\\": 1590.0}, {\\\"y\\\": 595000.0, \\\"x\\\": 2020.0}, {\\\"y\\\": 435000.0, \\\"x\\\": 1300.0}, {\\\"y\\\": 270000.0, \\\"x\\\": 1380.0}, {\\\"y\\\": 950000.0, \\\"x\\\": 4040.0}, {\\\"y\\\": 389000.0, \\\"x\\\": 2130.0}, {\\\"y\\\": 560000.0, \\\"x\\\": 2550.0}, {\\\"y\\\": 1350000.0, \\\"x\\\": 4800.0}, {\\\"y\\\": 799000.0, \\\"x\\\": 2510.0}, {\\\"y\\\": 365500.0, \\\"x\\\": 1410.0}, {\\\"y\\\": 252350.0, \\\"x\\\": 1650.0}, {\\\"y\\\": 403950.0, \\\"x\\\": 2120.0}, {\\\"y\\\": 385000.0, \\\"x\\\": 2040.0}, {\\\"y\\\": 345000.0, \\\"x\\\": 1550.0}, {\\\"y\\\": 490000.0, \\\"x\\\": 1980.0}, {\\\"y\\\": 330000.0, \\\"x\\\": 1600.0}, {\\\"y\\\": 927000.0, \\\"x\\\": 3300.0}, {\\\"y\\\": 1118000.0, \\\"x\\\": 3840.0}, {\\\"y\\\": 330000.0, \\\"x\\\": 1220.0}, {\\\"y\\\": 530000.0, \\\"x\\\": 2720.0}, {\\\"y\\\": 365000.0, \\\"x\\\": 1940.0}, {\\\"y\\\": 378750.0, \\\"x\\\": 2160.0}, {\\\"y\\\": 269900.0, \\\"x\\\": 1530.0}, {\\\"y\\\": 557000.0, \\\"x\\\": 1710.0}, {\\\"y\\\": 360000.0, \\\"x\\\": 3730.0}, {\\\"y\\\": 352000.0, \\\"x\\\": 940.0}, {\\\"y\\\": 437000.0, \\\"x\\\": 1750.0}, {\\\"y\\\": 322500.0, \\\"x\\\": 1820.0}, {\\\"y\\\": 650000.0, \\\"x\\\": 1510.0}, {\\\"y\\\": 450000.0, \\\"x\\\": 1290.0}, {\\\"y\\\": 278500.0, \\\"x\\\": 1570.0}, {\\\"y\\\": 364950.0, \\\"x\\\": 1930.0}, {\\\"y\\\": 840000.0, \\\"x\\\": 2840.0}, {\\\"y\\\": 268000.0, \\\"x\\\": 1550.0}, {\\\"y\\\": 517534.0, \\\"x\\\": 833.0}, {\\\"y\\\": 632925.0, \\\"x\\\": 2990.0}, {\\\"y\\\": 577500.0, \\\"x\\\": 2000.0}, {\\\"y\\\": 339000.0, \\\"x\\\": 2390.0}, {\\\"y\\\": 570000.0, \\\"x\\\": 2910.0}, {\\\"y\\\": 563500.0, \\\"x\\\": 2085.0}, {\\\"y\\\": 423000.0, \\\"x\\\": 2200.0}, {\\\"y\\\": 355000.0, \\\"x\\\": 1860.0}, {\\\"y\\\": 1550000.0, \\\"x\\\": 6070.0}, {\\\"y\\\": 482000.0, \\\"x\\\": 950.0}, {\\\"y\\\": 625000.0, \\\"x\\\": 1600.0}, {\\\"y\\\": 538000.0, \\\"x\\\": 2250.0}, {\\\"y\\\": 380000.0, \\\"x\\\": 2280.0}, {\\\"y\\\": 375000.0, \\\"x\\\": 940.0}, {\\\"y\\\": 245000.0, \\\"x\\\": 1530.0}, {\\\"y\\\": 310000.0, \\\"x\\\": 2190.0}, {\\\"y\\\": 1300000.0, \\\"x\\\": 2350.0}, {\\\"y\\\": 397000.0, \\\"x\\\": 1440.0}, {\\\"y\\\": 365000.0, \\\"x\\\": 2200.0}, {\\\"y\\\": 328500.0, \\\"x\\\": 2290.0}, {\\\"y\\\": 988000.0, \\\"x\\\": 4040.0}, {\\\"y\\\": 1000000.0, \\\"x\\\": 2610.0}, {\\\"y\\\": 237000.0, \\\"x\\\": 1490.0}, {\\\"y\\\": 525000.0, \\\"x\\\": 2450.0}, {\\\"y\\\": 749000.0, \\\"x\\\": 1710.0}, {\\\"y\\\": 722500.0, \\\"x\\\": 4870.0}, {\\\"y\\\": 843000.0, \\\"x\\\": 3130.0}, {\\\"y\\\": 438000.0, \\\"x\\\": 1270.0}, {\\\"y\\\": 578000.0, \\\"x\\\": 2120.0}, {\\\"y\\\": 227950.0, \\\"x\\\": 1670.0}, {\\\"y\\\": 196000.0, \\\"x\\\": 2070.0}, {\\\"y\\\": 641000.0, \\\"x\\\": 1420.0}, {\\\"y\\\": 350000.0, \\\"x\\\": 1250.0}, {\\\"y\\\": 205000.0, \\\"x\\\": 940.0}, {\\\"y\\\": 400000.0, \\\"x\\\": 1920.0}, {\\\"y\\\": 1030000.0, \\\"x\\\": 3545.0}, {\\\"y\\\": 505000.0, \\\"x\\\": 1260.0}, {\\\"y\\\": 475000.0, \\\"x\\\": 2340.0}, {\\\"y\\\": 520000.0, \\\"x\\\": 2590.0}, {\\\"y\\\": 1450000.0, \\\"x\\\": 3970.0}, {\\\"y\\\": 333500.0, \\\"x\\\": 1220.0}, {\\\"y\\\": 232000.0, \\\"x\\\": 1400.0}, {\\\"y\\\": 691100.0, \\\"x\\\": 2360.0}, {\\\"y\\\": 811000.0, \\\"x\\\": 1870.0}, {\\\"y\\\": 551000.0, \\\"x\\\": 2830.0}, {\\\"y\\\": 496500.0, \\\"x\\\": 2260.0}, {\\\"y\\\": 705000.0, \\\"x\\\": 1970.0}, {\\\"y\\\": 578000.0, \\\"x\\\": 3140.0}, {\\\"y\\\": 255000.0, \\\"x\\\": 1240.0}, {\\\"y\\\": 1050000.0, \\\"x\\\": 3450.0}, {\\\"y\\\": 348000.0, \\\"x\\\": 2570.0}, {\\\"y\\\": 230000.0, \\\"x\\\": 1510.0}, {\\\"y\\\": 359500.0, \\\"x\\\": 2390.0}, {\\\"y\\\": 330000.0, \\\"x\\\": 980.0}, {\\\"y\\\": 80000.0, \\\"x\\\": 430.0}, {\\\"y\\\": 465000.0, \\\"x\\\": 1480.0}, {\\\"y\\\": 325000.0, \\\"x\\\": 1850.0}, {\\\"y\\\": 340500.0, \\\"x\\\": 2270.0}, {\\\"y\\\": 342500.0, \\\"x\\\": 1810.0}, {\\\"y\\\": 290900.0, \\\"x\\\": 1610.0}, {\\\"y\\\": 868700.0, \\\"x\\\": 3840.0}, {\\\"y\\\": 1199000.0, \\\"x\\\": 4110.0}, {\\\"y\\\": 1150000.0, \\\"x\\\": 4190.0}, {\\\"y\\\": 859900.0, \\\"x\\\": 3390.0}, {\\\"y\\\": 520000.0, \\\"x\\\": 1890.0}, {\\\"y\\\": 460000.0, \\\"x\\\": 1610.0}, {\\\"y\\\": 438924.0, \\\"x\\\": 1050.0}, {\\\"y\\\": 315000.0, \\\"x\\\": 630.0}, {\\\"y\\\": 590000.0, \\\"x\\\": 2910.0}, {\\\"y\\\": 378500.0, \\\"x\\\": 1700.0}, {\\\"y\\\": 328500.0, \\\"x\\\": 1950.0}, {\\\"y\\\": 849950.0, \\\"x\\\": 2990.0}, {\\\"y\\\": 525000.0, \\\"x\\\": 1350.0}, {\\\"y\\\": 1385000.0, \\\"x\\\": 4860.0}, {\\\"y\\\": 295000.0, \\\"x\\\": 2160.0}, {\\\"y\\\": 1067000.0, \\\"x\\\": 4860.0}, {\\\"y\\\": 207950.0, \\\"x\\\": 890.0}, {\\\"y\\\": 699900.0, \\\"x\\\": 2810.0}, {\\\"y\\\": 1280000.0, \\\"x\\\": 3400.0}, {\\\"y\\\": 452000.0, \\\"x\\\": 1580.0}, {\\\"y\\\": 370000.0, \\\"x\\\": 1680.0}, {\\\"y\\\": 232000.0, \\\"x\\\": 1300.0}, {\\\"y\\\": 669950.0, \\\"x\\\": 2820.0}, {\\\"y\\\": 397500.0, \\\"x\\\": 1510.0}, {\\\"y\\\": 490000.0, \\\"x\\\": 1230.0}, {\\\"y\\\": 725000.0, \\\"x\\\": 2110.0}, {\\\"y\\\": 299000.0, \\\"x\\\": 3080.0}, {\\\"y\\\": 625000.0, \\\"x\\\": 1490.0}, {\\\"y\\\": 437500.0, \\\"x\\\": 2120.0}, {\\\"y\\\": 650000.0, \\\"x\\\": 3180.0}, {\\\"y\\\": 475000.0, \\\"x\\\": 1490.0}, {\\\"y\\\": 342000.0, \\\"x\\\": 1930.0}, {\\\"y\\\": 1197354.0, \\\"x\\\": 2770.0}, {\\\"y\\\": 280000.0, \\\"x\\\": 1670.0}, {\\\"y\\\": 240000.0, \\\"x\\\": 1330.0}, {\\\"y\\\": 529000.0, \\\"x\\\": 1210.0}, {\\\"y\\\": 442000.0, \\\"x\\\": 1190.0}, {\\\"y\\\": 615000.0, \\\"x\\\": 1540.0}, {\\\"y\\\": 1485000.0, \\\"x\\\": 4030.0}, {\\\"y\\\": 585000.0, \\\"x\\\": 2430.0}, {\\\"y\\\": 480000.0, \\\"x\\\": 2600.0}, {\\\"y\\\": 1095000.0, \\\"x\\\": 4410.0}, {\\\"y\\\": 290000.0, \\\"x\\\": 1330.0}, {\\\"y\\\": 615000.0, \\\"x\\\": 1900.0}, {\\\"y\\\": 300000.0, \\\"x\\\": 1100.0}, {\\\"y\\\": 308000.0, \\\"x\\\": 1980.0}, {\\\"y\\\": 750000.0, \\\"x\\\": 2400.0}, {\\\"y\\\": 2250000.0, \\\"x\\\": 4760.0}, {\\\"y\\\": 890000.0, \\\"x\\\": 3180.0}, {\\\"y\\\": 288000.0, \\\"x\\\": 1190.0}, {\\\"y\\\": 190000.0, \\\"x\\\": 630.0}, {\\\"y\\\": 515000.0, \\\"x\\\": 2530.0}, {\\\"y\\\": 235000.0, \\\"x\\\": 1690.0}, {\\\"y\\\": 275000.0, \\\"x\\\": 940.0}, {\\\"y\\\": 727500.0, \\\"x\\\": 1240.0}, {\\\"y\\\": 650000.0, \\\"x\\\": 3040.0}, {\\\"y\\\": 1600000.0, \\\"x\\\": 6050.0}, {\\\"y\\\": 365000.0, \\\"x\\\": 1590.0}, {\\\"y\\\": 662000.0, \\\"x\\\": 2500.0}, {\\\"y\\\": 270500.0, \\\"x\\\": 1780.0}, {\\\"y\\\": 200000.0, \\\"x\\\": 1360.0}, {\\\"y\\\": 970000.0, \\\"x\\\": 4740.0}, {\\\"y\\\": 160000.0, \\\"x\\\": 1010.0}, {\\\"y\\\": 204000.0, \\\"x\\\": 1040.0}, {\\\"y\\\": 358000.0, \\\"x\\\": 1610.0}, {\\\"y\\\": 452000.0, \\\"x\\\": 1570.0}, {\\\"y\\\": 595000.0, \\\"x\\\": 1510.0}, {\\\"y\\\": 249000.0, \\\"x\\\": 1360.0}, {\\\"y\\\": 346900.0, \\\"x\\\": 1970.0}, {\\\"y\\\": 2125000.0, \\\"x\\\": 5403.0}, {\\\"y\\\": 280000.0, \\\"x\\\": 1560.0}, {\\\"y\\\": 318888.0, \\\"x\\\": 2320.0}, {\\\"y\\\": 530000.0, \\\"x\\\": 2120.0}, {\\\"y\\\": 375000.0, \\\"x\\\": 2120.0}, {\\\"y\\\": 910000.0, \\\"x\\\": 3350.0}, {\\\"y\\\": 782000.0, \\\"x\\\": 2380.0}, {\\\"y\\\": 259950.0, \\\"x\\\": 1070.0}, {\\\"y\\\": 315000.0, \\\"x\\\": 2300.0}, {\\\"y\\\": 215000.0, \\\"x\\\": 1320.0}, {\\\"y\\\": 705000.0, \\\"x\\\": 2180.0}, {\\\"y\\\": 1450000.0, \\\"x\\\": 4380.0}, {\\\"y\\\": 451000.0, \\\"x\\\": 1790.0}, {\\\"y\\\": 261000.0, \\\"x\\\": 750.0}, {\\\"y\\\": 396000.0, \\\"x\\\": 1300.0}, {\\\"y\\\": 725000.0, \\\"x\\\": 2990.0}, {\\\"y\\\": 1950000.0, \\\"x\\\": 4640.0}, {\\\"y\\\": 238000.0, \\\"x\\\": 1400.0}, {\\\"y\\\": 750000.0, \\\"x\\\": 2750.0}, {\\\"y\\\": 331500.0, \\\"x\\\": 2050.0}, {\\\"y\\\": 460000.0, \\\"x\\\": 2230.0}, {\\\"y\\\": 404950.0, \\\"x\\\": 2340.0}, {\\\"y\\\": 880000.0, \\\"x\\\": 2870.0}, {\\\"y\\\": 863000.0, \\\"x\\\": 4120.0}, {\\\"y\\\": 638700.0, \\\"x\\\": 2080.0}, {\\\"y\\\": 435000.0, \\\"x\\\": 1840.0}, {\\\"y\\\": 260000.0, \\\"x\\\": 1180.0}, {\\\"y\\\": 671500.0, \\\"x\\\": 2160.0}, {\\\"y\\\": 610000.0, \\\"x\\\": 1180.0}, {\\\"y\\\": 405000.0, \\\"x\\\": 1160.0}, {\\\"y\\\": 338900.0, \\\"x\\\": 1830.0}, {\\\"y\\\": 720000.0, \\\"x\\\": 3200.0}, {\\\"y\\\": 442000.0, \\\"x\\\": 2560.0}, {\\\"y\\\": 650000.0, \\\"x\\\": 2550.0}, {\\\"y\\\": 263500.0, \\\"x\\\": 1330.0}, {\\\"y\\\": 300000.0, \\\"x\\\": 1220.0}, {\\\"y\\\": 266000.0, \\\"x\\\": 1805.0}, {\\\"y\\\": 930000.0, \\\"x\\\": 6050.0}, {\\\"y\\\": 530000.0, \\\"x\\\": 2320.0}, {\\\"y\\\": 180000.0, \\\"x\\\": 1384.0}, {\\\"y\\\": 619000.0, \\\"x\\\": 2720.0}, {\\\"y\\\": 264000.0, \\\"x\\\": 1820.0}, {\\\"y\\\": 730000.0, \\\"x\\\": 2130.0}, {\\\"y\\\": 439000.0, \\\"x\\\": 2060.0}, {\\\"y\\\": 268500.0, \\\"x\\\": 1420.0}, {\\\"y\\\": 330000.0, \\\"x\\\": 1510.0}, {\\\"y\\\": 640000.0, \\\"x\\\": 2160.0}, {\\\"y\\\": 900000.0, \\\"x\\\": 3180.0}, {\\\"y\\\": 370000.0, \\\"x\\\": 2110.0}, {\\\"y\\\": 685000.0, \\\"x\\\": 2060.0}, {\\\"y\\\": 505000.0, \\\"x\\\": 1830.0}, {\\\"y\\\": 265000.0, \\\"x\\\": 1820.0}, {\\\"y\\\": 290000.0, \\\"x\\\": 1610.0}, {\\\"y\\\": 296000.0, \\\"x\\\": 1780.0}, {\\\"y\\\": 360000.0, \\\"x\\\": 1840.0}, {\\\"y\\\": 240500.0, \\\"x\\\": 1460.0}, {\\\"y\\\": 372500.0, \\\"x\\\": 1400.0}, {\\\"y\\\": 595000.0, \\\"x\\\": 3370.0}, {\\\"y\\\": 515000.0, \\\"x\\\": 3590.0}, {\\\"y\\\": 1220000.0, \\\"x\\\": 3200.0}, {\\\"y\\\": 507000.0, \\\"x\\\": 1670.0}, {\\\"y\\\": 399950.0, \\\"x\\\": 2420.0}, {\\\"y\\\": 185000.0, \\\"x\\\": 1430.0}, {\\\"y\\\": 460000.0, \\\"x\\\": 1440.0}, {\\\"y\\\": 435500.0, \\\"x\\\": 1450.0}, {\\\"y\\\": 469000.0, \\\"x\\\": 3550.0}, {\\\"y\\\": 531000.0, \\\"x\\\": 1270.0}, {\\\"y\\\": 443500.0, \\\"x\\\": 940.0}, {\\\"y\\\": 223000.0, \\\"x\\\": 1670.0}, {\\\"y\\\": 590000.0, \\\"x\\\": 3100.0}, {\\\"y\\\": 340000.0, \\\"x\\\": 1100.0}, {\\\"y\\\": 650000.0, \\\"x\\\": 1870.0}, {\\\"y\\\": 533600.0, \\\"x\\\": 1930.0}, {\\\"y\\\": 695000.0, \\\"x\\\": 2540.0}, {\\\"y\\\": 242000.0, \\\"x\\\": 1280.0}, {\\\"y\\\": 425000.0, \\\"x\\\": 1820.0}, {\\\"y\\\": 525000.0, \\\"x\\\": 1490.0}, {\\\"y\\\": 485000.0, \\\"x\\\": 1880.0}, {\\\"y\\\": 175000.0, \\\"x\\\": 1250.0}, {\\\"y\\\": 210000.0, \\\"x\\\": 1440.0}, {\\\"y\\\": 260000.0, \\\"x\\\": 1920.0}, {\\\"y\\\": 577000.0, \\\"x\\\": 2060.0}, {\\\"y\\\": 200000.0, \\\"x\\\": 1210.0}, {\\\"y\\\": 605000.0, \\\"x\\\": 1760.0}, {\\\"y\\\": 325000.0, \\\"x\\\": 990.0}, {\\\"y\\\": 289500.0, \\\"x\\\": 960.0}, {\\\"y\\\": 559950.0, \\\"x\\\": 1660.0}, {\\\"y\\\": 1042500.0, \\\"x\\\": 1900.0}, {\\\"y\\\": 543500.0, \\\"x\\\": 1270.0}, {\\\"y\\\": 480000.0, \\\"x\\\": 3250.0}, {\\\"y\\\": 218000.0, \\\"x\\\": 960.0}, {\\\"y\\\": 565000.0, \\\"x\\\": 1330.0}, {\\\"y\\\": 426700.0, \\\"x\\\": 2080.0}, {\\\"y\\\": 650000.0, \\\"x\\\": 2690.0}, {\\\"y\\\": 542000.0, \\\"x\\\": 890.0}, {\\\"y\\\": 415000.0, \\\"x\\\": 1070.0}, {\\\"y\\\": 214000.0, \\\"x\\\": 1200.0}, {\\\"y\\\": 245000.0, \\\"x\\\": 1360.0}, {\\\"y\\\": 314500.0, \\\"x\\\": 2050.0}, {\\\"y\\\": 1120000.0, \\\"x\\\": 3000.0}, {\\\"y\\\": 378000.0, \\\"x\\\": 1300.0}, {\\\"y\\\": 305000.0, \\\"x\\\": 2250.0}, {\\\"y\\\": 595000.0, \\\"x\\\": 3740.0}, {\\\"y\\\": 729500.0, \\\"x\\\": 1660.0}, {\\\"y\\\": 430000.0, \\\"x\\\": 2360.0}, {\\\"y\\\": 240000.0, \\\"x\\\": 1760.0}, {\\\"y\\\": 545000.0, \\\"x\\\": 1680.0}, {\\\"y\\\": 530000.0, \\\"x\\\": 1320.0}, {\\\"y\\\": 157000.0, \\\"x\\\": 870.0}, {\\\"y\\\": 425000.0, \\\"x\\\": 1260.0}, {\\\"y\\\": 220000.0, \\\"x\\\": 1000.0}, {\\\"y\\\": 521000.0, \\\"x\\\": 2020.0}, {\\\"y\\\": 325000.0, \\\"x\\\": 1920.0}, {\\\"y\\\": 597500.0, \\\"x\\\": 2150.0}, {\\\"y\\\": 337000.0, \\\"x\\\": 1470.0}, {\\\"y\\\": 1000000.0, \\\"x\\\": 3180.0}, {\\\"y\\\": 3070000.0, \\\"x\\\": 3930.0}, {\\\"y\\\": 495000.0, \\\"x\\\": 990.0}, {\\\"y\\\": 748000.0, \\\"x\\\": 2770.0}, {\\\"y\\\": 888000.0, \\\"x\\\": 1250.0}, {\\\"y\\\": 269900.0, \\\"x\\\": 1140.0}, {\\\"y\\\": 496500.0, \\\"x\\\": 2250.0}, {\\\"y\\\": 475000.0, \\\"x\\\": 1640.0}, {\\\"y\\\": 312000.0, \\\"x\\\": 1255.0}, {\\\"y\\\": 323000.0, \\\"x\\\": 1290.0}, {\\\"y\\\": 331000.0, \\\"x\\\": 1300.0}, {\\\"y\\\": 306000.0, \\\"x\\\": 1220.0}, {\\\"y\\\": 655000.0, \\\"x\\\": 2630.0}, {\\\"y\\\": 290000.0, \\\"x\\\": 1950.0}, {\\\"y\\\": 1250000.0, \\\"x\\\": 3160.0}, {\\\"y\\\": 460000.0, \\\"x\\\": 1550.0}, {\\\"y\\\": 435000.0, \\\"x\\\": 1700.0}, {\\\"y\\\": 664000.0, \\\"x\\\": 2510.0}, {\\\"y\\\": 865000.0, \\\"x\\\": 1800.0}, {\\\"y\\\": 385000.0, \\\"x\\\": 1800.0}, {\\\"y\\\": 497000.0, \\\"x\\\": 1870.0}, {\\\"y\\\": 280000.0, \\\"x\\\": 1010.0}, {\\\"y\\\": 188000.0, \\\"x\\\": 1120.0}, {\\\"y\\\": 478500.0, \\\"x\\\": 2090.0}, {\\\"y\\\": 1145000.0, \\\"x\\\": 4370.0}, {\\\"y\\\": 222000.0, \\\"x\\\": 1440.0}, {\\\"y\\\": 799000.0, \\\"x\\\": 2580.0}, {\\\"y\\\": 609900.0, \\\"x\\\": 3190.0}, {\\\"y\\\": 413000.0, \\\"x\\\": 2380.0}, {\\\"y\\\": 400000.0, \\\"x\\\": 1420.0}, {\\\"y\\\": 802541.0, \\\"x\\\": 2990.0}, {\\\"y\\\": 320000.0, \\\"x\\\": 2680.0}, {\\\"y\\\": 507000.0, \\\"x\\\": 2730.0}, {\\\"y\\\": 387500.0, \\\"x\\\": 1220.0}, {\\\"y\\\": 396000.0, \\\"x\\\": 1500.0}, {\\\"y\\\": 373000.0, \\\"x\\\": 1830.0}, {\\\"y\\\": 1484900.0, \\\"x\\\": 4570.0}, {\\\"y\\\": 359900.0, \\\"x\\\": 2470.0}, {\\\"y\\\": 410000.0, \\\"x\\\": 800.0}, {\\\"y\\\": 690000.0, \\\"x\\\": 2900.0}, {\\\"y\\\": 245000.0, \\\"x\\\": 1410.0}, {\\\"y\\\": 700000.0, \\\"x\\\": 2830.0}, {\\\"y\\\": 268000.0, \\\"x\\\": 1680.0}, {\\\"y\\\": 225000.0, \\\"x\\\": 1760.0}, {\\\"y\\\": 980000.0, \\\"x\\\": 2240.0}, {\\\"y\\\": 795000.0, \\\"x\\\": 1380.0}, {\\\"y\\\": 195000.0, \\\"x\\\": 820.0}, {\\\"y\\\": 480000.0, \\\"x\\\": 2180.0}, {\\\"y\\\": 485000.0, \\\"x\\\": 1400.0}, {\\\"y\\\": 130000.0, \\\"x\\\": 880.0}, {\\\"y\\\": 325000.0, \\\"x\\\": 1060.0}, {\\\"y\\\": 440000.0, \\\"x\\\": 1530.0}, {\\\"y\\\": 550000.0, \\\"x\\\": 2480.0}, {\\\"y\\\": 310000.0, \\\"x\\\": 1490.0}, {\\\"y\\\": 530000.0, \\\"x\\\": 3660.0}, {\\\"y\\\": 390000.0, \\\"x\\\": 2340.0}, {\\\"y\\\": 243000.0, \\\"x\\\": 1450.0}, {\\\"y\\\": 639000.0, \\\"x\\\": 2210.0}, {\\\"y\\\": 215000.0, \\\"x\\\": 1130.0}, {\\\"y\\\": 405000.0, \\\"x\\\": 1550.0}, {\\\"y\\\": 250000.0, \\\"x\\\": 1710.0}, {\\\"y\\\": 405500.0, \\\"x\\\": 1010.0}, {\\\"y\\\": 452000.0, \\\"x\\\": 2660.0}, {\\\"y\\\": 730000.0, \\\"x\\\": 2660.0}, {\\\"y\\\": 267000.0, \\\"x\\\": 1300.0}, {\\\"y\\\": 289950.0, \\\"x\\\": 1670.0}, {\\\"y\\\": 565000.0, \\\"x\\\": 960.0}, {\\\"y\\\": 1578000.0, \\\"x\\\": 4670.0}, {\\\"y\\\": 636000.0, \\\"x\\\": 2140.0}, {\\\"y\\\": 350000.0, \\\"x\\\": 2520.0}, {\\\"y\\\": 320000.0, \\\"x\\\": 1650.0}, {\\\"y\\\": 210000.0, \\\"x\\\": 1440.0}, {\\\"y\\\": 245000.0, \\\"x\\\": 1050.0}, {\\\"y\\\": 328000.0, \\\"x\\\": 1470.0}, {\\\"y\\\": 985000.0, \\\"x\\\": 4230.0}, {\\\"y\\\": 501000.0, \\\"x\\\": 1970.0}, {\\\"y\\\": 315000.0, \\\"x\\\": 1540.0}, {\\\"y\\\": 403000.0, \\\"x\\\": 2090.0}, {\\\"y\\\": 550000.0, \\\"x\\\": 2380.0}, {\\\"y\\\": 347500.0, \\\"x\\\": 2156.0}, {\\\"y\\\": 365000.0, \\\"x\\\": 2070.0}, {\\\"y\\\": 588000.0, \\\"x\\\": 1910.0}, {\\\"y\\\": 605000.0, \\\"x\\\": 1920.0}, {\\\"y\\\": 1300000.0, \\\"x\\\": 3400.0}, {\\\"y\\\": 233000.0, \\\"x\\\": 1400.0}, {\\\"y\\\": 360000.0, \\\"x\\\": 2210.0}, {\\\"y\\\": 459000.0, \\\"x\\\": 1170.0}, {\\\"y\\\": 740000.0, \\\"x\\\": 2100.0}, {\\\"y\\\": 305000.0, \\\"x\\\": 1160.0}, {\\\"y\\\": 395000.0, \\\"x\\\": 1500.0}, {\\\"y\\\": 560000.0, \\\"x\\\": 2940.0}, {\\\"y\\\": 650000.0, \\\"x\\\": 2010.0}, {\\\"y\\\": 449950.0, \\\"x\\\": 2170.0}, {\\\"y\\\": 517500.0, \\\"x\\\": 1430.0}, {\\\"y\\\": 435000.0, \\\"x\\\": 1510.0}, {\\\"y\\\": 329999.0, \\\"x\\\": 1150.0}, {\\\"y\\\": 950000.0, \\\"x\\\": 2150.0}, {\\\"y\\\": 447000.0, \\\"x\\\": 1370.0}, {\\\"y\\\": 699800.0, \\\"x\\\": 2380.0}, {\\\"y\\\": 850000.0, \\\"x\\\": 1370.0}, {\\\"y\\\": 316500.0, \\\"x\\\": 1600.0}, {\\\"y\\\": 942500.0, \\\"x\\\": 3750.0}, {\\\"y\\\": 1310000.0, \\\"x\\\": 3950.0}, {\\\"y\\\": 856600.0, \\\"x\\\": 2400.0}, {\\\"y\\\": 405600.0, \\\"x\\\": 2830.0}, {\\\"y\\\": 565000.0, \\\"x\\\": 2440.0}, {\\\"y\\\": 400000.0, \\\"x\\\": 1190.0}, {\\\"y\\\": 330000.0, \\\"x\\\": 1400.0}, {\\\"y\\\": 374950.0, \\\"x\\\": 2730.0}, {\\\"y\\\": 405300.0, \\\"x\\\": 2390.0}, {\\\"y\\\": 560000.0, \\\"x\\\": 2060.0}, {\\\"y\\\": 824000.0, \\\"x\\\": 2490.0}, {\\\"y\\\": 260000.0, \\\"x\\\": 1100.0}, {\\\"y\\\": 760000.0, \\\"x\\\": 2430.0}, {\\\"y\\\": 405000.0, \\\"x\\\": 3170.0}, {\\\"y\\\": 429900.0, \\\"x\\\": 2640.0}, {\\\"y\\\": 341500.0, \\\"x\\\": 1130.0}, {\\\"y\\\": 465250.0, \\\"x\\\": 1940.0}, {\\\"y\\\": 450000.0, \\\"x\\\": 1100.0}, {\\\"y\\\": 390000.0, \\\"x\\\": 1200.0}, {\\\"y\\\": 420000.0, \\\"x\\\": 2000.0}, {\\\"y\\\": 269950.0, \\\"x\\\": 1890.0}, {\\\"y\\\": 493000.0, \\\"x\\\": 1910.0}, {\\\"y\\\": 370000.0, \\\"x\\\": 2710.0}, {\\\"y\\\": 2250000.0, \\\"x\\\": 4860.0}, {\\\"y\\\": 305000.0, \\\"x\\\": 1250.0}, {\\\"y\\\": 400000.0, \\\"x\\\": 1590.0}, {\\\"y\\\": 320000.0, \\\"x\\\": 1240.0}, {\\\"y\\\": 715000.0, \\\"x\\\": 2000.0}, {\\\"y\\\": 650000.0, \\\"x\\\": 3610.0}, {\\\"y\\\": 218000.0, \\\"x\\\": 1930.0}, {\\\"y\\\": 500000.0, \\\"x\\\": 1280.0}, {\\\"y\\\": 460000.0, \\\"x\\\": 2090.0}, {\\\"y\\\": 232500.0, \\\"x\\\": 1940.0}, {\\\"y\\\": 408200.0, \\\"x\\\": 1800.0}, {\\\"y\\\": 522000.0, \\\"x\\\": 1730.0}, {\\\"y\\\": 675000.0, \\\"x\\\": 2810.0}, {\\\"y\\\": 1355000.0, \\\"x\\\": 3550.0}, {\\\"y\\\": 249950.0, \\\"x\\\": 1330.0}, {\\\"y\\\": 210000.0, \\\"x\\\": 750.0}, {\\\"y\\\": 429950.0, \\\"x\\\": 1760.0}, {\\\"y\\\": 737500.0, \\\"x\\\": 3200.0}, {\\\"y\\\": 710000.0, \\\"x\\\": 1740.0}, {\\\"y\\\": 470000.0, \\\"x\\\": 2100.0}, {\\\"y\\\": 1100000.0, \\\"x\\\": 4270.0}, {\\\"y\\\": 650000.0, \\\"x\\\": 1340.0}, {\\\"y\\\": 1216000.0, \\\"x\\\": 3190.0}, {\\\"y\\\": 422120.0, \\\"x\\\": 1630.0}, {\\\"y\\\": 625000.0, \\\"x\\\": 2990.0}, {\\\"y\\\": 385200.0, \\\"x\\\": 1550.0}, {\\\"y\\\": 500000.0, \\\"x\\\": 1690.0}, {\\\"y\\\": 308000.0, \\\"x\\\": 1960.0}, {\\\"y\\\": 565000.0, \\\"x\\\": 2390.0}, {\\\"y\\\": 581000.0, \\\"x\\\": 2600.0}, {\\\"y\\\": 361000.0, \\\"x\\\": 1950.0}, {\\\"y\\\": 345000.0, \\\"x\\\": 1250.0}, {\\\"y\\\": 419000.0, \\\"x\\\": 1180.0}, {\\\"y\\\": 347000.0, \\\"x\\\": 1680.0}, {\\\"y\\\": 625000.0, \\\"x\\\": 2220.0}, {\\\"y\\\": 2400000.0, \\\"x\\\": 4890.0}, {\\\"y\\\": 379000.0, \\\"x\\\": 2660.0}, {\\\"y\\\": 310000.0, \\\"x\\\": 1150.0}, {\\\"y\\\": 250000.0, \\\"x\\\": 1130.0}, {\\\"y\\\": 682000.0, \\\"x\\\": 2760.0}, {\\\"y\\\": 246500.0, \\\"x\\\": 1430.0}, {\\\"y\\\": 325000.0, \\\"x\\\": 1490.0}, {\\\"y\\\": 310950.0, \\\"x\\\": 2030.0}, {\\\"y\\\": 1100000.0, \\\"x\\\": 3010.0}, {\\\"y\\\": 287500.0, \\\"x\\\": 1810.0}, {\\\"y\\\": 431000.0, \\\"x\\\": 1810.0}, {\\\"y\\\": 226000.0, \\\"x\\\": 970.0}, {\\\"y\\\": 825000.0, \\\"x\\\": 2010.0}, {\\\"y\\\": 175000.0, \\\"x\\\": 1300.0}, {\\\"y\\\": 465750.0, \\\"x\\\": 1260.0}, {\\\"y\\\": 659000.0, \\\"x\\\": 2610.0}, {\\\"y\\\": 595000.0, \\\"x\\\": 1910.0}, {\\\"y\\\": 350000.0, \\\"x\\\": 1780.0}, {\\\"y\\\": 270000.0, \\\"x\\\": 1900.0}, {\\\"y\\\": 662500.0, \\\"x\\\": 2450.0}, {\\\"y\\\": 249900.0, \\\"x\\\": 1380.0}, {\\\"y\\\": 324500.0, \\\"x\\\": 1920.0}, {\\\"y\\\": 430000.0, \\\"x\\\": 1350.0}, {\\\"y\\\": 419950.0, \\\"x\\\": 1350.0}, {\\\"y\\\": 285000.0, \\\"x\\\": 2510.0}, {\\\"y\\\": 332000.0, \\\"x\\\": 2470.0}, {\\\"y\\\": 282000.0, \\\"x\\\": 1660.0}, {\\\"y\\\": 320000.0, \\\"x\\\": 1340.0}, {\\\"y\\\": 428750.0, \\\"x\\\": 1620.0}, {\\\"y\\\": 330000.0, \\\"x\\\": 2300.0}, {\\\"y\\\": 456500.0, \\\"x\\\": 2000.0}, {\\\"y\\\": 352000.0, \\\"x\\\": 1640.0}, {\\\"y\\\": 664000.0, \\\"x\\\": 1530.0}, {\\\"y\\\": 628000.0, \\\"x\\\": 4000.0}, {\\\"y\\\": 512000.0, \\\"x\\\": 1610.0}, {\\\"y\\\": 254000.0, \\\"x\\\": 2070.0}, {\\\"y\\\": 535800.0, \\\"x\\\": 1900.0}, {\\\"y\\\": 287653.0, \\\"x\\\": 1050.0}, {\\\"y\\\": 438000.0, \\\"x\\\": 1520.0}, {\\\"y\\\": 450000.0, \\\"x\\\": 2390.0}, {\\\"y\\\": 327000.0, \\\"x\\\": 2400.0}, {\\\"y\\\": 370500.0, \\\"x\\\": 1790.0}, {\\\"y\\\": 265000.0, \\\"x\\\": 1720.0}, {\\\"y\\\": 450000.0, \\\"x\\\": 2980.0}, {\\\"y\\\": 425000.0, \\\"x\\\": 1520.0}, {\\\"y\\\": 166600.0, \\\"x\\\": 1150.0}, {\\\"y\\\": 245000.0, \\\"x\\\": 380.0}, {\\\"y\\\": 565000.0, \\\"x\\\": 910.0}, {\\\"y\\\": 539900.0, \\\"x\\\": 1650.0}, {\\\"y\\\": 910000.0, \\\"x\\\": 2480.0}, {\\\"y\\\": 280000.0, \\\"x\\\": 2050.0}, {\\\"y\\\": 275000.0, \\\"x\\\": 1420.0}, {\\\"y\\\": 467000.0, \\\"x\\\": 3460.0}, {\\\"y\\\": 457500.0, \\\"x\\\": 1500.0}, {\\\"y\\\": 381156.0, \\\"x\\\": 1320.0}, {\\\"y\\\": 289999.0, \\\"x\\\": 2180.0}, {\\\"y\\\": 642450.0, \\\"x\\\": 1830.0}, {\\\"y\\\": 469950.0, \\\"x\\\": 1620.0}, {\\\"y\\\": 795000.0, \\\"x\\\": 2920.0}, {\\\"y\\\": 785000.0, \\\"x\\\": 3300.0}, {\\\"y\\\": 860000.0, \\\"x\\\": 3060.0}, {\\\"y\\\": 1095000.0, \\\"x\\\": 3064.0}, {\\\"y\\\": 147500.0, \\\"x\\\": 1530.0}, {\\\"y\\\": 390000.0, \\\"x\\\": 1910.0}, {\\\"y\\\": 229000.0, \\\"x\\\": 1020.0}, {\\\"y\\\": 185000.0, \\\"x\\\": 1150.0}, {\\\"y\\\": 414900.0, \\\"x\\\": 1260.0}, {\\\"y\\\": 200000.0, \\\"x\\\": 1920.0}, {\\\"y\\\": 225000.0, \\\"x\\\": 1800.0}, {\\\"y\\\": 720000.0, \\\"x\\\": 2040.0}, {\\\"y\\\": 930000.0, \\\"x\\\": 2200.0}, {\\\"y\\\": 1270000.0, \\\"x\\\": 3200.0}, {\\\"y\\\": 700000.0, \\\"x\\\": 2400.0}, {\\\"y\\\": 466000.0, \\\"x\\\": 1140.0}, {\\\"y\\\": 374000.0, \\\"x\\\": 1330.0}, {\\\"y\\\": 480000.0, \\\"x\\\": 1940.0}, {\\\"y\\\": 740000.0, \\\"x\\\": 3000.0}, {\\\"y\\\": 1010000.0, \\\"x\\\": 1820.0}, {\\\"y\\\": 395000.0, \\\"x\\\": 2910.0}, {\\\"y\\\": 340000.0, \\\"x\\\": 1090.0}, {\\\"y\\\": 209000.0, \\\"x\\\": 1230.0}, {\\\"y\\\": 431650.0, \\\"x\\\": 1710.0}, {\\\"y\\\": 980000.0, \\\"x\\\": 3160.0}, {\\\"y\\\": 660000.0, \\\"x\\\": 2680.0}, {\\\"y\\\": 730000.0, \\\"x\\\": 2190.0}, {\\\"y\\\": 291500.0, \\\"x\\\": 1260.0}, {\\\"y\\\": 905000.0, \\\"x\\\": 2970.0}, {\\\"y\\\": 800000.0, \\\"x\\\": 2570.0}, {\\\"y\\\": 839900.0, \\\"x\\\": 3810.0}, {\\\"y\\\": 200000.0, \\\"x\\\": 1010.0}, {\\\"y\\\": 300000.0, \\\"x\\\": 1480.0}, {\\\"y\\\": 530000.0, \\\"x\\\": 1250.0}, {\\\"y\\\": 314950.0, \\\"x\\\": 1654.0}, {\\\"y\\\": 255000.0, \\\"x\\\": 1410.0}, {\\\"y\\\": 550000.0, \\\"x\\\": 2160.0}, {\\\"y\\\": 435000.0, \\\"x\\\": 1400.0}, {\\\"y\\\": 234000.0, \\\"x\\\": 1420.0}, {\\\"y\\\": 615000.0, \\\"x\\\": 2500.0}, {\\\"y\\\": 205000.0, \\\"x\\\": 1410.0}, {\\\"y\\\": 384000.0, \\\"x\\\": 2100.0}, {\\\"y\\\": 324000.0, \\\"x\\\": 1750.0}, {\\\"y\\\": 645000.0, \\\"x\\\": 2070.0}, {\\\"y\\\": 570000.0, \\\"x\\\": 1570.0}, {\\\"y\\\": 324000.0, \\\"x\\\": 1920.0}, {\\\"y\\\": 270000.0, \\\"x\\\": 1000.0}, {\\\"y\\\": 290000.0, \\\"x\\\": 2120.0}, {\\\"y\\\": 250000.0, \\\"x\\\": 1440.0}, {\\\"y\\\": 342000.0, \\\"x\\\": 1660.0}, {\\\"y\\\": 255000.0, \\\"x\\\": 1340.0}, {\\\"y\\\": 800000.0, \\\"x\\\": 2380.0}, {\\\"y\\\": 451000.0, \\\"x\\\": 1560.0}, {\\\"y\\\": 990000.0, \\\"x\\\": 2780.0}, {\\\"y\\\": 288400.0, \\\"x\\\": 1860.0}, {\\\"y\\\": 420000.0, \\\"x\\\": 2390.0}, {\\\"y\\\": 359000.0, \\\"x\\\": 1370.0}, {\\\"y\\\": 390000.0, \\\"x\\\": 2570.0}, {\\\"y\\\": 300000.0, \\\"x\\\": 1320.0}, {\\\"y\\\": 545000.0, \\\"x\\\": 2520.0}, {\\\"y\\\": 288349.0, \\\"x\\\": 1250.0}, {\\\"y\\\": 299900.0, \\\"x\\\": 1560.0}, {\\\"y\\\": 891000.0, \\\"x\\\": 2330.0}, {\\\"y\\\": 1200000.0, \\\"x\\\": 3660.0}, {\\\"y\\\": 378000.0, \\\"x\\\": 2790.0}, {\\\"y\\\": 299995.0, \\\"x\\\": 1060.0}, {\\\"y\\\": 253000.0, \\\"x\\\": 2020.0}, {\\\"y\\\": 350000.0, \\\"x\\\": 1580.0}, {\\\"y\\\": 565000.0, \\\"x\\\": 2020.0}, {\\\"y\\\": 315000.0, \\\"x\\\": 970.0}, {\\\"y\\\": 570000.0, \\\"x\\\": 1490.0}, {\\\"y\\\": 971000.0, \\\"x\\\": 4390.0}, {\\\"y\\\": 915000.0, \\\"x\\\": 2750.0}, {\\\"y\\\": 419000.0, \\\"x\\\": 2150.0}, {\\\"y\\\": 260000.0, \\\"x\\\": 1810.0}, {\\\"y\\\": 1321500.0, \\\"x\\\": 2230.0}, {\\\"y\\\": 369950.0, \\\"x\\\": 2430.0}, {\\\"y\\\": 1029900.0, \\\"x\\\": 3680.0}, {\\\"y\\\": 435000.0, \\\"x\\\": 1410.0}, {\\\"y\\\": 601000.0, \\\"x\\\": 1330.0}, {\\\"y\\\": 460500.0, \\\"x\\\": 1490.0}, {\\\"y\\\": 720000.0, \\\"x\\\": 2020.0}, {\\\"y\\\": 851000.0, \\\"x\\\": 3130.0}, {\\\"y\\\": 550000.0, \\\"x\\\": 2670.0}, {\\\"y\\\": 700000.0, \\\"x\\\": 1980.0}, {\\\"y\\\": 323000.0, \\\"x\\\": 2100.0}, {\\\"y\\\": 345500.0, \\\"x\\\": 1350.0}, {\\\"y\\\": 378000.0, \\\"x\\\": 2140.0}, {\\\"y\\\": 650000.0, \\\"x\\\": 2208.0}, {\\\"y\\\": 385000.0, \\\"x\\\": 1010.0}, {\\\"y\\\": 425000.0, \\\"x\\\": 970.0}, {\\\"y\\\": 210000.0, \\\"x\\\": 1520.0}, {\\\"y\\\": 630000.0, \\\"x\\\": 2740.0}, {\\\"y\\\": 335000.0, \\\"x\\\": 1570.0}, {\\\"y\\\": 196500.0, \\\"x\\\": 1320.0}, {\\\"y\\\": 582800.0, \\\"x\\\": 2550.0}, {\\\"y\\\": 440000.0, \\\"x\\\": 1560.0}, {\\\"y\\\": 752500.0, \\\"x\\\": 2360.0}, {\\\"y\\\": 532500.0, \\\"x\\\": 1330.0}, {\\\"y\\\": 265000.0, \\\"x\\\": 1070.0}, {\\\"y\\\": 397500.0, \\\"x\\\": 1510.0}, {\\\"y\\\": 524250.0, \\\"x\\\": 1710.0}, {\\\"y\\\": 765000.0, \\\"x\\\": 2790.0}, {\\\"y\\\": 648000.0, \\\"x\\\": 2620.0}, {\\\"y\\\": 469500.0, \\\"x\\\": 2970.0}, {\\\"y\\\": 237500.0, \\\"x\\\": 1050.0}, {\\\"y\\\": 216000.0, \\\"x\\\": 1280.0}, {\\\"y\\\": 427200.0, \\\"x\\\": 1030.0}, {\\\"y\\\": 280000.0, \\\"x\\\": 1900.0}, {\\\"y\\\": 718000.0, \\\"x\\\": 3070.0}, {\\\"y\\\": 420000.0, \\\"x\\\": 1760.0}, {\\\"y\\\": 379000.0, \\\"x\\\": 930.0}, {\\\"y\\\": 326100.0, \\\"x\\\": 880.0}, {\\\"y\\\": 535000.0, \\\"x\\\": 1360.0}, {\\\"y\\\": 283000.0, \\\"x\\\": 2130.0}, {\\\"y\\\": 260000.0, \\\"x\\\": 1480.0}, {\\\"y\\\": 399000.0, \\\"x\\\": 1500.0}, {\\\"y\\\": 484950.0, \\\"x\\\": 1670.0}, {\\\"y\\\": 640000.0, \\\"x\\\": 2060.0}, {\\\"y\\\": 585000.0, \\\"x\\\": 2160.0}, {\\\"y\\\": 645000.0, \\\"x\\\": 2780.0}, {\\\"y\\\": 253000.0, \\\"x\\\": 1490.0}, {\\\"y\\\": 178500.0, \\\"x\\\": 740.0}, {\\\"y\\\": 291000.0, \\\"x\\\": 1860.0}, {\\\"y\\\": 199950.0, \\\"x\\\": 1590.0}, {\\\"y\\\": 553500.0, \\\"x\\\": 850.0}, {\\\"y\\\": 189950.0, \\\"x\\\": 1030.0}, {\\\"y\\\": 289000.0, \\\"x\\\": 1850.0}, {\\\"y\\\": 700000.0, \\\"x\\\": 1830.0}, {\\\"y\\\": 270000.0, \\\"x\\\": 1560.0}, {\\\"y\\\": 258000.0, \\\"x\\\": 1730.0}, {\\\"y\\\": 530000.0, \\\"x\\\": 1930.0}, {\\\"y\\\": 245000.0, \\\"x\\\": 1422.0}, {\\\"y\\\": 563000.0, \\\"x\\\": 1380.0}, {\\\"y\\\": 515000.0, \\\"x\\\": 2430.0}, {\\\"y\\\": 325000.0, \\\"x\\\": 2610.0}, {\\\"y\\\": 540000.0, \\\"x\\\": 2000.0}, {\\\"y\\\": 280300.0, \\\"x\\\": 920.0}, {\\\"y\\\": 460000.0, \\\"x\\\": 1750.0}, {\\\"y\\\": 475000.0, \\\"x\\\": 2020.0}, {\\\"y\\\": 900000.0, \\\"x\\\": 2460.0}, {\\\"y\\\": 538200.0, \\\"x\\\": 1780.0}, {\\\"y\\\": 429000.0, \\\"x\\\": 1080.0}, {\\\"y\\\": 164808.0, \\\"x\\\": 1250.0}, {\\\"y\\\": 520000.0, \\\"x\\\": 1870.0}, {\\\"y\\\": 475000.0, \\\"x\\\": 1700.0}, {\\\"y\\\": 283000.0, \\\"x\\\": 1480.0}, {\\\"y\\\": 321500.0, \\\"x\\\": 1930.0}, {\\\"y\\\": 840000.0, \\\"x\\\": 3130.0}, {\\\"y\\\": 287000.0, \\\"x\\\": 1370.0}, {\\\"y\\\": 375000.0, \\\"x\\\": 960.0}, {\\\"y\\\": 349500.0, \\\"x\\\": 1260.0}, {\\\"y\\\": 446450.0, \\\"x\\\": 1480.0}, {\\\"y\\\": 315000.0, \\\"x\\\": 1930.0}, {\\\"y\\\": 271310.0, \\\"x\\\": 870.0}, {\\\"y\\\": 315000.0, \\\"x\\\": 1300.0}, {\\\"y\\\": 245000.0, \\\"x\\\": 1490.0}, {\\\"y\\\": 543115.0, \\\"x\\\": 1380.0}, {\\\"y\\\": 900000.0, \\\"x\\\": 1190.0}, {\\\"y\\\": 2450000.0, \\\"x\\\": 4250.0}, {\\\"y\\\": 554000.0, \\\"x\\\": 1920.0}, {\\\"y\\\": 249900.0, \\\"x\\\": 2080.0}, {\\\"y\\\": 768000.0, \\\"x\\\": 3220.0}, {\\\"y\\\": 980000.0, \\\"x\\\": 3680.0}, {\\\"y\\\": 395000.0, \\\"x\\\": 2070.0}, {\\\"y\\\": 415000.0, \\\"x\\\": 1480.0}, {\\\"y\\\": 380000.0, \\\"x\\\": 2000.0}, {\\\"y\\\": 566000.0, \\\"x\\\": 1560.0}, {\\\"y\\\": 218500.0, \\\"x\\\": 1600.0}, {\\\"y\\\": 550000.0, \\\"x\\\": 1940.0}, {\\\"y\\\": 512031.0, \\\"x\\\": 1540.0}, {\\\"y\\\": 197500.0, \\\"x\\\": 820.0}, {\\\"y\\\": 470000.0, \\\"x\\\": 1780.0}, {\\\"y\\\": 590000.0, \\\"x\\\": 1560.0}, {\\\"y\\\": 465000.0, \\\"x\\\": 2210.0}, {\\\"y\\\": 499000.0, \\\"x\\\": 2040.0}, {\\\"y\\\": 515000.0, \\\"x\\\": 1920.0}, {\\\"y\\\": 716500.0, \\\"x\\\": 1930.0}, {\\\"y\\\": 410000.0, \\\"x\\\": 1700.0}, {\\\"y\\\": 850000.0, \\\"x\\\": 3450.0}, {\\\"y\\\": 1050000.0, \\\"x\\\": 3440.0}, {\\\"y\\\": 648000.0, \\\"x\\\": 2380.0}, {\\\"y\\\": 620000.0, \\\"x\\\": 2400.0}, {\\\"y\\\": 935000.0, \\\"x\\\": 5670.0}, {\\\"y\\\": 379000.0, \\\"x\\\": 1140.0}, {\\\"y\\\": 699000.0, \\\"x\\\": 1670.0}, {\\\"y\\\": 528000.0, \\\"x\\\": 1910.0}, {\\\"y\\\": 425000.0, \\\"x\\\": 1560.0}, {\\\"y\\\": 249500.0, \\\"x\\\": 1500.0}, {\\\"y\\\": 1035480.0, \\\"x\\\": 4475.0}, {\\\"y\\\": 790000.0, \\\"x\\\": 2840.0}, {\\\"y\\\": 399950.0, \\\"x\\\": 1020.0}, {\\\"y\\\": 275000.0, \\\"x\\\": 1410.0}, {\\\"y\\\": 550000.0, \\\"x\\\": 1520.0}, {\\\"y\\\": 140000.0, \\\"x\\\": 730.0}, {\\\"y\\\": 250000.0, \\\"x\\\": 1190.0}, {\\\"y\\\": 318000.0, \\\"x\\\": 1410.0}, {\\\"y\\\": 505000.0, \\\"x\\\": 1240.0}, {\\\"y\\\": 470500.0, \\\"x\\\": 2500.0}, {\\\"y\\\": 360000.0, \\\"x\\\": 1050.0}, {\\\"y\\\": 1242500.0, \\\"x\\\": 2680.0}, {\\\"y\\\": 986000.0, \\\"x\\\": 2380.0}, {\\\"y\\\": 515000.0, \\\"x\\\": 1060.0}, {\\\"y\\\": 320000.0, \\\"x\\\": 2300.0}, {\\\"y\\\": 310000.0, \\\"x\\\": 2010.0}, {\\\"y\\\": 356700.0, \\\"x\\\": 1090.0}, {\\\"y\\\": 775000.0, \\\"x\\\": 2320.0}, {\\\"y\\\": 325000.0, \\\"x\\\": 1040.0}, {\\\"y\\\": 208000.0, \\\"x\\\": 1810.0}, {\\\"y\\\": 825000.0, \\\"x\\\": 1150.0}, {\\\"y\\\": 515000.0, \\\"x\\\": 2360.0}, {\\\"y\\\": 490000.0, \\\"x\\\": 1970.0}, {\\\"y\\\": 675000.0, \\\"x\\\": 2690.0}, {\\\"y\\\": 360000.0, \\\"x\\\": 2080.0}, {\\\"y\\\": 550000.0, \\\"x\\\": 2080.0}, {\\\"y\\\": 225000.0, \\\"x\\\": 1370.0}, {\\\"y\\\": 500000.0, \\\"x\\\": 3410.0}, {\\\"y\\\": 385000.0, \\\"x\\\": 1850.0}, {\\\"y\\\": 837700.0, \\\"x\\\": 3010.0}, {\\\"y\\\": 448000.0, \\\"x\\\": 1530.0}, {\\\"y\\\": 730000.0, \\\"x\\\": 2690.0}, {\\\"y\\\": 575000.0, \\\"x\\\": 2810.0}, {\\\"y\\\": 430000.0, \\\"x\\\": 1810.0}, {\\\"y\\\": 435000.0, \\\"x\\\": 1560.0}, {\\\"y\\\": 241000.0, \\\"x\\\": 1010.0}, {\\\"y\\\": 453500.0, \\\"x\\\": 1000.0}, {\\\"y\\\": 285000.0, \\\"x\\\": 990.0}, {\\\"y\\\": 151000.0, \\\"x\\\": 720.0}, {\\\"y\\\": 1570000.0, \\\"x\\\": 6070.0}, {\\\"y\\\": 631000.0, \\\"x\\\": 2270.0}, {\\\"y\\\": 285000.0, \\\"x\\\": 1380.0}, {\\\"y\\\": 195000.0, \\\"x\\\": 1260.0}, {\\\"y\\\": 817500.0, \\\"x\\\": 2910.0}, {\\\"y\\\": 550000.0, \\\"x\\\": 1810.0}, {\\\"y\\\": 1127000.0, \\\"x\\\": 3160.0}, {\\\"y\\\": 609850.0, \\\"x\\\": 1910.0}, {\\\"y\\\": 200000.0, \\\"x\\\": 1230.0}, {\\\"y\\\": 367000.0, \\\"x\\\": 2960.0}, {\\\"y\\\": 285167.0, \\\"x\\\": 2200.0}, {\\\"y\\\": 275000.0, \\\"x\\\": 1270.0}, {\\\"y\\\": 350900.0, \\\"x\\\": 2540.0}, {\\\"y\\\": 660000.0, \\\"x\\\": 3030.0}, {\\\"y\\\": 525000.0, \\\"x\\\": 1520.0}, {\\\"y\\\": 262000.0, \\\"x\\\": 1560.0}, {\\\"y\\\": 690000.0, \\\"x\\\": 970.0}, {\\\"y\\\": 624000.0, \\\"x\\\": 3570.0}, {\\\"y\\\": 353000.0, \\\"x\\\": 1350.0}, {\\\"y\\\": 552500.0, \\\"x\\\": 3710.0}, {\\\"y\\\": 224500.0, \\\"x\\\": 1430.0}, {\\\"y\\\": 239000.0, \\\"x\\\": 940.0}, {\\\"y\\\": 975000.0, \\\"x\\\": 4300.0}, {\\\"y\\\": 1200000.0, \\\"x\\\": 3990.0}, {\\\"y\\\": 505000.0, \\\"x\\\": 1380.0}, {\\\"y\\\": 302000.0, \\\"x\\\": 2020.0}, {\\\"y\\\": 170000.0, \\\"x\\\": 1480.0}, {\\\"y\\\": 195000.0, \\\"x\\\": 1190.0}, {\\\"y\\\": 272000.0, \\\"x\\\": 2550.0}, {\\\"y\\\": 369000.0, \\\"x\\\": 2550.0}, {\\\"y\\\": 332500.0, \\\"x\\\": 1500.0}, {\\\"y\\\": 515000.0, \\\"x\\\": 3000.0}, {\\\"y\\\": 269000.0, \\\"x\\\": 1690.0}, {\\\"y\\\": 1278000.0, \\\"x\\\": 4390.0}, {\\\"y\\\": 303000.0, \\\"x\\\": 1560.0}, {\\\"y\\\": 420000.0, \\\"x\\\": 2940.0}, {\\\"y\\\": 400000.0, \\\"x\\\": 1130.0}, {\\\"y\\\": 225000.0, \\\"x\\\": 1020.0}, {\\\"y\\\": 219000.0, \\\"x\\\": 1310.0}, {\\\"y\\\": 605000.0, \\\"x\\\": 2570.0}, {\\\"y\\\": 625000.0, \\\"x\\\": 2020.0}, {\\\"y\\\": 380000.0, \\\"x\\\": 1680.0}, {\\\"y\\\": 620000.0, \\\"x\\\": 1770.0}, {\\\"y\\\": 687500.0, \\\"x\\\": 3190.0}, {\\\"y\\\": 225500.0, \\\"x\\\": 1440.0}, {\\\"y\\\": 252500.0, \\\"x\\\": 1150.0}, {\\\"y\\\": 510000.0, \\\"x\\\": 1860.0}, {\\\"y\\\": 510000.0, \\\"x\\\": 2430.0}, {\\\"y\\\": 725000.0, \\\"x\\\": 1940.0}, {\\\"y\\\": 75000.0, \\\"x\\\": 670.0}, {\\\"y\\\": 492000.0, \\\"x\\\": 880.0}, {\\\"y\\\": 425000.0, \\\"x\\\": 1930.0}, {\\\"y\\\": 1955000.0, \\\"x\\\": 3120.0}, {\\\"y\\\": 298900.0, \\\"x\\\": 1830.0}, {\\\"y\\\": 699000.0, \\\"x\\\": 3230.0}, {\\\"y\\\": 310000.0, \\\"x\\\": 700.0}, {\\\"y\\\": 350000.0, \\\"x\\\": 1010.0}, {\\\"y\\\": 790000.0, \\\"x\\\": 2460.0}, {\\\"y\\\": 305000.0, \\\"x\\\": 2230.0}, {\\\"y\\\": 315000.0, \\\"x\\\": 1570.0}, {\\\"y\\\": 267500.0, \\\"x\\\": 2390.0}, {\\\"y\\\": 1750000.0, \\\"x\\\": 3460.0}, {\\\"y\\\": 435000.0, \\\"x\\\": 2400.0}, {\\\"y\\\": 482500.0, \\\"x\\\": 2940.0}, {\\\"y\\\": 5110800.0, \\\"x\\\": 8010.0}, {\\\"y\\\": 439995.0, \\\"x\\\": 1570.0}, {\\\"y\\\": 460000.0, \\\"x\\\": 1520.0}, {\\\"y\\\": 194000.0, \\\"x\\\": 1070.0}, {\\\"y\\\": 290000.0, \\\"x\\\": 440.0}, {\\\"y\\\": 274700.0, \\\"x\\\": 2440.0}, {\\\"y\\\": 900000.0, \\\"x\\\": 2660.0}, {\\\"y\\\": 1150000.0, \\\"x\\\": 4460.0}, {\\\"y\\\": 605000.0, \\\"x\\\": 2010.0}, {\\\"y\\\": 359000.0, \\\"x\\\": 1450.0}, {\\\"y\\\": 850000.0, \\\"x\\\": 1400.0}, {\\\"y\\\": 505000.0, \\\"x\\\": 1500.0}, {\\\"y\\\": 565000.0, \\\"x\\\": 2500.0}, {\\\"y\\\": 585000.0, \\\"x\\\": 1280.0}, {\\\"y\\\": 328000.0, \\\"x\\\": 3380.0}, {\\\"y\\\": 749950.0, \\\"x\\\": 2910.0}, {\\\"y\\\": 826000.0, \\\"x\\\": 3060.0}, {\\\"y\\\": 535000.0, \\\"x\\\": 1330.0}, {\\\"y\\\": 925000.0, \\\"x\\\": 3300.0}, {\\\"y\\\": 875000.0, \\\"x\\\": 3250.0}, {\\\"y\\\": 902000.0, \\\"x\\\": 2530.0}, {\\\"y\\\": 423000.0, \\\"x\\\": 1830.0}, {\\\"y\\\": 235000.0, \\\"x\\\": 1170.0}, {\\\"y\\\": 545000.0, \\\"x\\\": 2930.0}, {\\\"y\\\": 343000.0, \\\"x\\\": 1230.0}, {\\\"y\\\": 334950.0, \\\"x\\\": 1620.0}, {\\\"y\\\": 405000.0, \\\"x\\\": 1760.0}, {\\\"y\\\": 220000.0, \\\"x\\\": 1440.0}, {\\\"y\\\": 173000.0, \\\"x\\\": 1740.0}, {\\\"y\\\": 655000.0, \\\"x\\\": 1270.0}, {\\\"y\\\": 406000.0, \\\"x\\\": 880.0}, {\\\"y\\\": 632000.0, \\\"x\\\": 2560.0}, {\\\"y\\\": 357000.0, \\\"x\\\": 1540.0}, {\\\"y\\\": 361000.0, \\\"x\\\": 1150.0}, {\\\"y\\\": 277000.0, \\\"x\\\": 770.0}, {\\\"y\\\": 630000.0, \\\"x\\\": 4610.0}, {\\\"y\\\": 254000.0, \\\"x\\\": 1850.0}, {\\\"y\\\": 472800.0, \\\"x\\\": 1840.0}, {\\\"y\\\": 263000.0, \\\"x\\\": 1490.0}, {\\\"y\\\": 510000.0, \\\"x\\\": 1490.0}, {\\\"y\\\": 179950.0, \\\"x\\\": 960.0}, {\\\"y\\\": 525000.0, \\\"x\\\": 1580.0}, {\\\"y\\\": 479000.0, \\\"x\\\": 1260.0}, {\\\"y\\\": 651000.0, \\\"x\\\": 1940.0}, {\\\"y\\\": 949000.0, \\\"x\\\": 2490.0}, {\\\"y\\\": 392400.0, \\\"x\\\": 2520.0}, {\\\"y\\\": 585000.0, \\\"x\\\": 1760.0}, {\\\"y\\\": 460000.0, \\\"x\\\": 4190.0}, {\\\"y\\\": 470000.0, \\\"x\\\": 1170.0}, {\\\"y\\\": 245000.0, \\\"x\\\": 1600.0}, {\\\"y\\\": 500000.0, \\\"x\\\": 2760.0}, {\\\"y\\\": 455000.0, \\\"x\\\": 2090.0}, {\\\"y\\\": 485500.0, \\\"x\\\": 2320.0}, {\\\"y\\\": 1875000.0, \\\"x\\\": 4110.0}, {\\\"y\\\": 100000.0, \\\"x\\\": 770.0}, {\\\"y\\\": 307000.0, \\\"x\\\": 1410.0}, {\\\"y\\\": 475000.0, \\\"x\\\": 3660.0}, {\\\"y\\\": 330000.0, \\\"x\\\": 2180.0}, {\\\"y\\\": 130000.0, \\\"x\\\": 1110.0}, {\\\"y\\\": 320000.0, \\\"x\\\": 2280.0}, {\\\"y\\\": 735000.0, \\\"x\\\": 2820.0}, {\\\"y\\\": 365000.0, \\\"x\\\": 1570.0}, {\\\"y\\\": 234000.0, \\\"x\\\": 1200.0}, {\\\"y\\\": 211000.0, \\\"x\\\": 1710.0}, {\\\"y\\\": 680000.0, \\\"x\\\": 3000.0}, {\\\"y\\\": 457000.0, \\\"x\\\": 2800.0}, {\\\"y\\\": 349000.0, \\\"x\\\": 1640.0}, {\\\"y\\\": 360000.0, \\\"x\\\": 2030.0}, {\\\"y\\\": 350000.0, \\\"x\\\": 2530.0}, {\\\"y\\\": 208000.0, \\\"x\\\": 990.0}, {\\\"y\\\": 250275.0, \\\"x\\\": 790.0}, {\\\"y\\\": 435000.0, \\\"x\\\": 790.0}, {\\\"y\\\": 270000.0, \\\"x\\\": 1800.0}, {\\\"y\\\": 438000.0, \\\"x\\\": 1650.0}, {\\\"y\\\": 659000.0, \\\"x\\\": 1980.0}, {\\\"y\\\": 645000.0, \\\"x\\\": 2340.0}, {\\\"y\\\": 685100.0, \\\"x\\\": 2790.0}, {\\\"y\\\": 350000.0, \\\"x\\\": 2800.0}, {\\\"y\\\": 375000.0, \\\"x\\\": 1840.0}, {\\\"y\\\": 170000.0, \\\"x\\\": 1350.0}, {\\\"y\\\": 880000.0, \\\"x\\\": 3030.0}, {\\\"y\\\": 410500.0, \\\"x\\\": 1980.0}, {\\\"y\\\": 780000.0, \\\"x\\\": 3690.0}, {\\\"y\\\": 1225000.0, \\\"x\\\": 3732.0}, {\\\"y\\\": 449000.0, \\\"x\\\": 1510.0}, {\\\"y\\\": 546000.0, \\\"x\\\": 2000.0}, {\\\"y\\\": 317000.0, \\\"x\\\": 1760.0}, {\\\"y\\\": 276900.0, \\\"x\\\": 1270.0}, {\\\"y\\\": 399000.0, \\\"x\\\": 2620.0}, {\\\"y\\\": 495000.0, \\\"x\\\": 2630.0}, {\\\"y\\\": 258000.0, \\\"x\\\": 2270.0}, {\\\"y\\\": 600000.0, \\\"x\\\": 2410.0}, {\\\"y\\\": 265000.0, \\\"x\\\": 1120.0}, {\\\"y\\\": 321000.0, \\\"x\\\": 3030.0}, {\\\"y\\\": 682000.0, \\\"x\\\": 2120.0}, {\\\"y\\\": 295700.0, \\\"x\\\": 1720.0}, {\\\"y\\\": 609000.0, \\\"x\\\": 2150.0}, {\\\"y\\\": 995000.0, \\\"x\\\": 4380.0}, {\\\"y\\\": 530000.0, \\\"x\\\": 2010.0}, {\\\"y\\\": 614000.0, \\\"x\\\": 3150.0}, {\\\"y\\\": 390000.0, \\\"x\\\": 2500.0}, {\\\"y\\\": 467000.0, \\\"x\\\": 1690.0}, {\\\"y\\\": 484000.0, \\\"x\\\": 3300.0}, {\\\"y\\\": 340000.0, \\\"x\\\": 1240.0}, {\\\"y\\\": 302495.0, \\\"x\\\": 2200.0}, {\\\"y\\\": 532500.0, \\\"x\\\": 1620.0}, {\\\"y\\\": 441500.0, \\\"x\\\": 2420.0}, {\\\"y\\\": 470000.0, \\\"x\\\": 2680.0}, {\\\"y\\\": 2300000.0, \\\"x\\\": 4250.0}, {\\\"y\\\": 590000.0, \\\"x\\\": 2400.0}, {\\\"y\\\": 320000.0, \\\"x\\\": 2300.0}, {\\\"y\\\": 363000.0, \\\"x\\\": 920.0}, {\\\"y\\\": 747500.0, \\\"x\\\": 2350.0}, {\\\"y\\\": 750000.0, \\\"x\\\": 2630.0}, {\\\"y\\\": 831000.0, \\\"x\\\": 2170.0}, {\\\"y\\\": 403000.0, \\\"x\\\": 1700.0}, {\\\"y\\\": 445000.0, \\\"x\\\": 2470.0}, {\\\"y\\\": 345000.0, \\\"x\\\": 1250.0}, {\\\"y\\\": 2260000.0, \\\"x\\\": 3110.0}, {\\\"y\\\": 371025.0, \\\"x\\\": 1530.0}, {\\\"y\\\": 355000.0, \\\"x\\\": 960.0}, {\\\"y\\\": 270000.0, \\\"x\\\": 1240.0}, {\\\"y\\\": 425000.0, \\\"x\\\": 2440.0}, {\\\"y\\\": 364808.0, \\\"x\\\": 2320.0}, {\\\"y\\\": 320000.0, \\\"x\\\": 1580.0}, {\\\"y\\\": 325000.0, \\\"x\\\": 2963.0}, {\\\"y\\\": 350000.0, \\\"x\\\": 2470.0}, {\\\"y\\\": 170000.0, \\\"x\\\": 1370.0}, {\\\"y\\\": 255000.0, \\\"x\\\": 960.0}, {\\\"y\\\": 550000.0, \\\"x\\\": 1130.0}, {\\\"y\\\": 835000.0, \\\"x\\\": 4930.0}, {\\\"y\\\": 420000.0, \\\"x\\\": 1150.0}, {\\\"y\\\": 925000.0, \\\"x\\\": 2190.0}, {\\\"y\\\": 389250.0, \\\"x\\\": 1490.0}, {\\\"y\\\": 748000.0, \\\"x\\\": 2600.0}, {\\\"y\\\": 284000.0, \\\"x\\\": 1530.0}, {\\\"y\\\": 588000.0, \\\"x\\\": 1680.0}, {\\\"y\\\": 372500.0, \\\"x\\\": 1680.0}, {\\\"y\\\": 285000.0, \\\"x\\\": 1900.0}, {\\\"y\\\": 360000.0, \\\"x\\\": 1570.0}, {\\\"y\\\": 275000.0, \\\"x\\\": 1370.0}, {\\\"y\\\": 428000.0, \\\"x\\\": 1350.0}, {\\\"y\\\": 847000.0, \\\"x\\\": 3010.0}, {\\\"y\\\": 316000.0, \\\"x\\\": 1010.0}, {\\\"y\\\": 375000.0, \\\"x\\\": 2050.0}, {\\\"y\\\": 533000.0, \\\"x\\\": 1670.0}, {\\\"y\\\": 556000.0, \\\"x\\\": 3840.0}, {\\\"y\\\": 225000.0, \\\"x\\\": 2220.0}, {\\\"y\\\": 537250.0, \\\"x\\\": 2590.0}, {\\\"y\\\": 255000.0, \\\"x\\\": 1180.0}, {\\\"y\\\": 530000.0, \\\"x\\\": 2950.0}, {\\\"y\\\": 5300000.0, \\\"x\\\": 7390.0}, {\\\"y\\\": 595000.0, \\\"x\\\": 2150.0}, {\\\"y\\\": 548000.0, \\\"x\\\": 2100.0}, {\\\"y\\\": 234975.0, \\\"x\\\": 1650.0}, {\\\"y\\\": 600000.0, \\\"x\\\": 1620.0}, {\\\"y\\\": 432000.0, \\\"x\\\": 1750.0}, {\\\"y\\\": 455000.0, \\\"x\\\": 1380.0}, {\\\"y\\\": 279950.0, \\\"x\\\": 1510.0}, {\\\"y\\\": 267500.0, \\\"x\\\": 1600.0}, {\\\"y\\\": 620000.0, \\\"x\\\": 1840.0}, {\\\"y\\\": 110000.0, \\\"x\\\": 830.0}, {\\\"y\\\": 625000.0, \\\"x\\\": 1810.0}, {\\\"y\\\": 389000.0, \\\"x\\\": 910.0}, {\\\"y\\\": 1200000.0, \\\"x\\\": 2120.0}, {\\\"y\\\": 788500.0, \\\"x\\\": 2510.0}, {\\\"y\\\": 567000.0, \\\"x\\\": 2100.0}, {\\\"y\\\": 515000.0, \\\"x\\\": 2690.0}, {\\\"y\\\": 605000.0, \\\"x\\\": 2430.0}, {\\\"y\\\": 430000.0, \\\"x\\\": 2452.0}, {\\\"y\\\": 805000.0, \\\"x\\\": 1550.0}, {\\\"y\\\": 567500.0, \\\"x\\\": 2080.0}, {\\\"y\\\": 647500.0, \\\"x\\\": 1290.0}, {\\\"y\\\": 495000.0, \\\"x\\\": 1850.0}, {\\\"y\\\": 825000.0, \\\"x\\\": 3370.0}, {\\\"y\\\": 435000.0, \\\"x\\\": 2730.0}, {\\\"y\\\": 445950.0, \\\"x\\\": 1300.0}, {\\\"y\\\": 960000.0, \\\"x\\\": 3040.0}, {\\\"y\\\": 780000.0, \\\"x\\\": 2440.0}, {\\\"y\\\": 274500.0, \\\"x\\\": 1720.0}, {\\\"y\\\": 729953.0, \\\"x\\\": 3230.0}, {\\\"y\\\": 464950.0, \\\"x\\\": 1200.0}, {\\\"y\\\": 620000.0, \\\"x\\\": 2350.0}, {\\\"y\\\": 735000.0, \\\"x\\\": 3100.0}, {\\\"y\\\": 450000.0, \\\"x\\\": 2040.0}, {\\\"y\\\": 450000.0, \\\"x\\\": 2000.0}, {\\\"y\\\": 842500.0, \\\"x\\\": 2160.0}, {\\\"y\\\": 360000.0, \\\"x\\\": 1970.0}, {\\\"y\\\": 585000.0, \\\"x\\\": 2270.0}, {\\\"y\\\": 461000.0, \\\"x\\\": 1850.0}, {\\\"y\\\": 345000.0, \\\"x\\\": 1350.0}, {\\\"y\\\": 1075000.0, \\\"x\\\": 3280.0}, {\\\"y\\\": 643000.0, \\\"x\\\": 2270.0}, {\\\"y\\\": 690000.0, \\\"x\\\": 2820.0}, {\\\"y\\\": 282000.0, \\\"x\\\": 1200.0}, {\\\"y\\\": 549000.0, \\\"x\\\": 2000.0}, {\\\"y\\\": 815000.0, \\\"x\\\": 2310.0}, {\\\"y\\\": 2200000.0, \\\"x\\\": 4640.0}, {\\\"y\\\": 700000.0, \\\"x\\\": 2330.0}, {\\\"y\\\": 933399.0, \\\"x\\\": 3940.0}, {\\\"y\\\": 290000.0, \\\"x\\\": 1440.0}, {\\\"y\\\": 372000.0, \\\"x\\\": 1960.0}, {\\\"y\\\": 450000.0, \\\"x\\\": 1250.0}, {\\\"y\\\": 303700.0, \\\"x\\\": 1981.0}, {\\\"y\\\": 672000.0, \\\"x\\\": 2440.0}, {\\\"y\\\": 334000.0, \\\"x\\\": 1150.0}, {\\\"y\\\": 260000.0, \\\"x\\\": 1120.0}, {\\\"y\\\": 749950.0, \\\"x\\\": 1800.0}, {\\\"y\\\": 330000.0, \\\"x\\\": 2380.0}, {\\\"y\\\": 830000.0, \\\"x\\\": 2920.0}, {\\\"y\\\": 1131000.0, \\\"x\\\": 2790.0}, {\\\"y\\\": 320000.0, \\\"x\\\": 1560.0}, {\\\"y\\\": 260000.0, \\\"x\\\": 1550.0}, {\\\"y\\\": 225000.0, \\\"x\\\": 1700.0}, {\\\"y\\\": 279200.0, \\\"x\\\": 640.0}, {\\\"y\\\": 520000.0, \\\"x\\\": 2680.0}, {\\\"y\\\": 505000.0, \\\"x\\\": 1860.0}, {\\\"y\\\": 234000.0, \\\"x\\\": 1490.0}, {\\\"y\\\": 503000.0, \\\"x\\\": 2470.0}, {\\\"y\\\": 606000.0, \\\"x\\\": 2390.0}, {\\\"y\\\": 433500.0, \\\"x\\\": 1230.0}, {\\\"y\\\": 250000.0, \\\"x\\\": 2840.0}, {\\\"y\\\": 719000.0, \\\"x\\\": 2120.0}, {\\\"y\\\": 381000.0, \\\"x\\\": 1770.0}, {\\\"y\\\": 267000.0, \\\"x\\\": 2495.0}, {\\\"y\\\": 275000.0, \\\"x\\\": 1170.0}, {\\\"y\\\": 651000.0, \\\"x\\\": 2740.0}, {\\\"y\\\": 439000.0, \\\"x\\\": 1050.0}, {\\\"y\\\": 325000.0, \\\"x\\\": 1130.0}, {\\\"y\\\": 490000.0, \\\"x\\\": 880.0}, {\\\"y\\\": 519900.0, \\\"x\\\": 2403.0}, {\\\"y\\\": 545000.0, \\\"x\\\": 3410.0}, {\\\"y\\\": 1062500.0, \\\"x\\\": 5320.0}, {\\\"y\\\": 542000.0, \\\"x\\\": 1900.0}, {\\\"y\\\": 465000.0, \\\"x\\\": 1810.0}, {\\\"y\\\": 408000.0, \\\"x\\\": 1200.0}, {\\\"y\\\": 292000.0, \\\"x\\\": 2060.0}, {\\\"y\\\": 253000.0, \\\"x\\\": 1250.0}, {\\\"y\\\": 280000.0, \\\"x\\\": 910.0}, {\\\"y\\\": 658588.0, \\\"x\\\": 2560.0}, {\\\"y\\\": 635000.0, \\\"x\\\": 1920.0}, {\\\"y\\\": 439000.0, \\\"x\\\": 2240.0}, {\\\"y\\\": 300000.0, \\\"x\\\": 1260.0}, {\\\"y\\\": 345000.0, \\\"x\\\": 1360.0}, {\\\"y\\\": 283500.0, \\\"x\\\": 2100.0}, {\\\"y\\\": 425000.0, \\\"x\\\": 2110.0}, {\\\"y\\\": 685000.0, \\\"x\\\": 2210.0}, {\\\"y\\\": 750000.0, \\\"x\\\": 2360.0}, {\\\"y\\\": 245000.0, \\\"x\\\": 1280.0}, {\\\"y\\\": 585444.0, \\\"x\\\": 2740.0}, {\\\"y\\\": 706000.0, \\\"x\\\": 2740.0}, {\\\"y\\\": 445000.0, \\\"x\\\": 2630.0}, {\\\"y\\\": 241000.0, \\\"x\\\": 1650.0}, {\\\"y\\\": 1175000.0, \\\"x\\\": 1770.0}, {\\\"y\\\": 530000.0, \\\"x\\\": 1500.0}, {\\\"y\\\": 350000.0, \\\"x\\\": 1430.0}, {\\\"y\\\": 1700000.0, \\\"x\\\": 3190.0}, {\\\"y\\\": 389000.0, \\\"x\\\": 1280.0}, {\\\"y\\\": 799000.0, \\\"x\\\": 2390.0}, {\\\"y\\\": 1400000.0, \\\"x\\\": 4040.0}, {\\\"y\\\": 340895.0, \\\"x\\\": 920.0}, {\\\"y\\\": 780000.0, \\\"x\\\": 2730.0}, {\\\"y\\\": 350000.0, \\\"x\\\": 1320.0}, {\\\"y\\\": 470000.0, \\\"x\\\": 2620.0}, {\\\"y\\\": 914600.0, \\\"x\\\": 3180.0}, {\\\"y\\\": 354000.0, \\\"x\\\": 2900.0}, {\\\"y\\\": 470000.0, \\\"x\\\": 1900.0}, {\\\"y\\\": 715000.0, \\\"x\\\": 1760.0}, {\\\"y\\\": 265000.0, \\\"x\\\": 760.0}, {\\\"y\\\": 2537000.0, \\\"x\\\": 3710.0}, {\\\"y\\\": 640000.0, \\\"x\\\": 1530.0}, {\\\"y\\\": 290000.0, \\\"x\\\": 1990.0}, {\\\"y\\\": 480000.0, \\\"x\\\": 3830.0}, {\\\"y\\\": 535000.0, \\\"x\\\": 2040.0}, {\\\"y\\\": 907000.0, \\\"x\\\": 2170.0}, {\\\"y\\\": 459000.0, \\\"x\\\": 1620.0}, {\\\"y\\\": 1355000.0, \\\"x\\\": 3600.0}, {\\\"y\\\": 264950.0, \\\"x\\\": 1470.0}, {\\\"y\\\": 352950.0, \\\"x\\\": 1760.0}, {\\\"y\\\": 491500.0, \\\"x\\\": 2230.0}, {\\\"y\\\": 1229000.0, \\\"x\\\": 3770.0}, {\\\"y\\\": 369500.0, \\\"x\\\": 1200.0}, {\\\"y\\\": 566000.0, \\\"x\\\": 2090.0}, {\\\"y\\\": 290000.0, \\\"x\\\": 1500.0}, {\\\"y\\\": 5350000.0, \\\"x\\\": 8000.0}, {\\\"y\\\": 180000.0, \\\"x\\\": 870.0}, {\\\"y\\\": 215000.0, \\\"x\\\": 1010.0}, {\\\"y\\\": 302000.0, \\\"x\\\": 1010.0}, {\\\"y\\\": 352500.0, \\\"x\\\": 1860.0}, {\\\"y\\\": 235867.0, \\\"x\\\": 1330.0}, {\\\"y\\\": 500000.0, \\\"x\\\": 1760.0}, {\\\"y\\\": 382000.0, \\\"x\\\": 1800.0}, {\\\"y\\\": 515000.0, \\\"x\\\": 1690.0}, {\\\"y\\\": 250000.0, \\\"x\\\": 660.0}, {\\\"y\\\": 672500.0, \\\"x\\\": 2400.0}, {\\\"y\\\": 755000.0, \\\"x\\\": 3020.0}, {\\\"y\\\": 707500.0, \\\"x\\\": 1500.0}, {\\\"y\\\": 459000.0, \\\"x\\\": 1560.0}, {\\\"y\\\": 140000.0, \\\"x\\\": 1090.0}, {\\\"y\\\": 495000.0, \\\"x\\\": 970.0}, {\\\"y\\\": 757000.0, \\\"x\\\": 3190.0}, {\\\"y\\\": 765000.0, \\\"x\\\": 3190.0}, {\\\"y\\\": 359000.0, \\\"x\\\": 1890.0}, {\\\"y\\\": 440000.0, \\\"x\\\": 1050.0}, {\\\"y\\\": 400000.0, \\\"x\\\": 1390.0}, {\\\"y\\\": 652000.0, \\\"x\\\": 1700.0}, {\\\"y\\\": 260000.0, \\\"x\\\": 1050.0}, {\\\"y\\\": 1328000.0, \\\"x\\\": 3340.0}, {\\\"y\\\": 519500.0, \\\"x\\\": 1540.0}, {\\\"y\\\": 650000.0, \\\"x\\\": 1710.0}, {\\\"y\\\": 280000.0, \\\"x\\\": 2100.0}, {\\\"y\\\": 515000.0, \\\"x\\\": 1730.0}, {\\\"y\\\": 400000.0, \\\"x\\\": 1500.0}, {\\\"y\\\": 652100.0, \\\"x\\\": 2380.0}, {\\\"y\\\": 235000.0, \\\"x\\\": 2180.0}, {\\\"y\\\": 701000.0, \\\"x\\\": 1840.0}, {\\\"y\\\": 640000.0, \\\"x\\\": 2341.0}, {\\\"y\\\": 455800.0, \\\"x\\\": 1690.0}, {\\\"y\\\": 504750.0, \\\"x\\\": 2490.0}, {\\\"y\\\": 483000.0, \\\"x\\\": 2440.0}, {\\\"y\\\": 530000.0, \\\"x\\\": 920.0}, {\\\"y\\\": 250000.0, \\\"x\\\": 1030.0}, {\\\"y\\\": 229950.0, \\\"x\\\": 2000.0}, {\\\"y\\\": 884744.0, \\\"x\\\": 4210.0}, {\\\"y\\\": 514000.0, \\\"x\\\": 1610.0}, {\\\"y\\\": 532000.0, \\\"x\\\": 1910.0}, {\\\"y\\\": 423000.0, \\\"x\\\": 2660.0}, {\\\"y\\\": 420000.0, \\\"x\\\": 820.0}, {\\\"y\\\": 521000.0, \\\"x\\\": 1730.0}, {\\\"y\\\": 577000.0, \\\"x\\\": 2360.0}, {\\\"y\\\": 425000.0, \\\"x\\\": 970.0}, {\\\"y\\\": 495000.0, \\\"x\\\": 2460.0}, {\\\"y\\\": 340000.0, \\\"x\\\": 2690.0}, {\\\"y\\\": 499950.0, \\\"x\\\": 1820.0}, {\\\"y\\\": 1218000.0, \\\"x\\\": 3470.0}, {\\\"y\\\": 720000.0, \\\"x\\\": 3370.0}, {\\\"y\\\": 249000.0, \\\"x\\\": 1700.0}, {\\\"y\\\": 206135.0, \\\"x\\\": 1340.0}, {\\\"y\\\": 300000.0, \\\"x\\\": 2000.0}, {\\\"y\\\": 612000.0, \\\"x\\\": 3840.0}, {\\\"y\\\": 1102030.0, \\\"x\\\": 3890.0}, {\\\"y\\\": 230000.0, \\\"x\\\": 1220.0}, {\\\"y\\\": 850000.0, \\\"x\\\": 2280.0}, {\\\"y\\\": 355000.0, \\\"x\\\": 2770.0}, {\\\"y\\\": 442000.0, \\\"x\\\": 2520.0}, {\\\"y\\\": 399000.0, \\\"x\\\": 3060.0}, {\\\"y\\\": 360000.0, \\\"x\\\": 2390.0}, {\\\"y\\\": 390000.0, \\\"x\\\": 1320.0}, {\\\"y\\\": 413000.0, \\\"x\\\": 2900.0}, {\\\"y\\\": 190000.0, \\\"x\\\": 700.0}, {\\\"y\\\": 432900.0, \\\"x\\\": 2210.0}, {\\\"y\\\": 621138.0, \\\"x\\\": 2180.0}, {\\\"y\\\": 270000.0, \\\"x\\\": 2080.0}, {\\\"y\\\": 610000.0, \\\"x\\\": 2090.0}, {\\\"y\\\": 500000.0, \\\"x\\\": 1720.0}, {\\\"y\\\": 715000.0, \\\"x\\\": 2460.0}, {\\\"y\\\": 264000.0, \\\"x\\\": 1470.0}, {\\\"y\\\": 550000.0, \\\"x\\\": 1650.0}, {\\\"y\\\": 337000.0, \\\"x\\\": 1690.0}, {\\\"y\\\": 170000.0, \\\"x\\\": 970.0}, {\\\"y\\\": 405000.0, \\\"x\\\": 2030.0}, {\\\"y\\\": 775000.0, \\\"x\\\": 2540.0}, {\\\"y\\\": 425000.0, \\\"x\\\": 1570.0}, {\\\"y\\\": 713000.0, \\\"x\\\": 2580.0}, {\\\"y\\\": 555000.0, \\\"x\\\": 2090.0}, {\\\"y\\\": 810000.0, \\\"x\\\": 3260.0}, {\\\"y\\\": 1250000.0, \\\"x\\\": 3830.0}, {\\\"y\\\": 819000.0, \\\"x\\\": 2130.0}, {\\\"y\\\": 409900.0, \\\"x\\\": 1690.0}, {\\\"y\\\": 935000.0, \\\"x\\\": 1780.0}, {\\\"y\\\": 657500.0, \\\"x\\\": 1620.0}, {\\\"y\\\": 900000.0, \\\"x\\\": 4210.0}, {\\\"y\\\": 932800.0, \\\"x\\\": 2980.0}, {\\\"y\\\": 391000.0, \\\"x\\\": 1490.0}, {\\\"y\\\": 420000.0, \\\"x\\\": 2110.0}, {\\\"y\\\": 1300000.0, \\\"x\\\": 6563.0}, {\\\"y\\\": 415000.0, \\\"x\\\": 1510.0}, {\\\"y\\\": 350000.0, \\\"x\\\": 1830.0}, {\\\"y\\\": 375000.0, \\\"x\\\": 1230.0}, {\\\"y\\\": 860000.0, \\\"x\\\": 2180.0}, {\\\"y\\\": 495000.0, \\\"x\\\": 2220.0}, {\\\"y\\\": 250000.0, \\\"x\\\": 1730.0}, {\\\"y\\\": 365000.0, \\\"x\\\": 1990.0}, {\\\"y\\\": 503000.0, \\\"x\\\": 1540.0}, {\\\"y\\\": 150000.0, \\\"x\\\": 1100.0}, {\\\"y\\\": 450000.0, \\\"x\\\": 1640.0}, {\\\"y\\\": 355000.0, \\\"x\\\": 2590.0}, {\\\"y\\\": 245000.0, \\\"x\\\": 1450.0}, {\\\"y\\\": 265900.0, \\\"x\\\": 1180.0}, {\\\"y\\\": 299000.0, \\\"x\\\": 1820.0}, {\\\"y\\\": 957500.0, \\\"x\\\": 2360.0}, {\\\"y\\\": 343000.0, \\\"x\\\": 1120.0}, {\\\"y\\\": 307500.0, \\\"x\\\": 1646.0}, {\\\"y\\\": 937500.0, \\\"x\\\": 4210.0}, {\\\"y\\\": 610000.0, \\\"x\\\": 2480.0}, {\\\"y\\\": 720000.0, \\\"x\\\": 1590.0}, {\\\"y\\\": 610000.0, \\\"x\\\": 2130.0}, {\\\"y\\\": 434500.0, \\\"x\\\": 1650.0}, {\\\"y\\\": 602500.0, \\\"x\\\": 3090.0}, {\\\"y\\\": 607010.0, \\\"x\\\": 2180.0}, {\\\"y\\\": 610000.0, \\\"x\\\": 1800.0}, {\\\"y\\\": 828500.0, \\\"x\\\": 3720.0}, {\\\"y\\\": 199990.0, \\\"x\\\": 1100.0}, {\\\"y\\\": 294000.0, \\\"x\\\": 1530.0}, {\\\"y\\\": 789500.0, \\\"x\\\": 3010.0}, {\\\"y\\\": 797000.0, \\\"x\\\": 3500.0}, {\\\"y\\\": 539950.0, \\\"x\\\": 3100.0}, {\\\"y\\\": 284950.0, \\\"x\\\": 2000.0}, {\\\"y\\\": 776500.0, \\\"x\\\": 2290.0}, {\\\"y\\\": 525000.0, \\\"x\\\": 2400.0}, {\\\"y\\\": 303000.0, \\\"x\\\": 1850.0}, {\\\"y\\\": 722080.0, \\\"x\\\": 3680.0}, {\\\"y\\\": 140000.0, \\\"x\\\": 1060.0}, {\\\"y\\\": 235000.0, \\\"x\\\": 1060.0}, {\\\"y\\\": 440000.0, \\\"x\\\": 1610.0}, {\\\"y\\\": 605000.0, \\\"x\\\": 2330.0}, {\\\"y\\\": 380000.0, \\\"x\\\": 1210.0}, {\\\"y\\\": 352000.0, \\\"x\\\": 1530.0}, {\\\"y\\\": 420000.0, \\\"x\\\": 2270.0}, {\\\"y\\\": 1175000.0, \\\"x\\\": 2590.0}, {\\\"y\\\": 1375000.0, \\\"x\\\": 1850.0}, {\\\"y\\\": 300000.0, \\\"x\\\": 1500.0}, {\\\"y\\\": 1150000.0, \\\"x\\\": 4740.0}, {\\\"y\\\": 453500.0, \\\"x\\\": 1710.0}, {\\\"y\\\": 443500.0, \\\"x\\\": 1920.0}, {\\\"y\\\": 332000.0, \\\"x\\\": 1150.0}, {\\\"y\\\": 655000.0, \\\"x\\\": 2320.0}, {\\\"y\\\": 475000.0, \\\"x\\\": 1420.0}, {\\\"y\\\": 372500.0, \\\"x\\\": 1550.0}, {\\\"y\\\": 1050000.0, \\\"x\\\": 2920.0}, {\\\"y\\\": 500000.0, \\\"x\\\": 1620.0}, {\\\"y\\\": 900000.0, \\\"x\\\": 2300.0}, {\\\"y\\\": 327500.0, \\\"x\\\": 1070.0}, {\\\"y\\\": 390000.0, \\\"x\\\": 1790.0}, {\\\"y\\\": 451101.0, \\\"x\\\": 1510.0}, {\\\"y\\\": 455000.0, \\\"x\\\": 1340.0}, {\\\"y\\\": 650000.0, \\\"x\\\": 3350.0}, {\\\"y\\\": 895000.0, \\\"x\\\": 2500.0}, {\\\"y\\\": 800000.0, \\\"x\\\": 2350.0}, {\\\"y\\\": 703770.0, \\\"x\\\": 2550.0}, {\\\"y\\\": 249950.0, \\\"x\\\": 1320.0}, {\\\"y\\\": 512000.0, \\\"x\\\": 1270.0}, {\\\"y\\\": 780000.0, \\\"x\\\": 3480.0}, {\\\"y\\\": 336000.0, \\\"x\\\": 2820.0}, {\\\"y\\\": 285000.0, \\\"x\\\": 2110.0}, {\\\"y\\\": 229900.0, \\\"x\\\": 1100.0}, {\\\"y\\\": 667500.0, \\\"x\\\": 1920.0}, {\\\"y\\\": 378000.0, \\\"x\\\": 1890.0}, {\\\"y\\\": 454000.0, \\\"x\\\": 2530.0}, {\\\"y\\\": 537500.0, \\\"x\\\": 2550.0}, {\\\"y\\\": 425000.0, \\\"x\\\": 1550.0}, {\\\"y\\\": 290000.0, \\\"x\\\": 1760.0}, {\\\"y\\\": 349500.0, \\\"x\\\": 1270.0}, {\\\"y\\\": 370000.0, \\\"x\\\": 1250.0}, {\\\"y\\\": 549500.0, \\\"x\\\": 1620.0}, {\\\"y\\\": 245000.0, \\\"x\\\": 710.0}, {\\\"y\\\": 208000.0, \\\"x\\\": 1070.0}, {\\\"y\\\": 248000.0, \\\"x\\\": 2320.0}, {\\\"y\\\": 610000.0, \\\"x\\\": 5450.0}, {\\\"y\\\": 550000.0, \\\"x\\\": 1670.0}, {\\\"y\\\": 750000.0, \\\"x\\\": 3010.0}, {\\\"y\\\": 192000.0, \\\"x\\\": 1340.0}, {\\\"y\\\": 169317.0, \\\"x\\\": 790.0}, {\\\"y\\\": 1198000.0, \\\"x\\\": 3400.0}, {\\\"y\\\": 880000.0, \\\"x\\\": 1530.0}, {\\\"y\\\": 210000.0, \\\"x\\\": 930.0}, {\\\"y\\\": 180500.0, \\\"x\\\": 1540.0}, {\\\"y\\\": 540000.0, \\\"x\\\": 1990.0}, {\\\"y\\\": 520000.0, \\\"x\\\": 2300.0}, {\\\"y\\\": 177500.0, \\\"x\\\": 1220.0}, {\\\"y\\\": 415000.0, \\\"x\\\": 2380.0}, {\\\"y\\\": 495000.0, \\\"x\\\": 2020.0}, {\\\"y\\\": 325000.0, \\\"x\\\": 1890.0}, {\\\"y\\\": 440000.0, \\\"x\\\": 1330.0}, {\\\"y\\\": 411000.0, \\\"x\\\": 1490.0}, {\\\"y\\\": 810000.0, \\\"x\\\": 3550.0}, {\\\"y\\\": 561750.0, \\\"x\\\": 2040.0}, {\\\"y\\\": 835100.0, \\\"x\\\": 2380.0}, {\\\"y\\\": 450000.0, \\\"x\\\": 1780.0}, {\\\"y\\\": 238000.0, \\\"x\\\": 1650.0}, {\\\"y\\\": 299000.0, \\\"x\\\": 1510.0}, {\\\"y\\\": 570000.0, \\\"x\\\": 1100.0}, {\\\"y\\\": 340000.0, \\\"x\\\": 2190.0}, {\\\"y\\\": 450000.0, \\\"x\\\": 1760.0}, {\\\"y\\\": 272750.0, \\\"x\\\": 1800.0}, {\\\"y\\\": 520000.0, \\\"x\\\": 2000.0}, {\\\"y\\\": 284950.0, \\\"x\\\": 990.0}, {\\\"y\\\": 255000.0, \\\"x\\\": 1480.0}, {\\\"y\\\": 231500.0, \\\"x\\\": 1200.0}, {\\\"y\\\": 415000.0, \\\"x\\\": 3000.0}, {\\\"y\\\": 330000.0, \\\"x\\\": 3504.0}, {\\\"y\\\": 365000.0, \\\"x\\\": 1300.0}, {\\\"y\\\": 425000.0, \\\"x\\\": 1330.0}, {\\\"y\\\": 400000.0, \\\"x\\\": 1850.0}, {\\\"y\\\": 335000.0, \\\"x\\\": 2240.0}, {\\\"y\\\": 342000.0, \\\"x\\\": 1260.0}, {\\\"y\\\": 490000.0, \\\"x\\\": 2800.0}, {\\\"y\\\": 331500.0, \\\"x\\\": 1820.0}, {\\\"y\\\": 960000.0, \\\"x\\\": 1730.0}, {\\\"y\\\": 720500.0, \\\"x\\\": 3350.0}, {\\\"y\\\": 830000.0, \\\"x\\\": 3370.0}, {\\\"y\\\": 662990.0, \\\"x\\\": 1240.0}, {\\\"y\\\": 220000.0, \\\"x\\\": 2340.0}, {\\\"y\\\": 349950.0, \\\"x\\\": 1880.0}, {\\\"y\\\": 550000.0, \\\"x\\\": 1810.0}, {\\\"y\\\": 396000.0, \\\"x\\\": 2340.0}, {\\\"y\\\": 635000.0, \\\"x\\\": 2820.0}, {\\\"y\\\": 293000.0, \\\"x\\\": 1020.0}, {\\\"y\\\": 339000.0, \\\"x\\\": 2090.0}, {\\\"y\\\": 285000.0, \\\"x\\\": 1830.0}, {\\\"y\\\": 775000.0, \\\"x\\\": 2980.0}, {\\\"y\\\": 224000.0, \\\"x\\\": 1600.0}, {\\\"y\\\": 2250000.0, \\\"x\\\": 4440.0}, {\\\"y\\\": 165050.0, \\\"x\\\": 1200.0}, {\\\"y\\\": 275000.0, \\\"x\\\": 1230.0}, {\\\"y\\\": 445000.0, \\\"x\\\": 2930.0}, {\\\"y\\\": 510000.0, \\\"x\\\": 2370.0}, {\\\"y\\\": 1230000.0, \\\"x\\\": 3040.0}, {\\\"y\\\": 390000.0, \\\"x\\\": 1610.0}, {\\\"y\\\": 460000.0, \\\"x\\\": 2350.0}, {\\\"y\\\": 700000.0, \\\"x\\\": 2000.0}, {\\\"y\\\": 874150.0, \\\"x\\\": 3530.0}, {\\\"y\\\": 470000.0, \\\"x\\\": 2220.0}, {\\\"y\\\": 374000.0, \\\"x\\\": 2000.0}, {\\\"y\\\": 510000.0, \\\"x\\\": 1210.0}, {\\\"y\\\": 467000.0, \\\"x\\\": 1140.0}, {\\\"y\\\": 576000.0, \\\"x\\\": 2440.0}, {\\\"y\\\": 196440.0, \\\"x\\\": 1560.0}, {\\\"y\\\": 825000.0, \\\"x\\\": 3210.0}, {\\\"y\\\": 281000.0, \\\"x\\\": 930.0}, {\\\"y\\\": 326000.0, \\\"x\\\": 1782.0}, {\\\"y\\\": 340000.0, \\\"x\\\": 1740.0}, {\\\"y\\\": 440000.0, \\\"x\\\": 3690.0}, {\\\"y\\\": 749000.0, \\\"x\\\": 2930.0}, {\\\"y\\\": 340000.0, \\\"x\\\": 1230.0}, {\\\"y\\\": 561000.0, \\\"x\\\": 2000.0}, {\\\"y\\\": 270000.0, \\\"x\\\": 1520.0}, {\\\"y\\\": 600000.0, \\\"x\\\": 1040.0}, {\\\"y\\\": 219900.0, \\\"x\\\": 1120.0}, {\\\"y\\\": 617000.0, \\\"x\\\": 3020.0}, {\\\"y\\\": 469000.0, \\\"x\\\": 1820.0}, {\\\"y\\\": 229000.0, \\\"x\\\": 1370.0}, {\\\"y\\\": 1265000.0, \\\"x\\\": 3130.0}, {\\\"y\\\": 365000.0, \\\"x\\\": 1640.0}, {\\\"y\\\": 429000.0, \\\"x\\\": 2650.0}, {\\\"y\\\": 550000.0, \\\"x\\\": 2850.0}, {\\\"y\\\": 453000.0, \\\"x\\\": 1820.0}, {\\\"y\\\": 187500.0, \\\"x\\\": 1180.0}, {\\\"y\\\": 520500.0, \\\"x\\\": 1880.0}, {\\\"y\\\": 300000.0, \\\"x\\\": 1280.0}, {\\\"y\\\": 799000.0, \\\"x\\\": 3120.0}, {\\\"y\\\": 338000.0, \\\"x\\\": 2470.0}, {\\\"y\\\": 800000.0, \\\"x\\\": 1700.0}, {\\\"y\\\": 360000.0, \\\"x\\\": 1180.0}, {\\\"y\\\": 442500.0, \\\"x\\\": 2800.0}, {\\\"y\\\": 700000.0, \\\"x\\\": 1300.0}, {\\\"y\\\": 830000.0, \\\"x\\\": 3040.0}, {\\\"y\\\": 360400.0, \\\"x\\\": 1630.0}, {\\\"y\\\": 345000.0, \\\"x\\\": 1340.0}, {\\\"y\\\": 300000.0, \\\"x\\\": 1830.0}, {\\\"y\\\": 350000.0, \\\"x\\\": 1240.0}, {\\\"y\\\": 368000.0, \\\"x\\\": 2500.0}, {\\\"y\\\": 264000.0, \\\"x\\\": 1760.0}, {\\\"y\\\": 435000.0, \\\"x\\\": 2660.0}, {\\\"y\\\": 200000.0, \\\"x\\\": 2060.0}, {\\\"y\\\": 620000.0, \\\"x\\\": 2540.0}, {\\\"y\\\": 1679000.0, \\\"x\\\": 4830.0}, {\\\"y\\\": 337000.0, \\\"x\\\": 1400.0}, {\\\"y\\\": 1928000.0, \\\"x\\\": 4280.0}, {\\\"y\\\": 544500.0, \\\"x\\\": 2230.0}, {\\\"y\\\": 252000.0, \\\"x\\\": 680.0}, {\\\"y\\\": 445000.0, \\\"x\\\": 2340.0}, {\\\"y\\\": 379500.0, \\\"x\\\": 2070.0}, {\\\"y\\\": 189950.0, \\\"x\\\": 1910.0}, {\\\"y\\\": 469000.0, \\\"x\\\": 950.0}, {\\\"y\\\": 600000.0, \\\"x\\\": 2910.0}, {\\\"y\\\": 785000.0, \\\"x\\\": 2930.0}, {\\\"y\\\": 372000.0, \\\"x\\\": 2610.0}, {\\\"y\\\": 445000.0, \\\"x\\\": 3880.0}, {\\\"y\\\": 508000.0, \\\"x\\\": 3320.0}, {\\\"y\\\": 780000.0, \\\"x\\\": 1940.0}, {\\\"y\\\": 541100.0, \\\"x\\\": 2510.0}, {\\\"y\\\": 729000.0, \\\"x\\\": 2660.0}, {\\\"y\\\": 397000.0, \\\"x\\\": 1710.0}, {\\\"y\\\": 451555.0, \\\"x\\\": 1320.0}, {\\\"y\\\": 300000.0, \\\"x\\\": 960.0}, {\\\"y\\\": 416000.0, \\\"x\\\": 1790.0}, {\\\"y\\\": 490000.0, \\\"x\\\": 950.0}, {\\\"y\\\": 480000.0, \\\"x\\\": 2940.0}, {\\\"y\\\": 368000.0, \\\"x\\\": 930.0}, {\\\"y\\\": 1038000.0, \\\"x\\\": 4570.0}, {\\\"y\\\": 545000.0, \\\"x\\\": 2370.0}, {\\\"y\\\": 850000.0, \\\"x\\\": 3430.0}, {\\\"y\\\": 550000.0, \\\"x\\\": 3540.0}, {\\\"y\\\": 600000.0, \\\"x\\\": 2240.0}, {\\\"y\\\": 535000.0, \\\"x\\\": 2710.0}, {\\\"y\\\": 599950.0, \\\"x\\\": 2660.0}, {\\\"y\\\": 531000.0, \\\"x\\\": 2540.0}, {\\\"y\\\": 530000.0, \\\"x\\\": 2210.0}, {\\\"y\\\": 597326.0, \\\"x\\\": 3570.0}, {\\\"y\\\": 805000.0, \\\"x\\\": 3450.0}, {\\\"y\\\": 390000.0, \\\"x\\\": 2330.0}, {\\\"y\\\": 487250.0, \\\"x\\\": 1690.0}, {\\\"y\\\": 301000.0, \\\"x\\\": 1030.0}, {\\\"y\\\": 1175000.0, \\\"x\\\": 2560.0}, {\\\"y\\\": 299000.0, \\\"x\\\": 1950.0}, {\\\"y\\\": 2350000.0, \\\"x\\\": 4370.0}, {\\\"y\\\": 400000.0, \\\"x\\\": 2350.0}, {\\\"y\\\": 467500.0, \\\"x\\\": 3160.0}, {\\\"y\\\": 305000.0, \\\"x\\\": 2430.0}, {\\\"y\\\": 210000.0, \\\"x\\\": 1340.0}, {\\\"y\\\": 300000.0, \\\"x\\\": 1010.0}, {\\\"y\\\": 327500.0, \\\"x\\\": 1770.0}, {\\\"y\\\": 269000.0, \\\"x\\\": 1210.0}, {\\\"y\\\": 975000.0, \\\"x\\\": 3330.0}, {\\\"y\\\": 355000.0, \\\"x\\\": 1240.0}, {\\\"y\\\": 712000.0, \\\"x\\\": 1250.0}, {\\\"y\\\": 883000.0, \\\"x\\\": 2960.0}, {\\\"y\\\": 190000.0, \\\"x\\\": 840.0}, {\\\"y\\\": 443000.0, \\\"x\\\": 1530.0}, {\\\"y\\\": 920000.0, \\\"x\\\": 3750.0}, {\\\"y\\\": 285000.0, \\\"x\\\": 2150.0}, {\\\"y\\\": 901000.0, \\\"x\\\": 1560.0}, {\\\"y\\\": 552500.0, \\\"x\\\": 2040.0}, {\\\"y\\\": 256000.0, \\\"x\\\": 860.0}, {\\\"y\\\": 341000.0, \\\"x\\\": 1720.0}, {\\\"y\\\": 279000.0, \\\"x\\\": 2090.0}, {\\\"y\\\": 686000.0, \\\"x\\\": 2130.0}, {\\\"y\\\": 225000.0, \\\"x\\\": 1300.0}, {\\\"y\\\": 215500.0, \\\"x\\\": 1220.0}, {\\\"y\\\": 950000.0, \\\"x\\\": 2420.0}, {\\\"y\\\": 503000.0, \\\"x\\\": 2940.0}, {\\\"y\\\": 780000.0, \\\"x\\\": 2610.0}, {\\\"y\\\": 212000.0, \\\"x\\\": 1880.0}, {\\\"y\\\": 580000.0, \\\"x\\\": 2330.0}, {\\\"y\\\": 465000.0, \\\"x\\\": 2200.0}, {\\\"y\\\": 206000.0, \\\"x\\\": 1720.0}, {\\\"y\\\": 615000.0, \\\"x\\\": 2250.0}, {\\\"y\\\": 519000.0, \\\"x\\\": 1640.0}, {\\\"y\\\": 1135000.0, \\\"x\\\": 4130.0}, {\\\"y\\\": 330000.0, \\\"x\\\": 2600.0}, {\\\"y\\\": 240000.0, \\\"x\\\": 1920.0}, {\\\"y\\\": 574000.0, \\\"x\\\": 2060.0}, {\\\"y\\\": 930000.0, \\\"x\\\": 5710.0}, {\\\"y\\\": 850000.0, \\\"x\\\": 2720.0}, {\\\"y\\\": 415000.0, \\\"x\\\": 1490.0}, {\\\"y\\\": 480000.0, \\\"x\\\": 2360.0}, {\\\"y\\\": 300000.0, \\\"x\\\": 1940.0}, {\\\"y\\\": 439000.0, \\\"x\\\": 2570.0}, {\\\"y\\\": 450000.0, \\\"x\\\": 1160.0}, {\\\"y\\\": 589000.0, \\\"x\\\": 2660.0}, {\\\"y\\\": 477000.0, \\\"x\\\": 1260.0}, {\\\"y\\\": 587500.0, \\\"x\\\": 1780.0}, {\\\"y\\\": 1315000.0, \\\"x\\\": 3180.0}, {\\\"y\\\": 1430000.0, \\\"x\\\": 3380.0}, {\\\"y\\\": 700000.0, \\\"x\\\": 2690.0}, {\\\"y\\\": 275000.0, \\\"x\\\": 1180.0}, {\\\"y\\\": 367500.0, \\\"x\\\": 1660.0}, {\\\"y\\\": 453250.0, \\\"x\\\": 2260.0}, {\\\"y\\\": 607000.0, \\\"x\\\": 1910.0}, {\\\"y\\\": 255000.0, \\\"x\\\": 2430.0}, {\\\"y\\\": 501000.0, \\\"x\\\": 1300.0}, {\\\"y\\\": 450000.0, \\\"x\\\": 1060.0}, {\\\"y\\\": 360000.0, \\\"x\\\": 2200.0}, {\\\"y\\\": 460000.0, \\\"x\\\": 1720.0}, {\\\"y\\\": 753000.0, \\\"x\\\": 2360.0}, {\\\"y\\\": 389950.0, \\\"x\\\": 820.0}, {\\\"y\\\": 469000.0, \\\"x\\\": 1030.0}, {\\\"y\\\": 550000.0, \\\"x\\\": 2030.0}, {\\\"y\\\": 565000.0, \\\"x\\\": 2700.0}, {\\\"y\\\": 189650.0, \\\"x\\\": 1100.0}, {\\\"y\\\": 1525000.0, \\\"x\\\": 3620.0}, {\\\"y\\\": 260000.0, \\\"x\\\": 1340.0}, {\\\"y\\\": 243000.0, \\\"x\\\": 1790.0}, {\\\"y\\\": 1100000.0, \\\"x\\\": 3830.0}, {\\\"y\\\": 249000.0, \\\"x\\\": 1580.0}, {\\\"y\\\": 720000.0, \\\"x\\\": 2020.0}, {\\\"y\\\": 905000.0, \\\"x\\\": 3330.0}, {\\\"y\\\": 824500.0, \\\"x\\\": 2610.0}, {\\\"y\\\": 762500.0, \\\"x\\\": 2610.0}, {\\\"y\\\": 580000.0, \\\"x\\\": 1740.0}, {\\\"y\\\": 380000.0, \\\"x\\\": 1840.0}, {\\\"y\\\": 805000.0, \\\"x\\\": 1080.0}, {\\\"y\\\": 520000.0, \\\"x\\\": 1240.0}, {\\\"y\\\": 1569500.0, \\\"x\\\": 5620.0}, {\\\"y\\\": 175000.0, \\\"x\\\": 1170.0}, {\\\"y\\\": 353500.0, \\\"x\\\": 1760.0}, {\\\"y\\\": 500000.0, \\\"x\\\": 2230.0}, {\\\"y\\\": 386500.0, \\\"x\\\": 1520.0}, {\\\"y\\\": 210000.0, \\\"x\\\": 1450.0}, {\\\"y\\\": 439500.0, \\\"x\\\": 1600.0}, {\\\"y\\\": 315000.0, \\\"x\\\": 3220.0}, {\\\"y\\\": 339000.0, \\\"x\\\": 1830.0}, {\\\"y\\\": 655000.0, \\\"x\\\": 2200.0}, {\\\"y\\\": 740000.0, \\\"x\\\": 2170.0}, {\\\"y\\\": 685000.0, \\\"x\\\": 1900.0}, {\\\"y\\\": 550000.0, \\\"x\\\": 2960.0}, {\\\"y\\\": 405000.0, \\\"x\\\": 1710.0}, {\\\"y\\\": 765000.0, \\\"x\\\": 2620.0}, {\\\"y\\\": 625000.0, \\\"x\\\": 2140.0}, {\\\"y\\\": 207000.0, \\\"x\\\": 2100.0}, {\\\"y\\\": 370000.0, \\\"x\\\": 2100.0}, {\\\"y\\\": 475000.0, \\\"x\\\": 1460.0}, {\\\"y\\\": 365000.0, \\\"x\\\": 990.0}, {\\\"y\\\": 411800.0, \\\"x\\\": 2190.0}, {\\\"y\\\": 668000.0, \\\"x\\\": 3990.0}, {\\\"y\\\": 618000.0, \\\"x\\\": 2340.0}, {\\\"y\\\": 247500.0, \\\"x\\\": 2460.0}, {\\\"y\\\": 345000.0, \\\"x\\\": 2080.0}, {\\\"y\\\": 616300.0, \\\"x\\\": 1700.0}, {\\\"y\\\": 348000.0, \\\"x\\\": 1330.0}, {\\\"y\\\": 425000.0, \\\"x\\\": 1630.0}, {\\\"y\\\": 850000.0, \\\"x\\\": 2920.0}, {\\\"y\\\": 820000.0, \\\"x\\\": 2830.0}, {\\\"y\\\": 832000.0, \\\"x\\\": 3190.0}, {\\\"y\\\": 835000.0, \\\"x\\\": 1490.0}, {\\\"y\\\": 350000.0, \\\"x\\\": 1630.0}, {\\\"y\\\": 349000.0, \\\"x\\\": 2280.0}, {\\\"y\\\": 1125000.0, \\\"x\\\": 3010.0}, {\\\"y\\\": 320000.0, \\\"x\\\": 1590.0}, {\\\"y\\\": 150000.0, \\\"x\\\": 1250.0}, {\\\"y\\\": 340000.0, \\\"x\\\": 1710.0}, {\\\"y\\\": 785500.0, \\\"x\\\": 3280.0}, {\\\"y\\\": 410500.0, \\\"x\\\": 3362.0}, {\\\"y\\\": 580000.0, \\\"x\\\": 2200.0}, {\\\"y\\\": 345000.0, \\\"x\\\": 830.0}, {\\\"y\\\": 550000.0, \\\"x\\\": 2160.0}, {\\\"y\\\": 449500.0, \\\"x\\\": 2580.0}, {\\\"y\\\": 300000.0, \\\"x\\\": 2150.0}, {\\\"y\\\": 915000.0, \\\"x\\\": 3510.0}, {\\\"y\\\": 1575000.0, \\\"x\\\": 3810.0}, {\\\"y\\\": 599000.0, \\\"x\\\": 2020.0}, {\\\"y\\\": 755000.0, \\\"x\\\": 2120.0}, {\\\"y\\\": 400000.0, \\\"x\\\": 1250.0}, {\\\"y\\\": 133000.0, \\\"x\\\": 980.0}, {\\\"y\\\": 330000.0, \\\"x\\\": 1250.0}, {\\\"y\\\": 330000.0, \\\"x\\\": 1100.0}, {\\\"y\\\": 375000.0, \\\"x\\\": 1330.0}, {\\\"y\\\": 485000.0, \\\"x\\\": 2560.0}, {\\\"y\\\": 470000.0, \\\"x\\\": 1850.0}, {\\\"y\\\": 1045000.0, \\\"x\\\": 2790.0}, {\\\"y\\\": 548800.0, \\\"x\\\": 1660.0}, {\\\"y\\\": 315000.0, \\\"x\\\": 1080.0}, {\\\"y\\\": 590000.0, \\\"x\\\": 3030.0}, {\\\"y\\\": 439950.0, \\\"x\\\": 2380.0}, {\\\"y\\\": 325000.0, \\\"x\\\": 2250.0}, {\\\"y\\\": 400000.0, \\\"x\\\": 880.0}, {\\\"y\\\": 685000.0, \\\"x\\\": 2770.0}, {\\\"y\\\": 339950.0, \\\"x\\\": 1340.0}, {\\\"y\\\": 315000.0, \\\"x\\\": 1660.0}, {\\\"y\\\": 411753.0, \\\"x\\\": 1710.0}, {\\\"y\\\": 577000.0, \\\"x\\\": 1620.0}, {\\\"y\\\": 500000.0, \\\"x\\\": 1530.0}, {\\\"y\\\": 210000.0, \\\"x\\\": 1440.0}, {\\\"y\\\": 640000.0, \\\"x\\\": 2020.0}, {\\\"y\\\": 460000.0, \\\"x\\\": 1870.0}, {\\\"y\\\": 265000.0, \\\"x\\\": 620.0}, {\\\"y\\\": 740000.0, \\\"x\\\": 5774.0}, {\\\"y\\\": 230000.0, \\\"x\\\": 1240.0}, {\\\"y\\\": 315000.0, \\\"x\\\": 1890.0}, {\\\"y\\\": 432000.0, \\\"x\\\": 2410.0}, {\\\"y\\\": 467000.0, \\\"x\\\": 1530.0}, {\\\"y\\\": 255000.0, \\\"x\\\": 2800.0}, {\\\"y\\\": 316500.0, \\\"x\\\": 1460.0}, {\\\"y\\\": 190000.0, \\\"x\\\": 1580.0}, {\\\"y\\\": 490000.0, \\\"x\\\": 1450.0}, {\\\"y\\\": 378000.0, \\\"x\\\": 1990.0}, {\\\"y\\\": 598800.0, \\\"x\\\": 4470.0}, {\\\"y\\\": 333800.0, \\\"x\\\": 1980.0}, {\\\"y\\\": 690000.0, \\\"x\\\": 2920.0}, {\\\"y\\\": 320000.0, \\\"x\\\": 1660.0}, {\\\"y\\\": 1249000.0, \\\"x\\\": 3190.0}, {\\\"y\\\": 335000.0, \\\"x\\\": 1560.0}, {\\\"y\\\": 840000.0, \\\"x\\\": 3050.0}, {\\\"y\\\": 608250.0, \\\"x\\\": 3030.0}, {\\\"y\\\": 550000.0, \\\"x\\\": 2260.0}, {\\\"y\\\": 240000.0, \\\"x\\\": 1260.0}, {\\\"y\\\": 998000.0, \\\"x\\\": 3370.0}, {\\\"y\\\": 275000.0, \\\"x\\\": 1490.0}, {\\\"y\\\": 284200.0, \\\"x\\\": 1570.0}, {\\\"y\\\": 1715000.0, \\\"x\\\": 4490.0}, {\\\"y\\\": 2400000.0, \\\"x\\\": 4090.0}, {\\\"y\\\": 930800.0, \\\"x\\\": 4150.0}, {\\\"y\\\": 930000.0, \\\"x\\\": 2900.0}, {\\\"y\\\": 215000.0, \\\"x\\\": 1430.0}, {\\\"y\\\": 480000.0, \\\"x\\\": 1008.0}, {\\\"y\\\": 483945.0, \\\"x\\\": 1480.0}, {\\\"y\\\": 347000.0, \\\"x\\\": 1240.0}, {\\\"y\\\": 232500.0, \\\"x\\\": 1370.0}, {\\\"y\\\": 390000.0, \\\"x\\\": 1770.0}, {\\\"y\\\": 550000.0, \\\"x\\\": 2160.0}, {\\\"y\\\": 590000.0, \\\"x\\\": 2340.0}, {\\\"y\\\": 420850.0, \\\"x\\\": 960.0}, {\\\"y\\\": 345000.0, \\\"x\\\": 2280.0}, {\\\"y\\\": 429800.0, \\\"x\\\": 1970.0}, {\\\"y\\\": 302000.0, \\\"x\\\": 1530.0}, {\\\"y\\\": 800000.0, \\\"x\\\": 1790.0}, {\\\"y\\\": 250000.0, \\\"x\\\": 1700.0}, {\\\"y\\\": 605000.0, \\\"x\\\": 2660.0}, {\\\"y\\\": 412000.0, \\\"x\\\": 1950.0}, {\\\"y\\\": 252000.0, \\\"x\\\": 1340.0}, {\\\"y\\\": 375000.0, \\\"x\\\": 1130.0}, {\\\"y\\\": 725000.0, \\\"x\\\": 1950.0}, {\\\"y\\\": 471750.0, \\\"x\\\": 3790.0}, {\\\"y\\\": 490000.0, \\\"x\\\": 2020.0}, {\\\"y\\\": 439000.0, \\\"x\\\": 800.0}, {\\\"y\\\": 355000.0, \\\"x\\\": 1770.0}, {\\\"y\\\": 250000.0, \\\"x\\\": 940.0}, {\\\"y\\\": 780000.0, \\\"x\\\": 2260.0}, {\\\"y\\\": 409000.0, \\\"x\\\": 890.0}, {\\\"y\\\": 420000.0, \\\"x\\\": 860.0}, {\\\"y\\\": 200000.0, \\\"x\\\": 680.0}, {\\\"y\\\": 830000.0, \\\"x\\\": 2130.0}, {\\\"y\\\": 695000.0, \\\"x\\\": 2390.0}, {\\\"y\\\": 815000.0, \\\"x\\\": 3488.0}, {\\\"y\\\": 210000.0, \\\"x\\\": 1260.0}, {\\\"y\\\": 635000.0, \\\"x\\\": 2940.0}, {\\\"y\\\": 562500.0, \\\"x\\\": 2440.0}, {\\\"y\\\": 402500.0, \\\"x\\\": 2600.0}, {\\\"y\\\": 555000.0, \\\"x\\\": 2080.0}, {\\\"y\\\": 310000.0, \\\"x\\\": 1990.0}, {\\\"y\\\": 500000.0, \\\"x\\\": 2840.0}, {\\\"y\\\": 430000.0, \\\"x\\\": 2630.0}, {\\\"y\\\": 1600000.0, \\\"x\\\": 2820.0}, {\\\"y\\\": 627500.0, \\\"x\\\": 1560.0}, {\\\"y\\\": 335000.0, \\\"x\\\": 2330.0}, {\\\"y\\\": 962000.0, \\\"x\\\": 3320.0}, {\\\"y\\\": 299000.0, \\\"x\\\": 1730.0}, {\\\"y\\\": 399950.0, \\\"x\\\": 3110.0}, {\\\"y\\\": 322000.0, \\\"x\\\": 1230.0}, {\\\"y\\\": 430000.0, \\\"x\\\": 950.0}, {\\\"y\\\": 307000.0, \\\"x\\\": 1890.0}, {\\\"y\\\": 194000.0, \\\"x\\\": 1010.0}, {\\\"y\\\": 180000.0, \\\"x\\\": 1010.0}, {\\\"y\\\": 465000.0, \\\"x\\\": 2340.0}, {\\\"y\\\": 722500.0, \\\"x\\\": 2460.0}, {\\\"y\\\": 470450.0, \\\"x\\\": 1010.0}, {\\\"y\\\": 280000.0, \\\"x\\\": 1650.0}, {\\\"y\\\": 176250.0, \\\"x\\\": 1440.0}, {\\\"y\\\": 560000.0, \\\"x\\\": 1710.0}, {\\\"y\\\": 830000.0, \\\"x\\\": 2760.0}, {\\\"y\\\": 276900.0, \\\"x\\\": 1350.0}, {\\\"y\\\": 625000.0, \\\"x\\\": 1660.0}, {\\\"y\\\": 1015000.0, \\\"x\\\": 2960.0}, {\\\"y\\\": 463500.0, \\\"x\\\": 1090.0}, {\\\"y\\\": 485000.0, \\\"x\\\": 3110.0}, {\\\"y\\\": 272000.0, \\\"x\\\": 1380.0}, {\\\"y\\\": 305000.0, \\\"x\\\": 1290.0}, {\\\"y\\\": 760000.0, \\\"x\\\": 1980.0}, {\\\"y\\\": 387500.0, \\\"x\\\": 870.0}, {\\\"y\\\": 352000.0, \\\"x\\\": 2470.0}, {\\\"y\\\": 507000.0, \\\"x\\\": 2140.0}, {\\\"y\\\": 156000.0, \\\"x\\\": 770.0}, {\\\"y\\\": 580000.0, \\\"x\\\": 1490.0}, {\\\"y\\\": 630000.0, \\\"x\\\": 2510.0}, {\\\"y\\\": 275000.0, \\\"x\\\": 1950.0}, {\\\"y\\\": 835000.0, \\\"x\\\": 3600.0}, {\\\"y\\\": 340000.0, \\\"x\\\": 2380.0}, {\\\"y\\\": 329350.0, \\\"x\\\": 720.0}, {\\\"y\\\": 1480000.0, \\\"x\\\": 4070.0}, {\\\"y\\\": 475000.0, \\\"x\\\": 1250.0}, {\\\"y\\\": 719950.0, \\\"x\\\": 2190.0}, {\\\"y\\\": 235000.0, \\\"x\\\": 810.0}, {\\\"y\\\": 875000.0, \\\"x\\\": 2440.0}, {\\\"y\\\": 380000.0, \\\"x\\\": 1740.0}, {\\\"y\\\": 325000.0, \\\"x\\\": 1480.0}, {\\\"y\\\": 475000.0, \\\"x\\\": 2120.0}, {\\\"y\\\": 152900.0, \\\"x\\\": 900.0}, {\\\"y\\\": 210000.0, \\\"x\\\": 1190.0}, {\\\"y\\\": 350000.0, \\\"x\\\": 1010.0}, {\\\"y\\\": 505000.0, \\\"x\\\": 2100.0}, {\\\"y\\\": 464900.0, \\\"x\\\": 2020.0}, {\\\"y\\\": 650000.0, \\\"x\\\": 2520.0}, {\\\"y\\\": 369950.0, \\\"x\\\": 1370.0}, {\\\"y\\\": 250000.0, \\\"x\\\": 1530.0}, {\\\"y\\\": 320000.0, \\\"x\\\": 1530.0}, {\\\"y\\\": 2532000.0, \\\"x\\\": 5040.0}, {\\\"y\\\": 340000.0, \\\"x\\\": 2530.0}, {\\\"y\\\": 440000.0, \\\"x\\\": 1010.0}, {\\\"y\\\": 219950.0, \\\"x\\\": 1200.0}, {\\\"y\\\": 940000.0, \\\"x\\\": 2720.0}, {\\\"y\\\": 399950.0, \\\"x\\\": 1850.0}, {\\\"y\\\": 1568000.0, \\\"x\\\": 2340.0}, {\\\"y\\\": 528000.0, \\\"x\\\": 1860.0}, {\\\"y\\\": 545000.0, \\\"x\\\": 1940.0}, {\\\"y\\\": 575000.0, \\\"x\\\": 1680.0}, {\\\"y\\\": 235000.0, \\\"x\\\": 1770.0}, {\\\"y\\\": 272000.0, \\\"x\\\": 1790.0}, {\\\"y\\\": 380000.0, \\\"x\\\": 1720.0}, {\\\"y\\\": 195000.0, \\\"x\\\": 1280.0}, {\\\"y\\\": 297000.0, \\\"x\\\": 1690.0}, {\\\"y\\\": 349000.0, \\\"x\\\": 2190.0}, {\\\"y\\\": 320000.0, \\\"x\\\": 710.0}, {\\\"y\\\": 319990.0, \\\"x\\\": 1890.0}, {\\\"y\\\": 439900.0, \\\"x\\\": 1410.0}, {\\\"y\\\": 429000.0, \\\"x\\\": 2210.0}, {\\\"y\\\": 272500.0, \\\"x\\\": 1540.0}, {\\\"y\\\": 400000.0, \\\"x\\\": 1350.0}, {\\\"y\\\": 462000.0, \\\"x\\\": 1380.0}, {\\\"y\\\": 510000.0, \\\"x\\\": 890.0}, {\\\"y\\\": 550000.0, \\\"x\\\": 1900.0}, {\\\"y\\\": 150000.0, \\\"x\\\": 1240.0}, {\\\"y\\\": 460000.0, \\\"x\\\": 1730.0}, {\\\"y\\\": 632500.0, \\\"x\\\": 2090.0}, {\\\"y\\\": 361000.0, \\\"x\\\": 1650.0}, {\\\"y\\\": 437000.0, \\\"x\\\": 1130.0}, {\\\"y\\\": 370000.0, \\\"x\\\": 3240.0}, {\\\"y\\\": 884250.0, \\\"x\\\": 3840.0}, {\\\"y\\\": 225000.0, \\\"x\\\": 1200.0}, {\\\"y\\\": 235000.0, \\\"x\\\": 870.0}, {\\\"y\\\": 767500.0, \\\"x\\\": 2410.0}, {\\\"y\\\": 1200000.0, \\\"x\\\": 1560.0}, {\\\"y\\\": 715000.0, \\\"x\\\": 2410.0}, {\\\"y\\\": 417000.0, \\\"x\\\": 2300.0}, {\\\"y\\\": 199000.0, \\\"x\\\": 1390.0}, {\\\"y\\\": 875000.0, \\\"x\\\": 2920.0}, {\\\"y\\\": 545000.0, \\\"x\\\": 1370.0}, {\\\"y\\\": 192500.0, \\\"x\\\": 950.0}, {\\\"y\\\": 822500.0, \\\"x\\\": 3090.0}, {\\\"y\\\": 800000.0, \\\"x\\\": 2390.0}, {\\\"y\\\": 1250000.0, \\\"x\\\": 2070.0}, {\\\"y\\\": 3850000.0, \\\"x\\\": 5770.0}, {\\\"y\\\": 295000.0, \\\"x\\\": 1460.0}, {\\\"y\\\": 419000.0, \\\"x\\\": 1510.0}, {\\\"y\\\": 1195000.0, \\\"x\\\": 5180.0}, {\\\"y\\\": 750000.0, \\\"x\\\": 3430.0}, {\\\"y\\\": 502000.0, \\\"x\\\": 1700.0}, {\\\"y\\\": 1025000.0, \\\"x\\\": 2640.0}, {\\\"y\\\": 398500.0, \\\"x\\\": 1200.0}, {\\\"y\\\": 700000.0, \\\"x\\\": 1850.0}, {\\\"y\\\": 248000.0, \\\"x\\\": 1510.0}, {\\\"y\\\": 800000.0, \\\"x\\\": 2130.0}, {\\\"y\\\": 383000.0, \\\"x\\\": 2640.0}, {\\\"y\\\": 688000.0, \\\"x\\\": 3000.0}, {\\\"y\\\": 521000.0, \\\"x\\\": 1870.0}, {\\\"y\\\": 365000.0, \\\"x\\\": 990.0}, {\\\"y\\\": 491000.0, \\\"x\\\": 2005.0}, {\\\"y\\\": 643000.0, \\\"x\\\": 2030.0}, {\\\"y\\\": 279000.0, \\\"x\\\": 1500.0}, {\\\"y\\\": 583500.0, \\\"x\\\": 1530.0}, {\\\"y\\\": 310000.0, \\\"x\\\": 1990.0}, {\\\"y\\\": 310000.0, \\\"x\\\": 1420.0}, {\\\"y\\\": 280000.0, \\\"x\\\": 1400.0}, {\\\"y\\\": 272000.0, \\\"x\\\": 1870.0}, {\\\"y\\\": 870000.0, \\\"x\\\": 3040.0}, {\\\"y\\\": 307000.0, \\\"x\\\": 1790.0}, {\\\"y\\\": 490000.0, \\\"x\\\": 1590.0}, {\\\"y\\\": 399950.0, \\\"x\\\": 2050.0}, {\\\"y\\\": 1635000.0, \\\"x\\\": 4220.0}, {\\\"y\\\": 989000.0, \\\"x\\\": 4030.0}, {\\\"y\\\": 264950.0, \\\"x\\\": 1770.0}, {\\\"y\\\": 491500.0, \\\"x\\\": 2100.0}, {\\\"y\\\": 345000.0, \\\"x\\\": 2120.0}, {\\\"y\\\": 339900.0, \\\"x\\\": 2600.0}, {\\\"y\\\": 852000.0, \\\"x\\\": 2400.0}, {\\\"y\\\": 585000.0, \\\"x\\\": 3180.0}, {\\\"y\\\": 723000.0, \\\"x\\\": 2790.0}, {\\\"y\\\": 594000.0, \\\"x\\\": 2080.0}, {\\\"y\\\": 405000.0, \\\"x\\\": 1370.0}, {\\\"y\\\": 725500.0, \\\"x\\\": 2790.0}, {\\\"y\\\": 800000.0, \\\"x\\\": 1740.0}, {\\\"y\\\": 1325000.0, \\\"x\\\": 6400.0}, {\\\"y\\\": 180500.0, \\\"x\\\": 1800.0}, {\\\"y\\\": 325000.0, \\\"x\\\": 1800.0}, {\\\"y\\\": 235000.0, \\\"x\\\": 1190.0}, {\\\"y\\\": 330000.0, \\\"x\\\": 860.0}, {\\\"y\\\": 678500.0, \\\"x\\\": 2460.0}, {\\\"y\\\": 463000.0, \\\"x\\\": 1980.0}, {\\\"y\\\": 250000.0, \\\"x\\\": 670.0}, {\\\"y\\\": 655000.0, \\\"x\\\": 1410.0}, {\\\"y\\\": 239900.0, \\\"x\\\": 1860.0}, {\\\"y\\\": 185000.0, \\\"x\\\": 980.0}, {\\\"y\\\": 1735000.0, \\\"x\\\": 3040.0}, {\\\"y\\\": 251700.0, \\\"x\\\": 1810.0}, {\\\"y\\\": 400000.0, \\\"x\\\": 1560.0}, {\\\"y\\\": 735000.0, \\\"x\\\": 2100.0}, {\\\"y\\\": 1700000.0, \\\"x\\\": 2500.0}, {\\\"y\\\": 82500.0, \\\"x\\\": 520.0}, {\\\"y\\\": 765000.0, \\\"x\\\": 3010.0}, {\\\"y\\\": 292500.0, \\\"x\\\": 2140.0}, {\\\"y\\\": 270000.0, \\\"x\\\": 2390.0}, {\\\"y\\\": 415000.0, \\\"x\\\": 1510.0}, {\\\"y\\\": 950000.0, \\\"x\\\": 2210.0}, {\\\"y\\\": 353000.0, \\\"x\\\": 2170.0}, {\\\"y\\\": 670950.0, \\\"x\\\": 1790.0}, {\\\"y\\\": 280950.0, \\\"x\\\": 1390.0}, {\\\"y\\\": 585000.0, \\\"x\\\": 1850.0}, {\\\"y\\\": 525000.0, \\\"x\\\": 1480.0}, {\\\"y\\\": 605000.0, \\\"x\\\": 1850.0}, {\\\"y\\\": 1010000.0, \\\"x\\\": 3350.0}, {\\\"y\\\": 245990.0, \\\"x\\\": 1040.0}, {\\\"y\\\": 535000.0, \\\"x\\\": 2810.0}, {\\\"y\\\": 410000.0, \\\"x\\\": 1010.0}, {\\\"y\\\": 550000.0, \\\"x\\\": 2250.0}, {\\\"y\\\": 665000.0, \\\"x\\\": 1800.0}, {\\\"y\\\": 455000.0, \\\"x\\\": 2400.0}, {\\\"y\\\": 440000.0, \\\"x\\\": 1780.0}, {\\\"y\\\": 332000.0, \\\"x\\\": 2120.0}, {\\\"y\\\": 280000.0, \\\"x\\\": 1860.0}, {\\\"y\\\": 570000.0, \\\"x\\\": 1460.0}, {\\\"y\\\": 250000.0, \\\"x\\\": 1230.0}, {\\\"y\\\": 238000.0, \\\"x\\\": 1088.0}, {\\\"y\\\": 265000.0, \\\"x\\\": 800.0}, {\\\"y\\\": 306000.0, \\\"x\\\": 1190.0}, {\\\"y\\\": 345000.0, \\\"x\\\": 1940.0}, {\\\"y\\\": 765000.0, \\\"x\\\": 3300.0}, {\\\"y\\\": 346300.0, \\\"x\\\": 2590.0}, {\\\"y\\\": 342500.0, \\\"x\\\": 2080.0}, {\\\"y\\\": 501000.0, \\\"x\\\": 2680.0}, {\\\"y\\\": 270000.0, \\\"x\\\": 1670.0}, {\\\"y\\\": 638000.0, \\\"x\\\": 1830.0}, {\\\"y\\\": 460000.0, \\\"x\\\": 1400.0}, {\\\"y\\\": 760000.0, \\\"x\\\": 2770.0}, {\\\"y\\\": 1085000.0, \\\"x\\\": 3630.0}, {\\\"y\\\": 234000.0, \\\"x\\\": 1040.0}, {\\\"y\\\": 1650000.0, \\\"x\\\": 2690.0}, {\\\"y\\\": 488000.0, \\\"x\\\": 2020.0}, {\\\"y\\\": 1550000.0, \\\"x\\\": 2450.0}, {\\\"y\\\": 499000.0, \\\"x\\\": 2030.0}, {\\\"y\\\": 150000.0, \\\"x\\\": 1450.0}, {\\\"y\\\": 333000.0, \\\"x\\\": 2400.0}, {\\\"y\\\": 700000.0, \\\"x\\\": 2870.0}, {\\\"y\\\": 275000.0, \\\"x\\\": 1340.0}, {\\\"y\\\": 330000.0, \\\"x\\\": 1680.0}, {\\\"y\\\": 360000.0, \\\"x\\\": 1850.0}, {\\\"y\\\": 467000.0, \\\"x\\\": 1220.0}, {\\\"y\\\": 568000.0, \\\"x\\\": 2320.0}, {\\\"y\\\": 605000.0, \\\"x\\\": 3220.0}, {\\\"y\\\": 750000.0, \\\"x\\\": 3190.0}, {\\\"y\\\": 760000.0, \\\"x\\\": 3530.0}, {\\\"y\\\": 265000.0, \\\"x\\\": 2050.0}, {\\\"y\\\": 490000.0, \\\"x\\\": 1720.0}, {\\\"y\\\": 360000.0, \\\"x\\\": 2850.0}, {\\\"y\\\": 311750.0, \\\"x\\\": 2270.0}, {\\\"y\\\": 399000.0, \\\"x\\\": 1880.0}, {\\\"y\\\": 347000.0, \\\"x\\\": 2770.0}, {\\\"y\\\": 1680000.0, \\\"x\\\": 4490.0}, {\\\"y\\\": 585000.0, \\\"x\\\": 3110.0}, {\\\"y\\\": 340000.0, \\\"x\\\": 2360.0}, {\\\"y\\\": 612000.0, \\\"x\\\": 2180.0}, {\\\"y\\\": 230000.0, \\\"x\\\": 1910.0}, {\\\"y\\\": 604000.0, \\\"x\\\": 2260.0}, {\\\"y\\\": 250000.0, \\\"x\\\": 1770.0}, {\\\"y\\\": 258500.0, \\\"x\\\": 1460.0}, {\\\"y\\\": 783000.0, \\\"x\\\": 2080.0}, {\\\"y\\\": 1050000.0, \\\"x\\\": 2960.0}, {\\\"y\\\": 760000.0, \\\"x\\\": 3220.0}, {\\\"y\\\": 276000.0, \\\"x\\\": 1140.0}, {\\\"y\\\": 550000.0, \\\"x\\\": 1660.0}, {\\\"y\\\": 398000.0, \\\"x\\\": 1430.0}, {\\\"y\\\": 775000.0, \\\"x\\\": 1820.0}, {\\\"y\\\": 1027500.0, \\\"x\\\": 3540.0}, {\\\"y\\\": 327000.0, \\\"x\\\": 1620.0}, {\\\"y\\\": 564500.0, \\\"x\\\": 3100.0}, {\\\"y\\\": 782000.0, \\\"x\\\": 1500.0}, {\\\"y\\\": 398000.0, \\\"x\\\": 2820.0}, {\\\"y\\\": 257000.0, \\\"x\\\": 1850.0}, {\\\"y\\\": 235000.0, \\\"x\\\": 1570.0}, {\\\"y\\\": 453000.0, \\\"x\\\": 2300.0}, {\\\"y\\\": 535000.0, \\\"x\\\": 920.0}, {\\\"y\\\": 275000.0, \\\"x\\\": 1600.0}, {\\\"y\\\": 665000.0, \\\"x\\\": 2630.0}, {\\\"y\\\": 670000.0, \\\"x\\\": 3020.0}, {\\\"y\\\": 465000.0, \\\"x\\\": 1490.0}, {\\\"y\\\": 210000.0, \\\"x\\\": 1160.0}, {\\\"y\\\": 265000.0, \\\"x\\\": 2040.0}, {\\\"y\\\": 426000.0, \\\"x\\\": 1550.0}, {\\\"y\\\": 529219.0, \\\"x\\\": 1990.0}, {\\\"y\\\": 600000.0, \\\"x\\\": 1900.0}, {\\\"y\\\": 875000.0, \\\"x\\\": 3840.0}, {\\\"y\\\": 608000.0, \\\"x\\\": 2400.0}, {\\\"y\\\": 220000.0, \\\"x\\\": 1660.0}, {\\\"y\\\": 1760000.0, \\\"x\\\": 6055.0}, {\\\"y\\\": 295450.0, \\\"x\\\": 2030.0}, {\\\"y\\\": 315000.0, \\\"x\\\": 840.0}, {\\\"y\\\": 205000.0, \\\"x\\\": 1450.0}, {\\\"y\\\": 310000.0, \\\"x\\\": 1460.0}, {\\\"y\\\": 1000000.0, \\\"x\\\": 2010.0}, {\\\"y\\\": 525000.0, \\\"x\\\": 2910.0}, {\\\"y\\\": 284000.0, \\\"x\\\": 1880.0}, {\\\"y\\\": 510000.0, \\\"x\\\": 2170.0}, {\\\"y\\\": 405000.0, \\\"x\\\": 1260.0}, {\\\"y\\\": 509950.0, \\\"x\\\": 1970.0}, {\\\"y\\\": 600000.0, \\\"x\\\": 2090.0}, {\\\"y\\\": 990000.0, \\\"x\\\": 3450.0}, {\\\"y\\\": 280005.0, \\\"x\\\": 1130.0}, {\\\"y\\\": 700000.0, \\\"x\\\": 2600.0}, {\\\"y\\\": 330000.0, \\\"x\\\": 1030.0}, {\\\"y\\\": 340000.0, \\\"x\\\": 1700.0}, {\\\"y\\\": 468000.0, \\\"x\\\": 1480.0}, {\\\"y\\\": 1339000.0, \\\"x\\\": 4250.0}, {\\\"y\\\": 515000.0, \\\"x\\\": 1600.0}, {\\\"y\\\": 245000.0, \\\"x\\\": 1870.0}, {\\\"y\\\": 265000.0, \\\"x\\\": 1440.0}, {\\\"y\\\": 372400.0, \\\"x\\\": 2720.0}, {\\\"y\\\": 390000.0, \\\"x\\\": 1240.0}, {\\\"y\\\": 208000.0, \\\"x\\\": 1020.0}, {\\\"y\\\": 273000.0, \\\"x\\\": 1180.0}, {\\\"y\\\": 455000.0, \\\"x\\\": 3080.0}, {\\\"y\\\": 270000.0, \\\"x\\\": 1750.0}, {\\\"y\\\": 618000.0, \\\"x\\\": 2530.0}, {\\\"y\\\": 213550.0, \\\"x\\\": 1580.0}, {\\\"y\\\": 210000.0, \\\"x\\\": 2340.0}, {\\\"y\\\": 2750000.0, \\\"x\\\": 6300.0}, {\\\"y\\\": 403500.0, \\\"x\\\": 2400.0}, {\\\"y\\\": 235000.0, \\\"x\\\": 1300.0}, {\\\"y\\\": 287500.0, \\\"x\\\": 1760.0}, {\\\"y\\\": 546800.0, \\\"x\\\": 1520.0}, {\\\"y\\\": 183000.0, \\\"x\\\": 1070.0}, {\\\"y\\\": 560000.0, \\\"x\\\": 2560.0}, {\\\"y\\\": 299500.0, \\\"x\\\": 1280.0}, {\\\"y\\\": 610000.0, \\\"x\\\": 1660.0}, {\\\"y\\\": 288350.0, \\\"x\\\": 1860.0}, {\\\"y\\\": 500000.0, \\\"x\\\": 950.0}, {\\\"y\\\": 625000.0, \\\"x\\\": 2140.0}, {\\\"y\\\": 418000.0, \\\"x\\\": 1480.0}, {\\\"y\\\": 660000.0, \\\"x\\\": 2260.0}, {\\\"y\\\": 775000.0, \\\"x\\\": 2300.0}, {\\\"y\\\": 429500.0, \\\"x\\\": 1650.0}, {\\\"y\\\": 569000.0, \\\"x\\\": 1990.0}, {\\\"y\\\": 250000.0, \\\"x\\\": 1960.0}, {\\\"y\\\": 225000.0, \\\"x\\\": 1310.0}, {\\\"y\\\": 530000.0, \\\"x\\\": 2450.0}, {\\\"y\\\": 306000.0, \\\"x\\\": 910.0}, {\\\"y\\\": 517100.0, \\\"x\\\": 1580.0}, {\\\"y\\\": 354950.0, \\\"x\\\": 1780.0}, {\\\"y\\\": 348000.0, \\\"x\\\": 1040.0}, {\\\"y\\\": 522250.0, \\\"x\\\": 2340.0}, {\\\"y\\\": 275000.0, \\\"x\\\": 1720.0}, {\\\"y\\\": 390000.0, \\\"x\\\": 1600.0}, {\\\"y\\\": 260000.0, \\\"x\\\": 1320.0}, {\\\"y\\\": 585000.0, \\\"x\\\": 2350.0}, {\\\"y\\\": 605000.0, \\\"x\\\": 2740.0}, {\\\"y\\\": 342000.0, \\\"x\\\": 2300.0}, {\\\"y\\\": 900000.0, \\\"x\\\": 4350.0}, {\\\"y\\\": 252000.0, \\\"x\\\": 1430.0}, {\\\"y\\\": 357000.0, \\\"x\\\": 2400.0}, {\\\"y\\\": 370000.0, \\\"x\\\": 940.0}, {\\\"y\\\": 322500.0, \\\"x\\\": 1020.0}, {\\\"y\\\": 210000.0, \\\"x\\\": 1680.0}, {\\\"y\\\": 290000.0, \\\"x\\\": 1340.0}, {\\\"y\\\": 860000.0, \\\"x\\\": 3960.0}, {\\\"y\\\": 302000.0, \\\"x\\\": 2650.0}, {\\\"y\\\": 369160.0, \\\"x\\\": 2120.0}, {\\\"y\\\": 1185000.0, \\\"x\\\": 2850.0}, {\\\"y\\\": 993000.0, \\\"x\\\": 2850.0}, {\\\"y\\\": 380000.0, \\\"x\\\": 1870.0}, {\\\"y\\\": 635000.0, \\\"x\\\": 2660.0}, {\\\"y\\\": 260000.0, \\\"x\\\": 1190.0}, {\\\"y\\\": 243000.0, \\\"x\\\": 1770.0}, {\\\"y\\\": 1400000.0, \\\"x\\\": 2770.0}, {\\\"y\\\": 665000.0, \\\"x\\\": 2080.0}, {\\\"y\\\": 898000.0, \\\"x\\\": 2700.0}, {\\\"y\\\": 583000.0, \\\"x\\\": 2200.0}, {\\\"y\\\": 429000.0, \\\"x\\\": 2160.0}, {\\\"y\\\": 471000.0, \\\"x\\\": 2010.0}, {\\\"y\\\": 1810000.0, \\\"x\\\": 3780.0}, {\\\"y\\\": 739500.0, \\\"x\\\": 4460.0}, {\\\"y\\\": 450000.0, \\\"x\\\": 1770.0}, {\\\"y\\\": 552500.0, \\\"x\\\": 1430.0}, {\\\"y\\\": 437000.0, \\\"x\\\": 1700.0}, {\\\"y\\\": 270000.0, \\\"x\\\": 1830.0}, {\\\"y\\\": 226740.0, \\\"x\\\": 1410.0}, {\\\"y\\\": 446500.0, \\\"x\\\": 3060.0}, {\\\"y\\\": 283000.0, \\\"x\\\": 1820.0}, {\\\"y\\\": 445000.0, \\\"x\\\": 2430.0}, {\\\"y\\\": 250000.0, \\\"x\\\": 740.0}, {\\\"y\\\": 307000.0, \\\"x\\\": 770.0}, {\\\"y\\\": 315000.0, \\\"x\\\": 2200.0}, {\\\"y\\\": 555000.0, \\\"x\\\": 2920.0}, {\\\"y\\\": 264900.0, \\\"x\\\": 2040.0}, {\\\"y\\\": 510000.0, \\\"x\\\": 1600.0}, {\\\"y\\\": 328000.0, \\\"x\\\": 1990.0}, {\\\"y\\\": 358000.0, \\\"x\\\": 1830.0}, {\\\"y\\\": 325000.0, \\\"x\\\": 2540.0}, {\\\"y\\\": 1365000.0, \\\"x\\\": 2700.0}, {\\\"y\\\": 230000.0, \\\"x\\\": 1440.0}, {\\\"y\\\": 545000.0, \\\"x\\\": 1550.0}, {\\\"y\\\": 705380.0, \\\"x\\\": 2490.0}, {\\\"y\\\": 459000.0, \\\"x\\\": 2650.0}, {\\\"y\\\": 815000.0, \\\"x\\\": 2000.0}, {\\\"y\\\": 495000.0, \\\"x\\\": 3440.0}, {\\\"y\\\": 520000.0, \\\"x\\\": 2280.0}, {\\\"y\\\": 430000.0, \\\"x\\\": 1320.0}, {\\\"y\\\": 255000.0, \\\"x\\\": 2070.0}, {\\\"y\\\": 588000.0, \\\"x\\\": 1860.0}, {\\\"y\\\": 350000.0, \\\"x\\\": 940.0}, {\\\"y\\\": 625000.0, \\\"x\\\": 2290.0}, {\\\"y\\\": 172500.0, \\\"x\\\": 1510.0}, {\\\"y\\\": 554000.0, \\\"x\\\": 1830.0}, {\\\"y\\\": 775000.0, \\\"x\\\": 3090.0}, {\\\"y\\\": 1187500.0, \\\"x\\\": 4340.0}, {\\\"y\\\": 618000.0, \\\"x\\\": 3200.0}, {\\\"y\\\": 305000.0, \\\"x\\\": 1560.0}, {\\\"y\\\": 232000.0, \\\"x\\\": 1280.0}, {\\\"y\\\": 262000.0, \\\"x\\\": 2020.0}, {\\\"y\\\": 234000.0, \\\"x\\\": 1040.0}, {\\\"y\\\": 500000.0, \\\"x\\\": 2260.0}, {\\\"y\\\": 278000.0, \\\"x\\\": 860.0}, {\\\"y\\\": 230000.0, \\\"x\\\": 1920.0}, {\\\"y\\\": 500000.0, \\\"x\\\": 2290.0}, {\\\"y\\\": 366500.0, \\\"x\\\": 2070.0}, {\\\"y\\\": 665000.0, \\\"x\\\": 4250.0}, {\\\"y\\\": 1101000.0, \\\"x\\\": 2220.0}, {\\\"y\\\": 575000.0, \\\"x\\\": 1840.0}, {\\\"y\\\": 674750.0, \\\"x\\\": 2590.0}, {\\\"y\\\": 719000.0, \\\"x\\\": 3110.0}, {\\\"y\\\": 482000.0, \\\"x\\\": 2600.0}, {\\\"y\\\": 254000.0, \\\"x\\\": 1060.0}, {\\\"y\\\": 443725.0, \\\"x\\\": 1250.0}, {\\\"y\\\": 575000.0, \\\"x\\\": 2520.0}, {\\\"y\\\": 469000.0, \\\"x\\\": 2070.0}, {\\\"y\\\": 175000.0, \\\"x\\\": 1300.0}, {\\\"y\\\": 437000.0, \\\"x\\\": 2190.0}, {\\\"y\\\": 550000.0, \\\"x\\\": 2760.0}, {\\\"y\\\": 172040.0, \\\"x\\\": 1710.0}, {\\\"y\\\": 363000.0, \\\"x\\\": 1750.0}, {\\\"y\\\": 282000.0, \\\"x\\\": 1552.0}, {\\\"y\\\": 400000.0, \\\"x\\\": 2350.0}, {\\\"y\\\": 650000.0, \\\"x\\\": 5110.0}, {\\\"y\\\": 365000.0, \\\"x\\\": 1720.0}, {\\\"y\\\": 269950.0, \\\"x\\\": 1960.0}, {\\\"y\\\": 260000.0, \\\"x\\\": 1270.0}, {\\\"y\\\": 193000.0, \\\"x\\\": 1180.0}, {\\\"y\\\": 340000.0, \\\"x\\\": 2230.0}, {\\\"y\\\": 900000.0, \\\"x\\\": 4700.0}, {\\\"y\\\": 371000.0, \\\"x\\\": 2150.0}, {\\\"y\\\": 592000.0, \\\"x\\\": 2400.0}, {\\\"y\\\": 300000.0, \\\"x\\\": 1830.0}, {\\\"y\\\": 449950.0, \\\"x\\\": 2800.0}, {\\\"y\\\": 299500.0, \\\"x\\\": 2090.0}, {\\\"y\\\": 995000.0, \\\"x\\\": 2340.0}, {\\\"y\\\": 335000.0, \\\"x\\\": 1670.0}, {\\\"y\\\": 280000.0, \\\"x\\\": 1990.0}, {\\\"y\\\": 446000.0, \\\"x\\\": 2270.0}, {\\\"y\\\": 1544500.0, \\\"x\\\": 4910.0}, {\\\"y\\\": 325000.0, \\\"x\\\": 950.0}, {\\\"y\\\": 450000.0, \\\"x\\\": 1610.0}, {\\\"y\\\": 322500.0, \\\"x\\\": 1940.0}, {\\\"y\\\": 453000.0, \\\"x\\\": 1210.0}, {\\\"y\\\": 655000.0, \\\"x\\\": 2570.0}, {\\\"y\\\": 603000.0, \\\"x\\\": 1700.0}, {\\\"y\\\": 235000.0, \\\"x\\\": 1610.0}, {\\\"y\\\": 968933.0, \\\"x\\\": 4120.0}, {\\\"y\\\": 1015000.0, \\\"x\\\": 2880.0}, {\\\"y\\\": 435000.0, \\\"x\\\": 1990.0}, {\\\"y\\\": 242000.0, \\\"x\\\": 1260.0}, {\\\"y\\\": 487000.0, \\\"x\\\": 4750.0}, {\\\"y\\\": 810000.0, \\\"x\\\": 3010.0}, {\\\"y\\\": 625000.0, \\\"x\\\": 2410.0}, {\\\"y\\\": 165000.0, \\\"x\\\": 1280.0}, {\\\"y\\\": 335000.0, \\\"x\\\": 2320.0}, {\\\"y\\\": 286700.0, \\\"x\\\": 1220.0}, {\\\"y\\\": 699000.0, \\\"x\\\": 1400.0}, {\\\"y\\\": 280000.0, \\\"x\\\": 1590.0}, {\\\"y\\\": 580000.0, \\\"x\\\": 2220.0}, {\\\"y\\\": 754800.0, \\\"x\\\": 2770.0}, {\\\"y\\\": 525000.0, \\\"x\\\": 2303.0}, {\\\"y\\\": 562000.0, \\\"x\\\": 1600.0}, {\\\"y\\\": 575000.0, \\\"x\\\": 1280.0}, {\\\"y\\\": 808900.0, \\\"x\\\": 2900.0}, {\\\"y\\\": 992000.0, \\\"x\\\": 2950.0}, {\\\"y\\\": 335000.0, \\\"x\\\": 1700.0}, {\\\"y\\\": 473000.0, \\\"x\\\": 1050.0}, {\\\"y\\\": 350000.0, \\\"x\\\": 2990.0}, {\\\"y\\\": 1600000.0, \\\"x\\\": 3100.0}, {\\\"y\\\": 305500.0, \\\"x\\\": 1240.0}, {\\\"y\\\": 306000.0, \\\"x\\\": 780.0}, {\\\"y\\\": 233000.0, \\\"x\\\": 850.0}, {\\\"y\\\": 490000.0, \\\"x\\\": 1540.0}, {\\\"y\\\": 445000.0, \\\"x\\\": 2280.0}, {\\\"y\\\": 355000.0, \\\"x\\\": 2550.0}, {\\\"y\\\": 360000.0, \\\"x\\\": 1770.0}, {\\\"y\\\": 737500.0, \\\"x\\\": 2320.0}, {\\\"y\\\": 985000.0, \\\"x\\\": 2600.0}, {\\\"y\\\": 349950.0, \\\"x\\\": 1570.0}, {\\\"y\\\": 520000.0, \\\"x\\\": 3060.0}, {\\\"y\\\": 355950.0, \\\"x\\\": 1960.0}, {\\\"y\\\": 485000.0, \\\"x\\\": 3270.0}, {\\\"y\\\": 143000.0, \\\"x\\\": 1090.0}, {\\\"y\\\": 3278000.0, \\\"x\\\": 6840.0}, {\\\"y\\\": 355000.0, \\\"x\\\": 940.0}, {\\\"y\\\": 1126000.0, \\\"x\\\": 3880.0}, {\\\"y\\\": 200000.0, \\\"x\\\": 1770.0}, {\\\"y\\\": 913000.0, \\\"x\\\": 3640.0}, {\\\"y\\\": 1600000.0, \\\"x\\\": 3160.0}, {\\\"y\\\": 409900.0, \\\"x\\\": 1590.0}, {\\\"y\\\": 265000.0, \\\"x\\\": 1290.0}, {\\\"y\\\": 740000.0, \\\"x\\\": 3655.0}, {\\\"y\\\": 306000.0, \\\"x\\\": 2490.0}, {\\\"y\\\": 381000.0, \\\"x\\\": 1470.0}, {\\\"y\\\": 1220000.0, \\\"x\\\": 3960.0}, {\\\"y\\\": 1050000.0, \\\"x\\\": 3190.0}, {\\\"y\\\": 408000.0, \\\"x\\\": 810.0}, {\\\"y\\\": 739900.0, \\\"x\\\": 2980.0}, {\\\"y\\\": 674250.0, \\\"x\\\": 2780.0}, {\\\"y\\\": 438400.0, \\\"x\\\": 1340.0}, {\\\"y\\\": 1700000.0, \\\"x\\\": 4930.0}, {\\\"y\\\": 703000.0, \\\"x\\\": 1360.0}, {\\\"y\\\": 262000.0, \\\"x\\\": 1320.0}, {\\\"y\\\": 353000.0, \\\"x\\\": 1210.0}, {\\\"y\\\": 500000.0, \\\"x\\\": 1940.0}, {\\\"y\\\": 1280000.0, \\\"x\\\": 3160.0}, {\\\"y\\\": 332000.0, \\\"x\\\": 1980.0}, {\\\"y\\\": 824000.0, \\\"x\\\": 2320.0}, {\\\"y\\\": 290000.0, \\\"x\\\": 1660.0}, {\\\"y\\\": 700000.0, \\\"x\\\": 1660.0}, {\\\"y\\\": 550000.0, \\\"x\\\": 1080.0}, {\\\"y\\\": 549000.0, \\\"x\\\": 1510.0}, {\\\"y\\\": 1865000.0, \\\"x\\\": 2950.0}, {\\\"y\\\": 858000.0, \\\"x\\\": 3070.0}, {\\\"y\\\": 345000.0, \\\"x\\\": 970.0}, {\\\"y\\\": 340000.0, \\\"x\\\": 2140.0}, {\\\"y\\\": 1215000.0, \\\"x\\\": 2570.0}, {\\\"y\\\": 275000.0, \\\"x\\\": 1260.0}, {\\\"y\\\": 405000.0, \\\"x\\\": 1220.0}, {\\\"y\\\": 432500.0, \\\"x\\\": 1720.0}, {\\\"y\\\": 236500.0, \\\"x\\\": 2140.0}, {\\\"y\\\": 679000.0, \\\"x\\\": 1420.0}, {\\\"y\\\": 543000.0, \\\"x\\\": 2060.0}, {\\\"y\\\": 294000.0, \\\"x\\\": 1320.0}, {\\\"y\\\": 340500.0, \\\"x\\\": 1810.0}, {\\\"y\\\": 1012000.0, \\\"x\\\": 2980.0}, {\\\"y\\\": 335000.0, \\\"x\\\": 1350.0}, {\\\"y\\\": 425000.0, \\\"x\\\": 1540.0}, {\\\"y\\\": 353000.0, \\\"x\\\": 2510.0}, {\\\"y\\\": 540000.0, \\\"x\\\": 1670.0}, {\\\"y\\\": 640000.0, \\\"x\\\": 3690.0}, {\\\"y\\\": 339950.0, \\\"x\\\": 1320.0}, {\\\"y\\\": 195000.0, \\\"x\\\": 1510.0}, {\\\"y\\\": 322000.0, \\\"x\\\": 1510.0}, {\\\"y\\\": 660000.0, \\\"x\\\": 1870.0}, {\\\"y\\\": 280000.0, \\\"x\\\": 2400.0}, {\\\"y\\\": 300000.0, \\\"x\\\": 2400.0}, {\\\"y\\\": 207500.0, \\\"x\\\": 1170.0}, {\\\"y\\\": 195000.0, \\\"x\\\": 1190.0}, {\\\"y\\\": 700000.0, \\\"x\\\": 2080.0}, {\\\"y\\\": 560000.0, \\\"x\\\": 2150.0}, {\\\"y\\\": 260000.0, \\\"x\\\": 1580.0}, {\\\"y\\\": 575000.0, \\\"x\\\": 1580.0}, {\\\"y\\\": 475000.0, \\\"x\\\": 2370.0}, {\\\"y\\\": 285000.0, \\\"x\\\": 1840.0}, {\\\"y\\\": 753888.0, \\\"x\\\": 2660.0}, {\\\"y\\\": 650000.0, \\\"x\\\": 2190.0}, {\\\"y\\\": 620000.0, \\\"x\\\": 1660.0}, {\\\"y\\\": 526000.0, \\\"x\\\": 1780.0}, {\\\"y\\\": 155000.0, \\\"x\\\": 700.0}, {\\\"y\\\": 342000.0, \\\"x\\\": 1570.0}, {\\\"y\\\": 390000.0, \\\"x\\\": 1220.0}, {\\\"y\\\": 685000.0, \\\"x\\\": 3150.0}, {\\\"y\\\": 608000.0, \\\"x\\\": 2690.0}, {\\\"y\\\": 179900.0, \\\"x\\\": 680.0}, {\\\"y\\\": 1245000.0, \\\"x\\\": 3750.0}, {\\\"y\\\": 166000.0, \\\"x\\\": 1010.0}, {\\\"y\\\": 462000.0, \\\"x\\\": 1710.0}, {\\\"y\\\": 545000.0, \\\"x\\\": 2090.0}, {\\\"y\\\": 415000.0, \\\"x\\\": 1560.0}, {\\\"y\\\": 269000.0, \\\"x\\\": 1560.0}, {\\\"y\\\": 356500.0, \\\"x\\\": 2570.0}, {\\\"y\\\": 225000.0, \\\"x\\\": 1010.0}, {\\\"y\\\": 175000.0, \\\"x\\\": 1020.0}, {\\\"y\\\": 549000.0, \\\"x\\\": 1710.0}, {\\\"y\\\": 535000.0, \\\"x\\\": 2300.0}, {\\\"y\\\": 627000.0, \\\"x\\\": 1990.0}, {\\\"y\\\": 565000.0, \\\"x\\\": 2730.0}, {\\\"y\\\": 392450.0, \\\"x\\\": 2195.0}, {\\\"y\\\": 509000.0, \\\"x\\\": 1560.0}, {\\\"y\\\": 340000.0, \\\"x\\\": 1400.0}, {\\\"y\\\": 537000.0, \\\"x\\\": 1400.0}, {\\\"y\\\": 865000.0, \\\"x\\\": 3690.0}, {\\\"y\\\": 358000.0, \\\"x\\\": 1140.0}, {\\\"y\\\": 595000.0, \\\"x\\\": 1920.0}, {\\\"y\\\": 661000.0, \\\"x\\\": 2496.0}, {\\\"y\\\": 419950.0, \\\"x\\\": 2280.0}, {\\\"y\\\": 490000.0, \\\"x\\\": 3200.0}, {\\\"y\\\": 525000.0, \\\"x\\\": 880.0}, {\\\"y\\\": 350000.0, \\\"x\\\": 1320.0}, {\\\"y\\\": 552500.0, \\\"x\\\": 2450.0}, {\\\"y\\\": 210000.0, \\\"x\\\": 1040.0}, {\\\"y\\\": 390000.0, \\\"x\\\": 2480.0}, {\\\"y\\\": 336800.0, \\\"x\\\": 1830.0}, {\\\"y\\\": 465000.0, \\\"x\\\": 1440.0}, {\\\"y\\\": 299900.0, \\\"x\\\": 1580.0}, {\\\"y\\\": 715000.0, \\\"x\\\": 3230.0}, {\\\"y\\\": 235000.0, \\\"x\\\": 1810.0}, {\\\"y\\\": 276000.0, \\\"x\\\": 2495.0}, {\\\"y\\\": 265000.0, \\\"x\\\": 1740.0}, {\\\"y\\\": 425000.0, \\\"x\\\": 1680.0}, {\\\"y\\\": 313000.0, \\\"x\\\": 2460.0}, {\\\"y\\\": 715000.0, \\\"x\\\": 3050.0}, {\\\"y\\\": 265000.0, \\\"x\\\": 1630.0}, {\\\"y\\\": 646000.0, \\\"x\\\": 2460.0}, {\\\"y\\\": 175000.0, \\\"x\\\": 1030.0}, {\\\"y\\\": 649000.0, \\\"x\\\": 3410.0}, {\\\"y\\\": 785000.0, \\\"x\\\": 2310.0}, {\\\"y\\\": 890000.0, \\\"x\\\": 2610.0}, {\\\"y\\\": 612000.0, \\\"x\\\": 2330.0}, {\\\"y\\\": 330000.0, \\\"x\\\": 2980.0}, {\\\"y\\\": 493000.0, \\\"x\\\": 1790.0}, {\\\"y\\\": 1600000.0, \\\"x\\\": 2940.0}, {\\\"y\\\": 1619999.0, \\\"x\\\": 3900.0}, {\\\"y\\\": 1650000.0, \\\"x\\\": 3900.0}, {\\\"y\\\": 499000.0, \\\"x\\\": 1750.0}, {\\\"y\\\": 603500.0, \\\"x\\\": 2660.0}, {\\\"y\\\": 530000.0, \\\"x\\\": 1580.0}, {\\\"y\\\": 895000.0, \\\"x\\\": 2350.0}, {\\\"y\\\": 267345.0, \\\"x\\\": 2510.0}, {\\\"y\\\": 275000.0, \\\"x\\\": 1480.0}, {\\\"y\\\": 439950.0, \\\"x\\\": 1720.0}, {\\\"y\\\": 455000.0, \\\"x\\\": 1470.0}, {\\\"y\\\": 630000.0, \\\"x\\\": 1540.0}, {\\\"y\\\": 690000.0, \\\"x\\\": 2820.0}, {\\\"y\\\": 212000.0, \\\"x\\\": 1250.0}, {\\\"y\\\": 231500.0, \\\"x\\\": 2080.0}, {\\\"y\\\": 1237500.0, \\\"x\\\": 5180.0}, {\\\"y\\\": 378500.0, \\\"x\\\": 2860.0}, {\\\"y\\\": 482000.0, \\\"x\\\": 2710.0}, {\\\"y\\\": 695000.0, \\\"x\\\": 1140.0}, {\\\"y\\\": 965000.0, \\\"x\\\": 4070.0}, {\\\"y\\\": 675000.0, \\\"x\\\": 1710.0}, {\\\"y\\\": 387000.0, \\\"x\\\": 1340.0}, {\\\"y\\\": 347500.0, \\\"x\\\": 2290.0}, {\\\"y\\\": 385000.0, \\\"x\\\": 1860.0}, {\\\"y\\\": 265000.0, \\\"x\\\": 1080.0}, {\\\"y\\\": 406000.0, \\\"x\\\": 960.0}, {\\\"y\\\": 134000.0, \\\"x\\\": 980.0}, {\\\"y\\\": 415000.0, \\\"x\\\": 1500.0}, {\\\"y\\\": 375000.0, \\\"x\\\": 1440.0}, {\\\"y\\\": 620000.0, \\\"x\\\": 2580.0}, {\\\"y\\\": 337500.0, \\\"x\\\": 2070.0}, {\\\"y\\\": 565000.0, \\\"x\\\": 1880.0}, {\\\"y\\\": 399500.0, \\\"x\\\": 2420.0}, {\\\"y\\\": 1065000.0, \\\"x\\\": 1890.0}, {\\\"y\\\": 352500.0, \\\"x\\\": 1920.0}, {\\\"y\\\": 259000.0, \\\"x\\\": 1870.0}, {\\\"y\\\": 320000.0, \\\"x\\\": 900.0}, {\\\"y\\\": 733000.0, \\\"x\\\": 2160.0}, {\\\"y\\\": 381500.0, \\\"x\\\": 900.0}, {\\\"y\\\": 343000.0, \\\"x\\\": 1180.0}, {\\\"y\\\": 205500.0, \\\"x\\\": 900.0}, {\\\"y\\\": 525000.0, \\\"x\\\": 1600.0}, {\\\"y\\\": 300000.0, \\\"x\\\": 1500.0}, {\\\"y\\\": 299000.0, \\\"x\\\": 1070.0}, {\\\"y\\\": 561000.0, \\\"x\\\": 2570.0}, {\\\"y\\\": 450000.0, \\\"x\\\": 1210.0}, {\\\"y\\\": 540000.0, \\\"x\\\": 1850.0}, {\\\"y\\\": 379000.0, \\\"x\\\": 1740.0}, {\\\"y\\\": 230000.0, \\\"x\\\": 1300.0}, {\\\"y\\\": 399950.0, \\\"x\\\": 2000.0}, {\\\"y\\\": 355000.0, \\\"x\\\": 3220.0}, {\\\"y\\\": 580000.0, \\\"x\\\": 2160.0}, {\\\"y\\\": 700000.0, \\\"x\\\": 2130.0}, {\\\"y\\\": 279900.0, \\\"x\\\": 1580.0}, {\\\"y\\\": 210000.0, \\\"x\\\": 1200.0}, {\\\"y\\\": 1165000.0, \\\"x\\\": 3790.0}, {\\\"y\\\": 290300.0, \\\"x\\\": 860.0}, {\\\"y\\\": 1599950.0, \\\"x\\\": 5130.0}, {\\\"y\\\": 490000.0, \\\"x\\\": 1600.0}, {\\\"y\\\": 606000.0, \\\"x\\\": 2110.0}, {\\\"y\\\": 359950.0, \\\"x\\\": 1400.0}, {\\\"y\\\": 677100.0, \\\"x\\\": 2110.0}, {\\\"y\\\": 465000.0, \\\"x\\\": 1430.0}, {\\\"y\\\": 4500000.0, \\\"x\\\": 6640.0}, {\\\"y\\\": 500000.0, \\\"x\\\": 3040.0}, {\\\"y\\\": 455000.0, \\\"x\\\": 980.0}, {\\\"y\\\": 705000.0, \\\"x\\\": 2570.0}, {\\\"y\\\": 420000.0, \\\"x\\\": 2060.0}, {\\\"y\\\": 169575.0, \\\"x\\\": 1300.0}, {\\\"y\\\": 250000.0, \\\"x\\\": 1300.0}, {\\\"y\\\": 530000.0, \\\"x\\\": 1680.0}, {\\\"y\\\": 590000.0, \\\"x\\\": 4020.0}, {\\\"y\\\": 257500.0, \\\"x\\\": 1530.0}, {\\\"y\\\": 415000.0, \\\"x\\\": 1170.0}, {\\\"y\\\": 536000.0, \\\"x\\\": 1580.0}, {\\\"y\\\": 246500.0, \\\"x\\\": 1270.0}, {\\\"y\\\": 395000.0, \\\"x\\\": 1480.0}, {\\\"y\\\": 739000.0, \\\"x\\\": 2220.0}, {\\\"y\\\": 1272000.0, \\\"x\\\": 3200.0}, {\\\"y\\\": 190000.0, \\\"x\\\": 910.0}, {\\\"y\\\": 305000.0, \\\"x\\\": 1480.0}, {\\\"y\\\": 925000.0, \\\"x\\\": 3770.0}, {\\\"y\\\": 895000.0, \\\"x\\\": 3500.0}, {\\\"y\\\": 656000.0, \\\"x\\\": 1480.0}, {\\\"y\\\": 560000.0, \\\"x\\\": 1660.0}, {\\\"y\\\": 610000.0, \\\"x\\\": 2520.0}, {\\\"y\\\": 645000.0, \\\"x\\\": 2850.0}, {\\\"y\\\": 259000.0, \\\"x\\\": 2153.0}, {\\\"y\\\": 980000.0, \\\"x\\\": 3780.0}, {\\\"y\\\": 872000.0, \\\"x\\\": 3770.0}, {\\\"y\\\": 1000000.0, \\\"x\\\": 3600.0}, {\\\"y\\\": 900000.0, \\\"x\\\": 2980.0}, {\\\"y\\\": 475000.0, \\\"x\\\": 2320.0}, {\\\"y\\\": 350000.0, \\\"x\\\": 2980.0}, {\\\"y\\\": 840000.0, \\\"x\\\": 2930.0}, {\\\"y\\\": 500000.0, \\\"x\\\": 2040.0}, {\\\"y\\\": 202500.0, \\\"x\\\": 1510.0}, {\\\"y\\\": 523000.0, \\\"x\\\": 2660.0}, {\\\"y\\\": 225000.0, \\\"x\\\": 1740.0}, {\\\"y\\\": 418200.0, \\\"x\\\": 2240.0}, {\\\"y\\\": 356500.0, \\\"x\\\": 1570.0}, {\\\"y\\\": 670000.0, \\\"x\\\": 2500.0}, {\\\"y\\\": 456150.0, \\\"x\\\": 1750.0}, {\\\"y\\\": 471000.0, \\\"x\\\": 3030.0}, {\\\"y\\\": 558000.0, \\\"x\\\": 1680.0}, {\\\"y\\\": 1380000.0, \\\"x\\\": 5740.0}, {\\\"y\\\": 161500.0, \\\"x\\\": 1220.0}, {\\\"y\\\": 311000.0, \\\"x\\\": 1310.0}, {\\\"y\\\": 470000.0, \\\"x\\\": 2490.0}, {\\\"y\\\": 569000.0, \\\"x\\\": 2220.0}, {\\\"y\\\": 689000.0, \\\"x\\\": 2240.0}, {\\\"y\\\": 271900.0, \\\"x\\\": 1890.0}, {\\\"y\\\": 278000.0, \\\"x\\\": 1850.0}, {\\\"y\\\": 820000.0, \\\"x\\\": 2210.0}, {\\\"y\\\": 399500.0, \\\"x\\\": 1410.0}, {\\\"y\\\": 462000.0, \\\"x\\\": 1890.0}, {\\\"y\\\": 347500.0, \\\"x\\\": 1830.0}, {\\\"y\\\": 562100.0, \\\"x\\\": 1440.0}, {\\\"y\\\": 230000.0, \\\"x\\\": 950.0}, {\\\"y\\\": 687000.0, \\\"x\\\": 2370.0}, {\\\"y\\\": 725786.0, \\\"x\\\": 3070.0}, {\\\"y\\\": 315500.0, \\\"x\\\": 1300.0}, {\\\"y\\\": 312000.0, \\\"x\\\": 1300.0}, {\\\"y\\\": 343000.0, \\\"x\\\": 1210.0}, {\\\"y\\\": 385195.0, \\\"x\\\": 710.0}, {\\\"y\\\": 415000.0, \\\"x\\\": 2240.0}, {\\\"y\\\": 461000.0, \\\"x\\\": 3600.0}, {\\\"y\\\": 369990.0, \\\"x\\\": 1960.0}, {\\\"y\\\": 349950.0, \\\"x\\\": 1820.0}, {\\\"y\\\": 285750.0, \\\"x\\\": 1960.0}, {\\\"y\\\": 542500.0, \\\"x\\\": 1750.0}, {\\\"y\\\": 830000.0, \\\"x\\\": 3700.0}, {\\\"y\\\": 705000.0, \\\"x\\\": 2910.0}, {\\\"y\\\": 615000.0, \\\"x\\\": 1270.0}, {\\\"y\\\": 184500.0, \\\"x\\\": 720.0}, {\\\"y\\\": 412000.0, \\\"x\\\": 1040.0}, {\\\"y\\\": 250000.0, \\\"x\\\": 2210.0}, {\\\"y\\\": 580000.0, \\\"x\\\": 2060.0}, {\\\"y\\\": 220000.0, \\\"x\\\": 780.0}, {\\\"y\\\": 675000.0, \\\"x\\\": 2240.0}, {\\\"y\\\": 373500.0, \\\"x\\\": 800.0}, {\\\"y\\\": 662700.0, \\\"x\\\": 2440.0}, {\\\"y\\\": 239950.0, \\\"x\\\": 1460.0}, {\\\"y\\\": 383000.0, \\\"x\\\": 1150.0}, {\\\"y\\\": 485000.0, \\\"x\\\": 2650.0}, {\\\"y\\\": 610000.0, \\\"x\\\": 2600.0}, {\\\"y\\\": 545000.0, \\\"x\\\": 1820.0}, {\\\"y\\\": 780000.0, \\\"x\\\": 2560.0}, {\\\"y\\\": 305000.0, \\\"x\\\": 1714.0}, {\\\"y\\\": 405000.0, \\\"x\\\": 1330.0}, {\\\"y\\\": 1110000.0, \\\"x\\\": 7350.0}, {\\\"y\\\": 273000.0, \\\"x\\\": 2050.0}, {\\\"y\\\": 326500.0, \\\"x\\\": 1810.0}, {\\\"y\\\": 365000.0, \\\"x\\\": 1380.0}, {\\\"y\\\": 1000750.0, \\\"x\\\": 3070.0}, {\\\"y\\\": 422500.0, \\\"x\\\": 800.0}, {\\\"y\\\": 354450.0, \\\"x\\\": 2140.0}, {\\\"y\\\": 320000.0, \\\"x\\\": 1330.0}, {\\\"y\\\": 223000.0, \\\"x\\\": 1030.0}, {\\\"y\\\": 410000.0, \\\"x\\\": 1740.0}, {\\\"y\\\": 438000.0, \\\"x\\\": 1200.0}, {\\\"y\\\": 390000.0, \\\"x\\\": 1490.0}, {\\\"y\\\": 298500.0, \\\"x\\\": 1890.0}, {\\\"y\\\": 749999.0, \\\"x\\\": 3060.0}, {\\\"y\\\": 779000.0, \\\"x\\\": 3250.0}, {\\\"y\\\": 570000.0, \\\"x\\\": 2730.0}, {\\\"y\\\": 385000.0, \\\"x\\\": 810.0}, {\\\"y\\\": 649000.0, \\\"x\\\": 2240.0}, {\\\"y\\\": 283000.0, \\\"x\\\": 1740.0}, {\\\"y\\\": 699900.0, \\\"x\\\": 2380.0}, {\\\"y\\\": 278500.0, \\\"x\\\": 1540.0}, {\\\"y\\\": 700000.0, \\\"x\\\": 2340.0}, {\\\"y\\\": 535000.0, \\\"x\\\": 2710.0}, {\\\"y\\\": 234500.0, \\\"x\\\": 1310.0}, {\\\"y\\\": 374150.0, \\\"x\\\": 1390.0}, {\\\"y\\\": 397000.0, \\\"x\\\": 2201.0}, {\\\"y\\\": 613000.0, \\\"x\\\": 1960.0}, {\\\"y\\\": 1150000.0, \\\"x\\\": 2850.0}, {\\\"y\\\": 595000.0, \\\"x\\\": 1880.0}, {\\\"y\\\": 340000.0, \\\"x\\\": 2440.0}, {\\\"y\\\": 388000.0, \\\"x\\\": 2560.0}, {\\\"y\\\": 404000.0, \\\"x\\\": 1410.0}, {\\\"y\\\": 810000.0, \\\"x\\\": 2870.0}, {\\\"y\\\": 405000.0, \\\"x\\\": 2620.0}, {\\\"y\\\": 726000.0, \\\"x\\\": 2970.0}, {\\\"y\\\": 266000.0, \\\"x\\\": 1780.0}, {\\\"y\\\": 722500.0, \\\"x\\\": 3700.0}, {\\\"y\\\": 352000.0, \\\"x\\\": 1252.0}, {\\\"y\\\": 265000.0, \\\"x\\\": 1240.0}, {\\\"y\\\": 856000.0, \\\"x\\\": 2160.0}, {\\\"y\\\": 346950.0, \\\"x\\\": 2040.0}, {\\\"y\\\": 866059.0, \\\"x\\\": 3130.0}, {\\\"y\\\": 410000.0, \\\"x\\\": 2350.0}, {\\\"y\\\": 370000.0, \\\"x\\\": 1570.0}, {\\\"y\\\": 230000.0, \\\"x\\\": 1530.0}, {\\\"y\\\": 400000.0, \\\"x\\\": 1520.0}, {\\\"y\\\": 172000.0, \\\"x\\\": 1350.0}, {\\\"y\\\": 615000.0, \\\"x\\\": 1950.0}, {\\\"y\\\": 860000.0, \\\"x\\\": 3950.0}, {\\\"y\\\": 555000.0, \\\"x\\\": 2040.0}, {\\\"y\\\": 579000.0, \\\"x\\\": 1990.0}, {\\\"y\\\": 385000.0, \\\"x\\\": 1300.0}, {\\\"y\\\": 420000.0, \\\"x\\\": 2030.0}, {\\\"y\\\": 645000.0, \\\"x\\\": 2340.0}, {\\\"y\\\": 549950.0, \\\"x\\\": 2160.0}, {\\\"y\\\": 678000.0, \\\"x\\\": 2770.0}, {\\\"y\\\": 199000.0, \\\"x\\\": 2030.0}, {\\\"y\\\": 604000.0, \\\"x\\\": 1440.0}, {\\\"y\\\": 268000.0, \\\"x\\\": 1730.0}, {\\\"y\\\": 960000.0, \\\"x\\\": 4510.0}, {\\\"y\\\": 509250.0, \\\"x\\\": 2100.0}, {\\\"y\\\": 416000.0, \\\"x\\\": 1800.0}, {\\\"y\\\": 190000.0, \\\"x\\\": 1090.0}, {\\\"y\\\": 212000.0, \\\"x\\\": 1010.0}, {\\\"y\\\": 325900.0, \\\"x\\\": 2040.0}, {\\\"y\\\": 560000.0, \\\"x\\\": 2270.0}, {\\\"y\\\": 275000.0, \\\"x\\\": 1730.0}, {\\\"y\\\": 665000.0, \\\"x\\\": 2480.0}, {\\\"y\\\": 1505000.0, \\\"x\\\": 3480.0}, {\\\"y\\\": 375000.0, \\\"x\\\": 1720.0}, {\\\"y\\\": 359950.0, \\\"x\\\": 1570.0}, {\\\"y\\\": 340000.0, \\\"x\\\": 3527.0}, {\\\"y\\\": 401000.0, \\\"x\\\": 840.0}, {\\\"y\\\": 669000.0, \\\"x\\\": 1950.0}, {\\\"y\\\": 638500.0, \\\"x\\\": 1980.0}, {\\\"y\\\": 545000.0, \\\"x\\\": 1620.0}, {\\\"y\\\": 524000.0, \\\"x\\\": 1980.0}, {\\\"y\\\": 1610000.0, \\\"x\\\": 3530.0}, {\\\"y\\\": 280000.0, \\\"x\\\": 1260.0}, {\\\"y\\\": 828000.0, \\\"x\\\": 2120.0}, {\\\"y\\\": 223000.0, \\\"x\\\": 1360.0}, {\\\"y\\\": 1289000.0, \\\"x\\\": 3100.0}, {\\\"y\\\": 750000.0, \\\"x\\\": 2370.0}, {\\\"y\\\": 430000.0, \\\"x\\\": 1460.0}, {\\\"y\\\": 711000.0, \\\"x\\\": 1980.0}, {\\\"y\\\": 310000.0, \\\"x\\\": 1930.0}, {\\\"y\\\": 415000.0, \\\"x\\\": 3700.0}, {\\\"y\\\": 274900.0, \\\"x\\\": 1970.0}, {\\\"y\\\": 525000.0, \\\"x\\\": 2470.0}, {\\\"y\\\": 179500.0, \\\"x\\\": 1180.0}, {\\\"y\\\": 478000.0, \\\"x\\\": 1280.0}, {\\\"y\\\": 195000.0, \\\"x\\\": 1380.0}, {\\\"y\\\": 385000.0, \\\"x\\\": 2740.0}, {\\\"y\\\": 401000.0, \\\"x\\\": 2020.0}, {\\\"y\\\": 522000.0, \\\"x\\\": 2835.0}, {\\\"y\\\": 330000.0, \\\"x\\\": 1520.0}, {\\\"y\\\": 503000.0, \\\"x\\\": 2190.0}, {\\\"y\\\": 175000.0, \\\"x\\\": 1680.0}, {\\\"y\\\": 963990.0, \\\"x\\\": 3915.0}, {\\\"y\\\": 845000.0, \\\"x\\\": 1720.0}, {\\\"y\\\": 157500.0, \\\"x\\\": 670.0}, {\\\"y\\\": 450000.0, \\\"x\\\": 1790.0}, {\\\"y\\\": 925000.0, \\\"x\\\": 2440.0}, {\\\"y\\\": 600000.0, \\\"x\\\": 920.0}, {\\\"y\\\": 709000.0, \\\"x\\\": 1680.0}, {\\\"y\\\": 1385000.0, \\\"x\\\": 3290.0}, {\\\"y\\\": 248000.0, \\\"x\\\": 2120.0}, {\\\"y\\\": 245000.0, \\\"x\\\": 910.0}, {\\\"y\\\": 332000.0, \\\"x\\\": 1000.0}, {\\\"y\\\": 459950.0, \\\"x\\\": 2340.0}, {\\\"y\\\": 425000.0, \\\"x\\\": 1180.0}, {\\\"y\\\": 460000.0, \\\"x\\\": 2080.0}, {\\\"y\\\": 838300.0, \\\"x\\\": 3760.0}, {\\\"y\\\": 256000.0, \\\"x\\\": 1480.0}, {\\\"y\\\": 864000.0, \\\"x\\\": 3060.0}, {\\\"y\\\": 900000.0, \\\"x\\\": 3070.0}, {\\\"y\\\": 145600.0, \\\"x\\\": 1170.0}, {\\\"y\\\": 865000.0, \\\"x\\\": 2900.0}, {\\\"y\\\": 250250.0, \\\"x\\\": 2210.0}, {\\\"y\\\": 162000.0, \\\"x\\\": 1440.0}, {\\\"y\\\": 450000.0, \\\"x\\\": 1980.0}, {\\\"y\\\": 675500.0, \\\"x\\\": 2060.0}, {\\\"y\\\": 697000.0, \\\"x\\\": 2420.0}, {\\\"y\\\": 1324050.0, \\\"x\\\": 3440.0}, {\\\"y\\\": 490000.0, \\\"x\\\": 1600.0}, {\\\"y\\\": 590000.0, \\\"x\\\": 2210.0}, {\\\"y\\\": 280000.0, \\\"x\\\": 2250.0}, {\\\"y\\\": 515000.0, \\\"x\\\": 1680.0}, {\\\"y\\\": 576000.0, \\\"x\\\": 1140.0}, {\\\"y\\\": 375000.0, \\\"x\\\": 1430.0}, {\\\"y\\\": 478000.0, \\\"x\\\": 1440.0}, {\\\"y\\\": 282000.0, \\\"x\\\": 1670.0}, {\\\"y\\\": 1400000.0, \\\"x\\\": 3080.0}, {\\\"y\\\": 593500.0, \\\"x\\\": 4300.0}, {\\\"y\\\": 724950.0, \\\"x\\\": 3010.0}, {\\\"y\\\": 306000.0, \\\"x\\\": 1560.0}, {\\\"y\\\": 341000.0, \\\"x\\\": 1920.0}, {\\\"y\\\": 399950.0, \\\"x\\\": 1400.0}, {\\\"y\\\": 534000.0, \\\"x\\\": 2280.0}, {\\\"y\\\": 635000.0, \\\"x\\\": 3880.0}, {\\\"y\\\": 350000.0, \\\"x\\\": 1350.0}, {\\\"y\\\": 856000.0, \\\"x\\\": 1480.0}, {\\\"y\\\": 582000.0, \\\"x\\\": 1670.0}, {\\\"y\\\": 799000.0, \\\"x\\\": 3400.0}, {\\\"y\\\": 423700.0, \\\"x\\\": 2070.0}, {\\\"y\\\": 1835000.0, \\\"x\\\": 4870.0}, {\\\"y\\\": 322000.0, \\\"x\\\": 1760.0}, {\\\"y\\\": 929000.0, \\\"x\\\": 4030.0}, {\\\"y\\\": 443000.0, \\\"x\\\": 1130.0}, {\\\"y\\\": 441500.0, \\\"x\\\": 1510.0}, {\\\"y\\\": 875000.0, \\\"x\\\": 3110.0}, {\\\"y\\\": 3600000.0, \\\"x\\\": 5020.0}, {\\\"y\\\": 450000.0, \\\"x\\\": 740.0}, {\\\"y\\\": 425000.0, \\\"x\\\": 1630.0}, {\\\"y\\\": 660000.0, \\\"x\\\": 2780.0}, {\\\"y\\\": 763101.0, \\\"x\\\": 1990.0}, {\\\"y\\\": 499000.0, \\\"x\\\": 2250.0}, {\\\"y\\\": 521000.0, \\\"x\\\": 1720.0}, {\\\"y\\\": 302000.0, \\\"x\\\": 900.0}, {\\\"y\\\": 293000.0, \\\"x\\\": 2360.0}, {\\\"y\\\": 335000.0, \\\"x\\\": 1530.0}, {\\\"y\\\": 499000.0, \\\"x\\\": 1450.0}, {\\\"y\\\": 600000.0, \\\"x\\\": 2040.0}, {\\\"y\\\": 720000.0, \\\"x\\\": 2620.0}, {\\\"y\\\": 195000.0, \\\"x\\\": 1180.0}, {\\\"y\\\": 249000.0, \\\"x\\\": 1110.0}, {\\\"y\\\": 334000.0, \\\"x\\\": 1840.0}, {\\\"y\\\": 599950.0, \\\"x\\\": 2720.0}, {\\\"y\\\": 149900.0, \\\"x\\\": 1090.0}, {\\\"y\\\": 700000.0, \\\"x\\\": 1730.0}, {\\\"y\\\": 525000.0, \\\"x\\\": 1170.0}, {\\\"y\\\": 1049000.0, \\\"x\\\": 4740.0}, {\\\"y\\\": 402000.0, \\\"x\\\": 1960.0}, {\\\"y\\\": 450000.0, \\\"x\\\": 1430.0}, {\\\"y\\\": 520000.0, \\\"x\\\": 2510.0}, {\\\"y\\\": 205000.0, \\\"x\\\": 1420.0}, {\\\"y\\\": 635000.0, \\\"x\\\": 2680.0}, {\\\"y\\\": 210500.0, \\\"x\\\": 1220.0}, {\\\"y\\\": 406650.0, \\\"x\\\": 1070.0}, {\\\"y\\\": 350000.0, \\\"x\\\": 1580.0}, {\\\"y\\\": 425000.0, \\\"x\\\": 1820.0}, {\\\"y\\\": 798000.0, \\\"x\\\": 3590.0}, {\\\"y\\\": 180000.0, \\\"x\\\": 1960.0}, {\\\"y\\\": 1250000.0, \\\"x\\\": 3160.0}, {\\\"y\\\": 435000.0, \\\"x\\\": 2030.0}, {\\\"y\\\": 355000.0, \\\"x\\\": 1240.0}, {\\\"y\\\": 3000000.0, \\\"x\\\": 5370.0}, {\\\"y\\\": 685000.0, \\\"x\\\": 2670.0}, {\\\"y\\\": 311000.0, \\\"x\\\": 1640.0}, {\\\"y\\\": 305000.0, \\\"x\\\": 2130.0}, {\\\"y\\\": 675000.0, \\\"x\\\": 2550.0}, {\\\"y\\\": 769000.0, \\\"x\\\": 3630.0}, {\\\"y\\\": 430000.0, \\\"x\\\": 1690.0}, {\\\"y\\\": 516250.0, \\\"x\\\": 2390.0}, {\\\"y\\\": 760000.0, \\\"x\\\": 2350.0}, {\\\"y\\\": 579950.0, \\\"x\\\": 1420.0}, {\\\"y\\\": 476000.0, \\\"x\\\": 1570.0}, {\\\"y\\\": 510000.0, \\\"x\\\": 1600.0}, {\\\"y\\\": 205000.0, \\\"x\\\": 720.0}, {\\\"y\\\": 240000.0, \\\"x\\\": 1470.0}, {\\\"y\\\": 738000.0, \\\"x\\\": 2790.0}, {\\\"y\\\": 420000.0, \\\"x\\\": 1720.0}, {\\\"y\\\": 455000.0, \\\"x\\\": 1300.0}, {\\\"y\\\": 765000.0, \\\"x\\\": 2520.0}, {\\\"y\\\": 372000.0, \\\"x\\\": 1780.0}, {\\\"y\\\": 160000.0, \\\"x\\\": 1200.0}, {\\\"y\\\": 772000.0, \\\"x\\\": 2990.0}, {\\\"y\\\": 1125000.0, \\\"x\\\": 1910.0}, {\\\"y\\\": 479000.0, \\\"x\\\": 1370.0}, {\\\"y\\\": 570000.0, \\\"x\\\": 1910.0}, {\\\"y\\\": 350000.0, \\\"x\\\": 1170.0}, {\\\"y\\\": 353000.0, \\\"x\\\": 1250.0}, {\\\"y\\\": 699000.0, \\\"x\\\": 3340.0}, {\\\"y\\\": 265000.0, \\\"x\\\": 1380.0}, {\\\"y\\\": 167000.0, \\\"x\\\": 780.0}, {\\\"y\\\": 500000.0, \\\"x\\\": 2080.0}, {\\\"y\\\": 700000.0, \\\"x\\\": 1410.0}, {\\\"y\\\": 295000.0, \\\"x\\\": 520.0}, {\\\"y\\\": 1010000.0, \\\"x\\\": 3500.0}, {\\\"y\\\": 209000.0, \\\"x\\\": 840.0}, {\\\"y\\\": 276000.0, \\\"x\\\": 2240.0}, {\\\"y\\\": 380000.0, \\\"x\\\": 2100.0}, {\\\"y\\\": 315000.0, \\\"x\\\": 1750.0}, {\\\"y\\\": 685530.0, \\\"x\\\": 3130.0}, {\\\"y\\\": 254600.0, \\\"x\\\": 1470.0}, {\\\"y\\\": 230000.0, \\\"x\\\": 1440.0}, {\\\"y\\\": 335000.0, \\\"x\\\": 1430.0}, {\\\"y\\\": 550000.0, \\\"x\\\": 2170.0}, {\\\"y\\\": 123300.0, \\\"x\\\": 1150.0}, {\\\"y\\\": 275436.0, \\\"x\\\": 2170.0}, {\\\"y\\\": 325000.0, \\\"x\\\": 2630.0}, {\\\"y\\\": 635000.0, \\\"x\\\": 2490.0}, {\\\"y\\\": 513000.0, \\\"x\\\": 1710.0}, {\\\"y\\\": 580000.0, \\\"x\\\": 2130.0}, {\\\"y\\\": 225000.0, \\\"x\\\": 940.0}, {\\\"y\\\": 265000.0, \\\"x\\\": 1400.0}, {\\\"y\\\": 313000.0, \\\"x\\\": 1630.0}, {\\\"y\\\": 296000.0, \\\"x\\\": 1370.0}, {\\\"y\\\": 655500.0, \\\"x\\\": 2380.0}, {\\\"y\\\": 250750.0, \\\"x\\\": 2140.0}, {\\\"y\\\": 438000.0, \\\"x\\\": 1970.0}, {\\\"y\\\": 590000.0, \\\"x\\\": 2550.0}, {\\\"y\\\": 329500.0, \\\"x\\\": 1080.0}, {\\\"y\\\": 1195000.0, \\\"x\\\": 3070.0}, {\\\"y\\\": 415000.0, \\\"x\\\": 1470.0}, {\\\"y\\\": 900000.0, \\\"x\\\": 3620.0}, {\\\"y\\\": 378000.0, \\\"x\\\": 1050.0}, {\\\"y\\\": 474000.0, \\\"x\\\": 1050.0}, {\\\"y\\\": 464000.0, \\\"x\\\": 1320.0}, {\\\"y\\\": 310000.0, \\\"x\\\": 1210.0}, {\\\"y\\\": 580000.0, \\\"x\\\": 1860.0}, {\\\"y\\\": 999000.0, \\\"x\\\": 2830.0}, {\\\"y\\\": 510000.0, \\\"x\\\": 810.0}, {\\\"y\\\": 650000.0, \\\"x\\\": 1630.0}, {\\\"y\\\": 196000.0, \\\"x\\\": 880.0}, {\\\"y\\\": 220000.0, \\\"x\\\": 1660.0}, {\\\"y\\\": 855000.0, \\\"x\\\": 3440.0}, {\\\"y\\\": 483000.0, \\\"x\\\": 2110.0}, {\\\"y\\\": 400000.0, \\\"x\\\": 1060.0}, {\\\"y\\\": 435000.0, \\\"x\\\": 1900.0}, {\\\"y\\\": 219500.0, \\\"x\\\": 820.0}, {\\\"y\\\": 2950000.0, \\\"x\\\": 4860.0}, {\\\"y\\\": 427000.0, \\\"x\\\": 2050.0}, {\\\"y\\\": 430000.0, \\\"x\\\": 1090.0}, {\\\"y\\\": 685000.0, \\\"x\\\": 1090.0}, {\\\"y\\\": 495000.0, \\\"x\\\": 1920.0}, {\\\"y\\\": 299950.0, \\\"x\\\": 1870.0}, {\\\"y\\\": 390000.0, \\\"x\\\": 2690.0}, {\\\"y\\\": 385000.0, \\\"x\\\": 2160.0}, {\\\"y\\\": 740000.0, \\\"x\\\": 3000.0}, {\\\"y\\\": 991700.0, \\\"x\\\": 2290.0}, {\\\"y\\\": 765000.0, \\\"x\\\": 2250.0}, {\\\"y\\\": 802000.0, \\\"x\\\": 2130.0}, {\\\"y\\\": 950000.0, \\\"x\\\": 2500.0}, {\\\"y\\\": 392000.0, \\\"x\\\": 2300.0}, {\\\"y\\\": 590000.0, \\\"x\\\": 3360.0}, {\\\"y\\\": 425000.0, \\\"x\\\": 1920.0}, {\\\"y\\\": 765000.0, \\\"x\\\": 2440.0}, {\\\"y\\\": 313500.0, \\\"x\\\": 1440.0}, {\\\"y\\\": 320000.0, \\\"x\\\": 1780.0}, {\\\"y\\\": 604000.0, \\\"x\\\": 1490.0}, {\\\"y\\\": 570000.0, \\\"x\\\": 1400.0}, {\\\"y\\\": 639000.0, \\\"x\\\": 2150.0}, {\\\"y\\\": 335000.0, \\\"x\\\": 1910.0}, {\\\"y\\\": 896000.0, \\\"x\\\": 2660.0}, {\\\"y\\\": 259500.0, \\\"x\\\": 1650.0}, {\\\"y\\\": 637000.0, \\\"x\\\": 1980.0}, {\\\"y\\\": 307450.0, \\\"x\\\": 2690.0}, {\\\"y\\\": 535000.0, \\\"x\\\": 1380.0}, {\\\"y\\\": 669500.0, \\\"x\\\": 2500.0}, {\\\"y\\\": 259000.0, \\\"x\\\": 1590.0}, {\\\"y\\\": 441000.0, \\\"x\\\": 1100.0}, {\\\"y\\\": 228800.0, \\\"x\\\": 1470.0}, {\\\"y\\\": 530000.0, \\\"x\\\": 1680.0}, {\\\"y\\\": 524000.0, \\\"x\\\": 1450.0}, {\\\"y\\\": 430000.0, \\\"x\\\": 2020.0}, {\\\"y\\\": 1325000.0, \\\"x\\\": 2470.0}, {\\\"y\\\": 210000.0, \\\"x\\\": 1230.0}, {\\\"y\\\": 449000.0, \\\"x\\\": 1850.0}, {\\\"y\\\": 945000.0, \\\"x\\\": 2540.0}, {\\\"y\\\": 200450.0, \\\"x\\\": 970.0}, {\\\"y\\\": 219950.0, \\\"x\\\": 1070.0}, {\\\"y\\\": 659500.0, \\\"x\\\": 2620.0}, {\\\"y\\\": 746000.0, \\\"x\\\": 2110.0}, {\\\"y\\\": 540000.0, \\\"x\\\": 2110.0}, {\\\"y\\\": 485000.0, \\\"x\\\": 1910.0}, {\\\"y\\\": 202000.0, \\\"x\\\": 670.0}, {\\\"y\\\": 2525000.0, \\\"x\\\": 6930.0}, {\\\"y\\\": 502000.0, \\\"x\\\": 2010.0}, {\\\"y\\\": 279000.0, \\\"x\\\": 1770.0}, {\\\"y\\\": 409500.0, \\\"x\\\": 1340.0}, {\\\"y\\\": 453000.0, \\\"x\\\": 1660.0}, {\\\"y\\\": 367000.0, \\\"x\\\": 1820.0}, {\\\"y\\\": 550000.0, \\\"x\\\": 2510.0}, {\\\"y\\\": 273500.0, \\\"x\\\": 1560.0}, {\\\"y\\\": 505000.0, \\\"x\\\": 2280.0}, {\\\"y\\\": 770000.0, \\\"x\\\": 2650.0}, {\\\"y\\\": 565000.0, \\\"x\\\": 2470.0}, {\\\"y\\\": 316000.0, \\\"x\\\": 1270.0}, {\\\"y\\\": 160000.0, \\\"x\\\": 1520.0}, {\\\"y\\\": 170000.0, \\\"x\\\": 1310.0}, {\\\"y\\\": 235000.0, \\\"x\\\": 1310.0}, {\\\"y\\\": 1799000.0, \\\"x\\\": 3930.0}, {\\\"y\\\": 310000.0, \\\"x\\\": 990.0}, {\\\"y\\\": 285000.0, \\\"x\\\": 2080.0}, {\\\"y\\\": 280000.0, \\\"x\\\": 960.0}, {\\\"y\\\": 2298000.0, \\\"x\\\": 4070.0}, {\\\"y\\\": 763776.0, \\\"x\\\": 2750.0}, {\\\"y\\\": 530000.0, \\\"x\\\": 3230.0}, {\\\"y\\\": 362000.0, \\\"x\\\": 890.0}, {\\\"y\\\": 430000.0, \\\"x\\\": 990.0}, {\\\"y\\\": 456500.0, \\\"x\\\": 1290.0}, {\\\"y\\\": 445000.0, \\\"x\\\": 2170.0}, {\\\"y\\\": 386900.0, \\\"x\\\": 1330.0}, {\\\"y\\\": 479000.0, \\\"x\\\": 1340.0}, {\\\"y\\\": 525000.0, \\\"x\\\": 2200.0}, {\\\"y\\\": 272000.0, \\\"x\\\": 2520.0}, {\\\"y\\\": 517000.0, \\\"x\\\": 1180.0}, {\\\"y\\\": 615000.0, \\\"x\\\": 2660.0}, {\\\"y\\\": 439000.0, \\\"x\\\": 1250.0}, {\\\"y\\\": 716000.0, \\\"x\\\": 2270.0}, {\\\"y\\\": 308000.0, \\\"x\\\": 1080.0}, {\\\"y\\\": 800000.0, \\\"x\\\": 1620.0}, {\\\"y\\\": 575000.0, \\\"x\\\": 940.0}, {\\\"y\\\": 219950.0, \\\"x\\\": 1620.0}, {\\\"y\\\": 770000.0, \\\"x\\\": 2350.0}, {\\\"y\\\": 424950.0, \\\"x\\\": 2090.0}, {\\\"y\\\": 387000.0, \\\"x\\\": 1760.0}, {\\\"y\\\": 790000.0, \\\"x\\\": 2050.0}, {\\\"y\\\": 156000.0, \\\"x\\\": 600.0}, {\\\"y\\\": 580000.0, \\\"x\\\": 2540.0}, {\\\"y\\\": 490000.0, \\\"x\\\": 2090.0}, {\\\"y\\\": 950000.0, \\\"x\\\": 2700.0}, {\\\"y\\\": 400000.0, \\\"x\\\": 1410.0}, {\\\"y\\\": 325000.0, \\\"x\\\": 1170.0}, {\\\"y\\\": 365000.0, \\\"x\\\": 2540.0}, {\\\"y\\\": 255000.0, \\\"x\\\": 2190.0}, {\\\"y\\\": 985000.0, \\\"x\\\": 3890.0}, {\\\"y\\\": 595000.0, \\\"x\\\": 2030.0}, {\\\"y\\\": 427500.0, \\\"x\\\": 1350.0}, {\\\"y\\\": 728000.0, \\\"x\\\": 1940.0}, {\\\"y\\\": 549950.0, \\\"x\\\": 1260.0}, {\\\"y\\\": 650000.0, \\\"x\\\": 2800.0}, {\\\"y\\\": 1125000.0, \\\"x\\\": 3080.0}, {\\\"y\\\": 203000.0, \\\"x\\\": 840.0}, {\\\"y\\\": 311000.0, \\\"x\\\": 860.0}, {\\\"y\\\": 387500.0, \\\"x\\\": 2400.0}, {\\\"y\\\": 370000.0, \\\"x\\\": 1640.0}, {\\\"y\\\": 228000.0, \\\"x\\\": 1060.0}, {\\\"y\\\": 740000.0, \\\"x\\\": 2080.0}, {\\\"y\\\": 200000.0, \\\"x\\\": 2090.0}, {\\\"y\\\": 660000.0, \\\"x\\\": 1240.0}, {\\\"y\\\": 275000.0, \\\"x\\\": 2030.0}, {\\\"y\\\": 708000.0, \\\"x\\\": 1120.0}, {\\\"y\\\": 280000.0, \\\"x\\\": 1270.0}, {\\\"y\\\": 325000.0, \\\"x\\\": 2260.0}, {\\\"y\\\": 495000.0, \\\"x\\\": 1780.0}, {\\\"y\\\": 691000.0, \\\"x\\\": 1780.0}, {\\\"y\\\": 2288000.0, \\\"x\\\": 4080.0}, {\\\"y\\\": 329500.0, \\\"x\\\": 2120.0}, {\\\"y\\\": 348000.0, \\\"x\\\": 2060.0}, {\\\"y\\\": 425000.0, \\\"x\\\": 1670.0}, {\\\"y\\\": 210000.0, \\\"x\\\": 1080.0}, {\\\"y\\\": 285000.0, \\\"x\\\": 1210.0}, {\\\"y\\\": 222000.0, \\\"x\\\": 990.0}, {\\\"y\\\": 200000.0, \\\"x\\\": 1720.0}, {\\\"y\\\": 247500.0, \\\"x\\\": 1530.0}, {\\\"y\\\": 1500000.0, \\\"x\\\": 6550.0}, {\\\"y\\\": 190000.0, \\\"x\\\": 1100.0}, {\\\"y\\\": 975000.0, \\\"x\\\": 3020.0}, {\\\"y\\\": 1130000.0, \\\"x\\\": 3180.0}, {\\\"y\\\": 283200.0, \\\"x\\\": 1830.0}, {\\\"y\\\": 650000.0, \\\"x\\\": 2540.0}, {\\\"y\\\": 449500.0, \\\"x\\\": 1770.0}, {\\\"y\\\": 400000.0, \\\"x\\\": 1470.0}, {\\\"y\\\": 89950.0, \\\"x\\\": 570.0}, {\\\"y\\\": 158800.0, \\\"x\\\": 960.0}, {\\\"y\\\": 870000.0, \\\"x\\\": 2940.0}, {\\\"y\\\": 196000.0, \\\"x\\\": 1000.0}, {\\\"y\\\": 850000.0, \\\"x\\\": 2450.0}, {\\\"y\\\": 775000.0, \\\"x\\\": 3310.0}, {\\\"y\\\": 483500.0, \\\"x\\\": 1670.0}, {\\\"y\\\": 387000.0, \\\"x\\\": 1620.0}, {\\\"y\\\": 900000.0, \\\"x\\\": 2990.0}, {\\\"y\\\": 336000.0, \\\"x\\\": 1240.0}, {\\\"y\\\": 415000.0, \\\"x\\\": 670.0}, {\\\"y\\\": 380000.0, \\\"x\\\": 1470.0}, {\\\"y\\\": 350000.0, \\\"x\\\": 1320.0}, {\\\"y\\\": 1320000.0, \\\"x\\\": 6110.0}, {\\\"y\\\": 765000.0, \\\"x\\\": 2440.0}, {\\\"y\\\": 527000.0, \\\"x\\\": 2900.0}, {\\\"y\\\": 524000.0, \\\"x\\\": 2310.0}, {\\\"y\\\": 448000.0, \\\"x\\\": 1110.0}, {\\\"y\\\": 775000.0, \\\"x\\\": 4100.0}, {\\\"y\\\": 176500.0, \\\"x\\\": 930.0}, {\\\"y\\\": 750000.0, \\\"x\\\": 2420.0}, {\\\"y\\\": 1265000.0, \\\"x\\\": 2870.0}, {\\\"y\\\": 250000.0, \\\"x\\\": 1480.0}, {\\\"y\\\": 759000.0, \\\"x\\\": 1960.0}, {\\\"y\\\": 640000.0, \\\"x\\\": 1470.0}, {\\\"y\\\": 990000.0, \\\"x\\\": 2460.0}, {\\\"y\\\": 395000.0, \\\"x\\\": 1960.0}, {\\\"y\\\": 275000.0, \\\"x\\\": 1160.0}, {\\\"y\\\": 390000.0, \\\"x\\\": 1910.0}, {\\\"y\\\": 752500.0, \\\"x\\\": 2720.0}, {\\\"y\\\": 450000.0, \\\"x\\\": 1020.0}, {\\\"y\\\": 473000.0, \\\"x\\\": 900.0}, {\\\"y\\\": 178500.0, \\\"x\\\": 1120.0}, {\\\"y\\\": 485000.0, \\\"x\\\": 2340.0}, {\\\"y\\\": 215000.0, \\\"x\\\": 1410.0}, {\\\"y\\\": 589000.0, \\\"x\\\": 1920.0}, {\\\"y\\\": 325000.0, \\\"x\\\": 1370.0}, {\\\"y\\\": 580000.0, \\\"x\\\": 1590.0}, {\\\"y\\\": 181100.0, \\\"x\\\": 1850.0}, {\\\"y\\\": 345000.0, \\\"x\\\": 1430.0}, {\\\"y\\\": 781000.0, \\\"x\\\": 1940.0}, {\\\"y\\\": 402500.0, \\\"x\\\": 1270.0}, {\\\"y\\\": 426000.0, \\\"x\\\": 1380.0}, {\\\"y\\\": 389000.0, \\\"x\\\": 1720.0}, {\\\"y\\\": 670000.0, \\\"x\\\": 4050.0}, {\\\"y\\\": 1506000.0, \\\"x\\\": 3660.0}, {\\\"y\\\": 288400.0, \\\"x\\\": 1870.0}, {\\\"y\\\": 700000.0, \\\"x\\\": 2230.0}, {\\\"y\\\": 830000.0, \\\"x\\\": 2020.0}, {\\\"y\\\": 1899000.0, \\\"x\\\": 3690.0}, {\\\"y\\\": 350500.0, \\\"x\\\": 1450.0}, {\\\"y\\\": 431000.0, \\\"x\\\": 1630.0}, {\\\"y\\\": 485000.0, \\\"x\\\": 1840.0}, {\\\"y\\\": 780000.0, \\\"x\\\": 1620.0}, {\\\"y\\\": 720000.0, \\\"x\\\": 1840.0}, {\\\"y\\\": 415000.0, \\\"x\\\": 1360.0}, {\\\"y\\\": 480000.0, \\\"x\\\": 2080.0}, {\\\"y\\\": 452250.0, \\\"x\\\": 2550.0}, {\\\"y\\\": 316000.0, \\\"x\\\": 2550.0}, {\\\"y\\\": 700000.0, \\\"x\\\": 1160.0}, {\\\"y\\\": 285000.0, \\\"x\\\": 1760.0}, {\\\"y\\\": 575000.0, \\\"x\\\": 1720.0}, {\\\"y\\\": 590000.0, \\\"x\\\": 2300.0}, {\\\"y\\\": 587500.0, \\\"x\\\": 2500.0}, {\\\"y\\\": 364000.0, \\\"x\\\": 1750.0}, {\\\"y\\\": 490000.0, \\\"x\\\": 1890.0}, {\\\"y\\\": 410000.0, \\\"x\\\": 1800.0}, {\\\"y\\\": 520000.0, \\\"x\\\": 2160.0}, {\\\"y\\\": 389000.0, \\\"x\\\": 1380.0}, {\\\"y\\\": 450000.0, \\\"x\\\": 1180.0}, {\\\"y\\\": 325000.0, \\\"x\\\": 2550.0}, {\\\"y\\\": 660000.0, \\\"x\\\": 1070.0}, {\\\"y\\\": 850000.0, \\\"x\\\": 2870.0}, {\\\"y\\\": 285000.0, \\\"x\\\": 1940.0}, {\\\"y\\\": 395000.0, \\\"x\\\": 870.0}, {\\\"y\\\": 440000.0, \\\"x\\\": 1550.0}, {\\\"y\\\": 249000.0, \\\"x\\\": 1400.0}, {\\\"y\\\": 635000.0, \\\"x\\\": 1210.0}, {\\\"y\\\": 515000.0, \\\"x\\\": 3430.0}, {\\\"y\\\": 1400000.0, \\\"x\\\": 3020.0}, {\\\"y\\\": 200000.0, \\\"x\\\": 950.0}, {\\\"y\\\": 1135000.0, \\\"x\\\": 3370.0}, {\\\"y\\\": 445000.0, \\\"x\\\": 1460.0}, {\\\"y\\\": 555000.0, \\\"x\\\": 1740.0}, {\\\"y\\\": 537000.0, \\\"x\\\": 1720.0}, {\\\"y\\\": 315000.0, \\\"x\\\": 1480.0}, {\\\"y\\\": 805000.0, \\\"x\\\": 3320.0}, {\\\"y\\\": 414000.0, \\\"x\\\": 3490.0}, {\\\"y\\\": 375000.0, \\\"x\\\": 1160.0}, {\\\"y\\\": 401000.0, \\\"x\\\": 3010.0}, {\\\"y\\\": 210000.0, \\\"x\\\": 1030.0}, {\\\"y\\\": 365000.0, \\\"x\\\": 980.0}, {\\\"y\\\": 178000.0, \\\"x\\\": 1990.0}, {\\\"y\\\": 710000.0, \\\"x\\\": 1790.0}, {\\\"y\\\": 255000.0, \\\"x\\\": 810.0}, {\\\"y\\\": 528000.0, \\\"x\\\": 2940.0}, {\\\"y\\\": 537000.0, \\\"x\\\": 4883.0}, {\\\"y\\\": 442000.0, \\\"x\\\": 1360.0}, {\\\"y\\\": 375000.0, \\\"x\\\": 1370.0}, {\\\"y\\\": 637250.0, \\\"x\\\": 2120.0}, {\\\"y\\\": 427500.0, \\\"x\\\": 1240.0}, {\\\"y\\\": 700000.0, \\\"x\\\": 2770.0}, {\\\"y\\\": 680000.0, \\\"x\\\": 1660.0}, {\\\"y\\\": 393820.0, \\\"x\\\": 1170.0}, {\\\"y\\\": 525000.0, \\\"x\\\": 2470.0}, {\\\"y\\\": 505000.0, \\\"x\\\": 1310.0}, {\\\"y\\\": 555565.0, \\\"x\\\": 1670.0}, {\\\"y\\\": 650000.0, \\\"x\\\": 1660.0}, {\\\"y\\\": 632500.0, \\\"x\\\": 3500.0}, {\\\"y\\\": 269000.0, \\\"x\\\": 1440.0}, {\\\"y\\\": 405000.0, \\\"x\\\": 2360.0}, {\\\"y\\\": 845000.0, \\\"x\\\": 3460.0}, {\\\"y\\\": 234000.0, \\\"x\\\": 1750.0}, {\\\"y\\\": 638000.0, \\\"x\\\": 1470.0}, {\\\"y\\\": 290000.0, \\\"x\\\": 1710.0}, {\\\"y\\\": 262000.0, \\\"x\\\": 520.0}, {\\\"y\\\": 270000.0, \\\"x\\\": 2350.0}, {\\\"y\\\": 875000.0, \\\"x\\\": 2380.0}, {\\\"y\\\": 299000.0, \\\"x\\\": 1920.0}, {\\\"y\\\": 551000.0, \\\"x\\\": 1580.0}, {\\\"y\\\": 350000.0, \\\"x\\\": 3070.0}, {\\\"y\\\": 1901000.0, \\\"x\\\": 2660.0}, {\\\"y\\\": 511718.0, \\\"x\\\": 1700.0}, {\\\"y\\\": 965000.0, \\\"x\\\": 5010.0}, {\\\"y\\\": 475000.0, \\\"x\\\": 2680.0}, {\\\"y\\\": 1062000.0, \\\"x\\\": 2720.0}, {\\\"y\\\": 252000.0, \\\"x\\\": 940.0}, {\\\"y\\\": 580000.0, \\\"x\\\": 3596.0}, {\\\"y\\\": 374950.0, \\\"x\\\": 1240.0}, {\\\"y\\\": 739000.0, \\\"x\\\": 4660.0}, {\\\"y\\\": 271000.0, \\\"x\\\": 1710.0}, {\\\"y\\\": 230000.0, \\\"x\\\": 930.0}, {\\\"y\\\": 210000.0, \\\"x\\\": 1430.0}, {\\\"y\\\": 350000.0, \\\"x\\\": 1650.0}, {\\\"y\\\": 491500.0, \\\"x\\\": 1560.0}, {\\\"y\\\": 325000.0, \\\"x\\\": 1870.0}, {\\\"y\\\": 190000.0, \\\"x\\\": 1320.0}, {\\\"y\\\": 658600.0, \\\"x\\\": 1400.0}, {\\\"y\\\": 299950.0, \\\"x\\\": 1940.0}, {\\\"y\\\": 464000.0, \\\"x\\\": 2000.0}, {\\\"y\\\": 308000.0, \\\"x\\\": 1640.0}, {\\\"y\\\": 625000.0, \\\"x\\\": 1020.0}, {\\\"y\\\": 240000.0, \\\"x\\\": 1630.0}, {\\\"y\\\": 530000.0, \\\"x\\\": 2940.0}, {\\\"y\\\": 1000000.0, \\\"x\\\": 2120.0}, {\\\"y\\\": 439000.0, \\\"x\\\": 790.0}, {\\\"y\\\": 575000.0, \\\"x\\\": 2020.0}, {\\\"y\\\": 418000.0, \\\"x\\\": 1530.0}, {\\\"y\\\": 1208000.0, \\\"x\\\": 3250.0}, {\\\"y\\\": 1100000.0, \\\"x\\\": 2930.0}, {\\\"y\\\": 1900000.0, \\\"x\\\": 3150.0}, {\\\"y\\\": 580000.0, \\\"x\\\": 2180.0}, {\\\"y\\\": 380000.0, \\\"x\\\": 1040.0}, {\\\"y\\\": 256000.0, \\\"x\\\": 880.0}, {\\\"y\\\": 349950.0, \\\"x\\\": 1400.0}, {\\\"y\\\": 691500.0, \\\"x\\\": 2600.0}, {\\\"y\\\": 556000.0, \\\"x\\\": 1590.0}, {\\\"y\\\": 218000.0, \\\"x\\\": 1610.0}, {\\\"y\\\": 425000.0, \\\"x\\\": 1390.0}, {\\\"y\\\": 935000.0, \\\"x\\\": 3710.0}, {\\\"y\\\": 732000.0, \\\"x\\\": 2360.0}, {\\\"y\\\": 805500.0, \\\"x\\\": 1440.0}, {\\\"y\\\": 507250.0, \\\"x\\\": 1400.0}, {\\\"y\\\": 800000.0, \\\"x\\\": 4600.0}, {\\\"y\\\": 600000.0, \\\"x\\\": 2100.0}, {\\\"y\\\": 627800.0, \\\"x\\\": 2010.0}, {\\\"y\\\": 660000.0, \\\"x\\\": 2550.0}, {\\\"y\\\": 153503.0, \\\"x\\\": 1240.0}, {\\\"y\\\": 456500.0, \\\"x\\\": 2090.0}, {\\\"y\\\": 1306000.0, \\\"x\\\": 2770.0}, {\\\"y\\\": 843500.0, \\\"x\\\": 3560.0}, {\\\"y\\\": 625000.0, \\\"x\\\": 1240.0}, {\\\"y\\\": 527000.0, \\\"x\\\": 1640.0}, {\\\"y\\\": 1965000.0, \\\"x\\\": 3940.0}, {\\\"y\\\": 1003000.0, \\\"x\\\": 3150.0}, {\\\"y\\\": 855000.0, \\\"x\\\": 2550.0}, {\\\"y\\\": 725000.0, \\\"x\\\": 3940.0}, {\\\"y\\\": 315000.0, \\\"x\\\": 580.0}, {\\\"y\\\": 180000.0, \\\"x\\\": 1330.0}, {\\\"y\\\": 700000.0, \\\"x\\\": 930.0}, {\\\"y\\\": 476500.0, \\\"x\\\": 1060.0}, {\\\"y\\\": 193000.0, \\\"x\\\": 1180.0}, {\\\"y\\\": 295000.0, \\\"x\\\": 1850.0}, {\\\"y\\\": 363000.0, \\\"x\\\": 820.0}, {\\\"y\\\": 875000.0, \\\"x\\\": 3600.0}, {\\\"y\\\": 257200.0, \\\"x\\\": 1850.0}, {\\\"y\\\": 555000.0, \\\"x\\\": 2240.0}, {\\\"y\\\": 380000.0, \\\"x\\\": 1860.0}, {\\\"y\\\": 282000.0, \\\"x\\\": 2390.0}, {\\\"y\\\": 545000.0, \\\"x\\\": 2040.0}, {\\\"y\\\": 550000.0, \\\"x\\\": 1900.0}, {\\\"y\\\": 921500.0, \\\"x\\\": 1900.0}, {\\\"y\\\": 885000.0, \\\"x\\\": 2200.0}, {\\\"y\\\": 820000.0, \\\"x\\\": 2280.0}, {\\\"y\\\": 289000.0, \\\"x\\\": 1090.0}, {\\\"y\\\": 334000.0, \\\"x\\\": 670.0}, {\\\"y\\\": 206000.0, \\\"x\\\": 1050.0}, {\\\"y\\\": 491950.0, \\\"x\\\": 2090.0}, {\\\"y\\\": 430000.0, \\\"x\\\": 2030.0}, {\\\"y\\\": 208000.0, \\\"x\\\": 1250.0}, {\\\"y\\\": 245000.0, \\\"x\\\": 2600.0}, {\\\"y\\\": 426000.0, \\\"x\\\": 640.0}, {\\\"y\\\": 400000.0, \\\"x\\\": 2120.0}, {\\\"y\\\": 553000.0, \\\"x\\\": 1330.0}, {\\\"y\\\": 296000.0, \\\"x\\\": 750.0}, {\\\"y\\\": 428000.0, \\\"x\\\": 2230.0}, {\\\"y\\\": 325000.0, \\\"x\\\": 1890.0}, {\\\"y\\\": 294000.0, \\\"x\\\": 820.0}, {\\\"y\\\": 410000.0, \\\"x\\\": 1880.0}, {\\\"y\\\": 590000.0, \\\"x\\\": 2360.0}, {\\\"y\\\": 445000.0, \\\"x\\\": 1850.0}, {\\\"y\\\": 921000.0, \\\"x\\\": 2310.0}, {\\\"y\\\": 496000.0, \\\"x\\\": 2520.0}, {\\\"y\\\": 95000.0, \\\"x\\\": 800.0}, {\\\"y\\\": 359000.0, \\\"x\\\": 1580.0}, {\\\"y\\\": 452500.0, \\\"x\\\": 2430.0}, {\\\"y\\\": 555000.0, \\\"x\\\": 2350.0}, {\\\"y\\\": 549900.0, \\\"x\\\": 3800.0}, {\\\"y\\\": 569000.0, \\\"x\\\": 3670.0}, {\\\"y\\\": 318500.0, \\\"x\\\": 1780.0}, {\\\"y\\\": 487028.0, \\\"x\\\": 1295.0}, {\\\"y\\\": 240000.0, \\\"x\\\": 1350.0}, {\\\"y\\\": 253000.0, \\\"x\\\": 1440.0}, {\\\"y\\\": 380000.0, \\\"x\\\": 1320.0}, {\\\"y\\\": 250000.0, \\\"x\\\": 700.0}, {\\\"y\\\": 368500.0, \\\"x\\\": 2510.0}, {\\\"y\\\": 340000.0, \\\"x\\\": 3180.0}, {\\\"y\\\": 400000.0, \\\"x\\\": 910.0}, {\\\"y\\\": 835000.0, \\\"x\\\": 1570.0}, {\\\"y\\\": 299000.0, \\\"x\\\": 2450.0}, {\\\"y\\\": 1675000.0, \\\"x\\\": 4910.0}, {\\\"y\\\": 265000.0, \\\"x\\\": 1570.0}, {\\\"y\\\": 437500.0, \\\"x\\\": 2680.0}, {\\\"y\\\": 865000.0, \\\"x\\\": 2090.0}, {\\\"y\\\": 626000.0, \\\"x\\\": 2150.0}, {\\\"y\\\": 247300.0, \\\"x\\\": 1140.0}, {\\\"y\\\": 2075000.0, \\\"x\\\": 4230.0}, {\\\"y\\\": 425000.0, \\\"x\\\": 1790.0}, {\\\"y\\\": 905000.0, \\\"x\\\": 3100.0}, {\\\"y\\\": 641250.0, \\\"x\\\": 2220.0}, {\\\"y\\\": 675000.0, \\\"x\\\": 2370.0}, {\\\"y\\\": 845000.0, \\\"x\\\": 4070.0}, {\\\"y\\\": 401500.0, \\\"x\\\": 1790.0}, {\\\"y\\\": 395000.0, \\\"x\\\": 1610.0}, {\\\"y\\\": 1100000.0, \\\"x\\\": 2830.0}, {\\\"y\\\": 145000.0, \\\"x\\\": 1010.0}, {\\\"y\\\": 900000.0, \\\"x\\\": 1560.0}, {\\\"y\\\": 374500.0, \\\"x\\\": 1330.0}, {\\\"y\\\": 850000.0, \\\"x\\\": 2330.0}, {\\\"y\\\": 490000.0, \\\"x\\\": 960.0}, {\\\"y\\\": 304000.0, \\\"x\\\": 1710.0}, {\\\"y\\\": 400000.0, \\\"x\\\": 2230.0}, {\\\"y\\\": 454000.0, \\\"x\\\": 1700.0}, {\\\"y\\\": 160000.0, \\\"x\\\": 1040.0}, {\\\"y\\\": 542000.0, \\\"x\\\": 1070.0}, {\\\"y\\\": 403500.0, \\\"x\\\": 3600.0}, {\\\"y\\\": 418000.0, \\\"x\\\": 2750.0}, {\\\"y\\\": 406000.0, \\\"x\\\": 1920.0}, {\\\"y\\\": 242500.0, \\\"x\\\": 1770.0}, {\\\"y\\\": 425000.0, \\\"x\\\": 2460.0}, {\\\"y\\\": 613000.0, \\\"x\\\": 1550.0}, {\\\"y\\\": 189000.0, \\\"x\\\": 1460.0}, {\\\"y\\\": 700000.0, \\\"x\\\": 2440.0}, {\\\"y\\\": 750000.0, \\\"x\\\": 1640.0}, {\\\"y\\\": 494000.0, \\\"x\\\": 1290.0}, {\\\"y\\\": 700000.0, \\\"x\\\": 3150.0}, {\\\"y\\\": 705000.0, \\\"x\\\": 2305.0}, {\\\"y\\\": 356000.0, \\\"x\\\": 1060.0}, {\\\"y\\\": 625000.0, \\\"x\\\": 2060.0}, {\\\"y\\\": 144975.0, \\\"x\\\": 900.0}, {\\\"y\\\": 970000.0, \\\"x\\\": 3890.0}, {\\\"y\\\": 415000.0, \\\"x\\\": 1910.0}, {\\\"y\\\": 485000.0, \\\"x\\\": 2340.0}, {\\\"y\\\": 799950.0, \\\"x\\\": 2900.0}, {\\\"y\\\": 783350.0, \\\"x\\\": 3290.0}, {\\\"y\\\": 430000.0, \\\"x\\\": 630.0}, {\\\"y\\\": 2544750.0, \\\"x\\\": 5410.0}, {\\\"y\\\": 975000.0, \\\"x\\\": 4270.0}, {\\\"y\\\": 950000.0, \\\"x\\\": 1700.0}, {\\\"y\\\": 350000.0, \\\"x\\\": 1430.0}, {\\\"y\\\": 637000.0, \\\"x\\\": 2850.0}, {\\\"y\\\": 895000.0, \\\"x\\\": 2160.0}, {\\\"y\\\": 579000.0, \\\"x\\\": 1760.0}, {\\\"y\\\": 314900.0, \\\"x\\\": 2700.0}, {\\\"y\\\": 122000.0, \\\"x\\\": 860.0}, {\\\"y\\\": 405000.0, \\\"x\\\": 880.0}, {\\\"y\\\": 553650.0, \\\"x\\\": 1360.0}, {\\\"y\\\": 369900.0, \\\"x\\\": 1770.0}, {\\\"y\\\": 225000.0, \\\"x\\\": 2030.0}, {\\\"y\\\": 160000.0, \\\"x\\\": 1180.0}, {\\\"y\\\": 449500.0, \\\"x\\\": 2430.0}, {\\\"y\\\": 650000.0, \\\"x\\\": 1300.0}, {\\\"y\\\": 542126.0, \\\"x\\\": 2360.0}, {\\\"y\\\": 309950.0, \\\"x\\\": 1200.0}, {\\\"y\\\": 115000.0, \\\"x\\\": 1000.0}, {\\\"y\\\": 221700.0, \\\"x\\\": 1556.0}, {\\\"y\\\": 726000.0, \\\"x\\\": 1890.0}, {\\\"y\\\": 515000.0, \\\"x\\\": 1810.0}, {\\\"y\\\": 756000.0, \\\"x\\\": 2730.0}, {\\\"y\\\": 1570000.0, \\\"x\\\": 3070.0}, {\\\"y\\\": 442000.0, \\\"x\\\": 2080.0}, {\\\"y\\\": 260000.0, \\\"x\\\": 1620.0}, {\\\"y\\\": 390000.0, \\\"x\\\": 1150.0}, {\\\"y\\\": 459500.0, \\\"x\\\": 1250.0}, {\\\"y\\\": 330000.0, \\\"x\\\": 1430.0}, {\\\"y\\\": 189000.0, \\\"x\\\": 790.0}, {\\\"y\\\": 280000.0, \\\"x\\\": 1200.0}, {\\\"y\\\": 400000.0, \\\"x\\\": 2110.0}, {\\\"y\\\": 368000.0, \\\"x\\\": 3160.0}, {\\\"y\\\": 390000.0, \\\"x\\\": 2700.0}, {\\\"y\\\": 245000.0, \\\"x\\\": 820.0}, {\\\"y\\\": 375000.0, \\\"x\\\": 1800.0}, {\\\"y\\\": 465000.0, \\\"x\\\": 1750.0}, {\\\"y\\\": 445000.0, \\\"x\\\": 1540.0}, {\\\"y\\\": 250000.0, \\\"x\\\": 1130.0}, {\\\"y\\\": 475500.0, \\\"x\\\": 1500.0}, {\\\"y\\\": 672324.0, \\\"x\\\": 1600.0}, {\\\"y\\\": 420000.0, \\\"x\\\": 1200.0}, {\\\"y\\\": 515000.0, \\\"x\\\": 1690.0}, {\\\"y\\\": 732350.0, \\\"x\\\": 2270.0}, {\\\"y\\\": 297500.0, \\\"x\\\": 1910.0}, {\\\"y\\\": 475000.0, \\\"x\\\": 1640.0}, {\\\"y\\\": 414000.0, \\\"x\\\": 2120.0}, {\\\"y\\\": 357250.0, \\\"x\\\": 1400.0}, {\\\"y\\\": 289950.0, \\\"x\\\": 760.0}, {\\\"y\\\": 550000.0, \\\"x\\\": 1070.0}, {\\\"y\\\": 446000.0, \\\"x\\\": 1460.0}, {\\\"y\\\": 279000.0, \\\"x\\\": 1280.0}, {\\\"y\\\": 370000.0, \\\"x\\\": 1650.0}, {\\\"y\\\": 216000.0, \\\"x\\\": 1260.0}, {\\\"y\\\": 1100000.0, \\\"x\\\": 2200.0}, {\\\"y\\\": 1280600.0, \\\"x\\\": 3560.0}, {\\\"y\\\": 355000.0, \\\"x\\\": 1140.0}, {\\\"y\\\": 699000.0, \\\"x\\\": 2550.0}, {\\\"y\\\": 412000.0, \\\"x\\\": 1553.0}, {\\\"y\\\": 276000.0, \\\"x\\\": 1140.0}, {\\\"y\\\": 100000.0, \\\"x\\\": 790.0}, {\\\"y\\\": 955500.0, \\\"x\\\": 2130.0}, {\\\"y\\\": 199000.0, \\\"x\\\": 1390.0}, {\\\"y\\\": 762000.0, \\\"x\\\": 4000.0}, {\\\"y\\\": 425000.0, \\\"x\\\": 1520.0}, {\\\"y\\\": 546000.0, \\\"x\\\": 1657.0}, {\\\"y\\\": 419600.0, \\\"x\\\": 1680.0}, {\\\"y\\\": 735000.0, \\\"x\\\": 2270.0}, {\\\"y\\\": 1234568.0, \\\"x\\\": 2470.0}, {\\\"y\\\": 445000.0, \\\"x\\\": 1240.0}, {\\\"y\\\": 665000.0, \\\"x\\\": 1740.0}, {\\\"y\\\": 1290000.0, \\\"x\\\": 4090.0}, {\\\"y\\\": 508500.0, \\\"x\\\": 2520.0}, {\\\"y\\\": 345950.0, \\\"x\\\": 1340.0}, {\\\"y\\\": 207500.0, \\\"x\\\": 1640.0}, {\\\"y\\\": 1075000.0, \\\"x\\\": 3000.0}, {\\\"y\\\": 640000.0, \\\"x\\\": 1210.0}, {\\\"y\\\": 329500.0, \\\"x\\\": 1810.0}, {\\\"y\\\": 460000.0, \\\"x\\\": 2200.0}, {\\\"y\\\": 1230000.0, \\\"x\\\": 2200.0}, {\\\"y\\\": 805000.0, \\\"x\\\": 2350.0}, {\\\"y\\\": 200000.0, \\\"x\\\": 1090.0}, {\\\"y\\\": 749700.0, \\\"x\\\": 2280.0}, {\\\"y\\\": 288000.0, \\\"x\\\": 1430.0}, {\\\"y\\\": 535000.0, \\\"x\\\": 1520.0}, {\\\"y\\\": 330000.0, \\\"x\\\": 1620.0}, {\\\"y\\\": 479200.0, \\\"x\\\": 1510.0}, {\\\"y\\\": 373000.0, \\\"x\\\": 3001.0}, {\\\"y\\\": 355000.0, \\\"x\\\": 2020.0}, {\\\"y\\\": 275000.0, \\\"x\\\": 1380.0}, {\\\"y\\\": 380000.0, \\\"x\\\": 1520.0}, {\\\"y\\\": 417000.0, \\\"x\\\": 1090.0}, {\\\"y\\\": 1165000.0, \\\"x\\\": 4220.0}, {\\\"y\\\": 598500.0, \\\"x\\\": 2520.0}, {\\\"y\\\": 629000.0, \\\"x\\\": 1760.0}, {\\\"y\\\": 226950.0, \\\"x\\\": 930.0}, {\\\"y\\\": 1225000.0, \\\"x\\\": 2600.0}, {\\\"y\\\": 415000.0, \\\"x\\\": 2180.0}, {\\\"y\\\": 595000.0, \\\"x\\\": 1910.0}, {\\\"y\\\": 209950.0, \\\"x\\\": 1100.0}, {\\\"y\\\": 568000.0, \\\"x\\\": 1760.0}, {\\\"y\\\": 119900.0, \\\"x\\\": 700.0}, {\\\"y\\\": 207000.0, \\\"x\\\": 1080.0}, {\\\"y\\\": 195000.0, \\\"x\\\": 1070.0}, {\\\"y\\\": 324950.0, \\\"x\\\": 1460.0}, {\\\"y\\\": 210000.0, \\\"x\\\": 1050.0}, {\\\"y\\\": 1078000.0, \\\"x\\\": 3160.0}, {\\\"y\\\": 325088.0, \\\"x\\\": 1400.0}, {\\\"y\\\": 790000.0, \\\"x\\\": 3120.0}, {\\\"y\\\": 150000.0, \\\"x\\\": 720.0}, {\\\"y\\\": 790000.0, \\\"x\\\": 2840.0}, {\\\"y\\\": 255000.0, \\\"x\\\": 1220.0}, {\\\"y\\\": 697000.0, \\\"x\\\": 2820.0}, {\\\"y\\\": 457500.0, \\\"x\\\": 840.0}, {\\\"y\\\": 690000.0, \\\"x\\\": 1610.0}, {\\\"y\\\": 967000.0, \\\"x\\\": 1860.0}, {\\\"y\\\": 980000.0, \\\"x\\\": 2260.0}, {\\\"y\\\": 619420.0, \\\"x\\\": 2450.0}, {\\\"y\\\": 389000.0, \\\"x\\\": 850.0}, {\\\"y\\\": 500000.0, \\\"x\\\": 1800.0}, {\\\"y\\\": 569000.0, \\\"x\\\": 1230.0}, {\\\"y\\\": 425000.0, \\\"x\\\": 2060.0}, {\\\"y\\\": 635000.0, \\\"x\\\": 2750.0}, {\\\"y\\\": 256500.0, \\\"x\\\": 1120.0}, {\\\"y\\\": 695000.0, \\\"x\\\": 3010.0}, {\\\"y\\\": 535000.0, \\\"x\\\": 1580.0}, {\\\"y\\\": 454200.0, \\\"x\\\": 2630.0}, {\\\"y\\\": 418500.0, \\\"x\\\": 790.0}, {\\\"y\\\": 749950.0, \\\"x\\\": 3110.0}, {\\\"y\\\": 338500.0, \\\"x\\\": 2130.0}, {\\\"y\\\": 1250000.0, \\\"x\\\": 4520.0}, {\\\"y\\\": 299950.0, \\\"x\\\": 1600.0}, {\\\"y\\\": 325000.0, \\\"x\\\": 1950.0}, {\\\"y\\\": 434000.0, \\\"x\\\": 2010.0}, {\\\"y\\\": 328950.0, \\\"x\\\": 2550.0}, {\\\"y\\\": 2095000.0, \\\"x\\\": 5340.0}, {\\\"y\\\": 570000.0, \\\"x\\\": 2000.0}, {\\\"y\\\": 802000.0, \\\"x\\\": 2170.0}, {\\\"y\\\": 525000.0, \\\"x\\\": 1550.0}, {\\\"y\\\": 700000.0, \\\"x\\\": 2790.0}, {\\\"y\\\": 350000.0, \\\"x\\\": 1980.0}, {\\\"y\\\": 277500.0, \\\"x\\\": 1190.0}, {\\\"y\\\": 1575000.0, \\\"x\\\": 3650.0}, {\\\"y\\\": 195000.0, \\\"x\\\": 1510.0}, {\\\"y\\\": 222000.0, \\\"x\\\": 1200.0}, {\\\"y\\\": 865000.0, \\\"x\\\": 2830.0}, {\\\"y\\\": 445000.0, \\\"x\\\": 1650.0}, {\\\"y\\\": 495800.0, \\\"x\\\": 1710.0}, {\\\"y\\\": 548500.0, \\\"x\\\": 1740.0}, {\\\"y\\\": 310000.0, \\\"x\\\": 1840.0}, {\\\"y\\\": 205000.0, \\\"x\\\": 1820.0}, {\\\"y\\\": 470000.0, \\\"x\\\": 3860.0}, {\\\"y\\\": 430000.0, \\\"x\\\": 1810.0}, {\\\"y\\\": 310000.0, \\\"x\\\": 1030.0}, {\\\"y\\\": 355000.0, \\\"x\\\": 1410.0}, {\\\"y\\\": 621500.0, \\\"x\\\": 2140.0}, {\\\"y\\\": 175000.0, \\\"x\\\": 1930.0}, {\\\"y\\\": 326000.0, \\\"x\\\": 1930.0}, {\\\"y\\\": 690000.0, \\\"x\\\": 1930.0}, {\\\"y\\\": 335000.0, \\\"x\\\": 2210.0}, {\\\"y\\\": 197000.0, \\\"x\\\": 1360.0}, {\\\"y\\\": 312500.0, \\\"x\\\": 1830.0}, {\\\"y\\\": 436000.0, \\\"x\\\": 2120.0}, {\\\"y\\\": 1015000.0, \\\"x\\\": 2700.0}, {\\\"y\\\": 805000.0, \\\"x\\\": 3160.0}, {\\\"y\\\": 652427.0, \\\"x\\\": 2770.0}, {\\\"y\\\": 1008000.0, \\\"x\\\": 2240.0}, {\\\"y\\\": 355000.0, \\\"x\\\": 2570.0}, {\\\"y\\\": 334550.0, \\\"x\\\": 880.0}, {\\\"y\\\": 557500.0, \\\"x\\\": 1820.0}, {\\\"y\\\": 277500.0, \\\"x\\\": 1660.0}, {\\\"y\\\": 300000.0, \\\"x\\\": 2200.0}, {\\\"y\\\": 325000.0, \\\"x\\\": 1640.0}, {\\\"y\\\": 402500.0, \\\"x\\\": 1650.0}, {\\\"y\\\": 461000.0, \\\"x\\\": 1420.0}, {\\\"y\\\": 540000.0, \\\"x\\\": 1270.0}, {\\\"y\\\": 385000.0, \\\"x\\\": 1070.0}, {\\\"y\\\": 480000.0, \\\"x\\\": 1060.0}, {\\\"y\\\": 539950.0, \\\"x\\\": 2190.0}, {\\\"y\\\": 529000.0, \\\"x\\\": 1940.0}, {\\\"y\\\": 417000.0, \\\"x\\\": 1300.0}, {\\\"y\\\": 405000.0, \\\"x\\\": 1330.0}, {\\\"y\\\": 299000.0, \\\"x\\\": 1940.0}, {\\\"y\\\": 299000.0, \\\"x\\\": 2100.0}, {\\\"y\\\": 372220.0, \\\"x\\\": 1290.0}, {\\\"y\\\": 494400.0, \\\"x\\\": 1560.0}, {\\\"y\\\": 280000.0, \\\"x\\\": 2630.0}, {\\\"y\\\": 277950.0, \\\"x\\\": 2100.0}, {\\\"y\\\": 770000.0, \\\"x\\\": 2070.0}, {\\\"y\\\": 760000.0, \\\"x\\\": 2960.0}, {\\\"y\\\": 230000.0, \\\"x\\\": 1300.0}, {\\\"y\\\": 525000.0, \\\"x\\\": 2520.0}, {\\\"y\\\": 307000.0, \\\"x\\\": 1150.0}, {\\\"y\\\": 253779.0, \\\"x\\\": 2030.0}, {\\\"y\\\": 405000.0, \\\"x\\\": 1880.0}, {\\\"y\\\": 360000.0, \\\"x\\\": 2320.0}, {\\\"y\\\": 521000.0, \\\"x\\\": 1050.0}, {\\\"y\\\": 680000.0, \\\"x\\\": 3030.0}, {\\\"y\\\": 355000.0, \\\"x\\\": 530.0}, {\\\"y\\\": 200000.0, \\\"x\\\": 1090.0}, {\\\"y\\\": 330000.0, \\\"x\\\": 2220.0}, {\\\"y\\\": 221000.0, \\\"x\\\": 1430.0}, {\\\"y\\\": 1598888.0, \\\"x\\\": 3780.0}, {\\\"y\\\": 310000.0, \\\"x\\\": 1560.0}, {\\\"y\\\": 862000.0, \\\"x\\\": 2220.0}, {\\\"y\\\": 200000.0, \\\"x\\\": 1140.0}, {\\\"y\\\": 630000.0, \\\"x\\\": 2540.0}, {\\\"y\\\": 432250.0, \\\"x\\\": 1440.0}, {\\\"y\\\": 478000.0, \\\"x\\\": 1570.0}, {\\\"y\\\": 249000.0, \\\"x\\\": 1860.0}, {\\\"y\\\": 495000.0, \\\"x\\\": 2440.0}, {\\\"y\\\": 630000.0, \\\"x\\\": 2100.0}, {\\\"y\\\": 550000.0, \\\"x\\\": 2150.0}, {\\\"y\\\": 350000.0, \\\"x\\\": 2440.0}, {\\\"y\\\": 270000.0, \\\"x\\\": 1930.0}, {\\\"y\\\": 488250.0, \\\"x\\\": 1830.0}, {\\\"y\\\": 248000.0, \\\"x\\\": 1850.0}, {\\\"y\\\": 889000.0, \\\"x\\\": 3210.0}, {\\\"y\\\": 375000.0, \\\"x\\\": 1090.0}, {\\\"y\\\": 933000.0, \\\"x\\\": 1870.0}, {\\\"y\\\": 625000.0, \\\"x\\\": 1920.0}, {\\\"y\\\": 328000.0, \\\"x\\\": 700.0}, {\\\"y\\\": 470000.0, \\\"x\\\": 3380.0}, {\\\"y\\\": 502500.0, \\\"x\\\": 2430.0}, {\\\"y\\\": 484000.0, \\\"x\\\": 1950.0}, {\\\"y\\\": 252500.0, \\\"x\\\": 900.0}, {\\\"y\\\": 610000.0, \\\"x\\\": 2060.0}, {\\\"y\\\": 419000.0, \\\"x\\\": 2180.0}, {\\\"y\\\": 322500.0, \\\"x\\\": 2140.0}, {\\\"y\\\": 563000.0, \\\"x\\\": 1730.0}, {\\\"y\\\": 464000.0, \\\"x\\\": 3140.0}, {\\\"y\\\": 870000.0, \\\"x\\\": 3010.0}, {\\\"y\\\": 280000.0, \\\"x\\\": 800.0}, {\\\"y\\\": 850000.0, \\\"x\\\": 3300.0}, {\\\"y\\\": 458950.0, \\\"x\\\": 1530.0}, {\\\"y\\\": 122000.0, \\\"x\\\": 760.0}, {\\\"y\\\": 525000.0, \\\"x\\\": 2450.0}, {\\\"y\\\": 286300.0, \\\"x\\\": 1000.0}, {\\\"y\\\": 218450.0, \\\"x\\\": 840.0}, {\\\"y\\\": 525000.0, \\\"x\\\": 1380.0}, {\\\"y\\\": 650000.0, \\\"x\\\": 1380.0}, {\\\"y\\\": 356000.0, \\\"x\\\": 2020.0}, {\\\"y\\\": 436500.0, \\\"x\\\": 1260.0}, {\\\"y\\\": 410000.0, \\\"x\\\": 1440.0}, {\\\"y\\\": 512500.0, \\\"x\\\": 1540.0}, {\\\"y\\\": 510000.0, \\\"x\\\": 1060.0}, {\\\"y\\\": 566000.0, \\\"x\\\": 1900.0}, {\\\"y\\\": 525000.0, \\\"x\\\": 2870.0}, {\\\"y\\\": 435000.0, \\\"x\\\": 1050.0}, {\\\"y\\\": 406500.0, \\\"x\\\": 1840.0}, {\\\"y\\\": 550000.0, \\\"x\\\": 3000.0}, {\\\"y\\\": 251000.0, \\\"x\\\": 1200.0}, {\\\"y\\\": 830000.0, \\\"x\\\": 1840.0}, {\\\"y\\\": 803000.0, \\\"x\\\": 2790.0}, {\\\"y\\\": 206000.0, \\\"x\\\": 970.0}, {\\\"y\\\": 200000.0, \\\"x\\\": 1070.0}, {\\\"y\\\": 219000.0, \\\"x\\\": 900.0}, {\\\"y\\\": 777000.0, \\\"x\\\": 2680.0}, {\\\"y\\\": 593700.0, \\\"x\\\": 2000.0}, {\\\"y\\\": 712500.0, \\\"x\\\": 1660.0}, {\\\"y\\\": 600000.0, \\\"x\\\": 1770.0}, {\\\"y\\\": 554663.0, \\\"x\\\": 1230.0}, {\\\"y\\\": 267000.0, \\\"x\\\": 1740.0}, {\\\"y\\\": 390000.0, \\\"x\\\": 1710.0}, {\\\"y\\\": 335000.0, \\\"x\\\": 2020.0}, {\\\"y\\\": 938000.0, \\\"x\\\": 2410.0}, {\\\"y\\\": 370000.0, \\\"x\\\": 2310.0}, {\\\"y\\\": 335000.0, \\\"x\\\": 2400.0}, {\\\"y\\\": 695000.0, \\\"x\\\": 3160.0}, {\\\"y\\\": 387500.0, \\\"x\\\": 1560.0}, {\\\"y\\\": 245000.0, \\\"x\\\": 1770.0}, {\\\"y\\\": 308550.0, \\\"x\\\": 1600.0}, {\\\"y\\\": 225000.0, \\\"x\\\": 1330.0}, {\\\"y\\\": 715000.0, \\\"x\\\": 2970.0}, {\\\"y\\\": 335000.0, \\\"x\\\": 1020.0}, {\\\"y\\\": 634000.0, \\\"x\\\": 2490.0}, {\\\"y\\\": 337500.0, \\\"x\\\": 1700.0}, {\\\"y\\\": 440000.0, \\\"x\\\": 850.0}, {\\\"y\\\": 350000.0, \\\"x\\\": 1250.0}, {\\\"y\\\": 400000.0, \\\"x\\\": 610.0}, {\\\"y\\\": 1288000.0, \\\"x\\\": 3700.0}, {\\\"y\\\": 435000.0, \\\"x\\\": 950.0}, {\\\"y\\\": 681000.0, \\\"x\\\": 3860.0}, {\\\"y\\\": 397000.0, \\\"x\\\": 1360.0}, {\\\"y\\\": 775000.0, \\\"x\\\": 3890.0}, {\\\"y\\\": 480000.0, \\\"x\\\": 1680.0}, {\\\"y\\\": 158000.0, \\\"x\\\": 1520.0}, {\\\"y\\\": 590000.0, \\\"x\\\": 2420.0}, {\\\"y\\\": 772500.0, \\\"x\\\": 3890.0}, {\\\"y\\\": 464500.0, \\\"x\\\": 2940.0}, {\\\"y\\\": 281000.0, \\\"x\\\": 1350.0}, {\\\"y\\\": 620000.0, \\\"x\\\": 2190.0}, {\\\"y\\\": 475000.0, \\\"x\\\": 2280.0}, {\\\"y\\\": 245000.0, \\\"x\\\": 1070.0}, {\\\"y\\\": 660000.0, \\\"x\\\": 2540.0}, {\\\"y\\\": 527500.0, \\\"x\\\": 2270.0}, {\\\"y\\\": 135000.0, \\\"x\\\": 1220.0}, {\\\"y\\\": 275000.0, \\\"x\\\": 1890.0}, {\\\"y\\\": 430000.0, \\\"x\\\": 1990.0}, {\\\"y\\\": 213500.0, \\\"x\\\": 1220.0}, {\\\"y\\\": 535000.0, \\\"x\\\": 2640.0}, {\\\"y\\\": 641000.0, \\\"x\\\": 1480.0}, {\\\"y\\\": 436300.0, \\\"x\\\": 2320.0}, {\\\"y\\\": 1440000.0, \\\"x\\\": 2410.0}, {\\\"y\\\": 830000.0, \\\"x\\\": 2090.0}, {\\\"y\\\": 380000.0, \\\"x\\\": 920.0}, {\\\"y\\\": 132500.0, \\\"x\\\": 850.0}, {\\\"y\\\": 179950.0, \\\"x\\\": 1130.0}, {\\\"y\\\": 188200.0, \\\"x\\\": 1260.0}, {\\\"y\\\": 659000.0, \\\"x\\\": 2090.0}, {\\\"y\\\": 317000.0, \\\"x\\\": 2020.0}, {\\\"y\\\": 625000.0, \\\"x\\\": 1970.0}, {\\\"y\\\": 350000.0, \\\"x\\\": 1820.0}, {\\\"y\\\": 750000.0, \\\"x\\\": 1840.0}, {\\\"y\\\": 457000.0, \\\"x\\\": 2100.0}, {\\\"y\\\": 632500.0, \\\"x\\\": 1770.0}, {\\\"y\\\": 223000.0, \\\"x\\\": 1110.0}, {\\\"y\\\": 610000.0, \\\"x\\\": 2090.0}, {\\\"y\\\": 385000.0, \\\"x\\\": 2080.0}, {\\\"y\\\": 367500.0, \\\"x\\\": 1400.0}, {\\\"y\\\": 385100.0, \\\"x\\\": 1060.0}, {\\\"y\\\": 230000.0, \\\"x\\\": 720.0}, {\\\"y\\\": 286000.0, \\\"x\\\": 1100.0}, {\\\"y\\\": 201700.0, \\\"x\\\": 1010.0}, {\\\"y\\\": 1350000.0, \\\"x\\\": 5230.0}, {\\\"y\\\": 525000.0, \\\"x\\\": 2420.0}, {\\\"y\\\": 361000.0, \\\"x\\\": 1200.0}, {\\\"y\\\": 530000.0, \\\"x\\\": 1950.0}, {\\\"y\\\": 455000.0, \\\"x\\\": 1870.0}, {\\\"y\\\": 421000.0, \\\"x\\\": 1310.0}, {\\\"y\\\": 640000.0, \\\"x\\\": 1520.0}, {\\\"y\\\": 240000.0, \\\"x\\\": 1270.0}, {\\\"y\\\": 360000.0, \\\"x\\\": 840.0}, {\\\"y\\\": 157340.0, \\\"x\\\": 900.0}, {\\\"y\\\": 1240000.0, \\\"x\\\": 3010.0}, {\\\"y\\\": 250000.0, \\\"x\\\": 1050.0}, {\\\"y\\\": 735000.0, \\\"x\\\": 3360.0}, {\\\"y\\\": 884900.0, \\\"x\\\": 5370.0}, {\\\"y\\\": 775000.0, \\\"x\\\": 2690.0}, {\\\"y\\\": 463000.0, \\\"x\\\": 1710.0}, {\\\"y\\\": 579000.0, \\\"x\\\": 1640.0}, {\\\"y\\\": 570000.0, \\\"x\\\": 4000.0}, {\\\"y\\\": 1060000.0, \\\"x\\\": 4140.0}, {\\\"y\\\": 375000.0, \\\"x\\\": 3140.0}, {\\\"y\\\": 422000.0, \\\"x\\\": 1320.0}, {\\\"y\\\": 866500.0, \\\"x\\\": 3080.0}, {\\\"y\\\": 705000.0, \\\"x\\\": 2500.0}, {\\\"y\\\": 470000.0, \\\"x\\\": 2520.0}, {\\\"y\\\": 360000.0, \\\"x\\\": 2350.0}, {\\\"y\\\": 795000.0, \\\"x\\\": 2570.0}, {\\\"y\\\": 800000.0, \\\"x\\\": 3100.0}, {\\\"y\\\": 2453500.0, \\\"x\\\": 4730.0}, {\\\"y\\\": 277284.0, \\\"x\\\": 1030.0}, {\\\"y\\\": 460000.0, \\\"x\\\": 1020.0}, {\\\"y\\\": 898888.0, \\\"x\\\": 2080.0}, {\\\"y\\\": 211000.0, \\\"x\\\": 1410.0}, {\\\"y\\\": 222000.0, \\\"x\\\": 1360.0}, {\\\"y\\\": 672000.0, \\\"x\\\": 2620.0}, {\\\"y\\\": 778000.0, \\\"x\\\": 2260.0}, {\\\"y\\\": 312500.0, \\\"x\\\": 1490.0}, {\\\"y\\\": 650000.0, \\\"x\\\": 2530.0}, {\\\"y\\\": 740000.0, \\\"x\\\": 3140.0}, {\\\"y\\\": 320000.0, \\\"x\\\": 1820.0}, {\\\"y\\\": 455000.0, \\\"x\\\": 1770.0}, {\\\"y\\\": 2450000.0, \\\"x\\\": 4430.0}, {\\\"y\\\": 500000.0, \\\"x\\\": 1490.0}, {\\\"y\\\": 325000.0, \\\"x\\\": 1790.0}, {\\\"y\\\": 416000.0, \\\"x\\\": 1710.0}, {\\\"y\\\": 495000.0, \\\"x\\\": 2070.0}, {\\\"y\\\": 549000.0, \\\"x\\\": 1140.0}, {\\\"y\\\": 589000.0, \\\"x\\\": 3930.0}, {\\\"y\\\": 194820.0, \\\"x\\\": 1100.0}, {\\\"y\\\": 405000.0, \\\"x\\\": 2260.0}, {\\\"y\\\": 625000.0, \\\"x\\\": 2260.0}, {\\\"y\\\": 205000.0, \\\"x\\\": 1130.0}, {\\\"y\\\": 345100.0, \\\"x\\\": 1950.0}, {\\\"y\\\": 200000.0, \\\"x\\\": 960.0}, {\\\"y\\\": 1905000.0, \\\"x\\\": 4210.0}, {\\\"y\\\": 524500.0, \\\"x\\\": 3430.0}, {\\\"y\\\": 598600.0, \\\"x\\\": 3470.0}, {\\\"y\\\": 367777.0, \\\"x\\\": 2140.0}, {\\\"y\\\": 750000.0, \\\"x\\\": 2520.0}, {\\\"y\\\": 575000.0, \\\"x\\\": 3550.0}, {\\\"y\\\": 84000.0, \\\"x\\\": 700.0}, {\\\"y\\\": 255000.0, \\\"x\\\": 740.0}, {\\\"y\\\": 1740000.0, \\\"x\\\": 3300.0}, {\\\"y\\\": 415000.0, \\\"x\\\": 1640.0}, {\\\"y\\\": 449900.0, \\\"x\\\": 2780.0}, {\\\"y\\\": 220000.0, \\\"x\\\": 1830.0}, {\\\"y\\\": 899000.0, \\\"x\\\": 3540.0}, {\\\"y\\\": 430000.0, \\\"x\\\": 1440.0}, {\\\"y\\\": 472500.0, \\\"x\\\": 2960.0}, {\\\"y\\\": 680000.0, \\\"x\\\": 3180.0}, {\\\"y\\\": 1650000.0, \\\"x\\\": 3310.0}, {\\\"y\\\": 810000.0, \\\"x\\\": 2390.0}, {\\\"y\\\": 605000.0, \\\"x\\\": 2460.0}, {\\\"y\\\": 522000.0, \\\"x\\\": 1630.0}, {\\\"y\\\": 759000.0, \\\"x\\\": 3490.0}, {\\\"y\\\": 411000.0, \\\"x\\\": 2500.0}, {\\\"y\\\": 286950.0, \\\"x\\\": 2080.0}, {\\\"y\\\": 440000.0, \\\"x\\\": 1290.0}, {\\\"y\\\": 149000.0, \\\"x\\\": 1700.0}, {\\\"y\\\": 284700.0, \\\"x\\\": 1700.0}, {\\\"y\\\": 374950.0, \\\"x\\\": 2540.0}, {\\\"y\\\": 816000.0, \\\"x\\\": 1180.0}, {\\\"y\\\": 533250.0, \\\"x\\\": 1520.0}, {\\\"y\\\": 689800.0, \\\"x\\\": 2390.0}, {\\\"y\\\": 775000.0, \\\"x\\\": 2740.0}, {\\\"y\\\": 702000.0, \\\"x\\\": 2190.0}, {\\\"y\\\": 160000.0, \\\"x\\\": 1350.0}, {\\\"y\\\": 255500.0, \\\"x\\\": 1350.0}, {\\\"y\\\": 949000.0, \\\"x\\\": 2980.0}, {\\\"y\\\": 169500.0, \\\"x\\\": 790.0}, {\\\"y\\\": 586000.0, \\\"x\\\": 2130.0}, {\\\"y\\\": 680000.0, \\\"x\\\": 2700.0}, {\\\"y\\\": 851500.0, \\\"x\\\": 3200.0}, {\\\"y\\\": 582500.0, \\\"x\\\": 1159.0}, {\\\"y\\\": 637000.0, \\\"x\\\": 3080.0}, {\\\"y\\\": 225000.0, \\\"x\\\": 1000.0}, {\\\"y\\\": 795000.0, \\\"x\\\": 2260.0}, {\\\"y\\\": 304999.0, \\\"x\\\": 2270.0}, {\\\"y\\\": 95000.0, \\\"x\\\": 760.0}, {\\\"y\\\": 240000.0, \\\"x\\\": 1420.0}, {\\\"y\\\": 772000.0, \\\"x\\\": 2500.0}, {\\\"y\\\": 245000.0, \\\"x\\\": 1450.0}, {\\\"y\\\": 430000.0, \\\"x\\\": 2500.0}, {\\\"y\\\": 799000.0, \\\"x\\\": 2210.0}, {\\\"y\\\": 880000.0, \\\"x\\\": 3020.0}, {\\\"y\\\": 750000.0, \\\"x\\\": 3290.0}, {\\\"y\\\": 2890000.0, \\\"x\\\": 5780.0}, {\\\"y\\\": 532000.0, \\\"x\\\": 1820.0}, {\\\"y\\\": 525000.0, \\\"x\\\": 2500.0}, {\\\"y\\\": 239000.0, \\\"x\\\": 1210.0}, {\\\"y\\\": 460000.0, \\\"x\\\": 1090.0}, {\\\"y\\\": 540000.0, \\\"x\\\": 1330.0}, {\\\"y\\\": 475000.0, \\\"x\\\": 890.0}, {\\\"y\\\": 445000.0, \\\"x\\\": 1360.0}, {\\\"y\\\": 1575000.0, \\\"x\\\": 4220.0}, {\\\"y\\\": 549950.0, \\\"x\\\": 3780.0}, {\\\"y\\\": 294950.0, \\\"x\\\": 2610.0}, {\\\"y\\\": 736000.0, \\\"x\\\": 1980.0}, {\\\"y\\\": 214946.0, \\\"x\\\": 1290.0}, {\\\"y\\\": 856000.0, \\\"x\\\": 3620.0}, {\\\"y\\\": 775000.0, \\\"x\\\": 2680.0}, {\\\"y\\\": 205000.0, \\\"x\\\": 1200.0}, {\\\"y\\\": 429592.0, \\\"x\\\": 1992.0}, {\\\"y\\\": 414250.0, \\\"x\\\": 1640.0}, {\\\"y\\\": 399950.0, \\\"x\\\": 1920.0}, {\\\"y\\\": 319990.0, \\\"x\\\": 1840.0}, {\\\"y\\\": 524000.0, \\\"x\\\": 1310.0}, {\\\"y\\\": 349950.0, \\\"x\\\": 1050.0}, {\\\"y\\\": 889000.0, \\\"x\\\": 2570.0}, {\\\"y\\\": 300000.0, \\\"x\\\": 930.0}, {\\\"y\\\": 395000.0, \\\"x\\\": 730.0}, {\\\"y\\\": 348000.0, \\\"x\\\": 1270.0}, {\\\"y\\\": 830000.0, \\\"x\\\": 1150.0}, {\\\"y\\\": 173000.0, \\\"x\\\": 820.0}, {\\\"y\\\": 585000.0, \\\"x\\\": 3000.0}, {\\\"y\\\": 576750.0, \\\"x\\\": 2220.0}, {\\\"y\\\": 495000.0, \\\"x\\\": 2500.0}, {\\\"y\\\": 216650.0, \\\"x\\\": 1540.0}, {\\\"y\\\": 615000.0, \\\"x\\\": 2750.0}, {\\\"y\\\": 675000.0, \\\"x\\\": 3130.0}, {\\\"y\\\": 510000.0, \\\"x\\\": 1430.0}, {\\\"y\\\": 630000.0, \\\"x\\\": 2680.0}, {\\\"y\\\": 359950.0, \\\"x\\\": 3010.0}, {\\\"y\\\": 265000.0, \\\"x\\\": 1530.0}, {\\\"y\\\": 210000.0, \\\"x\\\": 1240.0}, {\\\"y\\\": 367000.0, \\\"x\\\": 2260.0}, {\\\"y\\\": 1075000.0, \\\"x\\\": 2820.0}, {\\\"y\\\": 756000.0, \\\"x\\\": 3560.0}, {\\\"y\\\": 203000.0, \\\"x\\\": 1630.0}, {\\\"y\\\": 535000.0, \\\"x\\\": 2880.0}, {\\\"y\\\": 525000.0, \\\"x\\\": 2200.0}, {\\\"y\\\": 347500.0, \\\"x\\\": 1620.0}, {\\\"y\\\": 620000.0, \\\"x\\\": 1480.0}, {\\\"y\\\": 645000.0, \\\"x\\\": 2250.0}, {\\\"y\\\": 2200000.0, \\\"x\\\": 3540.0}, {\\\"y\\\": 280000.0, \\\"x\\\": 1790.0}, {\\\"y\\\": 432000.0, \\\"x\\\": 1400.0}, {\\\"y\\\": 790000.0, \\\"x\\\": 2390.0}, {\\\"y\\\": 635000.0, \\\"x\\\": 2400.0}, {\\\"y\\\": 442000.0, \\\"x\\\": 2050.0}, {\\\"y\\\": 490000.0, \\\"x\\\": 2640.0}, {\\\"y\\\": 250000.0, \\\"x\\\": 2320.0}, {\\\"y\\\": 1325000.0, \\\"x\\\": 2440.0}, {\\\"y\\\": 120000.0, \\\"x\\\": 1260.0}, {\\\"y\\\": 2950000.0, \\\"x\\\": 6240.0}, {\\\"y\\\": 325000.0, \\\"x\\\": 1930.0}, {\\\"y\\\": 210000.0, \\\"x\\\": 1200.0}, {\\\"y\\\": 215000.0, \\\"x\\\": 970.0}, {\\\"y\\\": 387000.0, \\\"x\\\": 1810.0}, {\\\"y\\\": 408000.0, \\\"x\\\": 1380.0}, {\\\"y\\\": 410000.0, \\\"x\\\": 1470.0}, {\\\"y\\\": 216000.0, \\\"x\\\": 1010.0}, {\\\"y\\\": 390000.0, \\\"x\\\": 1010.0}, {\\\"y\\\": 357000.0, \\\"x\\\": 1340.0}, {\\\"y\\\": 215000.0, \\\"x\\\": 970.0}, {\\\"y\\\": 265000.0, \\\"x\\\": 1122.0}, {\\\"y\\\": 589950.0, \\\"x\\\": 1670.0}, {\\\"y\\\": 440000.0, \\\"x\\\": 2840.0}, {\\\"y\\\": 248000.0, \\\"x\\\": 770.0}, {\\\"y\\\": 730000.0, \\\"x\\\": 2040.0}, {\\\"y\\\": 425000.0, \\\"x\\\": 3052.0}, {\\\"y\\\": 680000.0, \\\"x\\\": 2620.0}, {\\\"y\\\": 341500.0, \\\"x\\\": 3120.0}, {\\\"y\\\": 395000.0, \\\"x\\\": 1100.0}, {\\\"y\\\": 1225000.0, \\\"x\\\": 3410.0}, {\\\"y\\\": 695500.0, \\\"x\\\": 2510.0}, {\\\"y\\\": 308000.0, \\\"x\\\": 1680.0}, {\\\"y\\\": 422500.0, \\\"x\\\": 1960.0}, {\\\"y\\\": 418000.0, \\\"x\\\": 1040.0}, {\\\"y\\\": 385000.0, \\\"x\\\": 1750.0}, {\\\"y\\\": 876650.0, \\\"x\\\": 2170.0}, {\\\"y\\\": 450000.0, \\\"x\\\": 1639.0}, {\\\"y\\\": 418800.0, \\\"x\\\": 2100.0}, {\\\"y\\\": 330000.0, \\\"x\\\": 880.0}, {\\\"y\\\": 550000.0, \\\"x\\\": 1940.0}, {\\\"y\\\": 270000.0, \\\"x\\\": 2490.0}, {\\\"y\\\": 978500.0, \\\"x\\\": 2060.0}, {\\\"y\\\": 975000.0, \\\"x\\\": 2720.0}, {\\\"y\\\": 455000.0, \\\"x\\\": 2180.0}, {\\\"y\\\": 1415000.0, \\\"x\\\": 3600.0}, {\\\"y\\\": 220000.0, \\\"x\\\": 840.0}, {\\\"y\\\": 490000.0, \\\"x\\\": 2370.0}, {\\\"y\\\": 420000.0, \\\"x\\\": 2270.0}, {\\\"y\\\": 408500.0, \\\"x\\\": 2720.0}, {\\\"y\\\": 716000.0, \\\"x\\\": 1140.0}, {\\\"y\\\": 965000.0, \\\"x\\\": 2460.0}, {\\\"y\\\": 357823.0, \\\"x\\\": 1240.0}, {\\\"y\\\": 7062500.0, \\\"x\\\": 10040.0}, {\\\"y\\\": 425000.0, \\\"x\\\": 1670.0}, {\\\"y\\\": 711777.0, \\\"x\\\": 2220.0}, {\\\"y\\\": 335000.0, \\\"x\\\": 980.0}, {\\\"y\\\": 825000.0, \\\"x\\\": 1890.0}, {\\\"y\\\": 210000.0, \\\"x\\\": 1100.0}, {\\\"y\\\": 575000.0, \\\"x\\\": 2770.0}, {\\\"y\\\": 1208000.0, \\\"x\\\": 4250.0}, {\\\"y\\\": 431500.0, \\\"x\\\": 1370.0}, {\\\"y\\\": 475000.0, \\\"x\\\": 1480.0}, {\\\"y\\\": 1495000.0, \\\"x\\\": 3770.0}, {\\\"y\\\": 540000.0, \\\"x\\\": 2870.0}, {\\\"y\\\": 775000.0, \\\"x\\\": 3820.0}, {\\\"y\\\": 635000.0, \\\"x\\\": 1530.0}, {\\\"y\\\": 1300000.0, \\\"x\\\": 4120.0}, {\\\"y\\\": 405000.0, \\\"x\\\": 1590.0}, {\\\"y\\\": 210000.0, \\\"x\\\": 1520.0}, {\\\"y\\\": 880000.0, \\\"x\\\": 2350.0}, {\\\"y\\\": 239000.0, \\\"x\\\": 1370.0}, {\\\"y\\\": 515000.0, \\\"x\\\": 1540.0}, {\\\"y\\\": 1379900.0, \\\"x\\\": 3786.0}, {\\\"y\\\": 215000.0, \\\"x\\\": 1500.0}, {\\\"y\\\": 315000.0, \\\"x\\\": 1750.0}, {\\\"y\\\": 442500.0, \\\"x\\\": 1800.0}, {\\\"y\\\": 311000.0, \\\"x\\\": 1180.0}, {\\\"y\\\": 425000.0, \\\"x\\\": 830.0}, {\\\"y\\\": 433500.0, \\\"x\\\": 1540.0}, {\\\"y\\\": 450000.0, \\\"x\\\": 1610.0}, {\\\"y\\\": 675000.0, \\\"x\\\": 1990.0}, {\\\"y\\\": 535000.0, \\\"x\\\": 2070.0}, {\\\"y\\\": 577000.0, \\\"x\\\": 1760.0}, {\\\"y\\\": 480000.0, \\\"x\\\": 1740.0}, {\\\"y\\\": 400000.0, \\\"x\\\": 1950.0}, {\\\"y\\\": 304000.0, \\\"x\\\": 1280.0}, {\\\"y\\\": 355000.0, \\\"x\\\": 1460.0}, {\\\"y\\\": 998000.0, \\\"x\\\": 3770.0}, {\\\"y\\\": 550000.0, \\\"x\\\": 2410.0}, {\\\"y\\\": 550000.0, \\\"x\\\": 2410.0}, {\\\"y\\\": 210000.0, \\\"x\\\": 1400.0}, {\\\"y\\\": 317000.0, \\\"x\\\": 2100.0}, {\\\"y\\\": 700000.0, \\\"x\\\": 5360.0}, {\\\"y\\\": 265000.0, \\\"x\\\": 1000.0}, {\\\"y\\\": 700000.0, \\\"x\\\": 3150.0}, {\\\"y\\\": 1020000.0, \\\"x\\\": 4180.0}, {\\\"y\\\": 1145000.0, \\\"x\\\": 2840.0}, {\\\"y\\\": 460000.0, \\\"x\\\": 2110.0}, {\\\"y\\\": 410000.0, \\\"x\\\": 1660.0}, {\\\"y\\\": 665000.0, \\\"x\\\": 2160.0}, {\\\"y\\\": 600000.0, \\\"x\\\": 2420.0}, {\\\"y\\\": 502000.0, \\\"x\\\": 1920.0}, {\\\"y\\\": 364950.0, \\\"x\\\": 2310.0}, {\\\"y\\\": 680000.0, \\\"x\\\": 2330.0}, {\\\"y\\\": 235500.0, \\\"x\\\": 2340.0}, {\\\"y\\\": 576000.0, \\\"x\\\": 2590.0}, {\\\"y\\\": 405000.0, \\\"x\\\": 1410.0}, {\\\"y\\\": 335000.0, \\\"x\\\": 2850.0}, {\\\"y\\\": 122000.0, \\\"x\\\": 730.0}, {\\\"y\\\": 432000.0, \\\"x\\\": 1470.0}, {\\\"y\\\": 375000.0, \\\"x\\\": 2330.0}, {\\\"y\\\": 276000.0, \\\"x\\\": 2460.0}, {\\\"y\\\": 450000.0, \\\"x\\\": 2080.0}, {\\\"y\\\": 210000.0, \\\"x\\\": 990.0}, {\\\"y\\\": 279000.0, \\\"x\\\": 1450.0}, {\\\"y\\\": 635000.0, \\\"x\\\": 1340.0}, {\\\"y\\\": 350000.0, \\\"x\\\": 2730.0}, {\\\"y\\\": 218000.0, \\\"x\\\": 1140.0}, {\\\"y\\\": 750000.0, \\\"x\\\": 1950.0}, {\\\"y\\\": 310597.0, \\\"x\\\": 2000.0}, {\\\"y\\\": 355000.0, \\\"x\\\": 900.0}, {\\\"y\\\": 735000.0, \\\"x\\\": 3390.0}, {\\\"y\\\": 155000.0, \\\"x\\\": 720.0}, {\\\"y\\\": 354000.0, \\\"x\\\": 940.0}, {\\\"y\\\": 415000.0, \\\"x\\\": 1770.0}, {\\\"y\\\": 202000.0, \\\"x\\\": 590.0}, {\\\"y\\\": 580000.0, \\\"x\\\": 1980.0}, {\\\"y\\\": 1495000.0, \\\"x\\\": 3070.0}, {\\\"y\\\": 790000.0, \\\"x\\\": 3500.0}, {\\\"y\\\": 499900.0, \\\"x\\\": 2100.0}, {\\\"y\\\": 525000.0, \\\"x\\\": 2620.0}, {\\\"y\\\": 810000.0, \\\"x\\\": 2810.0}, {\\\"y\\\": 425000.0, \\\"x\\\": 2290.0}, {\\\"y\\\": 241250.0, \\\"x\\\": 1350.0}, {\\\"y\\\": 318700.0, \\\"x\\\": 2770.0}, {\\\"y\\\": 720000.0, \\\"x\\\": 2530.0}, {\\\"y\\\": 291000.0, \\\"x\\\": 1280.0}, {\\\"y\\\": 420000.0, \\\"x\\\": 1060.0}, {\\\"y\\\": 210000.0, \\\"x\\\": 1000.0}, {\\\"y\\\": 645000.0, \\\"x\\\": 3870.0}, {\\\"y\\\": 762000.0, \\\"x\\\": 3370.0}, {\\\"y\\\": 247500.0, \\\"x\\\": 2290.0}, {\\\"y\\\": 282500.0, \\\"x\\\": 1670.0}, {\\\"y\\\": 395000.0, \\\"x\\\": 1460.0}, {\\\"y\\\": 295000.0, \\\"x\\\": 1770.0}, {\\\"y\\\": 235000.0, \\\"x\\\": 820.0}, {\\\"y\\\": 770000.0, \\\"x\\\": 1900.0}, {\\\"y\\\": 559950.0, \\\"x\\\": 1870.0}, {\\\"y\\\": 639000.0, \\\"x\\\": 1840.0}, {\\\"y\\\": 314950.0, \\\"x\\\": 1590.0}, {\\\"y\\\": 525000.0, \\\"x\\\": 1640.0}, {\\\"y\\\": 2400000.0, \\\"x\\\": 3000.0}, {\\\"y\\\": 820000.0, \\\"x\\\": 2160.0}, {\\\"y\\\": 1385000.0, \\\"x\\\": 2490.0}, {\\\"y\\\": 521450.0, \\\"x\\\": 1290.0}, {\\\"y\\\": 760750.0, \\\"x\\\": 3190.0}, {\\\"y\\\": 759600.0, \\\"x\\\": 1540.0}, {\\\"y\\\": 346150.0, \\\"x\\\": 2140.0}, {\\\"y\\\": 390000.0, \\\"x\\\": 980.0}, {\\\"y\\\": 359950.0, \\\"x\\\": 2450.0}, {\\\"y\\\": 430000.0, \\\"x\\\": 1360.0}, {\\\"y\\\": 960000.0, \\\"x\\\": 4610.0}, {\\\"y\\\": 800000.0, \\\"x\\\": 7480.0}, {\\\"y\\\": 1010000.0, \\\"x\\\": 2860.0}, {\\\"y\\\": 290000.0, \\\"x\\\": 1810.0}, {\\\"y\\\": 1350000.0, \\\"x\\\": 2240.0}, {\\\"y\\\": 777000.0, \\\"x\\\": 3610.0}, {\\\"y\\\": 526000.0, \\\"x\\\": 1450.0}, {\\\"y\\\": 550000.0, \\\"x\\\": 1450.0}, {\\\"y\\\": 276000.0, \\\"x\\\": 1820.0}, {\\\"y\\\": 2500000.0, \\\"x\\\": 5620.0}, {\\\"y\\\": 325000.0, \\\"x\\\": 2080.0}, {\\\"y\\\": 365000.0, \\\"x\\\": 1780.0}, {\\\"y\\\": 2150000.0, \\\"x\\\": 4340.0}, {\\\"y\\\": 825050.0, \\\"x\\\": 2860.0}, {\\\"y\\\": 690000.0, \\\"x\\\": 2540.0}, {\\\"y\\\": 390000.0, \\\"x\\\": 1140.0}, {\\\"y\\\": 385000.0, \\\"x\\\": 1320.0}, {\\\"y\\\": 619000.0, \\\"x\\\": 2040.0}, {\\\"y\\\": 494000.0, \\\"x\\\": 1790.0}, {\\\"y\\\": 412450.0, \\\"x\\\": 1910.0}, {\\\"y\\\": 580000.0, \\\"x\\\": 1460.0}, {\\\"y\\\": 269900.0, \\\"x\\\": 1420.0}, {\\\"y\\\": 704300.0, \\\"x\\\": 1790.0}, {\\\"y\\\": 267000.0, \\\"x\\\": 1390.0}, {\\\"y\\\": 310000.0, \\\"x\\\": 1880.0}, {\\\"y\\\": 227064.0, \\\"x\\\": 1570.0}, {\\\"y\\\": 925000.0, \\\"x\\\": 2690.0}, {\\\"y\\\": 245000.0, \\\"x\\\": 1670.0}, {\\\"y\\\": 339888.0, \\\"x\\\": 1040.0}, {\\\"y\\\": 439000.0, \\\"x\\\": 1560.0}, {\\\"y\\\": 400000.0, \\\"x\\\": 1470.0}, {\\\"y\\\": 560000.0, \\\"x\\\": 2070.0}, {\\\"y\\\": 703011.0, \\\"x\\\": 1370.0}, {\\\"y\\\": 363000.0, \\\"x\\\": 1120.0}, {\\\"y\\\": 650000.0, \\\"x\\\": 2640.0}, {\\\"y\\\": 299950.0, \\\"x\\\": 1030.0}, {\\\"y\\\": 228950.0, \\\"x\\\": 1120.0}, {\\\"y\\\": 465000.0, \\\"x\\\": 1730.0}, {\\\"y\\\": 725000.0, \\\"x\\\": 2090.0}, {\\\"y\\\": 212500.0, \\\"x\\\": 920.0}, {\\\"y\\\": 526000.0, \\\"x\\\": 2970.0}, {\\\"y\\\": 383000.0, \\\"x\\\": 1720.0}, {\\\"y\\\": 244000.0, \\\"x\\\": 1460.0}, {\\\"y\\\": 565000.0, \\\"x\\\": 1540.0}, {\\\"y\\\": 373000.0, \\\"x\\\": 2850.0}, {\\\"y\\\": 300000.0, \\\"x\\\": 1310.0}, {\\\"y\\\": 405000.0, \\\"x\\\": 2430.0}, {\\\"y\\\": 979000.0, \\\"x\\\": 1700.0}, {\\\"y\\\": 324888.0, \\\"x\\\": 2160.0}, {\\\"y\\\": 445000.0, \\\"x\\\": 860.0}, {\\\"y\\\": 761000.0, \\\"x\\\": 2050.0}, {\\\"y\\\": 435000.0, \\\"x\\\": 1650.0}, {\\\"y\\\": 252000.0, \\\"x\\\": 1570.0}, {\\\"y\\\": 350000.0, \\\"x\\\": 1660.0}, {\\\"y\\\": 875000.0, \\\"x\\\": 1220.0}, {\\\"y\\\": 940000.0, \\\"x\\\": 1220.0}, {\\\"y\\\": 280000.0, \\\"x\\\": 1780.0}, {\\\"y\\\": 450000.0, \\\"x\\\": 2180.0}, {\\\"y\\\": 905000.0, \\\"x\\\": 3520.0}, {\\\"y\\\": 382450.0, \\\"x\\\": 2220.0}, {\\\"y\\\": 246700.0, \\\"x\\\": 1610.0}, {\\\"y\\\": 220000.0, \\\"x\\\": 1070.0}, {\\\"y\\\": 555750.0, \\\"x\\\": 1060.0}, {\\\"y\\\": 262500.0, \\\"x\\\": 1160.0}, {\\\"y\\\": 515000.0, \\\"x\\\": 910.0}, {\\\"y\\\": 499500.0, \\\"x\\\": 2970.0}, {\\\"y\\\": 135000.0, \\\"x\\\": 790.0}, {\\\"y\\\": 462500.0, \\\"x\\\": 1540.0}, {\\\"y\\\": 937500.0, \\\"x\\\": 3130.0}, {\\\"y\\\": 458000.0, \\\"x\\\": 1470.0}, {\\\"y\\\": 845000.0, \\\"x\\\": 3160.0}, {\\\"y\\\": 660000.0, \\\"x\\\": 2675.0}, {\\\"y\\\": 265000.0, \\\"x\\\": 1340.0}, {\\\"y\\\": 599999.0, \\\"x\\\": 3830.0}, {\\\"y\\\": 280000.0, \\\"x\\\": 1800.0}, {\\\"y\\\": 1055000.0, \\\"x\\\": 2990.0}, {\\\"y\\\": 875000.0, \\\"x\\\": 3720.0}, {\\\"y\\\": 125000.0, \\\"x\\\": 920.0}, {\\\"y\\\": 634800.0, \\\"x\\\": 3280.0}, {\\\"y\\\": 269950.0, \\\"x\\\": 1440.0}, {\\\"y\\\": 359950.0, \\\"x\\\": 1940.0}, {\\\"y\\\": 417000.0, \\\"x\\\": 1590.0}, {\\\"y\\\": 389000.0, \\\"x\\\": 1340.0}, {\\\"y\\\": 1038000.0, \\\"x\\\": 3770.0}, {\\\"y\\\": 698000.0, \\\"x\\\": 2680.0}, {\\\"y\\\": 685000.0, \\\"x\\\": 2820.0}, {\\\"y\\\": 198500.0, \\\"x\\\": 1520.0}, {\\\"y\\\": 350000.0, \\\"x\\\": 2560.0}, {\\\"y\\\": 649950.0, \\\"x\\\": 3310.0}, {\\\"y\\\": 441000.0, \\\"x\\\": 1540.0}, {\\\"y\\\": 462600.0, \\\"x\\\": 1430.0}, {\\\"y\\\": 365070.0, \\\"x\\\": 2506.0}, {\\\"y\\\": 550000.0, \\\"x\\\": 2250.0}, {\\\"y\\\": 470000.0, \\\"x\\\": 2740.0}, {\\\"y\\\": 340000.0, \\\"x\\\": 1540.0}, {\\\"y\\\": 910000.0, \\\"x\\\": 4190.0}, {\\\"y\\\": 405000.0, \\\"x\\\": 1690.0}, {\\\"y\\\": 661000.0, \\\"x\\\": 1990.0}, {\\\"y\\\": 635000.0, \\\"x\\\": 2410.0}, {\\\"y\\\": 282000.0, \\\"x\\\": 1150.0}, {\\\"y\\\": 235000.0, \\\"x\\\": 1720.0}, {\\\"y\\\": 277500.0, \\\"x\\\": 1260.0}, {\\\"y\\\": 346500.0, \\\"x\\\": 2020.0}, {\\\"y\\\": 480000.0, \\\"x\\\": 2240.0}, {\\\"y\\\": 360000.0, \\\"x\\\": 1930.0}, {\\\"y\\\": 245000.0, \\\"x\\\": 1820.0}, {\\\"y\\\": 625000.0, \\\"x\\\": 1560.0}, {\\\"y\\\": 750500.0, \\\"x\\\": 2170.0}, {\\\"y\\\": 525000.0, \\\"x\\\": 1600.0}, {\\\"y\\\": 740000.0, \\\"x\\\": 3760.0}, {\\\"y\\\": 523000.0, \\\"x\\\": 1240.0}, {\\\"y\\\": 292000.0, \\\"x\\\": 1090.0}, {\\\"y\\\": 625000.0, \\\"x\\\": 2740.0}, {\\\"y\\\": 700000.0, \\\"x\\\": 3110.0}, {\\\"y\\\": 399950.0, \\\"x\\\": 1610.0}, {\\\"y\\\": 545000.0, \\\"x\\\": 1880.0}, {\\\"y\\\": 339999.0, \\\"x\\\": 1740.0}, {\\\"y\\\": 1210000.0, \\\"x\\\": 3270.0}, {\\\"y\\\": 545000.0, \\\"x\\\": 1990.0}, {\\\"y\\\": 260000.0, \\\"x\\\": 1960.0}, {\\\"y\\\": 526000.0, \\\"x\\\": 1680.0}, {\\\"y\\\": 701000.0, \\\"x\\\": 2910.0}, {\\\"y\\\": 290000.0, \\\"x\\\": 1500.0}, {\\\"y\\\": 330600.0, \\\"x\\\": 580.0}, {\\\"y\\\": 550500.0, \\\"x\\\": 2540.0}, {\\\"y\\\": 430000.0, \\\"x\\\": 950.0}, {\\\"y\\\": 4000000.0, \\\"x\\\": 7080.0}, {\\\"y\\\": 260600.0, \\\"x\\\": 810.0}, {\\\"y\\\": 825000.0, \\\"x\\\": 4080.0}, {\\\"y\\\": 378950.0, \\\"x\\\": 1820.0}, {\\\"y\\\": 435000.0, \\\"x\\\": 2650.0}, {\\\"y\\\": 631000.0, \\\"x\\\": 1670.0}, {\\\"y\\\": 415000.0, \\\"x\\\": 2480.0}, {\\\"y\\\": 222000.0, \\\"x\\\": 1240.0}, {\\\"y\\\": 245000.0, \\\"x\\\": 1390.0}, {\\\"y\\\": 720000.0, \\\"x\\\": 2880.0}, {\\\"y\\\": 215000.0, \\\"x\\\": 1060.0}, {\\\"y\\\": 579100.0, \\\"x\\\": 1070.0}, {\\\"y\\\": 522500.0, \\\"x\\\": 1640.0}, {\\\"y\\\": 489000.0, \\\"x\\\": 1510.0}, {\\\"y\\\": 240000.0, \\\"x\\\": 1230.0}, {\\\"y\\\": 420250.0, \\\"x\\\": 1510.0}, {\\\"y\\\": 523000.0, \\\"x\\\": 3180.0}, {\\\"y\\\": 628000.0, \\\"x\\\": 2260.0}, {\\\"y\\\": 320000.0, \\\"x\\\": 1920.0}, {\\\"y\\\": 359950.0, \\\"x\\\": 1980.0}, {\\\"y\\\": 232000.0, \\\"x\\\": 1200.0}, {\\\"y\\\": 810000.0, \\\"x\\\": 2020.0}, {\\\"y\\\": 245000.0, \\\"x\\\": 2010.0}, {\\\"y\\\": 273000.0, \\\"x\\\": 1930.0}, {\\\"y\\\": 1191000.0, \\\"x\\\": 2710.0}, {\\\"y\\\": 438000.0, \\\"x\\\": 1950.0}, {\\\"y\\\": 400000.0, \\\"x\\\": 2110.0}, {\\\"y\\\": 340000.0, \\\"x\\\": 1250.0}, {\\\"y\\\": 552000.0, \\\"x\\\": 1380.0}, {\\\"y\\\": 790000.0, \\\"x\\\": 2050.0}, {\\\"y\\\": 360000.0, \\\"x\\\": 1800.0}, {\\\"y\\\": 235000.0, \\\"x\\\": 1310.0}, {\\\"y\\\": 775000.0, \\\"x\\\": 1010.0}, {\\\"y\\\": 489200.0, \\\"x\\\": 1850.0}, {\\\"y\\\": 341000.0, \\\"x\\\": 1750.0}, {\\\"y\\\": 335000.0, \\\"x\\\": 2154.0}, {\\\"y\\\": 393500.0, \\\"x\\\": 1230.0}, {\\\"y\\\": 360000.0, \\\"x\\\": 1960.0}, {\\\"y\\\": 400800.0, \\\"x\\\": 1070.0}, {\\\"y\\\": 585000.0, \\\"x\\\": 1450.0}, {\\\"y\\\": 1600000.0, \\\"x\\\": 3680.0}, {\\\"y\\\": 2880500.0, \\\"x\\\": 5760.0}, {\\\"y\\\": 300000.0, \\\"x\\\": 1220.0}, {\\\"y\\\": 1045000.0, \\\"x\\\": 2950.0}, {\\\"y\\\": 360000.0, \\\"x\\\": 1340.0}, {\\\"y\\\": 665900.0, \\\"x\\\": 2870.0}, {\\\"y\\\": 470000.0, \\\"x\\\": 2590.0}, {\\\"y\\\": 581000.0, \\\"x\\\": 2090.0}, {\\\"y\\\": 527000.0, \\\"x\\\": 3000.0}, {\\\"y\\\": 423000.0, \\\"x\\\": 1730.0}, {\\\"y\\\": 875000.0, \\\"x\\\": 2850.0}, {\\\"y\\\": 410000.0, \\\"x\\\": 1020.0}, {\\\"y\\\": 606000.0, \\\"x\\\": 2200.0}, {\\\"y\\\": 654000.0, \\\"x\\\": 3240.0}, {\\\"y\\\": 150000.0, \\\"x\\\": 490.0}, {\\\"y\\\": 373000.0, \\\"x\\\": 2990.0}, {\\\"y\\\": 550000.0, \\\"x\\\": 2450.0}, {\\\"y\\\": 512500.0, \\\"x\\\": 1900.0}, {\\\"y\\\": 360000.0, \\\"x\\\": 2640.0}, {\\\"y\\\": 369000.0, \\\"x\\\": 1340.0}, {\\\"y\\\": 825000.0, \\\"x\\\": 3220.0}, {\\\"y\\\": 255000.0, \\\"x\\\": 930.0}, {\\\"y\\\": 1285000.0, \\\"x\\\": 3240.0}, {\\\"y\\\": 270000.0, \\\"x\\\": 2630.0}, {\\\"y\\\": 480680.0, \\\"x\\\": 1730.0}, {\\\"y\\\": 525000.0, \\\"x\\\": 2120.0}, {\\\"y\\\": 291500.0, \\\"x\\\": 880.0}, {\\\"y\\\": 305000.0, \\\"x\\\": 1800.0}, {\\\"y\\\": 285000.0, \\\"x\\\": 1600.0}, {\\\"y\\\": 1875000.0, \\\"x\\\": 3280.0}, {\\\"y\\\": 329500.0, \\\"x\\\": 3290.0}, {\\\"y\\\": 1570000.0, \\\"x\\\": 2890.0}, {\\\"y\\\": 379260.0, \\\"x\\\": 1730.0}, {\\\"y\\\": 356000.0, \\\"x\\\": 1590.0}, {\\\"y\\\": 571900.0, \\\"x\\\": 1710.0}, {\\\"y\\\": 271500.0, \\\"x\\\": 1995.0}, {\\\"y\\\": 390000.0, \\\"x\\\": 1300.0}, {\\\"y\\\": 550000.0, \\\"x\\\": 2720.0}, {\\\"y\\\": 755000.0, \\\"x\\\": 1360.0}, {\\\"y\\\": 509500.0, \\\"x\\\": 1590.0}, {\\\"y\\\": 486700.0, \\\"x\\\": 1200.0}, {\\\"y\\\": 527500.0, \\\"x\\\": 1170.0}, {\\\"y\\\": 475000.0, \\\"x\\\": 2010.0}, {\\\"y\\\": 268000.0, \\\"x\\\": 1880.0}, {\\\"y\\\": 562000.0, \\\"x\\\": 3250.0}, {\\\"y\\\": 780000.0, \\\"x\\\": 2270.0}, {\\\"y\\\": 700000.0, \\\"x\\\": 3680.0}, {\\\"y\\\": 710000.0, \\\"x\\\": 1880.0}, {\\\"y\\\": 445000.0, \\\"x\\\": 1050.0}, {\\\"y\\\": 729000.0, \\\"x\\\": 2250.0}, {\\\"y\\\": 384400.0, \\\"x\\\": 1689.0}, {\\\"y\\\": 815000.0, \\\"x\\\": 2860.0}, {\\\"y\\\": 865000.0, \\\"x\\\": 2710.0}, {\\\"y\\\": 514000.0, \\\"x\\\": 1770.0}, {\\\"y\\\": 615000.0, \\\"x\\\": 2820.0}, {\\\"y\\\": 865000.0, \\\"x\\\": 3400.0}, {\\\"y\\\": 755000.0, \\\"x\\\": 3110.0}, {\\\"y\\\": 425000.0, \\\"x\\\": 1480.0}, {\\\"y\\\": 375000.0, \\\"x\\\": 940.0}, {\\\"y\\\": 750000.0, \\\"x\\\": 2680.0}, {\\\"y\\\": 722000.0, \\\"x\\\": 3190.0}, {\\\"y\\\": 1011000.0, \\\"x\\\": 1920.0}, {\\\"y\\\": 725000.0, \\\"x\\\": 2610.0}, {\\\"y\\\": 170000.0, \\\"x\\\": 1040.0}, {\\\"y\\\": 845000.0, \\\"x\\\": 2880.0}, {\\\"y\\\": 271900.0, \\\"x\\\": 1450.0}, {\\\"y\\\": 1300000.0, \\\"x\\\": 3902.0}, {\\\"y\\\": 261500.0, \\\"x\\\": 2460.0}, {\\\"y\\\": 619500.0, \\\"x\\\": 2170.0}, {\\\"y\\\": 435000.0, \\\"x\\\": 1970.0}, {\\\"y\\\": 210000.0, \\\"x\\\": 1000.0}, {\\\"y\\\": 489950.0, \\\"x\\\": 1580.0}, {\\\"y\\\": 260000.0, \\\"x\\\": 2130.0}, {\\\"y\\\": 300000.0, \\\"x\\\": 1370.0}, {\\\"y\\\": 530000.0, \\\"x\\\": 2150.0}, {\\\"y\\\": 235000.0, \\\"x\\\": 1370.0}, {\\\"y\\\": 593500.0, \\\"x\\\": 1370.0}, {\\\"y\\\": 562000.0, \\\"x\\\": 3290.0}, {\\\"y\\\": 585000.0, \\\"x\\\": 3190.0}, {\\\"y\\\": 2400000.0, \\\"x\\\": 4140.0}, {\\\"y\\\": 199500.0, \\\"x\\\": 1690.0}, {\\\"y\\\": 544500.0, \\\"x\\\": 1690.0}, {\\\"y\\\": 394900.0, \\\"x\\\": 1430.0}, {\\\"y\\\": 912000.0, \\\"x\\\": 1980.0}, {\\\"y\\\": 260000.0, \\\"x\\\": 1490.0}, {\\\"y\\\": 858000.0, \\\"x\\\": 3620.0}, {\\\"y\\\": 1275000.0, \\\"x\\\": 2720.0}, {\\\"y\\\": 242150.0, \\\"x\\\": 1490.0}, {\\\"y\\\": 220000.0, \\\"x\\\": 1230.0}, {\\\"y\\\": 235000.0, \\\"x\\\": 1900.0}, {\\\"y\\\": 370000.0, \\\"x\\\": 1530.0}, {\\\"y\\\": 450000.0, \\\"x\\\": 2290.0}, {\\\"y\\\": 534950.0, \\\"x\\\": 2240.0}, {\\\"y\\\": 730000.0, \\\"x\\\": 3470.0}, {\\\"y\\\": 465000.0, \\\"x\\\": 3050.0}, {\\\"y\\\": 178000.0, \\\"x\\\": 1100.0}, {\\\"y\\\": 215000.0, \\\"x\\\": 1610.0}, {\\\"y\\\": 300000.0, \\\"x\\\": 1910.0}, {\\\"y\\\": 430000.0, \\\"x\\\": 1510.0}, {\\\"y\\\": 183000.0, \\\"x\\\": 1280.0}, {\\\"y\\\": 585000.0, \\\"x\\\": 1910.0}, {\\\"y\\\": 192950.0, \\\"x\\\": 1170.0}, {\\\"y\\\": 599000.0, \\\"x\\\": 1550.0}, {\\\"y\\\": 326500.0, \\\"x\\\": 1060.0}, {\\\"y\\\": 358803.0, \\\"x\\\": 1040.0}, {\\\"y\\\": 537000.0, \\\"x\\\": 1550.0}, {\\\"y\\\": 1155000.0, \\\"x\\\": 2490.0}, {\\\"y\\\": 156000.0, \\\"x\\\": 920.0}, {\\\"y\\\": 219000.0, \\\"x\\\": 1250.0}, {\\\"y\\\": 1190000.0, \\\"x\\\": 2540.0}, {\\\"y\\\": 248000.0, \\\"x\\\": 2190.0}, {\\\"y\\\": 340000.0, \\\"x\\\": 1340.0}, {\\\"y\\\": 899100.0, \\\"x\\\": 2410.0}, {\\\"y\\\": 346950.0, \\\"x\\\": 1830.0}, {\\\"y\\\": 330000.0, \\\"x\\\": 1850.0}, {\\\"y\\\": 325000.0, \\\"x\\\": 1410.0}, {\\\"y\\\": 315000.0, \\\"x\\\": 1460.0}, {\\\"y\\\": 649950.0, \\\"x\\\": 1500.0}, {\\\"y\\\": 316000.0, \\\"x\\\": 1130.0}, {\\\"y\\\": 386000.0, \\\"x\\\": 1620.0}, {\\\"y\\\": 535000.0, \\\"x\\\": 2330.0}, {\\\"y\\\": 600000.0, \\\"x\\\": 1520.0}, {\\\"y\\\": 339000.0, \\\"x\\\": 2840.0}, {\\\"y\\\": 167000.0, \\\"x\\\": 1520.0}, {\\\"y\\\": 430000.0, \\\"x\\\": 1740.0}, {\\\"y\\\": 688000.0, \\\"x\\\": 4000.0}, {\\\"y\\\": 834500.0, \\\"x\\\": 2780.0}, {\\\"y\\\": 1075000.0, \\\"x\\\": 3500.0}, {\\\"y\\\": 250000.0, \\\"x\\\": 1060.0}, {\\\"y\\\": 402500.0, \\\"x\\\": 1290.0}, {\\\"y\\\": 432500.0, \\\"x\\\": 2390.0}, {\\\"y\\\": 485000.0, \\\"x\\\": 2460.0}, {\\\"y\\\": 560000.0, \\\"x\\\": 2930.0}, {\\\"y\\\": 410000.0, \\\"x\\\": 2200.0}, {\\\"y\\\": 455000.0, \\\"x\\\": 1870.0}, {\\\"y\\\": 459500.0, \\\"x\\\": 2060.0}, {\\\"y\\\": 371000.0, \\\"x\\\": 1610.0}, {\\\"y\\\": 289500.0, \\\"x\\\": 2120.0}, {\\\"y\\\": 395000.0, \\\"x\\\": 1450.0}, {\\\"y\\\": 496752.0, \\\"x\\\": 1980.0}, {\\\"y\\\": 227000.0, \\\"x\\\": 860.0}, {\\\"y\\\": 330000.0, \\\"x\\\": 1460.0}, {\\\"y\\\": 480000.0, \\\"x\\\": 2590.0}, {\\\"y\\\": 290000.0, \\\"x\\\": 1120.0}, {\\\"y\\\": 281000.0, \\\"x\\\": 1340.0}, {\\\"y\\\": 705000.0, \\\"x\\\": 1780.0}, {\\\"y\\\": 1400000.0, \\\"x\\\": 2920.0}, {\\\"y\\\": 485000.0, \\\"x\\\": 2820.0}, {\\\"y\\\": 622000.0, \\\"x\\\": 1550.0}, {\\\"y\\\": 380000.0, \\\"x\\\": 1600.0}, {\\\"y\\\": 2125000.0, \\\"x\\\": 3190.0}, {\\\"y\\\": 561500.0, \\\"x\\\": 1960.0}, {\\\"y\\\": 242000.0, \\\"x\\\": 970.0}, {\\\"y\\\": 348500.0, \\\"x\\\": 1360.0}, {\\\"y\\\": 370000.0, \\\"x\\\": 1360.0}, {\\\"y\\\": 752000.0, \\\"x\\\": 3810.0}, {\\\"y\\\": 230000.0, \\\"x\\\": 1340.0}, {\\\"y\\\": 715000.0, \\\"x\\\": 1990.0}, {\\\"y\\\": 240415.0, \\\"x\\\": 1120.0}, {\\\"y\\\": 562000.0, \\\"x\\\": 2060.0}, {\\\"y\\\": 360000.0, \\\"x\\\": 1170.0}, {\\\"y\\\": 659950.0, \\\"x\\\": 1610.0}, {\\\"y\\\": 458500.0, \\\"x\\\": 1890.0}, {\\\"y\\\": 259950.0, \\\"x\\\": 1070.0}, {\\\"y\\\": 366000.0, \\\"x\\\": 1680.0}, {\\\"y\\\": 978000.0, \\\"x\\\": 2890.0}, {\\\"y\\\": 525000.0, \\\"x\\\": 1360.0}, {\\\"y\\\": 926300.0, \\\"x\\\": 1660.0}, {\\\"y\\\": 750000.0, \\\"x\\\": 1620.0}, {\\\"y\\\": 660000.0, \\\"x\\\": 960.0}, {\\\"y\\\": 305000.0, \\\"x\\\": 1000.0}, {\\\"y\\\": 800000.0, \\\"x\\\": 2395.0}, {\\\"y\\\": 600000.0, \\\"x\\\": 3050.0}, {\\\"y\\\": 435000.0, \\\"x\\\": 1120.0}, {\\\"y\\\": 1135000.0, \\\"x\\\": 2960.0}, {\\\"y\\\": 318000.0, \\\"x\\\": 1250.0}, {\\\"y\\\": 639000.0, \\\"x\\\": 1940.0}, {\\\"y\\\": 453000.0, \\\"x\\\": 1750.0}, {\\\"y\\\": 800000.0, \\\"x\\\": 2150.0}, {\\\"y\\\": 437000.0, \\\"x\\\": 1500.0}, {\\\"y\\\": 1150000.0, \\\"x\\\": 3230.0}, {\\\"y\\\": 490000.0, \\\"x\\\": 3000.0}, {\\\"y\\\": 499950.0, \\\"x\\\": 1520.0}, {\\\"y\\\": 160134.0, \\\"x\\\": 1190.0}, {\\\"y\\\": 191000.0, \\\"x\\\": 990.0}, {\\\"y\\\": 221000.0, \\\"x\\\": 1250.0}, {\\\"y\\\": 352800.0, \\\"x\\\": 2080.0}, {\\\"y\\\": 350000.0, \\\"x\\\": 1640.0}, {\\\"y\\\": 458000.0, \\\"x\\\": 1550.0}, {\\\"y\\\": 359950.0, \\\"x\\\": 1290.0}, {\\\"y\\\": 1050000.0, \\\"x\\\": 3250.0}, {\\\"y\\\": 353000.0, \\\"x\\\": 1260.0}, {\\\"y\\\": 717550.0, \\\"x\\\": 2840.0}, {\\\"y\\\": 450000.0, \\\"x\\\": 1960.0}, {\\\"y\\\": 167500.0, \\\"x\\\": 760.0}, {\\\"y\\\": 550000.0, \\\"x\\\": 2240.0}, {\\\"y\\\": 939000.0, \\\"x\\\": 2240.0}, {\\\"y\\\": 700000.0, \\\"x\\\": 1820.0}, {\\\"y\\\": 480000.0, \\\"x\\\": 3370.0}, {\\\"y\\\": 501000.0, \\\"x\\\": 1160.0}, {\\\"y\\\": 580000.0, \\\"x\\\": 1640.0}, {\\\"y\\\": 527550.0, \\\"x\\\": 820.0}, {\\\"y\\\": 399000.0, \\\"x\\\": 2800.0}, {\\\"y\\\": 240000.0, \\\"x\\\": 1780.0}, {\\\"y\\\": 353000.0, \\\"x\\\": 2200.0}, {\\\"y\\\": 335000.0, \\\"x\\\": 1480.0}, {\\\"y\\\": 475000.0, \\\"x\\\": 2010.0}, {\\\"y\\\": 660000.0, \\\"x\\\": 2880.0}, {\\\"y\\\": 551000.0, \\\"x\\\": 940.0}, {\\\"y\\\": 249950.0, \\\"x\\\": 1620.0}, {\\\"y\\\": 1150000.0, \\\"x\\\": 4400.0}, {\\\"y\\\": 575000.0, \\\"x\\\": 1530.0}, {\\\"y\\\": 1088889.0, \\\"x\\\": 3460.0}, {\\\"y\\\": 515000.0, \\\"x\\\": 2890.0}, {\\\"y\\\": 235000.0, \\\"x\\\": 1980.0}, {\\\"y\\\": 796000.0, \\\"x\\\": 1980.0}, {\\\"y\\\": 450000.0, \\\"x\\\": 1450.0}, {\\\"y\\\": 2050000.0, \\\"x\\\": 4280.0}, {\\\"y\\\": 270000.0, \\\"x\\\": 1810.0}, {\\\"y\\\": 1705000.0, \\\"x\\\": 2490.0}, {\\\"y\\\": 565000.0, \\\"x\\\": 1610.0}, {\\\"y\\\": 680000.0, \\\"x\\\": 1820.0}, {\\\"y\\\": 5570000.0, \\\"x\\\": 9200.0}, {\\\"y\\\": 864500.0, \\\"x\\\": 3520.0}, {\\\"y\\\": 1150000.0, \\\"x\\\": 3740.0}, {\\\"y\\\": 335000.0, \\\"x\\\": 2150.0}, {\\\"y\\\": 911000.0, \\\"x\\\": 3526.0}, {\\\"y\\\": 425000.0, \\\"x\\\": 1070.0}, {\\\"y\\\": 299950.0, \\\"x\\\": 1410.0}, {\\\"y\\\": 864000.0, \\\"x\\\": 3190.0}, {\\\"y\\\": 425000.0, \\\"x\\\": 1270.0}, {\\\"y\\\": 374950.0, \\\"x\\\": 1970.0}, {\\\"y\\\": 247000.0, \\\"x\\\": 1640.0}, {\\\"y\\\": 475000.0, \\\"x\\\": 1600.0}, {\\\"y\\\": 275000.0, \\\"x\\\": 3020.0}, {\\\"y\\\": 355000.0, \\\"x\\\": 1350.0}, {\\\"y\\\": 285000.0, \\\"x\\\": 1870.0}, {\\\"y\\\": 1338750.0, \\\"x\\\": 2730.0}, {\\\"y\\\": 325000.0, \\\"x\\\": 1100.0}, {\\\"y\\\": 1670000.0, \\\"x\\\": 4320.0}, {\\\"y\\\": 402000.0, \\\"x\\\": 2700.0}, {\\\"y\\\": 1100000.0, \\\"x\\\": 3700.0}, {\\\"y\\\": 375000.0, \\\"x\\\": 2190.0}, {\\\"y\\\": 396000.0, \\\"x\\\": 2840.0}, {\\\"y\\\": 320000.0, \\\"x\\\": 2610.0}, {\\\"y\\\": 610000.0, \\\"x\\\": 2630.0}, {\\\"y\\\": 249950.0, \\\"x\\\": 1090.0}, {\\\"y\\\": 675000.0, \\\"x\\\": 3090.0}, {\\\"y\\\": 448000.0, \\\"x\\\": 1670.0}, {\\\"y\\\": 819000.0, \\\"x\\\": 1300.0}, {\\\"y\\\": 1250000.0, \\\"x\\\": 3670.0}, {\\\"y\\\": 225000.0, \\\"x\\\": 1700.0}, {\\\"y\\\": 790000.0, \\\"x\\\": 2560.0}, {\\\"y\\\": 685000.0, \\\"x\\\": 2770.0}, {\\\"y\\\": 812000.0, \\\"x\\\": 3240.0}, {\\\"y\\\": 705000.0, \\\"x\\\": 2300.0}, {\\\"y\\\": 360000.0, \\\"x\\\": 2483.0}, {\\\"y\\\": 344000.0, \\\"x\\\": 760.0}, {\\\"y\\\": 825000.0, \\\"x\\\": 2040.0}, {\\\"y\\\": 476500.0, \\\"x\\\": 1200.0}, {\\\"y\\\": 379500.0, \\\"x\\\": 960.0}, {\\\"y\\\": 620000.0, \\\"x\\\": 2410.0}, {\\\"y\\\": 477590.0, \\\"x\\\": 2260.0}, {\\\"y\\\": 490000.0, \\\"x\\\": 1910.0}, {\\\"y\\\": 470000.0, \\\"x\\\": 1500.0}, {\\\"y\\\": 500000.0, \\\"x\\\": 1360.0}, {\\\"y\\\": 370000.0, \\\"x\\\": 1320.0}, {\\\"y\\\": 790000.0, \\\"x\\\": 1940.0}, {\\\"y\\\": 725000.0, \\\"x\\\": 2650.0}, {\\\"y\\\": 840000.0, \\\"x\\\": 3040.0}, {\\\"y\\\": 390000.0, \\\"x\\\": 1240.0}, {\\\"y\\\": 507000.0, \\\"x\\\": 2210.0}, {\\\"y\\\": 263500.0, \\\"x\\\": 1540.0}, {\\\"y\\\": 369000.0, \\\"x\\\": 1320.0}, {\\\"y\\\": 500000.0, \\\"x\\\": 3040.0}, {\\\"y\\\": 570000.0, \\\"x\\\": 910.0}, {\\\"y\\\": 284000.0, \\\"x\\\": 2040.0}, {\\\"y\\\": 415000.0, \\\"x\\\": 980.0}, {\\\"y\\\": 197500.0, \\\"x\\\": 980.0}, {\\\"y\\\": 925000.0, \\\"x\\\": 4420.0}, {\\\"y\\\": 468000.0, \\\"x\\\": 1570.0}, {\\\"y\\\": 355000.0, \\\"x\\\": 1600.0}, {\\\"y\\\": 639000.0, \\\"x\\\": 1830.0}, {\\\"y\\\": 720000.0, \\\"x\\\": 2820.0}, {\\\"y\\\": 381000.0, \\\"x\\\": 1800.0}, {\\\"y\\\": 1050000.0, \\\"x\\\": 4380.0}, {\\\"y\\\": 670000.0, \\\"x\\\": 2980.0}, {\\\"y\\\": 400000.0, \\\"x\\\": 1690.0}, {\\\"y\\\": 910000.0, \\\"x\\\": 4040.0}, {\\\"y\\\": 294000.0, \\\"x\\\": 1250.0}, {\\\"y\\\": 315001.0, \\\"x\\\": 1500.0}, {\\\"y\\\": 360000.0, \\\"x\\\": 1630.0}, {\\\"y\\\": 520000.0, \\\"x\\\": 1410.0}, {\\\"y\\\": 474000.0, \\\"x\\\": 1140.0}, {\\\"y\\\": 702000.0, \\\"x\\\": 3280.0}, {\\\"y\\\": 728000.0, \\\"x\\\": 3490.0}, {\\\"y\\\": 308000.0, \\\"x\\\": 2020.0}, {\\\"y\\\": 2000000.0, \\\"x\\\": 4580.0}, {\\\"y\\\": 340000.0, \\\"x\\\": 2270.0}, {\\\"y\\\": 306500.0, \\\"x\\\": 1310.0}, {\\\"y\\\": 716000.0, \\\"x\\\": 1420.0}, {\\\"y\\\": 950000.0, \\\"x\\\": 2980.0}, {\\\"y\\\": 673200.0, \\\"x\\\": 4180.0}, {\\\"y\\\": 564500.0, \\\"x\\\": 1950.0}, {\\\"y\\\": 393000.0, \\\"x\\\": 1790.0}, {\\\"y\\\": 425000.0, \\\"x\\\": 1400.0}, {\\\"y\\\": 150000.0, \\\"x\\\": 1320.0}, {\\\"y\\\": 327000.0, \\\"x\\\": 1620.0}, {\\\"y\\\": 444900.0, \\\"x\\\": 3120.0}, {\\\"y\\\": 305000.0, \\\"x\\\": 2100.0}, {\\\"y\\\": 469000.0, \\\"x\\\": 1370.0}, {\\\"y\\\": 525000.0, \\\"x\\\": 1520.0}, {\\\"y\\\": 330000.0, \\\"x\\\": 2410.0}, {\\\"y\\\": 618000.0, \\\"x\\\": 1260.0}, {\\\"y\\\": 295500.0, \\\"x\\\": 2830.0}, {\\\"y\\\": 567035.0, \\\"x\\\": 2064.0}, {\\\"y\\\": 518000.0, \\\"x\\\": 2640.0}, {\\\"y\\\": 303000.0, \\\"x\\\": 1020.0}, {\\\"y\\\": 300000.0, \\\"x\\\": 2200.0}, {\\\"y\\\": 413107.0, \\\"x\\\": 1420.0}, {\\\"y\\\": 400000.0, \\\"x\\\": 1350.0}, {\\\"y\\\": 535000.0, \\\"x\\\": 1290.0}, {\\\"y\\\": 555000.0, \\\"x\\\": 1680.0}, {\\\"y\\\": 312000.0, \\\"x\\\": 2280.0}, {\\\"y\\\": 785200.0, \\\"x\\\": 1840.0}, {\\\"y\\\": 749000.0, \\\"x\\\": 2040.0}, {\\\"y\\\": 285000.0, \\\"x\\\": 1490.0}, {\\\"y\\\": 425000.0, \\\"x\\\": 2440.0}, {\\\"y\\\": 360000.0, \\\"x\\\": 1930.0}, {\\\"y\\\": 260000.0, \\\"x\\\": 1200.0}, {\\\"y\\\": 369000.0, \\\"x\\\": 1550.0}, {\\\"y\\\": 275000.0, \\\"x\\\": 2180.0}, {\\\"y\\\": 407000.0, \\\"x\\\": 1430.0}, {\\\"y\\\": 575000.0, \\\"x\\\": 1230.0}, {\\\"y\\\": 1236000.0, \\\"x\\\": 1670.0}, {\\\"y\\\": 875000.0, \\\"x\\\": 2720.0}, {\\\"y\\\": 320000.0, \\\"x\\\": 2220.0}, {\\\"y\\\": 810000.0, \\\"x\\\": 1520.0}, {\\\"y\\\": 274000.0, \\\"x\\\": 1590.0}, {\\\"y\\\": 239900.0, \\\"x\\\": 1480.0}, {\\\"y\\\": 450000.0, \\\"x\\\": 1860.0}, {\\\"y\\\": 263400.0, \\\"x\\\": 1360.0}, {\\\"y\\\": 265000.0, \\\"x\\\": 1360.0}, {\\\"y\\\": 418000.0, \\\"x\\\": 2360.0}, {\\\"y\\\": 390000.0, \\\"x\\\": 2360.0}, {\\\"y\\\": 430000.0, \\\"x\\\": 1860.0}, {\\\"y\\\": 1442500.0, \\\"x\\\": 2630.0}, {\\\"y\\\": 297000.0, \\\"x\\\": 1280.0}, {\\\"y\\\": 650000.0, \\\"x\\\": 2330.0}, {\\\"y\\\": 195000.0, \\\"x\\\": 720.0}, {\\\"y\\\": 554000.0, \\\"x\\\": 3380.0}, {\\\"y\\\": 550000.0, \\\"x\\\": 3650.0}, {\\\"y\\\": 700000.0, \\\"x\\\": 1640.0}, {\\\"y\\\": 300000.0, \\\"x\\\": 1730.0}, {\\\"y\\\": 315000.0, \\\"x\\\": 1030.0}, {\\\"y\\\": 603000.0, \\\"x\\\": 1790.0}, {\\\"y\\\": 530000.0, \\\"x\\\": 840.0}, {\\\"y\\\": 397500.0, \\\"x\\\": 1300.0}, {\\\"y\\\": 221000.0, \\\"x\\\": 1240.0}, {\\\"y\\\": 466000.0, \\\"x\\\": 2170.0}, {\\\"y\\\": 197500.0, \\\"x\\\": 1330.0}, {\\\"y\\\": 280000.0, \\\"x\\\": 1390.0}, {\\\"y\\\": 412000.0, \\\"x\\\": 1240.0}, {\\\"y\\\": 454000.0, \\\"x\\\": 880.0}, {\\\"y\\\": 540000.0, \\\"x\\\": 2540.0}, {\\\"y\\\": 250000.0, \\\"x\\\": 2520.0}, {\\\"y\\\": 900000.0, \\\"x\\\": 2510.0}, {\\\"y\\\": 245000.0, \\\"x\\\": 2020.0}, {\\\"y\\\": 290000.0, \\\"x\\\": 2060.0}, {\\\"y\\\": 160000.0, \\\"x\\\": 930.0}, {\\\"y\\\": 1260000.0, \\\"x\\\": 2700.0}, {\\\"y\\\": 325000.0, \\\"x\\\": 1060.0}, {\\\"y\\\": 185000.0, \\\"x\\\": 670.0}, {\\\"y\\\": 477000.0, \\\"x\\\": 1750.0}, {\\\"y\\\": 100000.0, \\\"x\\\": 930.0}, {\\\"y\\\": 345000.0, \\\"x\\\": 2420.0}, {\\\"y\\\": 530000.0, \\\"x\\\": 2410.0}, {\\\"y\\\": 203000.0, \\\"x\\\": 1150.0}, {\\\"y\\\": 599000.0, \\\"x\\\": 2480.0}, {\\\"y\\\": 370000.0, \\\"x\\\": 1310.0}, {\\\"y\\\": 140000.0, \\\"x\\\": 1240.0}, {\\\"y\\\": 500000.0, \\\"x\\\": 1150.0}, {\\\"y\\\": 527200.0, \\\"x\\\": 1460.0}, {\\\"y\\\": 549900.0, \\\"x\\\": 3060.0}, {\\\"y\\\": 760000.0, \\\"x\\\": 3520.0}, {\\\"y\\\": 319000.0, \\\"x\\\": 960.0}, {\\\"y\\\": 362300.0, \\\"x\\\": 2430.0}, {\\\"y\\\": 421000.0, \\\"x\\\": 1930.0}, {\\\"y\\\": 690000.0, \\\"x\\\": 1090.0}, {\\\"y\\\": 640000.0, \\\"x\\\": 2790.0}, {\\\"y\\\": 238000.0, \\\"x\\\": 1650.0}, {\\\"y\\\": 789000.0, \\\"x\\\": 3740.0}, {\\\"y\\\": 1050000.0, \\\"x\\\": 5310.0}, {\\\"y\\\": 302500.0, \\\"x\\\": 1690.0}, {\\\"y\\\": 259950.0, \\\"x\\\": 1400.0}, {\\\"y\\\": 456000.0, \\\"x\\\": 1440.0}, {\\\"y\\\": 369950.0, \\\"x\\\": 1360.0}, {\\\"y\\\": 363750.0, \\\"x\\\": 1726.0}, {\\\"y\\\": 585000.0, \\\"x\\\": 2220.0}, {\\\"y\\\": 268000.0, \\\"x\\\": 1850.0}, {\\\"y\\\": 1200000.0, \\\"x\\\": 2860.0}, {\\\"y\\\": 345000.0, \\\"x\\\": 1120.0}, {\\\"y\\\": 539000.0, \\\"x\\\": 2340.0}, {\\\"y\\\": 851000.0, \\\"x\\\": 3760.0}, {\\\"y\\\": 900000.0, \\\"x\\\": 1920.0}, {\\\"y\\\": 850000.0, \\\"x\\\": 3230.0}, {\\\"y\\\": 390000.0, \\\"x\\\": 1260.0}, {\\\"y\\\": 345000.0, \\\"x\\\": 1540.0}, {\\\"y\\\": 534500.0, \\\"x\\\": 1700.0}, {\\\"y\\\": 643500.0, \\\"x\\\": 3600.0}, {\\\"y\\\": 1206505.0, \\\"x\\\": 3150.0}, {\\\"y\\\": 495000.0, \\\"x\\\": 1280.0}, {\\\"y\\\": 535000.0, \\\"x\\\": 980.0}, {\\\"y\\\": 435000.0, \\\"x\\\": 2190.0}, {\\\"y\\\": 305000.0, \\\"x\\\": 2470.0}, {\\\"y\\\": 799000.0, \\\"x\\\": 2590.0}, {\\\"y\\\": 700000.0, \\\"x\\\": 2580.0}, {\\\"y\\\": 467000.0, \\\"x\\\": 1270.0}, {\\\"y\\\": 263000.0, \\\"x\\\": 1250.0}, {\\\"y\\\": 760000.0, \\\"x\\\": 4660.0}, {\\\"y\\\": 293000.0, \\\"x\\\": 2019.0}, {\\\"y\\\": 245000.0, \\\"x\\\": 1490.0}, {\\\"y\\\": 181000.0, \\\"x\\\": 1560.0}, {\\\"y\\\": 240000.0, \\\"x\\\": 1030.0}, {\\\"y\\\": 880000.0, \\\"x\\\": 2560.0}, {\\\"y\\\": 285000.0, \\\"x\\\": 1460.0}, {\\\"y\\\": 407500.0, \\\"x\\\": 770.0}, {\\\"y\\\": 325000.0, \\\"x\\\": 1960.0}, {\\\"y\\\": 405000.0, \\\"x\\\": 1900.0}, {\\\"y\\\": 291700.0, \\\"x\\\": 1970.0}, {\\\"y\\\": 370000.0, \\\"x\\\": 2490.0}, {\\\"y\\\": 270000.0, \\\"x\\\": 1430.0}, {\\\"y\\\": 800000.0, \\\"x\\\": 2680.0}, {\\\"y\\\": 626500.0, \\\"x\\\": 1610.0}, {\\\"y\\\": 1130000.0, \\\"x\\\": 4300.0}, {\\\"y\\\": 399950.0, \\\"x\\\": 3200.0}, {\\\"y\\\": 419000.0, \\\"x\\\": 2140.0}, {\\\"y\\\": 1160000.0, \\\"x\\\": 4240.0}, {\\\"y\\\": 1405000.0, \\\"x\\\": 3410.0}, {\\\"y\\\": 710000.0, \\\"x\\\": 2090.0}, {\\\"y\\\": 650000.0, \\\"x\\\": 1410.0}, {\\\"y\\\": 369900.0, \\\"x\\\": 2820.0}, {\\\"y\\\": 641000.0, \\\"x\\\": 2770.0}, {\\\"y\\\": 403000.0, \\\"x\\\": 1400.0}, {\\\"y\\\": 1015000.0, \\\"x\\\": 3620.0}, {\\\"y\\\": 865000.0, \\\"x\\\": 2260.0}, {\\\"y\\\": 2485000.0, \\\"x\\\": 3440.0}, {\\\"y\\\": 810000.0, \\\"x\\\": 2150.0}, {\\\"y\\\": 316750.0, \\\"x\\\": 1256.0}, {\\\"y\\\": 652500.0, \\\"x\\\": 2220.0}, {\\\"y\\\": 360000.0, \\\"x\\\": 2850.0}, {\\\"y\\\": 208000.0, \\\"x\\\": 700.0}, {\\\"y\\\": 898000.0, \\\"x\\\": 3700.0}, {\\\"y\\\": 295000.0, \\\"x\\\": 1400.0}, {\\\"y\\\": 652500.0, \\\"x\\\": 3130.0}, {\\\"y\\\": 560000.0, \\\"x\\\": 2170.0}, {\\\"y\\\": 280000.0, \\\"x\\\": 1020.0}, {\\\"y\\\": 289950.0, \\\"x\\\": 1760.0}, {\\\"y\\\": 397500.0, \\\"x\\\": 1860.0}, {\\\"y\\\": 380000.0, \\\"x\\\": 1140.0}, {\\\"y\\\": 415900.0, \\\"x\\\": 1670.0}, {\\\"y\\\": 475000.0, \\\"x\\\": 1710.0}, {\\\"y\\\": 125000.0, \\\"x\\\": 500.0}, {\\\"y\\\": 238000.0, \\\"x\\\": 1470.0}, {\\\"y\\\": 296000.0, \\\"x\\\": 1370.0}, {\\\"y\\\": 475000.0, \\\"x\\\": 3470.0}, {\\\"y\\\": 390000.0, \\\"x\\\": 1650.0}, {\\\"y\\\": 425000.0, \\\"x\\\": 1180.0}, {\\\"y\\\": 725000.0, \\\"x\\\": 3110.0}, {\\\"y\\\": 605000.0, \\\"x\\\": 2080.0}, {\\\"y\\\": 302000.0, \\\"x\\\": 1600.0}, {\\\"y\\\": 886000.0, \\\"x\\\": 2380.0}, {\\\"y\\\": 540000.0, \\\"x\\\": 1630.0}, {\\\"y\\\": 435000.0, \\\"x\\\": 1910.0}, {\\\"y\\\": 409000.0, \\\"x\\\": 3140.0}, {\\\"y\\\": 405000.0, \\\"x\\\": 1250.0}, {\\\"y\\\": 560200.0, \\\"x\\\": 1990.0}, {\\\"y\\\": 324000.0, \\\"x\\\": 2110.0}, {\\\"y\\\": 390000.0, \\\"x\\\": 2490.0}, {\\\"y\\\": 414000.0, \\\"x\\\": 800.0}, {\\\"y\\\": 441500.0, \\\"x\\\": 2360.0}, {\\\"y\\\": 375000.0, \\\"x\\\": 1770.0}, {\\\"y\\\": 668500.0, \\\"x\\\": 2710.0}, {\\\"y\\\": 540000.0, \\\"x\\\": 1940.0}, {\\\"y\\\": 1035000.0, \\\"x\\\": 3450.0}, {\\\"y\\\": 1345000.0, \\\"x\\\": 3440.0}, {\\\"y\\\": 758000.0, \\\"x\\\": 2410.0}, {\\\"y\\\": 949880.0, \\\"x\\\": 2290.0}, {\\\"y\\\": 570000.0, \\\"x\\\": 1030.0}, {\\\"y\\\": 736000.0, \\\"x\\\": 2290.0}, {\\\"y\\\": 670000.0, \\\"x\\\": 1490.0}, {\\\"y\\\": 1130000.0, \\\"x\\\": 2370.0}, {\\\"y\\\": 650000.0, \\\"x\\\": 1930.0}, {\\\"y\\\": 690000.0, \\\"x\\\": 1600.0}, {\\\"y\\\": 610000.0, \\\"x\\\": 2240.0}, {\\\"y\\\": 413500.0, \\\"x\\\": 770.0}, {\\\"y\\\": 765000.0, \\\"x\\\": 2300.0}, {\\\"y\\\": 828200.0, \\\"x\\\": 3400.0}, {\\\"y\\\": 205000.0, \\\"x\\\": 900.0}, {\\\"y\\\": 465000.0, \\\"x\\\": 1450.0}, {\\\"y\\\": 556000.0, \\\"x\\\": 2240.0}, {\\\"y\\\": 540000.0, \\\"x\\\": 1780.0}, {\\\"y\\\": 423000.0, \\\"x\\\": 2320.0}, {\\\"y\\\": 375000.0, \\\"x\\\": 1590.0}, {\\\"y\\\": 173250.0, \\\"x\\\": 990.0}, {\\\"y\\\": 599900.0, \\\"x\\\": 2605.0}, {\\\"y\\\": 646000.0, \\\"x\\\": 2870.0}, {\\\"y\\\": 1075000.0, \\\"x\\\": 5180.0}, {\\\"y\\\": 558000.0, \\\"x\\\": 2180.0}, {\\\"y\\\": 354000.0, \\\"x\\\": 850.0}, {\\\"y\\\": 1195000.0, \\\"x\\\": 4050.0}, {\\\"y\\\": 670000.0, \\\"x\\\": 2250.0}, {\\\"y\\\": 1125000.0, \\\"x\\\": 3100.0}, {\\\"y\\\": 267500.0, \\\"x\\\": 1747.0}, {\\\"y\\\": 299800.0, \\\"x\\\": 2410.0}, {\\\"y\\\": 430000.0, \\\"x\\\": 2070.0}, {\\\"y\\\": 775000.0, \\\"x\\\": 1860.0}, {\\\"y\\\": 333000.0, \\\"x\\\": 950.0}, {\\\"y\\\": 336000.0, \\\"x\\\": 1060.0}, {\\\"y\\\": 323000.0, \\\"x\\\": 880.0}, {\\\"y\\\": 575000.0, \\\"x\\\": 2550.0}, {\\\"y\\\": 328000.0, \\\"x\\\": 1550.0}, {\\\"y\\\": 572500.0, \\\"x\\\": 1590.0}, {\\\"y\\\": 600000.0, \\\"x\\\": 1650.0}, {\\\"y\\\": 412000.0, \\\"x\\\": 2430.0}, {\\\"y\\\": 827500.0, \\\"x\\\": 1810.0}, {\\\"y\\\": 300000.0, \\\"x\\\": 2890.0}, {\\\"y\\\": 415000.0, \\\"x\\\": 1280.0}, {\\\"y\\\": 750000.0, \\\"x\\\": 3410.0}, {\\\"y\\\": 800000.0, \\\"x\\\": 2220.0}, {\\\"y\\\": 420000.0, \\\"x\\\": 1060.0}, {\\\"y\\\": 266000.0, \\\"x\\\": 1120.0}, {\\\"y\\\": 499000.0, \\\"x\\\": 2680.0}, {\\\"y\\\": 440000.0, \\\"x\\\": 1770.0}, {\\\"y\\\": 495000.0, \\\"x\\\": 2950.0}, {\\\"y\\\": 630000.0, \\\"x\\\": 1260.0}, {\\\"y\\\": 424000.0, \\\"x\\\": 1430.0}, {\\\"y\\\": 760000.0, \\\"x\\\": 2730.0}, {\\\"y\\\": 650000.0, \\\"x\\\": 3270.0}, {\\\"y\\\": 248500.0, \\\"x\\\": 1720.0}, {\\\"y\\\": 379600.0, \\\"x\\\": 1270.0}, {\\\"y\\\": 538000.0, \\\"x\\\": 3260.0}, {\\\"y\\\": 530000.0, \\\"x\\\": 2050.0}, {\\\"y\\\": 545000.0, \\\"x\\\": 2050.0}, {\\\"y\\\": 925000.0, \\\"x\\\": 3580.0}, {\\\"y\\\": 565000.0, \\\"x\\\": 1960.0}, {\\\"y\\\": 405100.0, \\\"x\\\": 840.0}, {\\\"y\\\": 502000.0, \\\"x\\\": 1300.0}, {\\\"y\\\": 425000.0, \\\"x\\\": 1260.0}, {\\\"y\\\": 233500.0, \\\"x\\\": 1650.0}, {\\\"y\\\": 287000.0, \\\"x\\\": 1710.0}, {\\\"y\\\": 190000.0, \\\"x\\\": 1180.0}, {\\\"y\\\": 666000.0, \\\"x\\\": 2780.0}, {\\\"y\\\": 330000.0, \\\"x\\\": 950.0}, {\\\"y\\\": 1490000.0, \\\"x\\\": 3620.0}, {\\\"y\\\": 393000.0, \\\"x\\\": 2140.0}, {\\\"y\\\": 353000.0, \\\"x\\\": 1920.0}, {\\\"y\\\": 260000.0, \\\"x\\\": 750.0}, {\\\"y\\\": 680000.0, \\\"x\\\": 2060.0}, {\\\"y\\\": 921000.0, \\\"x\\\": 2380.0}, {\\\"y\\\": 319000.0, \\\"x\\\": 750.0}, {\\\"y\\\": 280000.0, \\\"x\\\": 1160.0}, {\\\"y\\\": 220000.0, \\\"x\\\": 1050.0}, {\\\"y\\\": 219000.0, \\\"x\\\": 1740.0}, {\\\"y\\\": 528000.0, \\\"x\\\": 2050.0}, {\\\"y\\\": 405000.0, \\\"x\\\": 1980.0}, {\\\"y\\\": 372977.0, \\\"x\\\": 1690.0}, {\\\"y\\\": 934550.0, \\\"x\\\": 2320.0}, {\\\"y\\\": 1465000.0, \\\"x\\\": 2480.0}, {\\\"y\\\": 975000.0, \\\"x\\\": 2290.0}, {\\\"y\\\": 800866.0, \\\"x\\\": 3180.0}, {\\\"y\\\": 950000.0, \\\"x\\\": 3470.0}, {\\\"y\\\": 624000.0, \\\"x\\\": 1540.0}, {\\\"y\\\": 1850000.0, \\\"x\\\": 2800.0}, {\\\"y\\\": 310000.0, \\\"x\\\": 1050.0}, {\\\"y\\\": 315000.0, \\\"x\\\": 1480.0}, {\\\"y\\\": 675000.0, \\\"x\\\": 1010.0}, {\\\"y\\\": 490000.0, \\\"x\\\": 1660.0}, {\\\"y\\\": 600000.0, \\\"x\\\": 2760.0}, {\\\"y\\\": 154000.0, \\\"x\\\": 1040.0}, {\\\"y\\\": 480000.0, \\\"x\\\": 2220.0}, {\\\"y\\\": 196900.0, \\\"x\\\": 1270.0}, {\\\"y\\\": 735000.0, \\\"x\\\": 2960.0}, {\\\"y\\\": 205500.0, \\\"x\\\": 1330.0}, {\\\"y\\\": 357186.0, \\\"x\\\": 1210.0}, {\\\"y\\\": 275000.0, \\\"x\\\": 2120.0}, {\\\"y\\\": 248500.0, \\\"x\\\": 2090.0}, {\\\"y\\\": 350000.0, \\\"x\\\": 2680.0}, {\\\"y\\\": 390000.0, \\\"x\\\": 1790.0}, {\\\"y\\\": 390000.0, \\\"x\\\": 1950.0}, {\\\"y\\\": 660000.0, \\\"x\\\": 3740.0}, {\\\"y\\\": 310000.0, \\\"x\\\": 1140.0}, {\\\"y\\\": 717000.0, \\\"x\\\": 2480.0}, {\\\"y\\\": 260000.0, \\\"x\\\": 2580.0}, {\\\"y\\\": 745000.0, \\\"x\\\": 2290.0}, {\\\"y\\\": 470000.0, \\\"x\\\": 2320.0}, {\\\"y\\\": 429000.0, \\\"x\\\": 2530.0}, {\\\"y\\\": 220000.0, \\\"x\\\": 1400.0}, {\\\"y\\\": 497000.0, \\\"x\\\": 2060.0}, {\\\"y\\\": 716100.0, \\\"x\\\": 1640.0}, {\\\"y\\\": 371000.0, \\\"x\\\": 1960.0}, {\\\"y\\\": 379000.0, \\\"x\\\": 3000.0}, {\\\"y\\\": 937500.0, \\\"x\\\": 1320.0}, {\\\"y\\\": 720000.0, \\\"x\\\": 1760.0}, {\\\"y\\\": 616000.0, \\\"x\\\": 2130.0}, {\\\"y\\\": 259000.0, \\\"x\\\": 1390.0}, {\\\"y\\\": 538000.0, \\\"x\\\": 1400.0}, {\\\"y\\\": 605000.0, \\\"x\\\": 3230.0}, {\\\"y\\\": 369950.0, \\\"x\\\": 1110.0}, {\\\"y\\\": 310000.0, \\\"x\\\": 1670.0}, {\\\"y\\\": 227500.0, \\\"x\\\": 1540.0}, {\\\"y\\\": 274000.0, \\\"x\\\": 2090.0}, {\\\"y\\\": 410000.0, \\\"x\\\": 1410.0}, {\\\"y\\\": 354800.0, \\\"x\\\": 1370.0}, {\\\"y\\\": 650000.0, \\\"x\\\": 1910.0}, {\\\"y\\\": 353000.0, \\\"x\\\": 1678.0}, {\\\"y\\\": 224975.0, \\\"x\\\": 960.0}, {\\\"y\\\": 600000.0, \\\"x\\\": 2080.0}, {\\\"y\\\": 437500.0, \\\"x\\\": 1790.0}, {\\\"y\\\": 567000.0, \\\"x\\\": 2540.0}, {\\\"y\\\": 225000.0, \\\"x\\\": 1790.0}, {\\\"y\\\": 255000.0, \\\"x\\\": 940.0}, {\\\"y\\\": 2479000.0, \\\"x\\\": 6810.0}, {\\\"y\\\": 370000.0, \\\"x\\\": 900.0}, {\\\"y\\\": 675000.0, \\\"x\\\": 1900.0}, {\\\"y\\\": 285000.0, \\\"x\\\": 1440.0}, {\\\"y\\\": 310000.0, \\\"x\\\": 2070.0}, {\\\"y\\\": 475000.0, \\\"x\\\": 2240.0}, {\\\"y\\\": 410000.0, \\\"x\\\": 3320.0}, {\\\"y\\\": 895000.0, \\\"x\\\": 1950.0}, {\\\"y\\\": 375000.0, \\\"x\\\": 1240.0}, {\\\"y\\\": 349000.0, \\\"x\\\": 1830.0}, {\\\"y\\\": 650500.0, \\\"x\\\": 1740.0}, {\\\"y\\\": 760000.0, \\\"x\\\": 1410.0}, {\\\"y\\\": 480000.0, \\\"x\\\": 2050.0}, {\\\"y\\\": 689000.0, \\\"x\\\": 3220.0}, {\\\"y\\\": 415000.0, \\\"x\\\": 1960.0}, {\\\"y\\\": 195000.0, \\\"x\\\": 1070.0}, {\\\"y\\\": 318000.0, \\\"x\\\": 2820.0}, {\\\"y\\\": 404000.0, \\\"x\\\": 4060.0}, {\\\"y\\\": 339950.0, \\\"x\\\": 800.0}, {\\\"y\\\": 215000.0, \\\"x\\\": 1260.0}, {\\\"y\\\": 339900.0, \\\"x\\\": 2420.0}, {\\\"y\\\": 285000.0, \\\"x\\\": 810.0}, {\\\"y\\\": 550000.0, \\\"x\\\": 1600.0}, {\\\"y\\\": 430000.0, \\\"x\\\": 1350.0}, {\\\"y\\\": 219000.0, \\\"x\\\": 970.0}, {\\\"y\\\": 555000.0, \\\"x\\\": 1780.0}, {\\\"y\\\": 233000.0, \\\"x\\\": 1350.0}, {\\\"y\\\": 248000.0, \\\"x\\\": 1840.0}, {\\\"y\\\": 454000.0, \\\"x\\\": 2550.0}, {\\\"y\\\": 950000.0, \\\"x\\\": 1700.0}, {\\\"y\\\": 359000.0, \\\"x\\\": 2430.0}, {\\\"y\\\": 407500.0, \\\"x\\\": 2740.0}, {\\\"y\\\": 224000.0, \\\"x\\\": 1560.0}, {\\\"y\\\": 210000.0, \\\"x\\\": 1040.0}, {\\\"y\\\": 261000.0, \\\"x\\\": 1820.0}, {\\\"y\\\": 719000.0, \\\"x\\\": 1833.0}, {\\\"y\\\": 440000.0, \\\"x\\\": 2160.0}, {\\\"y\\\": 525000.0, \\\"x\\\": 2100.0}, {\\\"y\\\": 375000.0, \\\"x\\\": 1370.0}, {\\\"y\\\": 428000.0, \\\"x\\\": 1414.0}, {\\\"y\\\": 988830.0, \\\"x\\\": 4115.0}, {\\\"y\\\": 199950.0, \\\"x\\\": 1550.0}, {\\\"y\\\": 840000.0, \\\"x\\\": 2100.0}, {\\\"y\\\": 285000.0, \\\"x\\\": 1160.0}, {\\\"y\\\": 330000.0, \\\"x\\\": 3597.0}, {\\\"y\\\": 147500.0, \\\"x\\\": 1230.0}, {\\\"y\\\": 320000.0, \\\"x\\\": 2190.0}, {\\\"y\\\": 382500.0, \\\"x\\\": 1040.0}, {\\\"y\\\": 2048000.0, \\\"x\\\": 4690.0}, {\\\"y\\\": 596000.0, \\\"x\\\": 2270.0}, {\\\"y\\\": 220000.0, \\\"x\\\": 1950.0}, {\\\"y\\\": 325000.0, \\\"x\\\": 1880.0}, {\\\"y\\\": 679950.0, \\\"x\\\": 2850.0}, {\\\"y\\\": 175000.0, \\\"x\\\": 1160.0}, {\\\"y\\\": 268000.0, \\\"x\\\": 1370.0}, {\\\"y\\\": 715000.0, \\\"x\\\": 3260.0}, {\\\"y\\\": 600000.0, \\\"x\\\": 3170.0}, {\\\"y\\\": 228000.0, \\\"x\\\": 390.0}, {\\\"y\\\": 950000.0, \\\"x\\\": 3450.0}, {\\\"y\\\": 475000.0, \\\"x\\\": 1490.0}, {\\\"y\\\": 700000.0, \\\"x\\\": 1460.0}, {\\\"y\\\": 275000.0, \\\"x\\\": 1300.0}, {\\\"y\\\": 369500.0, \\\"x\\\": 1300.0}, {\\\"y\\\": 215000.0, \\\"x\\\": 1540.0}, {\\\"y\\\": 593450.0, \\\"x\\\": 2130.0}, {\\\"y\\\": 498800.0, \\\"x\\\": 1350.0}, {\\\"y\\\": 849000.0, \\\"x\\\": 2450.0}, {\\\"y\\\": 1151250.0, \\\"x\\\": 1940.0}, {\\\"y\\\": 825000.0, \\\"x\\\": 2890.0}, {\\\"y\\\": 265000.0, \\\"x\\\": 1680.0}, {\\\"y\\\": 285000.0, \\\"x\\\": 1960.0}, {\\\"y\\\": 240000.0, \\\"x\\\": 1590.0}, {\\\"y\\\": 261000.0, \\\"x\\\": 1390.0}, {\\\"y\\\": 330000.0, \\\"x\\\": 2440.0}, {\\\"y\\\": 250000.0, \\\"x\\\": 1850.0}, {\\\"y\\\": 350000.0, \\\"x\\\": 2800.0}, {\\\"y\\\": 930000.0, \\\"x\\\": 3780.0}, {\\\"y\\\": 275000.0, \\\"x\\\": 1910.0}, {\\\"y\\\": 325000.0, \\\"x\\\": 2460.0}, {\\\"y\\\": 255000.0, \\\"x\\\": 810.0}, {\\\"y\\\": 562200.0, \\\"x\\\": 1900.0}, {\\\"y\\\": 952000.0, \\\"x\\\": 3490.0}, {\\\"y\\\": 365000.0, \\\"x\\\": 2200.0}, {\\\"y\\\": 332900.0, \\\"x\\\": 1190.0}, {\\\"y\\\": 721000.0, \\\"x\\\": 2040.0}, {\\\"y\\\": 487275.0, \\\"x\\\": 2400.0}, {\\\"y\\\": 310000.0, \\\"x\\\": 1670.0}, {\\\"y\\\": 245000.0, \\\"x\\\": 990.0}, {\\\"y\\\": 325000.0, \\\"x\\\": 2920.0}, {\\\"y\\\": 550000.0, \\\"x\\\": 1840.0}, {\\\"y\\\": 350000.0, \\\"x\\\": 910.0}, {\\\"y\\\": 599000.0, \\\"x\\\": 2950.0}, {\\\"y\\\": 259950.0, \\\"x\\\": 1240.0}, {\\\"y\\\": 240000.0, \\\"x\\\": 1980.0}, {\\\"y\\\": 186000.0, \\\"x\\\": 1200.0}, {\\\"y\\\": 395000.0, \\\"x\\\": 1280.0}, {\\\"y\\\": 475000.0, \\\"x\\\": 3150.0}, {\\\"y\\\": 815000.0, \\\"x\\\": 3500.0}, {\\\"y\\\": 572000.0, \\\"x\\\": 1680.0}, {\\\"y\\\": 419500.0, \\\"x\\\": 1360.0}, {\\\"y\\\": 298700.0, \\\"x\\\": 2110.0}, {\\\"y\\\": 549000.0, \\\"x\\\": 2034.0}, {\\\"y\\\": 278000.0, \\\"x\\\": 1900.0}, {\\\"y\\\": 455000.0, \\\"x\\\": 2380.0}, {\\\"y\\\": 925000.0, \\\"x\\\": 4050.0}, {\\\"y\\\": 465000.0, \\\"x\\\": 1120.0}, {\\\"y\\\": 620000.0, \\\"x\\\": 2850.0}, {\\\"y\\\": 499900.0, \\\"x\\\": 2360.0}, {\\\"y\\\": 620000.0, \\\"x\\\": 2540.0}, {\\\"y\\\": 450000.0, \\\"x\\\": 1160.0}, {\\\"y\\\": 690000.0, \\\"x\\\": 2710.0}, {\\\"y\\\": 1895000.0, \\\"x\\\": 3120.0}, {\\\"y\\\": 1939999.0, \\\"x\\\": 3120.0}, {\\\"y\\\": 832500.0, \\\"x\\\": 1870.0}, {\\\"y\\\": 245000.0, \\\"x\\\": 1010.0}, {\\\"y\\\": 820000.0, \\\"x\\\": 2980.0}, {\\\"y\\\": 369000.0, \\\"x\\\": 2420.0}, {\\\"y\\\": 1050000.0, \\\"x\\\": 3830.0}, {\\\"y\\\": 653000.0, \\\"x\\\": 3040.0}, {\\\"y\\\": 220650.0, \\\"x\\\": 1460.0}, {\\\"y\\\": 300000.0, \\\"x\\\": 1940.0}, {\\\"y\\\": 970000.0, \\\"x\\\": 3780.0}, {\\\"y\\\": 360000.0, \\\"x\\\": 1950.0}, {\\\"y\\\": 672500.0, \\\"x\\\": 2450.0}, {\\\"y\\\": 268000.0, \\\"x\\\": 1730.0}, {\\\"y\\\": 440000.0, \\\"x\\\": 1690.0}, {\\\"y\\\": 1400000.0, \\\"x\\\": 2550.0}, {\\\"y\\\": 590000.0, \\\"x\\\": 2290.0}, {\\\"y\\\": 359000.0, \\\"x\\\": 2710.0}, {\\\"y\\\": 266500.0, \\\"x\\\": 1880.0}, {\\\"y\\\": 635000.0, \\\"x\\\": 2930.0}, {\\\"y\\\": 559000.0, \\\"x\\\": 3110.0}, {\\\"y\\\": 895000.0, \\\"x\\\": 3480.0}, {\\\"y\\\": 625000.0, \\\"x\\\": 1110.0}, {\\\"y\\\": 650000.0, \\\"x\\\": 2440.0}, {\\\"y\\\": 312500.0, \\\"x\\\": 2280.0}, {\\\"y\\\": 225000.0, \\\"x\\\": 900.0}, {\\\"y\\\": 425000.0, \\\"x\\\": 1980.0}, {\\\"y\\\": 329999.0, \\\"x\\\": 3360.0}, {\\\"y\\\": 572000.0, \\\"x\\\": 2340.0}, {\\\"y\\\": 386500.0, \\\"x\\\": 3110.0}, {\\\"y\\\": 452000.0, \\\"x\\\": 980.0}, {\\\"y\\\": 278000.0, \\\"x\\\": 1480.0}, {\\\"y\\\": 474900.0, \\\"x\\\": 1800.0}, {\\\"y\\\": 450000.0, \\\"x\\\": 2130.0}, {\\\"y\\\": 611000.0, \\\"x\\\": 1270.0}, {\\\"y\\\": 214100.0, \\\"x\\\": 1150.0}, {\\\"y\\\": 317000.0, \\\"x\\\": 1840.0}, {\\\"y\\\": 1000000.0, \\\"x\\\": 3180.0}, {\\\"y\\\": 1000000.0, \\\"x\\\": 1510.0}, {\\\"y\\\": 525000.0, \\\"x\\\": 3070.0}, {\\\"y\\\": 436000.0, \\\"x\\\": 1800.0}, {\\\"y\\\": 450000.0, \\\"x\\\": 1540.0}, {\\\"y\\\": 588500.0, \\\"x\\\": 2330.0}, {\\\"y\\\": 340000.0, \\\"x\\\": 1400.0}, {\\\"y\\\": 482000.0, \\\"x\\\": 2846.0}, {\\\"y\\\": 1575000.0, \\\"x\\\": 5830.0}, {\\\"y\\\": 749000.0, \\\"x\\\": 3380.0}, {\\\"y\\\": 330000.0, \\\"x\\\": 1440.0}, {\\\"y\\\": 568000.0, \\\"x\\\": 1740.0}, {\\\"y\\\": 239000.0, \\\"x\\\": 1470.0}, {\\\"y\\\": 528000.0, \\\"x\\\": 2810.0}, {\\\"y\\\": 385000.0, \\\"x\\\": 2090.0}, {\\\"y\\\": 825000.0, \\\"x\\\": 4110.0}, {\\\"y\\\": 815000.0, \\\"x\\\": 3230.0}, {\\\"y\\\": 625000.0, \\\"x\\\": 2601.0}, {\\\"y\\\": 690000.0, \\\"x\\\": 2070.0}, {\\\"y\\\": 210000.0, \\\"x\\\": 1660.0}, {\\\"y\\\": 599000.0, \\\"x\\\": 1590.0}, {\\\"y\\\": 860000.0, \\\"x\\\": 1860.0}, {\\\"y\\\": 147200.0, \\\"x\\\": 1420.0}, {\\\"y\\\": 476900.0, \\\"x\\\": 1240.0}, {\\\"y\\\": 450000.0, \\\"x\\\": 2500.0}, {\\\"y\\\": 570000.0, \\\"x\\\": 2640.0}, {\\\"y\\\": 567500.0, \\\"x\\\": 1440.0}, {\\\"y\\\": 790000.0, \\\"x\\\": 3030.0}, {\\\"y\\\": 875000.0, \\\"x\\\": 1820.0}, {\\\"y\\\": 490000.0, \\\"x\\\": 2220.0}, {\\\"y\\\": 335000.0, \\\"x\\\": 2430.0}, {\\\"y\\\": 550000.0, \\\"x\\\": 1670.0}, {\\\"y\\\": 385000.0, \\\"x\\\": 1180.0}, {\\\"y\\\": 395000.0, \\\"x\\\": 1620.0}, {\\\"y\\\": 650000.0, \\\"x\\\": 1030.0}, {\\\"y\\\": 637000.0, \\\"x\\\": 2900.0}, {\\\"y\\\": 692500.0, \\\"x\\\": 3420.0}, {\\\"y\\\": 322400.0, \\\"x\\\": 1710.0}, {\\\"y\\\": 233500.0, \\\"x\\\": 1580.0}, {\\\"y\\\": 400000.0, \\\"x\\\": 1230.0}, {\\\"y\\\": 547000.0, \\\"x\\\": 2200.0}], \\\"name\\\": \\\"source_2\\\"}]}\";                                 var vega_json_parsed = JSON.parse(vega_json);                                 var toolTipOpts = {                                     showAllFields: true                                 };                                 if(vega_json_parsed[\"metadata\"] != null){                                     if(vega_json_parsed[\"metadata\"][\"bubbleOpts\"] != null){                                         toolTipOpts = vega_json_parsed[\"metadata\"][\"bubbleOpts\"];                                     };                                 };                                 vegaEmbed(\"#vis\", vega_json_parsed).then(function (result) {                                     vegaTooltip.vega(result.view, toolTipOpts);                                  });                             </script>                         </body>                     </html>' src=\"demo_iframe_srcdoc.htm\">                         <p>Your browser does not support iframes.</p>                     </iframe>                 </body>             </html>"
            ]
          },
          "metadata": {
            "tags": []
          }
        }
      ]
    },
    {
      "cell_type": "markdown",
      "metadata": {
        "id": "iJuOnMtKNM1z",
        "colab_type": "text"
      },
      "source": [
        "# Simple regression model that predicts price from square feet"
      ]
    },
    {
      "cell_type": "code",
      "metadata": {
        "id": "jIk6gx9mNM10",
        "colab_type": "code",
        "colab": {}
      },
      "source": [
        "training_set, test_set = sales.random_split(.8,seed=0)"
      ],
      "execution_count": null,
      "outputs": []
    },
    {
      "cell_type": "markdown",
      "metadata": {
        "id": "OX1gshyPNM15",
        "colab_type": "text"
      },
      "source": [
        "## train simple regression model"
      ]
    },
    {
      "cell_type": "code",
      "metadata": {
        "id": "mQ4xqacnNM15",
        "colab_type": "code",
        "colab": {
          "base_uri": "https://localhost:8080/",
          "height": 306
        },
        "outputId": "a5eed1fe-097d-4965-c2b6-457da4a72661"
      },
      "source": [
        "sqft_model = turicreate.linear_regression.create(training_set,target='price',features=['sqft_living'])"
      ],
      "execution_count": null,
      "outputs": [
        {
          "output_type": "stream",
          "text": [
            "PROGRESS: Creating a validation set from 5 percent of training data. This may take a while.\n",
            "          You can set ``validation_set=None`` to disable validation tracking.\n",
            "\n"
          ],
          "name": "stdout"
        },
        {
          "output_type": "display_data",
          "data": {
            "text/plain": [
              "Linear regression:"
            ],
            "text/html": [
              "<pre>Linear regression:</pre>"
            ]
          },
          "metadata": {
            "tags": []
          }
        },
        {
          "output_type": "display_data",
          "data": {
            "text/plain": [
              "--------------------------------------------------------"
            ],
            "text/html": [
              "<pre>--------------------------------------------------------</pre>"
            ]
          },
          "metadata": {
            "tags": []
          }
        },
        {
          "output_type": "display_data",
          "data": {
            "text/plain": [
              "Number of examples          : 16514"
            ],
            "text/html": [
              "<pre>Number of examples          : 16514</pre>"
            ]
          },
          "metadata": {
            "tags": []
          }
        },
        {
          "output_type": "display_data",
          "data": {
            "text/plain": [
              "Number of features          : 1"
            ],
            "text/html": [
              "<pre>Number of features          : 1</pre>"
            ]
          },
          "metadata": {
            "tags": []
          }
        },
        {
          "output_type": "display_data",
          "data": {
            "text/plain": [
              "Number of unpacked features : 1"
            ],
            "text/html": [
              "<pre>Number of unpacked features : 1</pre>"
            ]
          },
          "metadata": {
            "tags": []
          }
        },
        {
          "output_type": "display_data",
          "data": {
            "text/plain": [
              "Number of coefficients    : 2"
            ],
            "text/html": [
              "<pre>Number of coefficients    : 2</pre>"
            ]
          },
          "metadata": {
            "tags": []
          }
        },
        {
          "output_type": "display_data",
          "data": {
            "text/plain": [
              "Starting Newton Method"
            ],
            "text/html": [
              "<pre>Starting Newton Method</pre>"
            ]
          },
          "metadata": {
            "tags": []
          }
        },
        {
          "output_type": "display_data",
          "data": {
            "text/plain": [
              "--------------------------------------------------------"
            ],
            "text/html": [
              "<pre>--------------------------------------------------------</pre>"
            ]
          },
          "metadata": {
            "tags": []
          }
        },
        {
          "output_type": "display_data",
          "data": {
            "text/plain": [
              "+-----------+----------+--------------+--------------------+----------------------+---------------------------------+-----------------------------------+"
            ],
            "text/html": [
              "<pre>+-----------+----------+--------------+--------------------+----------------------+---------------------------------+-----------------------------------+</pre>"
            ]
          },
          "metadata": {
            "tags": []
          }
        },
        {
          "output_type": "display_data",
          "data": {
            "text/plain": [
              "| Iteration | Passes   | Elapsed Time | Training Max Error | Validation Max Error | Training Root-Mean-Square Error | Validation Root-Mean-Square Error |"
            ],
            "text/html": [
              "<pre>| Iteration | Passes   | Elapsed Time | Training Max Error | Validation Max Error | Training Root-Mean-Square Error | Validation Root-Mean-Square Error |</pre>"
            ]
          },
          "metadata": {
            "tags": []
          }
        },
        {
          "output_type": "display_data",
          "data": {
            "text/plain": [
              "+-----------+----------+--------------+--------------------+----------------------+---------------------------------+-----------------------------------+"
            ],
            "text/html": [
              "<pre>+-----------+----------+--------------+--------------------+----------------------+---------------------------------+-----------------------------------+</pre>"
            ]
          },
          "metadata": {
            "tags": []
          }
        },
        {
          "output_type": "display_data",
          "data": {
            "text/plain": [
              "| 1         | 2        | 1.003542     | 4385376.596478     | 2921172.824434       | 260430.319143                   | 307141.430009                     |"
            ],
            "text/html": [
              "<pre>| 1         | 2        | 1.003542     | 4385376.596478     | 2921172.824434       | 260430.319143                   | 307141.430009                     |</pre>"
            ]
          },
          "metadata": {
            "tags": []
          }
        },
        {
          "output_type": "display_data",
          "data": {
            "text/plain": [
              "+-----------+----------+--------------+--------------------+----------------------+---------------------------------+-----------------------------------+"
            ],
            "text/html": [
              "<pre>+-----------+----------+--------------+--------------------+----------------------+---------------------------------+-----------------------------------+</pre>"
            ]
          },
          "metadata": {
            "tags": []
          }
        },
        {
          "output_type": "display_data",
          "data": {
            "text/plain": [
              "SUCCESS: Optimal solution found."
            ],
            "text/html": [
              "<pre>SUCCESS: Optimal solution found.</pre>"
            ]
          },
          "metadata": {
            "tags": []
          }
        },
        {
          "output_type": "display_data",
          "data": {
            "text/plain": [
              ""
            ],
            "text/html": [
              "<pre></pre>"
            ]
          },
          "metadata": {
            "tags": []
          }
        }
      ]
    },
    {
      "cell_type": "markdown",
      "metadata": {
        "id": "OqgxS_5vNM1-",
        "colab_type": "text"
      },
      "source": [
        "# Evaluate the quality of our model"
      ]
    },
    {
      "cell_type": "code",
      "metadata": {
        "id": "NJS64ypdNM1_",
        "colab_type": "code",
        "colab": {
          "base_uri": "https://localhost:8080/",
          "height": 34
        },
        "outputId": "aeba5fa2-c08a-46d7-ce4d-441e7114454c"
      },
      "source": [
        "print (test_set['price'].mean())"
      ],
      "execution_count": null,
      "outputs": [
        {
          "output_type": "stream",
          "text": [
            "543054.042563\n"
          ],
          "name": "stdout"
        }
      ]
    },
    {
      "cell_type": "code",
      "metadata": {
        "id": "lq8l7kFtNM2D",
        "colab_type": "code",
        "colab": {
          "base_uri": "https://localhost:8080/",
          "height": 34
        },
        "outputId": "a9e26637-20aa-4932-e5bb-4806ada5ffbc"
      },
      "source": [
        "print (sqft_model.evaluate(test_set))"
      ],
      "execution_count": null,
      "outputs": [
        {
          "output_type": "stream",
          "text": [
            "{'max_error': 4171859.7282564295, 'rmse': 255149.43968298522}\n"
          ],
          "name": "stdout"
        }
      ]
    },
    {
      "cell_type": "markdown",
      "metadata": {
        "id": "bSuAJSo_NM2H",
        "colab_type": "text"
      },
      "source": [
        "# Explore model a little further"
      ]
    },
    {
      "cell_type": "code",
      "metadata": {
        "id": "yrmlNoiaNM2H",
        "colab_type": "code",
        "colab": {
          "base_uri": "https://localhost:8080/",
          "height": 93
        },
        "outputId": "59e109b0-8238-4cec-c66e-66726404bdc0"
      },
      "source": [
        "sqft_model.coefficients"
      ],
      "execution_count": null,
      "outputs": [
        {
          "output_type": "execute_result",
          "data": {
            "text/plain": [
              "Columns:\n",
              "\tname\tstr\n",
              "\tindex\tstr\n",
              "\tvalue\tfloat\n",
              "\tstderr\tfloat\n",
              "\n",
              "Rows: 2\n",
              "\n",
              "Data:\n",
              "+-------------+-------+----------------+---------------+\n",
              "|     name    | index |     value      |     stderr    |\n",
              "+-------------+-------+----------------+---------------+\n",
              "| (intercept) |  None | -40872.7714452 | 5011.96545937 |\n",
              "| sqft_living |  None |  278.46441286  | 2.20426977564 |\n",
              "+-------------+-------+----------------+---------------+\n",
              "[2 rows x 4 columns]"
            ],
            "text/html": [
              "<div style=\"max-height:1000px;max-width:1500px;overflow:auto;\"><table frame=\"box\" rules=\"cols\">\n",
              "    <tr>\n",
              "        <th style=\"padding-left: 1em; padding-right: 1em; text-align: center\">name</th>\n",
              "        <th style=\"padding-left: 1em; padding-right: 1em; text-align: center\">index</th>\n",
              "        <th style=\"padding-left: 1em; padding-right: 1em; text-align: center\">value</th>\n",
              "        <th style=\"padding-left: 1em; padding-right: 1em; text-align: center\">stderr</th>\n",
              "    </tr>\n",
              "    <tr>\n",
              "        <td style=\"padding-left: 1em; padding-right: 1em; text-align: center; vertical-align: top\">(intercept)</td>\n",
              "        <td style=\"padding-left: 1em; padding-right: 1em; text-align: center; vertical-align: top\">None</td>\n",
              "        <td style=\"padding-left: 1em; padding-right: 1em; text-align: center; vertical-align: top\">-40872.7714452</td>\n",
              "        <td style=\"padding-left: 1em; padding-right: 1em; text-align: center; vertical-align: top\">5011.96545937</td>\n",
              "    </tr>\n",
              "    <tr>\n",
              "        <td style=\"padding-left: 1em; padding-right: 1em; text-align: center; vertical-align: top\">sqft_living</td>\n",
              "        <td style=\"padding-left: 1em; padding-right: 1em; text-align: center; vertical-align: top\">None</td>\n",
              "        <td style=\"padding-left: 1em; padding-right: 1em; text-align: center; vertical-align: top\">278.46441286</td>\n",
              "        <td style=\"padding-left: 1em; padding-right: 1em; text-align: center; vertical-align: top\">2.20426977564</td>\n",
              "    </tr>\n",
              "</table>\n",
              "[2 rows x 4 columns]<br/>\n",
              "</div>"
            ]
          },
          "metadata": {
            "tags": []
          },
          "execution_count": 13
        }
      ]
    },
    {
      "cell_type": "code",
      "metadata": {
        "id": "PVp3MkjpNM2M",
        "colab_type": "code",
        "colab": {
          "base_uri": "https://localhost:8080/",
          "height": 303
        },
        "outputId": "ba9601c6-a6e3-44ab-f2e7-e37a93e662b5"
      },
      "source": [
        "import matplotlib.pyplot as plt\n",
        "%matplotlib inline\n",
        "plt.plot(test_set['sqft_living'],test_set['price'],'.',\n",
        "        test_set['sqft_living'],sqft_model.predict(test_set),'-')"
      ],
      "execution_count": null,
      "outputs": [
        {
          "output_type": "execute_result",
          "data": {
            "text/plain": [
              "[<matplotlib.lines.Line2D at 0x7f4780a04790>,\n",
              " <matplotlib.lines.Line2D at 0x7f478094fc10>]"
            ]
          },
          "metadata": {
            "tags": []
          },
          "execution_count": 14
        },
        {
          "output_type": "display_data",
          "data": {
            "image/png": "[encoded data removed]",
            "text/plain": [
              "<Figure size 432x288 with 1 Axes>"
            ]
          },
          "metadata": {
            "tags": [],
            "needs_background": "light"
          }
        }
      ]
    },
    {
      "cell_type": "markdown",
      "metadata": {
        "id": "SxgsSY0NNM2Q",
        "colab_type": "text"
      },
      "source": [
        "# Explore other features of the data"
      ]
    },
    {
      "cell_type": "code",
      "metadata": {
        "id": "RNh2lz5wNM2R",
        "colab_type": "code",
        "colab": {}
      },
      "source": [
        "my_features = ['bedrooms','bathrooms','sqft_living','sqft_lot','floors','zipcode']"
      ],
      "execution_count": null,
      "outputs": []
    },
    {
      "cell_type": "code",
      "metadata": {
        "id": "R7WHpMfSNM2U",
        "colab_type": "code",
        "colab": {
          "base_uri": "https://localhost:8080/",
          "height": 1000
        },
        "outputId": "52cb50d0-fc62-4090-ffd5-8e17c9cdc09c"
      },
      "source": [
        "sales[my_features].show()"
      ],
      "execution_count": null,
      "outputs": [
        {
          "output_type": "display_data",
          "data": {
            "text/plain": [
              "Materializing SFrame"
            ],
            "text/html": [
              "<pre>Materializing SFrame</pre>"
            ]
          },
          "metadata": {
            "tags": []
          }
        },
        {
          "output_type": "display_data",
          "data": {
            "text/plain": [
              "<IPython.core.display.HTML object>"
            ],
            "text/html": [
              "<html>                 <body>                     <iframe style=\"border:0;margin:0\" width=\"1000\" height=\"2100\" srcdoc='<html lang=\"en\">                         <head>                             <script src=\"https://cdnjs.cloudflare.com/ajax/libs/vega/5.4.0/vega.js\"></script>                             <script src=\"https://cdnjs.cloudflare.com/ajax/libs/vega-embed/4.0.0/vega-embed.js\"></script>                             <script src=\"https://cdnjs.cloudflare.com/ajax/libs/vega-tooltip/0.5.1/vega-tooltip.min.js\"></script>                             <link rel=\"stylesheet\" type=\"text/css\" href=\"https://cdnjs.cloudflare.com/ajax/libs/vega-tooltip/0.5.1/vega-tooltip.min.css\">                             <style>                             .vega-actions > a{                                 color:white;                                 text-decoration: none;                                 font-family: \"Arial\";                                 cursor:pointer;                                 padding:5px;                                 background:#AAAAAA;                                 border-radius:4px;                                 padding-left:10px;                                 padding-right:10px;                                 margin-right:5px;                             }                             .vega-actions{                                 margin-top:20px;                                 text-align:center                             }                            .vega-actions > a{                                 background:#999999;                            }                             </style>                         </head>                         <body>                             <div id=\"vis\">                             </div>                             <script>                                 var vega_json = \"{\\\"config\\\": {\\\"style\\\": {\\\"rect\\\": {\\\"stroke\\\": \\\"rgba(200, 200, 200, 0.5)\\\"}, \\\"group-title\\\": {\\\"fontWeight\\\": \\\"normal\\\", \\\"font\\\": \\\"HelveticaNeue-Light, Arial\\\", \\\"fontSize\\\": 20, \\\"fill\\\": \\\"#595959\\\"}}, \\\"axisY\\\": {\\\"minExtent\\\": 30}, \\\"axis\\\": {\\\"titlePadding\\\": 9, \\\"labelPadding\\\": 10, \\\"labelFont\\\": \\\"HelveticaNeue-Light, Arial\\\", \\\"labelFontSize\\\": 7, \\\"labelColor\\\": \\\"#595959\\\", \\\"titleFont\\\": \\\"HelveticaNeue-Light, Arial\\\", \\\"titleFontSize\\\": 12, \\\"titleColor\\\": \\\"#595959\\\", \\\"titleFontWeight\\\": \\\"normal\\\"}}, \\\"height\\\": 1880, \\\"padding\\\": 8, \\\"width\\\": 800, \\\"marks\\\": [{\\\"encode\\\": {\\\"enter\\\": {\\\"strokeWidth\\\": {\\\"value\\\": 0}, \\\"clip\\\": {\\\"value\\\": 0}, \\\"height\\\": {\\\"value\\\": 366}, \\\"width\\\": {\\\"value\\\": 734}, \\\"stroke\\\": {\\\"value\\\": \\\"#000000\\\"}, \\\"fillOpacity\\\": {\\\"value\\\": 0}, \\\"y\\\": {\\\"value\\\": 0}, \\\"x\\\": {\\\"value\\\": 0}, \\\"fill\\\": {\\\"value\\\": \\\"#ffffff\\\"}}}, \\\"type\\\": \\\"group\\\", \\\"marks\\\": [{\\\"encode\\\": {\\\"enter\\\": {\\\"strokeWidth\\\": {\\\"value\\\": 0}, \\\"clip\\\": {\\\"value\\\": 0}, \\\"height\\\": {\\\"value\\\": 366}, \\\"width\\\": {\\\"value\\\": 734}, \\\"stroke\\\": {\\\"value\\\": \\\"#000000\\\"}, \\\"fillOpacity\\\": {\\\"value\\\": 0}, \\\"y\\\": {\\\"value\\\": 0}, \\\"x\\\": {\\\"value\\\": 0}, \\\"fill\\\": {\\\"value\\\": \\\"#ffffff\\\"}}}, \\\"marks\\\": [{\\\"encode\\\": {\\\"update\\\": {\\\"y\\\": {\\\"field\\\": \\\"c_main_background\\\"}, \\\"x\\\": {\\\"signal\\\": \\\"datum[\\\\\\\"c_x_axis_back\\\\\\\"]\\\"}}, \\\"enter\\\": {\\\"strokeWidth\\\": {\\\"value\\\": 0.5}, \\\"height\\\": {\\\"value\\\": 250}, \\\"width\\\": {\\\"value\\\": 700}, \\\"stroke\\\": {\\\"value\\\": \\\"#DEDEDE\\\"}, \\\"fillOpacity\\\": {\\\"value\\\": 1}, \\\"y\\\": {\\\"value\\\": 66}, \\\"x\\\": {\\\"value\\\": 33}, \\\"fill\\\": {\\\"value\\\": \\\"#FEFEFE\\\"}}}, \\\"type\\\": \\\"rect\\\", \\\"from\\\": {\\\"data\\\": \\\"data_2\\\"}}, {\\\"encode\\\": {\\\"update\\\": {\\\"y\\\": {\\\"field\\\": \\\"c_top_bar\\\"}, \\\"x\\\": {\\\"signal\\\": \\\"datum[\\\\\\\"c_x_axis_back\\\\\\\"]\\\"}}, \\\"enter\\\": {\\\"strokeWidth\\\": {\\\"value\\\": 0.5}, \\\"height\\\": {\\\"value\\\": 30}, \\\"width\\\": {\\\"value\\\": 700}, \\\"stroke\\\": {\\\"value\\\": \\\"#DEDEDE\\\"}, \\\"fillOpacity\\\": {\\\"value\\\": 1}, \\\"y\\\": {\\\"value\\\": 43}, \\\"x\\\": {\\\"value\\\": 33}, \\\"fill\\\": {\\\"value\\\": \\\"#F5F5F5\\\"}}}, \\\"type\\\": \\\"rect\\\", \\\"from\\\": {\\\"data\\\": \\\"data_2\\\"}}, {\\\"encode\\\": {\\\"update\\\": {\\\"y\\\": {\\\"field\\\": \\\"c_top_type\\\"}, \\\"x\\\": {\\\"signal\\\": \\\"datum[\\\\\\\"c_x_axis_back\\\\\\\"]+687\\\"}}, \\\"enter\\\": {\\\"fontStyle\\\": {\\\"value\\\": \\\"normal\\\"}, \\\"angle\\\": {\\\"value\\\": 0}, \\\"baseline\\\": {\\\"value\\\": \\\"middle\\\"}, \\\"text\\\": {\\\"signal\\\": \\\"&apos;&apos;+datum[\\\\\\\"type\\\\\\\"]\\\"}, \\\"align\\\": {\\\"value\\\": \\\"right\\\"}, \\\"fontWeight\\\": {\\\"value\\\": \\\"normal\\\"}, \\\"fontSize\\\": {\\\"value\\\": 12}, \\\"dx\\\": {\\\"value\\\": 0, \\\"offset\\\": 0}, \\\"dy\\\": {\\\"value\\\": 0, \\\"offset\\\": 0}, \\\"y\\\": {\\\"value\\\": 58}, \\\"x\\\": {\\\"value\\\": 720}, \\\"font\\\": {\\\"value\\\": \\\"AvenirNext-Medium\\\"}, \\\"fill\\\": {\\\"value\\\": \\\"#595859\\\"}}}, \\\"type\\\": \\\"text\\\", \\\"from\\\": {\\\"data\\\": \\\"data_2\\\"}}, {\\\"encode\\\": {\\\"update\\\": {\\\"y\\\": {\\\"field\\\": \\\"c_top_title\\\"}, \\\"x\\\": {\\\"signal\\\": \\\"datum[\\\\\\\"c_x_axis_back\\\\\\\"]+11\\\"}}, \\\"enter\\\": {\\\"fontStyle\\\": {\\\"value\\\": \\\"normal\\\"}, \\\"angle\\\": {\\\"value\\\": 0}, \\\"baseline\\\": {\\\"value\\\": \\\"middle\\\"}, \\\"text\\\": {\\\"signal\\\": \\\"&apos;&apos;+datum[\\\\\\\"title\\\\\\\"]\\\"}, \\\"align\\\": {\\\"value\\\": \\\"left\\\"}, \\\"fontWeight\\\": {\\\"value\\\": \\\"normal\\\"}, \\\"fontSize\\\": {\\\"value\\\": 15}, \\\"dx\\\": {\\\"value\\\": 0, \\\"offset\\\": 0}, \\\"dy\\\": {\\\"value\\\": 0, \\\"offset\\\": 0}, \\\"y\\\": {\\\"value\\\": 59}, \\\"x\\\": {\\\"value\\\": 44}, \\\"font\\\": {\\\"value\\\": \\\"AvenirNext-Medium\\\"}, \\\"fill\\\": {\\\"value\\\": \\\"#9B9B9B\\\"}}}, \\\"type\\\": \\\"text\\\", \\\"from\\\": {\\\"data\\\": \\\"data_2\\\"}}, {\\\"encode\\\": {\\\"update\\\": {\\\"x2\\\": {\\\"signal\\\": \\\"datum[\\\\\\\"c_x_axis_back\\\\\\\"]+687\\\"}, \\\"x\\\": {\\\"signal\\\": \\\"datum[\\\\\\\"c_x_axis_back\\\\\\\"]+467\\\"}, \\\"y2\\\": {\\\"field\\\": \\\"c_rule\\\"}, \\\"y\\\": {\\\"field\\\": \\\"c_rule\\\"}}, \\\"enter\\\": {\\\"strokeWidth\\\": {\\\"value\\\": 1}, \\\"strokeCap\\\": {\\\"value\\\": \\\"butt\\\"}, \\\"x2\\\": {\\\"value\\\": 720}, \\\"stroke\\\": {\\\"value\\\": \\\"#EDEDEB\\\"}, \\\"y\\\": {\\\"value\\\": 178}, \\\"x\\\": {\\\"value\\\": 500}, \\\"y2\\\": {\\\"value\\\": 178}}}, \\\"type\\\": \\\"rule\\\", \\\"from\\\": {\\\"data\\\": \\\"data_2\\\"}}, {\\\"encode\\\": {\\\"update\\\": {\\\"y\\\": {\\\"field\\\": \\\"c_num_rows\\\"}, \\\"x\\\": {\\\"signal\\\": \\\"datum[\\\\\\\"c_x_axis_back\\\\\\\"]+467\\\"}}, \\\"enter\\\": {\\\"fontStyle\\\": {\\\"value\\\": \\\"normal\\\"}, \\\"angle\\\": {\\\"value\\\": 0}, \\\"baseline\\\": {\\\"value\\\": \\\"middle\\\"}, \\\"text\\\": {\\\"value\\\": \\\"Num. Rows:\\\"}, \\\"align\\\": {\\\"value\\\": \\\"left\\\"}, \\\"fontWeight\\\": {\\\"value\\\": \\\"normal\\\"}, \\\"fontSize\\\": {\\\"value\\\": 12}, \\\"dx\\\": {\\\"value\\\": 0, \\\"offset\\\": 0}, \\\"dy\\\": {\\\"value\\\": 0, \\\"offset\\\": 0}, \\\"y\\\": {\\\"value\\\": 106}, \\\"x\\\": {\\\"value\\\": 500}, \\\"font\\\": {\\\"value\\\": \\\"AvenirNext-Medium\\\"}, \\\"fill\\\": {\\\"value\\\": \\\"#4A4A4A\\\"}}}, \\\"type\\\": \\\"text\\\", \\\"from\\\": {\\\"data\\\": \\\"data_2\\\"}}, {\\\"encode\\\": {\\\"update\\\": {\\\"y\\\": {\\\"field\\\": \\\"c_num_unique\\\"}, \\\"x\\\": {\\\"signal\\\": \\\"datum[\\\\\\\"c_x_axis_back\\\\\\\"]+467\\\"}}, \\\"enter\\\": {\\\"fontStyle\\\": {\\\"value\\\": \\\"normal\\\"}, \\\"angle\\\": {\\\"value\\\": 0}, \\\"baseline\\\": {\\\"value\\\": \\\"middle\\\"}, \\\"text\\\": {\\\"value\\\": \\\"Num. Unique:\\\"}, \\\"align\\\": {\\\"value\\\": \\\"left\\\"}, \\\"fontWeight\\\": {\\\"value\\\": \\\"normal\\\"}, \\\"fontSize\\\": {\\\"value\\\": 12}, \\\"dx\\\": {\\\"value\\\": 0, \\\"offset\\\": 0}, \\\"dy\\\": {\\\"value\\\": 0, \\\"offset\\\": 0}, \\\"y\\\": {\\\"value\\\": 130}, \\\"x\\\": {\\\"value\\\": 500}, \\\"font\\\": {\\\"value\\\": \\\"AvenirNext-Medium\\\"}, \\\"fill\\\": {\\\"value\\\": \\\"#4A4A4A\\\"}}}, \\\"type\\\": \\\"text\\\", \\\"from\\\": {\\\"data\\\": \\\"data_2\\\"}}, {\\\"encode\\\": {\\\"update\\\": {\\\"y\\\": {\\\"field\\\": \\\"c_missing\\\"}, \\\"x\\\": {\\\"signal\\\": \\\"datum[\\\\\\\"c_x_axis_back\\\\\\\"]+467\\\"}}, \\\"enter\\\": {\\\"fontStyle\\\": {\\\"value\\\": \\\"normal\\\"}, \\\"angle\\\": {\\\"value\\\": 0}, \\\"baseline\\\": {\\\"value\\\": \\\"middle\\\"}, \\\"text\\\": {\\\"value\\\": \\\"Missing:\\\"}, \\\"align\\\": {\\\"value\\\": \\\"left\\\"}, \\\"fontWeight\\\": {\\\"value\\\": \\\"normal\\\"}, \\\"fontSize\\\": {\\\"value\\\": 12}, \\\"dx\\\": {\\\"value\\\": 0, \\\"offset\\\": 0}, \\\"dy\\\": {\\\"value\\\": 0, \\\"offset\\\": 0}, \\\"y\\\": {\\\"value\\\": 154}, \\\"x\\\": {\\\"value\\\": 500}, \\\"font\\\": {\\\"value\\\": \\\"AvenirNext-Medium\\\"}, \\\"fill\\\": {\\\"value\\\": \\\"#4A4A4A\\\"}}}, \\\"type\\\": \\\"text\\\", \\\"from\\\": {\\\"data\\\": \\\"data_2\\\"}}, {\\\"encode\\\": {\\\"update\\\": {\\\"y\\\": {\\\"field\\\": \\\"c_num_rows_val\\\"}, \\\"x\\\": {\\\"signal\\\": \\\"datum[\\\\\\\"c_x_axis_back\\\\\\\"]+667\\\"}}, \\\"enter\\\": {\\\"fontStyle\\\": {\\\"value\\\": \\\"normal\\\"}, \\\"angle\\\": {\\\"value\\\": 0}, \\\"baseline\\\": {\\\"value\\\": \\\"middle\\\"}, \\\"text\\\": {\\\"signal\\\": \\\"toString(format(datum[\\\\\\\"num_row\\\\\\\"], \\\\\\\",\\\\\\\"))\\\"}, \\\"align\\\": {\\\"value\\\": \\\"right\\\"}, \\\"fontWeight\\\": {\\\"value\\\": \\\"normal\\\"}, \\\"fontSize\\\": {\\\"value\\\": 12}, \\\"dx\\\": {\\\"value\\\": 0, \\\"offset\\\": 0}, \\\"dy\\\": {\\\"value\\\": 0, \\\"offset\\\": 0}, \\\"y\\\": {\\\"value\\\": 105}, \\\"x\\\": {\\\"value\\\": 700}, \\\"font\\\": {\\\"value\\\": \\\"AvenirNext-Medium\\\"}, \\\"fill\\\": {\\\"value\\\": \\\"#5A5A5A\\\"}}}, \\\"type\\\": \\\"text\\\", \\\"from\\\": {\\\"data\\\": \\\"data_2\\\"}}, {\\\"encode\\\": {\\\"update\\\": {\\\"y\\\": {\\\"field\\\": \\\"c_num_unique_val\\\"}, \\\"x\\\": {\\\"signal\\\": \\\"datum[\\\\\\\"c_x_axis_back\\\\\\\"]+667\\\"}}, \\\"enter\\\": {\\\"fontStyle\\\": {\\\"value\\\": \\\"normal\\\"}, \\\"angle\\\": {\\\"value\\\": 0}, \\\"baseline\\\": {\\\"value\\\": \\\"middle\\\"}, \\\"text\\\": {\\\"signal\\\": \\\"toString(format(datum[\\\\\\\"num_unique\\\\\\\"], \\\\\\\",\\\\\\\"))\\\"}, \\\"align\\\": {\\\"value\\\": \\\"right\\\"}, \\\"fontWeight\\\": {\\\"value\\\": \\\"normal\\\"}, \\\"fontSize\\\": {\\\"value\\\": 12}, \\\"dx\\\": {\\\"value\\\": 0, \\\"offset\\\": 0}, \\\"dy\\\": {\\\"value\\\": 0, \\\"offset\\\": 0}, \\\"y\\\": {\\\"value\\\": 130}, \\\"x\\\": {\\\"value\\\": 700}, \\\"font\\\": {\\\"value\\\": \\\"AvenirNext-Medium\\\"}, \\\"fill\\\": {\\\"value\\\": \\\"#5A5A5A\\\"}}}, \\\"type\\\": \\\"text\\\", \\\"from\\\": {\\\"data\\\": \\\"data_2\\\"}}, {\\\"encode\\\": {\\\"update\\\": {\\\"y\\\": {\\\"field\\\": \\\"c_missing_val\\\"}, \\\"x\\\": {\\\"signal\\\": \\\"datum[\\\\\\\"c_x_axis_back\\\\\\\"]+667\\\"}}, \\\"enter\\\": {\\\"fontStyle\\\": {\\\"value\\\": \\\"normal\\\"}, \\\"angle\\\": {\\\"value\\\": 0}, \\\"baseline\\\": {\\\"value\\\": \\\"middle\\\"}, \\\"text\\\": {\\\"signal\\\": \\\"toString(format(datum[\\\\\\\"num_missing\\\\\\\"], \\\\\\\",\\\\\\\"))\\\"}, \\\"align\\\": {\\\"value\\\": \\\"right\\\"}, \\\"fontWeight\\\": {\\\"value\\\": \\\"normal\\\"}, \\\"fontSize\\\": {\\\"value\\\": 12}, \\\"dx\\\": {\\\"value\\\": 0, \\\"offset\\\": 0}, \\\"dy\\\": {\\\"value\\\": 0, \\\"offset\\\": 0}, \\\"y\\\": {\\\"value\\\": 154}, \\\"x\\\": {\\\"value\\\": 700}, \\\"font\\\": {\\\"value\\\": \\\"AvenirNext-Medium\\\"}, \\\"fill\\\": {\\\"value\\\": \\\"#5A5A5A\\\"}}}, \\\"type\\\": \\\"text\\\", \\\"from\\\": {\\\"data\\\": \\\"data_2\\\"}}, {\\\"encode\\\": {\\\"update\\\": {\\\"y\\\": {\\\"field\\\": \\\"c_frequent_items\\\"}, \\\"x\\\": {\\\"signal\\\": \\\"datum[\\\\\\\"c_x_axis_back\\\\\\\"]+467\\\"}}, \\\"enter\\\": {\\\"fontStyle\\\": {\\\"value\\\": \\\"normal\\\"}, \\\"angle\\\": {\\\"value\\\": 0}, \\\"baseline\\\": {\\\"value\\\": \\\"middle\\\"}, \\\"clip\\\": {\\\"value\\\": true}, \\\"text\\\": {\\\"signal\\\": \\\"(toString(datum[\\\\\\\"type\\\\\\\"]) == \\\\\\\"str\\\\\\\")? \\\\\\\"Frequent Items\\\\\\\":\\\\\\\"\\\\\\\"\\\"}, \\\"align\\\": {\\\"value\\\": \\\"left\\\"}, \\\"fontWeight\\\": {\\\"value\\\": \\\"bold\\\"}, \\\"fontSize\\\": {\\\"value\\\": 11}, \\\"dx\\\": {\\\"value\\\": 0, \\\"offset\\\": 0}, \\\"dy\\\": {\\\"value\\\": 0, \\\"offset\\\": 0}, \\\"y\\\": {\\\"value\\\": 200}, \\\"x\\\": {\\\"value\\\": 500}, \\\"font\\\": {\\\"value\\\": \\\"AvenirNext-Medium\\\"}, \\\"fill\\\": {\\\"value\\\": \\\"#4A4A4A\\\"}}}, \\\"type\\\": \\\"text\\\", \\\"from\\\": {\\\"data\\\": \\\"data_2\\\"}}, {\\\"encode\\\": {\\\"update\\\": {\\\"y\\\": {\\\"field\\\": \\\"c_first_item\\\"}, \\\"x\\\": {\\\"signal\\\": \\\"datum[\\\\\\\"c_x_axis_back\\\\\\\"]+487\\\"}}, \\\"enter\\\": {\\\"fontStyle\\\": {\\\"value\\\": \\\"normal\\\"}, \\\"angle\\\": {\\\"value\\\": 0}, \\\"baseline\\\": {\\\"value\\\": \\\"middle\\\"}, \\\"clip\\\": {\\\"value\\\": true}, \\\"text\\\": {\\\"signal\\\": \\\"((datum[\\\\\\\"categorical\\\\\\\"].length >= 1) &amp;&amp; (toString(datum[\\\\\\\"type\\\\\\\"]) == \\\\\\\"str\\\\\\\"))? toString(datum[\\\\\\\"categorical\\\\\\\"][0][\\\\\\\"label\\\\\\\"]):\\\\\\\"\\\\\\\"\\\"}, \\\"align\\\": {\\\"value\\\": \\\"left\\\"}, \\\"fontWeight\\\": {\\\"value\\\": \\\"normal\\\"}, \\\"fontSize\\\": {\\\"value\\\": 11}, \\\"dx\\\": {\\\"value\\\": 0, \\\"offset\\\": 0}, \\\"dy\\\": {\\\"value\\\": 0, \\\"offset\\\": 0}, \\\"y\\\": {\\\"value\\\": 200}, \\\"x\\\": {\\\"value\\\": 520}, \\\"font\\\": {\\\"value\\\": \\\"AvenirNext-Medium\\\"}, \\\"fill\\\": {\\\"value\\\": \\\"#4A4A4A\\\"}}}, \\\"type\\\": \\\"text\\\", \\\"from\\\": {\\\"data\\\": \\\"data_2\\\"}}, {\\\"encode\\\": {\\\"update\\\": {\\\"y\\\": {\\\"field\\\": \\\"c_second_item\\\"}, \\\"x\\\": {\\\"signal\\\": \\\"datum[\\\\\\\"c_x_axis_back\\\\\\\"]+487\\\"}}, \\\"enter\\\": {\\\"fontStyle\\\": {\\\"value\\\": \\\"normal\\\"}, \\\"angle\\\": {\\\"value\\\": 0}, \\\"baseline\\\": {\\\"value\\\": \\\"middle\\\"}, \\\"clip\\\": {\\\"value\\\": true}, \\\"text\\\": {\\\"signal\\\": \\\"((datum[\\\\\\\"categorical\\\\\\\"].length >= 2) &amp;&amp; (toString(datum[\\\\\\\"type\\\\\\\"]) == \\\\\\\"str\\\\\\\"))? toString(datum[\\\\\\\"categorical\\\\\\\"][1][\\\\\\\"label\\\\\\\"]):\\\\\\\"\\\\\\\"\\\"}, \\\"align\\\": {\\\"value\\\": \\\"left\\\"}, \\\"fontWeight\\\": {\\\"value\\\": \\\"normal\\\"}, \\\"fontSize\\\": {\\\"value\\\": 11}, \\\"dx\\\": {\\\"value\\\": 0, \\\"offset\\\": 0}, \\\"dy\\\": {\\\"value\\\": 0, \\\"offset\\\": 0}, \\\"y\\\": {\\\"value\\\": 200}, \\\"x\\\": {\\\"value\\\": 520}, \\\"font\\\": {\\\"value\\\": \\\"AvenirNext-Medium\\\"}, \\\"fill\\\": {\\\"value\\\": \\\"#4A4A4A\\\"}}}, \\\"type\\\": \\\"text\\\", \\\"from\\\": {\\\"data\\\": \\\"data_2\\\"}}, {\\\"encode\\\": {\\\"update\\\": {\\\"y\\\": {\\\"field\\\": \\\"c_third_item\\\"}, \\\"x\\\": {\\\"signal\\\": \\\"datum[\\\\\\\"c_x_axis_back\\\\\\\"]+487\\\"}}, \\\"enter\\\": {\\\"fontStyle\\\": {\\\"value\\\": \\\"normal\\\"}, \\\"angle\\\": {\\\"value\\\": 0}, \\\"baseline\\\": {\\\"value\\\": \\\"middle\\\"}, \\\"clip\\\": {\\\"value\\\": true}, \\\"text\\\": {\\\"signal\\\": \\\"((datum[\\\\\\\"categorical\\\\\\\"].length >= 3) &amp;&amp; (toString(datum[\\\\\\\"type\\\\\\\"]) == \\\\\\\"str\\\\\\\"))? toString(datum[\\\\\\\"categorical\\\\\\\"][2][\\\\\\\"label\\\\\\\"]):\\\\\\\"\\\\\\\"\\\"}, \\\"align\\\": {\\\"value\\\": \\\"left\\\"}, \\\"fontWeight\\\": {\\\"value\\\": \\\"normal\\\"}, \\\"fontSize\\\": {\\\"value\\\": 11}, \\\"dx\\\": {\\\"value\\\": 0, \\\"offset\\\": 0}, \\\"dy\\\": {\\\"value\\\": 0, \\\"offset\\\": 0}, \\\"y\\\": {\\\"value\\\": 200}, \\\"x\\\": {\\\"value\\\": 520}, \\\"font\\\": {\\\"value\\\": \\\"AvenirNext-Medium\\\"}, \\\"fill\\\": {\\\"value\\\": \\\"#4A4A4A\\\"}}}, \\\"type\\\": \\\"text\\\", \\\"from\\\": {\\\"data\\\": \\\"data_2\\\"}}, {\\\"encode\\\": {\\\"update\\\": {\\\"y\\\": {\\\"field\\\": \\\"c_fourth_item\\\"}, \\\"x\\\": {\\\"signal\\\": \\\"datum[\\\\\\\"c_x_axis_back\\\\\\\"]+487\\\"}}, \\\"enter\\\": {\\\"fontStyle\\\": {\\\"value\\\": \\\"normal\\\"}, \\\"angle\\\": {\\\"value\\\": 0}, \\\"baseline\\\": {\\\"value\\\": \\\"middle\\\"}, \\\"clip\\\": {\\\"value\\\": true}, \\\"text\\\": {\\\"signal\\\": \\\"((datum[\\\\\\\"categorical\\\\\\\"].length >= 4) &amp;&amp; (toString(datum[\\\\\\\"type\\\\\\\"]) == \\\\\\\"str\\\\\\\"))? toString(datum[\\\\\\\"categorical\\\\\\\"][3][\\\\\\\"label\\\\\\\"]):\\\\\\\"\\\\\\\"\\\"}, \\\"align\\\": {\\\"value\\\": \\\"left\\\"}, \\\"fontWeight\\\": {\\\"value\\\": \\\"normal\\\"}, \\\"fontSize\\\": {\\\"value\\\": 11}, \\\"dx\\\": {\\\"value\\\": 0, \\\"offset\\\": 0}, \\\"dy\\\": {\\\"value\\\": 0, \\\"offset\\\": 0}, \\\"y\\\": {\\\"value\\\": 200}, \\\"x\\\": {\\\"value\\\": 520}, \\\"font\\\": {\\\"value\\\": \\\"AvenirNext-Medium\\\"}, \\\"fill\\\": {\\\"value\\\": \\\"#4A4A4A\\\"}}}, \\\"type\\\": \\\"text\\\", \\\"from\\\": {\\\"data\\\": \\\"data_2\\\"}}, {\\\"encode\\\": {\\\"update\\\": {\\\"y\\\": {\\\"field\\\": \\\"c_fifth_item\\\"}, \\\"x\\\": {\\\"signal\\\": \\\"datum[\\\\\\\"c_x_axis_back\\\\\\\"]+487\\\"}}, \\\"enter\\\": {\\\"fontStyle\\\": {\\\"value\\\": \\\"normal\\\"}, \\\"angle\\\": {\\\"value\\\": 0}, \\\"baseline\\\": {\\\"value\\\": \\\"middle\\\"}, \\\"clip\\\": {\\\"value\\\": true}, \\\"text\\\": {\\\"signal\\\": \\\"((datum[\\\\\\\"categorical\\\\\\\"].length >= 5) &amp;&amp; (toString(datum[\\\\\\\"type\\\\\\\"]) == \\\\\\\"str\\\\\\\"))? toString(datum[\\\\\\\"categorical\\\\\\\"][4][\\\\\\\"label\\\\\\\"]):\\\\\\\"\\\\\\\"\\\"}, \\\"align\\\": {\\\"value\\\": \\\"left\\\"}, \\\"fontWeight\\\": {\\\"value\\\": \\\"normal\\\"}, \\\"fontSize\\\": {\\\"value\\\": 11}, \\\"dx\\\": {\\\"value\\\": 0, \\\"offset\\\": 0}, \\\"dy\\\": {\\\"value\\\": 0, \\\"offset\\\": 0}, \\\"y\\\": {\\\"value\\\": 200}, \\\"x\\\": {\\\"value\\\": 520}, \\\"font\\\": {\\\"value\\\": \\\"AvenirNext-Medium\\\"}, \\\"fill\\\": {\\\"value\\\": \\\"#4A4A4A\\\"}}}, \\\"type\\\": \\\"text\\\", \\\"from\\\": {\\\"data\\\": \\\"data_2\\\"}}, {\\\"encode\\\": {\\\"update\\\": {\\\"y\\\": {\\\"field\\\": \\\"c_first_item\\\"}, \\\"x\\\": {\\\"signal\\\": \\\"datum[\\\\\\\"c_x_axis_back\\\\\\\"]+667\\\"}}, \\\"enter\\\": {\\\"fontStyle\\\": {\\\"value\\\": \\\"normal\\\"}, \\\"angle\\\": {\\\"value\\\": 0}, \\\"baseline\\\": {\\\"value\\\": \\\"middle\\\"}, \\\"clip\\\": {\\\"value\\\": true}, \\\"text\\\": {\\\"signal\\\": \\\"((datum[\\\\\\\"categorical\\\\\\\"].length >= 1) &amp;&amp; (toString(datum[\\\\\\\"type\\\\\\\"]) == \\\\\\\"str\\\\\\\"))? toString(datum[\\\\\\\"categorical\\\\\\\"][0][\\\\\\\"count\\\\\\\"]):\\\\\\\"\\\\\\\"\\\"}, \\\"align\\\": {\\\"value\\\": \\\"right\\\"}, \\\"fontWeight\\\": {\\\"value\\\": \\\"normal\\\"}, \\\"fontSize\\\": {\\\"value\\\": 11}, \\\"dx\\\": {\\\"value\\\": 0, \\\"offset\\\": 0}, \\\"dy\\\": {\\\"value\\\": 0, \\\"offset\\\": 0}, \\\"y\\\": {\\\"value\\\": 200}, \\\"x\\\": {\\\"value\\\": 700}, \\\"font\\\": {\\\"value\\\": \\\"AvenirNext-Medium\\\"}, \\\"fill\\\": {\\\"value\\\": \\\"#7A7A7A\\\"}}}, \\\"type\\\": \\\"text\\\", \\\"from\\\": {\\\"data\\\": \\\"data_2\\\"}}, {\\\"encode\\\": {\\\"update\\\": {\\\"y\\\": {\\\"field\\\": \\\"c_second_item\\\"}, \\\"x\\\": {\\\"signal\\\": \\\"datum[\\\\\\\"c_x_axis_back\\\\\\\"]+667\\\"}}, \\\"enter\\\": {\\\"fontStyle\\\": {\\\"value\\\": \\\"normal\\\"}, \\\"angle\\\": {\\\"value\\\": 0}, \\\"baseline\\\": {\\\"value\\\": \\\"middle\\\"}, \\\"clip\\\": {\\\"value\\\": true}, \\\"text\\\": {\\\"signal\\\": \\\"((datum[\\\\\\\"categorical\\\\\\\"].length >= 2) &amp;&amp; (toString(datum[\\\\\\\"type\\\\\\\"]) == \\\\\\\"str\\\\\\\"))? toString(datum[\\\\\\\"categorical\\\\\\\"][1][\\\\\\\"count\\\\\\\"]):\\\\\\\"\\\\\\\"\\\"}, \\\"align\\\": {\\\"value\\\": \\\"right\\\"}, \\\"fontWeight\\\": {\\\"value\\\": \\\"normal\\\"}, \\\"fontSize\\\": {\\\"value\\\": 10}, \\\"dx\\\": {\\\"value\\\": 0, \\\"offset\\\": 0}, \\\"dy\\\": {\\\"value\\\": 0, \\\"offset\\\": 0}, \\\"y\\\": {\\\"value\\\": 200}, \\\"x\\\": {\\\"value\\\": 700}, \\\"font\\\": {\\\"value\\\": \\\"AvenirNext-Medium\\\"}, \\\"fill\\\": {\\\"value\\\": \\\"#7A7A7A\\\"}}}, \\\"type\\\": \\\"text\\\", \\\"from\\\": {\\\"data\\\": \\\"data_2\\\"}}, {\\\"encode\\\": {\\\"update\\\": {\\\"y\\\": {\\\"field\\\": \\\"c_third_item\\\"}, \\\"x\\\": {\\\"signal\\\": \\\"datum[\\\\\\\"c_x_axis_back\\\\\\\"]+667\\\"}}, \\\"enter\\\": {\\\"fontStyle\\\": {\\\"value\\\": \\\"normal\\\"}, \\\"angle\\\": {\\\"value\\\": 0}, \\\"baseline\\\": {\\\"value\\\": \\\"middle\\\"}, \\\"clip\\\": {\\\"value\\\": true}, \\\"text\\\": {\\\"signal\\\": \\\"((datum[\\\\\\\"categorical\\\\\\\"].length >= 3) &amp;&amp; (toString(datum[\\\\\\\"type\\\\\\\"]) == \\\\\\\"str\\\\\\\"))? toString(datum[\\\\\\\"categorical\\\\\\\"][2][\\\\\\\"count\\\\\\\"]):\\\\\\\"\\\\\\\"\\\"}, \\\"align\\\": {\\\"value\\\": \\\"right\\\"}, \\\"fontWeight\\\": {\\\"value\\\": \\\"normal\\\"}, \\\"fontSize\\\": {\\\"value\\\": 10}, \\\"dx\\\": {\\\"value\\\": 0, \\\"offset\\\": 0}, \\\"dy\\\": {\\\"value\\\": 0, \\\"offset\\\": 0}, \\\"y\\\": {\\\"value\\\": 200}, \\\"x\\\": {\\\"value\\\": 700}, \\\"font\\\": {\\\"value\\\": \\\"AvenirNext-Medium\\\"}, \\\"fill\\\": {\\\"value\\\": \\\"#7A7A7A\\\"}}}, \\\"type\\\": \\\"text\\\", \\\"from\\\": {\\\"data\\\": \\\"data_2\\\"}}, {\\\"encode\\\": {\\\"update\\\": {\\\"y\\\": {\\\"field\\\": \\\"c_fourth_item\\\"}, \\\"x\\\": {\\\"signal\\\": \\\"datum[\\\\\\\"c_x_axis_back\\\\\\\"]+667\\\"}}, \\\"enter\\\": {\\\"fontStyle\\\": {\\\"value\\\": \\\"normal\\\"}, \\\"angle\\\": {\\\"value\\\": 0}, \\\"baseline\\\": {\\\"value\\\": \\\"middle\\\"}, \\\"clip\\\": {\\\"value\\\": true}, \\\"text\\\": {\\\"signal\\\": \\\"((datum[\\\\\\\"categorical\\\\\\\"].length >= 4) &amp;&amp; (toString(datum[\\\\\\\"type\\\\\\\"]) == \\\\\\\"str\\\\\\\"))? toString(datum[\\\\\\\"categorical\\\\\\\"][3][\\\\\\\"count\\\\\\\"]):\\\\\\\"\\\\\\\"\\\"}, \\\"align\\\": {\\\"value\\\": \\\"right\\\"}, \\\"fontWeight\\\": {\\\"value\\\": \\\"normal\\\"}, \\\"fontSize\\\": {\\\"value\\\": 10}, \\\"dx\\\": {\\\"value\\\": 0, \\\"offset\\\": 0}, \\\"dy\\\": {\\\"value\\\": 0, \\\"offset\\\": 0}, \\\"y\\\": {\\\"value\\\": 200}, \\\"x\\\": {\\\"value\\\": 700}, \\\"font\\\": {\\\"value\\\": \\\"AvenirNext-Medium\\\"}, \\\"fill\\\": {\\\"value\\\": \\\"#7A7A7A\\\"}}}, \\\"type\\\": \\\"text\\\", \\\"from\\\": {\\\"data\\\": \\\"data_2\\\"}}, {\\\"encode\\\": {\\\"update\\\": {\\\"y\\\": {\\\"field\\\": \\\"c_fifth_item\\\"}, \\\"x\\\": {\\\"signal\\\": \\\"datum[\\\\\\\"c_x_axis_back\\\\\\\"]+667\\\"}}, \\\"enter\\\": {\\\"fontStyle\\\": {\\\"value\\\": \\\"normal\\\"}, \\\"angle\\\": {\\\"value\\\": 0}, \\\"baseline\\\": {\\\"value\\\": \\\"middle\\\"}, \\\"clip\\\": {\\\"value\\\": true}, \\\"text\\\": {\\\"signal\\\": \\\"((datum[\\\\\\\"categorical\\\\\\\"].length >= 5) &amp;&amp; (toString(datum[\\\\\\\"type\\\\\\\"]) == \\\\\\\"str\\\\\\\"))? toString(datum[\\\\\\\"categorical\\\\\\\"][4][\\\\\\\"count\\\\\\\"]):\\\\\\\"\\\\\\\"\\\"}, \\\"align\\\": {\\\"value\\\": \\\"right\\\"}, \\\"fontWeight\\\": {\\\"value\\\": \\\"normal\\\"}, \\\"fontSize\\\": {\\\"value\\\": 10}, \\\"dx\\\": {\\\"value\\\": 0, \\\"offset\\\": 0}, \\\"dy\\\": {\\\"value\\\": 0, \\\"offset\\\": 0}, \\\"y\\\": {\\\"value\\\": 200}, \\\"x\\\": {\\\"value\\\": 700}, \\\"font\\\": {\\\"value\\\": \\\"AvenirNext-Medium\\\"}, \\\"fill\\\": {\\\"value\\\": \\\"#7A7A7A\\\"}}}, \\\"type\\\": \\\"text\\\", \\\"from\\\": {\\\"data\\\": \\\"data_2\\\"}}, {\\\"encode\\\": {\\\"update\\\": {\\\"y\\\": {\\\"field\\\": \\\"c_mean\\\"}, \\\"x\\\": {\\\"signal\\\": \\\"datum[\\\\\\\"c_x_axis_back\\\\\\\"]+467\\\"}}, \\\"enter\\\": {\\\"fontStyle\\\": {\\\"value\\\": \\\"normal\\\"}, \\\"angle\\\": {\\\"value\\\": 0}, \\\"baseline\\\": {\\\"value\\\": \\\"middle\\\"}, \\\"clip\\\": {\\\"value\\\": true}, \\\"text\\\": {\\\"signal\\\": \\\"(toString(datum[\\\\\\\"type\\\\\\\"]) == \\\\\\\"integer\\\\\\\" || toString(datum[\\\\\\\"type\\\\\\\"]) == \\\\\\\"float\\\\\\\")? \\\\\\\"Mean:\\\\\\\":\\\\\\\"\\\\\\\"\\\"}, \\\"align\\\": {\\\"value\\\": \\\"left\\\"}, \\\"fontWeight\\\": {\\\"value\\\": \\\"bold\\\"}, \\\"fontSize\\\": {\\\"value\\\": 11}, \\\"dx\\\": {\\\"value\\\": 0, \\\"offset\\\": 0}, \\\"dy\\\": {\\\"value\\\": 0, \\\"offset\\\": 0}, \\\"y\\\": {\\\"value\\\": 200}, \\\"x\\\": {\\\"value\\\": 500}, \\\"font\\\": {\\\"value\\\": \\\"AvenirNext-Medium\\\"}, \\\"fill\\\": {\\\"value\\\": \\\"#4A4A4A\\\"}}}, \\\"type\\\": \\\"text\\\", \\\"from\\\": {\\\"data\\\": \\\"data_2\\\"}}, {\\\"encode\\\": {\\\"update\\\": {\\\"y\\\": {\\\"field\\\": \\\"c_min\\\"}, \\\"x\\\": {\\\"signal\\\": \\\"datum[\\\\\\\"c_x_axis_back\\\\\\\"]+467\\\"}}, \\\"enter\\\": {\\\"fontStyle\\\": {\\\"value\\\": \\\"normal\\\"}, \\\"angle\\\": {\\\"value\\\": 0}, \\\"baseline\\\": {\\\"value\\\": \\\"middle\\\"}, \\\"text\\\": {\\\"signal\\\": \\\"(toString(datum[\\\\\\\"type\\\\\\\"]) == \\\\\\\"integer\\\\\\\" || toString(datum[\\\\\\\"type\\\\\\\"]) == \\\\\\\"float\\\\\\\")? \\\\\\\"Min:\\\\\\\":\\\\\\\"\\\\\\\"\\\"}, \\\"align\\\": {\\\"value\\\": \\\"left\\\"}, \\\"fontWeight\\\": {\\\"value\\\": \\\"bold\\\"}, \\\"fontSize\\\": {\\\"value\\\": 11}, \\\"dx\\\": {\\\"value\\\": 0, \\\"offset\\\": 0}, \\\"dy\\\": {\\\"value\\\": 0, \\\"offset\\\": 0}, \\\"y\\\": {\\\"value\\\": 220}, \\\"x\\\": {\\\"value\\\": 500}, \\\"font\\\": {\\\"value\\\": \\\"AvenirNext-Medium\\\"}, \\\"fill\\\": {\\\"value\\\": \\\"#4A4A4A\\\"}}}, \\\"type\\\": \\\"text\\\", \\\"from\\\": {\\\"data\\\": \\\"data_2\\\"}}, {\\\"encode\\\": {\\\"update\\\": {\\\"y\\\": {\\\"field\\\": \\\"c_max\\\"}, \\\"x\\\": {\\\"signal\\\": \\\"datum[\\\\\\\"c_x_axis_back\\\\\\\"]+467\\\"}}, \\\"enter\\\": {\\\"fontStyle\\\": {\\\"value\\\": \\\"normal\\\"}, \\\"angle\\\": {\\\"value\\\": 0}, \\\"baseline\\\": {\\\"value\\\": \\\"middle\\\"}, \\\"text\\\": {\\\"signal\\\": \\\"(toString(datum[\\\\\\\"type\\\\\\\"]) == \\\\\\\"integer\\\\\\\" || toString(datum[\\\\\\\"type\\\\\\\"]) == \\\\\\\"float\\\\\\\")? \\\\\\\"Max:\\\\\\\":\\\\\\\"\\\\\\\"\\\"}, \\\"align\\\": {\\\"value\\\": \\\"left\\\"}, \\\"fontWeight\\\": {\\\"value\\\": \\\"bold\\\"}, \\\"fontSize\\\": {\\\"value\\\": 11}, \\\"dx\\\": {\\\"value\\\": 0, \\\"offset\\\": 0}, \\\"dy\\\": {\\\"value\\\": 0, \\\"offset\\\": 0}, \\\"y\\\": {\\\"value\\\": 240}, \\\"x\\\": {\\\"value\\\": 500}, \\\"font\\\": {\\\"value\\\": \\\"AvenirNext-Medium\\\"}, \\\"fill\\\": {\\\"value\\\": \\\"#4A4A4A\\\"}}}, \\\"type\\\": \\\"text\\\", \\\"from\\\": {\\\"data\\\": \\\"data_2\\\"}}, {\\\"encode\\\": {\\\"update\\\": {\\\"y\\\": {\\\"field\\\": \\\"c_median\\\"}, \\\"x\\\": {\\\"signal\\\": \\\"datum[\\\\\\\"c_x_axis_back\\\\\\\"]+467\\\"}}, \\\"enter\\\": {\\\"fontStyle\\\": {\\\"value\\\": \\\"normal\\\"}, \\\"angle\\\": {\\\"value\\\": 0}, \\\"baseline\\\": {\\\"value\\\": \\\"middle\\\"}, \\\"text\\\": {\\\"signal\\\": \\\"(toString(datum[\\\\\\\"type\\\\\\\"]) == \\\\\\\"integer\\\\\\\" || toString(datum[\\\\\\\"type\\\\\\\"]) == \\\\\\\"float\\\\\\\")? \\\\\\\"Median:\\\\\\\":\\\\\\\"\\\\\\\"\\\"}, \\\"align\\\": {\\\"value\\\": \\\"left\\\"}, \\\"fontWeight\\\": {\\\"value\\\": \\\"bold\\\"}, \\\"fontSize\\\": {\\\"value\\\": 11}, \\\"dx\\\": {\\\"value\\\": 0, \\\"offset\\\": 0}, \\\"dy\\\": {\\\"value\\\": 0, \\\"offset\\\": 0}, \\\"y\\\": {\\\"value\\\": 260}, \\\"x\\\": {\\\"value\\\": 500}, \\\"font\\\": {\\\"value\\\": \\\"AvenirNext-Medium\\\"}, \\\"fill\\\": {\\\"value\\\": \\\"#4A4A4A\\\"}}}, \\\"type\\\": \\\"text\\\", \\\"from\\\": {\\\"data\\\": \\\"data_2\\\"}}, {\\\"encode\\\": {\\\"update\\\": {\\\"y\\\": {\\\"field\\\": \\\"c_stdev\\\"}, \\\"x\\\": {\\\"signal\\\": \\\"datum[\\\\\\\"c_x_axis_back\\\\\\\"]+467\\\"}}, \\\"enter\\\": {\\\"fontStyle\\\": {\\\"value\\\": \\\"normal\\\"}, \\\"angle\\\": {\\\"value\\\": 0}, \\\"baseline\\\": {\\\"value\\\": \\\"middle\\\"}, \\\"text\\\": {\\\"signal\\\": \\\"(toString(datum[\\\\\\\"type\\\\\\\"]) == \\\\\\\"integer\\\\\\\" || toString(datum[\\\\\\\"type\\\\\\\"]) == \\\\\\\"float\\\\\\\")? \\\\\\\"St. Dev:\\\\\\\":\\\\\\\"\\\\\\\"\\\"}, \\\"align\\\": {\\\"value\\\": \\\"left\\\"}, \\\"fontWeight\\\": {\\\"value\\\": \\\"bold\\\"}, \\\"fontSize\\\": {\\\"value\\\": 11}, \\\"dx\\\": {\\\"value\\\": 0, \\\"offset\\\": 0}, \\\"dy\\\": {\\\"value\\\": 0, \\\"offset\\\": 0}, \\\"y\\\": {\\\"value\\\": 280}, \\\"x\\\": {\\\"value\\\": 500}, \\\"font\\\": {\\\"value\\\": \\\"AvenirNext-Medium\\\"}, \\\"fill\\\": {\\\"value\\\": \\\"#4A4A4A\\\"}}}, \\\"type\\\": \\\"text\\\", \\\"from\\\": {\\\"data\\\": \\\"data_2\\\"}}, {\\\"encode\\\": {\\\"update\\\": {\\\"y\\\": {\\\"field\\\": \\\"c_mean_val\\\"}, \\\"x\\\": {\\\"signal\\\": \\\"datum[\\\\\\\"c_x_axis_back\\\\\\\"]+667\\\"}}, \\\"enter\\\": {\\\"fontStyle\\\": {\\\"value\\\": \\\"normal\\\"}, \\\"angle\\\": {\\\"value\\\": 0}, \\\"baseline\\\": {\\\"value\\\": \\\"middle\\\"}, \\\"text\\\": {\\\"signal\\\": \\\"(toString(datum[\\\\\\\"type\\\\\\\"]) == \\\\\\\"integer\\\\\\\" || toString(datum[\\\\\\\"type\\\\\\\"]) == \\\\\\\"float\\\\\\\")?toString(format(datum[\\\\\\\"mean\\\\\\\"], \\\\\\\",\\\\\\\")):\\\\\\\"\\\\\\\"\\\"}, \\\"align\\\": {\\\"value\\\": \\\"right\\\"}, \\\"fontWeight\\\": {\\\"value\\\": \\\"normal\\\"}, \\\"fontSize\\\": {\\\"value\\\": 10}, \\\"dx\\\": {\\\"value\\\": 0, \\\"offset\\\": 0}, \\\"dy\\\": {\\\"value\\\": 0, \\\"offset\\\": 0}, \\\"y\\\": {\\\"value\\\": 198}, \\\"x\\\": {\\\"value\\\": 700}, \\\"font\\\": {\\\"value\\\": \\\"AvenirNext-Medium\\\"}, \\\"fill\\\": {\\\"value\\\": \\\"#6A6A6A\\\"}}}, \\\"type\\\": \\\"text\\\", \\\"from\\\": {\\\"data\\\": \\\"data_2\\\"}}, {\\\"encode\\\": {\\\"update\\\": {\\\"y\\\": {\\\"field\\\": \\\"c_min_val\\\"}, \\\"x\\\": {\\\"signal\\\": \\\"datum[\\\\\\\"c_x_axis_back\\\\\\\"]+667\\\"}}, \\\"enter\\\": {\\\"fontStyle\\\": {\\\"value\\\": \\\"normal\\\"}, \\\"angle\\\": {\\\"value\\\": 0}, \\\"baseline\\\": {\\\"value\\\": \\\"middle\\\"}, \\\"text\\\": {\\\"signal\\\": \\\"(toString(datum[\\\\\\\"type\\\\\\\"]) == \\\\\\\"integer\\\\\\\" || toString(datum[\\\\\\\"type\\\\\\\"]) == \\\\\\\"float\\\\\\\")?toString(format(datum[\\\\\\\"min\\\\\\\"], \\\\\\\",\\\\\\\")):\\\\\\\"\\\\\\\"\\\"}, \\\"align\\\": {\\\"value\\\": \\\"right\\\"}, \\\"fontWeight\\\": {\\\"value\\\": \\\"normal\\\"}, \\\"fontSize\\\": {\\\"value\\\": 10}, \\\"dx\\\": {\\\"value\\\": 0, \\\"offset\\\": 0}, \\\"dy\\\": {\\\"value\\\": 0, \\\"offset\\\": 0}, \\\"y\\\": {\\\"value\\\": 218}, \\\"x\\\": {\\\"value\\\": 700}, \\\"font\\\": {\\\"value\\\": \\\"AvenirNext-Medium\\\"}, \\\"fill\\\": {\\\"value\\\": \\\"#6A6A6A\\\"}}}, \\\"type\\\": \\\"text\\\", \\\"from\\\": {\\\"data\\\": \\\"data_2\\\"}}, {\\\"encode\\\": {\\\"update\\\": {\\\"y\\\": {\\\"field\\\": \\\"c_max_val\\\"}, \\\"x\\\": {\\\"signal\\\": \\\"datum[\\\\\\\"c_x_axis_back\\\\\\\"]+667\\\"}}, \\\"enter\\\": {\\\"fontStyle\\\": {\\\"value\\\": \\\"normal\\\"}, \\\"angle\\\": {\\\"value\\\": 0}, \\\"baseline\\\": {\\\"value\\\": \\\"middle\\\"}, \\\"text\\\": {\\\"signal\\\": \\\"(toString(datum[\\\\\\\"type\\\\\\\"]) == \\\\\\\"integer\\\\\\\" || toString(datum[\\\\\\\"type\\\\\\\"]) == \\\\\\\"float\\\\\\\")?toString(format(datum[\\\\\\\"max\\\\\\\"], \\\\\\\",\\\\\\\")):\\\\\\\"\\\\\\\"\\\"}, \\\"align\\\": {\\\"value\\\": \\\"right\\\"}, \\\"fontWeight\\\": {\\\"value\\\": \\\"normal\\\"}, \\\"fontSize\\\": {\\\"value\\\": 10}, \\\"dx\\\": {\\\"value\\\": 0, \\\"offset\\\": 0}, \\\"dy\\\": {\\\"value\\\": 0, \\\"offset\\\": 0}, \\\"y\\\": {\\\"value\\\": 238}, \\\"x\\\": {\\\"value\\\": 700}, \\\"font\\\": {\\\"value\\\": \\\"AvenirNext-Medium\\\"}, \\\"fill\\\": {\\\"value\\\": \\\"#6A6A6A\\\"}}}, \\\"type\\\": \\\"text\\\", \\\"from\\\": {\\\"data\\\": \\\"data_2\\\"}}, {\\\"encode\\\": {\\\"update\\\": {\\\"y\\\": {\\\"field\\\": \\\"c_median_val\\\"}, \\\"x\\\": {\\\"signal\\\": \\\"datum[\\\\\\\"c_x_axis_back\\\\\\\"]+667\\\"}}, \\\"enter\\\": {\\\"fontStyle\\\": {\\\"value\\\": \\\"normal\\\"}, \\\"angle\\\": {\\\"value\\\": 0}, \\\"baseline\\\": {\\\"value\\\": \\\"middle\\\"}, \\\"text\\\": {\\\"signal\\\": \\\"(toString(datum[\\\\\\\"type\\\\\\\"]) == \\\\\\\"integer\\\\\\\" || toString(datum[\\\\\\\"type\\\\\\\"]) == \\\\\\\"float\\\\\\\")?toString(format(datum[\\\\\\\"median\\\\\\\"], \\\\\\\",\\\\\\\")):\\\\\\\"\\\\\\\"\\\"}, \\\"align\\\": {\\\"value\\\": \\\"right\\\"}, \\\"fontWeight\\\": {\\\"value\\\": \\\"normal\\\"}, \\\"fontSize\\\": {\\\"value\\\": 10}, \\\"dx\\\": {\\\"value\\\": 0, \\\"offset\\\": 0}, \\\"dy\\\": {\\\"value\\\": 0, \\\"offset\\\": 0}, \\\"y\\\": {\\\"value\\\": 258}, \\\"x\\\": {\\\"value\\\": 700}, \\\"font\\\": {\\\"value\\\": \\\"AvenirNext-Medium\\\"}, \\\"fill\\\": {\\\"value\\\": \\\"#6A6A6A\\\"}}}, \\\"type\\\": \\\"text\\\", \\\"from\\\": {\\\"data\\\": \\\"data_2\\\"}}, {\\\"encode\\\": {\\\"update\\\": {\\\"y\\\": {\\\"field\\\": \\\"c_stdev_val\\\"}, \\\"x\\\": {\\\"signal\\\": \\\"datum[\\\\\\\"c_x_axis_back\\\\\\\"]+667\\\"}}, \\\"enter\\\": {\\\"fontStyle\\\": {\\\"value\\\": \\\"normal\\\"}, \\\"angle\\\": {\\\"value\\\": 0}, \\\"baseline\\\": {\\\"value\\\": \\\"middle\\\"}, \\\"text\\\": {\\\"signal\\\": \\\"(toString(datum[\\\\\\\"type\\\\\\\"]) == \\\\\\\"integer\\\\\\\" || toString(datum[\\\\\\\"type\\\\\\\"]) == \\\\\\\"float\\\\\\\")?toString(format(datum[\\\\\\\"stdev\\\\\\\"], \\\\\\\",\\\\\\\")):\\\\\\\"\\\\\\\"\\\"}, \\\"align\\\": {\\\"value\\\": \\\"right\\\"}, \\\"fontWeight\\\": {\\\"value\\\": \\\"normal\\\"}, \\\"fontSize\\\": {\\\"value\\\": 10}, \\\"dx\\\": {\\\"value\\\": 0, \\\"offset\\\": 0}, \\\"dy\\\": {\\\"value\\\": 0, \\\"offset\\\": 0}, \\\"y\\\": {\\\"value\\\": 278}, \\\"x\\\": {\\\"value\\\": 700}, \\\"font\\\": {\\\"value\\\": \\\"AvenirNext-Medium\\\"}, \\\"fill\\\": {\\\"value\\\": \\\"#6A6A6A\\\"}}}, \\\"type\\\": \\\"text\\\", \\\"from\\\": {\\\"data\\\": \\\"data_2\\\"}}, {\\\"style\\\": \\\"cell\\\", \\\"from\\\": {\\\"facet\\\": {\\\"field\\\": \\\"numeric\\\", \\\"data\\\": \\\"data_2\\\", \\\"name\\\": \\\"new_data\\\"}}, \\\"scales\\\": [{\\\"domain\\\": {\\\"sort\\\": true, \\\"fields\\\": [\\\"left\\\", \\\"right\\\"], \\\"data\\\": \\\"new_data\\\"}, \\\"name\\\": \\\"x\\\", \\\"zero\\\": true, \\\"range\\\": [0, {\\\"signal\\\": \\\"width\\\"}], \\\"type\\\": \\\"linear\\\", \\\"nice\\\": true}, {\\\"domain\\\": {\\\"field\\\": \\\"count\\\", \\\"data\\\": \\\"new_data\\\"}, \\\"name\\\": \\\"y\\\", \\\"zero\\\": true, \\\"range\\\": [{\\\"signal\\\": \\\"height\\\"}, 0], \\\"type\\\": \\\"linear\\\", \\\"nice\\\": true}], \\\"axes\\\": [{\\\"scale\\\": \\\"x\\\", \\\"title\\\": \\\"Values\\\", \\\"tickCount\\\": {\\\"signal\\\": \\\"ceil(width/40)\\\"}, \\\"zindex\\\": 1, \\\"labelOverlap\\\": true, \\\"orient\\\": \\\"bottom\\\"}, {\\\"domain\\\": false, \\\"scale\\\": \\\"x\\\", \\\"ticks\\\": false, \\\"labels\\\": false, \\\"tickCount\\\": {\\\"signal\\\": \\\"ceil(width/40)\\\"}, \\\"zindex\\\": 0, \\\"grid\\\": true, \\\"minExtent\\\": 0, \\\"gridScale\\\": \\\"y\\\", \\\"orient\\\": \\\"bottom\\\", \\\"maxExtent\\\": 0}, {\\\"scale\\\": \\\"y\\\", \\\"title\\\": \\\"Count\\\", \\\"tickCount\\\": {\\\"signal\\\": \\\"ceil(height/40)\\\"}, \\\"zindex\\\": 1, \\\"labelOverlap\\\": true, \\\"orient\\\": \\\"left\\\"}, {\\\"domain\\\": false, \\\"scale\\\": \\\"y\\\", \\\"ticks\\\": false, \\\"labels\\\": false, \\\"tickCount\\\": {\\\"signal\\\": \\\"ceil(height/40)\\\"}, \\\"zindex\\\": 0, \\\"grid\\\": true, \\\"minExtent\\\": 0, \\\"gridScale\\\": \\\"x\\\", \\\"orient\\\": \\\"left\\\", \\\"maxExtent\\\": 0}], \\\"signals\\\": [{\\\"name\\\": \\\"width\\\", \\\"update\\\": \\\"250\\\"}, {\\\"name\\\": \\\"height\\\", \\\"update\\\": \\\"150\\\"}], \\\"marks\\\": [{\\\"encode\\\": {\\\"hover\\\": {\\\"fill\\\": {\\\"value\\\": \\\"#7EC2F3\\\"}}, \\\"update\\\": {\\\"x2\\\": {\\\"field\\\": \\\"right\\\", \\\"scale\\\": \\\"x\\\"}, \\\"x\\\": {\\\"field\\\": \\\"left\\\", \\\"scale\\\": \\\"x\\\"}, \\\"y2\\\": {\\\"scale\\\": \\\"y\\\", \\\"value\\\": 0}, \\\"y\\\": {\\\"field\\\": \\\"count\\\", \\\"scale\\\": \\\"y\\\"}, \\\"fill\\\": {\\\"value\\\": \\\"#108EE9\\\"}}}, \\\"from\\\": {\\\"data\\\": \\\"new_data\\\"}, \\\"style\\\": [\\\"rect\\\"], \\\"type\\\": \\\"rect\\\", \\\"name\\\": \\\"marks\\\"}], \\\"encode\\\": {\\\"update\\\": {\\\"x\\\": {\\\"signal\\\": \\\"datum[\\\\\\\"c_x_axis_back\\\\\\\"]+87\\\"}, \\\"clip\\\": {\\\"field\\\": \\\"c_clip_val\\\"}, \\\"width\\\": {\\\"field\\\": \\\"c_width_numeric_val\\\"}}, \\\"enter\\\": {\\\"strokeWidth\\\": {\\\"value\\\": 0}, \\\"height\\\": {\\\"value\\\": 150}, \\\"width\\\": {\\\"value\\\": 250}, \\\"stroke\\\": {\\\"value\\\": \\\"#000000\\\"}, \\\"fillOpacity\\\": {\\\"value\\\": 0}, \\\"y\\\": {\\\"field\\\": \\\"graph_offset\\\"}, \\\"x\\\": {\\\"value\\\": 120}, \\\"fill\\\": {\\\"value\\\": \\\"#ffffff\\\"}}}, \\\"type\\\": \\\"group\\\"}, {\\\"style\\\": \\\"cell\\\", \\\"from\\\": {\\\"facet\\\": {\\\"field\\\": \\\"categorical\\\", \\\"data\\\": \\\"data_2\\\", \\\"name\\\": \\\"data_5\\\"}}, \\\"scales\\\": [{\\\"domain\\\": {\\\"field\\\": \\\"count\\\", \\\"data\\\": \\\"data_5\\\"}, \\\"name\\\": \\\"x\\\", \\\"zero\\\": true, \\\"range\\\": [0, 250], \\\"type\\\": \\\"linear\\\", \\\"nice\\\": true}, {\\\"paddingInner\\\": 0.1, \\\"domain\\\": {\\\"sort\\\": {\\\"field\\\": \\\"label_idx\\\", \\\"order\\\": \\\"descending\\\", \\\"op\\\": \\\"mean\\\"}, \\\"field\\\": \\\"label\\\", \\\"data\\\": \\\"data_5\\\"}, \\\"name\\\": \\\"y\\\", \\\"paddingOuter\\\": 0.05, \\\"range\\\": [150, 0], \\\"type\\\": \\\"band\\\"}], \\\"axes\\\": [{\\\"scale\\\": \\\"x\\\", \\\"title\\\": \\\"Count\\\", \\\"tickCount\\\": {\\\"signal\\\": \\\"ceil(width/40)\\\"}, \\\"zindex\\\": 1, \\\"labelOverlap\\\": true, \\\"orient\\\": \\\"top\\\"}, {\\\"domain\\\": false, \\\"scale\\\": \\\"x\\\", \\\"ticks\\\": false, \\\"labels\\\": false, \\\"tickCount\\\": {\\\"signal\\\": \\\"ceil(width/40)\\\"}, \\\"zindex\\\": 0, \\\"grid\\\": true, \\\"minExtent\\\": 0, \\\"gridScale\\\": \\\"y\\\", \\\"orient\\\": \\\"top\\\", \\\"maxExtent\\\": 0}, {\\\"zindex\\\": 1, \\\"title\\\": \\\"Label\\\", \\\"scale\\\": \\\"y\\\", \\\"orient\\\": \\\"left\\\", \\\"labelOverlap\\\": true}], \\\"signals\\\": [{\\\"on\\\": [{\\\"events\\\": \\\"mousemove\\\", \\\"update\\\": \\\"isTuple(group()) ? group() : unit\\\"}], \\\"name\\\": \\\"unit\\\", \\\"value\\\": {}}, {\\\"name\\\": \\\"pts\\\", \\\"update\\\": \\\"data(\\\\\\\"pts_store\\\\\\\").length &amp;&amp; {count: data(\\\\\\\"pts_store\\\\\\\")[0].values[0]}\\\"}, {\\\"on\\\": [{\\\"force\\\": true, \\\"events\\\": [{\\\"source\\\": \\\"scope\\\", \\\"type\\\": \\\"click\\\"}], \\\"update\\\": \\\"datum &amp;&amp; item().mark.marktype !== &apos;group&apos; ? {unit: \\\\\\\"\\\\\\\", encodings: [\\\\\\\"x\\\\\\\"], fields: [\\\\\\\"count\\\\\\\"], values: [datum[\\\\\\\"count\\\\\\\"]]} : null\\\"}], \\\"name\\\": \\\"pts_tuple\\\", \\\"value\\\": {}}, {\\\"on\\\": [{\\\"events\\\": {\\\"signal\\\": \\\"pts_tuple\\\"}, \\\"update\\\": \\\"modify(\\\\\\\"pts_store\\\\\\\", pts_tuple, true)\\\"}], \\\"name\\\": \\\"pts_modify\\\"}], \\\"marks\\\": [{\\\"encode\\\": {\\\"hover\\\": {\\\"fill\\\": {\\\"value\\\": \\\"#7EC2F3\\\"}}, \\\"update\\\": {\\\"x2\\\": {\\\"scale\\\": \\\"x\\\", \\\"value\\\": 0}, \\\"x\\\": {\\\"field\\\": \\\"count\\\", \\\"scale\\\": \\\"x\\\"}, \\\"fill\\\": {\\\"value\\\": \\\"#108EE9\\\"}, \\\"y\\\": {\\\"field\\\": \\\"label\\\", \\\"scale\\\": \\\"y\\\"}, \\\"height\\\": {\\\"band\\\": true, \\\"scale\\\": \\\"y\\\"}}}, \\\"from\\\": {\\\"data\\\": \\\"data_5\\\"}, \\\"style\\\": [\\\"bar\\\"], \\\"type\\\": \\\"rect\\\", \\\"name\\\": \\\"marks\\\"}], \\\"encode\\\": {\\\"update\\\": {\\\"x\\\": {\\\"signal\\\": \\\"datum[\\\\\\\"c_x_axis_back\\\\\\\"]+137\\\"}, \\\"clip\\\": {\\\"field\\\": \\\"c_clip_val_cat\\\"}, \\\"width\\\": {\\\"field\\\": \\\"c_width_numeric_val_cat\\\"}}, \\\"enter\\\": {\\\"strokeWidth\\\": {\\\"value\\\": 0}, \\\"height\\\": {\\\"value\\\": 150}, \\\"width\\\": {\\\"value\\\": 250}, \\\"stroke\\\": {\\\"value\\\": \\\"#000000\\\"}, \\\"fillOpacity\\\": {\\\"value\\\": 0}, \\\"y\\\": {\\\"field\\\": \\\"graph_offset_categorical\\\"}, \\\"x\\\": {\\\"value\\\": 170}, \\\"fill\\\": {\\\"value\\\": \\\"#ffffff\\\"}}}, \\\"type\\\": \\\"group\\\"}], \\\"axes\\\": [], \\\"type\\\": \\\"group\\\", \\\"scales\\\": []}]}], \\\"$schema\\\": \\\"https://vega.github.io/schema/vega/v4.json\\\", \\\"data\\\": [{\\\"name\\\": \\\"pts_store\\\"}, {\\\"values\\\": [{\\\"a\\\": 0, \\\"num_row\\\": 21613, \\\"title\\\": \\\"bedrooms\\\", \\\"max\\\": 33.0, \\\"min\\\": 0.0, \\\"median\\\": 3.0, \\\"num_missing\\\": 0, \\\"num_unique\\\": 13, \\\"categorical\\\": [], \\\"numeric\\\": [{\\\"count\\\": 212, \\\"right\\\": 1.60188, \\\"left\\\": -0.057}, {\\\"count\\\": 12584, \\\"right\\\": 3.26076, \\\"left\\\": 1.60188}, {\\\"count\\\": 6882, \\\"right\\\": 4.91964, \\\"left\\\": 3.26076}, {\\\"count\\\": 1873, \\\"right\\\": 6.57852, \\\"left\\\": 4.91964}, {\\\"count\\\": 51, \\\"right\\\": 8.2374, \\\"left\\\": 6.57852}, {\\\"count\\\": 6, \\\"right\\\": 9.89628, \\\"left\\\": 8.2374}, {\\\"count\\\": 4, \\\"right\\\": 11.5552, \\\"left\\\": 9.89628}, {\\\"count\\\": 0, \\\"right\\\": 13.214, \\\"left\\\": 11.5552}, {\\\"count\\\": 0, \\\"right\\\": 14.8729, \\\"left\\\": 13.214}, {\\\"count\\\": 0, \\\"right\\\": 16.5318, \\\"left\\\": 14.8729}, {\\\"count\\\": 0, \\\"right\\\": 18.1907, \\\"left\\\": 16.5318}, {\\\"count\\\": 0, \\\"right\\\": 19.8496, \\\"left\\\": 18.1907}, {\\\"count\\\": 0, \\\"right\\\": 21.5084, \\\"left\\\": 19.8496}, {\\\"count\\\": 0, \\\"right\\\": 23.1673, \\\"left\\\": 21.5084}, {\\\"count\\\": 0, \\\"right\\\": 24.8262, \\\"left\\\": 23.1673}, {\\\"count\\\": 0, \\\"right\\\": 26.4851, \\\"left\\\": 24.8262}, {\\\"count\\\": 0, \\\"right\\\": 28.144, \\\"left\\\": 26.4851}, {\\\"count\\\": 0, \\\"right\\\": 29.8028, \\\"left\\\": 28.144}, {\\\"count\\\": 0, \\\"right\\\": 31.4617, \\\"left\\\": 29.8028}, {\\\"count\\\": 1, \\\"right\\\": 33.1206, \\\"left\\\": 31.4617}, {\\\"start\\\": -0.057, \\\"step\\\": 1.65888, \\\"stop\\\": 33.1206}], \\\"stdev\\\": 0.93004, \\\"type\\\": \\\"float\\\", \\\"mean\\\": 3.370842}, {\\\"a\\\": 1, \\\"num_row\\\": 21613, \\\"title\\\": \\\"bathrooms\\\", \\\"max\\\": 8.0, \\\"min\\\": 0.0, \\\"median\\\": 2.25, \\\"num_missing\\\": 0, \\\"num_unique\\\": 30, \\\"categorical\\\": [], \\\"numeric\\\": [{\\\"count\\\": 10, \\\"right\\\": 0.225, \\\"left\\\": -0.195}, {\\\"count\\\": 4, \\\"right\\\": 0.645, \\\"left\\\": 0.225}, {\\\"count\\\": 3924, \\\"right\\\": 1.065, \\\"left\\\": 0.645}, {\\\"count\\\": 9, \\\"right\\\": 1.485, \\\"left\\\": 1.065}, {\\\"count\\\": 4494, \\\"right\\\": 1.905, \\\"left\\\": 1.485}, {\\\"count\\\": 3977, \\\"right\\\": 2.325, \\\"left\\\": 1.905}, {\\\"count\\\": 5380, \\\"right\\\": 2.745, \\\"left\\\": 2.325}, {\\\"count\\\": 1938, \\\"right\\\": 3.165, \\\"left\\\": 2.745}, {\\\"count\\\": 1320, \\\"right\\\": 3.585, \\\"left\\\": 3.165}, {\\\"count\\\": 291, \\\"right\\\": 4.005, \\\"left\\\": 3.585}, {\\\"count\\\": 79, \\\"right\\\": 4.425, \\\"left\\\": 4.005}, {\\\"count\\\": 123, \\\"right\\\": 4.845, \\\"left\\\": 4.425}, {\\\"count\\\": 34, \\\"right\\\": 5.265, \\\"left\\\": 4.845}, {\\\"count\\\": 10, \\\"right\\\": 5.685, \\\"left\\\": 5.265}, {\\\"count\\\": 10, \\\"right\\\": 6.105, \\\"left\\\": 5.685}, {\\\"count\\\": 4, \\\"right\\\": 6.525, \\\"left\\\": 6.105}, {\\\"count\\\": 2, \\\"right\\\": 6.945, \\\"left\\\": 6.525}, {\\\"count\\\": 0, \\\"right\\\": 7.365, \\\"left\\\": 6.945}, {\\\"count\\\": 2, \\\"right\\\": 7.785, \\\"left\\\": 7.365}, {\\\"count\\\": 2, \\\"right\\\": 8.205, \\\"left\\\": 7.785}, {\\\"start\\\": -0.195, \\\"step\\\": 0.42, \\\"stop\\\": 8.205}], \\\"stdev\\\": 0.770145, \\\"type\\\": \\\"float\\\", \\\"mean\\\": 2.114757}, {\\\"a\\\": 2, \\\"num_row\\\": 21613, \\\"title\\\": \\\"sqft_living\\\", \\\"max\\\": 13540.0, \\\"min\\\": 290.0, \\\"median\\\": 1910.0, \\\"num_missing\\\": 0, \\\"num_unique\\\": 1038, \\\"categorical\\\": [], \\\"numeric\\\": [{\\\"count\\\": 1133, \\\"right\\\": 940.92, \\\"left\\\": 273.72}, {\\\"count\\\": 6322, \\\"right\\\": 1608.12, \\\"left\\\": 940.92}, {\\\"count\\\": 6718, \\\"right\\\": 2275.32, \\\"left\\\": 1608.12}, {\\\"count\\\": 4111, \\\"right\\\": 2942.52, \\\"left\\\": 2275.32}, {\\\"count\\\": 1991, \\\"right\\\": 3609.72, \\\"left\\\": 2942.52}, {\\\"count\\\": 800, \\\"right\\\": 4276.92, \\\"left\\\": 3609.72}, {\\\"count\\\": 318, \\\"right\\\": 4944.12, \\\"left\\\": 4276.92}, {\\\"count\\\": 115, \\\"right\\\": 5611.32, \\\"left\\\": 4944.12}, {\\\"count\\\": 52, \\\"right\\\": 6278.52, \\\"left\\\": 5611.32}, {\\\"count\\\": 23, \\\"right\\\": 6945.72, \\\"left\\\": 6278.52}, {\\\"count\\\": 15, \\\"right\\\": 7612.92, \\\"left\\\": 6945.72}, {\\\"count\\\": 8, \\\"right\\\": 8280.12, \\\"left\\\": 7612.92}, {\\\"count\\\": 1, \\\"right\\\": 8947.32, \\\"left\\\": 8280.12}, {\\\"count\\\": 1, \\\"right\\\": 9614.52, \\\"left\\\": 8947.32}, {\\\"count\\\": 3, \\\"right\\\": 10281.7, \\\"left\\\": 9614.52}, {\\\"count\\\": 0, \\\"right\\\": 10948.9, \\\"left\\\": 10281.7}, {\\\"count\\\": 0, \\\"right\\\": 11616.1, \\\"left\\\": 10948.9}, {\\\"count\\\": 1, \\\"right\\\": 12283.3, \\\"left\\\": 11616.1}, {\\\"count\\\": 0, \\\"right\\\": 12950.5, \\\"left\\\": 12283.3}, {\\\"count\\\": 1, \\\"right\\\": 13617.7, \\\"left\\\": 12950.5}, {\\\"start\\\": 273.72, \\\"step\\\": 667.2, \\\"stop\\\": 13617.7}], \\\"stdev\\\": 918.419649, \\\"type\\\": \\\"float\\\", \\\"mean\\\": 2079.899736}, {\\\"a\\\": 3, \\\"num_row\\\": 21613, \\\"title\\\": \\\"sqft_lot\\\", \\\"max\\\": 1651359.0, \\\"min\\\": 520.0, \\\"median\\\": 7620.0, \\\"num_missing\\\": 0, \\\"num_unique\\\": 9782, \\\"categorical\\\": [], \\\"numeric\\\": [{\\\"count\\\": 20944, \\\"right\\\": 65133.5, \\\"left\\\": -19637.3}, {\\\"count\\\": 337, \\\"right\\\": 149904, \\\"left\\\": 65133.5}, {\\\"count\\\": 210, \\\"right\\\": 234675, \\\"left\\\": 149904}, {\\\"count\\\": 56, \\\"right\\\": 319446, \\\"left\\\": 234675}, {\\\"count\\\": 25, \\\"right\\\": 404217, \\\"left\\\": 319446}, {\\\"count\\\": 18, \\\"right\\\": 488988, \\\"left\\\": 404217}, {\\\"count\\\": 8, \\\"right\\\": 573758, \\\"left\\\": 488988}, {\\\"count\\\": 3, \\\"right\\\": 658529, \\\"left\\\": 573758}, {\\\"count\\\": 1, \\\"right\\\": 743300, \\\"left\\\": 658529}, {\\\"count\\\": 0, \\\"right\\\": 828071, \\\"left\\\": 743300}, {\\\"count\\\": 4, \\\"right\\\": 912842, \\\"left\\\": 828071}, {\\\"count\\\": 3, \\\"right\\\": 997612, \\\"left\\\": 912842}, {\\\"count\\\": 2, \\\"right\\\": 1082380.0, \\\"left\\\": 997612}, {\\\"count\\\": 1, \\\"right\\\": 1167150.0, \\\"left\\\": 1082380.0}, {\\\"count\\\": 0, \\\"right\\\": 1251920.0, \\\"left\\\": 1167150.0}, {\\\"count\\\": 0, \\\"right\\\": 1336700.0, \\\"left\\\": 1251920.0}, {\\\"count\\\": 0, \\\"right\\\": 1421470.0, \\\"left\\\": 1336700.0}, {\\\"count\\\": 0, \\\"right\\\": 1506240.0, \\\"left\\\": 1421470.0}, {\\\"count\\\": 0, \\\"right\\\": 1591010.0, \\\"left\\\": 1506240.0}, {\\\"count\\\": 1, \\\"right\\\": 1675780.0, \\\"left\\\": 1591010.0}, {\\\"start\\\": -19637.3, \\\"step\\\": 84770.8, \\\"stop\\\": 1675780.0}], \\\"stdev\\\": 41419.553273, \\\"type\\\": \\\"float\\\", \\\"mean\\\": 15106.967566}, {\\\"a\\\": 4, \\\"num_row\\\": 21613, \\\"title\\\": \\\"floors\\\", \\\"max\\\": 3.5, \\\"min\\\": 1.0, \\\"median\\\": 1.5, \\\"num_missing\\\": 0, \\\"num_unique\\\": 6, \\\"categorical\\\": [], \\\"numeric\\\": [{\\\"count\\\": 10680, \\\"right\\\": 1.0984, \\\"left\\\": 0.972}, {\\\"count\\\": 0, \\\"right\\\": 1.2248, \\\"left\\\": 1.0984}, {\\\"count\\\": 0, \\\"right\\\": 1.3512, \\\"left\\\": 1.2248}, {\\\"count\\\": 0, \\\"right\\\": 1.4776, \\\"left\\\": 1.3512}, {\\\"count\\\": 1910, \\\"right\\\": 1.604, \\\"left\\\": 1.4776}, {\\\"count\\\": 0, \\\"right\\\": 1.7304, \\\"left\\\": 1.604}, {\\\"count\\\": 0, \\\"right\\\": 1.8568, \\\"left\\\": 1.7304}, {\\\"count\\\": 0, \\\"right\\\": 1.9832, \\\"left\\\": 1.8568}, {\\\"count\\\": 8241, \\\"right\\\": 2.1096, \\\"left\\\": 1.9832}, {\\\"count\\\": 0, \\\"right\\\": 2.236, \\\"left\\\": 2.1096}, {\\\"count\\\": 0, \\\"right\\\": 2.3624, \\\"left\\\": 2.236}, {\\\"count\\\": 161, \\\"right\\\": 2.4888, \\\"left\\\": 2.3624}, {\\\"count\\\": 0, \\\"right\\\": 2.6152, \\\"left\\\": 2.4888}, {\\\"count\\\": 0, \\\"right\\\": 2.7416, \\\"left\\\": 2.6152}, {\\\"count\\\": 0, \\\"right\\\": 2.868, \\\"left\\\": 2.7416}, {\\\"count\\\": 613, \\\"right\\\": 2.9944, \\\"left\\\": 2.868}, {\\\"count\\\": 0, \\\"right\\\": 3.1208, \\\"left\\\": 2.9944}, {\\\"count\\\": 0, \\\"right\\\": 3.2472, \\\"left\\\": 3.1208}, {\\\"count\\\": 0, \\\"right\\\": 3.3736, \\\"left\\\": 3.2472}, {\\\"count\\\": 8, \\\"right\\\": 3.5, \\\"left\\\": 3.3736}, {\\\"start\\\": 0.972, \\\"step\\\": 0.1264, \\\"stop\\\": 3.5}], \\\"stdev\\\": 0.539976, \\\"type\\\": \\\"float\\\", \\\"mean\\\": 1.494309}, {\\\"a\\\": 5, \\\"num_row\\\": 21613, \\\"title\\\": \\\"zipcode\\\", \\\"categorical\\\": [{\\\"count\\\": 602, \\\"percentage\\\": \\\"2.78536%\\\", \\\"label_idx\\\": 0, \\\"label\\\": \\\"98103\\\"}, {\\\"count\\\": 590, \\\"percentage\\\": \\\"2.72984%\\\", \\\"label_idx\\\": 1, \\\"label\\\": \\\"98038\\\"}, {\\\"count\\\": 583, \\\"percentage\\\": \\\"2.69745%\\\", \\\"label_idx\\\": 2, \\\"label\\\": \\\"98115\\\"}, {\\\"count\\\": 574, \\\"percentage\\\": \\\"2.65581%\\\", \\\"label_idx\\\": 3, \\\"label\\\": \\\"98052\\\"}, {\\\"count\\\": 553, \\\"percentage\\\": \\\"2.55865%\\\", \\\"label_idx\\\": 4, \\\"label\\\": \\\"98117\\\"}, {\\\"count\\\": 548, \\\"percentage\\\": \\\"2.53551%\\\", \\\"label_idx\\\": 5, \\\"label\\\": \\\"98042\\\"}, {\\\"count\\\": 545, \\\"percentage\\\": \\\"2.52163%\\\", \\\"label_idx\\\": 6, \\\"label\\\": \\\"98034\\\"}, {\\\"count\\\": 508, \\\"percentage\\\": \\\"2.35044%\\\", \\\"label_idx\\\": 7, \\\"label\\\": \\\"98118\\\"}, {\\\"count\\\": 499, \\\"percentage\\\": \\\"2.3088%\\\", \\\"label_idx\\\": 8, \\\"label\\\": \\\"98023\\\"}, {\\\"count\\\": 498, \\\"percentage\\\": \\\"2.30417%\\\", \\\"label_idx\\\": 9, \\\"label\\\": \\\"98006\\\"}, {\\\"count\\\": 16113, \\\"percentage\\\": \\\"74.5524%\\\", \\\"label_idx\\\": 10, \\\"label\\\": \\\"Other (60 labels)\\\"}], \\\"num_missing\\\": 0, \\\"num_unique\\\": 70, \\\"numeric\\\": [], \\\"type\\\": \\\"str\\\"}], \\\"name\\\": \\\"source_2\\\"}, {\\\"source\\\": \\\"source_2\\\", \\\"name\\\": \\\"data_2\\\", \\\"transform\\\": [{\\\"expr\\\": \\\"20\\\", \\\"as\\\": \\\"c_x_axis_back\\\", \\\"type\\\": \\\"formula\\\"}, {\\\"expr\\\": \\\"toNumber(datum[\\\\\\\"a\\\\\\\"])*300+66\\\", \\\"as\\\": \\\"c_main_background\\\", \\\"type\\\": \\\"formula\\\"}, {\\\"expr\\\": \\\"toNumber(datum[\\\\\\\"a\\\\\\\"])*300+43\\\", \\\"as\\\": \\\"c_top_bar\\\", \\\"type\\\": \\\"formula\\\"}, {\\\"expr\\\": \\\"toNumber(datum[\\\\\\\"a\\\\\\\"])*300+59\\\", \\\"as\\\": \\\"c_top_title\\\", \\\"type\\\": \\\"formula\\\"}, {\\\"expr\\\": \\\"toNumber(datum[\\\\\\\"a\\\\\\\"])*300+58\\\", \\\"as\\\": \\\"c_top_type\\\", \\\"type\\\": \\\"formula\\\"}, {\\\"expr\\\": \\\"toNumber(datum[\\\\\\\"a\\\\\\\"])*300+178\\\", \\\"as\\\": \\\"c_rule\\\", \\\"type\\\": \\\"formula\\\"}, {\\\"expr\\\": \\\"toNumber(datum[\\\\\\\"a\\\\\\\"])*300+106\\\", \\\"as\\\": \\\"c_num_rows\\\", \\\"type\\\": \\\"formula\\\"}, {\\\"expr\\\": \\\"toNumber(datum[\\\\\\\"a\\\\\\\"])*300+130\\\", \\\"as\\\": \\\"c_num_unique\\\", \\\"type\\\": \\\"formula\\\"}, {\\\"expr\\\": \\\"toNumber(datum[\\\\\\\"a\\\\\\\"])*300+154\\\", \\\"as\\\": \\\"c_missing\\\", \\\"type\\\": \\\"formula\\\"}, {\\\"expr\\\": \\\"toNumber(datum[\\\\\\\"a\\\\\\\"])*300+105\\\", \\\"as\\\": \\\"c_num_rows_val\\\", \\\"type\\\": \\\"formula\\\"}, {\\\"expr\\\": \\\"toNumber(datum[\\\\\\\"a\\\\\\\"])*300+130\\\", \\\"as\\\": \\\"c_num_unique_val\\\", \\\"type\\\": \\\"formula\\\"}, {\\\"expr\\\": \\\"toNumber(datum[\\\\\\\"a\\\\\\\"])*300+154\\\", \\\"as\\\": \\\"c_missing_val\\\", \\\"type\\\": \\\"formula\\\"}, {\\\"expr\\\": \\\"toNumber(datum[\\\\\\\"a\\\\\\\"])*300+195\\\", \\\"as\\\": \\\"c_frequent_items\\\", \\\"type\\\": \\\"formula\\\"}, {\\\"expr\\\": \\\"toNumber(datum[\\\\\\\"a\\\\\\\"])*300+218\\\", \\\"as\\\": \\\"c_first_item\\\", \\\"type\\\": \\\"formula\\\"}, {\\\"expr\\\": \\\"toNumber(datum[\\\\\\\"a\\\\\\\"])*300+235\\\", \\\"as\\\": \\\"c_second_item\\\", \\\"type\\\": \\\"formula\\\"}, {\\\"expr\\\": \\\"toNumber(datum[\\\\\\\"a\\\\\\\"])*300+252\\\", \\\"as\\\": \\\"c_third_item\\\", \\\"type\\\": \\\"formula\\\"}, {\\\"expr\\\": \\\"toNumber(datum[\\\\\\\"a\\\\\\\"])*300+269\\\", \\\"as\\\": \\\"c_fourth_item\\\", \\\"type\\\": \\\"formula\\\"}, {\\\"expr\\\": \\\"toNumber(datum[\\\\\\\"a\\\\\\\"])*300+286\\\", \\\"as\\\": \\\"c_fifth_item\\\", \\\"type\\\": \\\"formula\\\"}, {\\\"expr\\\": \\\"toNumber(datum[\\\\\\\"a\\\\\\\"])*300+200\\\", \\\"as\\\": \\\"c_mean\\\", \\\"type\\\": \\\"formula\\\"}, {\\\"expr\\\": \\\"toNumber(datum[\\\\\\\"a\\\\\\\"])*300+220\\\", \\\"as\\\": \\\"c_min\\\", \\\"type\\\": \\\"formula\\\"}, {\\\"expr\\\": \\\"toNumber(datum[\\\\\\\"a\\\\\\\"])*300+240\\\", \\\"as\\\": \\\"c_max\\\", \\\"type\\\": \\\"formula\\\"}, {\\\"expr\\\": \\\"toNumber(datum[\\\\\\\"a\\\\\\\"])*300+260\\\", \\\"as\\\": \\\"c_median\\\", \\\"type\\\": \\\"formula\\\"}, {\\\"expr\\\": \\\"toNumber(datum[\\\\\\\"a\\\\\\\"])*300+280\\\", \\\"as\\\": \\\"c_stdev\\\", \\\"type\\\": \\\"formula\\\"}, {\\\"expr\\\": \\\"toNumber(datum[\\\\\\\"a\\\\\\\"])*300+198\\\", \\\"as\\\": \\\"c_mean_val\\\", \\\"type\\\": \\\"formula\\\"}, {\\\"expr\\\": \\\"toNumber(datum[\\\\\\\"a\\\\\\\"])*300+218\\\", \\\"as\\\": \\\"c_min_val\\\", \\\"type\\\": \\\"formula\\\"}, {\\\"expr\\\": \\\"toNumber(datum[\\\\\\\"a\\\\\\\"])*300+238\\\", \\\"as\\\": \\\"c_max_val\\\", \\\"type\\\": \\\"formula\\\"}, {\\\"expr\\\": \\\"toNumber(datum[\\\\\\\"a\\\\\\\"])*300+258\\\", \\\"as\\\": \\\"c_median_val\\\", \\\"type\\\": \\\"formula\\\"}, {\\\"expr\\\": \\\"toNumber(datum[\\\\\\\"a\\\\\\\"])*300+278\\\", \\\"as\\\": \\\"c_stdev_val\\\", \\\"type\\\": \\\"formula\\\"}, {\\\"expr\\\": \\\"toNumber(datum[\\\\\\\"a\\\\\\\"])*300+106\\\", \\\"as\\\": \\\"graph_offset\\\", \\\"type\\\": \\\"formula\\\"}, {\\\"expr\\\": \\\"toNumber(datum[\\\\\\\"a\\\\\\\"])*300+132\\\", \\\"as\\\": \\\"graph_offset_categorical\\\", \\\"type\\\": \\\"formula\\\"}, {\\\"expr\\\": \\\"(toString(datum[\\\\\\\"type\\\\\\\"]) == \\\\\\\"integer\\\\\\\" || toString(datum[\\\\\\\"type\\\\\\\"]) == \\\\\\\"float\\\\\\\")?false:true\\\", \\\"as\\\": \\\"c_clip_val\\\", \\\"type\\\": \\\"formula\\\"}, {\\\"expr\\\": \\\"(toString(datum[\\\\\\\"type\\\\\\\"]) == \\\\\\\"integer\\\\\\\" || toString(datum[\\\\\\\"type\\\\\\\"]) == \\\\\\\"float\\\\\\\")?250:0\\\", \\\"as\\\": \\\"c_width_numeric_val\\\", \\\"type\\\": \\\"formula\\\"}, {\\\"expr\\\": \\\"(toString(datum[\\\\\\\"type\\\\\\\"]) == \\\\\\\"str\\\\\\\")?false:true\\\", \\\"as\\\": \\\"c_clip_val_cat\\\", \\\"type\\\": \\\"formula\\\"}, {\\\"expr\\\": \\\"(toString(datum[\\\\\\\"type\\\\\\\"]) == \\\\\\\"str\\\\\\\")?250:0\\\", \\\"as\\\": \\\"c_width_numeric_val_cat\\\", \\\"type\\\": \\\"formula\\\"}]}], \\\"metadata\\\": {\\\"bubbleOpts\\\": {\\\"fields\\\": [{\\\"field\\\": \\\"left\\\"}, {\\\"field\\\": \\\"right\\\"}, {\\\"field\\\": \\\"count\\\"}, {\\\"field\\\": \\\"label\\\"}], \\\"showAllFields\\\": false}}}\";                                 var vega_json_parsed = JSON.parse(vega_json);                                 var toolTipOpts = {                                     showAllFields: true                                 };                                 if(vega_json_parsed[\"metadata\"] != null){                                     if(vega_json_parsed[\"metadata\"][\"bubbleOpts\"] != null){                                         toolTipOpts = vega_json_parsed[\"metadata\"][\"bubbleOpts\"];                                     };                                 };                                 vegaEmbed(\"#vis\", vega_json_parsed).then(function (result) {                                     vegaTooltip.vega(result.view, toolTipOpts);                                  });                             </script>                         </body>                     </html>' src=\"demo_iframe_srcdoc.htm\">                         <p>Your browser does not support iframes.</p>                     </iframe>                 </body>             </html>"
            ]
          },
          "metadata": {
            "tags": []
          }
        }
      ]
    },
    {
      "cell_type": "code",
      "metadata": {
        "id": "YFTADMtBNM2a",
        "colab_type": "code",
        "colab": {
          "base_uri": "https://localhost:8080/",
          "height": 825
        },
        "outputId": "24535021-6ec8-4c52-a65a-be6748b133aa"
      },
      "source": [
        "turicreate.show(sales['zipcode'],sales['price'])"
      ],
      "execution_count": null,
      "outputs": [
        {
          "output_type": "display_data",
          "data": {
            "text/plain": [
              "Materializing X axis SArray"
            ],
            "text/html": [
              "<pre>Materializing X axis SArray</pre>"
            ]
          },
          "metadata": {
            "tags": []
          }
        },
        {
          "output_type": "display_data",
          "data": {
            "text/plain": [
              "Materializing Y axis SArray"
            ],
            "text/html": [
              "<pre>Materializing Y axis SArray</pre>"
            ]
          },
          "metadata": {
            "tags": []
          }
        },
        {
          "output_type": "display_data",
          "data": {
            "text/plain": [
              "<IPython.core.display.HTML object>"
            ],
            "text/html": [
              "<html>                 <body>                     <iframe style=\"border:0;margin:0\" width=\"800\" height=\"770\" srcdoc='<html lang=\"en\">                         <head>                             <script src=\"https://cdnjs.cloudflare.com/ajax/libs/vega/5.4.0/vega.js\"></script>                             <script src=\"https://cdnjs.cloudflare.com/ajax/libs/vega-embed/4.0.0/vega-embed.js\"></script>                             <script src=\"https://cdnjs.cloudflare.com/ajax/libs/vega-tooltip/0.5.1/vega-tooltip.min.js\"></script>                             <link rel=\"stylesheet\" type=\"text/css\" href=\"https://cdnjs.cloudflare.com/ajax/libs/vega-tooltip/0.5.1/vega-tooltip.min.css\">                             <style>                             .vega-actions > a{                                 color:white;                                 text-decoration: none;                                 font-family: \"Arial\";                                 cursor:pointer;                                 padding:5px;                                 background:#AAAAAA;                                 border-radius:4px;                                 padding-left:10px;                                 padding-right:10px;                                 margin-right:5px;                             }                             .vega-actions{                                 margin-top:20px;                                 text-align:center                             }                            .vega-actions > a{                                 background:#999999;                            }                             </style>                         </head>                         <body>                             <div id=\"vis\">                             </div>                             <script>                                 var vega_json = \"{\\\"signals\\\": [{\\\"name\\\": \\\"x_step\\\", \\\"value\\\": 42}, {\\\"name\\\": \\\"width\\\", \\\"update\\\": \\\"max(720, 100 + bandspace(domain(&apos;x&apos;).length, 0.1, 0.1) * x_step)\\\"}], \\\"autosize\\\": {\\\"contains\\\": \\\"padding\\\", \\\"type\\\": \\\"fit\\\", \\\"resize\\\": false}, \\\"axes\\\": [{\\\"scale\\\": \\\"x\\\", \\\"title\\\": \\\"X\\\", \\\"zindex\\\": 1, \\\"labelOverlap\\\": true, \\\"encode\\\": {\\\"labels\\\": {\\\"update\\\": {\\\"align\\\": {\\\"value\\\": \\\"right\\\"}, \\\"angle\\\": {\\\"value\\\": 270}, \\\"baseline\\\": {\\\"value\\\": \\\"middle\\\"}}}}, \\\"orient\\\": \\\"bottom\\\"}, {\\\"scale\\\": \\\"y\\\", \\\"title\\\": \\\"Y\\\", \\\"tickCount\\\": {\\\"signal\\\": \\\"ceil(height/40)\\\"}, \\\"zindex\\\": 1, \\\"labelOverlap\\\": true, \\\"orient\\\": \\\"left\\\"}, {\\\"domain\\\": false, \\\"scale\\\": \\\"y\\\", \\\"ticks\\\": false, \\\"labels\\\": false, \\\"tickCount\\\": {\\\"signal\\\": \\\"ceil(height/40)\\\"}, \\\"zindex\\\": 0, \\\"grid\\\": true, \\\"minExtent\\\": 0, \\\"gridScale\\\": \\\"x\\\", \\\"orient\\\": \\\"left\\\", \\\"maxExtent\\\": 0}], \\\"title\\\": \\\"X vs. Y\\\", \\\"config\\\": {\\\"style\\\": {\\\"cell\\\": {\\\"stroke\\\": \\\"transparent\\\"}, \\\"rect\\\": {\\\"stroke\\\": \\\"rgba(200, 200, 200, 0.5)\\\"}, \\\"group-title\\\": {\\\"fontWeight\\\": \\\"normal\\\", \\\"font\\\": \\\"HelveticaNeue, Arial\\\", \\\"fontSize\\\": 29, \\\"fill\\\": \\\"rgba(0,0,0,0.65)\\\"}}, \\\"title\\\": {\\\"color\\\": \\\"rgba(0,0,0,0.847)\\\", \\\"fontWeight\\\": \\\"normal\\\", \\\"font\\\": \\\"\\\\\\\"San Francisco\\\\\\\", HelveticaNeue, Arial\\\", \\\"fontSize\\\": 18, \\\"offset\\\": 30}, \\\"axisY\\\": {\\\"minExtent\\\": 30}, \\\"range\\\": {\\\"heatmap\\\": {\\\"scheme\\\": \\\"greenblue\\\"}}, \\\"legend\\\": {\\\"labelFont\\\": \\\"\\\\\\\"San Francisco\\\\\\\", HelveticaNeue, Arial\\\", \\\"labelColor\\\": \\\"rgba(0,0,0,0.847)\\\", \\\"titleFont\\\": \\\"\\\\\\\"San Francisco\\\\\\\", HelveticaNeue, Arial\\\", \\\"cornerRadius\\\": 30, \\\"titleColor\\\": \\\"rgba(0,0,0,0.847)\\\", \\\"gradientLength\\\": 608}, \\\"axis\\\": {\\\"titlePadding\\\": 20, \\\"titleColor\\\": \\\"rgba(0,0,0,0.847)\\\", \\\"titleFont\\\": \\\"\\\\\\\"San Francisco\\\\\\\", HelveticaNeue, Arial\\\", \\\"labelPadding\\\": 10, \\\"labelFont\\\": \\\"\\\\\\\"San Francisco\\\\\\\", HelveticaNeue, Arial\\\", \\\"labelFontSize\\\": 12, \\\"labelColor\\\": \\\"rgba(0,0,0,0.847)\\\", \\\"gridColor\\\": \\\"rgba(204,204,204,1.0)\\\", \\\"titleFontSize\\\": 14, \\\"tickColor\\\": \\\"rgb(136,136,136)\\\", \\\"titleFontWeight\\\": \\\"normal\\\"}}, \\\"scales\\\": [{\\\"paddingInner\\\": 0.1, \\\"domain\\\": {\\\"fields\\\": [{\\\"field\\\": \\\"x\\\", \\\"data\\\": \\\"source_2\\\"}]}, \\\"name\\\": \\\"x\\\", \\\"paddingOuter\\\": 0.05, \\\"range\\\": {\\\"step\\\": {\\\"signal\\\": \\\"x_step\\\"}}, \\\"type\\\": \\\"band\\\"}, {\\\"domain\\\": {\\\"sort\\\": true, \\\"fields\\\": [{\\\"field\\\": \\\"min\\\", \\\"data\\\": \\\"source_2\\\"}, {\\\"field\\\": \\\"lower quartile\\\", \\\"data\\\": \\\"source_2\\\"}, {\\\"field\\\": \\\"upper quartile\\\", \\\"data\\\": \\\"source_2\\\"}, {\\\"field\\\": \\\"max\\\", \\\"data\\\": \\\"source_2\\\"}, {\\\"field\\\": \\\"lower quartile\\\", \\\"data\\\": \\\"source_2\\\"}, {\\\"field\\\": \\\"upper quartile\\\", \\\"data\\\": \\\"source_2\\\"}, {\\\"field\\\": \\\"median\\\", \\\"data\\\": \\\"source_2\\\"}]}, \\\"name\\\": \\\"y\\\", \\\"zero\\\": true, \\\"range\\\": [{\\\"signal\\\": \\\"height\\\"}, 0], \\\"type\\\": \\\"linear\\\", \\\"nice\\\": true}], \\\"style\\\": \\\"cell\\\", \\\"height\\\": 550, \\\"padding\\\": 8, \\\"marks\\\": [{\\\"encode\\\": {\\\"update\\\": {\\\"y\\\": {\\\"field\\\": \\\"min\\\", \\\"scale\\\": \\\"y\\\"}, \\\"x\\\": {\\\"field\\\": \\\"x\\\", \\\"scale\\\": \\\"x\\\", \\\"band\\\": 0.5}, \\\"stroke\\\": {\\\"value\\\": \\\"black\\\"}, \\\"y2\\\": {\\\"field\\\": \\\"lower quartile\\\", \\\"scale\\\": \\\"y\\\"}}}, \\\"from\\\": {\\\"data\\\": \\\"source_2\\\"}, \\\"style\\\": [\\\"boxWhisker\\\"], \\\"type\\\": \\\"rule\\\", \\\"name\\\": \\\"layer_0_marks\\\"}, {\\\"encode\\\": {\\\"update\\\": {\\\"y\\\": {\\\"field\\\": \\\"upper quartile\\\", \\\"scale\\\": \\\"y\\\"}, \\\"x\\\": {\\\"field\\\": \\\"x\\\", \\\"scale\\\": \\\"x\\\", \\\"band\\\": 0.5}, \\\"stroke\\\": {\\\"value\\\": \\\"black\\\"}, \\\"y2\\\": {\\\"field\\\": \\\"max\\\", \\\"scale\\\": \\\"y\\\"}}}, \\\"from\\\": {\\\"data\\\": \\\"source_2\\\"}, \\\"style\\\": [\\\"boxWhisker\\\"], \\\"type\\\": \\\"rule\\\", \\\"name\\\": \\\"layer_1_marks\\\"}, {\\\"encode\\\": {\\\"hover\\\": {\\\"fill\\\": {\\\"value\\\": \\\"#7EC2F3\\\"}}, \\\"update\\\": {\\\"y\\\": {\\\"field\\\": \\\"lower quartile\\\", \\\"scale\\\": \\\"y\\\"}, \\\"xc\\\": {\\\"field\\\": \\\"x\\\", \\\"scale\\\": \\\"x\\\", \\\"band\\\": 0.5}, \\\"y2\\\": {\\\"field\\\": \\\"upper quartile\\\", \\\"scale\\\": \\\"y\\\"}, \\\"fill\\\": {\\\"value\\\": \\\"#108EE9\\\"}, \\\"width\\\": {\\\"value\\\": 20}}}, \\\"from\\\": {\\\"data\\\": \\\"source_2\\\"}, \\\"style\\\": [\\\"box\\\"], \\\"type\\\": \\\"rect\\\", \\\"name\\\": \\\"layer_2_marks\\\"}, {\\\"encode\\\": {\\\"update\\\": {\\\"opacity\\\": {\\\"value\\\": 0.7}, \\\"xc\\\": {\\\"field\\\": \\\"x\\\", \\\"scale\\\": \\\"x\\\", \\\"band\\\": 0.5}, \\\"yc\\\": {\\\"field\\\": \\\"median\\\", \\\"scale\\\": \\\"y\\\"}, \\\"height\\\": {\\\"value\\\": 1}, \\\"width\\\": {\\\"value\\\": 20}, \\\"fill\\\": {\\\"value\\\": \\\"black\\\"}}}, \\\"from\\\": {\\\"data\\\": \\\"source_2\\\"}, \\\"style\\\": [\\\"boxMid\\\"], \\\"type\\\": \\\"rect\\\", \\\"name\\\": \\\"layer_3_marks\\\"}], \\\"$schema\\\": \\\"https://vega.github.io/schema/vega/v4.json\\\", \\\"data\\\": [{\\\"values\\\": [{\\\"min\\\": 130000, \\\"max\\\": 5110800.0, \\\"median\\\": 678700, \\\"upper quartile\\\": 902000, \\\"x\\\": \\\"98033\\\", \\\"lower quartile\\\": 535000}, {\\\"min\\\": 181000, \\\"max\\\": 3600000.0, \\\"median\\\": 450000, \\\"upper quartile\\\": 666000, \\\"x\\\": \\\"98144\\\", \\\"lower quartile\\\": 374950}, {\\\"min\\\": 406430, \\\"max\\\": 3200000.0, \\\"median\\\": 739999, \\\"upper quartile\\\": 870000, \\\"x\\\": \\\"98075\\\", \\\"lower quartile\\\": 641000}, {\\\"min\\\": 280000, \\\"max\\\": 3075000.0, \\\"median\\\": 642000, \\\"upper quartile\\\": 798000, \\\"x\\\": \\\"98074\\\", \\\"lower quartile\\\": 532000}, {\\\"min\\\": 500000, \\\"max\\\": 5300000.0, \\\"median\\\": 994000, \\\"upper quartile\\\": 1387000.0, \\\"x\\\": \\\"98040\\\", \\\"lower quartile\\\": 821000}, {\\\"min\\\": 245560, \\\"max\\\": 3800000.0, \\\"median\\\": 554000, \\\"upper quartile\\\": 749950, \\\"x\\\": \\\"98177\\\", \\\"lower quartile\\\": 427000}, {\\\"min\\\": 175000, \\\"max\\\": 2050000.0, \\\"median\\\": 425000, \\\"upper quartile\\\": 518000, \\\"x\\\": \\\"98125\\\", \\\"lower quartile\\\": 357250}, {\\\"min\\\": 110000, \\\"max\\\": 1085000.0, \\\"median\\\": 396500, \\\"upper quartile\\\": 485000, \\\"x\\\": \\\"98126\\\", \\\"lower quartile\\\": 320000}, {\\\"min\\\": 86500, \\\"max\\\": 1275000.0, \\\"median\\\": 268450, \\\"upper quartile\\\": 316500, \\\"x\\\": \\\"98023\\\", \\\"lower quartile\\\": 224097}, {\\\"min\\\": 425000, \\\"max\\\": 7062500.0, \\\"median\\\": 1150000.0, \\\"upper quartile\\\": 1691000.0, \\\"x\\\": \\\"98004\\\", \\\"lower quartile\\\": 845000}, {\\\"min\\\": 95000, \\\"max\\\": 389000, \\\"median\\\": 235000, \\\"upper quartile\\\": 269000, \\\"x\\\": \\\"98002\\\", \\\"lower quartile\\\": 199950}, {\\\"min\\\": 200000, \\\"max\\\": 2300000.0, \\\"median\\\": 567000, \\\"upper quartile\\\": 719000, \\\"x\\\": \\\"98115\\\", \\\"lower quartile\\\": 455000}, {\\\"min\\\": 82000, \\\"max\\\": 1410000.0, \\\"median\\\": 307000, \\\"upper quartile\\\": 409000, \\\"x\\\": \\\"98146\\\", \\\"lower quartile\\\": 229500}, {\\\"min\\\": 119500, \\\"max\\\": 1015000.0, \\\"median\\\": 402500, \\\"upper quartile\\\": 500000, \\\"x\\\": \\\"98019\\\", \\\"lower quartile\\\": 330000}, {\\\"min\\\": 323000, \\\"max\\\": 3200000.0, \\\"median\\\": 689800, \\\"upper quartile\\\": 950000, \\\"x\\\": \\\"98199\\\", \\\"lower quartile\\\": 535000}, {\\\"min\\\": 300523, \\\"max\\\": 3065000.0, \\\"median\\\": 749950, \\\"upper quartile\\\": 940000, \\\"x\\\": \\\"98119\\\", \\\"lower quartile\\\": 600000}, {\\\"min\\\": 172500, \\\"max\\\": 1780000.0, \\\"median\\\": 435000, \\\"upper quartile\\\": 552500, \\\"x\\\": \\\"98059\\\", \\\"lower quartile\\\": 340000}, {\\\"min\\\": 90000, \\\"max\\\": 1700000.0, \\\"median\\\": 279000, \\\"upper quartile\\\": 350000, \\\"x\\\": \\\"98178\\\", \\\"lower quartile\\\": 223000}, {\\\"min\\\": 200000, \\\"max\\\": 2230000.0, \\\"median\\\": 489950, \\\"upper quartile\\\": 660000, \\\"x\\\": \\\"98136\\\", \\\"lower quartile\\\": 398000}, {\\\"min\\\": 75000, \\\"max\\\": 858000, \\\"median\\\": 280000, \\\"upper quartile\\\": 350000, \\\"x\\\": \\\"98022\\\", \\\"lower quartile\\\": 235000}, {\\\"min\\\": 153000, \\\"max\\\": 4500000.0, \\\"median\\\": 375000, \\\"upper quartile\\\": 460000, \\\"x\\\": \\\"98155\\\", \\\"lower quartile\\\": 315000}, {\\\"min\\\": 78000, \\\"max\\\": 600000, \\\"median\\\": 235000, \\\"upper quartile\\\": 285000, \\\"x\\\": \\\"98168\\\", \\\"lower quartile\\\": 199950}, {\\\"min\\\": 100000, \\\"max\\\": 631000, \\\"median\\\": 295000, \\\"upper quartile\\\": 350000, \\\"x\\\": \\\"98055\\\", \\\"lower quartile\\\": 240000}, {\\\"min\\\": 175000, \\\"max\\\": 1950000.0, \\\"median\\\": 399500, \\\"upper quartile\\\": 495000, \\\"x\\\": \\\"98045\\\", \\\"lower quartile\\\": 305000}, {\\\"min\\\": 250000, \\\"max\\\": 1920000.0, \\\"median\\\": 654950, \\\"upper quartile\\\": 835000, \\\"x\\\": \\\"98077\\\", \\\"lower quartile\\\": 510000}, {\\\"min\\\": 139000, \\\"max\\\": 3000000.0, \\\"median\\\": 380000, \\\"upper quartile\\\": 510000, \\\"x\\\": \\\"98056\\\", \\\"lower quartile\\\": 289000}, {\\\"min\\\": 125000, \\\"max\\\": 1370000.0, \\\"median\\\": 544000, \\\"upper quartile\\\": 657500, \\\"x\\\": \\\"98117\\\", \\\"lower quartile\\\": 450000}, {\\\"min\\\": 85000, \\\"max\\\": 545000, \\\"median\\\": 249000, \\\"upper quartile\\\": 285000, \\\"x\\\": \\\"98032\\\", \\\"lower quartile\\\": 221700}, {\\\"min\\\": 135000, \\\"max\\\": 935000, \\\"median\\\": 360000, \\\"upper quartile\\\": 600000, \\\"x\\\": \\\"98010\\\", \\\"lower quartile\\\": 257000}, {\\\"min\\\": 90000, \\\"max\\\": 930000, \\\"median\\\": 309780, \\\"upper quartile\\\": 379500, \\\"x\\\": \\\"98092\\\", \\\"lower quartile\\\": 263950}, {\\\"min\\\": 105500, \\\"max\\\": 600600, \\\"median\\\": 278000, \\\"upper quartile\\\": 319990, \\\"x\\\": \\\"98148\\\", \\\"lower quartile\\\": 240000}, {\\\"min\\\": 247500, \\\"max\\\": 4208000.0, \\\"median\\\": 760369, \\\"upper quartile\\\": 978000, \\\"x\\\": \\\"98006\\\", \\\"lower quartile\\\": 575000}, {\\\"min\\\": 100000, \\\"max\\\": 850000, \\\"median\\\": 260000, \\\"upper quartile\\\": 320000, \\\"x\\\": \\\"98001\\\", \\\"lower quartile\\\": 215000}, {\\\"min\\\": 100000, \\\"max\\\": 2510000.0, \\\"median\\\": 390000, \\\"upper quartile\\\": 540500, \\\"x\\\": \\\"98166\\\", \\\"lower quartile\\\": 292000}, {\\\"min\\\": 130000, \\\"max\\\": 2700000.0, \\\"median\\\": 571000, \\\"upper quartile\\\": 716500, \\\"x\\\": \\\"98027\\\", \\\"lower quartile\\\": 450000}, {\\\"min\\\": 130000, \\\"max\\\": 2050000.0, \\\"median\\\": 565500, \\\"upper quartile\\\": 703000, \\\"x\\\": \\\"98116\\\", \\\"lower quartile\\\": 460000}, {\\\"min\\\": 109000, \\\"max\\\": 2903000.0, \\\"median\\\": 367500, \\\"upper quartile\\\": 476500, \\\"x\\\": \\\"98118\\\", \\\"lower quartile\\\": 289000}, {\\\"min\\\": 90000, \\\"max\\\": 3120000.0, \\\"median\\\": 445950, \\\"upper quartile\\\": 525000, \\\"x\\\": \\\"98034\\\", \\\"lower quartile\\\": 387000}, {\\\"min\\\": 238000, \\\"max\\\": 1695000.0, \\\"median\\\": 550000, \\\"upper quartile\\\": 695000, \\\"x\\\": \\\"98103\\\", \\\"lower quartile\\\": 432000}, {\\\"min\\\": 110000, \\\"max\\\": 1350000.0, \\\"median\\\": 342000, \\\"upper quartile\\\": 410000, \\\"x\\\": \\\"98038\\\", \\\"lower quartile\\\": 285000}, {\\\"min\\\": 400000, \\\"max\\\": 1960000.0, \\\"median\\\": 768500, \\\"upper quartile\\\": 915000, \\\"x\\\": \\\"98005\\\", \\\"lower quartile\\\": 638700}, {\\\"min\\\": 169317, \\\"max\\\": 3400000.0, \\\"median\\\": 915000, \\\"upper quartile\\\": 1328000.0, \\\"x\\\": \\\"98112\\\", \\\"lower quartile\\\": 680000}, {\\\"min\\\": 160000, \\\"max\\\": 1600000.0, \\\"median\\\": 445000, \\\"upper quartile\\\": 526750, \\\"x\\\": \\\"98028\\\", \\\"lower quartile\\\": 379950}, {\\\"min\\\": 225000, \\\"max\\\": 2200000.0, \\\"median\\\": 615000, \\\"upper quartile\\\": 751000, \\\"x\\\": \\\"98052\\\", \\\"lower quartile\\\": 509250}, {\\\"min\\\": 80000, \\\"max\\\": 1680000.0, \\\"median\\\": 415000, \\\"upper quartile\\\": 539000, \\\"x\\\": \\\"98014\\\", \\\"lower quartile\\\": 309000}, {\\\"min\\\": 147500, \\\"max\\\": 800000, \\\"median\\\": 288400, \\\"upper quartile\\\": 327500, \\\"x\\\": \\\"98031\\\", \\\"lower quartile\\\": 252000}, {\\\"min\\\": 787500, \\\"max\\\": 6885000.0, \\\"median\\\": 1905000.0, \\\"upper quartile\\\": 2575000.0, \\\"x\\\": \\\"98039\\\", \\\"lower quartile\\\": 1398000.0}, {\\\"min\\\": 245500, \\\"max\\\": 1075000.0, \\\"median\\\": 470000, \\\"upper quartile\\\": 550000, \\\"x\\\": \\\"98011\\\", \\\"lower quartile\\\": 411800}, {\\\"min\\\": 202000, \\\"max\\\": 2050000.0, \\\"median\\\": 574000, \\\"upper quartile\\\": 720000, \\\"x\\\": \\\"98122\\\", \\\"lower quartile\\\": 450000}, {\\\"min\\\": 160000, \\\"max\\\": 1379900.0, \\\"median\\\": 465000, \\\"upper quartile\\\": 575000, \\\"x\\\": \\\"98070\\\", \\\"lower quartile\\\": 340000}, {\\\"min\\\": 105000, \\\"max\\\": 859000, \\\"median\\\": 292500, \\\"upper quartile\\\": 359950, \\\"x\\\": \\\"98042\\\", \\\"lower quartile\\\": 240000}, {\\\"min\\\": 95000, \\\"max\\\": 1500000.0, \\\"median\\\": 335000, \\\"upper quartile\\\": 392000, \\\"x\\\": \\\"98058\\\", \\\"lower quartile\\\": 285000}, {\\\"min\\\": 130000, \\\"max\\\": 808100, \\\"median\\\": 375000, \\\"upper quartile\\\": 435000, \\\"x\\\": \\\"98133\\\", \\\"lower quartile\\\": 318000}, {\\\"min\\\": 170000, \\\"max\\\": 1998000.0, \\\"median\\\": 500000, \\\"upper quartile\\\": 619000, \\\"x\\\": \\\"98065\\\", \\\"lower quartile\\\": 424950}, {\\\"min\\\": 330000, \\\"max\\\": 7700000.0, \\\"median\\\": 720000, \\\"upper quartile\\\": 979700, \\\"x\\\": \\\"98102\\\", \\\"lower quartile\\\": 575000}, {\\\"min\\\": 90000, \\\"max\\\": 640000, \\\"median\\\": 345000, \\\"upper quartile\\\": 425000, \\\"x\\\": \\\"98108\\\", \\\"lower quartile\\\": 284000}, {\\\"min\\\": 285000, \\\"max\\\": 2200000.0, \\\"median\\\": 575000, \\\"upper quartile\\\": 690000, \\\"x\\\": \\\"98029\\\", \\\"lower quartile\\\": 485000}, {\\\"min\\\": 200000, \\\"max\\\": 1565000.0, \\\"median\\\": 515000, \\\"upper quartile\\\": 642860, \\\"x\\\": \\\"98072\\\", \\\"lower quartile\\\": 422800}, {\\\"min\\\": 128000, \\\"max\\\": 950000, \\\"median\\\": 267950, \\\"upper quartile\\\": 333000, \\\"x\\\": \\\"98003\\\", \\\"lower quartile\\\": 229000}, {\\\"min\\\": 380000, \\\"max\\\": 3650000.0, \\\"median\\\": 675000, \\\"upper quartile\\\": 1005000.0, \\\"x\\\": \\\"98105\\\", \\\"lower quartile\\\": 550000}, {\\\"min\\\": 250000, \\\"max\\\": 3567000.0, \\\"median\\\": 545000, \\\"upper quartile\\\": 660000, \\\"x\\\": \\\"98008\\\", \\\"lower quartile\\\": 465000}, {\\\"min\\\": 120000, \\\"max\\\": 565000, \\\"median\\\": 282510, \\\"upper quartile\\\": 339950, \\\"x\\\": \\\"98030\\\", \\\"lower quartile\\\": 249950}, {\\\"min\\\": 216650, \\\"max\\\": 3200000.0, \\\"median\\\": 736000, \\\"upper quartile\\\": 1000000.0, \\\"x\\\": \\\"98109\\\", \\\"lower quartile\\\": 620000}, {\\\"min\\\": 290000, \\\"max\\\": 2945000.0, \\\"median\\\": 529950, \\\"upper quartile\\\": 630000, \\\"x\\\": \\\"98107\\\", \\\"lower quartile\\\": 470000}, {\\\"min\\\": 295000, \\\"max\\\": 1315000.0, \\\"median\\\": 555000, \\\"upper quartile\\\": 730000, \\\"x\\\": \\\"98007\\\", \\\"lower quartile\\\": 465000}, {\\\"min\\\": 110000, \\\"max\\\": 707000, \\\"median\\\": 265000, \\\"upper quartile\\\": 335000, \\\"x\\\": \\\"98188\\\", \\\"lower quartile\\\": 230000}, {\\\"min\\\": 170000, \\\"max\\\": 2280000.0, \\\"median\\\": 635000, \\\"upper quartile\\\": 790500, \\\"x\\\": \\\"98053\\\", \\\"lower quartile\\\": 485000}, {\\\"min\\\": 90000, \\\"max\\\": 795000, \\\"median\\\": 315000, \\\"upper quartile\\\": 366000, \\\"x\\\": \\\"98106\\\", \\\"lower quartile\\\": 260000}, {\\\"min\\\": 95000, \\\"max\\\": 1350000.0, \\\"median\\\": 265000, \\\"upper quartile\\\": 340000, \\\"x\\\": \\\"98198\\\", \\\"lower quartile\\\": 216500}, {\\\"min\\\": 142000, \\\"max\\\": 1862000.0, \\\"median\\\": 460000, \\\"upper quartile\\\": 700000, \\\"x\\\": \\\"98024\\\", \\\"lower quartile\\\": 340000}], \\\"name\\\": \\\"source_2\\\", \\\"transform\\\": [{\\\"sort\\\": {\\\"field\\\": \\\"median\\\"}, \\\"type\\\": \\\"collect\\\"}]}], \\\"metadata\\\": {\\\"bubbleOpts\\\": {\\\"fields\\\": [{\\\"field\\\": \\\"x\\\"}, {\\\"field\\\": \\\"min\\\"}, {\\\"field\\\": \\\"lower quartile\\\"}, {\\\"field\\\": \\\"median\\\"}, {\\\"field\\\": \\\"upper quartile\\\"}, {\\\"field\\\": \\\"max\\\"}], \\\"showAllFields\\\": false}}}\";                                 var vega_json_parsed = JSON.parse(vega_json);                                 var toolTipOpts = {                                     showAllFields: true                                 };                                 if(vega_json_parsed[\"metadata\"] != null){                                     if(vega_json_parsed[\"metadata\"][\"bubbleOpts\"] != null){                                         toolTipOpts = vega_json_parsed[\"metadata\"][\"bubbleOpts\"];                                     };                                 };                                 vegaEmbed(\"#vis\", vega_json_parsed).then(function (result) {                                     vegaTooltip.vega(result.view, toolTipOpts);                                  });                             </script>                         </body>                     </html>' src=\"demo_iframe_srcdoc.htm\">                         <p>Your browser does not support iframes.</p>                     </iframe>                 </body>             </html>"
            ]
          },
          "metadata": {
            "tags": []
          }
        }
      ]
    },
    {
      "cell_type": "code",
      "metadata": {
        "id": "pe0WzWzTvN6k",
        "colab_type": "code",
        "colab": {
          "base_uri": "https://localhost:8080/",
          "height": 34
        },
        "outputId": "bbd8a122-703c-4d13-e08d-bf4da84930ae"
      },
      "source": [
        "house_zip = sales[sales['zipcode']=='98039']\n",
        "house_zip['price'].mean()"
      ],
      "execution_count": null,
      "outputs": [
        {
          "output_type": "execute_result",
          "data": {
            "text/plain": [
              "2160606.6000000006"
            ]
          },
          "metadata": {
            "tags": []
          },
          "execution_count": 35
        }
      ]
    },
    {
      "cell_type": "code",
      "metadata": {
        "id": "dBd5GUojxNWz",
        "colab_type": "code",
        "colab": {
          "base_uri": "https://localhost:8080/",
          "height": 701
        },
        "outputId": "6a8664fa-d304-4106-8da2-7fed8a471ef8"
      },
      "source": [
        "house_sq = sales[(sales['sqft_living'] > 2000) & (sales['sqft_living'] < 4000)]\n",
        "house_sq"
      ],
      "execution_count": null,
      "outputs": [
        {
          "output_type": "execute_result",
          "data": {
            "text/plain": [
              "Columns:\n",
              "\tid\tstr\n",
              "\tdate\tdatetime\n",
              "\tprice\tfloat\n",
              "\tbedrooms\tfloat\n",
              "\tbathrooms\tfloat\n",
              "\tsqft_living\tfloat\n",
              "\tsqft_lot\tfloat\n",
              "\tfloors\tfloat\n",
              "\twaterfront\tint\n",
              "\tview\tint\n",
              "\tcondition\tint\n",
              "\tgrade\tfloat\n",
              "\tsqft_above\tfloat\n",
              "\tsqft_basement\tfloat\n",
              "\tyr_built\tfloat\n",
              "\tyr_renovated\tfloat\n",
              "\tzipcode\tstr\n",
              "\tlat\tfloat\n",
              "\tlong\tfloat\n",
              "\tsqft_living15\tfloat\n",
              "\tsqft_lot15\tfloat\n",
              "\n",
              "Rows: Unknown\n",
              "\n",
              "Data:\n",
              "+------------+---------------------------+-----------+----------+-----------+\n",
              "|     id     |            date           |   price   | bedrooms | bathrooms |\n",
              "+------------+---------------------------+-----------+----------+-----------+\n",
              "| 6414100192 | 2014-12-09 00:00:00+00:00 |  538000.0 |   3.0    |    2.25   |\n",
              "| 1736800520 | 2015-04-03 00:00:00+00:00 |  662500.0 |   3.0    |    2.5    |\n",
              "| 9297300055 | 2015-01-24 00:00:00+00:00 |  650000.0 |   4.0    |    3.0    |\n",
              "| 2524049179 | 2014-08-26 00:00:00+00:00 | 2000000.0 |   3.0    |    2.75   |\n",
              "| 7137970340 | 2014-07-03 00:00:00+00:00 |  285000.0 |   5.0    |    2.5    |\n",
              "| 3814700200 | 2014-11-20 00:00:00+00:00 |  329000.0 |   3.0    |    2.25   |\n",
              "| 1794500383 | 2014-06-26 00:00:00+00:00 |  937000.0 |   3.0    |    1.75   |\n",
              "| 1873100390 | 2015-03-02 00:00:00+00:00 |  719000.0 |   4.0    |    2.5    |\n",
              "| 8562750320 | 2014-11-10 00:00:00+00:00 |  580500.0 |   3.0    |    2.5    |\n",
              "| 0461000390 | 2014-06-24 00:00:00+00:00 |  687500.0 |   4.0    |    1.75   |\n",
              "+------------+---------------------------+-----------+----------+-----------+\n",
              "+-------------+----------+--------+------------+------+-----------+-------+\n",
              "| sqft_living | sqft_lot | floors | waterfront | view | condition | grade |\n",
              "+-------------+----------+--------+------------+------+-----------+-------+\n",
              "|    2570.0   |  7242.0  |  2.0   |     0      |  0   |     3     |  7.0  |\n",
              "|    3560.0   |  9796.0  |  1.0   |     0      |  0   |     3     |  8.0  |\n",
              "|    2950.0   |  5000.0  |  2.0   |     0      |  3   |     3     |  9.0  |\n",
              "|    3050.0   | 44867.0  |  1.0   |     0      |  4   |     3     |  9.0  |\n",
              "|    2270.0   |  6300.0  |  2.0   |     0      |  0   |     3     |  8.0  |\n",
              "|    2450.0   |  6500.0  |  2.0   |     0      |  0   |     4     |  8.0  |\n",
              "|    2450.0   |  2691.0  |  2.0   |     0      |  0   |     3     |  8.0  |\n",
              "|    2570.0   |  7173.0  |  2.0   |     0      |  0   |     3     |  8.0  |\n",
              "|    2320.0   |  3980.0  |  2.0   |     0      |  0   |     3     |  8.0  |\n",
              "|    2330.0   |  5000.0  |  1.5   |     0      |  0   |     4     |  7.0  |\n",
              "+-------------+----------+--------+------------+------+-----------+-------+\n",
              "+------------+---------------+----------+--------------+---------+-------------+\n",
              "| sqft_above | sqft_basement | yr_built | yr_renovated | zipcode |     lat     |\n",
              "+------------+---------------+----------+--------------+---------+-------------+\n",
              "|   2170.0   |     400.0     |  1951.0  |    1991.0    |  98125  | 47.72102274 |\n",
              "|   1860.0   |     1700.0    |  1965.0  |     0.0      |  98007  | 47.60065993 |\n",
              "|   1980.0   |     970.0     |  1979.0  |     0.0      |  98126  | 47.57136955 |\n",
              "|   2330.0   |     720.0     |  1968.0  |     0.0      |  98040  | 47.53164379 |\n",
              "|   2270.0   |      0.0      |  1995.0  |     0.0      |  98092  | 47.32658071 |\n",
              "|   2450.0   |      0.0      |  1985.0  |     0.0      |  98030  | 47.37386303 |\n",
              "|   1750.0   |     700.0     |  1915.0  |     0.0      |  98119  | 47.63855772 |\n",
              "|   2570.0   |      0.0      |  2005.0  |     0.0      |  98052  | 47.70732168 |\n",
              "|   2320.0   |      0.0      |  2003.0  |     0.0      |  98027  |  47.5391103 |\n",
              "|   1510.0   |     820.0     |  1929.0  |     0.0      |  98117  | 47.68228235 |\n",
              "+------------+---------------+----------+--------------+---------+-------------+\n",
              "+---------------+---------------+-----+\n",
              "|      long     | sqft_living15 | ... |\n",
              "+---------------+---------------+-----+\n",
              "|  -122.3188624 |     1690.0    | ... |\n",
              "| -122.14529566 |     2210.0    | ... |\n",
              "| -122.37541218 |     2140.0    | ... |\n",
              "| -122.23345881 |     4110.0    | ... |\n",
              "| -122.16892624 |     2240.0    | ... |\n",
              "| -122.17228981 |     2200.0    | ... |\n",
              "| -122.35985573 |     1760.0    | ... |\n",
              "| -122.11029785 |     2630.0    | ... |\n",
              "| -122.06971484 |     2580.0    | ... |\n",
              "| -122.36760203 |     1460.0    | ... |\n",
              "+---------------+---------------+-----+\n",
              "[? rows x 21 columns]\n",
              "Note: Only the head of the SFrame is printed. This SFrame is lazily evaluated.\n",
              "You can use sf.materialize() to force materialization."
            ],
            "text/html": [
              "<div style=\"max-height:1000px;max-width:1500px;overflow:auto;\"><table frame=\"box\" rules=\"cols\">\n",
              "    <tr>\n",
              "        <th style=\"padding-left: 1em; padding-right: 1em; text-align: center\">id</th>\n",
              "        <th style=\"padding-left: 1em; padding-right: 1em; text-align: center\">date</th>\n",
              "        <th style=\"padding-left: 1em; padding-right: 1em; text-align: center\">price</th>\n",
              "        <th style=\"padding-left: 1em; padding-right: 1em; text-align: center\">bedrooms</th>\n",
              "        <th style=\"padding-left: 1em; padding-right: 1em; text-align: center\">bathrooms</th>\n",
              "        <th style=\"padding-left: 1em; padding-right: 1em; text-align: center\">sqft_living</th>\n",
              "        <th style=\"padding-left: 1em; padding-right: 1em; text-align: center\">sqft_lot</th>\n",
              "        <th style=\"padding-left: 1em; padding-right: 1em; text-align: center\">floors</th>\n",
              "        <th style=\"padding-left: 1em; padding-right: 1em; text-align: center\">waterfront</th>\n",
              "    </tr>\n",
              "    <tr>\n",
              "        <td style=\"padding-left: 1em; padding-right: 1em; text-align: center; vertical-align: top\">6414100192</td>\n",
              "        <td style=\"padding-left: 1em; padding-right: 1em; text-align: center; vertical-align: top\">2014-12-09 00:00:00+00:00</td>\n",
              "        <td style=\"padding-left: 1em; padding-right: 1em; text-align: center; vertical-align: top\">538000.0</td>\n",
              "        <td style=\"padding-left: 1em; padding-right: 1em; text-align: center; vertical-align: top\">3.0</td>\n",
              "        <td style=\"padding-left: 1em; padding-right: 1em; text-align: center; vertical-align: top\">2.25</td>\n",
              "        <td style=\"padding-left: 1em; padding-right: 1em; text-align: center; vertical-align: top\">2570.0</td>\n",
              "        <td style=\"padding-left: 1em; padding-right: 1em; text-align: center; vertical-align: top\">7242.0</td>\n",
              "        <td style=\"padding-left: 1em; padding-right: 1em; text-align: center; vertical-align: top\">2.0</td>\n",
              "        <td style=\"padding-left: 1em; padding-right: 1em; text-align: center; vertical-align: top\">0</td>\n",
              "    </tr>\n",
              "    <tr>\n",
              "        <td style=\"padding-left: 1em; padding-right: 1em; text-align: center; vertical-align: top\">1736800520</td>\n",
              "        <td style=\"padding-left: 1em; padding-right: 1em; text-align: center; vertical-align: top\">2015-04-03 00:00:00+00:00</td>\n",
              "        <td style=\"padding-left: 1em; padding-right: 1em; text-align: center; vertical-align: top\">662500.0</td>\n",
              "        <td style=\"padding-left: 1em; padding-right: 1em; text-align: center; vertical-align: top\">3.0</td>\n",
              "        <td style=\"padding-left: 1em; padding-right: 1em; text-align: center; vertical-align: top\">2.5</td>\n",
              "        <td style=\"padding-left: 1em; padding-right: 1em; text-align: center; vertical-align: top\">3560.0</td>\n",
              "        <td style=\"padding-left: 1em; padding-right: 1em; text-align: center; vertical-align: top\">9796.0</td>\n",
              "        <td style=\"padding-left: 1em; padding-right: 1em; text-align: center; vertical-align: top\">1.0</td>\n",
              "        <td style=\"padding-left: 1em; padding-right: 1em; text-align: center; vertical-align: top\">0</td>\n",
              "    </tr>\n",
              "    <tr>\n",
              "        <td style=\"padding-left: 1em; padding-right: 1em; text-align: center; vertical-align: top\">9297300055</td>\n",
              "        <td style=\"padding-left: 1em; padding-right: 1em; text-align: center; vertical-align: top\">2015-01-24 00:00:00+00:00</td>\n",
              "        <td style=\"padding-left: 1em; padding-right: 1em; text-align: center; vertical-align: top\">650000.0</td>\n",
              "        <td style=\"padding-left: 1em; padding-right: 1em; text-align: center; vertical-align: top\">4.0</td>\n",
              "        <td style=\"padding-left: 1em; padding-right: 1em; text-align: center; vertical-align: top\">3.0</td>\n",
              "        <td style=\"padding-left: 1em; padding-right: 1em; text-align: center; vertical-align: top\">2950.0</td>\n",
              "        <td style=\"padding-left: 1em; padding-right: 1em; text-align: center; vertical-align: top\">5000.0</td>\n",
              "        <td style=\"padding-left: 1em; padding-right: 1em; text-align: center; vertical-align: top\">2.0</td>\n",
              "        <td style=\"padding-left: 1em; padding-right: 1em; text-align: center; vertical-align: top\">0</td>\n",
              "    </tr>\n",
              "    <tr>\n",
              "        <td style=\"padding-left: 1em; padding-right: 1em; text-align: center; vertical-align: top\">2524049179</td>\n",
              "        <td style=\"padding-left: 1em; padding-right: 1em; text-align: center; vertical-align: top\">2014-08-26 00:00:00+00:00</td>\n",
              "        <td style=\"padding-left: 1em; padding-right: 1em; text-align: center; vertical-align: top\">2000000.0</td>\n",
              "        <td style=\"padding-left: 1em; padding-right: 1em; text-align: center; vertical-align: top\">3.0</td>\n",
              "        <td style=\"padding-left: 1em; padding-right: 1em; text-align: center; vertical-align: top\">2.75</td>\n",
              "        <td style=\"padding-left: 1em; padding-right: 1em; text-align: center; vertical-align: top\">3050.0</td>\n",
              "        <td style=\"padding-left: 1em; padding-right: 1em; text-align: center; vertical-align: top\">44867.0</td>\n",
              "        <td style=\"padding-left: 1em; padding-right: 1em; text-align: center; vertical-align: top\">1.0</td>\n",
              "        <td style=\"padding-left: 1em; padding-right: 1em; text-align: center; vertical-align: top\">0</td>\n",
              "    </tr>\n",
              "    <tr>\n",
              "        <td style=\"padding-left: 1em; padding-right: 1em; text-align: center; vertical-align: top\">7137970340</td>\n",
              "        <td style=\"padding-left: 1em; padding-right: 1em; text-align: center; vertical-align: top\">2014-07-03 00:00:00+00:00</td>\n",
              "        <td style=\"padding-left: 1em; padding-right: 1em; text-align: center; vertical-align: top\">285000.0</td>\n",
              "        <td style=\"padding-left: 1em; padding-right: 1em; text-align: center; vertical-align: top\">5.0</td>\n",
              "        <td style=\"padding-left: 1em; padding-right: 1em; text-align: center; vertical-align: top\">2.5</td>\n",
              "        <td style=\"padding-left: 1em; padding-right: 1em; text-align: center; vertical-align: top\">2270.0</td>\n",
              "        <td style=\"padding-left: 1em; padding-right: 1em; text-align: center; vertical-align: top\">6300.0</td>\n",
              "        <td style=\"padding-left: 1em; padding-right: 1em; text-align: center; vertical-align: top\">2.0</td>\n",
              "        <td style=\"padding-left: 1em; padding-right: 1em; text-align: center; vertical-align: top\">0</td>\n",
              "    </tr>\n",
              "    <tr>\n",
              "        <td style=\"padding-left: 1em; padding-right: 1em; text-align: center; vertical-align: top\">3814700200</td>\n",
              "        <td style=\"padding-left: 1em; padding-right: 1em; text-align: center; vertical-align: top\">2014-11-20 00:00:00+00:00</td>\n",
              "        <td style=\"padding-left: 1em; padding-right: 1em; text-align: center; vertical-align: top\">329000.0</td>\n",
              "        <td style=\"padding-left: 1em; padding-right: 1em; text-align: center; vertical-align: top\">3.0</td>\n",
              "        <td style=\"padding-left: 1em; padding-right: 1em; text-align: center; vertical-align: top\">2.25</td>\n",
              "        <td style=\"padding-left: 1em; padding-right: 1em; text-align: center; vertical-align: top\">2450.0</td>\n",
              "        <td style=\"padding-left: 1em; padding-right: 1em; text-align: center; vertical-align: top\">6500.0</td>\n",
              "        <td style=\"padding-left: 1em; padding-right: 1em; text-align: center; vertical-align: top\">2.0</td>\n",
              "        <td style=\"padding-left: 1em; padding-right: 1em; text-align: center; vertical-align: top\">0</td>\n",
              "    </tr>\n",
              "    <tr>\n",
              "        <td style=\"padding-left: 1em; padding-right: 1em; text-align: center; vertical-align: top\">1794500383</td>\n",
              "        <td style=\"padding-left: 1em; padding-right: 1em; text-align: center; vertical-align: top\">2014-06-26 00:00:00+00:00</td>\n",
              "        <td style=\"padding-left: 1em; padding-right: 1em; text-align: center; vertical-align: top\">937000.0</td>\n",
              "        <td style=\"padding-left: 1em; padding-right: 1em; text-align: center; vertical-align: top\">3.0</td>\n",
              "        <td style=\"padding-left: 1em; padding-right: 1em; text-align: center; vertical-align: top\">1.75</td>\n",
              "        <td style=\"padding-left: 1em; padding-right: 1em; text-align: center; vertical-align: top\">2450.0</td>\n",
              "        <td style=\"padding-left: 1em; padding-right: 1em; text-align: center; vertical-align: top\">2691.0</td>\n",
              "        <td style=\"padding-left: 1em; padding-right: 1em; text-align: center; vertical-align: top\">2.0</td>\n",
              "        <td style=\"padding-left: 1em; padding-right: 1em; text-align: center; vertical-align: top\">0</td>\n",
              "    </tr>\n",
              "    <tr>\n",
              "        <td style=\"padding-left: 1em; padding-right: 1em; text-align: center; vertical-align: top\">1873100390</td>\n",
              "        <td style=\"padding-left: 1em; padding-right: 1em; text-align: center; vertical-align: top\">2015-03-02 00:00:00+00:00</td>\n",
              "        <td style=\"padding-left: 1em; padding-right: 1em; text-align: center; vertical-align: top\">719000.0</td>\n",
              "        <td style=\"padding-left: 1em; padding-right: 1em; text-align: center; vertical-align: top\">4.0</td>\n",
              "        <td style=\"padding-left: 1em; padding-right: 1em; text-align: center; vertical-align: top\">2.5</td>\n",
              "        <td style=\"padding-left: 1em; padding-right: 1em; text-align: center; vertical-align: top\">2570.0</td>\n",
              "        <td style=\"padding-left: 1em; padding-right: 1em; text-align: center; vertical-align: top\">7173.0</td>\n",
              "        <td style=\"padding-left: 1em; padding-right: 1em; text-align: center; vertical-align: top\">2.0</td>\n",
              "        <td style=\"padding-left: 1em; padding-right: 1em; text-align: center; vertical-align: top\">0</td>\n",
              "    </tr>\n",
              "    <tr>\n",
              "        <td style=\"padding-left: 1em; padding-right: 1em; text-align: center; vertical-align: top\">8562750320</td>\n",
              "        <td style=\"padding-left: 1em; padding-right: 1em; text-align: center; vertical-align: top\">2014-11-10 00:00:00+00:00</td>\n",
              "        <td style=\"padding-left: 1em; padding-right: 1em; text-align: center; vertical-align: top\">580500.0</td>\n",
              "        <td style=\"padding-left: 1em; padding-right: 1em; text-align: center; vertical-align: top\">3.0</td>\n",
              "        <td style=\"padding-left: 1em; padding-right: 1em; text-align: center; vertical-align: top\">2.5</td>\n",
              "        <td style=\"padding-left: 1em; padding-right: 1em; text-align: center; vertical-align: top\">2320.0</td>\n",
              "        <td style=\"padding-left: 1em; padding-right: 1em; text-align: center; vertical-align: top\">3980.0</td>\n",
              "        <td style=\"padding-left: 1em; padding-right: 1em; text-align: center; vertical-align: top\">2.0</td>\n",
              "        <td style=\"padding-left: 1em; padding-right: 1em; text-align: center; vertical-align: top\">0</td>\n",
              "    </tr>\n",
              "    <tr>\n",
              "        <td style=\"padding-left: 1em; padding-right: 1em; text-align: center; vertical-align: top\">0461000390</td>\n",
              "        <td style=\"padding-left: 1em; padding-right: 1em; text-align: center; vertical-align: top\">2014-06-24 00:00:00+00:00</td>\n",
              "        <td style=\"padding-left: 1em; padding-right: 1em; text-align: center; vertical-align: top\">687500.0</td>\n",
              "        <td style=\"padding-left: 1em; padding-right: 1em; text-align: center; vertical-align: top\">4.0</td>\n",
              "        <td style=\"padding-left: 1em; padding-right: 1em; text-align: center; vertical-align: top\">1.75</td>\n",
              "        <td style=\"padding-left: 1em; padding-right: 1em; text-align: center; vertical-align: top\">2330.0</td>\n",
              "        <td style=\"padding-left: 1em; padding-right: 1em; text-align: center; vertical-align: top\">5000.0</td>\n",
              "        <td style=\"padding-left: 1em; padding-right: 1em; text-align: center; vertical-align: top\">1.5</td>\n",
              "        <td style=\"padding-left: 1em; padding-right: 1em; text-align: center; vertical-align: top\">0</td>\n",
              "    </tr>\n",
              "</table>\n",
              "<table frame=\"box\" rules=\"cols\">\n",
              "    <tr>\n",
              "        <th style=\"padding-left: 1em; padding-right: 1em; text-align: center\">view</th>\n",
              "        <th style=\"padding-left: 1em; padding-right: 1em; text-align: center\">condition</th>\n",
              "        <th style=\"padding-left: 1em; padding-right: 1em; text-align: center\">grade</th>\n",
              "        <th style=\"padding-left: 1em; padding-right: 1em; text-align: center\">sqft_above</th>\n",
              "        <th style=\"padding-left: 1em; padding-right: 1em; text-align: center\">sqft_basement</th>\n",
              "        <th style=\"padding-left: 1em; padding-right: 1em; text-align: center\">yr_built</th>\n",
              "        <th style=\"padding-left: 1em; padding-right: 1em; text-align: center\">yr_renovated</th>\n",
              "        <th style=\"padding-left: 1em; padding-right: 1em; text-align: center\">zipcode</th>\n",
              "        <th style=\"padding-left: 1em; padding-right: 1em; text-align: center\">lat</th>\n",
              "    </tr>\n",
              "    <tr>\n",
              "        <td style=\"padding-left: 1em; padding-right: 1em; text-align: center; vertical-align: top\">0</td>\n",
              "        <td style=\"padding-left: 1em; padding-right: 1em; text-align: center; vertical-align: top\">3</td>\n",
              "        <td style=\"padding-left: 1em; padding-right: 1em; text-align: center; vertical-align: top\">7.0</td>\n",
              "        <td style=\"padding-left: 1em; padding-right: 1em; text-align: center; vertical-align: top\">2170.0</td>\n",
              "        <td style=\"padding-left: 1em; padding-right: 1em; text-align: center; vertical-align: top\">400.0</td>\n",
              "        <td style=\"padding-left: 1em; padding-right: 1em; text-align: center; vertical-align: top\">1951.0</td>\n",
              "        <td style=\"padding-left: 1em; padding-right: 1em; text-align: center; vertical-align: top\">1991.0</td>\n",
              "        <td style=\"padding-left: 1em; padding-right: 1em; text-align: center; vertical-align: top\">98125</td>\n",
              "        <td style=\"padding-left: 1em; padding-right: 1em; text-align: center; vertical-align: top\">47.72102274</td>\n",
              "    </tr>\n",
              "    <tr>\n",
              "        <td style=\"padding-left: 1em; padding-right: 1em; text-align: center; vertical-align: top\">0</td>\n",
              "        <td style=\"padding-left: 1em; padding-right: 1em; text-align: center; vertical-align: top\">3</td>\n",
              "        <td style=\"padding-left: 1em; padding-right: 1em; text-align: center; vertical-align: top\">8.0</td>\n",
              "        <td style=\"padding-left: 1em; padding-right: 1em; text-align: center; vertical-align: top\">1860.0</td>\n",
              "        <td style=\"padding-left: 1em; padding-right: 1em; text-align: center; vertical-align: top\">1700.0</td>\n",
              "        <td style=\"padding-left: 1em; padding-right: 1em; text-align: center; vertical-align: top\">1965.0</td>\n",
              "        <td style=\"padding-left: 1em; padding-right: 1em; text-align: center; vertical-align: top\">0.0</td>\n",
              "        <td style=\"padding-left: 1em; padding-right: 1em; text-align: center; vertical-align: top\">98007</td>\n",
              "        <td style=\"padding-left: 1em; padding-right: 1em; text-align: center; vertical-align: top\">47.60065993</td>\n",
              "    </tr>\n",
              "    <tr>\n",
              "        <td style=\"padding-left: 1em; padding-right: 1em; text-align: center; vertical-align: top\">3</td>\n",
              "        <td style=\"padding-left: 1em; padding-right: 1em; text-align: center; vertical-align: top\">3</td>\n",
              "        <td style=\"padding-left: 1em; padding-right: 1em; text-align: center; vertical-align: top\">9.0</td>\n",
              "        <td style=\"padding-left: 1em; padding-right: 1em; text-align: center; vertical-align: top\">1980.0</td>\n",
              "        <td style=\"padding-left: 1em; padding-right: 1em; text-align: center; vertical-align: top\">970.0</td>\n",
              "        <td style=\"padding-left: 1em; padding-right: 1em; text-align: center; vertical-align: top\">1979.0</td>\n",
              "        <td style=\"padding-left: 1em; padding-right: 1em; text-align: center; vertical-align: top\">0.0</td>\n",
              "        <td style=\"padding-left: 1em; padding-right: 1em; text-align: center; vertical-align: top\">98126</td>\n",
              "        <td style=\"padding-left: 1em; padding-right: 1em; text-align: center; vertical-align: top\">47.57136955</td>\n",
              "    </tr>\n",
              "    <tr>\n",
              "        <td style=\"padding-left: 1em; padding-right: 1em; text-align: center; vertical-align: top\">4</td>\n",
              "        <td style=\"padding-left: 1em; padding-right: 1em; text-align: center; vertical-align: top\">3</td>\n",
              "        <td style=\"padding-left: 1em; padding-right: 1em; text-align: center; vertical-align: top\">9.0</td>\n",
              "        <td style=\"padding-left: 1em; padding-right: 1em; text-align: center; vertical-align: top\">2330.0</td>\n",
              "        <td style=\"padding-left: 1em; padding-right: 1em; text-align: center; vertical-align: top\">720.0</td>\n",
              "        <td style=\"padding-left: 1em; padding-right: 1em; text-align: center; vertical-align: top\">1968.0</td>\n",
              "        <td style=\"padding-left: 1em; padding-right: 1em; text-align: center; vertical-align: top\">0.0</td>\n",
              "        <td style=\"padding-left: 1em; padding-right: 1em; text-align: center; vertical-align: top\">98040</td>\n",
              "        <td style=\"padding-left: 1em; padding-right: 1em; text-align: center; vertical-align: top\">47.53164379</td>\n",
              "    </tr>\n",
              "    <tr>\n",
              "        <td style=\"padding-left: 1em; padding-right: 1em; text-align: center; vertical-align: top\">0</td>\n",
              "        <td style=\"padding-left: 1em; padding-right: 1em; text-align: center; vertical-align: top\">3</td>\n",
              "        <td style=\"padding-left: 1em; padding-right: 1em; text-align: center; vertical-align: top\">8.0</td>\n",
              "        <td style=\"padding-left: 1em; padding-right: 1em; text-align: center; vertical-align: top\">2270.0</td>\n",
              "        <td style=\"padding-left: 1em; padding-right: 1em; text-align: center; vertical-align: top\">0.0</td>\n",
              "        <td style=\"padding-left: 1em; padding-right: 1em; text-align: center; vertical-align: top\">1995.0</td>\n",
              "        <td style=\"padding-left: 1em; padding-right: 1em; text-align: center; vertical-align: top\">0.0</td>\n",
              "        <td style=\"padding-left: 1em; padding-right: 1em; text-align: center; vertical-align: top\">98092</td>\n",
              "        <td style=\"padding-left: 1em; padding-right: 1em; text-align: center; vertical-align: top\">47.32658071</td>\n",
              "    </tr>\n",
              "    <tr>\n",
              "        <td style=\"padding-left: 1em; padding-right: 1em; text-align: center; vertical-align: top\">0</td>\n",
              "        <td style=\"padding-left: 1em; padding-right: 1em; text-align: center; vertical-align: top\">4</td>\n",
              "        <td style=\"padding-left: 1em; padding-right: 1em; text-align: center; vertical-align: top\">8.0</td>\n",
              "        <td style=\"padding-left: 1em; padding-right: 1em; text-align: center; vertical-align: top\">2450.0</td>\n",
              "        <td style=\"padding-left: 1em; padding-right: 1em; text-align: center; vertical-align: top\">0.0</td>\n",
              "        <td style=\"padding-left: 1em; padding-right: 1em; text-align: center; vertical-align: top\">1985.0</td>\n",
              "        <td style=\"padding-left: 1em; padding-right: 1em; text-align: center; vertical-align: top\">0.0</td>\n",
              "        <td style=\"padding-left: 1em; padding-right: 1em; text-align: center; vertical-align: top\">98030</td>\n",
              "        <td style=\"padding-left: 1em; padding-right: 1em; text-align: center; vertical-align: top\">47.37386303</td>\n",
              "    </tr>\n",
              "    <tr>\n",
              "        <td style=\"padding-left: 1em; padding-right: 1em; text-align: center; vertical-align: top\">0</td>\n",
              "        <td style=\"padding-left: 1em; padding-right: 1em; text-align: center; vertical-align: top\">3</td>\n",
              "        <td style=\"padding-left: 1em; padding-right: 1em; text-align: center; vertical-align: top\">8.0</td>\n",
              "        <td style=\"padding-left: 1em; padding-right: 1em; text-align: center; vertical-align: top\">1750.0</td>\n",
              "        <td style=\"padding-left: 1em; padding-right: 1em; text-align: center; vertical-align: top\">700.0</td>\n",
              "        <td style=\"padding-left: 1em; padding-right: 1em; text-align: center; vertical-align: top\">1915.0</td>\n",
              "        <td style=\"padding-left: 1em; padding-right: 1em; text-align: center; vertical-align: top\">0.0</td>\n",
              "        <td style=\"padding-left: 1em; padding-right: 1em; text-align: center; vertical-align: top\">98119</td>\n",
              "        <td style=\"padding-left: 1em; padding-right: 1em; text-align: center; vertical-align: top\">47.63855772</td>\n",
              "    </tr>\n",
              "    <tr>\n",
              "        <td style=\"padding-left: 1em; padding-right: 1em; text-align: center; vertical-align: top\">0</td>\n",
              "        <td style=\"padding-left: 1em; padding-right: 1em; text-align: center; vertical-align: top\">3</td>\n",
              "        <td style=\"padding-left: 1em; padding-right: 1em; text-align: center; vertical-align: top\">8.0</td>\n",
              "        <td style=\"padding-left: 1em; padding-right: 1em; text-align: center; vertical-align: top\">2570.0</td>\n",
              "        <td style=\"padding-left: 1em; padding-right: 1em; text-align: center; vertical-align: top\">0.0</td>\n",
              "        <td style=\"padding-left: 1em; padding-right: 1em; text-align: center; vertical-align: top\">2005.0</td>\n",
              "        <td style=\"padding-left: 1em; padding-right: 1em; text-align: center; vertical-align: top\">0.0</td>\n",
              "        <td style=\"padding-left: 1em; padding-right: 1em; text-align: center; vertical-align: top\">98052</td>\n",
              "        <td style=\"padding-left: 1em; padding-right: 1em; text-align: center; vertical-align: top\">47.70732168</td>\n",
              "    </tr>\n",
              "    <tr>\n",
              "        <td style=\"padding-left: 1em; padding-right: 1em; text-align: center; vertical-align: top\">0</td>\n",
              "        <td style=\"padding-left: 1em; padding-right: 1em; text-align: center; vertical-align: top\">3</td>\n",
              "        <td style=\"padding-left: 1em; padding-right: 1em; text-align: center; vertical-align: top\">8.0</td>\n",
              "        <td style=\"padding-left: 1em; padding-right: 1em; text-align: center; vertical-align: top\">2320.0</td>\n",
              "        <td style=\"padding-left: 1em; padding-right: 1em; text-align: center; vertical-align: top\">0.0</td>\n",
              "        <td style=\"padding-left: 1em; padding-right: 1em; text-align: center; vertical-align: top\">2003.0</td>\n",
              "        <td style=\"padding-left: 1em; padding-right: 1em; text-align: center; vertical-align: top\">0.0</td>\n",
              "        <td style=\"padding-left: 1em; padding-right: 1em; text-align: center; vertical-align: top\">98027</td>\n",
              "        <td style=\"padding-left: 1em; padding-right: 1em; text-align: center; vertical-align: top\">47.5391103</td>\n",
              "    </tr>\n",
              "    <tr>\n",
              "        <td style=\"padding-left: 1em; padding-right: 1em; text-align: center; vertical-align: top\">0</td>\n",
              "        <td style=\"padding-left: 1em; padding-right: 1em; text-align: center; vertical-align: top\">4</td>\n",
              "        <td style=\"padding-left: 1em; padding-right: 1em; text-align: center; vertical-align: top\">7.0</td>\n",
              "        <td style=\"padding-left: 1em; padding-right: 1em; text-align: center; vertical-align: top\">1510.0</td>\n",
              "        <td style=\"padding-left: 1em; padding-right: 1em; text-align: center; vertical-align: top\">820.0</td>\n",
              "        <td style=\"padding-left: 1em; padding-right: 1em; text-align: center; vertical-align: top\">1929.0</td>\n",
              "        <td style=\"padding-left: 1em; padding-right: 1em; text-align: center; vertical-align: top\">0.0</td>\n",
              "        <td style=\"padding-left: 1em; padding-right: 1em; text-align: center; vertical-align: top\">98117</td>\n",
              "        <td style=\"padding-left: 1em; padding-right: 1em; text-align: center; vertical-align: top\">47.68228235</td>\n",
              "    </tr>\n",
              "</table>\n",
              "<table frame=\"box\" rules=\"cols\">\n",
              "    <tr>\n",
              "        <th style=\"padding-left: 1em; padding-right: 1em; text-align: center\">long</th>\n",
              "        <th style=\"padding-left: 1em; padding-right: 1em; text-align: center\">sqft_living15</th>\n",
              "        <th style=\"padding-left: 1em; padding-right: 1em; text-align: center\">sqft_lot15</th>\n",
              "    </tr>\n",
              "    <tr>\n",
              "        <td style=\"padding-left: 1em; padding-right: 1em; text-align: center; vertical-align: top\">-122.3188624</td>\n",
              "        <td style=\"padding-left: 1em; padding-right: 1em; text-align: center; vertical-align: top\">1690.0</td>\n",
              "        <td style=\"padding-left: 1em; padding-right: 1em; text-align: center; vertical-align: top\">7639.0</td>\n",
              "    </tr>\n",
              "    <tr>\n",
              "        <td style=\"padding-left: 1em; padding-right: 1em; text-align: center; vertical-align: top\">-122.14529566</td>\n",
              "        <td style=\"padding-left: 1em; padding-right: 1em; text-align: center; vertical-align: top\">2210.0</td>\n",
              "        <td style=\"padding-left: 1em; padding-right: 1em; text-align: center; vertical-align: top\">8925.0</td>\n",
              "    </tr>\n",
              "    <tr>\n",
              "        <td style=\"padding-left: 1em; padding-right: 1em; text-align: center; vertical-align: top\">-122.37541218</td>\n",
              "        <td style=\"padding-left: 1em; padding-right: 1em; text-align: center; vertical-align: top\">2140.0</td>\n",
              "        <td style=\"padding-left: 1em; padding-right: 1em; text-align: center; vertical-align: top\">4000.0</td>\n",
              "    </tr>\n",
              "    <tr>\n",
              "        <td style=\"padding-left: 1em; padding-right: 1em; text-align: center; vertical-align: top\">-122.23345881</td>\n",
              "        <td style=\"padding-left: 1em; padding-right: 1em; text-align: center; vertical-align: top\">4110.0</td>\n",
              "        <td style=\"padding-left: 1em; padding-right: 1em; text-align: center; vertical-align: top\">20336.0</td>\n",
              "    </tr>\n",
              "    <tr>\n",
              "        <td style=\"padding-left: 1em; padding-right: 1em; text-align: center; vertical-align: top\">-122.16892624</td>\n",
              "        <td style=\"padding-left: 1em; padding-right: 1em; text-align: center; vertical-align: top\">2240.0</td>\n",
              "        <td style=\"padding-left: 1em; padding-right: 1em; text-align: center; vertical-align: top\">7005.0</td>\n",
              "    </tr>\n",
              "    <tr>\n",
              "        <td style=\"padding-left: 1em; padding-right: 1em; text-align: center; vertical-align: top\">-122.17228981</td>\n",
              "        <td style=\"padding-left: 1em; padding-right: 1em; text-align: center; vertical-align: top\">2200.0</td>\n",
              "        <td style=\"padding-left: 1em; padding-right: 1em; text-align: center; vertical-align: top\">6865.0</td>\n",
              "    </tr>\n",
              "    <tr>\n",
              "        <td style=\"padding-left: 1em; padding-right: 1em; text-align: center; vertical-align: top\">-122.35985573</td>\n",
              "        <td style=\"padding-left: 1em; padding-right: 1em; text-align: center; vertical-align: top\">1760.0</td>\n",
              "        <td style=\"padding-left: 1em; padding-right: 1em; text-align: center; vertical-align: top\">3573.0</td>\n",
              "    </tr>\n",
              "    <tr>\n",
              "        <td style=\"padding-left: 1em; padding-right: 1em; text-align: center; vertical-align: top\">-122.11029785</td>\n",
              "        <td style=\"padding-left: 1em; padding-right: 1em; text-align: center; vertical-align: top\">2630.0</td>\n",
              "        <td style=\"padding-left: 1em; padding-right: 1em; text-align: center; vertical-align: top\">6026.0</td>\n",
              "    </tr>\n",
              "    <tr>\n",
              "        <td style=\"padding-left: 1em; padding-right: 1em; text-align: center; vertical-align: top\">-122.06971484</td>\n",
              "        <td style=\"padding-left: 1em; padding-right: 1em; text-align: center; vertical-align: top\">2580.0</td>\n",
              "        <td style=\"padding-left: 1em; padding-right: 1em; text-align: center; vertical-align: top\">3980.0</td>\n",
              "    </tr>\n",
              "    <tr>\n",
              "        <td style=\"padding-left: 1em; padding-right: 1em; text-align: center; vertical-align: top\">-122.36760203</td>\n",
              "        <td style=\"padding-left: 1em; padding-right: 1em; text-align: center; vertical-align: top\">1460.0</td>\n",
              "        <td style=\"padding-left: 1em; padding-right: 1em; text-align: center; vertical-align: top\">5000.0</td>\n",
              "    </tr>\n",
              "</table>\n",
              "[? rows x 21 columns]<br/>Note: Only the head of the SFrame is printed. This SFrame is lazily evaluated.<br/>You can use sf.materialize() to force materialization.\n",
              "</div>"
            ]
          },
          "metadata": {
            "tags": []
          },
          "execution_count": 43
        }
      ]
    },
    {
      "cell_type": "code",
      "metadata": {
        "id": "TRcdVJI0y3h0",
        "colab_type": "code",
        "colab": {}
      },
      "source": [
        "advanced_features = [\n",
        "'bedrooms', 'bathrooms', 'sqft_living', 'sqft_lot', 'floors', 'zipcode',\n",
        "'condition', # condition of house\t\t\t\t\n",
        "'grade', # measure of quality of construction\t\t\t\t\n",
        "'waterfront', # waterfront property\t\t\t\t\n",
        "'view', # type of view\t\t\t\t\n",
        "'sqft_above', # square feet above ground\t\t\t\t\n",
        "'sqft_basement', # square feet in basement\t\t\t\t\n",
        "'yr_built', # the year built\t\t\t\t\n",
        "'yr_renovated', # the year renovated\t\t\t\t\n",
        "'lat', 'long', # the lat-long of the parcel\t\t\t\t\n",
        "'sqft_living15', # average sq.ft. of 15 nearest neighbors \t\t\t\t\n",
        "'sqft_lot15', # average lot size of 15 nearest neighbors \n",
        "]"
      ],
      "execution_count": null,
      "outputs": []
    },
    {
      "cell_type": "code",
      "metadata": {
        "id": "rilPlGMSy5Su",
        "colab_type": "code",
        "colab": {
          "base_uri": "https://localhost:8080/",
          "height": 306
        },
        "outputId": "686ad13d-ecf3-4c0a-abd1-82be08ab17e2"
      },
      "source": [
        "advanced_feature_model = turicreate.linear_regression.create(training_set,target='price', features=advanced_features)"
      ],
      "execution_count": null,
      "outputs": [
        {
          "output_type": "stream",
          "text": [
            "PROGRESS: Creating a validation set from 5 percent of training data. This may take a while.\n",
            "          You can set ``validation_set=None`` to disable validation tracking.\n",
            "\n"
          ],
          "name": "stdout"
        },
        {
          "output_type": "display_data",
          "data": {
            "text/plain": [
              "Linear regression:"
            ],
            "text/html": [
              "<pre>Linear regression:</pre>"
            ]
          },
          "metadata": {
            "tags": []
          }
        },
        {
          "output_type": "display_data",
          "data": {
            "text/plain": [
              "--------------------------------------------------------"
            ],
            "text/html": [
              "<pre>--------------------------------------------------------</pre>"
            ]
          },
          "metadata": {
            "tags": []
          }
        },
        {
          "output_type": "display_data",
          "data": {
            "text/plain": [
              "Number of examples          : 16514"
            ],
            "text/html": [
              "<pre>Number of examples          : 16514</pre>"
            ]
          },
          "metadata": {
            "tags": []
          }
        },
        {
          "output_type": "display_data",
          "data": {
            "text/plain": [
              "Number of features          : 18"
            ],
            "text/html": [
              "<pre>Number of features          : 18</pre>"
            ]
          },
          "metadata": {
            "tags": []
          }
        },
        {
          "output_type": "display_data",
          "data": {
            "text/plain": [
              "Number of unpacked features : 18"
            ],
            "text/html": [
              "<pre>Number of unpacked features : 18</pre>"
            ]
          },
          "metadata": {
            "tags": []
          }
        },
        {
          "output_type": "display_data",
          "data": {
            "text/plain": [
              "Number of coefficients    : 87"
            ],
            "text/html": [
              "<pre>Number of coefficients    : 87</pre>"
            ]
          },
          "metadata": {
            "tags": []
          }
        },
        {
          "output_type": "display_data",
          "data": {
            "text/plain": [
              "Starting Newton Method"
            ],
            "text/html": [
              "<pre>Starting Newton Method</pre>"
            ]
          },
          "metadata": {
            "tags": []
          }
        },
        {
          "output_type": "display_data",
          "data": {
            "text/plain": [
              "--------------------------------------------------------"
            ],
            "text/html": [
              "<pre>--------------------------------------------------------</pre>"
            ]
          },
          "metadata": {
            "tags": []
          }
        },
        {
          "output_type": "display_data",
          "data": {
            "text/plain": [
              "+-----------+----------+--------------+--------------------+----------------------+---------------------------------+-----------------------------------+"
            ],
            "text/html": [
              "<pre>+-----------+----------+--------------+--------------------+----------------------+---------------------------------+-----------------------------------+</pre>"
            ]
          },
          "metadata": {
            "tags": []
          }
        },
        {
          "output_type": "display_data",
          "data": {
            "text/plain": [
              "| Iteration | Passes   | Elapsed Time | Training Max Error | Validation Max Error | Training Root-Mean-Square Error | Validation Root-Mean-Square Error |"
            ],
            "text/html": [
              "<pre>| Iteration | Passes   | Elapsed Time | Training Max Error | Validation Max Error | Training Root-Mean-Square Error | Validation Root-Mean-Square Error |</pre>"
            ]
          },
          "metadata": {
            "tags": []
          }
        },
        {
          "output_type": "display_data",
          "data": {
            "text/plain": [
              "+-----------+----------+--------------+--------------------+----------------------+---------------------------------+-----------------------------------+"
            ],
            "text/html": [
              "<pre>+-----------+----------+--------------+--------------------+----------------------+---------------------------------+-----------------------------------+</pre>"
            ]
          },
          "metadata": {
            "tags": []
          }
        },
        {
          "output_type": "display_data",
          "data": {
            "text/plain": [
              "| 1         | 2        | 0.070553     | 4319173.218930     | 1923204.900462       | 162657.482577                   | 157822.110169                     |"
            ],
            "text/html": [
              "<pre>| 1         | 2        | 0.070553     | 4319173.218930     | 1923204.900462       | 162657.482577                   | 157822.110169                     |</pre>"
            ]
          },
          "metadata": {
            "tags": []
          }
        },
        {
          "output_type": "display_data",
          "data": {
            "text/plain": [
              "+-----------+----------+--------------+--------------------+----------------------+---------------------------------+-----------------------------------+"
            ],
            "text/html": [
              "<pre>+-----------+----------+--------------+--------------------+----------------------+---------------------------------+-----------------------------------+</pre>"
            ]
          },
          "metadata": {
            "tags": []
          }
        },
        {
          "output_type": "display_data",
          "data": {
            "text/plain": [
              "SUCCESS: Optimal solution found."
            ],
            "text/html": [
              "<pre>SUCCESS: Optimal solution found.</pre>"
            ]
          },
          "metadata": {
            "tags": []
          }
        },
        {
          "output_type": "display_data",
          "data": {
            "text/plain": [
              ""
            ],
            "text/html": [
              "<pre></pre>"
            ]
          },
          "metadata": {
            "tags": []
          }
        }
      ]
    },
    {
      "cell_type": "markdown",
      "metadata": {
        "id": "q7n_95M9NM2e",
        "colab_type": "text"
      },
      "source": [
        "# Build a model with these additional features"
      ]
    },
    {
      "cell_type": "code",
      "metadata": {
        "id": "KxPTdgD0NM2e",
        "colab_type": "code",
        "colab": {
          "base_uri": "https://localhost:8080/",
          "height": 306
        },
        "outputId": "949dcaf4-10eb-4734-f513-2ed79acb228c"
      },
      "source": [
        "my_features_model = turicreate.linear_regression.create(training_set,target='price',features=my_features)"
      ],
      "execution_count": null,
      "outputs": [
        {
          "output_type": "stream",
          "text": [
            "PROGRESS: Creating a validation set from 5 percent of training data. This may take a while.\n",
            "          You can set ``validation_set=None`` to disable validation tracking.\n",
            "\n"
          ],
          "name": "stdout"
        },
        {
          "output_type": "display_data",
          "data": {
            "text/plain": [
              "Linear regression:"
            ],
            "text/html": [
              "<pre>Linear regression:</pre>"
            ]
          },
          "metadata": {
            "tags": []
          }
        },
        {
          "output_type": "display_data",
          "data": {
            "text/plain": [
              "--------------------------------------------------------"
            ],
            "text/html": [
              "<pre>--------------------------------------------------------</pre>"
            ]
          },
          "metadata": {
            "tags": []
          }
        },
        {
          "output_type": "display_data",
          "data": {
            "text/plain": [
              "Number of examples          : 16514"
            ],
            "text/html": [
              "<pre>Number of examples          : 16514</pre>"
            ]
          },
          "metadata": {
            "tags": []
          }
        },
        {
          "output_type": "display_data",
          "data": {
            "text/plain": [
              "Number of features          : 6"
            ],
            "text/html": [
              "<pre>Number of features          : 6</pre>"
            ]
          },
          "metadata": {
            "tags": []
          }
        },
        {
          "output_type": "display_data",
          "data": {
            "text/plain": [
              "Number of unpacked features : 6"
            ],
            "text/html": [
              "<pre>Number of unpacked features : 6</pre>"
            ]
          },
          "metadata": {
            "tags": []
          }
        },
        {
          "output_type": "display_data",
          "data": {
            "text/plain": [
              "Number of coefficients    : 75"
            ],
            "text/html": [
              "<pre>Number of coefficients    : 75</pre>"
            ]
          },
          "metadata": {
            "tags": []
          }
        },
        {
          "output_type": "display_data",
          "data": {
            "text/plain": [
              "Starting Newton Method"
            ],
            "text/html": [
              "<pre>Starting Newton Method</pre>"
            ]
          },
          "metadata": {
            "tags": []
          }
        },
        {
          "output_type": "display_data",
          "data": {
            "text/plain": [
              "--------------------------------------------------------"
            ],
            "text/html": [
              "<pre>--------------------------------------------------------</pre>"
            ]
          },
          "metadata": {
            "tags": []
          }
        },
        {
          "output_type": "display_data",
          "data": {
            "text/plain": [
              "+-----------+----------+--------------+--------------------+----------------------+---------------------------------+-----------------------------------+"
            ],
            "text/html": [
              "<pre>+-----------+----------+--------------+--------------------+----------------------+---------------------------------+-----------------------------------+</pre>"
            ]
          },
          "metadata": {
            "tags": []
          }
        },
        {
          "output_type": "display_data",
          "data": {
            "text/plain": [
              "| Iteration | Passes   | Elapsed Time | Training Max Error | Validation Max Error | Training Root-Mean-Square Error | Validation Root-Mean-Square Error |"
            ],
            "text/html": [
              "<pre>| Iteration | Passes   | Elapsed Time | Training Max Error | Validation Max Error | Training Root-Mean-Square Error | Validation Root-Mean-Square Error |</pre>"
            ]
          },
          "metadata": {
            "tags": []
          }
        },
        {
          "output_type": "display_data",
          "data": {
            "text/plain": [
              "+-----------+----------+--------------+--------------------+----------------------+---------------------------------+-----------------------------------+"
            ],
            "text/html": [
              "<pre>+-----------+----------+--------------+--------------------+----------------------+---------------------------------+-----------------------------------+</pre>"
            ]
          },
          "metadata": {
            "tags": []
          }
        },
        {
          "output_type": "display_data",
          "data": {
            "text/plain": [
              "| 1         | 2        | 0.044482     | 4074771.974399     | 1353257.434574       | 190009.732710                   | 174008.875321                     |"
            ],
            "text/html": [
              "<pre>| 1         | 2        | 0.044482     | 4074771.974399     | 1353257.434574       | 190009.732710                   | 174008.875321                     |</pre>"
            ]
          },
          "metadata": {
            "tags": []
          }
        },
        {
          "output_type": "display_data",
          "data": {
            "text/plain": [
              "+-----------+----------+--------------+--------------------+----------------------+---------------------------------+-----------------------------------+"
            ],
            "text/html": [
              "<pre>+-----------+----------+--------------+--------------------+----------------------+---------------------------------+-----------------------------------+</pre>"
            ]
          },
          "metadata": {
            "tags": []
          }
        },
        {
          "output_type": "display_data",
          "data": {
            "text/plain": [
              "SUCCESS: Optimal solution found."
            ],
            "text/html": [
              "<pre>SUCCESS: Optimal solution found.</pre>"
            ]
          },
          "metadata": {
            "tags": []
          }
        },
        {
          "output_type": "display_data",
          "data": {
            "text/plain": [
              ""
            ],
            "text/html": [
              "<pre></pre>"
            ]
          },
          "metadata": {
            "tags": []
          }
        }
      ]
    },
    {
      "cell_type": "markdown",
      "metadata": {
        "id": "aXwaytXJNM2i",
        "colab_type": "text"
      },
      "source": [
        "# Compare simple model with more complex one"
      ]
    },
    {
      "cell_type": "code",
      "metadata": {
        "id": "SdESuy9HNM2j",
        "colab_type": "code",
        "colab": {
          "base_uri": "https://localhost:8080/",
          "height": 34
        },
        "outputId": "56a3db16-61be-44f7-db61-51186af60f25"
      },
      "source": [
        "print (my_features)"
      ],
      "execution_count": null,
      "outputs": [
        {
          "output_type": "stream",
          "text": [
            "['bedrooms', 'bathrooms', 'sqft_living', 'sqft_lot', 'floors', 'zipcode']\n"
          ],
          "name": "stdout"
        }
      ]
    },
    {
      "cell_type": "code",
      "metadata": {
        "id": "B9YIou9vNM2n",
        "colab_type": "code",
        "colab": {
          "base_uri": "https://localhost:8080/",
          "height": 68
        },
        "outputId": "a2feca8f-5143-4f46-c550-9bdfbb8425f0"
      },
      "source": [
        "print (sqft_model.evaluate(test_set))\n",
        "print (my_features_model.evaluate(test_set))\n",
        "print(advanced_feature_model.evaluate(test_set))"
      ],
      "execution_count": null,
      "outputs": [
        {
          "output_type": "stream",
          "text": [
            "{'max_error': 4171859.7282564295, 'rmse': 255149.43968298522}\n",
            "{'max_error': 3114523.6733259317, 'rmse': 180349.41059368494}\n",
            "{'max_error': 3165922.8148693396, 'rmse': 155386.31457314466}\n"
          ],
          "name": "stdout"
        }
      ]
    },
    {
      "cell_type": "markdown",
      "metadata": {
        "id": "G_oHXwgGNM2q",
        "colab_type": "text"
      },
      "source": [
        "# Apply learned models to make predictions"
      ]
    },
    {
      "cell_type": "code",
      "metadata": {
        "id": "JOm0OHI4NM2r",
        "colab_type": "code",
        "colab": {}
      },
      "source": [
        "house1 = sales[sales['id']=='5309101200']"
      ],
      "execution_count": null,
      "outputs": []
    },
    {
      "cell_type": "code",
      "metadata": {
        "id": "tME9rk3WNM2u",
        "colab_type": "code",
        "colab": {
          "base_uri": "https://localhost:8080/",
          "height": 188
        },
        "outputId": "ca460268-c8fe-4541-800b-5dd900e5c61e"
      },
      "source": [
        "house1"
      ],
      "execution_count": null,
      "outputs": [
        {
          "output_type": "execute_result",
          "data": {
            "text/plain": [
              "Columns:\n",
              "\tid\tstr\n",
              "\tdate\tdatetime\n",
              "\tprice\tfloat\n",
              "\tbedrooms\tfloat\n",
              "\tbathrooms\tfloat\n",
              "\tsqft_living\tfloat\n",
              "\tsqft_lot\tfloat\n",
              "\tfloors\tfloat\n",
              "\twaterfront\tint\n",
              "\tview\tint\n",
              "\tcondition\tint\n",
              "\tgrade\tfloat\n",
              "\tsqft_above\tfloat\n",
              "\tsqft_basement\tfloat\n",
              "\tyr_built\tfloat\n",
              "\tyr_renovated\tfloat\n",
              "\tzipcode\tstr\n",
              "\tlat\tfloat\n",
              "\tlong\tfloat\n",
              "\tsqft_living15\tfloat\n",
              "\tsqft_lot15\tfloat\n",
              "\n",
              "Rows: Unknown\n",
              "\n",
              "Data:\n",
              "+------------+---------------------------+----------+----------+-----------+\n",
              "|     id     |            date           |  price   | bedrooms | bathrooms |\n",
              "+------------+---------------------------+----------+----------+-----------+\n",
              "| 5309101200 | 2014-06-05 00:00:00+00:00 | 620000.0 |   4.0    |    2.25   |\n",
              "+------------+---------------------------+----------+----------+-----------+\n",
              "+-------------+----------+--------+------------+------+-----------+-------+\n",
              "| sqft_living | sqft_lot | floors | waterfront | view | condition | grade |\n",
              "+-------------+----------+--------+------------+------+-----------+-------+\n",
              "|    2400.0   |  5350.0  |  1.5   |     0      |  0   |     4     |  7.0  |\n",
              "+-------------+----------+--------+------------+------+-----------+-------+\n",
              "+------------+---------------+----------+--------------+---------+-------------+\n",
              "| sqft_above | sqft_basement | yr_built | yr_renovated | zipcode |     lat     |\n",
              "+------------+---------------+----------+--------------+---------+-------------+\n",
              "|   1460.0   |     940.0     |  1929.0  |     0.0      |  98117  | 47.67632376 |\n",
              "+------------+---------------+----------+--------------+---------+-------------+\n",
              "+---------------+---------------+-----+\n",
              "|      long     | sqft_living15 | ... |\n",
              "+---------------+---------------+-----+\n",
              "| -122.37010126 |     1250.0    | ... |\n",
              "+---------------+---------------+-----+\n",
              "[? rows x 21 columns]\n",
              "Note: Only the head of the SFrame is printed. This SFrame is lazily evaluated.\n",
              "You can use sf.materialize() to force materialization."
            ],
            "text/html": [
              "<div style=\"max-height:1000px;max-width:1500px;overflow:auto;\"><table frame=\"box\" rules=\"cols\">\n",
              "    <tr>\n",
              "        <th style=\"padding-left: 1em; padding-right: 1em; text-align: center\">id</th>\n",
              "        <th style=\"padding-left: 1em; padding-right: 1em; text-align: center\">date</th>\n",
              "        <th style=\"padding-left: 1em; padding-right: 1em; text-align: center\">price</th>\n",
              "        <th style=\"padding-left: 1em; padding-right: 1em; text-align: center\">bedrooms</th>\n",
              "        <th style=\"padding-left: 1em; padding-right: 1em; text-align: center\">bathrooms</th>\n",
              "        <th style=\"padding-left: 1em; padding-right: 1em; text-align: center\">sqft_living</th>\n",
              "        <th style=\"padding-left: 1em; padding-right: 1em; text-align: center\">sqft_lot</th>\n",
              "        <th style=\"padding-left: 1em; padding-right: 1em; text-align: center\">floors</th>\n",
              "        <th style=\"padding-left: 1em; padding-right: 1em; text-align: center\">waterfront</th>\n",
              "    </tr>\n",
              "    <tr>\n",
              "        <td style=\"padding-left: 1em; padding-right: 1em; text-align: center; vertical-align: top\">5309101200</td>\n",
              "        <td style=\"padding-left: 1em; padding-right: 1em; text-align: center; vertical-align: top\">2014-06-05 00:00:00+00:00</td>\n",
              "        <td style=\"padding-left: 1em; padding-right: 1em; text-align: center; vertical-align: top\">620000.0</td>\n",
              "        <td style=\"padding-left: 1em; padding-right: 1em; text-align: center; vertical-align: top\">4.0</td>\n",
              "        <td style=\"padding-left: 1em; padding-right: 1em; text-align: center; vertical-align: top\">2.25</td>\n",
              "        <td style=\"padding-left: 1em; padding-right: 1em; text-align: center; vertical-align: top\">2400.0</td>\n",
              "        <td style=\"padding-left: 1em; padding-right: 1em; text-align: center; vertical-align: top\">5350.0</td>\n",
              "        <td style=\"padding-left: 1em; padding-right: 1em; text-align: center; vertical-align: top\">1.5</td>\n",
              "        <td style=\"padding-left: 1em; padding-right: 1em; text-align: center; vertical-align: top\">0</td>\n",
              "    </tr>\n",
              "</table>\n",
              "<table frame=\"box\" rules=\"cols\">\n",
              "    <tr>\n",
              "        <th style=\"padding-left: 1em; padding-right: 1em; text-align: center\">view</th>\n",
              "        <th style=\"padding-left: 1em; padding-right: 1em; text-align: center\">condition</th>\n",
              "        <th style=\"padding-left: 1em; padding-right: 1em; text-align: center\">grade</th>\n",
              "        <th style=\"padding-left: 1em; padding-right: 1em; text-align: center\">sqft_above</th>\n",
              "        <th style=\"padding-left: 1em; padding-right: 1em; text-align: center\">sqft_basement</th>\n",
              "        <th style=\"padding-left: 1em; padding-right: 1em; text-align: center\">yr_built</th>\n",
              "        <th style=\"padding-left: 1em; padding-right: 1em; text-align: center\">yr_renovated</th>\n",
              "        <th style=\"padding-left: 1em; padding-right: 1em; text-align: center\">zipcode</th>\n",
              "        <th style=\"padding-left: 1em; padding-right: 1em; text-align: center\">lat</th>\n",
              "    </tr>\n",
              "    <tr>\n",
              "        <td style=\"padding-left: 1em; padding-right: 1em; text-align: center; vertical-align: top\">0</td>\n",
              "        <td style=\"padding-left: 1em; padding-right: 1em; text-align: center; vertical-align: top\">4</td>\n",
              "        <td style=\"padding-left: 1em; padding-right: 1em; text-align: center; vertical-align: top\">7.0</td>\n",
              "        <td style=\"padding-left: 1em; padding-right: 1em; text-align: center; vertical-align: top\">1460.0</td>\n",
              "        <td style=\"padding-left: 1em; padding-right: 1em; text-align: center; vertical-align: top\">940.0</td>\n",
              "        <td style=\"padding-left: 1em; padding-right: 1em; text-align: center; vertical-align: top\">1929.0</td>\n",
              "        <td style=\"padding-left: 1em; padding-right: 1em; text-align: center; vertical-align: top\">0.0</td>\n",
              "        <td style=\"padding-left: 1em; padding-right: 1em; text-align: center; vertical-align: top\">98117</td>\n",
              "        <td style=\"padding-left: 1em; padding-right: 1em; text-align: center; vertical-align: top\">47.67632376</td>\n",
              "    </tr>\n",
              "</table>\n",
              "<table frame=\"box\" rules=\"cols\">\n",
              "    <tr>\n",
              "        <th style=\"padding-left: 1em; padding-right: 1em; text-align: center\">long</th>\n",
              "        <th style=\"padding-left: 1em; padding-right: 1em; text-align: center\">sqft_living15</th>\n",
              "        <th style=\"padding-left: 1em; padding-right: 1em; text-align: center\">sqft_lot15</th>\n",
              "    </tr>\n",
              "    <tr>\n",
              "        <td style=\"padding-left: 1em; padding-right: 1em; text-align: center; vertical-align: top\">-122.37010126</td>\n",
              "        <td style=\"padding-left: 1em; padding-right: 1em; text-align: center; vertical-align: top\">1250.0</td>\n",
              "        <td style=\"padding-left: 1em; padding-right: 1em; text-align: center; vertical-align: top\">4880.0</td>\n",
              "    </tr>\n",
              "</table>\n",
              "[? rows x 21 columns]<br/>Note: Only the head of the SFrame is printed. This SFrame is lazily evaluated.<br/>You can use sf.materialize() to force materialization.\n",
              "</div>"
            ]
          },
          "metadata": {
            "tags": []
          },
          "execution_count": 22
        }
      ]
    },
    {
      "cell_type": "markdown",
      "metadata": {
        "id": "8hw2gAtkNM2y",
        "colab_type": "text"
      },
      "source": [
        "<img src=\"http://blue.kingcounty.com/Assessor/eRealProperty/MediaHandler.aspx?Media=2916871\">"
      ]
    },
    {
      "cell_type": "code",
      "metadata": {
        "id": "KMDW6e8QNM2y",
        "colab_type": "code",
        "colab": {
          "base_uri": "https://localhost:8080/",
          "height": 34
        },
        "outputId": "aa09f639-4dfa-4413-efe7-395e1a4b9526"
      },
      "source": [
        "print (house1['price'])"
      ],
      "execution_count": null,
      "outputs": [
        {
          "output_type": "stream",
          "text": [
            "[620000.0, ... ]\n"
          ],
          "name": "stdout"
        }
      ]
    },
    {
      "cell_type": "code",
      "metadata": {
        "id": "gtR5IZMnNM22",
        "colab_type": "code",
        "colab": {
          "base_uri": "https://localhost:8080/",
          "height": 34
        },
        "outputId": "9cd4a868-c9af-427d-8239-9440aca131cd"
      },
      "source": [
        "print (sqft_model.predict(house1))"
      ],
      "execution_count": null,
      "outputs": [
        {
          "output_type": "stream",
          "text": [
            "[627441.8194196462]\n"
          ],
          "name": "stdout"
        }
      ]
    },
    {
      "cell_type": "code",
      "metadata": {
        "id": "pcRGhEWfNM25",
        "colab_type": "code",
        "colab": {
          "base_uri": "https://localhost:8080/",
          "height": 34
        },
        "outputId": "fa62daad-47c6-47be-c20c-66e04eb72663"
      },
      "source": [
        "print (my_features_model.predict(house1))"
      ],
      "execution_count": null,
      "outputs": [
        {
          "output_type": "stream",
          "text": [
            "[727284.0066448231]\n"
          ],
          "name": "stdout"
        }
      ]
    },
    {
      "cell_type": "markdown",
      "metadata": {
        "id": "sIslvbgbNM29",
        "colab_type": "text"
      },
      "source": [
        "## Prediction for a second house, a fancier one"
      ]
    },
    {
      "cell_type": "code",
      "metadata": {
        "id": "UeegFpCANM2-",
        "colab_type": "code",
        "colab": {}
      },
      "source": [
        "house2 = sales[sales['id']=='1925069082']"
      ],
      "execution_count": null,
      "outputs": []
    },
    {
      "cell_type": "code",
      "metadata": {
        "id": "4DuASb-wNM3B",
        "colab_type": "code",
        "colab": {
          "base_uri": "https://localhost:8080/",
          "height": 188
        },
        "outputId": "22814b8b-d609-4d4d-eecf-e851d5fa0577"
      },
      "source": [
        "house2"
      ],
      "execution_count": null,
      "outputs": [
        {
          "output_type": "execute_result",
          "data": {
            "text/plain": [
              "Columns:\n",
              "\tid\tstr\n",
              "\tdate\tdatetime\n",
              "\tprice\tfloat\n",
              "\tbedrooms\tfloat\n",
              "\tbathrooms\tfloat\n",
              "\tsqft_living\tfloat\n",
              "\tsqft_lot\tfloat\n",
              "\tfloors\tfloat\n",
              "\twaterfront\tint\n",
              "\tview\tint\n",
              "\tcondition\tint\n",
              "\tgrade\tfloat\n",
              "\tsqft_above\tfloat\n",
              "\tsqft_basement\tfloat\n",
              "\tyr_built\tfloat\n",
              "\tyr_renovated\tfloat\n",
              "\tzipcode\tstr\n",
              "\tlat\tfloat\n",
              "\tlong\tfloat\n",
              "\tsqft_living15\tfloat\n",
              "\tsqft_lot15\tfloat\n",
              "\n",
              "Rows: Unknown\n",
              "\n",
              "Data:\n",
              "+------------+---------------------------+-----------+----------+-----------+\n",
              "|     id     |            date           |   price   | bedrooms | bathrooms |\n",
              "+------------+---------------------------+-----------+----------+-----------+\n",
              "| 1925069082 | 2015-05-11 00:00:00+00:00 | 2200000.0 |   5.0    |    4.25   |\n",
              "+------------+---------------------------+-----------+----------+-----------+\n",
              "+-------------+----------+--------+------------+------+-----------+-------+\n",
              "| sqft_living | sqft_lot | floors | waterfront | view | condition | grade |\n",
              "+-------------+----------+--------+------------+------+-----------+-------+\n",
              "|    4640.0   | 22703.0  |  2.0   |     1      |  4   |     5     |  8.0  |\n",
              "+-------------+----------+--------+------------+------+-----------+-------+\n",
              "+------------+---------------+----------+--------------+---------+-------------+\n",
              "| sqft_above | sqft_basement | yr_built | yr_renovated | zipcode |     lat     |\n",
              "+------------+---------------+----------+--------------+---------+-------------+\n",
              "|   2860.0   |     1780.0    |  1952.0  |     0.0      |  98052  | 47.63925783 |\n",
              "+------------+---------------+----------+--------------+---------+-------------+\n",
              "+---------------+---------------+-----+\n",
              "|      long     | sqft_living15 | ... |\n",
              "+---------------+---------------+-----+\n",
              "| -122.09722322 |     3140.0    | ... |\n",
              "+---------------+---------------+-----+\n",
              "[? rows x 21 columns]\n",
              "Note: Only the head of the SFrame is printed. This SFrame is lazily evaluated.\n",
              "You can use sf.materialize() to force materialization."
            ],
            "text/html": [
              "<div style=\"max-height:1000px;max-width:1500px;overflow:auto;\"><table frame=\"box\" rules=\"cols\">\n",
              "    <tr>\n",
              "        <th style=\"padding-left: 1em; padding-right: 1em; text-align: center\">id</th>\n",
              "        <th style=\"padding-left: 1em; padding-right: 1em; text-align: center\">date</th>\n",
              "        <th style=\"padding-left: 1em; padding-right: 1em; text-align: center\">price</th>\n",
              "        <th style=\"padding-left: 1em; padding-right: 1em; text-align: center\">bedrooms</th>\n",
              "        <th style=\"padding-left: 1em; padding-right: 1em; text-align: center\">bathrooms</th>\n",
              "        <th style=\"padding-left: 1em; padding-right: 1em; text-align: center\">sqft_living</th>\n",
              "        <th style=\"padding-left: 1em; padding-right: 1em; text-align: center\">sqft_lot</th>\n",
              "        <th style=\"padding-left: 1em; padding-right: 1em; text-align: center\">floors</th>\n",
              "        <th style=\"padding-left: 1em; padding-right: 1em; text-align: center\">waterfront</th>\n",
              "    </tr>\n",
              "    <tr>\n",
              "        <td style=\"padding-left: 1em; padding-right: 1em; text-align: center; vertical-align: top\">1925069082</td>\n",
              "        <td style=\"padding-left: 1em; padding-right: 1em; text-align: center; vertical-align: top\">2015-05-11 00:00:00+00:00</td>\n",
              "        <td style=\"padding-left: 1em; padding-right: 1em; text-align: center; vertical-align: top\">2200000.0</td>\n",
              "        <td style=\"padding-left: 1em; padding-right: 1em; text-align: center; vertical-align: top\">5.0</td>\n",
              "        <td style=\"padding-left: 1em; padding-right: 1em; text-align: center; vertical-align: top\">4.25</td>\n",
              "        <td style=\"padding-left: 1em; padding-right: 1em; text-align: center; vertical-align: top\">4640.0</td>\n",
              "        <td style=\"padding-left: 1em; padding-right: 1em; text-align: center; vertical-align: top\">22703.0</td>\n",
              "        <td style=\"padding-left: 1em; padding-right: 1em; text-align: center; vertical-align: top\">2.0</td>\n",
              "        <td style=\"padding-left: 1em; padding-right: 1em; text-align: center; vertical-align: top\">1</td>\n",
              "    </tr>\n",
              "</table>\n",
              "<table frame=\"box\" rules=\"cols\">\n",
              "    <tr>\n",
              "        <th style=\"padding-left: 1em; padding-right: 1em; text-align: center\">view</th>\n",
              "        <th style=\"padding-left: 1em; padding-right: 1em; text-align: center\">condition</th>\n",
              "        <th style=\"padding-left: 1em; padding-right: 1em; text-align: center\">grade</th>\n",
              "        <th style=\"padding-left: 1em; padding-right: 1em; text-align: center\">sqft_above</th>\n",
              "        <th style=\"padding-left: 1em; padding-right: 1em; text-align: center\">sqft_basement</th>\n",
              "        <th style=\"padding-left: 1em; padding-right: 1em; text-align: center\">yr_built</th>\n",
              "        <th style=\"padding-left: 1em; padding-right: 1em; text-align: center\">yr_renovated</th>\n",
              "        <th style=\"padding-left: 1em; padding-right: 1em; text-align: center\">zipcode</th>\n",
              "        <th style=\"padding-left: 1em; padding-right: 1em; text-align: center\">lat</th>\n",
              "    </tr>\n",
              "    <tr>\n",
              "        <td style=\"padding-left: 1em; padding-right: 1em; text-align: center; vertical-align: top\">4</td>\n",
              "        <td style=\"padding-left: 1em; padding-right: 1em; text-align: center; vertical-align: top\">5</td>\n",
              "        <td style=\"padding-left: 1em; padding-right: 1em; text-align: center; vertical-align: top\">8.0</td>\n",
              "        <td style=\"padding-left: 1em; padding-right: 1em; text-align: center; vertical-align: top\">2860.0</td>\n",
              "        <td style=\"padding-left: 1em; padding-right: 1em; text-align: center; vertical-align: top\">1780.0</td>\n",
              "        <td style=\"padding-left: 1em; padding-right: 1em; text-align: center; vertical-align: top\">1952.0</td>\n",
              "        <td style=\"padding-left: 1em; padding-right: 1em; text-align: center; vertical-align: top\">0.0</td>\n",
              "        <td style=\"padding-left: 1em; padding-right: 1em; text-align: center; vertical-align: top\">98052</td>\n",
              "        <td style=\"padding-left: 1em; padding-right: 1em; text-align: center; vertical-align: top\">47.63925783</td>\n",
              "    </tr>\n",
              "</table>\n",
              "<table frame=\"box\" rules=\"cols\">\n",
              "    <tr>\n",
              "        <th style=\"padding-left: 1em; padding-right: 1em; text-align: center\">long</th>\n",
              "        <th style=\"padding-left: 1em; padding-right: 1em; text-align: center\">sqft_living15</th>\n",
              "        <th style=\"padding-left: 1em; padding-right: 1em; text-align: center\">sqft_lot15</th>\n",
              "    </tr>\n",
              "    <tr>\n",
              "        <td style=\"padding-left: 1em; padding-right: 1em; text-align: center; vertical-align: top\">-122.09722322</td>\n",
              "        <td style=\"padding-left: 1em; padding-right: 1em; text-align: center; vertical-align: top\">3140.0</td>\n",
              "        <td style=\"padding-left: 1em; padding-right: 1em; text-align: center; vertical-align: top\">14200.0</td>\n",
              "    </tr>\n",
              "</table>\n",
              "[? rows x 21 columns]<br/>Note: Only the head of the SFrame is printed. This SFrame is lazily evaluated.<br/>You can use sf.materialize() to force materialization.\n",
              "</div>"
            ]
          },
          "metadata": {
            "tags": []
          },
          "execution_count": 27
        }
      ]
    },
    {
      "cell_type": "markdown",
      "metadata": {
        "id": "xXzeeAM0NM3H",
        "colab_type": "text"
      },
      "source": [
        "<img src=\"https://ssl.cdn-redfin.com/photo/1/bigphoto/302/734302_0.jpg\">"
      ]
    },
    {
      "cell_type": "code",
      "metadata": {
        "id": "yqmpSR2PNM3I",
        "colab_type": "code",
        "colab": {
          "base_uri": "https://localhost:8080/",
          "height": 34
        },
        "outputId": "6986cacd-e831-48eb-d1e4-13ec47f68e98"
      },
      "source": [
        "print (sqft_model.predict(house2))"
      ],
      "execution_count": null,
      "outputs": [
        {
          "output_type": "stream",
          "text": [
            "[1251202.104226801]\n"
          ],
          "name": "stdout"
        }
      ]
    },
    {
      "cell_type": "code",
      "metadata": {
        "id": "7IBlkmafNM3M",
        "colab_type": "code",
        "colab": {
          "base_uri": "https://localhost:8080/",
          "height": 34
        },
        "outputId": "fe4a6a8b-e6b5-41c5-b3b6-b3a3e100a7f4"
      },
      "source": [
        "print (my_features_model.predict(house2))"
      ],
      "execution_count": null,
      "outputs": [
        {
          "output_type": "stream",
          "text": [
            "[1234338.1208813358]\n"
          ],
          "name": "stdout"
        }
      ]
    },
    {
      "cell_type": "markdown",
      "metadata": {
        "id": "6iPYXzoHNM3Q",
        "colab_type": "text"
      },
      "source": [
        "## Prediction for a super fancy home"
      ]
    },
    {
      "cell_type": "code",
      "metadata": {
        "id": "4k5fbvywNM3R",
        "colab_type": "code",
        "colab": {}
      },
      "source": [
        "bill_gates = {'bedrooms':[8], \n",
        "              'bathrooms':[25], \n",
        "              'sqft_living':[50000], \n",
        "              'sqft_lot':[225000],\n",
        "              'floors':[4], \n",
        "              'zipcode':['98039'], \n",
        "              'condition':[10], \n",
        "              'grade':[10],\n",
        "              'waterfront':[1],\n",
        "              'view':[4],\n",
        "              'sqft_above':[37500],\n",
        "              'sqft_basement':[12500],\n",
        "              'yr_built':[1994],\n",
        "              'yr_renovated':[2010],\n",
        "              'lat':[47.627606],\n",
        "              'long':[-122.242054],\n",
        "              'sqft_living15':[5000],\n",
        "              'sqft_lot15':[40000]}"
      ],
      "execution_count": null,
      "outputs": []
    },
    {
      "cell_type": "markdown",
      "metadata": {
        "id": "AOGoLO__NM3U",
        "colab_type": "text"
      },
      "source": [
        "<img src=\"https://upload.wikimedia.org/wikipedia/commons/2/26/Residence_of_Bill_Gates.jpg\">"
      ]
    },
    {
      "cell_type": "code",
      "metadata": {
        "id": "_0rLZ9D5NM3V",
        "colab_type": "code",
        "colab": {
          "base_uri": "https://localhost:8080/",
          "height": 34
        },
        "outputId": "f51314b4-14f9-465f-dfa7-370691ff5aa5"
      },
      "source": [
        "print (my_features_model.predict(turicreate.SFrame(bill_gates)))"
      ],
      "execution_count": null,
      "outputs": [
        {
          "output_type": "stream",
          "text": [
            "[15091408.807376185]\n"
          ],
          "name": "stdout"
        }
      ]
    },
    {
      "cell_type": "code",
      "metadata": {
        "id": "AZJyRD4vNM3Z",
        "colab_type": "code",
        "colab": {}
      },
      "source": [
        ""
      ],
      "execution_count": null,
      "outputs": []
    }
  ]
}